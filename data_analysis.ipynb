{
 "cells": [
  {
   "cell_type": "markdown",
   "metadata": {},
   "source": [
    "# Данные"
   ]
  },
  {
   "cell_type": "markdown",
   "metadata": {},
   "source": [
    "Данные в файле covid_flow.pkl\n",
    "Данные включают поток пациентов с подтвержденным COVID-19 в ковидные стационары НИМЦ\n",
    "Алмазова, Санкт-Петербург."
   ]
  },
  {
   "cell_type": "markdown",
   "metadata": {},
   "source": [
    "Датасет включает 1992 случая стационарного лечения COVID-19. Данные включают\n",
    "\n",
    "•\n",
    "Многомерные временные ряды, описывающие состояние пациента (интервал неделя)\n",
    "\n",
    "•\n",
    "План лечения (препараты и процедуры) для каждого пациента\n",
    "\n",
    "•\n",
    "Исходы лечения"
   ]
  },
  {
   "cell_type": "markdown",
   "metadata": {},
   "source": [
    "Процесс стационарного лечения включает в себя два подпроцесса – контролирующий и контролируемый. \n",
    "\n",
    "Контролирующий –\n",
    "назначение препаратов и процедур. \n",
    "Контролируемый – процесс изменения состояния пациентов.\n",
    "\n",
    "Процесс лечения\n",
    "включает в себя контролирующий процесс (назначение препарат и процедур) и контролируемый\n",
    "процесс (процесс изменения состояния пациентов)"
   ]
  },
  {
   "cell_type": "markdown",
   "metadata": {},
   "source": [
    "_stat_control – стационарные признаки, которые описывают контролирующий\n",
    "процесс и не меняются (в covid_flow это бинарные признаки включения 1 или\n",
    "невключения 0 препарата в план лечения)\n",
    "\n",
    "_dinam_control – динамические признаки, которые описывают контролирующий\n",
    "процесс и меняются (в covid_flow это бинарные признаки включения 1 или\n",
    "невключения 0 процедуры в план лечения)\n",
    "\n",
    "_stat_fact – стационарные признаки, которые описывают контролируемый процесс\n",
    "и не меняются (в covid_flow это признаки, описывающие пациентов, пол, возраст, и\n",
    "все остальное что не меняется)\n",
    "\n",
    "_dinam_fact – динамические признаки, которые описывают контролирующий\n",
    "процесс и меняются (в covid_flow это признаки описывающие состояние\n",
    "пациентов, например температура, % поражения легких и другое)\n",
    "\n",
    "t_point – индикатор временного интервала. Вся длительность процесса разбита на\n",
    "равные интервалы времени, t_point – метка интервала.\n",
    "\n",
    "end_epizode – индикатор конца процесса, 0 – процесс лечения не окончен в\n",
    "данном t_point, 1 – окончен\n",
    "\n",
    "case (index) – уникальный идентификатор наблюдения (процесса), пример –\n",
    "«GACAk+Q»\n",
    "\n",
    "long_observation_tar – длинна процесса\n",
    "\n",
    "current_process_duration – текущая длинна процесса (на момент t_point)\n",
    "\n",
    "outcome_tar – исход лечения, 1- летальный, 0 – выздоровление."
   ]
  },
  {
   "cell_type": "markdown",
   "metadata": {},
   "source": [
    "# Прогноза значения индикатора пациента\n",
    "Прогноз проходит в следующем периоде по иформации о\n",
    "текущем состоянии и предыдущих состояниях. \n",
    "Таргеты – признаки с префиксами\n",
    "_dinam_fact. \n",
    "Факторы – все признаки кроме тех что с префиксами _tar. \n",
    "\n",
    "1) Для начала нужен литературный обзор существующих методов. \n",
    "2) Далее берешь пару существующих методов, пробуешь применить и переложить на данные. Хочется чтобы были попробованны рекурентные нейронные сети, и AutoML подход Fedot\n",
    ")(https://github.com/nccr-itmo/FEDOT), но в целом ограничений на методы нет. \n",
    "3) На выходе нужен класс, который умеет принимать информацию о прошлых состояниях пациента, и\n",
    "прогнозировать следующее. Читаемость и чистота кода крайне приветствуется. "
   ]
  },
  {
   "cell_type": "code",
   "execution_count": 464,
   "metadata": {},
   "outputs": [],
   "source": [
    "import numpy as np\n",
    "import matplotlib.pyplot as plt\n",
    "import pandas as pd\n",
    "import seaborn as sns\n",
    "import warnings\n",
    "warnings.filterwarnings('ignore')\n",
    "from time import time\n",
    "from scipy import stats\n",
    "from statsmodels.tsa.stattools import adfuller\n",
    "from sklearn import preprocessing\n",
    "from statsmodels.tsa.stattools import pacf\n",
    "%matplotlib inline\n",
    "\n",
    "import math\n",
    "import keras\n",
    "import pickle\n",
    "from keras.models import Sequential\n",
    "from keras.layers import Dense\n",
    "from keras.layers import LSTM\n",
    "from keras.layers import Dropout\n",
    "from keras.layers import *\n",
    "\n",
    "from sklearn.preprocessing import MinMaxScaler\n",
    "from sklearn.preprocessing import StandardScaler\n",
    "\n",
    "from sklearn.metrics import mean_squared_error\n",
    "from sklearn.metrics import mean_absolute_error\n",
    "from sklearn.model_selection import train_test_split\n",
    "\n",
    "from keras.callbacks import EarlyStopping\n",
    "from keras.callbacks import ModelCheckpoint\n",
    "\n",
    "from keras.metrics import RootMeanSquaredError\n",
    "from tensorflow_addons.metrics import RSquare\n"
   ]
  },
  {
   "cell_type": "code",
   "execution_count": 465,
   "metadata": {},
   "outputs": [
    {
     "data": {
      "text/html": [
       "<div>\n",
       "<style scoped>\n",
       "    .dataframe tbody tr th:only-of-type {\n",
       "        vertical-align: middle;\n",
       "    }\n",
       "\n",
       "    .dataframe tbody tr th {\n",
       "        vertical-align: top;\n",
       "    }\n",
       "\n",
       "    .dataframe thead th {\n",
       "        text-align: right;\n",
       "    }\n",
       "</style>\n",
       "<table border=\"1\" class=\"dataframe\">\n",
       "  <thead>\n",
       "    <tr style=\"text-align: right;\">\n",
       "      <th></th>\n",
       "      <th></th>\n",
       "      <th>омепразол_stat_control</th>\n",
       "      <th>надропарин кальция_stat_control</th>\n",
       "      <th>эзомепразол_stat_control</th>\n",
       "      <th>амлодипин_stat_control</th>\n",
       "      <th>амброксол_stat_control</th>\n",
       "      <th>домперидон_stat_control</th>\n",
       "      <th>меброфенин_stat_control</th>\n",
       "      <th>технеций_stat_control</th>\n",
       "      <th>мометазон_stat_control</th>\n",
       "      <th>бисопролол_stat_control</th>\n",
       "      <th>...</th>\n",
       "      <th>трансфузия_dinam_control</th>\n",
       "      <th>оксигенотерапия_dinam_control</th>\n",
       "      <th>НИВЛ_dinam_control</th>\n",
       "      <th>ИВЛ_dinam_control</th>\n",
       "      <th>long_observation_tar</th>\n",
       "      <th>outcome_tar</th>\n",
       "      <th>process_stages</th>\n",
       "      <th>current_process_duration</th>\n",
       "      <th>admission_date</th>\n",
       "      <th>end_epizode</th>\n",
       "    </tr>\n",
       "    <tr>\n",
       "      <th>case</th>\n",
       "      <th>t_point</th>\n",
       "      <th></th>\n",
       "      <th></th>\n",
       "      <th></th>\n",
       "      <th></th>\n",
       "      <th></th>\n",
       "      <th></th>\n",
       "      <th></th>\n",
       "      <th></th>\n",
       "      <th></th>\n",
       "      <th></th>\n",
       "      <th></th>\n",
       "      <th></th>\n",
       "      <th></th>\n",
       "      <th></th>\n",
       "      <th></th>\n",
       "      <th></th>\n",
       "      <th></th>\n",
       "      <th></th>\n",
       "      <th></th>\n",
       "      <th></th>\n",
       "      <th></th>\n",
       "    </tr>\n",
       "  </thead>\n",
       "  <tbody>\n",
       "    <tr>\n",
       "      <th rowspan=\"4\" valign=\"top\">GACAAcY</th>\n",
       "      <th>0</th>\n",
       "      <td>1</td>\n",
       "      <td>1</td>\n",
       "      <td>1</td>\n",
       "      <td>1</td>\n",
       "      <td>1</td>\n",
       "      <td>1</td>\n",
       "      <td>1</td>\n",
       "      <td>1</td>\n",
       "      <td>1</td>\n",
       "      <td>1</td>\n",
       "      <td>...</td>\n",
       "      <td>0</td>\n",
       "      <td>1</td>\n",
       "      <td>0</td>\n",
       "      <td>0</td>\n",
       "      <td>22</td>\n",
       "      <td>0</td>\n",
       "      <td>2</td>\n",
       "      <td>3</td>\n",
       "      <td>2021-01-29</td>\n",
       "      <td>0</td>\n",
       "    </tr>\n",
       "    <tr>\n",
       "      <th>1</th>\n",
       "      <td>1</td>\n",
       "      <td>1</td>\n",
       "      <td>1</td>\n",
       "      <td>1</td>\n",
       "      <td>1</td>\n",
       "      <td>1</td>\n",
       "      <td>1</td>\n",
       "      <td>1</td>\n",
       "      <td>1</td>\n",
       "      <td>1</td>\n",
       "      <td>...</td>\n",
       "      <td>0</td>\n",
       "      <td>1</td>\n",
       "      <td>0</td>\n",
       "      <td>0</td>\n",
       "      <td>22</td>\n",
       "      <td>0</td>\n",
       "      <td>2</td>\n",
       "      <td>10</td>\n",
       "      <td>2021-01-29</td>\n",
       "      <td>0</td>\n",
       "    </tr>\n",
       "    <tr>\n",
       "      <th>2</th>\n",
       "      <td>1</td>\n",
       "      <td>1</td>\n",
       "      <td>1</td>\n",
       "      <td>1</td>\n",
       "      <td>1</td>\n",
       "      <td>1</td>\n",
       "      <td>1</td>\n",
       "      <td>1</td>\n",
       "      <td>1</td>\n",
       "      <td>1</td>\n",
       "      <td>...</td>\n",
       "      <td>0</td>\n",
       "      <td>1</td>\n",
       "      <td>0</td>\n",
       "      <td>0</td>\n",
       "      <td>22</td>\n",
       "      <td>0</td>\n",
       "      <td>2</td>\n",
       "      <td>17</td>\n",
       "      <td>2021-01-29</td>\n",
       "      <td>0</td>\n",
       "    </tr>\n",
       "    <tr>\n",
       "      <th>3</th>\n",
       "      <td>1</td>\n",
       "      <td>1</td>\n",
       "      <td>1</td>\n",
       "      <td>1</td>\n",
       "      <td>1</td>\n",
       "      <td>1</td>\n",
       "      <td>1</td>\n",
       "      <td>1</td>\n",
       "      <td>1</td>\n",
       "      <td>1</td>\n",
       "      <td>...</td>\n",
       "      <td>0</td>\n",
       "      <td>1</td>\n",
       "      <td>0</td>\n",
       "      <td>0</td>\n",
       "      <td>22</td>\n",
       "      <td>0</td>\n",
       "      <td>2</td>\n",
       "      <td>24</td>\n",
       "      <td>2021-01-29</td>\n",
       "      <td>1</td>\n",
       "    </tr>\n",
       "    <tr>\n",
       "      <th>GACAAnf</th>\n",
       "      <th>0</th>\n",
       "      <td>1</td>\n",
       "      <td>1</td>\n",
       "      <td>1</td>\n",
       "      <td>1</td>\n",
       "      <td>1</td>\n",
       "      <td>1</td>\n",
       "      <td>1</td>\n",
       "      <td>1</td>\n",
       "      <td>1</td>\n",
       "      <td>1</td>\n",
       "      <td>...</td>\n",
       "      <td>0</td>\n",
       "      <td>0</td>\n",
       "      <td>0</td>\n",
       "      <td>0</td>\n",
       "      <td>6</td>\n",
       "      <td>0</td>\n",
       "      <td>1_2</td>\n",
       "      <td>3</td>\n",
       "      <td>2020-06-06</td>\n",
       "      <td>0</td>\n",
       "    </tr>\n",
       "    <tr>\n",
       "      <th>...</th>\n",
       "      <th>...</th>\n",
       "      <td>...</td>\n",
       "      <td>...</td>\n",
       "      <td>...</td>\n",
       "      <td>...</td>\n",
       "      <td>...</td>\n",
       "      <td>...</td>\n",
       "      <td>...</td>\n",
       "      <td>...</td>\n",
       "      <td>...</td>\n",
       "      <td>...</td>\n",
       "      <td>...</td>\n",
       "      <td>...</td>\n",
       "      <td>...</td>\n",
       "      <td>...</td>\n",
       "      <td>...</td>\n",
       "      <td>...</td>\n",
       "      <td>...</td>\n",
       "      <td>...</td>\n",
       "      <td>...</td>\n",
       "      <td>...</td>\n",
       "      <td>...</td>\n",
       "    </tr>\n",
       "    <tr>\n",
       "      <th rowspan=\"2\" valign=\"top\">GACBB;O</th>\n",
       "      <th>0</th>\n",
       "      <td>0</td>\n",
       "      <td>0</td>\n",
       "      <td>0</td>\n",
       "      <td>1</td>\n",
       "      <td>1</td>\n",
       "      <td>0</td>\n",
       "      <td>0</td>\n",
       "      <td>0</td>\n",
       "      <td>0</td>\n",
       "      <td>1</td>\n",
       "      <td>...</td>\n",
       "      <td>0</td>\n",
       "      <td>0</td>\n",
       "      <td>0</td>\n",
       "      <td>0</td>\n",
       "      <td>6</td>\n",
       "      <td>0</td>\n",
       "      <td>2</td>\n",
       "      <td>3</td>\n",
       "      <td>2021-01-04</td>\n",
       "      <td>0</td>\n",
       "    </tr>\n",
       "    <tr>\n",
       "      <th>1</th>\n",
       "      <td>0</td>\n",
       "      <td>0</td>\n",
       "      <td>0</td>\n",
       "      <td>1</td>\n",
       "      <td>1</td>\n",
       "      <td>0</td>\n",
       "      <td>0</td>\n",
       "      <td>0</td>\n",
       "      <td>0</td>\n",
       "      <td>1</td>\n",
       "      <td>...</td>\n",
       "      <td>0</td>\n",
       "      <td>0</td>\n",
       "      <td>0</td>\n",
       "      <td>0</td>\n",
       "      <td>6</td>\n",
       "      <td>0</td>\n",
       "      <td>2</td>\n",
       "      <td>10</td>\n",
       "      <td>2021-01-04</td>\n",
       "      <td>1</td>\n",
       "    </tr>\n",
       "    <tr>\n",
       "      <th rowspan=\"3\" valign=\"top\">GACXAAB</th>\n",
       "      <th>0</th>\n",
       "      <td>1</td>\n",
       "      <td>0</td>\n",
       "      <td>1</td>\n",
       "      <td>1</td>\n",
       "      <td>0</td>\n",
       "      <td>1</td>\n",
       "      <td>1</td>\n",
       "      <td>1</td>\n",
       "      <td>1</td>\n",
       "      <td>1</td>\n",
       "      <td>...</td>\n",
       "      <td>0</td>\n",
       "      <td>0</td>\n",
       "      <td>0</td>\n",
       "      <td>0</td>\n",
       "      <td>16</td>\n",
       "      <td>0</td>\n",
       "      <td>2</td>\n",
       "      <td>3</td>\n",
       "      <td>2021-01-12</td>\n",
       "      <td>0</td>\n",
       "    </tr>\n",
       "    <tr>\n",
       "      <th>1</th>\n",
       "      <td>1</td>\n",
       "      <td>0</td>\n",
       "      <td>1</td>\n",
       "      <td>1</td>\n",
       "      <td>0</td>\n",
       "      <td>1</td>\n",
       "      <td>1</td>\n",
       "      <td>1</td>\n",
       "      <td>1</td>\n",
       "      <td>1</td>\n",
       "      <td>...</td>\n",
       "      <td>0</td>\n",
       "      <td>0</td>\n",
       "      <td>0</td>\n",
       "      <td>0</td>\n",
       "      <td>16</td>\n",
       "      <td>0</td>\n",
       "      <td>2</td>\n",
       "      <td>10</td>\n",
       "      <td>2021-01-12</td>\n",
       "      <td>0</td>\n",
       "    </tr>\n",
       "    <tr>\n",
       "      <th>2</th>\n",
       "      <td>1</td>\n",
       "      <td>0</td>\n",
       "      <td>1</td>\n",
       "      <td>1</td>\n",
       "      <td>0</td>\n",
       "      <td>1</td>\n",
       "      <td>1</td>\n",
       "      <td>1</td>\n",
       "      <td>1</td>\n",
       "      <td>1</td>\n",
       "      <td>...</td>\n",
       "      <td>0</td>\n",
       "      <td>0</td>\n",
       "      <td>0</td>\n",
       "      <td>0</td>\n",
       "      <td>16</td>\n",
       "      <td>0</td>\n",
       "      <td>2</td>\n",
       "      <td>17</td>\n",
       "      <td>2021-01-12</td>\n",
       "      <td>1</td>\n",
       "    </tr>\n",
       "  </tbody>\n",
       "</table>\n",
       "<p>6188 rows × 53 columns</p>\n",
       "</div>"
      ],
      "text/plain": [
       "                 омепразол_stat_control  надропарин кальция_stat_control  \\\n",
       "case    t_point                                                            \n",
       "GACAAcY 0                             1                                1   \n",
       "        1                             1                                1   \n",
       "        2                             1                                1   \n",
       "        3                             1                                1   \n",
       "GACAAnf 0                             1                                1   \n",
       "...                                 ...                              ...   \n",
       "GACBB;O 0                             0                                0   \n",
       "        1                             0                                0   \n",
       "GACXAAB 0                             1                                0   \n",
       "        1                             1                                0   \n",
       "        2                             1                                0   \n",
       "\n",
       "                 эзомепразол_stat_control  амлодипин_stat_control  \\\n",
       "case    t_point                                                     \n",
       "GACAAcY 0                               1                       1   \n",
       "        1                               1                       1   \n",
       "        2                               1                       1   \n",
       "        3                               1                       1   \n",
       "GACAAnf 0                               1                       1   \n",
       "...                                   ...                     ...   \n",
       "GACBB;O 0                               0                       1   \n",
       "        1                               0                       1   \n",
       "GACXAAB 0                               1                       1   \n",
       "        1                               1                       1   \n",
       "        2                               1                       1   \n",
       "\n",
       "                 амброксол_stat_control  домперидон_stat_control  \\\n",
       "case    t_point                                                    \n",
       "GACAAcY 0                             1                        1   \n",
       "        1                             1                        1   \n",
       "        2                             1                        1   \n",
       "        3                             1                        1   \n",
       "GACAAnf 0                             1                        1   \n",
       "...                                 ...                      ...   \n",
       "GACBB;O 0                             1                        0   \n",
       "        1                             1                        0   \n",
       "GACXAAB 0                             0                        1   \n",
       "        1                             0                        1   \n",
       "        2                             0                        1   \n",
       "\n",
       "                 меброфенин_stat_control  технеций_stat_control  \\\n",
       "case    t_point                                                   \n",
       "GACAAcY 0                              1                      1   \n",
       "        1                              1                      1   \n",
       "        2                              1                      1   \n",
       "        3                              1                      1   \n",
       "GACAAnf 0                              1                      1   \n",
       "...                                  ...                    ...   \n",
       "GACBB;O 0                              0                      0   \n",
       "        1                              0                      0   \n",
       "GACXAAB 0                              1                      1   \n",
       "        1                              1                      1   \n",
       "        2                              1                      1   \n",
       "\n",
       "                 мометазон_stat_control  бисопролол_stat_control  ...  \\\n",
       "case    t_point                                                   ...   \n",
       "GACAAcY 0                             1                        1  ...   \n",
       "        1                             1                        1  ...   \n",
       "        2                             1                        1  ...   \n",
       "        3                             1                        1  ...   \n",
       "GACAAnf 0                             1                        1  ...   \n",
       "...                                 ...                      ...  ...   \n",
       "GACBB;O 0                             0                        1  ...   \n",
       "        1                             0                        1  ...   \n",
       "GACXAAB 0                             1                        1  ...   \n",
       "        1                             1                        1  ...   \n",
       "        2                             1                        1  ...   \n",
       "\n",
       "                 трансфузия_dinam_control  оксигенотерапия_dinam_control  \\\n",
       "case    t_point                                                            \n",
       "GACAAcY 0                               0                              1   \n",
       "        1                               0                              1   \n",
       "        2                               0                              1   \n",
       "        3                               0                              1   \n",
       "GACAAnf 0                               0                              0   \n",
       "...                                   ...                            ...   \n",
       "GACBB;O 0                               0                              0   \n",
       "        1                               0                              0   \n",
       "GACXAAB 0                               0                              0   \n",
       "        1                               0                              0   \n",
       "        2                               0                              0   \n",
       "\n",
       "                 НИВЛ_dinam_control  ИВЛ_dinam_control  long_observation_tar  \\\n",
       "case    t_point                                                                \n",
       "GACAAcY 0                         0                  0                    22   \n",
       "        1                         0                  0                    22   \n",
       "        2                         0                  0                    22   \n",
       "        3                         0                  0                    22   \n",
       "GACAAnf 0                         0                  0                     6   \n",
       "...                             ...                ...                   ...   \n",
       "GACBB;O 0                         0                  0                     6   \n",
       "        1                         0                  0                     6   \n",
       "GACXAAB 0                         0                  0                    16   \n",
       "        1                         0                  0                    16   \n",
       "        2                         0                  0                    16   \n",
       "\n",
       "                 outcome_tar  process_stages  current_process_duration  \\\n",
       "case    t_point                                                          \n",
       "GACAAcY 0                  0               2                         3   \n",
       "        1                  0               2                        10   \n",
       "        2                  0               2                        17   \n",
       "        3                  0               2                        24   \n",
       "GACAAnf 0                  0             1_2                         3   \n",
       "...                      ...             ...                       ...   \n",
       "GACBB;O 0                  0               2                         3   \n",
       "        1                  0               2                        10   \n",
       "GACXAAB 0                  0               2                         3   \n",
       "        1                  0               2                        10   \n",
       "        2                  0               2                        17   \n",
       "\n",
       "                 admission_date  end_epizode  \n",
       "case    t_point                               \n",
       "GACAAcY 0            2021-01-29            0  \n",
       "        1            2021-01-29            0  \n",
       "        2            2021-01-29            0  \n",
       "        3            2021-01-29            1  \n",
       "GACAAnf 0            2020-06-06            0  \n",
       "...                         ...          ...  \n",
       "GACBB;O 0            2021-01-04            0  \n",
       "        1            2021-01-04            1  \n",
       "GACXAAB 0            2021-01-12            0  \n",
       "        1            2021-01-12            0  \n",
       "        2            2021-01-12            1  \n",
       "\n",
       "[6188 rows x 53 columns]"
      ]
     },
     "execution_count": 465,
     "metadata": {},
     "output_type": "execute_result"
    }
   ],
   "source": [
    "df = None\n",
    "with open(\"covid_flow.pkl\", \"rb\") as f:\n",
    "    df = pickle.load(f)\n",
    "df[\"case\"] = df.index\n",
    "df[\"t_point\"] = df[\"t_point\"].apply(lambda x: x[2:])\n",
    "df[\"t_point\"] = df[\"t_point\"].apply(lambda x: int(x))\n",
    "df.set_index([\"case\", \"t_point\"], inplace=True)\n",
    "df.sort_index()\n"
   ]
  },
  {
   "cell_type": "markdown",
   "metadata": {},
   "source": [
    "# Check the data"
   ]
  },
  {
   "cell_type": "markdown",
   "metadata": {},
   "source": [
    "Divide dataset to treatment and pynamic parameters"
   ]
  },
  {
   "cell_type": "code",
   "execution_count": 466,
   "metadata": {},
   "outputs": [],
   "source": [
    "stat_fact_df = df.iloc[:,0:29]\n",
    "stat_fact_df = stat_fact_df.sort_values([\"case\", \"t_point\"])"
   ]
  },
  {
   "cell_type": "markdown",
   "metadata": {},
   "source": [
    "But initially check if treatment strategy has been changed? No. But found 22 records with no treatments at all."
   ]
  },
  {
   "cell_type": "code",
   "execution_count": 467,
   "metadata": {},
   "outputs": [
    {
     "data": {
      "text/plain": [
       "[['GACAJуЭ', {0.0}],\n",
       " ['GACAKАF', {0.0}],\n",
       " ['GACALрЫ', {0.0}],\n",
       " ['GACAT&H', {0.0}],\n",
       " ['GACA^МЮ', {0.0}],\n",
       " ['GACAb!2', {0.0}],\n",
       " ['GACAjц>', {0.0}],\n",
       " ['GACAjщ[', {0.0}],\n",
       " ['GACAjюc', {0.0}],\n",
       " ['GACAjяв', {0.0}],\n",
       " [\"GACAk'5\", {0.0}],\n",
       " ['GACAk){', {0.0}],\n",
       " ['GACAk+ц', {0.0}],\n",
       " ['GACAk.3', {0.0}],\n",
       " ['GACAm7g', {0.0}],\n",
       " ['GACAm?о', {0.0}],\n",
       " ['GACAmBц', {0.0}],\n",
       " ['GACAmCх', {0.0}],\n",
       " ['GACAmPф', {0.0}],\n",
       " ['GACAm^и', {0.0}],\n",
       " ['GACAmnW', {0.0}],\n",
       " ['GACAmЩП', {0.0}]]"
      ]
     },
     "execution_count": 467,
     "metadata": {},
     "output_type": "execute_result"
    }
   ],
   "source": [
    "non_typical_treatments = []\n",
    "for i in stat_fact_df.index.levels[0]:\n",
    "    means = stat_fact_df.loc[(i)].mean()\n",
    "    if (set(means.unique()) != set([0,1])):\n",
    "        non_typical_treatments.append([i, set(means.unique())])\n",
    "non_typical_treatments"
   ]
  },
  {
   "cell_type": "markdown",
   "metadata": {},
   "source": [
    "*inof_df* static information about patient and treatment"
   ]
  },
  {
   "cell_type": "code",
   "execution_count": 468,
   "metadata": {},
   "outputs": [
    {
     "data": {
      "text/html": [
       "<div>\n",
       "<style scoped>\n",
       "    .dataframe tbody tr th:only-of-type {\n",
       "        vertical-align: middle;\n",
       "    }\n",
       "\n",
       "    .dataframe tbody tr th {\n",
       "        vertical-align: top;\n",
       "    }\n",
       "\n",
       "    .dataframe thead th {\n",
       "        text-align: right;\n",
       "    }\n",
       "</style>\n",
       "<table border=\"1\" class=\"dataframe\">\n",
       "  <thead>\n",
       "    <tr style=\"text-align: right;\">\n",
       "      <th></th>\n",
       "      <th>age_stat_fact</th>\n",
       "      <th>outcome_tar</th>\n",
       "      <th>long_observation_tar</th>\n",
       "      <th>admission_date</th>\n",
       "      <th>duration_before_start</th>\n",
       "      <th>process_stages</th>\n",
       "      <th>periods_stat_fact</th>\n",
       "    </tr>\n",
       "    <tr>\n",
       "      <th>case</th>\n",
       "      <th></th>\n",
       "      <th></th>\n",
       "      <th></th>\n",
       "      <th></th>\n",
       "      <th></th>\n",
       "      <th></th>\n",
       "      <th></th>\n",
       "    </tr>\n",
       "  </thead>\n",
       "  <tbody>\n",
       "    <tr>\n",
       "      <th>GACAAcY</th>\n",
       "      <td>81</td>\n",
       "      <td>0</td>\n",
       "      <td>22</td>\n",
       "      <td>2021-01-29</td>\n",
       "      <td>3</td>\n",
       "      <td>2</td>\n",
       "      <td>4</td>\n",
       "    </tr>\n",
       "    <tr>\n",
       "      <th>GACAAnf</th>\n",
       "      <td>73</td>\n",
       "      <td>0</td>\n",
       "      <td>6</td>\n",
       "      <td>2020-06-06</td>\n",
       "      <td>3</td>\n",
       "      <td>1_2</td>\n",
       "      <td>2</td>\n",
       "    </tr>\n",
       "    <tr>\n",
       "      <th>GACABsT</th>\n",
       "      <td>59</td>\n",
       "      <td>0</td>\n",
       "      <td>14</td>\n",
       "      <td>2020-12-30</td>\n",
       "      <td>3</td>\n",
       "      <td>2</td>\n",
       "      <td>3</td>\n",
       "    </tr>\n",
       "    <tr>\n",
       "      <th>GACACKP</th>\n",
       "      <td>71</td>\n",
       "      <td>0</td>\n",
       "      <td>15</td>\n",
       "      <td>2021-01-26</td>\n",
       "      <td>3</td>\n",
       "      <td>2</td>\n",
       "      <td>3</td>\n",
       "    </tr>\n",
       "    <tr>\n",
       "      <th>GACADBj</th>\n",
       "      <td>37</td>\n",
       "      <td>0</td>\n",
       "      <td>20</td>\n",
       "      <td>2021-02-19</td>\n",
       "      <td>3</td>\n",
       "      <td>2</td>\n",
       "      <td>4</td>\n",
       "    </tr>\n",
       "    <tr>\n",
       "      <th>...</th>\n",
       "      <td>...</td>\n",
       "      <td>...</td>\n",
       "      <td>...</td>\n",
       "      <td>...</td>\n",
       "      <td>...</td>\n",
       "      <td>...</td>\n",
       "      <td>...</td>\n",
       "    </tr>\n",
       "    <tr>\n",
       "      <th>GACBAхz</th>\n",
       "      <td>25</td>\n",
       "      <td>0</td>\n",
       "      <td>14</td>\n",
       "      <td>2020-12-25</td>\n",
       "      <td>3</td>\n",
       "      <td>2</td>\n",
       "      <td>3</td>\n",
       "    </tr>\n",
       "    <tr>\n",
       "      <th>GACBAщн</th>\n",
       "      <td>37</td>\n",
       "      <td>0</td>\n",
       "      <td>15</td>\n",
       "      <td>2021-01-14</td>\n",
       "      <td>3</td>\n",
       "      <td>2</td>\n",
       "      <td>3</td>\n",
       "    </tr>\n",
       "    <tr>\n",
       "      <th>GACBB-В</th>\n",
       "      <td>70</td>\n",
       "      <td>0</td>\n",
       "      <td>1</td>\n",
       "      <td>2020-12-22</td>\n",
       "      <td>3</td>\n",
       "      <td>2</td>\n",
       "      <td>1</td>\n",
       "    </tr>\n",
       "    <tr>\n",
       "      <th>GACBB;O</th>\n",
       "      <td>62</td>\n",
       "      <td>0</td>\n",
       "      <td>6</td>\n",
       "      <td>2021-01-04</td>\n",
       "      <td>3</td>\n",
       "      <td>2</td>\n",
       "      <td>2</td>\n",
       "    </tr>\n",
       "    <tr>\n",
       "      <th>GACXAAB</th>\n",
       "      <td>71</td>\n",
       "      <td>0</td>\n",
       "      <td>16</td>\n",
       "      <td>2021-01-12</td>\n",
       "      <td>3</td>\n",
       "      <td>2</td>\n",
       "      <td>3</td>\n",
       "    </tr>\n",
       "  </tbody>\n",
       "</table>\n",
       "<p>1992 rows × 7 columns</p>\n",
       "</div>"
      ],
      "text/plain": [
       "         age_stat_fact  outcome_tar  long_observation_tar admission_date  \\\n",
       "case                                                                       \n",
       "GACAAcY             81            0                    22     2021-01-29   \n",
       "GACAAnf             73            0                     6     2020-06-06   \n",
       "GACABsT             59            0                    14     2020-12-30   \n",
       "GACACKP             71            0                    15     2021-01-26   \n",
       "GACADBj             37            0                    20     2021-02-19   \n",
       "...                ...          ...                   ...            ...   \n",
       "GACBAхz             25            0                    14     2020-12-25   \n",
       "GACBAщн             37            0                    15     2021-01-14   \n",
       "GACBB-В             70            0                     1     2020-12-22   \n",
       "GACBB;O             62            0                     6     2021-01-04   \n",
       "GACXAAB             71            0                    16     2021-01-12   \n",
       "\n",
       "         duration_before_start process_stages  periods_stat_fact  \n",
       "case                                                              \n",
       "GACAAcY                      3              2                  4  \n",
       "GACAAnf                      3            1_2                  2  \n",
       "GACABsT                      3              2                  3  \n",
       "GACACKP                      3              2                  3  \n",
       "GACADBj                      3              2                  4  \n",
       "...                        ...            ...                ...  \n",
       "GACBAхz                      3              2                  3  \n",
       "GACBAщн                      3              2                  3  \n",
       "GACBB-В                      3              2                  1  \n",
       "GACBB;O                      3              2                  2  \n",
       "GACXAAB                      3              2                  3  \n",
       "\n",
       "[1992 rows x 7 columns]"
      ]
     },
     "execution_count": 468,
     "metadata": {},
     "output_type": "execute_result"
    }
   ],
   "source": [
    "info_df = pd.DataFrame()\n",
    "info_df[\"age_stat_fact\"] = df[\"age_stat_fact\"]\n",
    "info_df[\"outcome_tar\"] = df[\"outcome_tar\"]\n",
    "info_df[\"long_observation_tar\"] = df[\"long_observation_tar\"]\n",
    "info_df[\"admission_date\"] = df[\"admission_date\"]\n",
    "info_df[\"duration_before_start\"] = df[\"current_process_duration\"]\n",
    "info_df[\"process_stages\"] = df[\"process_stages\"]\n",
    "periods = info_df.groupby(\"case\").count()[\"age_stat_fact\"]\n",
    "info_df = info_df.groupby(\"case\").first()\n",
    "info_df[\"periods_stat_fact\"] = periods\n",
    "info_df"
   ]
  },
  {
   "cell_type": "markdown",
   "metadata": {},
   "source": [
    "dinam_fact_df with dinamic parameters changed during observation. TARGETS!!"
   ]
  },
  {
   "cell_type": "code",
   "execution_count": 469,
   "metadata": {},
   "outputs": [],
   "source": [
    "dinam_fact_df = df.iloc[:,29:42]\n",
    "dinam_fact_df = dinam_fact_df.sort_values([\"case\", \"t_point\"])"
   ]
  },
  {
   "cell_type": "markdown",
   "metadata": {},
   "source": [
    "*dynam_control_df* procedures during observation. Unlike medicine, procedures has been changed during observation, so parameters pedends on time. "
   ]
  },
  {
   "cell_type": "code",
   "execution_count": 470,
   "metadata": {},
   "outputs": [],
   "source": [
    "dinam_control_df = df.iloc[:,43:47]\n",
    "dinam_control_df = dinam_control_df.sort_values([\"case\", \"t_point\"])"
   ]
  },
  {
   "cell_type": "markdown",
   "metadata": {},
   "source": [
    "### Data preparation "
   ]
  },
  {
   "cell_type": "markdown",
   "metadata": {},
   "source": [
    "Make some transformations. Divide observations on train and test parts. We take some part as train period and next as test period. So we have X as (, WINDOW, PARAMS) and y (PARAMS)"
   ]
  },
  {
   "cell_type": "code",
   "execution_count": 471,
   "metadata": {},
   "outputs": [
    {
     "data": {
      "text/html": [
       "<div>\n",
       "<style scoped>\n",
       "    .dataframe tbody tr th:only-of-type {\n",
       "        vertical-align: middle;\n",
       "    }\n",
       "\n",
       "    .dataframe tbody tr th {\n",
       "        vertical-align: top;\n",
       "    }\n",
       "\n",
       "    .dataframe thead th {\n",
       "        text-align: right;\n",
       "    }\n",
       "</style>\n",
       "<table border=\"1\" class=\"dataframe\">\n",
       "  <thead>\n",
       "    <tr style=\"text-align: right;\">\n",
       "      <th></th>\n",
       "      <th></th>\n",
       "      <th>Температура_dinam_fact</th>\n",
       "      <th>Лимфоциты#_dinam_fact</th>\n",
       "      <th>АСТ_dinam_fact</th>\n",
       "      <th>ЧСС_dinam_fact</th>\n",
       "      <th>ЧДД_dinam_fact</th>\n",
       "      <th>Билирубин общий_dinam_fact</th>\n",
       "      <th>MPV- Средн.объем тромбоцитов_dinam_fact</th>\n",
       "      <th>PCT- Тромбокрит_dinam_fact</th>\n",
       "      <th>Лимфоциты%_dinam_fact</th>\n",
       "      <th>снижение_сознания_dinam_fact</th>\n",
       "      <th>Cтепень тяжести по КТ_dinam_fact</th>\n",
       "      <th>Лактатдегидрогеназа_dinam_fact</th>\n",
       "      <th>PDW- Индекс расп.по объему тр._dinam_fact</th>\n",
       "    </tr>\n",
       "    <tr>\n",
       "      <th>case</th>\n",
       "      <th>t_point</th>\n",
       "      <th></th>\n",
       "      <th></th>\n",
       "      <th></th>\n",
       "      <th></th>\n",
       "      <th></th>\n",
       "      <th></th>\n",
       "      <th></th>\n",
       "      <th></th>\n",
       "      <th></th>\n",
       "      <th></th>\n",
       "      <th></th>\n",
       "      <th></th>\n",
       "      <th></th>\n",
       "    </tr>\n",
       "  </thead>\n",
       "  <tbody>\n",
       "    <tr>\n",
       "      <th rowspan=\"4\" valign=\"top\">GACAAcY</th>\n",
       "      <th>0</th>\n",
       "      <td>36.7</td>\n",
       "      <td>1.93</td>\n",
       "      <td>27.90</td>\n",
       "      <td>74.0</td>\n",
       "      <td>24.0</td>\n",
       "      <td>15.30</td>\n",
       "      <td>11.2</td>\n",
       "      <td>0.100</td>\n",
       "      <td>48.3</td>\n",
       "      <td>0</td>\n",
       "      <td>2</td>\n",
       "      <td>245.0</td>\n",
       "      <td>14.0</td>\n",
       "    </tr>\n",
       "    <tr>\n",
       "      <th>1</th>\n",
       "      <td>36.3</td>\n",
       "      <td>2.00</td>\n",
       "      <td>25.70</td>\n",
       "      <td>71.0</td>\n",
       "      <td>19.0</td>\n",
       "      <td>12.10</td>\n",
       "      <td>10.6</td>\n",
       "      <td>0.160</td>\n",
       "      <td>30.7</td>\n",
       "      <td>0</td>\n",
       "      <td>2</td>\n",
       "      <td>315.0</td>\n",
       "      <td>12.8</td>\n",
       "    </tr>\n",
       "    <tr>\n",
       "      <th>2</th>\n",
       "      <td>36.6</td>\n",
       "      <td>2.13</td>\n",
       "      <td>32.00</td>\n",
       "      <td>NaN</td>\n",
       "      <td>18.0</td>\n",
       "      <td>NaN</td>\n",
       "      <td>11.0</td>\n",
       "      <td>0.190</td>\n",
       "      <td>23.1</td>\n",
       "      <td>0</td>\n",
       "      <td>5</td>\n",
       "      <td>290.0</td>\n",
       "      <td>13.5</td>\n",
       "    </tr>\n",
       "    <tr>\n",
       "      <th>3</th>\n",
       "      <td>36.5</td>\n",
       "      <td>2.12</td>\n",
       "      <td>27.00</td>\n",
       "      <td>71.0</td>\n",
       "      <td>18.0</td>\n",
       "      <td>NaN</td>\n",
       "      <td>11.4</td>\n",
       "      <td>0.100</td>\n",
       "      <td>24.1</td>\n",
       "      <td>0</td>\n",
       "      <td>5</td>\n",
       "      <td>274.0</td>\n",
       "      <td>13.1</td>\n",
       "    </tr>\n",
       "    <tr>\n",
       "      <th>GACAAnf</th>\n",
       "      <th>0</th>\n",
       "      <td>NaN</td>\n",
       "      <td>1.21</td>\n",
       "      <td>20.70</td>\n",
       "      <td>55.0</td>\n",
       "      <td>22.0</td>\n",
       "      <td>7.80</td>\n",
       "      <td>8.1</td>\n",
       "      <td>0.201</td>\n",
       "      <td>24.1</td>\n",
       "      <td>0</td>\n",
       "      <td>1</td>\n",
       "      <td>189.0</td>\n",
       "      <td>17.7</td>\n",
       "    </tr>\n",
       "    <tr>\n",
       "      <th>...</th>\n",
       "      <th>...</th>\n",
       "      <td>...</td>\n",
       "      <td>...</td>\n",
       "      <td>...</td>\n",
       "      <td>...</td>\n",
       "      <td>...</td>\n",
       "      <td>...</td>\n",
       "      <td>...</td>\n",
       "      <td>...</td>\n",
       "      <td>...</td>\n",
       "      <td>...</td>\n",
       "      <td>...</td>\n",
       "      <td>...</td>\n",
       "      <td>...</td>\n",
       "    </tr>\n",
       "    <tr>\n",
       "      <th rowspan=\"2\" valign=\"top\">GACBB;O</th>\n",
       "      <th>0</th>\n",
       "      <td>36.9</td>\n",
       "      <td>1.22</td>\n",
       "      <td>22.34</td>\n",
       "      <td>54.0</td>\n",
       "      <td>18.0</td>\n",
       "      <td>1.43</td>\n",
       "      <td>7.0</td>\n",
       "      <td>0.134</td>\n",
       "      <td>33.0</td>\n",
       "      <td>0</td>\n",
       "      <td>1</td>\n",
       "      <td>267.9</td>\n",
       "      <td>14.8</td>\n",
       "    </tr>\n",
       "    <tr>\n",
       "      <th>1</th>\n",
       "      <td>36.5</td>\n",
       "      <td>1.65</td>\n",
       "      <td>244.03</td>\n",
       "      <td>NaN</td>\n",
       "      <td>17.0</td>\n",
       "      <td>3.78</td>\n",
       "      <td>7.2</td>\n",
       "      <td>0.210</td>\n",
       "      <td>41.2</td>\n",
       "      <td>0</td>\n",
       "      <td>5</td>\n",
       "      <td>NaN</td>\n",
       "      <td>13.4</td>\n",
       "    </tr>\n",
       "    <tr>\n",
       "      <th rowspan=\"3\" valign=\"top\">GACXAAB</th>\n",
       "      <th>0</th>\n",
       "      <td>36.5</td>\n",
       "      <td>1.11</td>\n",
       "      <td>21.80</td>\n",
       "      <td>NaN</td>\n",
       "      <td>NaN</td>\n",
       "      <td>4.50</td>\n",
       "      <td>10.6</td>\n",
       "      <td>0.200</td>\n",
       "      <td>18.8</td>\n",
       "      <td>0</td>\n",
       "      <td>1</td>\n",
       "      <td>219.0</td>\n",
       "      <td>11.7</td>\n",
       "    </tr>\n",
       "    <tr>\n",
       "      <th>1</th>\n",
       "      <td>36.9</td>\n",
       "      <td>1.60</td>\n",
       "      <td>60.80</td>\n",
       "      <td>75.0</td>\n",
       "      <td>16.0</td>\n",
       "      <td>1.10</td>\n",
       "      <td>10.8</td>\n",
       "      <td>0.270</td>\n",
       "      <td>12.9</td>\n",
       "      <td>0</td>\n",
       "      <td>5</td>\n",
       "      <td>335.0</td>\n",
       "      <td>13.4</td>\n",
       "    </tr>\n",
       "    <tr>\n",
       "      <th>2</th>\n",
       "      <td>36.6</td>\n",
       "      <td>3.45</td>\n",
       "      <td>17.20</td>\n",
       "      <td>NaN</td>\n",
       "      <td>15.0</td>\n",
       "      <td>9.30</td>\n",
       "      <td>10.0</td>\n",
       "      <td>0.280</td>\n",
       "      <td>23.0</td>\n",
       "      <td>0</td>\n",
       "      <td>5</td>\n",
       "      <td>279.0</td>\n",
       "      <td>11.6</td>\n",
       "    </tr>\n",
       "  </tbody>\n",
       "</table>\n",
       "<p>6188 rows × 13 columns</p>\n",
       "</div>"
      ],
      "text/plain": [
       "                 Температура_dinam_fact  Лимфоциты#_dinam_fact  \\\n",
       "case    t_point                                                  \n",
       "GACAAcY 0                          36.7                   1.93   \n",
       "        1                          36.3                   2.00   \n",
       "        2                          36.6                   2.13   \n",
       "        3                          36.5                   2.12   \n",
       "GACAAnf 0                           NaN                   1.21   \n",
       "...                                 ...                    ...   \n",
       "GACBB;O 0                          36.9                   1.22   \n",
       "        1                          36.5                   1.65   \n",
       "GACXAAB 0                          36.5                   1.11   \n",
       "        1                          36.9                   1.60   \n",
       "        2                          36.6                   3.45   \n",
       "\n",
       "                 АСТ_dinam_fact  ЧСС_dinam_fact  ЧДД_dinam_fact  \\\n",
       "case    t_point                                                   \n",
       "GACAAcY 0                 27.90            74.0            24.0   \n",
       "        1                 25.70            71.0            19.0   \n",
       "        2                 32.00             NaN            18.0   \n",
       "        3                 27.00            71.0            18.0   \n",
       "GACAAnf 0                 20.70            55.0            22.0   \n",
       "...                         ...             ...             ...   \n",
       "GACBB;O 0                 22.34            54.0            18.0   \n",
       "        1                244.03             NaN            17.0   \n",
       "GACXAAB 0                 21.80             NaN             NaN   \n",
       "        1                 60.80            75.0            16.0   \n",
       "        2                 17.20             NaN            15.0   \n",
       "\n",
       "                 Билирубин общий_dinam_fact  \\\n",
       "case    t_point                               \n",
       "GACAAcY 0                             15.30   \n",
       "        1                             12.10   \n",
       "        2                               NaN   \n",
       "        3                               NaN   \n",
       "GACAAnf 0                              7.80   \n",
       "...                                     ...   \n",
       "GACBB;O 0                              1.43   \n",
       "        1                              3.78   \n",
       "GACXAAB 0                              4.50   \n",
       "        1                              1.10   \n",
       "        2                              9.30   \n",
       "\n",
       "                 MPV- Средн.объем тромбоцитов_dinam_fact  \\\n",
       "case    t_point                                            \n",
       "GACAAcY 0                                           11.2   \n",
       "        1                                           10.6   \n",
       "        2                                           11.0   \n",
       "        3                                           11.4   \n",
       "GACAAnf 0                                            8.1   \n",
       "...                                                  ...   \n",
       "GACBB;O 0                                            7.0   \n",
       "        1                                            7.2   \n",
       "GACXAAB 0                                           10.6   \n",
       "        1                                           10.8   \n",
       "        2                                           10.0   \n",
       "\n",
       "                 PCT- Тромбокрит_dinam_fact  Лимфоциты%_dinam_fact  \\\n",
       "case    t_point                                                      \n",
       "GACAAcY 0                             0.100                   48.3   \n",
       "        1                             0.160                   30.7   \n",
       "        2                             0.190                   23.1   \n",
       "        3                             0.100                   24.1   \n",
       "GACAAnf 0                             0.201                   24.1   \n",
       "...                                     ...                    ...   \n",
       "GACBB;O 0                             0.134                   33.0   \n",
       "        1                             0.210                   41.2   \n",
       "GACXAAB 0                             0.200                   18.8   \n",
       "        1                             0.270                   12.9   \n",
       "        2                             0.280                   23.0   \n",
       "\n",
       "                 снижение_сознания_dinam_fact  \\\n",
       "case    t_point                                 \n",
       "GACAAcY 0                                   0   \n",
       "        1                                   0   \n",
       "        2                                   0   \n",
       "        3                                   0   \n",
       "GACAAnf 0                                   0   \n",
       "...                                       ...   \n",
       "GACBB;O 0                                   0   \n",
       "        1                                   0   \n",
       "GACXAAB 0                                   0   \n",
       "        1                                   0   \n",
       "        2                                   0   \n",
       "\n",
       "                 Cтепень тяжести по КТ_dinam_fact  \\\n",
       "case    t_point                                     \n",
       "GACAAcY 0                                       2   \n",
       "        1                                       2   \n",
       "        2                                       5   \n",
       "        3                                       5   \n",
       "GACAAnf 0                                       1   \n",
       "...                                           ...   \n",
       "GACBB;O 0                                       1   \n",
       "        1                                       5   \n",
       "GACXAAB 0                                       1   \n",
       "        1                                       5   \n",
       "        2                                       5   \n",
       "\n",
       "                 Лактатдегидрогеназа_dinam_fact  \\\n",
       "case    t_point                                   \n",
       "GACAAcY 0                                 245.0   \n",
       "        1                                 315.0   \n",
       "        2                                 290.0   \n",
       "        3                                 274.0   \n",
       "GACAAnf 0                                 189.0   \n",
       "...                                         ...   \n",
       "GACBB;O 0                                 267.9   \n",
       "        1                                   NaN   \n",
       "GACXAAB 0                                 219.0   \n",
       "        1                                 335.0   \n",
       "        2                                 279.0   \n",
       "\n",
       "                 PDW- Индекс расп.по объему тр._dinam_fact  \n",
       "case    t_point                                             \n",
       "GACAAcY 0                                             14.0  \n",
       "        1                                             12.8  \n",
       "        2                                             13.5  \n",
       "        3                                             13.1  \n",
       "GACAAnf 0                                             17.7  \n",
       "...                                                    ...  \n",
       "GACBB;O 0                                             14.8  \n",
       "        1                                             13.4  \n",
       "GACXAAB 0                                             11.7  \n",
       "        1                                             13.4  \n",
       "        2                                             11.6  \n",
       "\n",
       "[6188 rows x 13 columns]"
      ]
     },
     "execution_count": 471,
     "metadata": {},
     "output_type": "execute_result"
    }
   ],
   "source": [
    "dinam_fact_df"
   ]
  },
  {
   "cell_type": "code",
   "execution_count": 472,
   "metadata": {},
   "outputs": [
    {
     "name": "stdout",
     "output_type": "stream",
     "text": [
      "Count of patients: 1992\n"
     ]
    }
   ],
   "source": [
    "print(f\"Count of patients: {dinam_fact_df.index.levels[0].size}\")"
   ]
  },
  {
   "cell_type": "code",
   "execution_count": 473,
   "metadata": {},
   "outputs": [
    {
     "data": {
      "text/plain": [
       "<AxesSubplot:>"
      ]
     },
     "execution_count": 473,
     "metadata": {},
     "output_type": "execute_result"
    },
    {
     "data": {
      "image/png": "[encoded data removed]",
      "text/plain": [
       "<Figure size 432x288 with 1 Axes>"
      ]
     },
     "metadata": {
      "needs_background": "light"
     },
     "output_type": "display_data"
    }
   ],
   "source": [
    "dinam_fact_df.groupby([\"case\"]).size().value_counts(sort=True).plot(kind=\"bar\")"
   ]
  },
  {
   "cell_type": "code",
   "execution_count": 474,
   "metadata": {},
   "outputs": [
    {
     "data": {
      "text/plain": [
       "0      29\n",
       "1     733\n",
       "2    1250\n",
       "3     696\n",
       "4     195\n",
       "5    3285\n",
       "Name: Cтепень тяжести по КТ_dinam_fact, dtype: int64"
      ]
     },
     "execution_count": 474,
     "metadata": {},
     "output_type": "execute_result"
    }
   ],
   "source": [
    "dinam_fact_df[\"Cтепень тяжести по КТ_dinam_fact\"].value_counts().sort_index()"
   ]
  },
  {
   "cell_type": "markdown",
   "metadata": {},
   "source": [
    "Impute NaN values using MICE methods with IterativeImputer on Linear regression as estimator "
   ]
  },
  {
   "cell_type": "code",
   "execution_count": 475,
   "metadata": {},
   "outputs": [
    {
     "data": {
      "text/plain": [
       "array([[ 36.7 ,   1.93,  27.9 , ...,   2.  , 245.  ,  14.  ],\n",
       "       [ 36.3 ,   2.  ,  25.7 , ...,   2.  , 315.  ,  12.8 ],\n",
       "       [ 36.6 ,   2.13,  32.  , ...,   5.  , 290.  ,  13.5 ],\n",
       "       ...,\n",
       "       [ 36.5 ,   1.11,  21.8 , ...,   1.  , 219.  ,  11.7 ],\n",
       "       [ 36.9 ,   1.6 ,  60.8 , ...,   5.  , 335.  ,  13.4 ],\n",
       "       [ 36.6 ,   3.45,  17.2 , ...,   5.  , 279.  ,  11.6 ]])"
      ]
     },
     "execution_count": 475,
     "metadata": {},
     "output_type": "execute_result"
    }
   ],
   "source": [
    "from sklearn.experimental import enable_iterative_imputer\n",
    "from sklearn.impute import IterativeImputer\n",
    "from sklearn.linear_model import LinearRegression\n",
    "imp = IterativeImputer(estimator=LinearRegression(),\n",
    "     missing_values=np.nan, max_iter=10, imputation_order='roman', random_state=0)\n",
    "df_imputed = imp.fit_transform(dinam_fact_df)\n",
    "df_imputed"
   ]
  },
  {
   "cell_type": "markdown",
   "metadata": {},
   "source": [
    "Norm data by Standart Scaler and divide and train test parts"
   ]
  },
  {
   "cell_type": "code",
   "execution_count": 476,
   "metadata": {},
   "outputs": [
    {
     "data": {
      "text/plain": [
       "array([[ 0.29481863,  0.01592704, -0.24585399, ..., -1.04515494,\n",
       "        -0.4520992 , -0.31969103],\n",
       "       [-1.15370422,  0.03092487, -0.27689547, ..., -1.04515494,\n",
       "        -0.05562054, -0.65881207],\n",
       "       [-0.06731208,  0.05877799, -0.18800395, ...,  0.8663974 ,\n",
       "        -0.19722006, -0.46099146],\n",
       "       ...,\n",
       "       [-0.42944279, -0.15976184, -0.33192355, ..., -1.68233905,\n",
       "        -0.59936271, -0.96967302],\n",
       "       [ 1.01908006, -0.05477702,  0.21835725, ...,  0.8663974 ,\n",
       "         0.05765908, -0.48925155],\n",
       "       [-0.06731208,  0.34159424, -0.39682846, ...,  0.8663974 ,\n",
       "        -0.25952385, -0.9979331 ]])"
      ]
     },
     "execution_count": 476,
     "metadata": {},
     "output_type": "execute_result"
    }
   ],
   "source": [
    "scal_model = StandardScaler().fit(df_imputed)\n",
    "df_scaled = scal_model.transform(df_imputed)\n",
    "df_scaled"
   ]
  },
  {
   "cell_type": "code",
   "execution_count": 444,
   "metadata": {},
   "outputs": [
    {
     "data": {
      "text/html": [
       "<div>\n",
       "<style scoped>\n",
       "    .dataframe tbody tr th:only-of-type {\n",
       "        vertical-align: middle;\n",
       "    }\n",
       "\n",
       "    .dataframe tbody tr th {\n",
       "        vertical-align: top;\n",
       "    }\n",
       "\n",
       "    .dataframe thead th {\n",
       "        text-align: right;\n",
       "    }\n",
       "</style>\n",
       "<table border=\"1\" class=\"dataframe\">\n",
       "  <thead>\n",
       "    <tr style=\"text-align: right;\">\n",
       "      <th></th>\n",
       "      <th></th>\n",
       "      <th>Температура_dinam_fact</th>\n",
       "      <th>Лимфоциты#_dinam_fact</th>\n",
       "      <th>АСТ_dinam_fact</th>\n",
       "      <th>ЧСС_dinam_fact</th>\n",
       "      <th>ЧДД_dinam_fact</th>\n",
       "      <th>Билирубин общий_dinam_fact</th>\n",
       "      <th>MPV- Средн.объем тромбоцитов_dinam_fact</th>\n",
       "      <th>PCT- Тромбокрит_dinam_fact</th>\n",
       "      <th>Лимфоциты%_dinam_fact</th>\n",
       "      <th>снижение_сознания_dinam_fact</th>\n",
       "      <th>Cтепень тяжести по КТ_dinam_fact</th>\n",
       "      <th>Лактатдегидрогеназа_dinam_fact</th>\n",
       "      <th>PDW- Индекс расп.по объему тр._dinam_fact</th>\n",
       "    </tr>\n",
       "    <tr>\n",
       "      <th>case</th>\n",
       "      <th>t_point</th>\n",
       "      <th></th>\n",
       "      <th></th>\n",
       "      <th></th>\n",
       "      <th></th>\n",
       "      <th></th>\n",
       "      <th></th>\n",
       "      <th></th>\n",
       "      <th></th>\n",
       "      <th></th>\n",
       "      <th></th>\n",
       "      <th></th>\n",
       "      <th></th>\n",
       "      <th></th>\n",
       "    </tr>\n",
       "  </thead>\n",
       "  <tbody>\n",
       "    <tr>\n",
       "      <th rowspan=\"4\" valign=\"top\">GACAAcY</th>\n",
       "      <th>0</th>\n",
       "      <td>0.354167</td>\n",
       "      <td>0.059063</td>\n",
       "      <td>0.033813</td>\n",
       "      <td>0.496644</td>\n",
       "      <td>0.125000</td>\n",
       "      <td>0.118339</td>\n",
       "      <td>0.578125</td>\n",
       "      <td>0.212486</td>\n",
       "      <td>0.583451</td>\n",
       "      <td>0.0</td>\n",
       "      <td>0.4</td>\n",
       "      <td>0.036523</td>\n",
       "      <td>0.338870</td>\n",
       "    </tr>\n",
       "    <tr>\n",
       "      <th>1</th>\n",
       "      <td>0.270833</td>\n",
       "      <td>0.059528</td>\n",
       "      <td>0.032853</td>\n",
       "      <td>0.476510</td>\n",
       "      <td>0.093750</td>\n",
       "      <td>0.093260</td>\n",
       "      <td>0.531250</td>\n",
       "      <td>0.268737</td>\n",
       "      <td>0.428456</td>\n",
       "      <td>0.0</td>\n",
       "      <td>0.4</td>\n",
       "      <td>0.053125</td>\n",
       "      <td>0.299003</td>\n",
       "    </tr>\n",
       "    <tr>\n",
       "      <th>2</th>\n",
       "      <td>0.333333</td>\n",
       "      <td>0.060391</td>\n",
       "      <td>0.035603</td>\n",
       "      <td>0.481220</td>\n",
       "      <td>0.087500</td>\n",
       "      <td>0.080601</td>\n",
       "      <td>0.562500</td>\n",
       "      <td>0.296862</td>\n",
       "      <td>0.361527</td>\n",
       "      <td>0.0</td>\n",
       "      <td>1.0</td>\n",
       "      <td>0.047196</td>\n",
       "      <td>0.322259</td>\n",
       "    </tr>\n",
       "    <tr>\n",
       "      <th>3</th>\n",
       "      <td>0.312500</td>\n",
       "      <td>0.060325</td>\n",
       "      <td>0.033421</td>\n",
       "      <td>0.476510</td>\n",
       "      <td>0.087500</td>\n",
       "      <td>0.087013</td>\n",
       "      <td>0.593750</td>\n",
       "      <td>0.212486</td>\n",
       "      <td>0.370333</td>\n",
       "      <td>0.0</td>\n",
       "      <td>1.0</td>\n",
       "      <td>0.043401</td>\n",
       "      <td>0.308970</td>\n",
       "    </tr>\n",
       "    <tr>\n",
       "      <th>GACAAnf</th>\n",
       "      <th>0</th>\n",
       "      <td>0.354510</td>\n",
       "      <td>0.054281</td>\n",
       "      <td>0.030671</td>\n",
       "      <td>0.369128</td>\n",
       "      <td>0.112500</td>\n",
       "      <td>0.059561</td>\n",
       "      <td>0.335938</td>\n",
       "      <td>0.307175</td>\n",
       "      <td>0.370333</td>\n",
       "      <td>0.0</td>\n",
       "      <td>0.2</td>\n",
       "      <td>0.023242</td>\n",
       "      <td>0.461794</td>\n",
       "    </tr>\n",
       "    <tr>\n",
       "      <th>...</th>\n",
       "      <th>...</th>\n",
       "      <td>...</td>\n",
       "      <td>...</td>\n",
       "      <td>...</td>\n",
       "      <td>...</td>\n",
       "      <td>...</td>\n",
       "      <td>...</td>\n",
       "      <td>...</td>\n",
       "      <td>...</td>\n",
       "      <td>...</td>\n",
       "      <td>...</td>\n",
       "      <td>...</td>\n",
       "      <td>...</td>\n",
       "      <td>...</td>\n",
       "    </tr>\n",
       "    <tr>\n",
       "      <th rowspan=\"2\" valign=\"top\">GACBB;O</th>\n",
       "      <th>0</th>\n",
       "      <td>0.395833</td>\n",
       "      <td>0.054347</td>\n",
       "      <td>0.031387</td>\n",
       "      <td>0.362416</td>\n",
       "      <td>0.087500</td>\n",
       "      <td>0.009639</td>\n",
       "      <td>0.250000</td>\n",
       "      <td>0.244362</td>\n",
       "      <td>0.448711</td>\n",
       "      <td>0.0</td>\n",
       "      <td>0.2</td>\n",
       "      <td>0.041955</td>\n",
       "      <td>0.365449</td>\n",
       "    </tr>\n",
       "    <tr>\n",
       "      <th>1</th>\n",
       "      <td>0.312500</td>\n",
       "      <td>0.057203</td>\n",
       "      <td>0.128128</td>\n",
       "      <td>0.465736</td>\n",
       "      <td>0.081250</td>\n",
       "      <td>0.028056</td>\n",
       "      <td>0.265625</td>\n",
       "      <td>0.315613</td>\n",
       "      <td>0.520925</td>\n",
       "      <td>0.0</td>\n",
       "      <td>1.0</td>\n",
       "      <td>0.112238</td>\n",
       "      <td>0.318937</td>\n",
       "    </tr>\n",
       "    <tr>\n",
       "      <th rowspan=\"3\" valign=\"top\">GACXAAB</th>\n",
       "      <th>0</th>\n",
       "      <td>0.312500</td>\n",
       "      <td>0.053616</td>\n",
       "      <td>0.031151</td>\n",
       "      <td>0.466296</td>\n",
       "      <td>0.098837</td>\n",
       "      <td>0.033699</td>\n",
       "      <td>0.531250</td>\n",
       "      <td>0.306238</td>\n",
       "      <td>0.323659</td>\n",
       "      <td>0.0</td>\n",
       "      <td>0.2</td>\n",
       "      <td>0.030357</td>\n",
       "      <td>0.262458</td>\n",
       "    </tr>\n",
       "    <tr>\n",
       "      <th>1</th>\n",
       "      <td>0.395833</td>\n",
       "      <td>0.056871</td>\n",
       "      <td>0.048170</td>\n",
       "      <td>0.503356</td>\n",
       "      <td>0.075000</td>\n",
       "      <td>0.007053</td>\n",
       "      <td>0.546875</td>\n",
       "      <td>0.371864</td>\n",
       "      <td>0.271700</td>\n",
       "      <td>0.0</td>\n",
       "      <td>1.0</td>\n",
       "      <td>0.057868</td>\n",
       "      <td>0.318937</td>\n",
       "    </tr>\n",
       "    <tr>\n",
       "      <th>2</th>\n",
       "      <td>0.333333</td>\n",
       "      <td>0.069158</td>\n",
       "      <td>0.029144</td>\n",
       "      <td>0.490074</td>\n",
       "      <td>0.068750</td>\n",
       "      <td>0.071317</td>\n",
       "      <td>0.484375</td>\n",
       "      <td>0.381239</td>\n",
       "      <td>0.360646</td>\n",
       "      <td>0.0</td>\n",
       "      <td>1.0</td>\n",
       "      <td>0.044587</td>\n",
       "      <td>0.259136</td>\n",
       "    </tr>\n",
       "  </tbody>\n",
       "</table>\n",
       "<p>6188 rows × 13 columns</p>\n",
       "</div>"
      ],
      "text/plain": [
       "                 Температура_dinam_fact  Лимфоциты#_dinam_fact  \\\n",
       "case    t_point                                                  \n",
       "GACAAcY 0                      0.354167               0.059063   \n",
       "        1                      0.270833               0.059528   \n",
       "        2                      0.333333               0.060391   \n",
       "        3                      0.312500               0.060325   \n",
       "GACAAnf 0                      0.354510               0.054281   \n",
       "...                                 ...                    ...   \n",
       "GACBB;O 0                      0.395833               0.054347   \n",
       "        1                      0.312500               0.057203   \n",
       "GACXAAB 0                      0.312500               0.053616   \n",
       "        1                      0.395833               0.056871   \n",
       "        2                      0.333333               0.069158   \n",
       "\n",
       "                 АСТ_dinam_fact  ЧСС_dinam_fact  ЧДД_dinam_fact  \\\n",
       "case    t_point                                                   \n",
       "GACAAcY 0              0.033813        0.496644        0.125000   \n",
       "        1              0.032853        0.476510        0.093750   \n",
       "        2              0.035603        0.481220        0.087500   \n",
       "        3              0.033421        0.476510        0.087500   \n",
       "GACAAnf 0              0.030671        0.369128        0.112500   \n",
       "...                         ...             ...             ...   \n",
       "GACBB;O 0              0.031387        0.362416        0.087500   \n",
       "        1              0.128128        0.465736        0.081250   \n",
       "GACXAAB 0              0.031151        0.466296        0.098837   \n",
       "        1              0.048170        0.503356        0.075000   \n",
       "        2              0.029144        0.490074        0.068750   \n",
       "\n",
       "                 Билирубин общий_dinam_fact  \\\n",
       "case    t_point                               \n",
       "GACAAcY 0                          0.118339   \n",
       "        1                          0.093260   \n",
       "        2                          0.080601   \n",
       "        3                          0.087013   \n",
       "GACAAnf 0                          0.059561   \n",
       "...                                     ...   \n",
       "GACBB;O 0                          0.009639   \n",
       "        1                          0.028056   \n",
       "GACXAAB 0                          0.033699   \n",
       "        1                          0.007053   \n",
       "        2                          0.071317   \n",
       "\n",
       "                 MPV- Средн.объем тромбоцитов_dinam_fact  \\\n",
       "case    t_point                                            \n",
       "GACAAcY 0                                       0.578125   \n",
       "        1                                       0.531250   \n",
       "        2                                       0.562500   \n",
       "        3                                       0.593750   \n",
       "GACAAnf 0                                       0.335938   \n",
       "...                                                  ...   \n",
       "GACBB;O 0                                       0.250000   \n",
       "        1                                       0.265625   \n",
       "GACXAAB 0                                       0.531250   \n",
       "        1                                       0.546875   \n",
       "        2                                       0.484375   \n",
       "\n",
       "                 PCT- Тромбокрит_dinam_fact  Лимфоциты%_dinam_fact  \\\n",
       "case    t_point                                                      \n",
       "GACAAcY 0                          0.212486               0.583451   \n",
       "        1                          0.268737               0.428456   \n",
       "        2                          0.296862               0.361527   \n",
       "        3                          0.212486               0.370333   \n",
       "GACAAnf 0                          0.307175               0.370333   \n",
       "...                                     ...                    ...   \n",
       "GACBB;O 0                          0.244362               0.448711   \n",
       "        1                          0.315613               0.520925   \n",
       "GACXAAB 0                          0.306238               0.323659   \n",
       "        1                          0.371864               0.271700   \n",
       "        2                          0.381239               0.360646   \n",
       "\n",
       "                 снижение_сознания_dinam_fact  \\\n",
       "case    t_point                                 \n",
       "GACAAcY 0                                 0.0   \n",
       "        1                                 0.0   \n",
       "        2                                 0.0   \n",
       "        3                                 0.0   \n",
       "GACAAnf 0                                 0.0   \n",
       "...                                       ...   \n",
       "GACBB;O 0                                 0.0   \n",
       "        1                                 0.0   \n",
       "GACXAAB 0                                 0.0   \n",
       "        1                                 0.0   \n",
       "        2                                 0.0   \n",
       "\n",
       "                 Cтепень тяжести по КТ_dinam_fact  \\\n",
       "case    t_point                                     \n",
       "GACAAcY 0                                     0.4   \n",
       "        1                                     0.4   \n",
       "        2                                     1.0   \n",
       "        3                                     1.0   \n",
       "GACAAnf 0                                     0.2   \n",
       "...                                           ...   \n",
       "GACBB;O 0                                     0.2   \n",
       "        1                                     1.0   \n",
       "GACXAAB 0                                     0.2   \n",
       "        1                                     1.0   \n",
       "        2                                     1.0   \n",
       "\n",
       "                 Лактатдегидрогеназа_dinam_fact  \\\n",
       "case    t_point                                   \n",
       "GACAAcY 0                              0.036523   \n",
       "        1                              0.053125   \n",
       "        2                              0.047196   \n",
       "        3                              0.043401   \n",
       "GACAAnf 0                              0.023242   \n",
       "...                                         ...   \n",
       "GACBB;O 0                              0.041955   \n",
       "        1                              0.112238   \n",
       "GACXAAB 0                              0.030357   \n",
       "        1                              0.057868   \n",
       "        2                              0.044587   \n",
       "\n",
       "                 PDW- Индекс расп.по объему тр._dinam_fact  \n",
       "case    t_point                                             \n",
       "GACAAcY 0                                         0.338870  \n",
       "        1                                         0.299003  \n",
       "        2                                         0.322259  \n",
       "        3                                         0.308970  \n",
       "GACAAnf 0                                         0.461794  \n",
       "...                                                    ...  \n",
       "GACBB;O 0                                         0.365449  \n",
       "        1                                         0.318937  \n",
       "GACXAAB 0                                         0.262458  \n",
       "        1                                         0.318937  \n",
       "        2                                         0.259136  \n",
       "\n",
       "[6188 rows x 13 columns]"
      ]
     },
     "execution_count": 444,
     "metadata": {},
     "output_type": "execute_result"
    }
   ],
   "source": [
    "df_scaled = pd.DataFrame(df_scaled, index=dinam_fact_df.index, columns=dinam_fact_df.columns)\n",
    "df_scaled"
   ]
  },
  {
   "cell_type": "code",
   "execution_count": 445,
   "metadata": {},
   "outputs": [
    {
     "data": {
      "text/plain": [
       "array([[[0.35416667, 0.05906261, 0.0338134 , ..., 0.4       ,\n",
       "         0.03652344, 0.33887043],\n",
       "        [0.27083333, 0.05952753, 0.03285336, ..., 0.4       ,\n",
       "         0.05312501, 0.29900332],\n",
       "        [0.33333333, 0.06039096, 0.03560255, ..., 1.        ,\n",
       "         0.04719588, 0.32225914]],\n",
       "\n",
       "       [[0.33333333, 0.05348353, 0.11999824, ..., 0.6       ,\n",
       "         0.13850448, 0.2358804 ],\n",
       "        [0.29166667, 0.06251632, 0.03211152, ..., 1.        ,\n",
       "         0.04624722, 0.25913621],\n",
       "        [0.29166667, 0.05547606, 0.03171878, ..., 1.        ,\n",
       "         0.05952847, 0.27906977]],\n",
       "\n",
       "       [[0.29166667, 0.05341712, 0.02639496, ..., 0.6       ,\n",
       "         0.05644532, 0.31229236],\n",
       "        [0.29166667, 0.05467905, 0.03346429, ..., 1.        ,\n",
       "         0.04411273, 0.3255814 ],\n",
       "        [0.375     , 0.05534323, 0.02883868, ..., 1.        ,\n",
       "         0.03225447, 0.35880399]],\n",
       "\n",
       "       ...,\n",
       "\n",
       "       [[0.5       , 0.05434696, 0.03712988, ..., 0.2       ,\n",
       "         0.0211077 , 0.18604651],\n",
       "        [0.39583333, 0.05056116, 0.03150059, ..., 0.4       ,\n",
       "         0.03462612, 0.19269103],\n",
       "        [0.33333333, 0.05773426, 0.03298428, ..., 1.        ,\n",
       "         0.04624722, 0.23920266]],\n",
       "\n",
       "       [[0.33333333, 0.05952753, 0.03991834, ..., 0.6       ,\n",
       "         0.07382953, 0.38538206],\n",
       "        [0.25      , 0.06278199, 0.03549346, ..., 0.6       ,\n",
       "         0.06784348, 0.4717608 ],\n",
       "        [0.14583333, 0.06570436, 0.03415814, ..., 1.        ,\n",
       "         0.05954981, 0.42524917]],\n",
       "\n",
       "       [[0.35416667, 0.05036191, 0.04005362, ..., 0.2       ,\n",
       "         0.07043807, 0.26578073],\n",
       "        [0.3125    , 0.05262011, 0.04563927, ..., 1.        ,\n",
       "         0.04861887, 0.25249169],\n",
       "        [0.33333333, 0.06278199, 0.04446104, ..., 1.        ,\n",
       "         0.06996374, 0.25913621]]])"
      ]
     },
     "execution_count": 445,
     "metadata": {},
     "output_type": "execute_result"
    }
   ],
   "source": [
    "#module divides on X [[1, 2, 3, 4]] and y [5]\n",
    "WINDOW = 3\n",
    "PARAMS_LENGTH = 13\n",
    "\n",
    "def df_to_X_y(df, window = 3):\n",
    "    X, y = [], []\n",
    "    for i in df.index.levels[0]:\n",
    "        len_time_serie = dinam_fact_df.groupby([\"case\"]).size()[i]\n",
    "        if (len_time_serie < window+1):\n",
    "            continue\n",
    "        X.append(df.loc[(i, 0): (i, window-1)].to_numpy())\n",
    "        y.append(df.loc[(i, window)].to_numpy())\n",
    "    return np.array(X), np.array(y)\n",
    "\n",
    "X, y = df_to_X_y(df_scaled, WINDOW)\n",
    "X"
   ]
  },
  {
   "cell_type": "markdown",
   "metadata": {},
   "source": [
    "Divide on test and train splits and delete last element to divide samples on batches"
   ]
  },
  {
   "cell_type": "code",
   "execution_count": 446,
   "metadata": {},
   "outputs": [
    {
     "name": "stdout",
     "output_type": "stream",
     "text": [
      "(420, 3, 13)\n",
      "(96, 13)\n"
     ]
    }
   ],
   "source": [
    "X_train, X_test, y_train, y_test = train_test_split(X, y, test_size=0.2)\n",
    "X_train, y_train = X_train[:-4], y_train[:-4]\n",
    "X_test, y_test = X_test[:-10], y_test[:-10]\n",
    "print(X_train.shape)\n",
    "print(y_test.shape)"
   ]
  },
  {
   "cell_type": "markdown",
   "metadata": {},
   "source": [
    "### Training"
   ]
  },
  {
   "cell_type": "code",
   "execution_count": null,
   "metadata": {},
   "outputs": [],
   "source": [
    "#function with results \n",
    "def show_results(X_test, y_test, model, history, SAMPLE_N = 0, WINDOW = 3):\n",
    "    plt.subplot((1, 2, 1))\n",
    "    plt.plot(history.history[\"loss\"])\n",
    "    plt.plot(history.history[\"val_loss\"])\n",
    "    plt.subplot((1, 2, 2))\n",
    "    plt.plot(history.history[\"val_root_mean_squared_error\"])\n",
    "    plt.plot(history.history[\"val_r_square\"])\n",
    "    plt.legend([\"train loss\", \"validation loss\", \"validation root_mean_squared_error\", \"validation r_square\"])\n",
    "    X_test_0 = X_test[SAMPLE_N]\n",
    "    y_test_0 = y_test[SAMPLE_N]\n",
    "    y_pred = model.predict(np.array([X_test_0]*BATCH_SIZE), verbose=0)\n",
    "    y_pred_inv = scal_model.inverse_transform(y_pred)\n",
    "    predicted_values = [float(\"{:0.2f}\".format(x)) for x in y_pred_inv[0]]\n",
    "    real_values = [float(\"{:0.2f}\".format(x)) for x in scal_model.inverse_transform([y_test_0])[0]]\n",
    "    last_values = []\n",
    "    for j in range(WINDOW):\n",
    "        last_values.append([float(\"{:0.2f}\".format(x)) for x in scal_model.inverse_transform([X_test[SAMPLE_N][j]])[0]])\n",
    "    df = pd.DataFrame({dinam_fact_df.columns[i]:[last_values[0][i], last_values[1][i], last_values[2][i], real_values[i], predicted_values[i]] for i in range(len(real_values))}, index=[\"prev -3\", \"prev -2\", \"prev -1\", \"real\", \"predicted\"])\n",
    "    print(\"Parameters on test datasets: \\n\")\n",
    "    display(df)\n",
    "    print(list(zip(model.metrics_names, model.evaluate(X_test, y_test, batch_size=BATCH_SIZE))))\n",
    "    "
   ]
  },
  {
   "cell_type": "markdown",
   "metadata": {},
   "source": [
    "### One layer RNN size 13"
   ]
  },
  {
   "cell_type": "markdown",
   "metadata": {},
   "source": [
    "1. Simple RNN with state units 13 and batch size 1"
   ]
  },
  {
   "cell_type": "code",
   "execution_count": 448,
   "metadata": {},
   "outputs": [
    {
     "name": "stdout",
     "output_type": "stream",
     "text": [
      "Model: \"RNN13\"\n",
      "_________________________________________________________________\n",
      " Layer (type)                Output Shape              Param #   \n",
      "=================================================================\n",
      " simple_rnn_6 (SimpleRNN)    (1, 13)                   351       \n",
      "                                                                 \n",
      "=================================================================\n",
      "Total params: 351\n",
      "Trainable params: 351\n",
      "Non-trainable params: 0\n",
      "_________________________________________________________________\n"
     ]
    }
   ],
   "source": [
    "BATCH_SIZE=1\n",
    "\n",
    "model = Sequential(name=\"RNN13\")\n",
    "model.add(Input((WINDOW, PARAMS_LENGTH), batch_size=BATCH_SIZE))\n",
    "model.add(SimpleRNN(PARAMS_LENGTH, activation=\"relu\", return_sequences=False))\n",
    "model_simple_rnn_13 = model\n",
    "model_simple_rnn_13.compile(optimizer=\"adam\", loss=\"mse\", metrics=[RootMeanSquaredError(), RSquare()])\n",
    "model_simple_rnn_13.summary()"
   ]
  },
  {
   "cell_type": "markdown",
   "metadata": {},
   "source": [
    "Lets show learning history for the model. We see intersection on 15 epochs - model becomes overfit."
   ]
  },
  {
   "cell_type": "code",
   "execution_count": 449,
   "metadata": {},
   "outputs": [
    {
     "name": "stdout",
     "output_type": "stream",
     "text": [
      "INFO:tensorflow:Assets written to: RNN13\\assets\n"
     ]
    },
    {
     "name": "stderr",
     "output_type": "stream",
     "text": [
      "INFO:tensorflow:Assets written to: RNN13\\assets\n"
     ]
    },
    {
     "name": "stdout",
     "output_type": "stream",
     "text": [
      "INFO:tensorflow:Assets written to: RNN13\\assets\n"
     ]
    },
    {
     "name": "stderr",
     "output_type": "stream",
     "text": [
      "INFO:tensorflow:Assets written to: RNN13\\assets\n"
     ]
    },
    {
     "name": "stdout",
     "output_type": "stream",
     "text": [
      "INFO:tensorflow:Assets written to: RNN13\\assets\n"
     ]
    },
    {
     "name": "stderr",
     "output_type": "stream",
     "text": [
      "INFO:tensorflow:Assets written to: RNN13\\assets\n"
     ]
    },
    {
     "name": "stdout",
     "output_type": "stream",
     "text": [
      "INFO:tensorflow:Assets written to: RNN13\\assets\n"
     ]
    },
    {
     "name": "stderr",
     "output_type": "stream",
     "text": [
      "INFO:tensorflow:Assets written to: RNN13\\assets\n"
     ]
    },
    {
     "name": "stdout",
     "output_type": "stream",
     "text": [
      "INFO:tensorflow:Assets written to: RNN13\\assets\n"
     ]
    },
    {
     "name": "stderr",
     "output_type": "stream",
     "text": [
      "INFO:tensorflow:Assets written to: RNN13\\assets\n"
     ]
    },
    {
     "name": "stdout",
     "output_type": "stream",
     "text": [
      "INFO:tensorflow:Assets written to: RNN13\\assets\n"
     ]
    },
    {
     "name": "stderr",
     "output_type": "stream",
     "text": [
      "INFO:tensorflow:Assets written to: RNN13\\assets\n"
     ]
    },
    {
     "name": "stdout",
     "output_type": "stream",
     "text": [
      "INFO:tensorflow:Assets written to: RNN13\\assets\n"
     ]
    },
    {
     "name": "stderr",
     "output_type": "stream",
     "text": [
      "INFO:tensorflow:Assets written to: RNN13\\assets\n"
     ]
    },
    {
     "name": "stdout",
     "output_type": "stream",
     "text": [
      "INFO:tensorflow:Assets written to: RNN13\\assets\n"
     ]
    },
    {
     "name": "stderr",
     "output_type": "stream",
     "text": [
      "INFO:tensorflow:Assets written to: RNN13\\assets\n"
     ]
    },
    {
     "name": "stdout",
     "output_type": "stream",
     "text": [
      "INFO:tensorflow:Assets written to: RNN13\\assets\n"
     ]
    },
    {
     "name": "stderr",
     "output_type": "stream",
     "text": [
      "INFO:tensorflow:Assets written to: RNN13\\assets\n"
     ]
    },
    {
     "name": "stdout",
     "output_type": "stream",
     "text": [
      "INFO:tensorflow:Assets written to: RNN13\\assets\n"
     ]
    },
    {
     "name": "stderr",
     "output_type": "stream",
     "text": [
      "INFO:tensorflow:Assets written to: RNN13\\assets\n"
     ]
    },
    {
     "name": "stdout",
     "output_type": "stream",
     "text": [
      "INFO:tensorflow:Assets written to: RNN13\\assets\n"
     ]
    },
    {
     "name": "stderr",
     "output_type": "stream",
     "text": [
      "INFO:tensorflow:Assets written to: RNN13\\assets\n"
     ]
    },
    {
     "name": "stdout",
     "output_type": "stream",
     "text": [
      "INFO:tensorflow:Assets written to: RNN13\\assets\n"
     ]
    },
    {
     "name": "stderr",
     "output_type": "stream",
     "text": [
      "INFO:tensorflow:Assets written to: RNN13\\assets\n"
     ]
    },
    {
     "name": "stdout",
     "output_type": "stream",
     "text": [
      "INFO:tensorflow:Assets written to: RNN13\\assets\n"
     ]
    },
    {
     "name": "stderr",
     "output_type": "stream",
     "text": [
      "INFO:tensorflow:Assets written to: RNN13\\assets\n"
     ]
    },
    {
     "name": "stdout",
     "output_type": "stream",
     "text": [
      "INFO:tensorflow:Assets written to: RNN13\\assets\n"
     ]
    },
    {
     "name": "stderr",
     "output_type": "stream",
     "text": [
      "INFO:tensorflow:Assets written to: RNN13\\assets\n"
     ]
    },
    {
     "name": "stdout",
     "output_type": "stream",
     "text": [
      "INFO:tensorflow:Assets written to: RNN13\\assets\n"
     ]
    },
    {
     "name": "stderr",
     "output_type": "stream",
     "text": [
      "INFO:tensorflow:Assets written to: RNN13\\assets\n"
     ]
    },
    {
     "name": "stdout",
     "output_type": "stream",
     "text": [
      "INFO:tensorflow:Assets written to: RNN13\\assets\n"
     ]
    },
    {
     "name": "stderr",
     "output_type": "stream",
     "text": [
      "INFO:tensorflow:Assets written to: RNN13\\assets\n"
     ]
    },
    {
     "name": "stdout",
     "output_type": "stream",
     "text": [
      "INFO:tensorflow:Assets written to: RNN13\\assets\n"
     ]
    },
    {
     "name": "stderr",
     "output_type": "stream",
     "text": [
      "INFO:tensorflow:Assets written to: RNN13\\assets\n"
     ]
    },
    {
     "name": "stdout",
     "output_type": "stream",
     "text": [
      "INFO:tensorflow:Assets written to: RNN13\\assets\n"
     ]
    },
    {
     "name": "stderr",
     "output_type": "stream",
     "text": [
      "INFO:tensorflow:Assets written to: RNN13\\assets\n"
     ]
    },
    {
     "name": "stdout",
     "output_type": "stream",
     "text": [
      "INFO:tensorflow:Assets written to: RNN13\\assets\n"
     ]
    },
    {
     "name": "stderr",
     "output_type": "stream",
     "text": [
      "INFO:tensorflow:Assets written to: RNN13\\assets\n"
     ]
    },
    {
     "name": "stdout",
     "output_type": "stream",
     "text": [
      "INFO:tensorflow:Assets written to: RNN13\\assets\n"
     ]
    },
    {
     "name": "stderr",
     "output_type": "stream",
     "text": [
      "INFO:tensorflow:Assets written to: RNN13\\assets\n"
     ]
    },
    {
     "name": "stdout",
     "output_type": "stream",
     "text": [
      "INFO:tensorflow:Assets written to: RNN13\\assets\n"
     ]
    },
    {
     "name": "stderr",
     "output_type": "stream",
     "text": [
      "INFO:tensorflow:Assets written to: RNN13\\assets\n"
     ]
    },
    {
     "name": "stdout",
     "output_type": "stream",
     "text": [
      "INFO:tensorflow:Assets written to: RNN13\\assets\n"
     ]
    },
    {
     "name": "stderr",
     "output_type": "stream",
     "text": [
      "INFO:tensorflow:Assets written to: RNN13\\assets\n"
     ]
    },
    {
     "name": "stdout",
     "output_type": "stream",
     "text": [
      "INFO:tensorflow:Assets written to: RNN13\\assets\n"
     ]
    },
    {
     "name": "stderr",
     "output_type": "stream",
     "text": [
      "INFO:tensorflow:Assets written to: RNN13\\assets\n"
     ]
    },
    {
     "name": "stdout",
     "output_type": "stream",
     "text": [
      "INFO:tensorflow:Assets written to: RNN13\\assets\n"
     ]
    },
    {
     "name": "stderr",
     "output_type": "stream",
     "text": [
      "INFO:tensorflow:Assets written to: RNN13\\assets\n"
     ]
    },
    {
     "name": "stdout",
     "output_type": "stream",
     "text": [
      "INFO:tensorflow:Assets written to: RNN13\\assets\n"
     ]
    },
    {
     "name": "stderr",
     "output_type": "stream",
     "text": [
      "INFO:tensorflow:Assets written to: RNN13\\assets\n"
     ]
    },
    {
     "name": "stdout",
     "output_type": "stream",
     "text": [
      "INFO:tensorflow:Assets written to: RNN13\\assets\n"
     ]
    },
    {
     "name": "stderr",
     "output_type": "stream",
     "text": [
      "INFO:tensorflow:Assets written to: RNN13\\assets\n"
     ]
    },
    {
     "name": "stdout",
     "output_type": "stream",
     "text": [
      "INFO:tensorflow:Assets written to: RNN13\\assets\n"
     ]
    },
    {
     "name": "stderr",
     "output_type": "stream",
     "text": [
      "INFO:tensorflow:Assets written to: RNN13\\assets\n"
     ]
    },
    {
     "name": "stdout",
     "output_type": "stream",
     "text": [
      "INFO:tensorflow:Assets written to: RNN13\\assets\n"
     ]
    },
    {
     "name": "stderr",
     "output_type": "stream",
     "text": [
      "INFO:tensorflow:Assets written to: RNN13\\assets\n"
     ]
    },
    {
     "name": "stdout",
     "output_type": "stream",
     "text": [
      "INFO:tensorflow:Assets written to: RNN13\\assets\n"
     ]
    },
    {
     "name": "stderr",
     "output_type": "stream",
     "text": [
      "INFO:tensorflow:Assets written to: RNN13\\assets\n"
     ]
    }
   ],
   "source": [
    "history = model_simple_rnn_13.fit(X_train, y_train,\n",
    " epochs=30, validation_split=0.1, batch_size=BATCH_SIZE,\n",
    " shuffle=False, callbacks=[ModelCheckpoint(\"RNN13\", save_best_only=True, verbose=0)], verbose=0)\n"
   ]
  },
  {
   "cell_type": "markdown",
   "metadata": {},
   "source": [
    "Lets show on table what we have predicted:"
   ]
  },
  {
   "cell_type": "code",
   "execution_count": 450,
   "metadata": {},
   "outputs": [
    {
     "name": "stdout",
     "output_type": "stream",
     "text": [
      "WARNING:tensorflow:6 out of the last 19 calls to <function Model.make_predict_function.<locals>.predict_function at 0x000001C4F1E911B0> triggered tf.function retracing. Tracing is expensive and the excessive number of tracings could be due to (1) creating @tf.function repeatedly in a loop, (2) passing tensors with different shapes, (3) passing Python objects instead of tensors. For (1), please define your @tf.function outside of the loop. For (2), @tf.function has reduce_retracing=True option that can avoid unnecessary retracing. For (3), please refer to https://www.tensorflow.org/guide/function#controlling_retracing and https://www.tensorflow.org/api_docs/python/tf/function for  more details.\n"
     ]
    },
    {
     "name": "stderr",
     "output_type": "stream",
     "text": [
      "WARNING:tensorflow:6 out of the last 19 calls to <function Model.make_predict_function.<locals>.predict_function at 0x000001C4F1E911B0> triggered tf.function retracing. Tracing is expensive and the excessive number of tracings could be due to (1) creating @tf.function repeatedly in a loop, (2) passing tensors with different shapes, (3) passing Python objects instead of tensors. For (1), please define your @tf.function outside of the loop. For (2), @tf.function has reduce_retracing=True option that can avoid unnecessary retracing. For (3), please refer to https://www.tensorflow.org/guide/function#controlling_retracing and https://www.tensorflow.org/api_docs/python/tf/function for  more details.\n"
     ]
    },
    {
     "name": "stdout",
     "output_type": "stream",
     "text": [
      "Parameters on test datasets: \n",
      "\n"
     ]
    },
    {
     "data": {
      "text/html": [
       "<div>\n",
       "<style scoped>\n",
       "    .dataframe tbody tr th:only-of-type {\n",
       "        vertical-align: middle;\n",
       "    }\n",
       "\n",
       "    .dataframe tbody tr th {\n",
       "        vertical-align: top;\n",
       "    }\n",
       "\n",
       "    .dataframe thead th {\n",
       "        text-align: right;\n",
       "    }\n",
       "</style>\n",
       "<table border=\"1\" class=\"dataframe\">\n",
       "  <thead>\n",
       "    <tr style=\"text-align: right;\">\n",
       "      <th></th>\n",
       "      <th>Температура_dinam_fact</th>\n",
       "      <th>Лимфоциты#_dinam_fact</th>\n",
       "      <th>АСТ_dinam_fact</th>\n",
       "      <th>ЧСС_dinam_fact</th>\n",
       "      <th>ЧДД_dinam_fact</th>\n",
       "      <th>Билирубин общий_dinam_fact</th>\n",
       "      <th>MPV- Средн.объем тромбоцитов_dinam_fact</th>\n",
       "      <th>PCT- Тромбокрит_dinam_fact</th>\n",
       "      <th>Лимфоциты%_dinam_fact</th>\n",
       "      <th>снижение_сознания_dinam_fact</th>\n",
       "      <th>Cтепень тяжести по КТ_dinam_fact</th>\n",
       "      <th>Лактатдегидрогеназа_dinam_fact</th>\n",
       "      <th>PDW- Индекс расп.по объему тр._dinam_fact</th>\n",
       "    </tr>\n",
       "  </thead>\n",
       "  <tbody>\n",
       "    <tr>\n",
       "      <th>prev -3</th>\n",
       "      <td>36.75</td>\n",
       "      <td>1.12</td>\n",
       "      <td>21.10</td>\n",
       "      <td>72.00</td>\n",
       "      <td>21.00</td>\n",
       "      <td>5.00</td>\n",
       "      <td>8.70</td>\n",
       "      <td>0.18</td>\n",
       "      <td>24.90</td>\n",
       "      <td>0.0</td>\n",
       "      <td>1.00</td>\n",
       "      <td>173.0</td>\n",
       "      <td>16.40</td>\n",
       "    </tr>\n",
       "    <tr>\n",
       "      <th>prev -2</th>\n",
       "      <td>36.62</td>\n",
       "      <td>1.36</td>\n",
       "      <td>26.20</td>\n",
       "      <td>79.00</td>\n",
       "      <td>19.00</td>\n",
       "      <td>11.28</td>\n",
       "      <td>9.10</td>\n",
       "      <td>0.28</td>\n",
       "      <td>16.40</td>\n",
       "      <td>0.0</td>\n",
       "      <td>5.00</td>\n",
       "      <td>212.0</td>\n",
       "      <td>21.60</td>\n",
       "    </tr>\n",
       "    <tr>\n",
       "      <th>prev -1</th>\n",
       "      <td>36.69</td>\n",
       "      <td>1.98</td>\n",
       "      <td>26.61</td>\n",
       "      <td>79.00</td>\n",
       "      <td>16.00</td>\n",
       "      <td>8.82</td>\n",
       "      <td>8.40</td>\n",
       "      <td>0.33</td>\n",
       "      <td>31.90</td>\n",
       "      <td>0.0</td>\n",
       "      <td>2.00</td>\n",
       "      <td>209.0</td>\n",
       "      <td>20.80</td>\n",
       "    </tr>\n",
       "    <tr>\n",
       "      <th>real</th>\n",
       "      <td>36.58</td>\n",
       "      <td>0.43</td>\n",
       "      <td>163.57</td>\n",
       "      <td>76.56</td>\n",
       "      <td>24.53</td>\n",
       "      <td>12.67</td>\n",
       "      <td>8.44</td>\n",
       "      <td>0.11</td>\n",
       "      <td>35.46</td>\n",
       "      <td>2.0</td>\n",
       "      <td>5.00</td>\n",
       "      <td>522.1</td>\n",
       "      <td>18.60</td>\n",
       "    </tr>\n",
       "    <tr>\n",
       "      <th>predicted</th>\n",
       "      <td>36.74</td>\n",
       "      <td>4.71</td>\n",
       "      <td>-49.59</td>\n",
       "      <td>79.36</td>\n",
       "      <td>16.97</td>\n",
       "      <td>9.38</td>\n",
       "      <td>8.55</td>\n",
       "      <td>0.27</td>\n",
       "      <td>-17.95</td>\n",
       "      <td>0.0</td>\n",
       "      <td>4.55</td>\n",
       "      <td>91.0</td>\n",
       "      <td>18.99</td>\n",
       "    </tr>\n",
       "  </tbody>\n",
       "</table>\n",
       "</div>"
      ],
      "text/plain": [
       "           Температура_dinam_fact  Лимфоциты#_dinam_fact  АСТ_dinam_fact  \\\n",
       "prev -3                     36.75                   1.12           21.10   \n",
       "prev -2                     36.62                   1.36           26.20   \n",
       "prev -1                     36.69                   1.98           26.61   \n",
       "real                        36.58                   0.43          163.57   \n",
       "predicted                   36.74                   4.71          -49.59   \n",
       "\n",
       "           ЧСС_dinam_fact  ЧДД_dinam_fact  Билирубин общий_dinam_fact  \\\n",
       "prev -3             72.00           21.00                        5.00   \n",
       "prev -2             79.00           19.00                       11.28   \n",
       "prev -1             79.00           16.00                        8.82   \n",
       "real                76.56           24.53                       12.67   \n",
       "predicted           79.36           16.97                        9.38   \n",
       "\n",
       "           MPV- Средн.объем тромбоцитов_dinam_fact  \\\n",
       "prev -3                                       8.70   \n",
       "prev -2                                       9.10   \n",
       "prev -1                                       8.40   \n",
       "real                                          8.44   \n",
       "predicted                                     8.55   \n",
       "\n",
       "           PCT- Тромбокрит_dinam_fact  Лимфоциты%_dinam_fact  \\\n",
       "prev -3                          0.18                  24.90   \n",
       "prev -2                          0.28                  16.40   \n",
       "prev -1                          0.33                  31.90   \n",
       "real                             0.11                  35.46   \n",
       "predicted                        0.27                 -17.95   \n",
       "\n",
       "           снижение_сознания_dinam_fact  Cтепень тяжести по КТ_dinam_fact  \\\n",
       "prev -3                             0.0                              1.00   \n",
       "prev -2                             0.0                              5.00   \n",
       "prev -1                             0.0                              2.00   \n",
       "real                                2.0                              5.00   \n",
       "predicted                           0.0                              4.55   \n",
       "\n",
       "           Лактатдегидрогеназа_dinam_fact  \\\n",
       "prev -3                             173.0   \n",
       "prev -2                             212.0   \n",
       "prev -1                             209.0   \n",
       "real                                522.1   \n",
       "predicted                            91.0   \n",
       "\n",
       "           PDW- Индекс расп.по объему тр._dinam_fact  \n",
       "prev -3                                        16.40  \n",
       "prev -2                                        21.60  \n",
       "prev -1                                        20.80  \n",
       "real                                           18.60  \n",
       "predicted                                      18.99  "
      ]
     },
     "metadata": {},
     "output_type": "display_data"
    },
    {
     "name": "stdout",
     "output_type": "stream",
     "text": [
      "96/96 [==============================] - 0s 2ms/step - loss: 0.0274 - root_mean_squared_error: 0.1656 - r_square: -4.8147\n",
      "[('loss', 0.027439333498477936), ('root_mean_squared_error', 0.16564825177192688), ('r_square', -4.814680099487305)]\n"
     ]
    },
    {
     "data": {
      "image/png": "[encoded data removed]",
      "text/plain": [
       "<Figure size 432x288 with 1 Axes>"
      ]
     },
     "metadata": {
      "needs_background": "light"
     },
     "output_type": "display_data"
    }
   ],
   "source": [
    "show_results(X_test, y_test, model_simple_rnn_13, history, 1, 3)"
   ]
  },
  {
   "cell_type": "markdown",
   "metadata": {},
   "source": [
    "### LSTM with 13 units and batch 1"
   ]
  },
  {
   "cell_type": "code",
   "execution_count": 451,
   "metadata": {},
   "outputs": [
    {
     "name": "stdout",
     "output_type": "stream",
     "text": [
      "Model: \"LSTM13\"\n",
      "_________________________________________________________________\n",
      " Layer (type)                Output Shape              Param #   \n",
      "=================================================================\n",
      " lstm_10 (LSTM)              (1, 13)                   1404      \n",
      "                                                                 \n",
      "=================================================================\n",
      "Total params: 1,404\n",
      "Trainable params: 1,404\n",
      "Non-trainable params: 0\n",
      "_________________________________________________________________\n"
     ]
    }
   ],
   "source": [
    "BATCH_SIZE=1\n",
    "\n",
    "model = Sequential(name=\"LSTM13\")\n",
    "model.add(Input((WINDOW, PARAMS_LENGTH), batch_size=BATCH_SIZE))\n",
    "model.add(LSTM(PARAMS_LENGTH, activation=\"tanh\", return_sequences=False))\n",
    "model_lstm_13 = model\n",
    "model_lstm_13.compile(optimizer=\"adam\", loss=\"mse\", metrics=[RootMeanSquaredError(), RSquare()])\n",
    "model_lstm_13.summary()"
   ]
  },
  {
   "cell_type": "code",
   "execution_count": null,
   "metadata": {},
   "outputs": [],
   "source": [
    "history = model_lstm_13.fit(X_train, y_train,\n",
    " epochs=30, validation_split=0.1, batch_size=BATCH_SIZE,\n",
    " shuffle=False, callbacks=[ModelCheckpoint(\"LSTM13\", save_best_only=True, verbose=0)], verbose=0)\n"
   ]
  },
  {
   "cell_type": "code",
   "execution_count": 453,
   "metadata": {},
   "outputs": [
    {
     "name": "stdout",
     "output_type": "stream",
     "text": [
      "Parameters on test datasets: \n",
      "\n"
     ]
    },
    {
     "data": {
      "text/html": [
       "<div>\n",
       "<style scoped>\n",
       "    .dataframe tbody tr th:only-of-type {\n",
       "        vertical-align: middle;\n",
       "    }\n",
       "\n",
       "    .dataframe tbody tr th {\n",
       "        vertical-align: top;\n",
       "    }\n",
       "\n",
       "    .dataframe thead th {\n",
       "        text-align: right;\n",
       "    }\n",
       "</style>\n",
       "<table border=\"1\" class=\"dataframe\">\n",
       "  <thead>\n",
       "    <tr style=\"text-align: right;\">\n",
       "      <th></th>\n",
       "      <th>Температура_dinam_fact</th>\n",
       "      <th>Лимфоциты#_dinam_fact</th>\n",
       "      <th>АСТ_dinam_fact</th>\n",
       "      <th>ЧСС_dinam_fact</th>\n",
       "      <th>ЧДД_dinam_fact</th>\n",
       "      <th>Билирубин общий_dinam_fact</th>\n",
       "      <th>MPV- Средн.объем тромбоцитов_dinam_fact</th>\n",
       "      <th>PCT- Тромбокрит_dinam_fact</th>\n",
       "      <th>Лимфоциты%_dinam_fact</th>\n",
       "      <th>снижение_сознания_dinam_fact</th>\n",
       "      <th>Cтепень тяжести по КТ_dinam_fact</th>\n",
       "      <th>Лактатдегидрогеназа_dinam_fact</th>\n",
       "      <th>PDW- Индекс расп.по объему тр._dinam_fact</th>\n",
       "    </tr>\n",
       "  </thead>\n",
       "  <tbody>\n",
       "    <tr>\n",
       "      <th>prev -3</th>\n",
       "      <td>36.75</td>\n",
       "      <td>1.12</td>\n",
       "      <td>21.10</td>\n",
       "      <td>72.00</td>\n",
       "      <td>21.00</td>\n",
       "      <td>5.00</td>\n",
       "      <td>8.70</td>\n",
       "      <td>0.18</td>\n",
       "      <td>24.90</td>\n",
       "      <td>0.00</td>\n",
       "      <td>1.00</td>\n",
       "      <td>173.00</td>\n",
       "      <td>16.40</td>\n",
       "    </tr>\n",
       "    <tr>\n",
       "      <th>prev -2</th>\n",
       "      <td>36.62</td>\n",
       "      <td>1.36</td>\n",
       "      <td>26.20</td>\n",
       "      <td>79.00</td>\n",
       "      <td>19.00</td>\n",
       "      <td>11.28</td>\n",
       "      <td>9.10</td>\n",
       "      <td>0.28</td>\n",
       "      <td>16.40</td>\n",
       "      <td>0.00</td>\n",
       "      <td>5.00</td>\n",
       "      <td>212.00</td>\n",
       "      <td>21.60</td>\n",
       "    </tr>\n",
       "    <tr>\n",
       "      <th>prev -1</th>\n",
       "      <td>36.69</td>\n",
       "      <td>1.98</td>\n",
       "      <td>26.61</td>\n",
       "      <td>79.00</td>\n",
       "      <td>16.00</td>\n",
       "      <td>8.82</td>\n",
       "      <td>8.40</td>\n",
       "      <td>0.33</td>\n",
       "      <td>31.90</td>\n",
       "      <td>0.00</td>\n",
       "      <td>2.00</td>\n",
       "      <td>209.00</td>\n",
       "      <td>20.80</td>\n",
       "    </tr>\n",
       "    <tr>\n",
       "      <th>real</th>\n",
       "      <td>36.58</td>\n",
       "      <td>0.43</td>\n",
       "      <td>163.57</td>\n",
       "      <td>76.56</td>\n",
       "      <td>24.53</td>\n",
       "      <td>12.67</td>\n",
       "      <td>8.44</td>\n",
       "      <td>0.11</td>\n",
       "      <td>35.46</td>\n",
       "      <td>2.00</td>\n",
       "      <td>5.00</td>\n",
       "      <td>522.10</td>\n",
       "      <td>18.60</td>\n",
       "    </tr>\n",
       "    <tr>\n",
       "      <th>predicted</th>\n",
       "      <td>36.68</td>\n",
       "      <td>1.94</td>\n",
       "      <td>51.44</td>\n",
       "      <td>76.78</td>\n",
       "      <td>18.71</td>\n",
       "      <td>8.72</td>\n",
       "      <td>8.83</td>\n",
       "      <td>0.24</td>\n",
       "      <td>29.75</td>\n",
       "      <td>0.03</td>\n",
       "      <td>4.39</td>\n",
       "      <td>298.93</td>\n",
       "      <td>17.83</td>\n",
       "    </tr>\n",
       "  </tbody>\n",
       "</table>\n",
       "</div>"
      ],
      "text/plain": [
       "           Температура_dinam_fact  Лимфоциты#_dinam_fact  АСТ_dinam_fact  \\\n",
       "prev -3                     36.75                   1.12           21.10   \n",
       "prev -2                     36.62                   1.36           26.20   \n",
       "prev -1                     36.69                   1.98           26.61   \n",
       "real                        36.58                   0.43          163.57   \n",
       "predicted                   36.68                   1.94           51.44   \n",
       "\n",
       "           ЧСС_dinam_fact  ЧДД_dinam_fact  Билирубин общий_dinam_fact  \\\n",
       "prev -3             72.00           21.00                        5.00   \n",
       "prev -2             79.00           19.00                       11.28   \n",
       "prev -1             79.00           16.00                        8.82   \n",
       "real                76.56           24.53                       12.67   \n",
       "predicted           76.78           18.71                        8.72   \n",
       "\n",
       "           MPV- Средн.объем тромбоцитов_dinam_fact  \\\n",
       "prev -3                                       8.70   \n",
       "prev -2                                       9.10   \n",
       "prev -1                                       8.40   \n",
       "real                                          8.44   \n",
       "predicted                                     8.83   \n",
       "\n",
       "           PCT- Тромбокрит_dinam_fact  Лимфоциты%_dinam_fact  \\\n",
       "prev -3                          0.18                  24.90   \n",
       "prev -2                          0.28                  16.40   \n",
       "prev -1                          0.33                  31.90   \n",
       "real                             0.11                  35.46   \n",
       "predicted                        0.24                  29.75   \n",
       "\n",
       "           снижение_сознания_dinam_fact  Cтепень тяжести по КТ_dinam_fact  \\\n",
       "prev -3                            0.00                              1.00   \n",
       "prev -2                            0.00                              5.00   \n",
       "prev -1                            0.00                              2.00   \n",
       "real                               2.00                              5.00   \n",
       "predicted                          0.03                              4.39   \n",
       "\n",
       "           Лактатдегидрогеназа_dinam_fact  \\\n",
       "prev -3                            173.00   \n",
       "prev -2                            212.00   \n",
       "prev -1                            209.00   \n",
       "real                               522.10   \n",
       "predicted                          298.93   \n",
       "\n",
       "           PDW- Индекс расп.по объему тр._dinam_fact  \n",
       "prev -3                                        16.40  \n",
       "prev -2                                        21.60  \n",
       "prev -1                                        20.80  \n",
       "real                                           18.60  \n",
       "predicted                                      17.83  "
      ]
     },
     "metadata": {},
     "output_type": "display_data"
    },
    {
     "name": "stdout",
     "output_type": "stream",
     "text": [
      "96/96 [==============================] - 0s 3ms/step - loss: 0.0107 - root_mean_squared_error: 0.1033 - r_square: -0.6272\n",
      "[('loss', 0.01066375058144331), ('root_mean_squared_error', 0.1032654270529747), ('r_square', -0.6271727085113525)]\n"
     ]
    },
    {
     "data": {
      "image/png": "[encoded data removed]",
      "text/plain": [
       "<Figure size 432x288 with 1 Axes>"
      ]
     },
     "metadata": {
      "needs_background": "light"
     },
     "output_type": "display_data"
    }
   ],
   "source": [
    "show_results(X_test, y_test, model_lstm_13, history, 1, 3)"
   ]
  },
  {
   "cell_type": "markdown",
   "metadata": {},
   "source": [
    "### LSTM13 with batch 32"
   ]
  },
  {
   "cell_type": "code",
   "execution_count": 454,
   "metadata": {},
   "outputs": [
    {
     "name": "stdout",
     "output_type": "stream",
     "text": [
      "Model: \"LSTM13\"\n",
      "_________________________________________________________________\n",
      " Layer (type)                Output Shape              Param #   \n",
      "=================================================================\n",
      " lstm_11 (LSTM)              (12, 13)                  1404      \n",
      "                                                                 \n",
      "=================================================================\n",
      "Total params: 1,404\n",
      "Trainable params: 1,404\n",
      "Non-trainable params: 0\n",
      "_________________________________________________________________\n"
     ]
    }
   ],
   "source": [
    "BATCH_SIZE=12\n",
    "\n",
    "model = Sequential(name=\"LSTM13\")\n",
    "model.add(Input((WINDOW, PARAMS_LENGTH), batch_size=BATCH_SIZE))\n",
    "model.add(LSTM(PARAMS_LENGTH, activation=\"tanh\", return_sequences=False))\n",
    "model_lstm_13 = model\n",
    "model_lstm_13.compile(optimizer=\"adam\", loss=\"mse\", metrics=[RootMeanSquaredError(), RSquare()])\n",
    "model_lstm_13.summary()"
   ]
  },
  {
   "cell_type": "code",
   "execution_count": 461,
   "metadata": {},
   "outputs": [
    {
     "name": "stderr",
     "output_type": "stream",
     "text": [
      "WARNING:absl:Found untraced functions such as lstm_cell_11_layer_call_fn, lstm_cell_11_layer_call_and_return_conditional_losses while saving (showing 2 of 2). These functions will not be directly callable after loading.\n"
     ]
    },
    {
     "name": "stdout",
     "output_type": "stream",
     "text": [
      "INFO:tensorflow:Assets written to: LSTM13\\assets\n"
     ]
    },
    {
     "name": "stderr",
     "output_type": "stream",
     "text": [
      "INFO:tensorflow:Assets written to: LSTM13\\assets\n",
      "WARNING:absl:Found untraced functions such as lstm_cell_11_layer_call_fn, lstm_cell_11_layer_call_and_return_conditional_losses while saving (showing 2 of 2). These functions will not be directly callable after loading.\n"
     ]
    },
    {
     "name": "stdout",
     "output_type": "stream",
     "text": [
      "INFO:tensorflow:Assets written to: LSTM13\\assets\n"
     ]
    },
    {
     "name": "stderr",
     "output_type": "stream",
     "text": [
      "INFO:tensorflow:Assets written to: LSTM13\\assets\n",
      "WARNING:absl:Found untraced functions such as lstm_cell_11_layer_call_fn, lstm_cell_11_layer_call_and_return_conditional_losses while saving (showing 2 of 2). These functions will not be directly callable after loading.\n"
     ]
    },
    {
     "name": "stdout",
     "output_type": "stream",
     "text": [
      "INFO:tensorflow:Assets written to: LSTM13\\assets\n"
     ]
    },
    {
     "name": "stderr",
     "output_type": "stream",
     "text": [
      "INFO:tensorflow:Assets written to: LSTM13\\assets\n",
      "WARNING:absl:Found untraced functions such as lstm_cell_11_layer_call_fn, lstm_cell_11_layer_call_and_return_conditional_losses while saving (showing 2 of 2). These functions will not be directly callable after loading.\n"
     ]
    },
    {
     "name": "stdout",
     "output_type": "stream",
     "text": [
      "INFO:tensorflow:Assets written to: LSTM13\\assets\n"
     ]
    },
    {
     "name": "stderr",
     "output_type": "stream",
     "text": [
      "INFO:tensorflow:Assets written to: LSTM13\\assets\n",
      "WARNING:absl:Found untraced functions such as lstm_cell_11_layer_call_fn, lstm_cell_11_layer_call_and_return_conditional_losses while saving (showing 2 of 2). These functions will not be directly callable after loading.\n"
     ]
    },
    {
     "name": "stdout",
     "output_type": "stream",
     "text": [
      "INFO:tensorflow:Assets written to: LSTM13\\assets\n"
     ]
    },
    {
     "name": "stderr",
     "output_type": "stream",
     "text": [
      "INFO:tensorflow:Assets written to: LSTM13\\assets\n",
      "WARNING:absl:Found untraced functions such as lstm_cell_11_layer_call_fn, lstm_cell_11_layer_call_and_return_conditional_losses while saving (showing 2 of 2). These functions will not be directly callable after loading.\n"
     ]
    },
    {
     "name": "stdout",
     "output_type": "stream",
     "text": [
      "INFO:tensorflow:Assets written to: LSTM13\\assets\n"
     ]
    },
    {
     "name": "stderr",
     "output_type": "stream",
     "text": [
      "INFO:tensorflow:Assets written to: LSTM13\\assets\n",
      "WARNING:absl:Found untraced functions such as lstm_cell_11_layer_call_fn, lstm_cell_11_layer_call_and_return_conditional_losses while saving (showing 2 of 2). These functions will not be directly callable after loading.\n"
     ]
    },
    {
     "name": "stdout",
     "output_type": "stream",
     "text": [
      "INFO:tensorflow:Assets written to: LSTM13\\assets\n"
     ]
    },
    {
     "name": "stderr",
     "output_type": "stream",
     "text": [
      "INFO:tensorflow:Assets written to: LSTM13\\assets\n",
      "WARNING:absl:Found untraced functions such as lstm_cell_11_layer_call_fn, lstm_cell_11_layer_call_and_return_conditional_losses while saving (showing 2 of 2). These functions will not be directly callable after loading.\n"
     ]
    },
    {
     "name": "stdout",
     "output_type": "stream",
     "text": [
      "INFO:tensorflow:Assets written to: LSTM13\\assets\n"
     ]
    },
    {
     "name": "stderr",
     "output_type": "stream",
     "text": [
      "INFO:tensorflow:Assets written to: LSTM13\\assets\n",
      "WARNING:absl:Found untraced functions such as lstm_cell_11_layer_call_fn, lstm_cell_11_layer_call_and_return_conditional_losses while saving (showing 2 of 2). These functions will not be directly callable after loading.\n"
     ]
    },
    {
     "name": "stdout",
     "output_type": "stream",
     "text": [
      "INFO:tensorflow:Assets written to: LSTM13\\assets\n"
     ]
    },
    {
     "name": "stderr",
     "output_type": "stream",
     "text": [
      "INFO:tensorflow:Assets written to: LSTM13\\assets\n",
      "WARNING:absl:Found untraced functions such as lstm_cell_11_layer_call_fn, lstm_cell_11_layer_call_and_return_conditional_losses while saving (showing 2 of 2). These functions will not be directly callable after loading.\n"
     ]
    },
    {
     "name": "stdout",
     "output_type": "stream",
     "text": [
      "INFO:tensorflow:Assets written to: LSTM13\\assets\n"
     ]
    },
    {
     "name": "stderr",
     "output_type": "stream",
     "text": [
      "INFO:tensorflow:Assets written to: LSTM13\\assets\n",
      "WARNING:absl:Found untraced functions such as lstm_cell_11_layer_call_fn, lstm_cell_11_layer_call_and_return_conditional_losses while saving (showing 2 of 2). These functions will not be directly callable after loading.\n"
     ]
    },
    {
     "name": "stdout",
     "output_type": "stream",
     "text": [
      "INFO:tensorflow:Assets written to: LSTM13\\assets\n"
     ]
    },
    {
     "name": "stderr",
     "output_type": "stream",
     "text": [
      "INFO:tensorflow:Assets written to: LSTM13\\assets\n",
      "WARNING:absl:Found untraced functions such as lstm_cell_11_layer_call_fn, lstm_cell_11_layer_call_and_return_conditional_losses while saving (showing 2 of 2). These functions will not be directly callable after loading.\n"
     ]
    },
    {
     "name": "stdout",
     "output_type": "stream",
     "text": [
      "INFO:tensorflow:Assets written to: LSTM13\\assets\n"
     ]
    },
    {
     "name": "stderr",
     "output_type": "stream",
     "text": [
      "INFO:tensorflow:Assets written to: LSTM13\\assets\n",
      "WARNING:absl:Found untraced functions such as lstm_cell_11_layer_call_fn, lstm_cell_11_layer_call_and_return_conditional_losses while saving (showing 2 of 2). These functions will not be directly callable after loading.\n"
     ]
    },
    {
     "name": "stdout",
     "output_type": "stream",
     "text": [
      "INFO:tensorflow:Assets written to: LSTM13\\assets\n"
     ]
    },
    {
     "name": "stderr",
     "output_type": "stream",
     "text": [
      "INFO:tensorflow:Assets written to: LSTM13\\assets\n",
      "WARNING:absl:Found untraced functions such as lstm_cell_11_layer_call_fn, lstm_cell_11_layer_call_and_return_conditional_losses while saving (showing 2 of 2). These functions will not be directly callable after loading.\n"
     ]
    },
    {
     "name": "stdout",
     "output_type": "stream",
     "text": [
      "INFO:tensorflow:Assets written to: LSTM13\\assets\n"
     ]
    },
    {
     "name": "stderr",
     "output_type": "stream",
     "text": [
      "INFO:tensorflow:Assets written to: LSTM13\\assets\n",
      "WARNING:absl:Found untraced functions such as lstm_cell_11_layer_call_fn, lstm_cell_11_layer_call_and_return_conditional_losses while saving (showing 2 of 2). These functions will not be directly callable after loading.\n"
     ]
    },
    {
     "name": "stdout",
     "output_type": "stream",
     "text": [
      "INFO:tensorflow:Assets written to: LSTM13\\assets\n"
     ]
    },
    {
     "name": "stderr",
     "output_type": "stream",
     "text": [
      "INFO:tensorflow:Assets written to: LSTM13\\assets\n",
      "WARNING:absl:Found untraced functions such as lstm_cell_11_layer_call_fn, lstm_cell_11_layer_call_and_return_conditional_losses while saving (showing 2 of 2). These functions will not be directly callable after loading.\n"
     ]
    },
    {
     "name": "stdout",
     "output_type": "stream",
     "text": [
      "INFO:tensorflow:Assets written to: LSTM13\\assets\n"
     ]
    },
    {
     "name": "stderr",
     "output_type": "stream",
     "text": [
      "INFO:tensorflow:Assets written to: LSTM13\\assets\n",
      "WARNING:absl:Found untraced functions such as lstm_cell_11_layer_call_fn, lstm_cell_11_layer_call_and_return_conditional_losses while saving (showing 2 of 2). These functions will not be directly callable after loading.\n"
     ]
    },
    {
     "name": "stdout",
     "output_type": "stream",
     "text": [
      "INFO:tensorflow:Assets written to: LSTM13\\assets\n"
     ]
    },
    {
     "name": "stderr",
     "output_type": "stream",
     "text": [
      "INFO:tensorflow:Assets written to: LSTM13\\assets\n",
      "WARNING:absl:Found untraced functions such as lstm_cell_11_layer_call_fn, lstm_cell_11_layer_call_and_return_conditional_losses while saving (showing 2 of 2). These functions will not be directly callable after loading.\n"
     ]
    },
    {
     "name": "stdout",
     "output_type": "stream",
     "text": [
      "INFO:tensorflow:Assets written to: LSTM13\\assets\n"
     ]
    },
    {
     "name": "stderr",
     "output_type": "stream",
     "text": [
      "INFO:tensorflow:Assets written to: LSTM13\\assets\n",
      "WARNING:absl:Found untraced functions such as lstm_cell_11_layer_call_fn, lstm_cell_11_layer_call_and_return_conditional_losses while saving (showing 2 of 2). These functions will not be directly callable after loading.\n"
     ]
    },
    {
     "name": "stdout",
     "output_type": "stream",
     "text": [
      "INFO:tensorflow:Assets written to: LSTM13\\assets\n"
     ]
    },
    {
     "name": "stderr",
     "output_type": "stream",
     "text": [
      "INFO:tensorflow:Assets written to: LSTM13\\assets\n",
      "WARNING:absl:Found untraced functions such as lstm_cell_11_layer_call_fn, lstm_cell_11_layer_call_and_return_conditional_losses while saving (showing 2 of 2). These functions will not be directly callable after loading.\n"
     ]
    },
    {
     "name": "stdout",
     "output_type": "stream",
     "text": [
      "INFO:tensorflow:Assets written to: LSTM13\\assets\n"
     ]
    },
    {
     "name": "stderr",
     "output_type": "stream",
     "text": [
      "INFO:tensorflow:Assets written to: LSTM13\\assets\n",
      "WARNING:absl:Found untraced functions such as lstm_cell_11_layer_call_fn, lstm_cell_11_layer_call_and_return_conditional_losses while saving (showing 2 of 2). These functions will not be directly callable after loading.\n"
     ]
    },
    {
     "name": "stdout",
     "output_type": "stream",
     "text": [
      "INFO:tensorflow:Assets written to: LSTM13\\assets\n"
     ]
    },
    {
     "name": "stderr",
     "output_type": "stream",
     "text": [
      "INFO:tensorflow:Assets written to: LSTM13\\assets\n",
      "WARNING:absl:Found untraced functions such as lstm_cell_11_layer_call_fn, lstm_cell_11_layer_call_and_return_conditional_losses while saving (showing 2 of 2). These functions will not be directly callable after loading.\n"
     ]
    },
    {
     "name": "stdout",
     "output_type": "stream",
     "text": [
      "INFO:tensorflow:Assets written to: LSTM13\\assets\n"
     ]
    },
    {
     "name": "stderr",
     "output_type": "stream",
     "text": [
      "INFO:tensorflow:Assets written to: LSTM13\\assets\n",
      "WARNING:absl:Found untraced functions such as lstm_cell_11_layer_call_fn, lstm_cell_11_layer_call_and_return_conditional_losses while saving (showing 2 of 2). These functions will not be directly callable after loading.\n"
     ]
    },
    {
     "name": "stdout",
     "output_type": "stream",
     "text": [
      "INFO:tensorflow:Assets written to: LSTM13\\assets\n"
     ]
    },
    {
     "name": "stderr",
     "output_type": "stream",
     "text": [
      "INFO:tensorflow:Assets written to: LSTM13\\assets\n",
      "WARNING:absl:Found untraced functions such as lstm_cell_11_layer_call_fn, lstm_cell_11_layer_call_and_return_conditional_losses while saving (showing 2 of 2). These functions will not be directly callable after loading.\n"
     ]
    },
    {
     "name": "stdout",
     "output_type": "stream",
     "text": [
      "INFO:tensorflow:Assets written to: LSTM13\\assets\n"
     ]
    },
    {
     "name": "stderr",
     "output_type": "stream",
     "text": [
      "INFO:tensorflow:Assets written to: LSTM13\\assets\n",
      "WARNING:absl:Found untraced functions such as lstm_cell_11_layer_call_fn, lstm_cell_11_layer_call_and_return_conditional_losses while saving (showing 2 of 2). These functions will not be directly callable after loading.\n"
     ]
    },
    {
     "name": "stdout",
     "output_type": "stream",
     "text": [
      "INFO:tensorflow:Assets written to: LSTM13\\assets\n"
     ]
    },
    {
     "name": "stderr",
     "output_type": "stream",
     "text": [
      "INFO:tensorflow:Assets written to: LSTM13\\assets\n",
      "WARNING:absl:Found untraced functions such as lstm_cell_11_layer_call_fn, lstm_cell_11_layer_call_and_return_conditional_losses while saving (showing 2 of 2). These functions will not be directly callable after loading.\n"
     ]
    },
    {
     "name": "stdout",
     "output_type": "stream",
     "text": [
      "INFO:tensorflow:Assets written to: LSTM13\\assets\n"
     ]
    },
    {
     "name": "stderr",
     "output_type": "stream",
     "text": [
      "INFO:tensorflow:Assets written to: LSTM13\\assets\n",
      "WARNING:absl:Found untraced functions such as lstm_cell_11_layer_call_fn, lstm_cell_11_layer_call_and_return_conditional_losses while saving (showing 2 of 2). These functions will not be directly callable after loading.\n"
     ]
    },
    {
     "name": "stdout",
     "output_type": "stream",
     "text": [
      "INFO:tensorflow:Assets written to: LSTM13\\assets\n"
     ]
    },
    {
     "name": "stderr",
     "output_type": "stream",
     "text": [
      "INFO:tensorflow:Assets written to: LSTM13\\assets\n",
      "WARNING:absl:Found untraced functions such as lstm_cell_11_layer_call_fn, lstm_cell_11_layer_call_and_return_conditional_losses while saving (showing 2 of 2). These functions will not be directly callable after loading.\n"
     ]
    },
    {
     "name": "stdout",
     "output_type": "stream",
     "text": [
      "INFO:tensorflow:Assets written to: LSTM13\\assets\n"
     ]
    },
    {
     "name": "stderr",
     "output_type": "stream",
     "text": [
      "INFO:tensorflow:Assets written to: LSTM13\\assets\n",
      "WARNING:absl:Found untraced functions such as lstm_cell_11_layer_call_fn, lstm_cell_11_layer_call_and_return_conditional_losses while saving (showing 2 of 2). These functions will not be directly callable after loading.\n"
     ]
    },
    {
     "name": "stdout",
     "output_type": "stream",
     "text": [
      "INFO:tensorflow:Assets written to: LSTM13\\assets\n"
     ]
    },
    {
     "name": "stderr",
     "output_type": "stream",
     "text": [
      "INFO:tensorflow:Assets written to: LSTM13\\assets\n",
      "WARNING:absl:Found untraced functions such as lstm_cell_11_layer_call_fn, lstm_cell_11_layer_call_and_return_conditional_losses while saving (showing 2 of 2). These functions will not be directly callable after loading.\n"
     ]
    },
    {
     "name": "stdout",
     "output_type": "stream",
     "text": [
      "INFO:tensorflow:Assets written to: LSTM13\\assets\n"
     ]
    },
    {
     "name": "stderr",
     "output_type": "stream",
     "text": [
      "INFO:tensorflow:Assets written to: LSTM13\\assets\n"
     ]
    }
   ],
   "source": [
    "history = model_lstm_13.fit(X_train, y_train,\n",
    " epochs=30, validation_split=3/35, batch_size=BATCH_SIZE,\n",
    " shuffle=False, callbacks=[ModelCheckpoint(\"LSTM13\", save_best_only=True, verbose=0)], verbose=0)"
   ]
  },
  {
   "cell_type": "code",
   "execution_count": null,
   "metadata": {},
   "outputs": [
    {
     "name": "stdout",
     "output_type": "stream",
     "text": [
      "Parameters on test datasets: \n",
      "\n"
     ]
    },
    {
     "data": {
      "text/html": [
       "<div>\n",
       "<style scoped>\n",
       "    .dataframe tbody tr th:only-of-type {\n",
       "        vertical-align: middle;\n",
       "    }\n",
       "\n",
       "    .dataframe tbody tr th {\n",
       "        vertical-align: top;\n",
       "    }\n",
       "\n",
       "    .dataframe thead th {\n",
       "        text-align: right;\n",
       "    }\n",
       "</style>\n",
       "<table border=\"1\" class=\"dataframe\">\n",
       "  <thead>\n",
       "    <tr style=\"text-align: right;\">\n",
       "      <th></th>\n",
       "      <th>Температура_dinam_fact</th>\n",
       "      <th>Лимфоциты#_dinam_fact</th>\n",
       "      <th>АСТ_dinam_fact</th>\n",
       "      <th>ЧСС_dinam_fact</th>\n",
       "      <th>ЧДД_dinam_fact</th>\n",
       "      <th>Билирубин общий_dinam_fact</th>\n",
       "      <th>MPV- Средн.объем тромбоцитов_dinam_fact</th>\n",
       "      <th>PCT- Тромбокрит_dinam_fact</th>\n",
       "      <th>Лимфоциты%_dinam_fact</th>\n",
       "      <th>снижение_сознания_dinam_fact</th>\n",
       "      <th>Cтепень тяжести по КТ_dinam_fact</th>\n",
       "      <th>Лактатдегидрогеназа_dinam_fact</th>\n",
       "      <th>PDW- Индекс расп.по объему тр._dinam_fact</th>\n",
       "    </tr>\n",
       "  </thead>\n",
       "  <tbody>\n",
       "    <tr>\n",
       "      <th>prev -3</th>\n",
       "      <td>36.50</td>\n",
       "      <td>1.81</td>\n",
       "      <td>35.20</td>\n",
       "      <td>78.0</td>\n",
       "      <td>24.00</td>\n",
       "      <td>7.90</td>\n",
       "      <td>12.40</td>\n",
       "      <td>0.18</td>\n",
       "      <td>22.10</td>\n",
       "      <td>0.00</td>\n",
       "      <td>1.00</td>\n",
       "      <td>624.00</td>\n",
       "      <td>16.10</td>\n",
       "    </tr>\n",
       "    <tr>\n",
       "      <th>prev -2</th>\n",
       "      <td>36.80</td>\n",
       "      <td>3.58</td>\n",
       "      <td>48.20</td>\n",
       "      <td>88.0</td>\n",
       "      <td>22.00</td>\n",
       "      <td>10.13</td>\n",
       "      <td>12.40</td>\n",
       "      <td>0.20</td>\n",
       "      <td>43.10</td>\n",
       "      <td>0.00</td>\n",
       "      <td>5.00</td>\n",
       "      <td>547.00</td>\n",
       "      <td>15.10</td>\n",
       "    </tr>\n",
       "    <tr>\n",
       "      <th>prev -1</th>\n",
       "      <td>36.50</td>\n",
       "      <td>3.61</td>\n",
       "      <td>28.60</td>\n",
       "      <td>74.0</td>\n",
       "      <td>18.00</td>\n",
       "      <td>6.30</td>\n",
       "      <td>11.40</td>\n",
       "      <td>0.48</td>\n",
       "      <td>25.60</td>\n",
       "      <td>0.00</td>\n",
       "      <td>5.00</td>\n",
       "      <td>457.00</td>\n",
       "      <td>14.40</td>\n",
       "    </tr>\n",
       "    <tr>\n",
       "      <th>real</th>\n",
       "      <td>36.70</td>\n",
       "      <td>2.39</td>\n",
       "      <td>-25.37</td>\n",
       "      <td>74.0</td>\n",
       "      <td>18.00</td>\n",
       "      <td>3.52</td>\n",
       "      <td>9.62</td>\n",
       "      <td>0.19</td>\n",
       "      <td>23.62</td>\n",
       "      <td>0.00</td>\n",
       "      <td>5.00</td>\n",
       "      <td>182.52</td>\n",
       "      <td>15.10</td>\n",
       "    </tr>\n",
       "    <tr>\n",
       "      <th>predicted</th>\n",
       "      <td>36.59</td>\n",
       "      <td>1.34</td>\n",
       "      <td>25.77</td>\n",
       "      <td>75.1</td>\n",
       "      <td>17.58</td>\n",
       "      <td>9.87</td>\n",
       "      <td>10.18</td>\n",
       "      <td>0.23</td>\n",
       "      <td>23.24</td>\n",
       "      <td>0.14</td>\n",
       "      <td>3.98</td>\n",
       "      <td>274.05</td>\n",
       "      <td>13.22</td>\n",
       "    </tr>\n",
       "  </tbody>\n",
       "</table>\n",
       "</div>"
      ],
      "text/plain": [
       "           Температура_dinam_fact  Лимфоциты#_dinam_fact  АСТ_dinam_fact  \\\n",
       "prev -3                     36.50                   1.81           35.20   \n",
       "prev -2                     36.80                   3.58           48.20   \n",
       "prev -1                     36.50                   3.61           28.60   \n",
       "real                        36.70                   2.39          -25.37   \n",
       "predicted                   36.59                   1.34           25.77   \n",
       "\n",
       "           ЧСС_dinam_fact  ЧДД_dinam_fact  Билирубин общий_dinam_fact  \\\n",
       "prev -3              78.0           24.00                        7.90   \n",
       "prev -2              88.0           22.00                       10.13   \n",
       "prev -1              74.0           18.00                        6.30   \n",
       "real                 74.0           18.00                        3.52   \n",
       "predicted            75.1           17.58                        9.87   \n",
       "\n",
       "           MPV- Средн.объем тромбоцитов_dinam_fact  \\\n",
       "prev -3                                      12.40   \n",
       "prev -2                                      12.40   \n",
       "prev -1                                      11.40   \n",
       "real                                          9.62   \n",
       "predicted                                    10.18   \n",
       "\n",
       "           PCT- Тромбокрит_dinam_fact  Лимфоциты%_dinam_fact  \\\n",
       "prev -3                          0.18                  22.10   \n",
       "prev -2                          0.20                  43.10   \n",
       "prev -1                          0.48                  25.60   \n",
       "real                             0.19                  23.62   \n",
       "predicted                        0.23                  23.24   \n",
       "\n",
       "           снижение_сознания_dinam_fact  Cтепень тяжести по КТ_dinam_fact  \\\n",
       "prev -3                            0.00                              1.00   \n",
       "prev -2                            0.00                              5.00   \n",
       "prev -1                            0.00                              5.00   \n",
       "real                               0.00                              5.00   \n",
       "predicted                          0.14                              3.98   \n",
       "\n",
       "           Лактатдегидрогеназа_dinam_fact  \\\n",
       "prev -3                            624.00   \n",
       "prev -2                            547.00   \n",
       "prev -1                            457.00   \n",
       "real                               182.52   \n",
       "predicted                          274.05   \n",
       "\n",
       "           PDW- Индекс расп.по объему тр._dinam_fact  \n",
       "prev -3                                        16.10  \n",
       "prev -2                                        15.10  \n",
       "prev -1                                        14.40  \n",
       "real                                           15.10  \n",
       "predicted                                      13.22  "
      ]
     },
     "metadata": {},
     "output_type": "display_data"
    },
    {
     "name": "stdout",
     "output_type": "stream",
     "text": [
      "11/11 [==============================] - 0s 2ms/step - loss: 0.5923 - root_mean_squared_error: 0.7696 - r_square: 0.0745 \n",
      "[('loss', 0.5923054814338684), ('root_mean_squared_error', 0.7696138024330139), ('r_square', 0.07451984286308289)]\n"
     ]
    },
    {
     "data": {
      "image/png": "[encoded data removed]",
      "text/plain": [
       "<Figure size 432x288 with 1 Axes>"
      ]
     },
     "metadata": {
      "needs_background": "light"
     },
     "output_type": "display_data"
    }
   ],
   "source": [
    "show_results(X_test, y_test, model_lstm_13, history, 0, 3)"
   ]
  },
  {
   "cell_type": "markdown",
   "metadata": {},
   "source": [
    "### LSTM64 Encoder + LSTM 13 Decoder "
   ]
  },
  {
   "cell_type": "code",
   "execution_count": null,
   "metadata": {},
   "outputs": [
    {
     "name": "stdout",
     "output_type": "stream",
     "text": [
      "Model: \"LSTM64xLSTM13\"\n",
      "_________________________________________________________________\n",
      " Layer (type)                Output Shape              Param #   \n",
      "=================================================================\n",
      " lstm_8 (LSTM)               (12, 3, 64)               19968     \n",
      "                                                                 \n",
      " lstm_9 (LSTM)               (12, 13)                  4056      \n",
      "                                                                 \n",
      "=================================================================\n",
      "Total params: 24,024\n",
      "Trainable params: 24,024\n",
      "Non-trainable params: 0\n",
      "_________________________________________________________________\n"
     ]
    }
   ],
   "source": [
    "BATCH_SIZE=12\n",
    "\n",
    "model = Sequential(name=\"LSTM64xLSTM13\")\n",
    "model.add(Input((WINDOW, PARAMS_LENGTH), batch_size=BATCH_SIZE))\n",
    "model.add(LSTM(64, activation=\"tanh\", return_sequences=True))\n",
    "model.add(LSTM(PARAMS_LENGTH, activation=\"tanh\", return_sequences=False))\n",
    "model_lstm_64 = model\n",
    "model_lstm_64.compile(optimizer=\"adam\", loss=\"mse\", metrics=[RootMeanSquaredError(), RSquare()])\n",
    "model_lstm_64.summary()"
   ]
  },
  {
   "cell_type": "code",
   "execution_count": null,
   "metadata": {},
   "outputs": [],
   "source": [
    "history = model_lstm_64.fit(X_train, y_train,\n",
    " epochs=30, validation_split=3/35, batch_size=BATCH_SIZE,\n",
    " shuffle=False, callbacks=[ModelCheckpoint(\"LSTM64xLSTM13\", save_best_only=True, verbose=0)], verbose=0)"
   ]
  },
  {
   "cell_type": "code",
   "execution_count": 459,
   "metadata": {},
   "outputs": [
    {
     "name": "stdout",
     "output_type": "stream",
     "text": [
      "Parameters on test datasets: \n",
      "\n"
     ]
    },
    {
     "data": {
      "text/html": [
       "<div>\n",
       "<style scoped>\n",
       "    .dataframe tbody tr th:only-of-type {\n",
       "        vertical-align: middle;\n",
       "    }\n",
       "\n",
       "    .dataframe tbody tr th {\n",
       "        vertical-align: top;\n",
       "    }\n",
       "\n",
       "    .dataframe thead th {\n",
       "        text-align: right;\n",
       "    }\n",
       "</style>\n",
       "<table border=\"1\" class=\"dataframe\">\n",
       "  <thead>\n",
       "    <tr style=\"text-align: right;\">\n",
       "      <th></th>\n",
       "      <th>Температура_dinam_fact</th>\n",
       "      <th>Лимфоциты#_dinam_fact</th>\n",
       "      <th>АСТ_dinam_fact</th>\n",
       "      <th>ЧСС_dinam_fact</th>\n",
       "      <th>ЧДД_dinam_fact</th>\n",
       "      <th>Билирубин общий_dinam_fact</th>\n",
       "      <th>MPV- Средн.объем тромбоцитов_dinam_fact</th>\n",
       "      <th>PCT- Тромбокрит_dinam_fact</th>\n",
       "      <th>Лимфоциты%_dinam_fact</th>\n",
       "      <th>снижение_сознания_dinam_fact</th>\n",
       "      <th>Cтепень тяжести по КТ_dinam_fact</th>\n",
       "      <th>Лактатдегидрогеназа_dinam_fact</th>\n",
       "      <th>PDW- Индекс расп.по объему тр._dinam_fact</th>\n",
       "    </tr>\n",
       "  </thead>\n",
       "  <tbody>\n",
       "    <tr>\n",
       "      <th>prev -3</th>\n",
       "      <td>36.79</td>\n",
       "      <td>1.45</td>\n",
       "      <td>22.00</td>\n",
       "      <td>73.47</td>\n",
       "      <td>20.23</td>\n",
       "      <td>9.40</td>\n",
       "      <td>6.70</td>\n",
       "      <td>0.10</td>\n",
       "      <td>22.70</td>\n",
       "      <td>0.00</td>\n",
       "      <td>1.0</td>\n",
       "      <td>240.00</td>\n",
       "      <td>19.30</td>\n",
       "    </tr>\n",
       "    <tr>\n",
       "      <th>prev -2</th>\n",
       "      <td>36.40</td>\n",
       "      <td>0.37</td>\n",
       "      <td>82.10</td>\n",
       "      <td>1.00</td>\n",
       "      <td>20.00</td>\n",
       "      <td>4.50</td>\n",
       "      <td>7.70</td>\n",
       "      <td>0.21</td>\n",
       "      <td>6.00</td>\n",
       "      <td>0.00</td>\n",
       "      <td>3.0</td>\n",
       "      <td>660.00</td>\n",
       "      <td>18.10</td>\n",
       "    </tr>\n",
       "    <tr>\n",
       "      <th>prev -1</th>\n",
       "      <td>36.50</td>\n",
       "      <td>1.11</td>\n",
       "      <td>58.80</td>\n",
       "      <td>70.51</td>\n",
       "      <td>23.00</td>\n",
       "      <td>7.50</td>\n",
       "      <td>8.20</td>\n",
       "      <td>0.17</td>\n",
       "      <td>11.20</td>\n",
       "      <td>0.00</td>\n",
       "      <td>5.0</td>\n",
       "      <td>406.82</td>\n",
       "      <td>16.30</td>\n",
       "    </tr>\n",
       "    <tr>\n",
       "      <th>real</th>\n",
       "      <td>36.50</td>\n",
       "      <td>1.67</td>\n",
       "      <td>35.90</td>\n",
       "      <td>88.00</td>\n",
       "      <td>22.00</td>\n",
       "      <td>8.10</td>\n",
       "      <td>6.70</td>\n",
       "      <td>0.14</td>\n",
       "      <td>20.60</td>\n",
       "      <td>0.00</td>\n",
       "      <td>4.0</td>\n",
       "      <td>699.00</td>\n",
       "      <td>19.20</td>\n",
       "    </tr>\n",
       "    <tr>\n",
       "      <th>predicted</th>\n",
       "      <td>36.47</td>\n",
       "      <td>1.11</td>\n",
       "      <td>13.06</td>\n",
       "      <td>71.64</td>\n",
       "      <td>14.12</td>\n",
       "      <td>9.16</td>\n",
       "      <td>8.09</td>\n",
       "      <td>0.15</td>\n",
       "      <td>24.85</td>\n",
       "      <td>-0.02</td>\n",
       "      <td>4.4</td>\n",
       "      <td>244.11</td>\n",
       "      <td>17.22</td>\n",
       "    </tr>\n",
       "  </tbody>\n",
       "</table>\n",
       "</div>"
      ],
      "text/plain": [
       "           Температура_dinam_fact  Лимфоциты#_dinam_fact  АСТ_dinam_fact  \\\n",
       "prev -3                     36.79                   1.45           22.00   \n",
       "prev -2                     36.40                   0.37           82.10   \n",
       "prev -1                     36.50                   1.11           58.80   \n",
       "real                        36.50                   1.67           35.90   \n",
       "predicted                   36.47                   1.11           13.06   \n",
       "\n",
       "           ЧСС_dinam_fact  ЧДД_dinam_fact  Билирубин общий_dinam_fact  \\\n",
       "prev -3             73.47           20.23                        9.40   \n",
       "prev -2              1.00           20.00                        4.50   \n",
       "prev -1             70.51           23.00                        7.50   \n",
       "real                88.00           22.00                        8.10   \n",
       "predicted           71.64           14.12                        9.16   \n",
       "\n",
       "           MPV- Средн.объем тромбоцитов_dinam_fact  \\\n",
       "prev -3                                       6.70   \n",
       "prev -2                                       7.70   \n",
       "prev -1                                       8.20   \n",
       "real                                          6.70   \n",
       "predicted                                     8.09   \n",
       "\n",
       "           PCT- Тромбокрит_dinam_fact  Лимфоциты%_dinam_fact  \\\n",
       "prev -3                          0.10                  22.70   \n",
       "prev -2                          0.21                   6.00   \n",
       "prev -1                          0.17                  11.20   \n",
       "real                             0.14                  20.60   \n",
       "predicted                        0.15                  24.85   \n",
       "\n",
       "           снижение_сознания_dinam_fact  Cтепень тяжести по КТ_dinam_fact  \\\n",
       "prev -3                            0.00                               1.0   \n",
       "prev -2                            0.00                               3.0   \n",
       "prev -1                            0.00                               5.0   \n",
       "real                               0.00                               4.0   \n",
       "predicted                         -0.02                               4.4   \n",
       "\n",
       "           Лактатдегидрогеназа_dinam_fact  \\\n",
       "prev -3                            240.00   \n",
       "prev -2                            660.00   \n",
       "prev -1                            406.82   \n",
       "real                               699.00   \n",
       "predicted                          244.11   \n",
       "\n",
       "           PDW- Индекс расп.по объему тр._dinam_fact  \n",
       "prev -3                                        19.30  \n",
       "prev -2                                        18.10  \n",
       "prev -1                                        16.30  \n",
       "real                                           19.20  \n",
       "predicted                                      17.22  "
      ]
     },
     "metadata": {},
     "output_type": "display_data"
    },
    {
     "name": "stdout",
     "output_type": "stream",
     "text": [
      "8/8 [==============================] - 0s 4ms/step - loss: 0.0109 - root_mean_squared_error: 0.1042 - r_square: -0.4243\n",
      "[('loss', 0.010862261056900024), ('root_mean_squared_error', 0.10422216355800629), ('r_square', -0.42426589131355286)]\n"
     ]
    },
    {
     "data": {
      "image/png": "[encoded data removed]",
      "text/plain": [
       "<Figure size 432x288 with 1 Axes>"
      ]
     },
     "metadata": {
      "needs_background": "light"
     },
     "output_type": "display_data"
    }
   ],
   "source": [
    "show_results(X_test, y_test, model_lstm_64, history)"
   ]
  },
  {
   "cell_type": "markdown",
   "metadata": {},
   "source": [
    "### Lets add static parameters as additional inputs to fully connected layer"
   ]
  },
  {
   "cell_type": "markdown",
   "metadata": {},
   "source": [
    "Lets delete unnecessary parameters from info dataframe"
   ]
  },
  {
   "cell_type": "markdown",
   "metadata": {},
   "source": [
    "### Use AutoML Framework Fedot"
   ]
  }
 ],
 "metadata": {
  "kernelspec": {
   "display_name": "Python 3.9.12 ('base')",
   "language": "python",
   "name": "python3"
  },
  "language_info": {
   "codemirror_mode": {
    "name": "ipython",
    "version": 3
   },
   "file_extension": ".py",
   "mimetype": "text/x-python",
   "name": "python",
   "nbconvert_exporter": "python",
   "pygments_lexer": "ipython3",
   "version": "3.9.12"
  },
  "orig_nbformat": 4,
  "vscode": {
   "interpreter": {
    "hash": "a04f5d07b0747026a8fbcdf50b9443318e69b1b8bd6247d88bfadb4789282972"
   }
  }
 },
 "nbformat": 4,
 "nbformat_minor": 2
}
