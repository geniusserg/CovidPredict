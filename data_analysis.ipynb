{
 "cells": [
  {
   "cell_type": "markdown",
   "metadata": {},
   "source": [
    "# Данные"
   ]
  },
  {
   "cell_type": "markdown",
   "metadata": {},
   "source": [
    "Данные в файле covid_flow.pkl\n",
    "Данные включают поток пациентов с подтвержденным COVID-19 в ковидные стационары НИМЦ\n",
    "Алмазова, Санкт-Петербург."
   ]
  },
  {
   "cell_type": "markdown",
   "metadata": {},
   "source": [
    "Датасет включает 1992 случая стационарного лечения COVID-19. Данные включают\n",
    "\n",
    "•\n",
    "Многомерные временные ряды, описывающие состояние пациента (интервал неделя)\n",
    "\n",
    "•\n",
    "План лечения (препараты и процедуры) для каждого пациента\n",
    "\n",
    "•\n",
    "Исходы лечения"
   ]
  },
  {
   "cell_type": "markdown",
   "metadata": {},
   "source": [
    "Процесс стационарного лечения включает в себя два подпроцесса – контролирующий и контролируемый. \n",
    "\n",
    "Контролирующий –\n",
    "назначение препаратов и процедур. \n",
    "Контролируемый – процесс изменения состояния пациентов.\n",
    "\n",
    "Процесс лечения\n",
    "включает в себя контролирующий процесс (назначение препарат и процедур) и контролируемый\n",
    "процесс (процесс изменения состояния пациентов)"
   ]
  },
  {
   "cell_type": "markdown",
   "metadata": {},
   "source": [
    "_stat_control – стационарные признаки, которые описывают контролирующий\n",
    "процесс и не меняются (в covid_flow это бинарные признаки включения 1 или\n",
    "невключения 0 препарата в план лечения)\n",
    "\n",
    "_dinam_control – динамические признаки, которые описывают контролирующий\n",
    "процесс и меняются (в covid_flow это бинарные признаки включения 1 или\n",
    "невключения 0 процедуры в план лечения)\n",
    "\n",
    "_stat_fact – стационарные признаки, которые описывают контролируемый процесс\n",
    "и не меняются (в covid_flow это признаки, описывающие пациентов, пол, возраст, и\n",
    "все остальное что не меняется)\n",
    "\n",
    "_dinam_fact – динамические признаки, которые описывают контролирующий\n",
    "процесс и меняются (в covid_flow это признаки описывающие состояние\n",
    "пациентов, например температура, % поражения легких и другое)\n",
    "\n",
    "t_point – индикатор временного интервала. Вся длительность процесса разбита на\n",
    "равные интервалы времени, t_point – метка интервала.\n",
    "\n",
    "end_epizode – индикатор конца процесса, 0 – процесс лечения не окончен в\n",
    "данном t_point, 1 – окончен\n",
    "\n",
    "case (index) – уникальный идентификатор наблюдения (процесса), пример –\n",
    "«GACAk+Q»\n",
    "\n",
    "long_observation_tar – длинна процесса\n",
    "\n",
    "current_process_duration – текущая длинна процесса (на момент t_point)\n",
    "\n",
    "outcome_tar – исход лечения, 1- летальный, 0 – выздоровление."
   ]
  },
  {
   "cell_type": "markdown",
   "metadata": {},
   "source": [
    "# Прогноза значения индикатора пациента\n",
    "Прогноз проходит в следующем периоде по иформации о\n",
    "текущем состоянии и предыдущих состояниях. \n",
    "Таргеты – признаки с префиксами\n",
    "_dinam_fact. \n",
    "Факторы – все признаки кроме тех что с префиксами _tar. \n",
    "\n",
    "1) Для начала нужен литературный обзор существующих методов. \n",
    "2) Далее берешь пару существующих методов, пробуешь применить и переложить на данные. Хочется чтобы были попробованны рекурентные нейронные сети, и AutoML подход Fedot\n",
    ")(https://github.com/nccr-itmo/FEDOT), но в целом ограничений на методы нет. \n",
    "3) На выходе нужен класс, который умеет принимать информацию о прошлых состояниях пациента, и\n",
    "прогнозировать следующее. Читаемость и чистота кода крайне приветствуется. "
   ]
  },
  {
   "cell_type": "code",
   "execution_count": 146,
   "metadata": {},
   "outputs": [],
   "source": [
    "import numpy as np\n",
    "import matplotlib.pyplot as plt\n",
    "import pandas as pd\n",
    "import seaborn as sns\n",
    "import warnings\n",
    "warnings.filterwarnings('ignore')\n",
    "from time import time\n",
    "from scipy import stats\n",
    "from statsmodels.tsa.stattools import adfuller\n",
    "from sklearn import preprocessing\n",
    "from statsmodels.tsa.stattools import pacf\n",
    "%matplotlib inline\n",
    "\n",
    "import math\n",
    "import keras\n",
    "import pickle\n",
    "from keras.models import Sequential\n",
    "from keras.layers import Dense\n",
    "from keras.layers import LSTM\n",
    "from keras.layers import Dropout\n",
    "from keras.layers import *\n",
    "from sklearn.preprocessing import MinMaxScaler\n",
    "from sklearn.metrics import mean_squared_error\n",
    "from sklearn.metrics import mean_absolute_error\n",
    "from sklearn.model_selection import train_test_split\n",
    "from keras.callbacks import EarlyStopping\n",
    "from sklearn.preprocessing import StandardScaler\n",
    "from keras.metrics import RootMeanSquaredError"
   ]
  },
  {
   "cell_type": "code",
   "execution_count": null,
   "metadata": {},
   "outputs": [
    {
     "data": {
      "text/html": [
       "<div>\n",
       "<style scoped>\n",
       "    .dataframe tbody tr th:only-of-type {\n",
       "        vertical-align: middle;\n",
       "    }\n",
       "\n",
       "    .dataframe tbody tr th {\n",
       "        vertical-align: top;\n",
       "    }\n",
       "\n",
       "    .dataframe thead th {\n",
       "        text-align: right;\n",
       "    }\n",
       "</style>\n",
       "<table border=\"1\" class=\"dataframe\">\n",
       "  <thead>\n",
       "    <tr style=\"text-align: right;\">\n",
       "      <th></th>\n",
       "      <th></th>\n",
       "      <th>омепразол_stat_control</th>\n",
       "      <th>надропарин кальция_stat_control</th>\n",
       "      <th>эзомепразол_stat_control</th>\n",
       "      <th>амлодипин_stat_control</th>\n",
       "      <th>амброксол_stat_control</th>\n",
       "      <th>домперидон_stat_control</th>\n",
       "      <th>меброфенин_stat_control</th>\n",
       "      <th>технеций_stat_control</th>\n",
       "      <th>мометазон_stat_control</th>\n",
       "      <th>бисопролол_stat_control</th>\n",
       "      <th>...</th>\n",
       "      <th>трансфузия_dinam_control</th>\n",
       "      <th>оксигенотерапия_dinam_control</th>\n",
       "      <th>НИВЛ_dinam_control</th>\n",
       "      <th>ИВЛ_dinam_control</th>\n",
       "      <th>long_observation_tar</th>\n",
       "      <th>outcome_tar</th>\n",
       "      <th>process_stages</th>\n",
       "      <th>current_process_duration</th>\n",
       "      <th>admission_date</th>\n",
       "      <th>end_epizode</th>\n",
       "    </tr>\n",
       "    <tr>\n",
       "      <th>case</th>\n",
       "      <th>t_point</th>\n",
       "      <th></th>\n",
       "      <th></th>\n",
       "      <th></th>\n",
       "      <th></th>\n",
       "      <th></th>\n",
       "      <th></th>\n",
       "      <th></th>\n",
       "      <th></th>\n",
       "      <th></th>\n",
       "      <th></th>\n",
       "      <th></th>\n",
       "      <th></th>\n",
       "      <th></th>\n",
       "      <th></th>\n",
       "      <th></th>\n",
       "      <th></th>\n",
       "      <th></th>\n",
       "      <th></th>\n",
       "      <th></th>\n",
       "      <th></th>\n",
       "      <th></th>\n",
       "    </tr>\n",
       "  </thead>\n",
       "  <tbody>\n",
       "    <tr>\n",
       "      <th rowspan=\"4\" valign=\"top\">GACAAcY</th>\n",
       "      <th>0</th>\n",
       "      <td>1</td>\n",
       "      <td>1</td>\n",
       "      <td>1</td>\n",
       "      <td>1</td>\n",
       "      <td>1</td>\n",
       "      <td>1</td>\n",
       "      <td>1</td>\n",
       "      <td>1</td>\n",
       "      <td>1</td>\n",
       "      <td>1</td>\n",
       "      <td>...</td>\n",
       "      <td>0</td>\n",
       "      <td>1</td>\n",
       "      <td>0</td>\n",
       "      <td>0</td>\n",
       "      <td>22</td>\n",
       "      <td>0</td>\n",
       "      <td>2</td>\n",
       "      <td>3</td>\n",
       "      <td>2021-01-29</td>\n",
       "      <td>0</td>\n",
       "    </tr>\n",
       "    <tr>\n",
       "      <th>1</th>\n",
       "      <td>1</td>\n",
       "      <td>1</td>\n",
       "      <td>1</td>\n",
       "      <td>1</td>\n",
       "      <td>1</td>\n",
       "      <td>1</td>\n",
       "      <td>1</td>\n",
       "      <td>1</td>\n",
       "      <td>1</td>\n",
       "      <td>1</td>\n",
       "      <td>...</td>\n",
       "      <td>0</td>\n",
       "      <td>1</td>\n",
       "      <td>0</td>\n",
       "      <td>0</td>\n",
       "      <td>22</td>\n",
       "      <td>0</td>\n",
       "      <td>2</td>\n",
       "      <td>10</td>\n",
       "      <td>2021-01-29</td>\n",
       "      <td>0</td>\n",
       "    </tr>\n",
       "    <tr>\n",
       "      <th>2</th>\n",
       "      <td>1</td>\n",
       "      <td>1</td>\n",
       "      <td>1</td>\n",
       "      <td>1</td>\n",
       "      <td>1</td>\n",
       "      <td>1</td>\n",
       "      <td>1</td>\n",
       "      <td>1</td>\n",
       "      <td>1</td>\n",
       "      <td>1</td>\n",
       "      <td>...</td>\n",
       "      <td>0</td>\n",
       "      <td>1</td>\n",
       "      <td>0</td>\n",
       "      <td>0</td>\n",
       "      <td>22</td>\n",
       "      <td>0</td>\n",
       "      <td>2</td>\n",
       "      <td>17</td>\n",
       "      <td>2021-01-29</td>\n",
       "      <td>0</td>\n",
       "    </tr>\n",
       "    <tr>\n",
       "      <th>3</th>\n",
       "      <td>1</td>\n",
       "      <td>1</td>\n",
       "      <td>1</td>\n",
       "      <td>1</td>\n",
       "      <td>1</td>\n",
       "      <td>1</td>\n",
       "      <td>1</td>\n",
       "      <td>1</td>\n",
       "      <td>1</td>\n",
       "      <td>1</td>\n",
       "      <td>...</td>\n",
       "      <td>0</td>\n",
       "      <td>1</td>\n",
       "      <td>0</td>\n",
       "      <td>0</td>\n",
       "      <td>22</td>\n",
       "      <td>0</td>\n",
       "      <td>2</td>\n",
       "      <td>24</td>\n",
       "      <td>2021-01-29</td>\n",
       "      <td>1</td>\n",
       "    </tr>\n",
       "    <tr>\n",
       "      <th>GACAAnf</th>\n",
       "      <th>0</th>\n",
       "      <td>1</td>\n",
       "      <td>1</td>\n",
       "      <td>1</td>\n",
       "      <td>1</td>\n",
       "      <td>1</td>\n",
       "      <td>1</td>\n",
       "      <td>1</td>\n",
       "      <td>1</td>\n",
       "      <td>1</td>\n",
       "      <td>1</td>\n",
       "      <td>...</td>\n",
       "      <td>0</td>\n",
       "      <td>0</td>\n",
       "      <td>0</td>\n",
       "      <td>0</td>\n",
       "      <td>6</td>\n",
       "      <td>0</td>\n",
       "      <td>1_2</td>\n",
       "      <td>3</td>\n",
       "      <td>2020-06-06</td>\n",
       "      <td>0</td>\n",
       "    </tr>\n",
       "    <tr>\n",
       "      <th>...</th>\n",
       "      <th>...</th>\n",
       "      <td>...</td>\n",
       "      <td>...</td>\n",
       "      <td>...</td>\n",
       "      <td>...</td>\n",
       "      <td>...</td>\n",
       "      <td>...</td>\n",
       "      <td>...</td>\n",
       "      <td>...</td>\n",
       "      <td>...</td>\n",
       "      <td>...</td>\n",
       "      <td>...</td>\n",
       "      <td>...</td>\n",
       "      <td>...</td>\n",
       "      <td>...</td>\n",
       "      <td>...</td>\n",
       "      <td>...</td>\n",
       "      <td>...</td>\n",
       "      <td>...</td>\n",
       "      <td>...</td>\n",
       "      <td>...</td>\n",
       "      <td>...</td>\n",
       "    </tr>\n",
       "    <tr>\n",
       "      <th rowspan=\"2\" valign=\"top\">GACBB;O</th>\n",
       "      <th>0</th>\n",
       "      <td>0</td>\n",
       "      <td>0</td>\n",
       "      <td>0</td>\n",
       "      <td>1</td>\n",
       "      <td>1</td>\n",
       "      <td>0</td>\n",
       "      <td>0</td>\n",
       "      <td>0</td>\n",
       "      <td>0</td>\n",
       "      <td>1</td>\n",
       "      <td>...</td>\n",
       "      <td>0</td>\n",
       "      <td>0</td>\n",
       "      <td>0</td>\n",
       "      <td>0</td>\n",
       "      <td>6</td>\n",
       "      <td>0</td>\n",
       "      <td>2</td>\n",
       "      <td>3</td>\n",
       "      <td>2021-01-04</td>\n",
       "      <td>0</td>\n",
       "    </tr>\n",
       "    <tr>\n",
       "      <th>1</th>\n",
       "      <td>0</td>\n",
       "      <td>0</td>\n",
       "      <td>0</td>\n",
       "      <td>1</td>\n",
       "      <td>1</td>\n",
       "      <td>0</td>\n",
       "      <td>0</td>\n",
       "      <td>0</td>\n",
       "      <td>0</td>\n",
       "      <td>1</td>\n",
       "      <td>...</td>\n",
       "      <td>0</td>\n",
       "      <td>0</td>\n",
       "      <td>0</td>\n",
       "      <td>0</td>\n",
       "      <td>6</td>\n",
       "      <td>0</td>\n",
       "      <td>2</td>\n",
       "      <td>10</td>\n",
       "      <td>2021-01-04</td>\n",
       "      <td>1</td>\n",
       "    </tr>\n",
       "    <tr>\n",
       "      <th rowspan=\"3\" valign=\"top\">GACXAAB</th>\n",
       "      <th>0</th>\n",
       "      <td>1</td>\n",
       "      <td>0</td>\n",
       "      <td>1</td>\n",
       "      <td>1</td>\n",
       "      <td>0</td>\n",
       "      <td>1</td>\n",
       "      <td>1</td>\n",
       "      <td>1</td>\n",
       "      <td>1</td>\n",
       "      <td>1</td>\n",
       "      <td>...</td>\n",
       "      <td>0</td>\n",
       "      <td>0</td>\n",
       "      <td>0</td>\n",
       "      <td>0</td>\n",
       "      <td>16</td>\n",
       "      <td>0</td>\n",
       "      <td>2</td>\n",
       "      <td>3</td>\n",
       "      <td>2021-01-12</td>\n",
       "      <td>0</td>\n",
       "    </tr>\n",
       "    <tr>\n",
       "      <th>1</th>\n",
       "      <td>1</td>\n",
       "      <td>0</td>\n",
       "      <td>1</td>\n",
       "      <td>1</td>\n",
       "      <td>0</td>\n",
       "      <td>1</td>\n",
       "      <td>1</td>\n",
       "      <td>1</td>\n",
       "      <td>1</td>\n",
       "      <td>1</td>\n",
       "      <td>...</td>\n",
       "      <td>0</td>\n",
       "      <td>0</td>\n",
       "      <td>0</td>\n",
       "      <td>0</td>\n",
       "      <td>16</td>\n",
       "      <td>0</td>\n",
       "      <td>2</td>\n",
       "      <td>10</td>\n",
       "      <td>2021-01-12</td>\n",
       "      <td>0</td>\n",
       "    </tr>\n",
       "    <tr>\n",
       "      <th>2</th>\n",
       "      <td>1</td>\n",
       "      <td>0</td>\n",
       "      <td>1</td>\n",
       "      <td>1</td>\n",
       "      <td>0</td>\n",
       "      <td>1</td>\n",
       "      <td>1</td>\n",
       "      <td>1</td>\n",
       "      <td>1</td>\n",
       "      <td>1</td>\n",
       "      <td>...</td>\n",
       "      <td>0</td>\n",
       "      <td>0</td>\n",
       "      <td>0</td>\n",
       "      <td>0</td>\n",
       "      <td>16</td>\n",
       "      <td>0</td>\n",
       "      <td>2</td>\n",
       "      <td>17</td>\n",
       "      <td>2021-01-12</td>\n",
       "      <td>1</td>\n",
       "    </tr>\n",
       "  </tbody>\n",
       "</table>\n",
       "<p>6188 rows × 53 columns</p>\n",
       "</div>"
      ],
      "text/plain": [
       "                 омепразол_stat_control  надропарин кальция_stat_control  \\\n",
       "case    t_point                                                            \n",
       "GACAAcY 0                             1                                1   \n",
       "        1                             1                                1   \n",
       "        2                             1                                1   \n",
       "        3                             1                                1   \n",
       "GACAAnf 0                             1                                1   \n",
       "...                                 ...                              ...   \n",
       "GACBB;O 0                             0                                0   \n",
       "        1                             0                                0   \n",
       "GACXAAB 0                             1                                0   \n",
       "        1                             1                                0   \n",
       "        2                             1                                0   \n",
       "\n",
       "                 эзомепразол_stat_control  амлодипин_stat_control  \\\n",
       "case    t_point                                                     \n",
       "GACAAcY 0                               1                       1   \n",
       "        1                               1                       1   \n",
       "        2                               1                       1   \n",
       "        3                               1                       1   \n",
       "GACAAnf 0                               1                       1   \n",
       "...                                   ...                     ...   \n",
       "GACBB;O 0                               0                       1   \n",
       "        1                               0                       1   \n",
       "GACXAAB 0                               1                       1   \n",
       "        1                               1                       1   \n",
       "        2                               1                       1   \n",
       "\n",
       "                 амброксол_stat_control  домперидон_stat_control  \\\n",
       "case    t_point                                                    \n",
       "GACAAcY 0                             1                        1   \n",
       "        1                             1                        1   \n",
       "        2                             1                        1   \n",
       "        3                             1                        1   \n",
       "GACAAnf 0                             1                        1   \n",
       "...                                 ...                      ...   \n",
       "GACBB;O 0                             1                        0   \n",
       "        1                             1                        0   \n",
       "GACXAAB 0                             0                        1   \n",
       "        1                             0                        1   \n",
       "        2                             0                        1   \n",
       "\n",
       "                 меброфенин_stat_control  технеций_stat_control  \\\n",
       "case    t_point                                                   \n",
       "GACAAcY 0                              1                      1   \n",
       "        1                              1                      1   \n",
       "        2                              1                      1   \n",
       "        3                              1                      1   \n",
       "GACAAnf 0                              1                      1   \n",
       "...                                  ...                    ...   \n",
       "GACBB;O 0                              0                      0   \n",
       "        1                              0                      0   \n",
       "GACXAAB 0                              1                      1   \n",
       "        1                              1                      1   \n",
       "        2                              1                      1   \n",
       "\n",
       "                 мометазон_stat_control  бисопролол_stat_control  ...  \\\n",
       "case    t_point                                                   ...   \n",
       "GACAAcY 0                             1                        1  ...   \n",
       "        1                             1                        1  ...   \n",
       "        2                             1                        1  ...   \n",
       "        3                             1                        1  ...   \n",
       "GACAAnf 0                             1                        1  ...   \n",
       "...                                 ...                      ...  ...   \n",
       "GACBB;O 0                             0                        1  ...   \n",
       "        1                             0                        1  ...   \n",
       "GACXAAB 0                             1                        1  ...   \n",
       "        1                             1                        1  ...   \n",
       "        2                             1                        1  ...   \n",
       "\n",
       "                 трансфузия_dinam_control  оксигенотерапия_dinam_control  \\\n",
       "case    t_point                                                            \n",
       "GACAAcY 0                               0                              1   \n",
       "        1                               0                              1   \n",
       "        2                               0                              1   \n",
       "        3                               0                              1   \n",
       "GACAAnf 0                               0                              0   \n",
       "...                                   ...                            ...   \n",
       "GACBB;O 0                               0                              0   \n",
       "        1                               0                              0   \n",
       "GACXAAB 0                               0                              0   \n",
       "        1                               0                              0   \n",
       "        2                               0                              0   \n",
       "\n",
       "                 НИВЛ_dinam_control  ИВЛ_dinam_control  long_observation_tar  \\\n",
       "case    t_point                                                                \n",
       "GACAAcY 0                         0                  0                    22   \n",
       "        1                         0                  0                    22   \n",
       "        2                         0                  0                    22   \n",
       "        3                         0                  0                    22   \n",
       "GACAAnf 0                         0                  0                     6   \n",
       "...                             ...                ...                   ...   \n",
       "GACBB;O 0                         0                  0                     6   \n",
       "        1                         0                  0                     6   \n",
       "GACXAAB 0                         0                  0                    16   \n",
       "        1                         0                  0                    16   \n",
       "        2                         0                  0                    16   \n",
       "\n",
       "                 outcome_tar  process_stages  current_process_duration  \\\n",
       "case    t_point                                                          \n",
       "GACAAcY 0                  0               2                         3   \n",
       "        1                  0               2                        10   \n",
       "        2                  0               2                        17   \n",
       "        3                  0               2                        24   \n",
       "GACAAnf 0                  0             1_2                         3   \n",
       "...                      ...             ...                       ...   \n",
       "GACBB;O 0                  0               2                         3   \n",
       "        1                  0               2                        10   \n",
       "GACXAAB 0                  0               2                         3   \n",
       "        1                  0               2                        10   \n",
       "        2                  0               2                        17   \n",
       "\n",
       "                 admission_date  end_epizode  \n",
       "case    t_point                               \n",
       "GACAAcY 0            2021-01-29            0  \n",
       "        1            2021-01-29            0  \n",
       "        2            2021-01-29            0  \n",
       "        3            2021-01-29            1  \n",
       "GACAAnf 0            2020-06-06            0  \n",
       "...                         ...          ...  \n",
       "GACBB;O 0            2021-01-04            0  \n",
       "        1            2021-01-04            1  \n",
       "GACXAAB 0            2021-01-12            0  \n",
       "        1            2021-01-12            0  \n",
       "        2            2021-01-12            1  \n",
       "\n",
       "[6188 rows x 53 columns]"
      ]
     },
     "execution_count": 101,
     "metadata": {},
     "output_type": "execute_result"
    }
   ],
   "source": [
    "df = None\n",
    "with open(\"covid_flow.pkl\", \"rb\") as f:\n",
    "    df = pickle.load(f)\n",
    "df[\"case\"] = df.index\n",
    "df[\"t_point\"] = df[\"t_point\"].apply(lambda x: x[2:])\n",
    "df[\"t_point\"] = df[\"t_point\"].apply(lambda x: int(x))\n",
    "df.set_index([\"case\", \"t_point\"], inplace=True)\n",
    "df.sort_index()\n"
   ]
  },
  {
   "cell_type": "markdown",
   "metadata": {},
   "source": [
    "# Check the data"
   ]
  },
  {
   "cell_type": "markdown",
   "metadata": {},
   "source": [
    "Divide dataset to treatment and pynamic parameters"
   ]
  },
  {
   "cell_type": "code",
   "execution_count": null,
   "metadata": {},
   "outputs": [],
   "source": [
    "stat_fact_df = df.iloc[:,0:29]\n",
    "stat_fact_df = stat_fact_df.sort_values([\"case\", \"t_point\"])"
   ]
  },
  {
   "cell_type": "markdown",
   "metadata": {},
   "source": [
    "But initially check if treatment strategy has been changed? No. But found 22 records with no treatments at all."
   ]
  },
  {
   "cell_type": "code",
   "execution_count": 1,
   "metadata": {},
   "outputs": [
    {
     "ename": "NameError",
     "evalue": "name 'stat_fact_df' is not defined",
     "output_type": "error",
     "traceback": [
      "\u001b[1;31m---------------------------------------------------------------------------\u001b[0m",
      "\u001b[1;31mNameError\u001b[0m                                 Traceback (most recent call last)",
      "\u001b[1;32mc:\\Users\\sirau\\OneDrive\\Desktop\\datascience\\covid\\data_analysis.ipynb Ячейка 13\u001b[0m in \u001b[0;36m<cell line: 2>\u001b[1;34m()\u001b[0m\n\u001b[0;32m      <a href='vscode-notebook-cell:/c%3A/Users/sirau/OneDrive/Desktop/datascience/covid/data_analysis.ipynb#X16sZmlsZQ%3D%3D?line=0'>1</a>\u001b[0m non_typical_treatments \u001b[39m=\u001b[39m []\n\u001b[1;32m----> <a href='vscode-notebook-cell:/c%3A/Users/sirau/OneDrive/Desktop/datascience/covid/data_analysis.ipynb#X16sZmlsZQ%3D%3D?line=1'>2</a>\u001b[0m \u001b[39mfor\u001b[39;00m i \u001b[39min\u001b[39;00m stat_fact_df\u001b[39m.\u001b[39mindex\u001b[39m.\u001b[39mlevels[\u001b[39m0\u001b[39m]:\n\u001b[0;32m      <a href='vscode-notebook-cell:/c%3A/Users/sirau/OneDrive/Desktop/datascience/covid/data_analysis.ipynb#X16sZmlsZQ%3D%3D?line=2'>3</a>\u001b[0m     means \u001b[39m=\u001b[39m stat_fact_df\u001b[39m.\u001b[39mloc[(i)]\u001b[39m.\u001b[39mmean()\n\u001b[0;32m      <a href='vscode-notebook-cell:/c%3A/Users/sirau/OneDrive/Desktop/datascience/covid/data_analysis.ipynb#X16sZmlsZQ%3D%3D?line=3'>4</a>\u001b[0m     \u001b[39mif\u001b[39;00m (\u001b[39mset\u001b[39m(means\u001b[39m.\u001b[39munique()) \u001b[39m!=\u001b[39m \u001b[39mset\u001b[39m([\u001b[39m0\u001b[39m,\u001b[39m1\u001b[39m])):\n",
      "\u001b[1;31mNameError\u001b[0m: name 'stat_fact_df' is not defined"
     ]
    }
   ],
   "source": [
    "non_typical_treatments = []\n",
    "for i in stat_fact_df.index.levels[0]:\n",
    "    means = stat_fact_df.loc[(i)].mean()\n",
    "    if (set(means.unique()) != set([0,1])):\n",
    "        non_typical_treatments.append([i, set(means.unique())])\n",
    "non_typical_treatments"
   ]
  },
  {
   "cell_type": "markdown",
   "metadata": {},
   "source": [
    "*inof_df* static information about patient and treatment"
   ]
  },
  {
   "cell_type": "code",
   "execution_count": null,
   "metadata": {},
   "outputs": [
    {
     "data": {
      "text/html": [
       "<div>\n",
       "<style scoped>\n",
       "    .dataframe tbody tr th:only-of-type {\n",
       "        vertical-align: middle;\n",
       "    }\n",
       "\n",
       "    .dataframe tbody tr th {\n",
       "        vertical-align: top;\n",
       "    }\n",
       "\n",
       "    .dataframe thead th {\n",
       "        text-align: right;\n",
       "    }\n",
       "</style>\n",
       "<table border=\"1\" class=\"dataframe\">\n",
       "  <thead>\n",
       "    <tr style=\"text-align: right;\">\n",
       "      <th></th>\n",
       "      <th>age_stat_fact</th>\n",
       "      <th>outcome_tar</th>\n",
       "      <th>long_observation_tar</th>\n",
       "      <th>admission_date</th>\n",
       "      <th>duration_before_start</th>\n",
       "      <th>process_stages</th>\n",
       "      <th>periods_stat_fact</th>\n",
       "    </tr>\n",
       "    <tr>\n",
       "      <th>case</th>\n",
       "      <th></th>\n",
       "      <th></th>\n",
       "      <th></th>\n",
       "      <th></th>\n",
       "      <th></th>\n",
       "      <th></th>\n",
       "      <th></th>\n",
       "    </tr>\n",
       "  </thead>\n",
       "  <tbody>\n",
       "    <tr>\n",
       "      <th>GACAAcY</th>\n",
       "      <td>81</td>\n",
       "      <td>0</td>\n",
       "      <td>22</td>\n",
       "      <td>2021-01-29</td>\n",
       "      <td>3</td>\n",
       "      <td>2</td>\n",
       "      <td>4</td>\n",
       "    </tr>\n",
       "    <tr>\n",
       "      <th>GACAAnf</th>\n",
       "      <td>73</td>\n",
       "      <td>0</td>\n",
       "      <td>6</td>\n",
       "      <td>2020-06-06</td>\n",
       "      <td>3</td>\n",
       "      <td>1_2</td>\n",
       "      <td>2</td>\n",
       "    </tr>\n",
       "    <tr>\n",
       "      <th>GACABsT</th>\n",
       "      <td>59</td>\n",
       "      <td>0</td>\n",
       "      <td>14</td>\n",
       "      <td>2020-12-30</td>\n",
       "      <td>3</td>\n",
       "      <td>2</td>\n",
       "      <td>3</td>\n",
       "    </tr>\n",
       "    <tr>\n",
       "      <th>GACACKP</th>\n",
       "      <td>71</td>\n",
       "      <td>0</td>\n",
       "      <td>15</td>\n",
       "      <td>2021-01-26</td>\n",
       "      <td>3</td>\n",
       "      <td>2</td>\n",
       "      <td>3</td>\n",
       "    </tr>\n",
       "    <tr>\n",
       "      <th>GACADBj</th>\n",
       "      <td>37</td>\n",
       "      <td>0</td>\n",
       "      <td>20</td>\n",
       "      <td>2021-02-19</td>\n",
       "      <td>3</td>\n",
       "      <td>2</td>\n",
       "      <td>4</td>\n",
       "    </tr>\n",
       "    <tr>\n",
       "      <th>...</th>\n",
       "      <td>...</td>\n",
       "      <td>...</td>\n",
       "      <td>...</td>\n",
       "      <td>...</td>\n",
       "      <td>...</td>\n",
       "      <td>...</td>\n",
       "      <td>...</td>\n",
       "    </tr>\n",
       "    <tr>\n",
       "      <th>GACBAхz</th>\n",
       "      <td>25</td>\n",
       "      <td>0</td>\n",
       "      <td>14</td>\n",
       "      <td>2020-12-25</td>\n",
       "      <td>3</td>\n",
       "      <td>2</td>\n",
       "      <td>3</td>\n",
       "    </tr>\n",
       "    <tr>\n",
       "      <th>GACBAщн</th>\n",
       "      <td>37</td>\n",
       "      <td>0</td>\n",
       "      <td>15</td>\n",
       "      <td>2021-01-14</td>\n",
       "      <td>3</td>\n",
       "      <td>2</td>\n",
       "      <td>3</td>\n",
       "    </tr>\n",
       "    <tr>\n",
       "      <th>GACBB-В</th>\n",
       "      <td>70</td>\n",
       "      <td>0</td>\n",
       "      <td>1</td>\n",
       "      <td>2020-12-22</td>\n",
       "      <td>3</td>\n",
       "      <td>2</td>\n",
       "      <td>1</td>\n",
       "    </tr>\n",
       "    <tr>\n",
       "      <th>GACBB;O</th>\n",
       "      <td>62</td>\n",
       "      <td>0</td>\n",
       "      <td>6</td>\n",
       "      <td>2021-01-04</td>\n",
       "      <td>3</td>\n",
       "      <td>2</td>\n",
       "      <td>2</td>\n",
       "    </tr>\n",
       "    <tr>\n",
       "      <th>GACXAAB</th>\n",
       "      <td>71</td>\n",
       "      <td>0</td>\n",
       "      <td>16</td>\n",
       "      <td>2021-01-12</td>\n",
       "      <td>3</td>\n",
       "      <td>2</td>\n",
       "      <td>3</td>\n",
       "    </tr>\n",
       "  </tbody>\n",
       "</table>\n",
       "<p>1992 rows × 7 columns</p>\n",
       "</div>"
      ],
      "text/plain": [
       "         age_stat_fact  outcome_tar  long_observation_tar admission_date  \\\n",
       "case                                                                       \n",
       "GACAAcY             81            0                    22     2021-01-29   \n",
       "GACAAnf             73            0                     6     2020-06-06   \n",
       "GACABsT             59            0                    14     2020-12-30   \n",
       "GACACKP             71            0                    15     2021-01-26   \n",
       "GACADBj             37            0                    20     2021-02-19   \n",
       "...                ...          ...                   ...            ...   \n",
       "GACBAхz             25            0                    14     2020-12-25   \n",
       "GACBAщн             37            0                    15     2021-01-14   \n",
       "GACBB-В             70            0                     1     2020-12-22   \n",
       "GACBB;O             62            0                     6     2021-01-04   \n",
       "GACXAAB             71            0                    16     2021-01-12   \n",
       "\n",
       "         duration_before_start process_stages  periods_stat_fact  \n",
       "case                                                              \n",
       "GACAAcY                      3              2                  4  \n",
       "GACAAnf                      3            1_2                  2  \n",
       "GACABsT                      3              2                  3  \n",
       "GACACKP                      3              2                  3  \n",
       "GACADBj                      3              2                  4  \n",
       "...                        ...            ...                ...  \n",
       "GACBAхz                      3              2                  3  \n",
       "GACBAщн                      3              2                  3  \n",
       "GACBB-В                      3              2                  1  \n",
       "GACBB;O                      3              2                  2  \n",
       "GACXAAB                      3              2                  3  \n",
       "\n",
       "[1992 rows x 7 columns]"
      ]
     },
     "execution_count": 105,
     "metadata": {},
     "output_type": "execute_result"
    }
   ],
   "source": [
    "info_df = pd.DataFrame()\n",
    "info_df[\"age_stat_fact\"] = df[\"age_stat_fact\"]\n",
    "info_df[\"outcome_tar\"] = df[\"outcome_tar\"]\n",
    "info_df[\"long_observation_tar\"] = df[\"long_observation_tar\"]\n",
    "info_df[\"admission_date\"] = df[\"admission_date\"]\n",
    "info_df[\"duration_before_start\"] = df[\"current_process_duration\"]\n",
    "info_df[\"process_stages\"] = df[\"process_stages\"]\n",
    "periods = info_df.groupby(\"case\").count()[\"age_stat_fact\"]\n",
    "info_df = info_df.groupby(\"case\").first()\n",
    "info_df[\"periods_stat_fact\"] = periods\n",
    "info_df"
   ]
  },
  {
   "cell_type": "markdown",
   "metadata": {},
   "source": [
    "dinam_fact_df with dinamic parameters changed during observation. TARGETS!!"
   ]
  },
  {
   "cell_type": "code",
   "execution_count": null,
   "metadata": {},
   "outputs": [],
   "source": [
    "dinam_fact_df = df.iloc[:,29:42]\n",
    "dinam_fact_df = dinam_fact_df.sort_values([\"case\", \"t_point\"])"
   ]
  },
  {
   "cell_type": "markdown",
   "metadata": {},
   "source": [
    "*dynam_control_df* procedures during observation. Unlike medicine, procedures has been changed during observation, so parameters pedends on time. "
   ]
  },
  {
   "cell_type": "code",
   "execution_count": null,
   "metadata": {},
   "outputs": [
    {
     "data": {
      "text/plain": [
       "[['GACAFQH', {0.5}],\n",
       " ['GACAGFV', {0.2}],\n",
       " ['GACAIГЦ', {0.5}],\n",
       " ['GACAIДь', {0.75}],\n",
       " ['GACAIЛU', {0.5}],\n",
       " ['GACAIбщ', {0.16666666666666666}],\n",
       " ['GACAJ;ж', {0.5}],\n",
       " ['GACAJBы', {0.25}],\n",
       " ['GACAJkM', {0.5}],\n",
       " ['GACAJtИ', {0.5}]]"
      ]
     },
     "execution_count": 108,
     "metadata": {},
     "output_type": "execute_result"
    }
   ],
   "source": [
    "dinam_control_df = df.iloc[:,43:47]\n",
    "dinam_control_df = dinam_control_df.sort_values([\"case\", \"t_point\"])\n",
    "non_typical = []\n",
    "for i in dinam_control_df.index.levels[0]:\n",
    "    means = dinam_control_df.loc[(i)].mean()\n",
    "    if (set(means.unique()) - set([0,1]) != set()):\n",
    "        non_typical.append([i, set(means.unique()) - set([0,1])])\n",
    "non_typical[:10]"
   ]
  },
  {
   "cell_type": "markdown",
   "metadata": {},
   "source": [
    "### EDA"
   ]
  },
  {
   "cell_type": "markdown",
   "metadata": {},
   "source": [
    "Average observation period is 14 days. We can use it in input for LSTM"
   ]
  },
  {
   "cell_type": "code",
   "execution_count": null,
   "metadata": {},
   "outputs": [
    {
     "data": {
      "text/plain": [
       "'Average observation long is 14'"
      ]
     },
     "metadata": {},
     "output_type": "display_data"
    }
   ],
   "source": [
    "display(f\"Average observation long is {info_df['long_observation_tar'].mode()[0]}\")"
   ]
  },
  {
   "cell_type": "code",
   "execution_count": null,
   "metadata": {},
   "outputs": [
    {
     "data": {
      "text/plain": [
       "0    1860\n",
       "1     132\n",
       "Name: outcome_tar, dtype: int64"
      ]
     },
     "execution_count": 110,
     "metadata": {},
     "output_type": "execute_result"
    }
   ],
   "source": [
    "info_df[\"outcome_tar\"].value_counts()"
   ]
  },
  {
   "cell_type": "code",
   "execution_count": null,
   "metadata": {},
   "outputs": [
    {
     "data": {
      "image/png": "[encoded data removed]",
      "text/plain": [
       "<Figure size 432x288 with 1 Axes>"
      ]
     },
     "metadata": {},
     "output_type": "display_data"
    }
   ],
   "source": [
    "plt.pie(info_df[\"outcome_tar\"].value_counts())\n",
    "plt.legend([\"Вылечился\", \"Умер\"])\n",
    "plt.show()"
   ]
  },
  {
   "cell_type": "markdown",
   "metadata": {},
   "source": [
    "### DAta preparation"
   ]
  },
  {
   "cell_type": "markdown",
   "metadata": {},
   "source": [
    "Divide observations on train and test parts. We take some part as train period and next as test period. So we have X as (, WINDOW, PARAMS) and y (PARAMS)"
   ]
  },
  {
   "cell_type": "code",
   "execution_count": null,
   "metadata": {},
   "outputs": [],
   "source": [
    "#module divides on X [[1, 2, 3, 4]] and y [5]\n",
    "WINDOW = 3\n",
    "PARAMS_LENGTH = 13\n",
    "\n",
    "def df_to_X_y(df, window_per):\n",
    "    X = []\n",
    "    y = []\n",
    "    for i in df.index.levels[0]:\n",
    "        i_l = df.loc[(i)].index\n",
    "        if (len(i_l) < window_per+1):\n",
    "            continue\n",
    "        X.append(df.loc[(i, 0):(i, window_per-1)].to_numpy(dtype=\"float64\"))\n",
    "        y.append(df.loc[(i, window_per)].to_numpy(dtype=\"float64\"))\n",
    "    return X, y\n",
    "\n",
    "X, y = df_to_X_y(dinam_fact_df, WINDOW)\n",
    "X_to_sc = np.array(X).reshape(-1, PARAMS_LENGTH)\n",
    "y = np.array(y)"
   ]
  },
  {
   "cell_type": "markdown",
   "metadata": {},
   "source": [
    "Impute NaN values using MICE methods with Linear regression as estimator "
   ]
  },
  {
   "cell_type": "code",
   "execution_count": 143,
   "metadata": {},
   "outputs": [
    {
     "name": "stdout",
     "output_type": "stream",
     "text": [
      "[IterativeImputer] Completing matrix with shape (1590, 13)\n",
      "[IterativeImputer] Ending imputation round 1/10, elapsed time 0.11\n",
      "[IterativeImputer] Change: 1299.9491537597714, scaled tolerance: 1.93637 \n",
      "[IterativeImputer] Ending imputation round 2/10, elapsed time 0.14\n",
      "[IterativeImputer] Change: 58.92997461650057, scaled tolerance: 1.93637 \n",
      "[IterativeImputer] Ending imputation round 3/10, elapsed time 0.16\n",
      "[IterativeImputer] Change: 24.639577197095317, scaled tolerance: 1.93637 \n",
      "[IterativeImputer] Ending imputation round 4/10, elapsed time 0.19\n",
      "[IterativeImputer] Change: 12.245414542932545, scaled tolerance: 1.93637 \n",
      "[IterativeImputer] Ending imputation round 5/10, elapsed time 0.21\n",
      "[IterativeImputer] Change: 8.676238925818295, scaled tolerance: 1.93637 \n",
      "[IterativeImputer] Ending imputation round 6/10, elapsed time 0.23\n",
      "[IterativeImputer] Change: 6.283088138503002, scaled tolerance: 1.93637 \n",
      "[IterativeImputer] Ending imputation round 7/10, elapsed time 0.25\n",
      "[IterativeImputer] Change: 4.565447966495368, scaled tolerance: 1.93637 \n",
      "[IterativeImputer] Ending imputation round 8/10, elapsed time 0.27\n",
      "[IterativeImputer] Change: 3.304734210772692, scaled tolerance: 1.93637 \n",
      "[IterativeImputer] Ending imputation round 9/10, elapsed time 0.28\n",
      "[IterativeImputer] Change: 2.38281017426241, scaled tolerance: 1.93637 \n",
      "[IterativeImputer] Ending imputation round 10/10, elapsed time 0.30\n",
      "[IterativeImputer] Change: 1.7123835282981534, scaled tolerance: 1.93637 \n",
      "[IterativeImputer] Early stopping criterion reached.\n",
      "[IterativeImputer] Completing matrix with shape (530, 13)\n",
      "[IterativeImputer] Ending imputation round 1/10, elapsed time 0.02\n",
      "[IterativeImputer] Change: 2480.3562204269756, scaled tolerance: 2.242 \n",
      "[IterativeImputer] Ending imputation round 2/10, elapsed time 0.05\n",
      "[IterativeImputer] Change: 986.0358379415048, scaled tolerance: 2.242 \n",
      "[IterativeImputer] Ending imputation round 3/10, elapsed time 0.08\n",
      "[IterativeImputer] Change: 572.8416559985426, scaled tolerance: 2.242 \n",
      "[IterativeImputer] Ending imputation round 4/10, elapsed time 0.11\n",
      "[IterativeImputer] Change: 317.0213727563486, scaled tolerance: 2.242 \n",
      "[IterativeImputer] Ending imputation round 5/10, elapsed time 0.15\n",
      "[IterativeImputer] Change: 168.77081548101472, scaled tolerance: 2.242 \n",
      "[IterativeImputer] Ending imputation round 6/10, elapsed time 0.18\n",
      "[IterativeImputer] Change: 90.64151792343621, scaled tolerance: 2.242 \n",
      "[IterativeImputer] Ending imputation round 7/10, elapsed time 0.22\n",
      "[IterativeImputer] Change: 53.767939084620174, scaled tolerance: 2.242 \n",
      "[IterativeImputer] Ending imputation round 8/10, elapsed time 0.26\n",
      "[IterativeImputer] Change: 37.85457797966414, scaled tolerance: 2.242 \n",
      "[IterativeImputer] Ending imputation round 9/10, elapsed time 0.30\n",
      "[IterativeImputer] Change: 31.104191211778822, scaled tolerance: 2.242 \n",
      "[IterativeImputer] Ending imputation round 10/10, elapsed time 0.33\n",
      "[IterativeImputer] Change: 28.03449166063417, scaled tolerance: 2.242 \n"
     ]
    }
   ],
   "source": [
    "from sklearn.experimental import enable_iterative_imputer\n",
    "from sklearn.impute import IterativeImputer\n",
    "from sklearn.linear_model import LinearRegression\n",
    "lr = LinearRegression()\n",
    "imp = IterativeImputer(estimator=lr, missing_values=np.nan, max_iter=10, imputation_order='roman', random_state=0)\n",
    "X_ex=imp.fit_transform(X_to_sc)\n",
    "y_ex=imp.fit_transform(y)\n"
   ]
  },
  {
   "cell_type": "markdown",
   "metadata": {},
   "source": [
    "Norm data by Standart Scaler and divide and train test parts"
   ]
  },
  {
   "cell_type": "code",
   "execution_count": null,
   "metadata": {},
   "outputs": [],
   "source": [
    "scal_model = StandardScaler().fit(X_ex)\n",
    "X_scaled = scal_model.transform(X_ex)\n",
    "y_scaled = scal_model.transform(y_ex)\n",
    "X_scaled_divided = np.array(X_scaled).reshape(-1, WINDOW, PARAMS_LENGTH)\n",
    "y_scaled_divided = np.array(y_scaled).reshape(-1, PARAMS_LENGTH)"
   ]
  },
  {
   "cell_type": "code",
   "execution_count": null,
   "metadata": {},
   "outputs": [],
   "source": [
    "X_train, X_test, y_train, y_test = train_test_split(X_scaled_divided, y_scaled_divided)\n",
    "X_train = X_train[:-1] # To DIVIDE on BATCHes\n",
    "y_train = y_train[:-1]\n",
    "BATCH_SIZE = 36"
   ]
  },
  {
   "cell_type": "markdown",
   "metadata": {},
   "source": [
    "### Training"
   ]
  },
  {
   "cell_type": "markdown",
   "metadata": {},
   "source": [
    "Start with one layer RNN size 13"
   ]
  },
  {
   "cell_type": "markdown",
   "metadata": {},
   "source": [
    "1. RNN with h size 13"
   ]
  },
  {
   "cell_type": "code",
   "execution_count": null,
   "metadata": {},
   "outputs": [
    {
     "name": "stdout",
     "output_type": "stream",
     "text": [
      "Model: \"sequential_10\"\n",
      "_________________________________________________________________\n",
      " Layer (type)                Output Shape              Param #   \n",
      "=================================================================\n",
      " lstm_8 (LSTM)               (36, 3)                   204       \n",
      "                                                                 \n",
      "=================================================================\n",
      "Total params: 204\n",
      "Trainable params: 204\n",
      "Non-trainable params: 0\n",
      "_________________________________________________________________\n"
     ]
    }
   ],
   "source": [
    "model_simple_rnn_13 = Sequential()\n",
    "model_simple_rnn_13.add(Input((WINDOW, PARAMS_LENGTH), batch_size=BATCH_SIZE))\n",
    "model_simple_rnn_13.add(LSTM(WINDOW, activation=\"relu\", return_sequences=False))\n",
    "model_simple_rnn_13.compile(loss=\"mse\", metrics=[RootMeanSquaredError()])\n",
    "model_simple_rnn_13.summary()"
   ]
  },
  {
   "cell_type": "code",
   "execution_count": 142,
   "metadata": {},
   "outputs": [
    {
     "name": "stdout",
     "output_type": "stream",
     "text": [
      "Epoch 1/50\n"
     ]
    },
    {
     "ename": "ValueError",
     "evalue": "in user code:\n\n    File \"C:\\Users\\sirau\\AppData\\Roaming\\Python\\Python310\\site-packages\\keras\\engine\\training.py\", line 1160, in train_function  *\n        return step_function(self, iterator)\n    File \"C:\\Users\\sirau\\AppData\\Roaming\\Python\\Python310\\site-packages\\keras\\engine\\training.py\", line 1146, in step_function  **\n        outputs = model.distribute_strategy.run(run_step, args=(data,))\n    File \"C:\\Users\\sirau\\AppData\\Roaming\\Python\\Python310\\site-packages\\keras\\engine\\training.py\", line 1135, in run_step  **\n        outputs = model.train_step(data)\n    File \"C:\\Users\\sirau\\AppData\\Roaming\\Python\\Python310\\site-packages\\keras\\engine\\training.py\", line 994, in train_step\n        loss = self.compute_loss(x, y, y_pred, sample_weight)\n    File \"C:\\Users\\sirau\\AppData\\Roaming\\Python\\Python310\\site-packages\\keras\\engine\\training.py\", line 1052, in compute_loss\n        return self.compiled_loss(\n    File \"C:\\Users\\sirau\\AppData\\Roaming\\Python\\Python310\\site-packages\\keras\\engine\\compile_utils.py\", line 265, in __call__\n        loss_value = loss_obj(y_t, y_p, sample_weight=sw)\n    File \"C:\\Users\\sirau\\AppData\\Roaming\\Python\\Python310\\site-packages\\keras\\losses.py\", line 152, in __call__\n        losses = call_fn(y_true, y_pred)\n    File \"C:\\Users\\sirau\\AppData\\Roaming\\Python\\Python310\\site-packages\\keras\\losses.py\", line 272, in call  **\n        return ag_fn(y_true, y_pred, **self._fn_kwargs)\n    File \"C:\\Users\\sirau\\AppData\\Roaming\\Python\\Python310\\site-packages\\keras\\losses.py\", line 1486, in mean_squared_error\n        return backend.mean(tf.math.squared_difference(y_pred, y_true), axis=-1)\n\n    ValueError: Dimensions must be equal, but are 3 and 13 for '{{node mean_squared_error/SquaredDifference}} = SquaredDifference[T=DT_FLOAT](sequential_10/lstm_8/strided_slice_3, IteratorGetNext:1)' with input shapes: [36,3], [?,13].\n",
     "output_type": "error",
     "traceback": [
      "\u001b[1;31m---------------------------------------------------------------------------\u001b[0m",
      "\u001b[1;31mValueError\u001b[0m                                Traceback (most recent call last)",
      "\u001b[1;32mc:\\Users\\sirau\\OneDrive\\Desktop\\datascience\\covid\\data_analysis.ipynb Ячейка 37\u001b[0m in \u001b[0;36m<cell line: 1>\u001b[1;34m()\u001b[0m\n\u001b[1;32m----> <a href='vscode-notebook-cell:/c%3A/Users/sirau/OneDrive/Desktop/datascience/covid/data_analysis.ipynb#X46sZmlsZQ%3D%3D?line=0'>1</a>\u001b[0m history \u001b[39m=\u001b[39m model_simple_rnn_13\u001b[39m.\u001b[39;49mfit(X_train, y_train, validation_split\u001b[39m=\u001b[39;49m\u001b[39m0.15\u001b[39;49m,  epochs\u001b[39m=\u001b[39;49m\u001b[39m50\u001b[39;49m, batch_size\u001b[39m=\u001b[39;49mBATCH_SIZE, shuffle\u001b[39m=\u001b[39;49m\u001b[39mFalse\u001b[39;49;00m)\n\u001b[0;32m      <a href='vscode-notebook-cell:/c%3A/Users/sirau/OneDrive/Desktop/datascience/covid/data_analysis.ipynb#X46sZmlsZQ%3D%3D?line=1'>2</a>\u001b[0m plt\u001b[39m.\u001b[39mplot(history\u001b[39m.\u001b[39mhistory[\u001b[39m\"\u001b[39m\u001b[39mloss\u001b[39m\u001b[39m\"\u001b[39m])\n\u001b[0;32m      <a href='vscode-notebook-cell:/c%3A/Users/sirau/OneDrive/Desktop/datascience/covid/data_analysis.ipynb#X46sZmlsZQ%3D%3D?line=2'>3</a>\u001b[0m plt\u001b[39m.\u001b[39mplot(history\u001b[39m.\u001b[39mhistory[\u001b[39m\"\u001b[39m\u001b[39mval_loss\u001b[39m\u001b[39m\"\u001b[39m])\n",
      "File \u001b[1;32m~\\AppData\\Roaming\\Python\\Python310\\site-packages\\keras\\utils\\traceback_utils.py:70\u001b[0m, in \u001b[0;36mfilter_traceback.<locals>.error_handler\u001b[1;34m(*args, **kwargs)\u001b[0m\n\u001b[0;32m     67\u001b[0m     filtered_tb \u001b[39m=\u001b[39m _process_traceback_frames(e\u001b[39m.\u001b[39m__traceback__)\n\u001b[0;32m     68\u001b[0m     \u001b[39m# To get the full stack trace, call:\u001b[39;00m\n\u001b[0;32m     69\u001b[0m     \u001b[39m# `tf.debugging.disable_traceback_filtering()`\u001b[39;00m\n\u001b[1;32m---> 70\u001b[0m     \u001b[39mraise\u001b[39;00m e\u001b[39m.\u001b[39mwith_traceback(filtered_tb) \u001b[39mfrom\u001b[39;00m \u001b[39mNone\u001b[39m\n\u001b[0;32m     71\u001b[0m \u001b[39mfinally\u001b[39;00m:\n\u001b[0;32m     72\u001b[0m     \u001b[39mdel\u001b[39;00m filtered_tb\n",
      "File \u001b[1;32m~\\AppData\\Local\\Temp\\__autograph_generated_fileaxy0ca1d.py:15\u001b[0m, in \u001b[0;36mouter_factory.<locals>.inner_factory.<locals>.tf__train_function\u001b[1;34m(iterator)\u001b[0m\n\u001b[0;32m     13\u001b[0m \u001b[39mtry\u001b[39;00m:\n\u001b[0;32m     14\u001b[0m     do_return \u001b[39m=\u001b[39m \u001b[39mTrue\u001b[39;00m\n\u001b[1;32m---> 15\u001b[0m     retval_ \u001b[39m=\u001b[39m ag__\u001b[39m.\u001b[39mconverted_call(ag__\u001b[39m.\u001b[39mld(step_function), (ag__\u001b[39m.\u001b[39mld(\u001b[39mself\u001b[39m), ag__\u001b[39m.\u001b[39mld(iterator)), \u001b[39mNone\u001b[39;00m, fscope)\n\u001b[0;32m     16\u001b[0m \u001b[39mexcept\u001b[39;00m:\n\u001b[0;32m     17\u001b[0m     do_return \u001b[39m=\u001b[39m \u001b[39mFalse\u001b[39;00m\n",
      "\u001b[1;31mValueError\u001b[0m: in user code:\n\n    File \"C:\\Users\\sirau\\AppData\\Roaming\\Python\\Python310\\site-packages\\keras\\engine\\training.py\", line 1160, in train_function  *\n        return step_function(self, iterator)\n    File \"C:\\Users\\sirau\\AppData\\Roaming\\Python\\Python310\\site-packages\\keras\\engine\\training.py\", line 1146, in step_function  **\n        outputs = model.distribute_strategy.run(run_step, args=(data,))\n    File \"C:\\Users\\sirau\\AppData\\Roaming\\Python\\Python310\\site-packages\\keras\\engine\\training.py\", line 1135, in run_step  **\n        outputs = model.train_step(data)\n    File \"C:\\Users\\sirau\\AppData\\Roaming\\Python\\Python310\\site-packages\\keras\\engine\\training.py\", line 994, in train_step\n        loss = self.compute_loss(x, y, y_pred, sample_weight)\n    File \"C:\\Users\\sirau\\AppData\\Roaming\\Python\\Python310\\site-packages\\keras\\engine\\training.py\", line 1052, in compute_loss\n        return self.compiled_loss(\n    File \"C:\\Users\\sirau\\AppData\\Roaming\\Python\\Python310\\site-packages\\keras\\engine\\compile_utils.py\", line 265, in __call__\n        loss_value = loss_obj(y_t, y_p, sample_weight=sw)\n    File \"C:\\Users\\sirau\\AppData\\Roaming\\Python\\Python310\\site-packages\\keras\\losses.py\", line 152, in __call__\n        losses = call_fn(y_true, y_pred)\n    File \"C:\\Users\\sirau\\AppData\\Roaming\\Python\\Python310\\site-packages\\keras\\losses.py\", line 272, in call  **\n        return ag_fn(y_true, y_pred, **self._fn_kwargs)\n    File \"C:\\Users\\sirau\\AppData\\Roaming\\Python\\Python310\\site-packages\\keras\\losses.py\", line 1486, in mean_squared_error\n        return backend.mean(tf.math.squared_difference(y_pred, y_true), axis=-1)\n\n    ValueError: Dimensions must be equal, but are 3 and 13 for '{{node mean_squared_error/SquaredDifference}} = SquaredDifference[T=DT_FLOAT](sequential_10/lstm_8/strided_slice_3, IteratorGetNext:1)' with input shapes: [36,3], [?,13].\n"
     ]
    }
   ],
   "source": [
    "history = model_simple_rnn_13.fit(X_train, y_train, validation_split=0.15,  epochs=50, batch_size=BATCH_SIZE, shuffle=False)\n",
    "plt.plot(history.history[\"loss\"])\n",
    "plt.plot(history.history[\"val_loss\"])\n",
    "plt.legend([\"loss\", \"val_loss\"])"
   ]
  },
  {
   "cell_type": "code",
   "execution_count": 1,
   "metadata": {},
   "outputs": [
    {
     "ename": "NameError",
     "evalue": "name 'X_test' is not defined",
     "output_type": "error",
     "traceback": [
      "\u001b[1;31m---------------------------------------------------------------------------\u001b[0m",
      "\u001b[1;31mNameError\u001b[0m                                 Traceback (most recent call last)",
      "\u001b[1;32mc:\\Users\\sirau\\OneDrive\\Desktop\\datascience\\covid\\data_analysis.ipynb Ячейка 36\u001b[0m in \u001b[0;36m<cell line: 1>\u001b[1;34m()\u001b[0m\n\u001b[1;32m----> <a href='vscode-notebook-cell:/c%3A/Users/sirau/OneDrive/Desktop/datascience/covid/data_analysis.ipynb#X50sZmlsZQ%3D%3D?line=0'>1</a>\u001b[0m X_test \u001b[39m=\u001b[39m X_test[:\u001b[39m-\u001b[39m\u001b[39m1\u001b[39m]\n\u001b[0;32m      <a href='vscode-notebook-cell:/c%3A/Users/sirau/OneDrive/Desktop/datascience/covid/data_analysis.ipynb#X50sZmlsZQ%3D%3D?line=1'>2</a>\u001b[0m y_test \u001b[39m=\u001b[39m y_test[:\u001b[39m-\u001b[39m\u001b[39m1\u001b[39m]\n",
      "\u001b[1;31mNameError\u001b[0m: name 'X_test' is not defined"
     ]
    }
   ],
   "source": [
    "X_test = X_test[:-1]\n",
    "y_test = y_test[:-1]"
   ]
  },
  {
   "cell_type": "code",
   "execution_count": 163,
   "metadata": {},
   "outputs": [
    {
     "name": "stdout",
     "output_type": "stream",
     "text": [
      " 1/12 [=>............................] - ETA: 0s - loss: 0.4630 - root_mean_squared_error: 0.6805"
     ]
    },
    {
     "ename": "InvalidArgumentError",
     "evalue": "Graph execution error:\n\nDetected at node 'sequential_28/lstm_33/TensorArrayUnstack/TensorListFromTensor' defined at (most recent call last):\n    File \"c:\\Python310\\lib\\runpy.py\", line 196, in _run_module_as_main\n      return _run_code(code, main_globals, None,\n    File \"c:\\Python310\\lib\\runpy.py\", line 86, in _run_code\n      exec(code, run_globals)\n    File \"C:\\Users\\sirau\\AppData\\Roaming\\Python\\Python310\\site-packages\\ipykernel_launcher.py\", line 17, in <module>\n      app.launch_new_instance()\n    File \"c:\\Python310\\lib\\site-packages\\traitlets\\config\\application.py\", line 976, in launch_instance\n      app.start()\n    File \"C:\\Users\\sirau\\AppData\\Roaming\\Python\\Python310\\site-packages\\ipykernel\\kernelapp.py\", line 712, in start\n      self.io_loop.start()\n    File \"c:\\Python310\\lib\\site-packages\\tornado\\platform\\asyncio.py\", line 215, in start\n      self.asyncio_loop.run_forever()\n    File \"c:\\Python310\\lib\\asyncio\\base_events.py\", line 600, in run_forever\n      self._run_once()\n    File \"c:\\Python310\\lib\\asyncio\\base_events.py\", line 1896, in _run_once\n      handle._run()\n    File \"c:\\Python310\\lib\\asyncio\\events.py\", line 80, in _run\n      self._context.run(self._callback, *self._args)\n    File \"C:\\Users\\sirau\\AppData\\Roaming\\Python\\Python310\\site-packages\\ipykernel\\kernelbase.py\", line 510, in dispatch_queue\n      await self.process_one()\n    File \"C:\\Users\\sirau\\AppData\\Roaming\\Python\\Python310\\site-packages\\ipykernel\\kernelbase.py\", line 499, in process_one\n      await dispatch(*args)\n    File \"C:\\Users\\sirau\\AppData\\Roaming\\Python\\Python310\\site-packages\\ipykernel\\kernelbase.py\", line 406, in dispatch_shell\n      await result\n    File \"C:\\Users\\sirau\\AppData\\Roaming\\Python\\Python310\\site-packages\\ipykernel\\kernelbase.py\", line 730, in execute_request\n      reply_content = await reply_content\n    File \"C:\\Users\\sirau\\AppData\\Roaming\\Python\\Python310\\site-packages\\ipykernel\\ipkernel.py\", line 383, in do_execute\n      res = shell.run_cell(\n    File \"C:\\Users\\sirau\\AppData\\Roaming\\Python\\Python310\\site-packages\\ipykernel\\zmqshell.py\", line 528, in run_cell\n      return super().run_cell(*args, **kwargs)\n    File \"C:\\Users\\sirau\\AppData\\Roaming\\Python\\Python310\\site-packages\\IPython\\core\\interactiveshell.py\", line 2881, in run_cell\n      result = self._run_cell(\n    File \"C:\\Users\\sirau\\AppData\\Roaming\\Python\\Python310\\site-packages\\IPython\\core\\interactiveshell.py\", line 2936, in _run_cell\n      return runner(coro)\n    File \"C:\\Users\\sirau\\AppData\\Roaming\\Python\\Python310\\site-packages\\IPython\\core\\async_helpers.py\", line 129, in _pseudo_sync_runner\n      coro.send(None)\n    File \"C:\\Users\\sirau\\AppData\\Roaming\\Python\\Python310\\site-packages\\IPython\\core\\interactiveshell.py\", line 3135, in run_cell_async\n      has_raised = await self.run_ast_nodes(code_ast.body, cell_name,\n    File \"C:\\Users\\sirau\\AppData\\Roaming\\Python\\Python310\\site-packages\\IPython\\core\\interactiveshell.py\", line 3338, in run_ast_nodes\n      if await self.run_code(code, result, async_=asy):\n    File \"C:\\Users\\sirau\\AppData\\Roaming\\Python\\Python310\\site-packages\\IPython\\core\\interactiveshell.py\", line 3398, in run_code\n      exec(code_obj, self.user_global_ns, self.user_ns)\n    File \"C:\\Users\\sirau\\AppData\\Local\\Temp\\ipykernel_1428\\3899891647.py\", line 1, in <cell line: 1>\n      model.evaluate(X_test, y_test)\n    File \"C:\\Users\\sirau\\AppData\\Roaming\\Python\\Python310\\site-packages\\keras\\utils\\traceback_utils.py\", line 65, in error_handler\n      return fn(*args, **kwargs)\n    File \"C:\\Users\\sirau\\AppData\\Roaming\\Python\\Python310\\site-packages\\keras\\engine\\training.py\", line 1947, in evaluate\n      tmp_logs = self.test_function(iterator)\n    File \"C:\\Users\\sirau\\AppData\\Roaming\\Python\\Python310\\site-packages\\keras\\engine\\training.py\", line 1727, in test_function\n      return step_function(self, iterator)\n    File \"C:\\Users\\sirau\\AppData\\Roaming\\Python\\Python310\\site-packages\\keras\\engine\\training.py\", line 1713, in step_function\n      outputs = model.distribute_strategy.run(run_step, args=(data,))\n    File \"C:\\Users\\sirau\\AppData\\Roaming\\Python\\Python310\\site-packages\\keras\\engine\\training.py\", line 1701, in run_step\n      outputs = model.test_step(data)\n    File \"C:\\Users\\sirau\\AppData\\Roaming\\Python\\Python310\\site-packages\\keras\\engine\\training.py\", line 1665, in test_step\n      y_pred = self(x, training=False)\n    File \"C:\\Users\\sirau\\AppData\\Roaming\\Python\\Python310\\site-packages\\keras\\utils\\traceback_utils.py\", line 65, in error_handler\n      return fn(*args, **kwargs)\n    File \"C:\\Users\\sirau\\AppData\\Roaming\\Python\\Python310\\site-packages\\keras\\engine\\training.py\", line 557, in __call__\n      return super().__call__(*args, **kwargs)\n    File \"C:\\Users\\sirau\\AppData\\Roaming\\Python\\Python310\\site-packages\\keras\\utils\\traceback_utils.py\", line 65, in error_handler\n      return fn(*args, **kwargs)\n    File \"C:\\Users\\sirau\\AppData\\Roaming\\Python\\Python310\\site-packages\\keras\\engine\\base_layer.py\", line 1097, in __call__\n      outputs = call_fn(inputs, *args, **kwargs)\n    File \"C:\\Users\\sirau\\AppData\\Roaming\\Python\\Python310\\site-packages\\keras\\utils\\traceback_utils.py\", line 96, in error_handler\n      return fn(*args, **kwargs)\n    File \"C:\\Users\\sirau\\AppData\\Roaming\\Python\\Python310\\site-packages\\keras\\engine\\sequential.py\", line 410, in call\n      return super().call(inputs, training=training, mask=mask)\n    File \"C:\\Users\\sirau\\AppData\\Roaming\\Python\\Python310\\site-packages\\keras\\engine\\functional.py\", line 510, in call\n      return self._run_internal_graph(inputs, training=training, mask=mask)\n    File \"C:\\Users\\sirau\\AppData\\Roaming\\Python\\Python310\\site-packages\\keras\\engine\\functional.py\", line 667, in _run_internal_graph\n      outputs = node.layer(*args, **kwargs)\n    File \"C:\\Users\\sirau\\AppData\\Roaming\\Python\\Python310\\site-packages\\keras\\layers\\rnn\\base_rnn.py\", line 553, in __call__\n      return super().__call__(inputs, **kwargs)\n    File \"C:\\Users\\sirau\\AppData\\Roaming\\Python\\Python310\\site-packages\\keras\\utils\\traceback_utils.py\", line 65, in error_handler\n      return fn(*args, **kwargs)\n    File \"C:\\Users\\sirau\\AppData\\Roaming\\Python\\Python310\\site-packages\\keras\\engine\\base_layer.py\", line 1097, in __call__\n      outputs = call_fn(inputs, *args, **kwargs)\n    File \"C:\\Users\\sirau\\AppData\\Roaming\\Python\\Python310\\site-packages\\keras\\utils\\traceback_utils.py\", line 96, in error_handler\n      return fn(*args, **kwargs)\n    File \"C:\\Users\\sirau\\AppData\\Roaming\\Python\\Python310\\site-packages\\keras\\layers\\rnn\\lstm.py\", line 625, in call\n      last_output, outputs, states = backend.rnn(\n    File \"C:\\Users\\sirau\\AppData\\Roaming\\Python\\Python310\\site-packages\\keras\\backend.py\", line 4939, in rnn\n      input_ta = tuple(\n    File \"C:\\Users\\sirau\\AppData\\Roaming\\Python\\Python310\\site-packages\\keras\\backend.py\", line 4940, in <genexpr>\n      ta.unstack(input_)\nNode: 'sequential_28/lstm_33/TensorArrayUnstack/TensorListFromTensor'\nSpecified a list with shape [12,13] from a tensor with shape [1,13]\n\t [[{{node sequential_28/lstm_33/TensorArrayUnstack/TensorListFromTensor}}]] [Op:__inference_test_function_153268]",
     "output_type": "error",
     "traceback": [
      "\u001b[1;31m---------------------------------------------------------------------------\u001b[0m",
      "\u001b[1;31mInvalidArgumentError\u001b[0m                      Traceback (most recent call last)",
      "\u001b[1;32mc:\\Users\\sirau\\OneDrive\\Desktop\\datascience\\covid\\data_analysis.ipynb Ячейка 36\u001b[0m in \u001b[0;36m<cell line: 1>\u001b[1;34m()\u001b[0m\n\u001b[1;32m----> <a href='vscode-notebook-cell:/c%3A/Users/sirau/OneDrive/Desktop/datascience/covid/data_analysis.ipynb#X61sZmlsZQ%3D%3D?line=0'>1</a>\u001b[0m model\u001b[39m.\u001b[39;49mevaluate(X_test, y_test, batch_size\u001b[39m=\u001b[39;49m\u001b[39m12\u001b[39;49m)\n",
      "File \u001b[1;32m~\\AppData\\Roaming\\Python\\Python310\\site-packages\\keras\\utils\\traceback_utils.py:70\u001b[0m, in \u001b[0;36mfilter_traceback.<locals>.error_handler\u001b[1;34m(*args, **kwargs)\u001b[0m\n\u001b[0;32m     67\u001b[0m     filtered_tb \u001b[39m=\u001b[39m _process_traceback_frames(e\u001b[39m.\u001b[39m__traceback__)\n\u001b[0;32m     68\u001b[0m     \u001b[39m# To get the full stack trace, call:\u001b[39;00m\n\u001b[0;32m     69\u001b[0m     \u001b[39m# `tf.debugging.disable_traceback_filtering()`\u001b[39;00m\n\u001b[1;32m---> 70\u001b[0m     \u001b[39mraise\u001b[39;00m e\u001b[39m.\u001b[39mwith_traceback(filtered_tb) \u001b[39mfrom\u001b[39;00m \u001b[39mNone\u001b[39m\n\u001b[0;32m     71\u001b[0m \u001b[39mfinally\u001b[39;00m:\n\u001b[0;32m     72\u001b[0m     \u001b[39mdel\u001b[39;00m filtered_tb\n",
      "File \u001b[1;32m~\\AppData\\Roaming\\Python\\Python310\\site-packages\\tensorflow\\python\\eager\\execute.py:54\u001b[0m, in \u001b[0;36mquick_execute\u001b[1;34m(op_name, num_outputs, inputs, attrs, ctx, name)\u001b[0m\n\u001b[0;32m     52\u001b[0m \u001b[39mtry\u001b[39;00m:\n\u001b[0;32m     53\u001b[0m   ctx\u001b[39m.\u001b[39mensure_initialized()\n\u001b[1;32m---> 54\u001b[0m   tensors \u001b[39m=\u001b[39m pywrap_tfe\u001b[39m.\u001b[39mTFE_Py_Execute(ctx\u001b[39m.\u001b[39m_handle, device_name, op_name,\n\u001b[0;32m     55\u001b[0m                                       inputs, attrs, num_outputs)\n\u001b[0;32m     56\u001b[0m \u001b[39mexcept\u001b[39;00m core\u001b[39m.\u001b[39m_NotOkStatusException \u001b[39mas\u001b[39;00m e:\n\u001b[0;32m     57\u001b[0m   \u001b[39mif\u001b[39;00m name \u001b[39mis\u001b[39;00m \u001b[39mnot\u001b[39;00m \u001b[39mNone\u001b[39;00m:\n",
      "\u001b[1;31mInvalidArgumentError\u001b[0m: Graph execution error:\n\nDetected at node 'sequential_28/lstm_33/TensorArrayUnstack/TensorListFromTensor' defined at (most recent call last):\n    File \"c:\\Python310\\lib\\runpy.py\", line 196, in _run_module_as_main\n      return _run_code(code, main_globals, None,\n    File \"c:\\Python310\\lib\\runpy.py\", line 86, in _run_code\n      exec(code, run_globals)\n    File \"C:\\Users\\sirau\\AppData\\Roaming\\Python\\Python310\\site-packages\\ipykernel_launcher.py\", line 17, in <module>\n      app.launch_new_instance()\n    File \"c:\\Python310\\lib\\site-packages\\traitlets\\config\\application.py\", line 976, in launch_instance\n      app.start()\n    File \"C:\\Users\\sirau\\AppData\\Roaming\\Python\\Python310\\site-packages\\ipykernel\\kernelapp.py\", line 712, in start\n      self.io_loop.start()\n    File \"c:\\Python310\\lib\\site-packages\\tornado\\platform\\asyncio.py\", line 215, in start\n      self.asyncio_loop.run_forever()\n    File \"c:\\Python310\\lib\\asyncio\\base_events.py\", line 600, in run_forever\n      self._run_once()\n    File \"c:\\Python310\\lib\\asyncio\\base_events.py\", line 1896, in _run_once\n      handle._run()\n    File \"c:\\Python310\\lib\\asyncio\\events.py\", line 80, in _run\n      self._context.run(self._callback, *self._args)\n    File \"C:\\Users\\sirau\\AppData\\Roaming\\Python\\Python310\\site-packages\\ipykernel\\kernelbase.py\", line 510, in dispatch_queue\n      await self.process_one()\n    File \"C:\\Users\\sirau\\AppData\\Roaming\\Python\\Python310\\site-packages\\ipykernel\\kernelbase.py\", line 499, in process_one\n      await dispatch(*args)\n    File \"C:\\Users\\sirau\\AppData\\Roaming\\Python\\Python310\\site-packages\\ipykernel\\kernelbase.py\", line 406, in dispatch_shell\n      await result\n    File \"C:\\Users\\sirau\\AppData\\Roaming\\Python\\Python310\\site-packages\\ipykernel\\kernelbase.py\", line 730, in execute_request\n      reply_content = await reply_content\n    File \"C:\\Users\\sirau\\AppData\\Roaming\\Python\\Python310\\site-packages\\ipykernel\\ipkernel.py\", line 383, in do_execute\n      res = shell.run_cell(\n    File \"C:\\Users\\sirau\\AppData\\Roaming\\Python\\Python310\\site-packages\\ipykernel\\zmqshell.py\", line 528, in run_cell\n      return super().run_cell(*args, **kwargs)\n    File \"C:\\Users\\sirau\\AppData\\Roaming\\Python\\Python310\\site-packages\\IPython\\core\\interactiveshell.py\", line 2881, in run_cell\n      result = self._run_cell(\n    File \"C:\\Users\\sirau\\AppData\\Roaming\\Python\\Python310\\site-packages\\IPython\\core\\interactiveshell.py\", line 2936, in _run_cell\n      return runner(coro)\n    File \"C:\\Users\\sirau\\AppData\\Roaming\\Python\\Python310\\site-packages\\IPython\\core\\async_helpers.py\", line 129, in _pseudo_sync_runner\n      coro.send(None)\n    File \"C:\\Users\\sirau\\AppData\\Roaming\\Python\\Python310\\site-packages\\IPython\\core\\interactiveshell.py\", line 3135, in run_cell_async\n      has_raised = await self.run_ast_nodes(code_ast.body, cell_name,\n    File \"C:\\Users\\sirau\\AppData\\Roaming\\Python\\Python310\\site-packages\\IPython\\core\\interactiveshell.py\", line 3338, in run_ast_nodes\n      if await self.run_code(code, result, async_=asy):\n    File \"C:\\Users\\sirau\\AppData\\Roaming\\Python\\Python310\\site-packages\\IPython\\core\\interactiveshell.py\", line 3398, in run_code\n      exec(code_obj, self.user_global_ns, self.user_ns)\n    File \"C:\\Users\\sirau\\AppData\\Local\\Temp\\ipykernel_1428\\3899891647.py\", line 1, in <cell line: 1>\n      model.evaluate(X_test, y_test)\n    File \"C:\\Users\\sirau\\AppData\\Roaming\\Python\\Python310\\site-packages\\keras\\utils\\traceback_utils.py\", line 65, in error_handler\n      return fn(*args, **kwargs)\n    File \"C:\\Users\\sirau\\AppData\\Roaming\\Python\\Python310\\site-packages\\keras\\engine\\training.py\", line 1947, in evaluate\n      tmp_logs = self.test_function(iterator)\n    File \"C:\\Users\\sirau\\AppData\\Roaming\\Python\\Python310\\site-packages\\keras\\engine\\training.py\", line 1727, in test_function\n      return step_function(self, iterator)\n    File \"C:\\Users\\sirau\\AppData\\Roaming\\Python\\Python310\\site-packages\\keras\\engine\\training.py\", line 1713, in step_function\n      outputs = model.distribute_strategy.run(run_step, args=(data,))\n    File \"C:\\Users\\sirau\\AppData\\Roaming\\Python\\Python310\\site-packages\\keras\\engine\\training.py\", line 1701, in run_step\n      outputs = model.test_step(data)\n    File \"C:\\Users\\sirau\\AppData\\Roaming\\Python\\Python310\\site-packages\\keras\\engine\\training.py\", line 1665, in test_step\n      y_pred = self(x, training=False)\n    File \"C:\\Users\\sirau\\AppData\\Roaming\\Python\\Python310\\site-packages\\keras\\utils\\traceback_utils.py\", line 65, in error_handler\n      return fn(*args, **kwargs)\n    File \"C:\\Users\\sirau\\AppData\\Roaming\\Python\\Python310\\site-packages\\keras\\engine\\training.py\", line 557, in __call__\n      return super().__call__(*args, **kwargs)\n    File \"C:\\Users\\sirau\\AppData\\Roaming\\Python\\Python310\\site-packages\\keras\\utils\\traceback_utils.py\", line 65, in error_handler\n      return fn(*args, **kwargs)\n    File \"C:\\Users\\sirau\\AppData\\Roaming\\Python\\Python310\\site-packages\\keras\\engine\\base_layer.py\", line 1097, in __call__\n      outputs = call_fn(inputs, *args, **kwargs)\n    File \"C:\\Users\\sirau\\AppData\\Roaming\\Python\\Python310\\site-packages\\keras\\utils\\traceback_utils.py\", line 96, in error_handler\n      return fn(*args, **kwargs)\n    File \"C:\\Users\\sirau\\AppData\\Roaming\\Python\\Python310\\site-packages\\keras\\engine\\sequential.py\", line 410, in call\n      return super().call(inputs, training=training, mask=mask)\n    File \"C:\\Users\\sirau\\AppData\\Roaming\\Python\\Python310\\site-packages\\keras\\engine\\functional.py\", line 510, in call\n      return self._run_internal_graph(inputs, training=training, mask=mask)\n    File \"C:\\Users\\sirau\\AppData\\Roaming\\Python\\Python310\\site-packages\\keras\\engine\\functional.py\", line 667, in _run_internal_graph\n      outputs = node.layer(*args, **kwargs)\n    File \"C:\\Users\\sirau\\AppData\\Roaming\\Python\\Python310\\site-packages\\keras\\layers\\rnn\\base_rnn.py\", line 553, in __call__\n      return super().__call__(inputs, **kwargs)\n    File \"C:\\Users\\sirau\\AppData\\Roaming\\Python\\Python310\\site-packages\\keras\\utils\\traceback_utils.py\", line 65, in error_handler\n      return fn(*args, **kwargs)\n    File \"C:\\Users\\sirau\\AppData\\Roaming\\Python\\Python310\\site-packages\\keras\\engine\\base_layer.py\", line 1097, in __call__\n      outputs = call_fn(inputs, *args, **kwargs)\n    File \"C:\\Users\\sirau\\AppData\\Roaming\\Python\\Python310\\site-packages\\keras\\utils\\traceback_utils.py\", line 96, in error_handler\n      return fn(*args, **kwargs)\n    File \"C:\\Users\\sirau\\AppData\\Roaming\\Python\\Python310\\site-packages\\keras\\layers\\rnn\\lstm.py\", line 625, in call\n      last_output, outputs, states = backend.rnn(\n    File \"C:\\Users\\sirau\\AppData\\Roaming\\Python\\Python310\\site-packages\\keras\\backend.py\", line 4939, in rnn\n      input_ta = tuple(\n    File \"C:\\Users\\sirau\\AppData\\Roaming\\Python\\Python310\\site-packages\\keras\\backend.py\", line 4940, in <genexpr>\n      ta.unstack(input_)\nNode: 'sequential_28/lstm_33/TensorArrayUnstack/TensorListFromTensor'\nSpecified a list with shape [12,13] from a tensor with shape [1,13]\n\t [[{{node sequential_28/lstm_33/TensorArrayUnstack/TensorListFromTensor}}]] [Op:__inference_test_function_153268]"
     ]
    }
   ],
   "source": [
    "model_simple_rnn_13.evaluate(X_test, y_test, batch_size=12)"
   ]
  },
  {
   "cell_type": "code",
   "execution_count": 139,
   "metadata": {},
   "outputs": [
    {
     "name": "stdout",
     "output_type": "stream",
     "text": [
      "1/1 [==============================] - 0s 240ms/step\n",
      "[3.6656002e+01 1.9088869e+00 4.1575275e+01 3.3184763e+03 4.4696564e+02\n",
      " 1.0150840e+01 9.5894318e+00 1.2056466e+00 1.8785353e+02 9.8113209e-02\n",
      " 3.4515724e+00 3.4722778e+02 2.5684128e+02]\n",
      "[[3.65000000e+01 2.61000000e+00 4.15000000e+01 7.88593272e+01\n",
      "  1.80000000e+01 1.56119544e+01 1.04000000e+01 1.60000000e-01\n",
      "  2.72000000e+01 0.00000000e+00 1.00000000e+00 4.61000000e+02\n",
      "  1.19000000e+01]]\n"
     ]
    }
   ],
   "source": [
    "X_test_0 = scal_model.transform(X_test[0])\n",
    "y_pred_0 = model_simple_rnn_13.predict(np.array([X_test_0]*12))\n",
    "y_pred_0_inv = scal_model.inverse_transform(y_pred_0)\n",
    "print(\"Real values\")\n",
    "print(y_pred_0_inv[0])\n",
    "print(\"Predicted values\")\n",
    "print(scal_model.inverse_transform([y_test[0]]))"
   ]
  }
 ],
 "metadata": {
  "kernelspec": {
   "display_name": "Python 3.10.5 64-bit",
   "language": "python",
   "name": "python3"
  },
  "language_info": {
   "codemirror_mode": {
    "name": "ipython",
    "version": 3
   },
   "file_extension": ".py",
   "mimetype": "text/x-python",
   "name": "python",
   "nbconvert_exporter": "python",
   "pygments_lexer": "ipython3",
   "version": "3.10.5"
  },
  "orig_nbformat": 4,
  "vscode": {
   "interpreter": {
    "hash": "369f2c481f4da34e4445cda3fffd2e751bd1c4d706f27375911949ba6bb62e1c"
   }
  }
 },
 "nbformat": 4,
 "nbformat_minor": 2
}
