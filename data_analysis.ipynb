{
 "cells": [
  {
   "cell_type": "markdown",
   "metadata": {},
   "source": [
    "# Данные"
   ]
  },
  {
   "cell_type": "markdown",
   "metadata": {},
   "source": [
    "Данные в файле covid_flow.pkl\n",
    "Данные включают поток пациентов с подтвержденным COVID-19 в ковидные стационары НИМЦ\n",
    "Алмазова, Санкт-Петербург."
   ]
  },
  {
   "cell_type": "markdown",
   "metadata": {},
   "source": [
    "Датасет включает 1992 случая стационарного лечения COVID-19. Данные включают\n",
    "\n",
    "•\n",
    "Многомерные временные ряды, описывающие состояние пациента (интервал неделя)\n",
    "\n",
    "•\n",
    "План лечения (препараты и процедуры) для каждого пациента\n",
    "\n",
    "•\n",
    "Исходы лечения"
   ]
  },
  {
   "cell_type": "markdown",
   "metadata": {},
   "source": [
    "Процесс стационарного лечения включает в себя два подпроцесса – контролирующий и контролируемый. \n",
    "\n",
    "Контролирующий –\n",
    "назначение препаратов и процедур. \n",
    "Контролируемый – процесс изменения состояния пациентов.\n",
    "\n",
    "Процесс лечения\n",
    "включает в себя контролирующий процесс (назначение препарат и процедур) и контролируемый\n",
    "процесс (процесс изменения состояния пациентов)"
   ]
  },
  {
   "cell_type": "markdown",
   "metadata": {},
   "source": [
    "_stat_control – стационарные признаки, которые описывают контролирующий\n",
    "процесс и не меняются (в covid_flow это бинарные признаки включения 1 или\n",
    "невключения 0 препарата в план лечения)\n",
    "\n",
    "_dinam_control – динамические признаки, которые описывают контролирующий\n",
    "процесс и меняются (в covid_flow это бинарные признаки включения 1 или\n",
    "невключения 0 процедуры в план лечения)\n",
    "\n",
    "_stat_fact – стационарные признаки, которые описывают контролируемый процесс\n",
    "и не меняются (в covid_flow это признаки, описывающие пациентов, пол, возраст, и\n",
    "все остальное что не меняется)\n",
    "\n",
    "_dinam_fact – динамические признаки, которые описывают контролирующий\n",
    "процесс и меняются (в covid_flow это признаки описывающие состояние\n",
    "пациентов, например температура, % поражения легких и другое)\n",
    "\n",
    "t_point – индикатор временного интервала. Вся длительность процесса разбита на\n",
    "равные интервалы времени, t_point – метка интервала.\n",
    "\n",
    "end_epizode – индикатор конца процесса, 0 – процесс лечения не окончен в\n",
    "данном t_point, 1 – окончен\n",
    "\n",
    "case (index) – уникальный идентификатор наблюдения (процесса), пример –\n",
    "«GACAk+Q»\n",
    "\n",
    "long_observation_tar – длинна процесса\n",
    "\n",
    "current_process_duration – текущая длинна процесса (на момент t_point)\n",
    "\n",
    "outcome_tar – исход лечения, 1- летальный, 0 – выздоровление."
   ]
  },
  {
   "cell_type": "markdown",
   "metadata": {},
   "source": [
    "# Прогноза значения индикатора пациента\n",
    "Прогноз проходит в следующем периоде по иформации о\n",
    "текущем состоянии и предыдущих состояниях. \n",
    "Таргеты – признаки с префиксами\n",
    "_dinam_fact. \n",
    "Факторы – все признаки кроме тех что с префиксами _tar. \n",
    "\n",
    "1) Для начала нужен литературный обзор существующих методов. \n",
    "2) Далее берешь пару существующих методов, пробуешь применить и переложить на данные. Хочется чтобы были попробованны рекурентные нейронные сети, и AutoML подход Fedot\n",
    ")(https://github.com/nccr-itmo/FEDOT), но в целом ограничений на методы нет. \n",
    "3) На выходе нужен класс, который умеет принимать информацию о прошлых состояниях пациента, и\n",
    "прогнозировать следующее. Читаемость и чистота кода крайне приветствуется. "
   ]
  },
  {
   "cell_type": "code",
   "execution_count": 122,
   "metadata": {},
   "outputs": [],
   "source": [
    "import numpy as np\n",
    "import matplotlib.pyplot as plt\n",
    "import pandas as pd\n",
    "import seaborn as sns\n",
    "import warnings\n",
    "warnings.filterwarnings('ignore')\n",
    "from time import time\n",
    "from scipy import stats\n",
    "from statsmodels.tsa.stattools import adfuller\n",
    "from sklearn import preprocessing\n",
    "from statsmodels.tsa.stattools import pacf\n",
    "%matplotlib inline\n",
    "\n",
    "import math\n",
    "import keras\n",
    "import pickle\n",
    "from keras.models import Sequential\n",
    "from keras.layers import Dense\n",
    "from keras.layers import LSTM\n",
    "from keras.layers import Dropout\n",
    "from keras.layers import *\n",
    "from sklearn.preprocessing import MinMaxScaler\n",
    "from sklearn.metrics import mean_squared_error\n",
    "from sklearn.metrics import mean_absolute_error\n",
    "from sklearn.model_selection import train_test_split\n",
    "from keras.callbacks import EarlyStopping\n",
    "from sklearn.preprocessing import StandardScaler\n",
    "from keras.metrics import RootMeanSquaredError"
   ]
  },
  {
   "cell_type": "code",
   "execution_count": 123,
   "metadata": {},
   "outputs": [
    {
     "data": {
      "text/html": [
       "<div>\n",
       "<style scoped>\n",
       "    .dataframe tbody tr th:only-of-type {\n",
       "        vertical-align: middle;\n",
       "    }\n",
       "\n",
       "    .dataframe tbody tr th {\n",
       "        vertical-align: top;\n",
       "    }\n",
       "\n",
       "    .dataframe thead th {\n",
       "        text-align: right;\n",
       "    }\n",
       "</style>\n",
       "<table border=\"1\" class=\"dataframe\">\n",
       "  <thead>\n",
       "    <tr style=\"text-align: right;\">\n",
       "      <th></th>\n",
       "      <th></th>\n",
       "      <th>омепразол_stat_control</th>\n",
       "      <th>надропарин кальция_stat_control</th>\n",
       "      <th>эзомепразол_stat_control</th>\n",
       "      <th>амлодипин_stat_control</th>\n",
       "      <th>амброксол_stat_control</th>\n",
       "      <th>домперидон_stat_control</th>\n",
       "      <th>меброфенин_stat_control</th>\n",
       "      <th>технеций_stat_control</th>\n",
       "      <th>мометазон_stat_control</th>\n",
       "      <th>бисопролол_stat_control</th>\n",
       "      <th>...</th>\n",
       "      <th>трансфузия_dinam_control</th>\n",
       "      <th>оксигенотерапия_dinam_control</th>\n",
       "      <th>НИВЛ_dinam_control</th>\n",
       "      <th>ИВЛ_dinam_control</th>\n",
       "      <th>long_observation_tar</th>\n",
       "      <th>outcome_tar</th>\n",
       "      <th>process_stages</th>\n",
       "      <th>current_process_duration</th>\n",
       "      <th>admission_date</th>\n",
       "      <th>end_epizode</th>\n",
       "    </tr>\n",
       "    <tr>\n",
       "      <th>case</th>\n",
       "      <th>t_point</th>\n",
       "      <th></th>\n",
       "      <th></th>\n",
       "      <th></th>\n",
       "      <th></th>\n",
       "      <th></th>\n",
       "      <th></th>\n",
       "      <th></th>\n",
       "      <th></th>\n",
       "      <th></th>\n",
       "      <th></th>\n",
       "      <th></th>\n",
       "      <th></th>\n",
       "      <th></th>\n",
       "      <th></th>\n",
       "      <th></th>\n",
       "      <th></th>\n",
       "      <th></th>\n",
       "      <th></th>\n",
       "      <th></th>\n",
       "      <th></th>\n",
       "      <th></th>\n",
       "    </tr>\n",
       "  </thead>\n",
       "  <tbody>\n",
       "    <tr>\n",
       "      <th rowspan=\"4\" valign=\"top\">GACAAcY</th>\n",
       "      <th>0</th>\n",
       "      <td>1</td>\n",
       "      <td>1</td>\n",
       "      <td>1</td>\n",
       "      <td>1</td>\n",
       "      <td>1</td>\n",
       "      <td>1</td>\n",
       "      <td>1</td>\n",
       "      <td>1</td>\n",
       "      <td>1</td>\n",
       "      <td>1</td>\n",
       "      <td>...</td>\n",
       "      <td>0</td>\n",
       "      <td>1</td>\n",
       "      <td>0</td>\n",
       "      <td>0</td>\n",
       "      <td>22</td>\n",
       "      <td>0</td>\n",
       "      <td>2</td>\n",
       "      <td>3</td>\n",
       "      <td>2021-01-29</td>\n",
       "      <td>0</td>\n",
       "    </tr>\n",
       "    <tr>\n",
       "      <th>1</th>\n",
       "      <td>1</td>\n",
       "      <td>1</td>\n",
       "      <td>1</td>\n",
       "      <td>1</td>\n",
       "      <td>1</td>\n",
       "      <td>1</td>\n",
       "      <td>1</td>\n",
       "      <td>1</td>\n",
       "      <td>1</td>\n",
       "      <td>1</td>\n",
       "      <td>...</td>\n",
       "      <td>0</td>\n",
       "      <td>1</td>\n",
       "      <td>0</td>\n",
       "      <td>0</td>\n",
       "      <td>22</td>\n",
       "      <td>0</td>\n",
       "      <td>2</td>\n",
       "      <td>10</td>\n",
       "      <td>2021-01-29</td>\n",
       "      <td>0</td>\n",
       "    </tr>\n",
       "    <tr>\n",
       "      <th>2</th>\n",
       "      <td>1</td>\n",
       "      <td>1</td>\n",
       "      <td>1</td>\n",
       "      <td>1</td>\n",
       "      <td>1</td>\n",
       "      <td>1</td>\n",
       "      <td>1</td>\n",
       "      <td>1</td>\n",
       "      <td>1</td>\n",
       "      <td>1</td>\n",
       "      <td>...</td>\n",
       "      <td>0</td>\n",
       "      <td>1</td>\n",
       "      <td>0</td>\n",
       "      <td>0</td>\n",
       "      <td>22</td>\n",
       "      <td>0</td>\n",
       "      <td>2</td>\n",
       "      <td>17</td>\n",
       "      <td>2021-01-29</td>\n",
       "      <td>0</td>\n",
       "    </tr>\n",
       "    <tr>\n",
       "      <th>3</th>\n",
       "      <td>1</td>\n",
       "      <td>1</td>\n",
       "      <td>1</td>\n",
       "      <td>1</td>\n",
       "      <td>1</td>\n",
       "      <td>1</td>\n",
       "      <td>1</td>\n",
       "      <td>1</td>\n",
       "      <td>1</td>\n",
       "      <td>1</td>\n",
       "      <td>...</td>\n",
       "      <td>0</td>\n",
       "      <td>1</td>\n",
       "      <td>0</td>\n",
       "      <td>0</td>\n",
       "      <td>22</td>\n",
       "      <td>0</td>\n",
       "      <td>2</td>\n",
       "      <td>24</td>\n",
       "      <td>2021-01-29</td>\n",
       "      <td>1</td>\n",
       "    </tr>\n",
       "    <tr>\n",
       "      <th>GACAAnf</th>\n",
       "      <th>0</th>\n",
       "      <td>1</td>\n",
       "      <td>1</td>\n",
       "      <td>1</td>\n",
       "      <td>1</td>\n",
       "      <td>1</td>\n",
       "      <td>1</td>\n",
       "      <td>1</td>\n",
       "      <td>1</td>\n",
       "      <td>1</td>\n",
       "      <td>1</td>\n",
       "      <td>...</td>\n",
       "      <td>0</td>\n",
       "      <td>0</td>\n",
       "      <td>0</td>\n",
       "      <td>0</td>\n",
       "      <td>6</td>\n",
       "      <td>0</td>\n",
       "      <td>1_2</td>\n",
       "      <td>3</td>\n",
       "      <td>2020-06-06</td>\n",
       "      <td>0</td>\n",
       "    </tr>\n",
       "    <tr>\n",
       "      <th>...</th>\n",
       "      <th>...</th>\n",
       "      <td>...</td>\n",
       "      <td>...</td>\n",
       "      <td>...</td>\n",
       "      <td>...</td>\n",
       "      <td>...</td>\n",
       "      <td>...</td>\n",
       "      <td>...</td>\n",
       "      <td>...</td>\n",
       "      <td>...</td>\n",
       "      <td>...</td>\n",
       "      <td>...</td>\n",
       "      <td>...</td>\n",
       "      <td>...</td>\n",
       "      <td>...</td>\n",
       "      <td>...</td>\n",
       "      <td>...</td>\n",
       "      <td>...</td>\n",
       "      <td>...</td>\n",
       "      <td>...</td>\n",
       "      <td>...</td>\n",
       "      <td>...</td>\n",
       "    </tr>\n",
       "    <tr>\n",
       "      <th rowspan=\"2\" valign=\"top\">GACBB;O</th>\n",
       "      <th>0</th>\n",
       "      <td>0</td>\n",
       "      <td>0</td>\n",
       "      <td>0</td>\n",
       "      <td>1</td>\n",
       "      <td>1</td>\n",
       "      <td>0</td>\n",
       "      <td>0</td>\n",
       "      <td>0</td>\n",
       "      <td>0</td>\n",
       "      <td>1</td>\n",
       "      <td>...</td>\n",
       "      <td>0</td>\n",
       "      <td>0</td>\n",
       "      <td>0</td>\n",
       "      <td>0</td>\n",
       "      <td>6</td>\n",
       "      <td>0</td>\n",
       "      <td>2</td>\n",
       "      <td>3</td>\n",
       "      <td>2021-01-04</td>\n",
       "      <td>0</td>\n",
       "    </tr>\n",
       "    <tr>\n",
       "      <th>1</th>\n",
       "      <td>0</td>\n",
       "      <td>0</td>\n",
       "      <td>0</td>\n",
       "      <td>1</td>\n",
       "      <td>1</td>\n",
       "      <td>0</td>\n",
       "      <td>0</td>\n",
       "      <td>0</td>\n",
       "      <td>0</td>\n",
       "      <td>1</td>\n",
       "      <td>...</td>\n",
       "      <td>0</td>\n",
       "      <td>0</td>\n",
       "      <td>0</td>\n",
       "      <td>0</td>\n",
       "      <td>6</td>\n",
       "      <td>0</td>\n",
       "      <td>2</td>\n",
       "      <td>10</td>\n",
       "      <td>2021-01-04</td>\n",
       "      <td>1</td>\n",
       "    </tr>\n",
       "    <tr>\n",
       "      <th rowspan=\"3\" valign=\"top\">GACXAAB</th>\n",
       "      <th>0</th>\n",
       "      <td>1</td>\n",
       "      <td>0</td>\n",
       "      <td>1</td>\n",
       "      <td>1</td>\n",
       "      <td>0</td>\n",
       "      <td>1</td>\n",
       "      <td>1</td>\n",
       "      <td>1</td>\n",
       "      <td>1</td>\n",
       "      <td>1</td>\n",
       "      <td>...</td>\n",
       "      <td>0</td>\n",
       "      <td>0</td>\n",
       "      <td>0</td>\n",
       "      <td>0</td>\n",
       "      <td>16</td>\n",
       "      <td>0</td>\n",
       "      <td>2</td>\n",
       "      <td>3</td>\n",
       "      <td>2021-01-12</td>\n",
       "      <td>0</td>\n",
       "    </tr>\n",
       "    <tr>\n",
       "      <th>1</th>\n",
       "      <td>1</td>\n",
       "      <td>0</td>\n",
       "      <td>1</td>\n",
       "      <td>1</td>\n",
       "      <td>0</td>\n",
       "      <td>1</td>\n",
       "      <td>1</td>\n",
       "      <td>1</td>\n",
       "      <td>1</td>\n",
       "      <td>1</td>\n",
       "      <td>...</td>\n",
       "      <td>0</td>\n",
       "      <td>0</td>\n",
       "      <td>0</td>\n",
       "      <td>0</td>\n",
       "      <td>16</td>\n",
       "      <td>0</td>\n",
       "      <td>2</td>\n",
       "      <td>10</td>\n",
       "      <td>2021-01-12</td>\n",
       "      <td>0</td>\n",
       "    </tr>\n",
       "    <tr>\n",
       "      <th>2</th>\n",
       "      <td>1</td>\n",
       "      <td>0</td>\n",
       "      <td>1</td>\n",
       "      <td>1</td>\n",
       "      <td>0</td>\n",
       "      <td>1</td>\n",
       "      <td>1</td>\n",
       "      <td>1</td>\n",
       "      <td>1</td>\n",
       "      <td>1</td>\n",
       "      <td>...</td>\n",
       "      <td>0</td>\n",
       "      <td>0</td>\n",
       "      <td>0</td>\n",
       "      <td>0</td>\n",
       "      <td>16</td>\n",
       "      <td>0</td>\n",
       "      <td>2</td>\n",
       "      <td>17</td>\n",
       "      <td>2021-01-12</td>\n",
       "      <td>1</td>\n",
       "    </tr>\n",
       "  </tbody>\n",
       "</table>\n",
       "<p>6188 rows × 53 columns</p>\n",
       "</div>"
      ],
      "text/plain": [
       "                 омепразол_stat_control  надропарин кальция_stat_control  \\\n",
       "case    t_point                                                            \n",
       "GACAAcY 0                             1                                1   \n",
       "        1                             1                                1   \n",
       "        2                             1                                1   \n",
       "        3                             1                                1   \n",
       "GACAAnf 0                             1                                1   \n",
       "...                                 ...                              ...   \n",
       "GACBB;O 0                             0                                0   \n",
       "        1                             0                                0   \n",
       "GACXAAB 0                             1                                0   \n",
       "        1                             1                                0   \n",
       "        2                             1                                0   \n",
       "\n",
       "                 эзомепразол_stat_control  амлодипин_stat_control  \\\n",
       "case    t_point                                                     \n",
       "GACAAcY 0                               1                       1   \n",
       "        1                               1                       1   \n",
       "        2                               1                       1   \n",
       "        3                               1                       1   \n",
       "GACAAnf 0                               1                       1   \n",
       "...                                   ...                     ...   \n",
       "GACBB;O 0                               0                       1   \n",
       "        1                               0                       1   \n",
       "GACXAAB 0                               1                       1   \n",
       "        1                               1                       1   \n",
       "        2                               1                       1   \n",
       "\n",
       "                 амброксол_stat_control  домперидон_stat_control  \\\n",
       "case    t_point                                                    \n",
       "GACAAcY 0                             1                        1   \n",
       "        1                             1                        1   \n",
       "        2                             1                        1   \n",
       "        3                             1                        1   \n",
       "GACAAnf 0                             1                        1   \n",
       "...                                 ...                      ...   \n",
       "GACBB;O 0                             1                        0   \n",
       "        1                             1                        0   \n",
       "GACXAAB 0                             0                        1   \n",
       "        1                             0                        1   \n",
       "        2                             0                        1   \n",
       "\n",
       "                 меброфенин_stat_control  технеций_stat_control  \\\n",
       "case    t_point                                                   \n",
       "GACAAcY 0                              1                      1   \n",
       "        1                              1                      1   \n",
       "        2                              1                      1   \n",
       "        3                              1                      1   \n",
       "GACAAnf 0                              1                      1   \n",
       "...                                  ...                    ...   \n",
       "GACBB;O 0                              0                      0   \n",
       "        1                              0                      0   \n",
       "GACXAAB 0                              1                      1   \n",
       "        1                              1                      1   \n",
       "        2                              1                      1   \n",
       "\n",
       "                 мометазон_stat_control  бисопролол_stat_control  ...  \\\n",
       "case    t_point                                                   ...   \n",
       "GACAAcY 0                             1                        1  ...   \n",
       "        1                             1                        1  ...   \n",
       "        2                             1                        1  ...   \n",
       "        3                             1                        1  ...   \n",
       "GACAAnf 0                             1                        1  ...   \n",
       "...                                 ...                      ...  ...   \n",
       "GACBB;O 0                             0                        1  ...   \n",
       "        1                             0                        1  ...   \n",
       "GACXAAB 0                             1                        1  ...   \n",
       "        1                             1                        1  ...   \n",
       "        2                             1                        1  ...   \n",
       "\n",
       "                 трансфузия_dinam_control  оксигенотерапия_dinam_control  \\\n",
       "case    t_point                                                            \n",
       "GACAAcY 0                               0                              1   \n",
       "        1                               0                              1   \n",
       "        2                               0                              1   \n",
       "        3                               0                              1   \n",
       "GACAAnf 0                               0                              0   \n",
       "...                                   ...                            ...   \n",
       "GACBB;O 0                               0                              0   \n",
       "        1                               0                              0   \n",
       "GACXAAB 0                               0                              0   \n",
       "        1                               0                              0   \n",
       "        2                               0                              0   \n",
       "\n",
       "                 НИВЛ_dinam_control  ИВЛ_dinam_control  long_observation_tar  \\\n",
       "case    t_point                                                                \n",
       "GACAAcY 0                         0                  0                    22   \n",
       "        1                         0                  0                    22   \n",
       "        2                         0                  0                    22   \n",
       "        3                         0                  0                    22   \n",
       "GACAAnf 0                         0                  0                     6   \n",
       "...                             ...                ...                   ...   \n",
       "GACBB;O 0                         0                  0                     6   \n",
       "        1                         0                  0                     6   \n",
       "GACXAAB 0                         0                  0                    16   \n",
       "        1                         0                  0                    16   \n",
       "        2                         0                  0                    16   \n",
       "\n",
       "                 outcome_tar  process_stages  current_process_duration  \\\n",
       "case    t_point                                                          \n",
       "GACAAcY 0                  0               2                         3   \n",
       "        1                  0               2                        10   \n",
       "        2                  0               2                        17   \n",
       "        3                  0               2                        24   \n",
       "GACAAnf 0                  0             1_2                         3   \n",
       "...                      ...             ...                       ...   \n",
       "GACBB;O 0                  0               2                         3   \n",
       "        1                  0               2                        10   \n",
       "GACXAAB 0                  0               2                         3   \n",
       "        1                  0               2                        10   \n",
       "        2                  0               2                        17   \n",
       "\n",
       "                 admission_date  end_epizode  \n",
       "case    t_point                               \n",
       "GACAAcY 0            2021-01-29            0  \n",
       "        1            2021-01-29            0  \n",
       "        2            2021-01-29            0  \n",
       "        3            2021-01-29            1  \n",
       "GACAAnf 0            2020-06-06            0  \n",
       "...                         ...          ...  \n",
       "GACBB;O 0            2021-01-04            0  \n",
       "        1            2021-01-04            1  \n",
       "GACXAAB 0            2021-01-12            0  \n",
       "        1            2021-01-12            0  \n",
       "        2            2021-01-12            1  \n",
       "\n",
       "[6188 rows x 53 columns]"
      ]
     },
     "execution_count": 123,
     "metadata": {},
     "output_type": "execute_result"
    }
   ],
   "source": [
    "df = None\n",
    "with open(\"covid_flow.pkl\", \"rb\") as f:\n",
    "    df = pickle.load(f)\n",
    "df[\"case\"] = df.index\n",
    "df[\"t_point\"] = df[\"t_point\"].apply(lambda x: x[2:])\n",
    "df[\"t_point\"] = df[\"t_point\"].apply(lambda x: int(x))\n",
    "df.set_index([\"case\", \"t_point\"], inplace=True)\n",
    "df.sort_index()\n"
   ]
  },
  {
   "cell_type": "markdown",
   "metadata": {},
   "source": [
    "# Check the data"
   ]
  },
  {
   "cell_type": "markdown",
   "metadata": {},
   "source": [
    "Divide dataset to treatment and pynamic parameters"
   ]
  },
  {
   "cell_type": "code",
   "execution_count": 124,
   "metadata": {},
   "outputs": [],
   "source": [
    "stat_fact_df = df.iloc[:,0:29]\n",
    "stat_fact_df = stat_fact_df.sort_values([\"case\", \"t_point\"])"
   ]
  },
  {
   "cell_type": "markdown",
   "metadata": {},
   "source": [
    "But initially check if treatment strategy has been changed? No. But found 22 records with no treatments at all."
   ]
  },
  {
   "cell_type": "code",
   "execution_count": 125,
   "metadata": {},
   "outputs": [
    {
     "data": {
      "text/plain": [
       "[['GACAJуЭ', {0.0}],\n",
       " ['GACAKАF', {0.0}],\n",
       " ['GACALрЫ', {0.0}],\n",
       " ['GACAT&H', {0.0}],\n",
       " ['GACA^МЮ', {0.0}],\n",
       " ['GACAb!2', {0.0}],\n",
       " ['GACAjц>', {0.0}],\n",
       " ['GACAjщ[', {0.0}],\n",
       " ['GACAjюc', {0.0}],\n",
       " ['GACAjяв', {0.0}],\n",
       " [\"GACAk'5\", {0.0}],\n",
       " ['GACAk){', {0.0}],\n",
       " ['GACAk+ц', {0.0}],\n",
       " ['GACAk.3', {0.0}],\n",
       " ['GACAm7g', {0.0}],\n",
       " ['GACAm?о', {0.0}],\n",
       " ['GACAmBц', {0.0}],\n",
       " ['GACAmCх', {0.0}],\n",
       " ['GACAmPф', {0.0}],\n",
       " ['GACAm^и', {0.0}],\n",
       " ['GACAmnW', {0.0}],\n",
       " ['GACAmЩП', {0.0}]]"
      ]
     },
     "execution_count": 125,
     "metadata": {},
     "output_type": "execute_result"
    }
   ],
   "source": [
    "non_typical_treatments = []\n",
    "for i in stat_fact_df.index.levels[0]:\n",
    "    means = stat_fact_df.loc[(i)].mean()\n",
    "    if (set(means.unique()) != set([0,1])):\n",
    "        non_typical_treatments.append([i, set(means.unique())])\n",
    "non_typical_treatments"
   ]
  },
  {
   "cell_type": "markdown",
   "metadata": {},
   "source": [
    "*inof_df* static information about patient and treatment"
   ]
  },
  {
   "cell_type": "code",
   "execution_count": 126,
   "metadata": {},
   "outputs": [
    {
     "data": {
      "text/html": [
       "<div>\n",
       "<style scoped>\n",
       "    .dataframe tbody tr th:only-of-type {\n",
       "        vertical-align: middle;\n",
       "    }\n",
       "\n",
       "    .dataframe tbody tr th {\n",
       "        vertical-align: top;\n",
       "    }\n",
       "\n",
       "    .dataframe thead th {\n",
       "        text-align: right;\n",
       "    }\n",
       "</style>\n",
       "<table border=\"1\" class=\"dataframe\">\n",
       "  <thead>\n",
       "    <tr style=\"text-align: right;\">\n",
       "      <th></th>\n",
       "      <th>age_stat_fact</th>\n",
       "      <th>outcome_tar</th>\n",
       "      <th>long_observation_tar</th>\n",
       "      <th>admission_date</th>\n",
       "      <th>duration_before_start</th>\n",
       "      <th>process_stages</th>\n",
       "      <th>periods_stat_fact</th>\n",
       "    </tr>\n",
       "    <tr>\n",
       "      <th>case</th>\n",
       "      <th></th>\n",
       "      <th></th>\n",
       "      <th></th>\n",
       "      <th></th>\n",
       "      <th></th>\n",
       "      <th></th>\n",
       "      <th></th>\n",
       "    </tr>\n",
       "  </thead>\n",
       "  <tbody>\n",
       "    <tr>\n",
       "      <th>GACAAcY</th>\n",
       "      <td>81</td>\n",
       "      <td>0</td>\n",
       "      <td>22</td>\n",
       "      <td>2021-01-29</td>\n",
       "      <td>3</td>\n",
       "      <td>2</td>\n",
       "      <td>4</td>\n",
       "    </tr>\n",
       "    <tr>\n",
       "      <th>GACAAnf</th>\n",
       "      <td>73</td>\n",
       "      <td>0</td>\n",
       "      <td>6</td>\n",
       "      <td>2020-06-06</td>\n",
       "      <td>3</td>\n",
       "      <td>1_2</td>\n",
       "      <td>2</td>\n",
       "    </tr>\n",
       "    <tr>\n",
       "      <th>GACABsT</th>\n",
       "      <td>59</td>\n",
       "      <td>0</td>\n",
       "      <td>14</td>\n",
       "      <td>2020-12-30</td>\n",
       "      <td>3</td>\n",
       "      <td>2</td>\n",
       "      <td>3</td>\n",
       "    </tr>\n",
       "    <tr>\n",
       "      <th>GACACKP</th>\n",
       "      <td>71</td>\n",
       "      <td>0</td>\n",
       "      <td>15</td>\n",
       "      <td>2021-01-26</td>\n",
       "      <td>3</td>\n",
       "      <td>2</td>\n",
       "      <td>3</td>\n",
       "    </tr>\n",
       "    <tr>\n",
       "      <th>GACADBj</th>\n",
       "      <td>37</td>\n",
       "      <td>0</td>\n",
       "      <td>20</td>\n",
       "      <td>2021-02-19</td>\n",
       "      <td>3</td>\n",
       "      <td>2</td>\n",
       "      <td>4</td>\n",
       "    </tr>\n",
       "    <tr>\n",
       "      <th>...</th>\n",
       "      <td>...</td>\n",
       "      <td>...</td>\n",
       "      <td>...</td>\n",
       "      <td>...</td>\n",
       "      <td>...</td>\n",
       "      <td>...</td>\n",
       "      <td>...</td>\n",
       "    </tr>\n",
       "    <tr>\n",
       "      <th>GACBAхz</th>\n",
       "      <td>25</td>\n",
       "      <td>0</td>\n",
       "      <td>14</td>\n",
       "      <td>2020-12-25</td>\n",
       "      <td>3</td>\n",
       "      <td>2</td>\n",
       "      <td>3</td>\n",
       "    </tr>\n",
       "    <tr>\n",
       "      <th>GACBAщн</th>\n",
       "      <td>37</td>\n",
       "      <td>0</td>\n",
       "      <td>15</td>\n",
       "      <td>2021-01-14</td>\n",
       "      <td>3</td>\n",
       "      <td>2</td>\n",
       "      <td>3</td>\n",
       "    </tr>\n",
       "    <tr>\n",
       "      <th>GACBB-В</th>\n",
       "      <td>70</td>\n",
       "      <td>0</td>\n",
       "      <td>1</td>\n",
       "      <td>2020-12-22</td>\n",
       "      <td>3</td>\n",
       "      <td>2</td>\n",
       "      <td>1</td>\n",
       "    </tr>\n",
       "    <tr>\n",
       "      <th>GACBB;O</th>\n",
       "      <td>62</td>\n",
       "      <td>0</td>\n",
       "      <td>6</td>\n",
       "      <td>2021-01-04</td>\n",
       "      <td>3</td>\n",
       "      <td>2</td>\n",
       "      <td>2</td>\n",
       "    </tr>\n",
       "    <tr>\n",
       "      <th>GACXAAB</th>\n",
       "      <td>71</td>\n",
       "      <td>0</td>\n",
       "      <td>16</td>\n",
       "      <td>2021-01-12</td>\n",
       "      <td>3</td>\n",
       "      <td>2</td>\n",
       "      <td>3</td>\n",
       "    </tr>\n",
       "  </tbody>\n",
       "</table>\n",
       "<p>1992 rows × 7 columns</p>\n",
       "</div>"
      ],
      "text/plain": [
       "         age_stat_fact  outcome_tar  long_observation_tar admission_date  \\\n",
       "case                                                                       \n",
       "GACAAcY             81            0                    22     2021-01-29   \n",
       "GACAAnf             73            0                     6     2020-06-06   \n",
       "GACABsT             59            0                    14     2020-12-30   \n",
       "GACACKP             71            0                    15     2021-01-26   \n",
       "GACADBj             37            0                    20     2021-02-19   \n",
       "...                ...          ...                   ...            ...   \n",
       "GACBAхz             25            0                    14     2020-12-25   \n",
       "GACBAщн             37            0                    15     2021-01-14   \n",
       "GACBB-В             70            0                     1     2020-12-22   \n",
       "GACBB;O             62            0                     6     2021-01-04   \n",
       "GACXAAB             71            0                    16     2021-01-12   \n",
       "\n",
       "         duration_before_start process_stages  periods_stat_fact  \n",
       "case                                                              \n",
       "GACAAcY                      3              2                  4  \n",
       "GACAAnf                      3            1_2                  2  \n",
       "GACABsT                      3              2                  3  \n",
       "GACACKP                      3              2                  3  \n",
       "GACADBj                      3              2                  4  \n",
       "...                        ...            ...                ...  \n",
       "GACBAхz                      3              2                  3  \n",
       "GACBAщн                      3              2                  3  \n",
       "GACBB-В                      3              2                  1  \n",
       "GACBB;O                      3              2                  2  \n",
       "GACXAAB                      3              2                  3  \n",
       "\n",
       "[1992 rows x 7 columns]"
      ]
     },
     "execution_count": 126,
     "metadata": {},
     "output_type": "execute_result"
    }
   ],
   "source": [
    "info_df = pd.DataFrame()\n",
    "info_df[\"age_stat_fact\"] = df[\"age_stat_fact\"]\n",
    "info_df[\"outcome_tar\"] = df[\"outcome_tar\"]\n",
    "info_df[\"long_observation_tar\"] = df[\"long_observation_tar\"]\n",
    "info_df[\"admission_date\"] = df[\"admission_date\"]\n",
    "info_df[\"duration_before_start\"] = df[\"current_process_duration\"]\n",
    "info_df[\"process_stages\"] = df[\"process_stages\"]\n",
    "periods = info_df.groupby(\"case\").count()[\"age_stat_fact\"]\n",
    "info_df = info_df.groupby(\"case\").first()\n",
    "info_df[\"periods_stat_fact\"] = periods\n",
    "info_df"
   ]
  },
  {
   "cell_type": "markdown",
   "metadata": {},
   "source": [
    "dinam_fact_df with dinamic parameters changed during observation. TARGETS!!"
   ]
  },
  {
   "cell_type": "code",
   "execution_count": 127,
   "metadata": {},
   "outputs": [],
   "source": [
    "dinam_fact_df = df.iloc[:,29:42]\n",
    "dinam_fact_df = dinam_fact_df.sort_values([\"case\", \"t_point\"])"
   ]
  },
  {
   "cell_type": "markdown",
   "metadata": {},
   "source": [
    "*dynam_control_df* procedures during observation. Unlike medicine, procedures has been changed during observation, so parameters pedends on time. "
   ]
  },
  {
   "cell_type": "code",
   "execution_count": 128,
   "metadata": {},
   "outputs": [],
   "source": [
    "dinam_control_df = df.iloc[:,43:47]\n",
    "dinam_control_df = dinam_control_df.sort_values([\"case\", \"t_point\"])"
   ]
  },
  {
   "cell_type": "markdown",
   "metadata": {},
   "source": [
    "### EDA"
   ]
  },
  {
   "cell_type": "markdown",
   "metadata": {},
   "source": [
    "Average observation period is 14 days. We can use it in input for LSTM"
   ]
  },
  {
   "cell_type": "code",
   "execution_count": 129,
   "metadata": {},
   "outputs": [
    {
     "data": {
      "text/plain": [
       "'Average observation long is 14'"
      ]
     },
     "metadata": {},
     "output_type": "display_data"
    }
   ],
   "source": [
    "display(f\"Average observation long is {info_df['long_observation_tar'].mode()[0]}\")"
   ]
  },
  {
   "cell_type": "code",
   "execution_count": 130,
   "metadata": {},
   "outputs": [
    {
     "data": {
      "text/plain": [
       "0    1860\n",
       "1     132\n",
       "Name: outcome_tar, dtype: int64"
      ]
     },
     "execution_count": 130,
     "metadata": {},
     "output_type": "execute_result"
    }
   ],
   "source": [
    "info_df[\"outcome_tar\"].value_counts()"
   ]
  },
  {
   "cell_type": "code",
   "execution_count": 131,
   "metadata": {},
   "outputs": [
    {
     "data": {
      "image/png": "[encoded data removed]",
      "text/plain": [
       "<Figure size 432x288 with 1 Axes>"
      ]
     },
     "metadata": {},
     "output_type": "display_data"
    }
   ],
   "source": [
    "plt.pie(info_df[\"outcome_tar\"].value_counts())\n",
    "plt.legend([\"Вылечился\", \"Умер\"])\n",
    "plt.show()"
   ]
  },
  {
   "cell_type": "markdown",
   "metadata": {},
   "source": [
    "### Data preparation"
   ]
  },
  {
   "cell_type": "markdown",
   "metadata": {},
   "source": [
    "Divide observations on train and test parts. We take some part as train period and next as test period. So we have X as (, WINDOW, PARAMS) and y (PARAMS)"
   ]
  },
  {
   "cell_type": "code",
   "execution_count": 132,
   "metadata": {},
   "outputs": [],
   "source": [
    "#module divides on X [[1, 2, 3, 4]] and y [5]\n",
    "WINDOW = 3\n",
    "PARAMS_LENGTH = 13\n",
    "\n",
    "def df_to_X_y(df, window_per):\n",
    "    X = []\n",
    "    y = []\n",
    "    for i in df.index.levels[0]:\n",
    "        i_l = df.loc[(i)].index\n",
    "        if (len(i_l) < window_per+1):\n",
    "            continue\n",
    "        X.append(df.loc[(i, 0):(i, window_per-1)].to_numpy(dtype=\"float64\"))\n",
    "        y.append(df.loc[(i, window_per)].to_numpy(dtype=\"float64\"))\n",
    "    return X, y\n",
    "\n",
    "X, y = df_to_X_y(dinam_fact_df, WINDOW)\n",
    "X_to_sc = np.array(X).reshape(-1, PARAMS_LENGTH)\n",
    "y = np.array(y)"
   ]
  },
  {
   "cell_type": "markdown",
   "metadata": {},
   "source": [
    "Impute NaN values using MICE methods with Linear regression as estimator "
   ]
  },
  {
   "cell_type": "code",
   "execution_count": 133,
   "metadata": {},
   "outputs": [],
   "source": [
    "from sklearn.experimental import enable_iterative_imputer\n",
    "from sklearn.impute import IterativeImputer\n",
    "from sklearn.linear_model import LinearRegression\n",
    "imp = IterativeImputer(estimator=LinearRegression(),\n",
    "     missing_values=np.nan, max_iter=10, imputation_order='roman', random_state=0)\n",
    "X_ex=imp.fit_transform(X_to_sc)\n",
    "y_ex=imp.fit_transform(y)\n"
   ]
  },
  {
   "cell_type": "markdown",
   "metadata": {},
   "source": [
    "Norm data by Standart Scaler and divide and train test parts"
   ]
  },
  {
   "cell_type": "code",
   "execution_count": 134,
   "metadata": {},
   "outputs": [
    {
     "name": "stdout",
     "output_type": "stream",
     "text": [
      "[3.66560030e+01 1.90888692e+00 4.15752746e+01 7.24846030e+01\n",
      " 1.98050345e+01 1.01508401e+01 9.58943163e+00 2.53374527e-01\n",
      " 1.85424094e+01 9.81132075e-02 3.45157233e+00 3.47227775e+02\n",
      " 1.46609349e+01]\n"
     ]
    }
   ],
   "source": [
    "scal_model = StandardScaler().fit(X_ex)\n",
    "print(scal_model.mean_)\n",
    "X_scaled = scal_model.transform(X_ex)\n",
    "y_scaled = scal_model.transform(y_ex)\n",
    "X_scaled_divided = np.array(X_scaled).reshape(-1, WINDOW, PARAMS_LENGTH)\n",
    "y_scaled_divided = np.array(y_scaled).reshape(-1, PARAMS_LENGTH)"
   ]
  },
  {
   "cell_type": "code",
   "execution_count": 135,
   "metadata": {},
   "outputs": [
    {
     "data": {
      "text/plain": [
       "(397, 3, 13)"
      ]
     },
     "execution_count": 135,
     "metadata": {},
     "output_type": "execute_result"
    }
   ],
   "source": [
    "X_train, X_test, y_train, y_test = train_test_split(X_scaled_divided, y_scaled_divided)\n",
    "X_train.shape"
   ]
  },
  {
   "cell_type": "markdown",
   "metadata": {},
   "source": [
    "### Training"
   ]
  },
  {
   "cell_type": "markdown",
   "metadata": {},
   "source": [
    "Start with one layer RNN size 13"
   ]
  },
  {
   "cell_type": "markdown",
   "metadata": {},
   "source": [
    "1. Simple RNN with h size 13"
   ]
  },
  {
   "cell_type": "code",
   "execution_count": 138,
   "metadata": {},
   "outputs": [
    {
     "name": "stdout",
     "output_type": "stream",
     "text": [
      "Model: \"sequential_9\"\n",
      "_________________________________________________________________\n",
      " Layer (type)                Output Shape              Param #   \n",
      "=================================================================\n",
      " simple_rnn_6 (SimpleRNN)    (1, 13)                   351       \n",
      "                                                                 \n",
      "=================================================================\n",
      "Total params: 351\n",
      "Trainable params: 351\n",
      "Non-trainable params: 0\n",
      "_________________________________________________________________\n"
     ]
    }
   ],
   "source": [
    "BATCH_SIZE=1\n",
    "model = Sequential()\n",
    "model.add(Input((None, PARAMS_LENGTH), batch_size=BATCH_SIZE))\n",
    "model.add(SimpleRNN(PARAMS_LENGTH, activation=\"relu\", return_sequences=False))\n",
    "model_simple_rnn_13 = model\n",
    "model_simple_rnn_13.compile(loss=\"mse\", metrics=[RootMeanSquaredError()])\n",
    "model_simple_rnn_13.summary()"
   ]
  },
  {
   "cell_type": "markdown",
   "metadata": {},
   "source": [
    "Lets show learning history for the model"
   ]
  },
  {
   "cell_type": "code",
   "execution_count": 142,
   "metadata": {},
   "outputs": [
    {
     "data": {
      "text/plain": [
       "<matplotlib.legend.Legend at 0x1b7d64f7460>"
      ]
     },
     "execution_count": 142,
     "metadata": {},
     "output_type": "execute_result"
    },
    {
     "data": {
      "image/png": "[encoded data removed]",
      "text/plain": [
       "<Figure size 432x288 with 1 Axes>"
      ]
     },
     "metadata": {
      "needs_background": "light"
     },
     "output_type": "display_data"
    }
   ],
   "source": [
    "history = model_simple_rnn_13.fit(X_train, y_train, epochs=50, validation_split=0.1, batch_size=BATCH_SIZE, shuffle=False, verbose=0)\n",
    "plt.plot(history.history[\"loss\"])\n",
    "plt.plot(history.history[\"val_loss\"])\n",
    "plt.legend([\"loss\", \"val_loss\"])"
   ]
  },
  {
   "cell_type": "code",
   "execution_count": 143,
   "metadata": {},
   "outputs": [
    {
     "name": "stdout",
     "output_type": "stream",
     "text": [
      "133/133 [==============================] - 0s 911us/step - loss: 0.6168 - root_mean_squared_error: 0.7853\n",
      "[0.6167545318603516, 0.7853371500968933]\n",
      "['loss', 'root_mean_squared_error']\n"
     ]
    }
   ],
   "source": [
    "print(model_simple_rnn_13.evaluate(X_test, y_test, batch_size=BATCH_SIZE))\n",
    "print(model_simple_rnn_13.metrics_names)\n"
   ]
  },
  {
   "cell_type": "markdown",
   "metadata": {},
   "source": [
    "Lets show on table what we have predicted:"
   ]
  },
  {
   "cell_type": "code",
   "execution_count": 164,
   "metadata": {},
   "outputs": [
    {
     "name": "stdout",
     "output_type": "stream",
     "text": [
      "1/1 [==============================] - 0s 17ms/step\n",
      "Real values\n"
     ]
    },
    {
     "data": {
      "text/html": [
       "<div>\n",
       "<style scoped>\n",
       "    .dataframe tbody tr th:only-of-type {\n",
       "        vertical-align: middle;\n",
       "    }\n",
       "\n",
       "    .dataframe tbody tr th {\n",
       "        vertical-align: top;\n",
       "    }\n",
       "\n",
       "    .dataframe thead th {\n",
       "        text-align: right;\n",
       "    }\n",
       "</style>\n",
       "<table border=\"1\" class=\"dataframe\">\n",
       "  <thead>\n",
       "    <tr style=\"text-align: right;\">\n",
       "      <th></th>\n",
       "      <th>Температура_dinam_fact</th>\n",
       "      <th>Лимфоциты#_dinam_fact</th>\n",
       "      <th>АСТ_dinam_fact</th>\n",
       "      <th>ЧСС_dinam_fact</th>\n",
       "      <th>ЧДД_dinam_fact</th>\n",
       "      <th>Билирубин общий_dinam_fact</th>\n",
       "      <th>MPV- Средн.объем тромбоцитов_dinam_fact</th>\n",
       "      <th>PCT- Тромбокрит_dinam_fact</th>\n",
       "      <th>Лимфоциты%_dinam_fact</th>\n",
       "      <th>снижение_сознания_dinam_fact</th>\n",
       "      <th>Cтепень тяжести по КТ_dinam_fact</th>\n",
       "      <th>Лактатдегидрогеназа_dinam_fact</th>\n",
       "      <th>PDW- Индекс расп.по объему тр._dinam_fact</th>\n",
       "    </tr>\n",
       "  </thead>\n",
       "  <tbody>\n",
       "    <tr>\n",
       "      <th>predicted</th>\n",
       "      <td>36.52</td>\n",
       "      <td>0.72</td>\n",
       "      <td>19.80</td>\n",
       "      <td>69.00</td>\n",
       "      <td>17.00</td>\n",
       "      <td>8.43</td>\n",
       "      <td>7.30</td>\n",
       "      <td>0.09</td>\n",
       "      <td>10.30</td>\n",
       "      <td>0.0</td>\n",
       "      <td>3.00</td>\n",
       "      <td>308.35</td>\n",
       "      <td>20.10</td>\n",
       "    </tr>\n",
       "    <tr>\n",
       "      <th>real</th>\n",
       "      <td>36.66</td>\n",
       "      <td>1.91</td>\n",
       "      <td>41.58</td>\n",
       "      <td>72.48</td>\n",
       "      <td>19.81</td>\n",
       "      <td>10.15</td>\n",
       "      <td>12.97</td>\n",
       "      <td>0.25</td>\n",
       "      <td>236.73</td>\n",
       "      <td>0.1</td>\n",
       "      <td>6.99</td>\n",
       "      <td>347.23</td>\n",
       "      <td>14.66</td>\n",
       "    </tr>\n",
       "  </tbody>\n",
       "</table>\n",
       "</div>"
      ],
      "text/plain": [
       "           Температура_dinam_fact  Лимфоциты#_dinam_fact  АСТ_dinam_fact  \\\n",
       "predicted                   36.52                   0.72           19.80   \n",
       "real                        36.66                   1.91           41.58   \n",
       "\n",
       "           ЧСС_dinam_fact  ЧДД_dinam_fact  Билирубин общий_dinam_fact  \\\n",
       "predicted           69.00           17.00                        8.43   \n",
       "real                72.48           19.81                       10.15   \n",
       "\n",
       "           MPV- Средн.объем тромбоцитов_dinam_fact  \\\n",
       "predicted                                     7.30   \n",
       "real                                         12.97   \n",
       "\n",
       "           PCT- Тромбокрит_dinam_fact  Лимфоциты%_dinam_fact  \\\n",
       "predicted                        0.09                  10.30   \n",
       "real                             0.25                 236.73   \n",
       "\n",
       "           снижение_сознания_dinam_fact  Cтепень тяжести по КТ_dinam_fact  \\\n",
       "predicted                           0.0                              3.00   \n",
       "real                                0.1                              6.99   \n",
       "\n",
       "           Лактатдегидрогеназа_dinam_fact  \\\n",
       "predicted                          308.35   \n",
       "real                               347.23   \n",
       "\n",
       "           PDW- Индекс расп.по объему тр._dinam_fact  \n",
       "predicted                                      20.10  \n",
       "real                                           14.66  "
      ]
     },
     "execution_count": 164,
     "metadata": {},
     "output_type": "execute_result"
    }
   ],
   "source": [
    "SAMPLE_N = 0\n",
    "X_test_0 = scal_model.transform(X_test[SAMPLE_N])\n",
    "y_pred_0 = model_simple_rnn_13.predict(np.array([X_test_0]*BATCH_SIZE), verbose=0)\n",
    "y_pred_0_inv = scal_model.inverse_transform(y_pred_0)\n",
    "predicted_values = [float(\"{:0.2f}\".format(x)) for x in y_pred_0_inv[SAMPLE_N]]\n",
    "real_values = [float(\"{:0.2f}\".format(x)) for x in scal_model.inverse_transform([y_test[SAMPLE_N]])[0]]\n",
    "df = pd.DataFrame({dinam_fact_df.columns[i]:[real_values[i], predicted_values[i]] for i in range(len(real_values))}, index=[\"predicted\", \"real\"])\n",
    "df"
   ]
  }
 ],
 "metadata": {
  "kernelspec": {
   "display_name": "Python 3.10.5 64-bit",
   "language": "python",
   "name": "python3"
  },
  "language_info": {
   "codemirror_mode": {
    "name": "ipython",
    "version": 3
   },
   "file_extension": ".py",
   "mimetype": "text/x-python",
   "name": "python",
   "nbconvert_exporter": "python",
   "pygments_lexer": "ipython3",
   "version": "3.10.5"
  },
  "orig_nbformat": 4,
  "vscode": {
   "interpreter": {
    "hash": "369f2c481f4da34e4445cda3fffd2e751bd1c4d706f27375911949ba6bb62e1c"
   }
  }
 },
 "nbformat": 4,
 "nbformat_minor": 2
}
