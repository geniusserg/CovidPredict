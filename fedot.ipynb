{
 "cells": [
  {
   "cell_type": "code",
   "execution_count": 2,
   "metadata": {},
   "outputs": [],
   "source": [
    "import os\n",
    "\n",
    "import numpy as np\n",
    "import pandas as pd\n",
    "import pickle \n",
    "\n",
    "from sklearn.experimental import enable_iterative_imputer\n",
    "from sklearn.linear_model import LinearRegression\n",
    "from sklearn.metrics import mean_absolute_error\n",
    "from sklearn.metrics import mean_squared_error\n",
    "from sklearn.metrics import mean_absolute_error\n",
    "from sklearn.preprocessing import StandardScaler, MinMaxScaler\n",
    "from sklearn.impute import IterativeImputer\n",
    "from sklearn.model_selection import train_test_split\n",
    "from sklearn.metrics import r2_score\n",
    "\n",
    "# Plots\n",
    "import matplotlib.pyplot as plt\n",
    "\n",
    "# Prerocessing for FEDOT\n",
    "from fedot.core.data.data import InputData\n",
    "from fedot.core.repository.dataset_types import DataTypesEnum\n",
    "from fedot.api.main import Fedot\n",
    "from fedot.core.repository.tasks import Task, TaskTypesEnum, TsForecastingParams\n",
    "\n",
    "# FEDOT \n",
    "from fedot.core.pipelines.pipeline import Pipeline\n",
    "from fedot.core.pipelines.node import PrimaryNode, SecondaryNode\n",
    "\n",
    "import logging\n",
    "logging.raiseExceptions = False"
   ]
  },
  {
   "cell_type": "markdown",
   "metadata": {
    "collapsed": false
   },
   "source": [
    "Again load data and prepare as for manual stage (see data_analysis.ipynb)"
   ]
  },
  {
   "cell_type": "code",
   "execution_count": 3,
   "metadata": {},
   "outputs": [],
   "source": [
    "df = None\n",
    "with open(\"covid_flow.pkl\", \"rb\") as f:\n",
    "    df = pickle.load(f)\n",
    "df[\"case\"] = df.index\n",
    "df[\"t_point\"] = df[\"t_point\"].apply(lambda x: x[2:])\n",
    "df[\"t_point\"] = df[\"t_point\"].apply(lambda x: int(x))\n",
    "df = df.set_index([\"case\", \"t_point\"])\n",
    "df = df.sort_values([\"case\", \"t_point\"])"
   ]
  },
  {
   "cell_type": "code",
   "execution_count": 4,
   "metadata": {},
   "outputs": [
    {
     "name": "stdout",
     "output_type": "stream",
     "text": [
      "Test train shapes: (3356, 1, 47) (840, 1, 47)\n"
     ]
    }
   ],
   "source": [
    "def prepare_data_with_dynamic_window(df_input, window=1, test_size=0.2):\n",
    "    X, y = [], []\n",
    "    df = df_input.copy()\n",
    "    df_grouped = df.groupby([\"case\"]).size()\n",
    "    df_idx = df_grouped[df_grouped>=window+1].index\n",
    "    scal_model = MinMaxScaler()\n",
    "    df_scaled = scal_model.fit_transform(df.iloc[:, 29:43])\n",
    "    df.iloc[:, 29:43] = df_scaled\n",
    "    for i in df_idx:\n",
    "        for j in range(len(df.loc[(i)])-window):\n",
    "            wind = df.loc[(i, j): (i, j+window-1)]\n",
    "            X.append(wind.iloc[:, :47])\n",
    "            y.append(df.loc[(i, j+window)].iloc[29:42])\n",
    "    X, y = np.array(X, dtype=np.float32), np.array(y, dtype=np.float32)\n",
    "    X_train, X_test, y_train, y_test = train_test_split(X, y, test_size=test_size)\n",
    "    return (X_train, y_train), (X_test, y_test)\n",
    "\n",
    "(X_train, y_train), (X_test, y_test) = prepare_data_with_dynamic_window(df, window=1)\n",
    "print(\"Test train shapes:\", X_train.shape,\n",
    "X_test.shape)\n",
    "X_train = X_train.reshape(-1, 47)\n",
    "X_test = X_test.reshape(-1, 47)"
   ]
  },
  {
   "cell_type": "markdown",
   "metadata": {},
   "source": [
    "Firstly we will try to predict one window "
   ]
  },
  {
   "cell_type": "code",
   "execution_count": null,
   "metadata": {},
   "outputs": [],
   "source": [
    "scores = []"
   ]
  },
  {
   "cell_type": "code",
   "execution_count": 20,
   "metadata": {
    "collapsed": false
   },
   "outputs": [
    {
     "name": "stdout",
     "output_type": "stream",
     "text": [
      "2022-12-03 02:07:29,733 - ApiComposer - Initial pipeline was fitted in 1.6 sec.\n",
      "2022-12-03 02:07:29,738 - ApiComposer - AutoML configured. Parameters tuning: True Time limit: 30 min Set of candidate models: ['adareg', 'dtreg', 'gbr', 'knnreg', 'lasso', 'lgbmreg', 'linear', 'rfr', 'ridge', 'sgdr', 'svr', 'treg', 'scaling', 'normalization', 'pca', 'fast_ica', 'poly_features', 'ransac_lin_reg', 'ransac_non_lin_reg', 'isolation_forest_reg']\n",
      "2022-12-03 02:07:29,752 - ApiComposer - Pipeline composition started.\n"
     ]
    },
    {
     "name": "stderr",
     "output_type": "stream",
     "text": [
      "Generations:   0%|          | 1/10000 [00:00<?, ?gen/s]"
     ]
    }
   ],
   "source": [
    "models = {}\n",
    "scores = {}\n",
    "dinam_fact_columns = df.columns[29:42]\n",
    "for param_idx, param_name in enumerate(dinam_fact_columns):\n",
    "    model = Fedot(problem='regression', timeout=30, n_jobs=-1)\n",
    "    obtained_pipeline = model.fit(features=X_train, target=y_train[:, param_idx])\n",
    "    models[param_name] = (model, obtained_pipeline)\n",
    "    obtained_pipeline.save(f\"models/fedot/fedot_regress_one_window_param_{param_idx}.json\")\n",
    "    y_pred = models[param_name][0].predict(X_test)\n",
    "    mask = ~np.isnan(y_test[:, param_idx])\n",
    "    y_check = y_test[mask, param_idx]\n",
    "    y_pred = y_pred[mask]\n",
    "    r2_res = r2_score(y_check, y_pred, multioutput=\"raw_values\")\n",
    "    mse = mean_squared_error(y_check, y_pred)\n",
    "    scores[param_name] = [r2_res[0], mse]\n",
    "    print(f\"SAVED {param_name}\")\n",
    "    \n"
   ]
  },
  {
   "cell_type": "markdown",
   "metadata": {},
   "source": [
    "Here we will evaluate our model"
   ]
  },
  {
   "cell_type": "code",
   "execution_count": null,
   "metadata": {},
   "outputs": [],
   "source": [
    "models"
   ]
  },
  {
   "cell_type": "code",
   "execution_count": null,
   "metadata": {},
   "outputs": [],
   "source": [
    "scores"
   ]
  }
 ],
 "metadata": {
  "kernelspec": {
   "display_name": "Python 3.10.5 64-bit",
   "language": "python",
   "name": "python3"
  },
  "language_info": {
   "codemirror_mode": {
    "name": "ipython",
    "version": 3
   },
   "file_extension": ".py",
   "mimetype": "text/x-python",
   "name": "python",
   "nbconvert_exporter": "python",
   "pygments_lexer": "ipython3",
   "version": "3.10.5"
  },
  "orig_nbformat": 4,
  "vscode": {
   "interpreter": {
    "hash": "369f2c481f4da34e4445cda3fffd2e751bd1c4d706f27375911949ba6bb62e1c"
   }
  }
 },
 "nbformat": 4,
 "nbformat_minor": 2
}
