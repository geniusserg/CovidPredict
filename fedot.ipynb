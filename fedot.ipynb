{
 "cells": [
  {
   "cell_type": "code",
   "execution_count": 5,
   "id": "4208bacb-ddf2-4a46-a01d-8382d7f06507",
   "metadata": {
    "pycharm": {
     "is_executing": true
    },
    "tags": []
   },
   "outputs": [],
   "source": [
    "import os\n",
    "\n",
    "import numpy as np\n",
    "import pandas as pd\n",
    "import pickle \n",
    "from tqdm import tqdm\n",
    "\n",
    "from sklearn.experimental import enable_iterative_imputer\n",
    "from sklearn.linear_model import LinearRegression\n",
    "from sklearn.metrics import mean_squared_error, mean_absolute_error, r2_score, mean_absolute_percentage_error\n",
    "from sklearn.preprocessing import StandardScaler, MinMaxScaler\n",
    "from sklearn.impute import IterativeImputer\n",
    "from sklearn.model_selection import train_test_split, KFold\n",
    "from sklearn.metrics import r2_score\n",
    "\n",
    "#keras\n",
    "from keras.models import Sequential\n",
    "from keras.layers import Dense, LSTM, SimpleRNN, GRU, Input, Flatten, concatenate\n",
    "from keras import Model\n",
    "from keras.metrics import RootMeanSquaredError\n",
    "\n",
    "\n",
    "# Plots\n",
    "import matplotlib.pyplot as plt\n",
    "\n",
    "# Prerocessing for FEDOT\n",
    "from fedot.core.data.data import InputData\n",
    "from fedot.core.repository.dataset_types import DataTypesEnum\n",
    "from fedot.api.main import Fedot\n",
    "from fedot.core.repository.tasks import Task, TaskTypesEnum\n",
    "# FEDOT \n",
    "from fedot.core.pipelines.pipeline import Pipeline\n",
    "\n",
    "import logging\n",
    "logging.raiseExceptions = False\n",
    "import datetime\n",
    "\n",
    "pd.set_option('display.max_rows', 50)\n",
    "pd.set_option('display.max_columns', None)"
   ]
  },
  {
   "cell_type": "markdown",
   "id": "4f75f35e-774d-4c1a-95f8-8b440d002e82",
   "metadata": {
    "tags": []
   },
   "source": [
    "## Dataset general preparation"
   ]
  },
  {
   "cell_type": "code",
   "execution_count": 6,
   "id": "6f88469d-67a2-417a-9e17-150eb5b75958",
   "metadata": {
    "tags": []
   },
   "outputs": [
    {
     "data": {
      "text/html": [
       "<div>\n",
       "<style scoped>\n",
       "    .dataframe tbody tr th:only-of-type {\n",
       "        vertical-align: middle;\n",
       "    }\n",
       "\n",
       "    .dataframe tbody tr th {\n",
       "        vertical-align: top;\n",
       "    }\n",
       "\n",
       "    .dataframe thead th {\n",
       "        text-align: right;\n",
       "    }\n",
       "</style>\n",
       "<table border=\"1\" class=\"dataframe\">\n",
       "  <thead>\n",
       "    <tr style=\"text-align: right;\">\n",
       "      <th></th>\n",
       "      <th></th>\n",
       "      <th>омепразол_stat_control</th>\n",
       "      <th>надропарин кальция_stat_control</th>\n",
       "      <th>эзомепразол_stat_control</th>\n",
       "      <th>амлодипин_stat_control</th>\n",
       "      <th>амброксол_stat_control</th>\n",
       "      <th>домперидон_stat_control</th>\n",
       "      <th>меброфенин_stat_control</th>\n",
       "      <th>технеций_stat_control</th>\n",
       "      <th>мометазон_stat_control</th>\n",
       "      <th>бисопролол_stat_control</th>\n",
       "      <th>дексаметазон_stat_control</th>\n",
       "      <th>гидрохлоротиазид_stat_control</th>\n",
       "      <th>гидроксихлорохин_stat_control</th>\n",
       "      <th>рабепразол_stat_control</th>\n",
       "      <th>эноксапарин натрия_stat_control</th>\n",
       "      <th>периндоприл_stat_control</th>\n",
       "      <th>ацетилцистеин_stat_control</th>\n",
       "      <th>азитромицин_stat_control</th>\n",
       "      <th>валсартан_stat_control</th>\n",
       "      <th>метилпреднизолон_stat_control</th>\n",
       "      <th>лоратадин_stat_control</th>\n",
       "      <th>хлорохин_stat_control</th>\n",
       "      <th>натрия хлорид_stat_control</th>\n",
       "      <th>индапамид_stat_control</th>\n",
       "      <th>преднизолон_stat_control</th>\n",
       "      <th>аторвастатин_stat_control</th>\n",
       "      <th>декстран_stat_control</th>\n",
       "      <th>лизиноприл_stat_control</th>\n",
       "      <th>лозартан_stat_control</th>\n",
       "      <th>Температура_dinam_fact</th>\n",
       "      <th>Лимфоциты#_dinam_fact</th>\n",
       "      <th>АСТ_dinam_fact</th>\n",
       "      <th>ЧСС_dinam_fact</th>\n",
       "      <th>ЧДД_dinam_fact</th>\n",
       "      <th>Билирубин общий_dinam_fact</th>\n",
       "      <th>MPV- Средн.объем тромбоцитов_dinam_fact</th>\n",
       "      <th>PCT- Тромбокрит_dinam_fact</th>\n",
       "      <th>Лимфоциты%_dinam_fact</th>\n",
       "      <th>снижение_сознания_dinam_fact</th>\n",
       "      <th>Cтепень тяжести по КТ_dinam_fact</th>\n",
       "      <th>Лактатдегидрогеназа_dinam_fact</th>\n",
       "      <th>PDW- Индекс расп.по объему тр._dinam_fact</th>\n",
       "      <th>age_stat_fact</th>\n",
       "      <th>трансфузия_dinam_control</th>\n",
       "      <th>оксигенотерапия_dinam_control</th>\n",
       "      <th>НИВЛ_dinam_control</th>\n",
       "      <th>ИВЛ_dinam_control</th>\n",
       "      <th>long_observation_tar</th>\n",
       "      <th>outcome_tar</th>\n",
       "      <th>process_stages</th>\n",
       "      <th>current_process_duration</th>\n",
       "      <th>admission_date</th>\n",
       "      <th>end_epizode</th>\n",
       "    </tr>\n",
       "    <tr>\n",
       "      <th>case</th>\n",
       "      <th>t_point</th>\n",
       "      <th></th>\n",
       "      <th></th>\n",
       "      <th></th>\n",
       "      <th></th>\n",
       "      <th></th>\n",
       "      <th></th>\n",
       "      <th></th>\n",
       "      <th></th>\n",
       "      <th></th>\n",
       "      <th></th>\n",
       "      <th></th>\n",
       "      <th></th>\n",
       "      <th></th>\n",
       "      <th></th>\n",
       "      <th></th>\n",
       "      <th></th>\n",
       "      <th></th>\n",
       "      <th></th>\n",
       "      <th></th>\n",
       "      <th></th>\n",
       "      <th></th>\n",
       "      <th></th>\n",
       "      <th></th>\n",
       "      <th></th>\n",
       "      <th></th>\n",
       "      <th></th>\n",
       "      <th></th>\n",
       "      <th></th>\n",
       "      <th></th>\n",
       "      <th></th>\n",
       "      <th></th>\n",
       "      <th></th>\n",
       "      <th></th>\n",
       "      <th></th>\n",
       "      <th></th>\n",
       "      <th></th>\n",
       "      <th></th>\n",
       "      <th></th>\n",
       "      <th></th>\n",
       "      <th></th>\n",
       "      <th></th>\n",
       "      <th></th>\n",
       "      <th></th>\n",
       "      <th></th>\n",
       "      <th></th>\n",
       "      <th></th>\n",
       "      <th></th>\n",
       "      <th></th>\n",
       "      <th></th>\n",
       "      <th></th>\n",
       "      <th></th>\n",
       "      <th></th>\n",
       "      <th></th>\n",
       "    </tr>\n",
       "  </thead>\n",
       "  <tbody>\n",
       "    <tr>\n",
       "      <th rowspan=\"4\" valign=\"top\">GACAAcY</th>\n",
       "      <th>0</th>\n",
       "      <td>1</td>\n",
       "      <td>1</td>\n",
       "      <td>1</td>\n",
       "      <td>1</td>\n",
       "      <td>1</td>\n",
       "      <td>1</td>\n",
       "      <td>1</td>\n",
       "      <td>1</td>\n",
       "      <td>1</td>\n",
       "      <td>1</td>\n",
       "      <td>1</td>\n",
       "      <td>1</td>\n",
       "      <td>0</td>\n",
       "      <td>0</td>\n",
       "      <td>0</td>\n",
       "      <td>0</td>\n",
       "      <td>0</td>\n",
       "      <td>0</td>\n",
       "      <td>0</td>\n",
       "      <td>1</td>\n",
       "      <td>0</td>\n",
       "      <td>0</td>\n",
       "      <td>0</td>\n",
       "      <td>0</td>\n",
       "      <td>1</td>\n",
       "      <td>0</td>\n",
       "      <td>0</td>\n",
       "      <td>0</td>\n",
       "      <td>1</td>\n",
       "      <td>36.7</td>\n",
       "      <td>1.93</td>\n",
       "      <td>27.90</td>\n",
       "      <td>74.0</td>\n",
       "      <td>24.0</td>\n",
       "      <td>15.30</td>\n",
       "      <td>11.2</td>\n",
       "      <td>0.100</td>\n",
       "      <td>48.3</td>\n",
       "      <td>0</td>\n",
       "      <td>2</td>\n",
       "      <td>245.0</td>\n",
       "      <td>14.0</td>\n",
       "      <td>81</td>\n",
       "      <td>0</td>\n",
       "      <td>1</td>\n",
       "      <td>0</td>\n",
       "      <td>0</td>\n",
       "      <td>22</td>\n",
       "      <td>0</td>\n",
       "      <td>2</td>\n",
       "      <td>3</td>\n",
       "      <td>2021-01-29</td>\n",
       "      <td>0</td>\n",
       "    </tr>\n",
       "    <tr>\n",
       "      <th>1</th>\n",
       "      <td>1</td>\n",
       "      <td>1</td>\n",
       "      <td>1</td>\n",
       "      <td>1</td>\n",
       "      <td>1</td>\n",
       "      <td>1</td>\n",
       "      <td>1</td>\n",
       "      <td>1</td>\n",
       "      <td>1</td>\n",
       "      <td>1</td>\n",
       "      <td>1</td>\n",
       "      <td>1</td>\n",
       "      <td>0</td>\n",
       "      <td>0</td>\n",
       "      <td>0</td>\n",
       "      <td>0</td>\n",
       "      <td>0</td>\n",
       "      <td>0</td>\n",
       "      <td>0</td>\n",
       "      <td>1</td>\n",
       "      <td>0</td>\n",
       "      <td>0</td>\n",
       "      <td>0</td>\n",
       "      <td>0</td>\n",
       "      <td>1</td>\n",
       "      <td>0</td>\n",
       "      <td>0</td>\n",
       "      <td>0</td>\n",
       "      <td>1</td>\n",
       "      <td>36.3</td>\n",
       "      <td>2.00</td>\n",
       "      <td>25.70</td>\n",
       "      <td>71.0</td>\n",
       "      <td>19.0</td>\n",
       "      <td>12.10</td>\n",
       "      <td>10.6</td>\n",
       "      <td>0.160</td>\n",
       "      <td>30.7</td>\n",
       "      <td>0</td>\n",
       "      <td>2</td>\n",
       "      <td>315.0</td>\n",
       "      <td>12.8</td>\n",
       "      <td>81</td>\n",
       "      <td>0</td>\n",
       "      <td>1</td>\n",
       "      <td>0</td>\n",
       "      <td>0</td>\n",
       "      <td>22</td>\n",
       "      <td>0</td>\n",
       "      <td>2</td>\n",
       "      <td>10</td>\n",
       "      <td>2021-01-29</td>\n",
       "      <td>0</td>\n",
       "    </tr>\n",
       "    <tr>\n",
       "      <th>2</th>\n",
       "      <td>1</td>\n",
       "      <td>1</td>\n",
       "      <td>1</td>\n",
       "      <td>1</td>\n",
       "      <td>1</td>\n",
       "      <td>1</td>\n",
       "      <td>1</td>\n",
       "      <td>1</td>\n",
       "      <td>1</td>\n",
       "      <td>1</td>\n",
       "      <td>1</td>\n",
       "      <td>1</td>\n",
       "      <td>0</td>\n",
       "      <td>0</td>\n",
       "      <td>0</td>\n",
       "      <td>0</td>\n",
       "      <td>0</td>\n",
       "      <td>0</td>\n",
       "      <td>0</td>\n",
       "      <td>1</td>\n",
       "      <td>0</td>\n",
       "      <td>0</td>\n",
       "      <td>0</td>\n",
       "      <td>0</td>\n",
       "      <td>1</td>\n",
       "      <td>0</td>\n",
       "      <td>0</td>\n",
       "      <td>0</td>\n",
       "      <td>1</td>\n",
       "      <td>36.6</td>\n",
       "      <td>2.13</td>\n",
       "      <td>32.00</td>\n",
       "      <td>NaN</td>\n",
       "      <td>18.0</td>\n",
       "      <td>NaN</td>\n",
       "      <td>11.0</td>\n",
       "      <td>0.190</td>\n",
       "      <td>23.1</td>\n",
       "      <td>0</td>\n",
       "      <td>5</td>\n",
       "      <td>290.0</td>\n",
       "      <td>13.5</td>\n",
       "      <td>81</td>\n",
       "      <td>0</td>\n",
       "      <td>1</td>\n",
       "      <td>0</td>\n",
       "      <td>0</td>\n",
       "      <td>22</td>\n",
       "      <td>0</td>\n",
       "      <td>2</td>\n",
       "      <td>17</td>\n",
       "      <td>2021-01-29</td>\n",
       "      <td>0</td>\n",
       "    </tr>\n",
       "    <tr>\n",
       "      <th>3</th>\n",
       "      <td>1</td>\n",
       "      <td>1</td>\n",
       "      <td>1</td>\n",
       "      <td>1</td>\n",
       "      <td>1</td>\n",
       "      <td>1</td>\n",
       "      <td>1</td>\n",
       "      <td>1</td>\n",
       "      <td>1</td>\n",
       "      <td>1</td>\n",
       "      <td>1</td>\n",
       "      <td>1</td>\n",
       "      <td>0</td>\n",
       "      <td>0</td>\n",
       "      <td>0</td>\n",
       "      <td>0</td>\n",
       "      <td>0</td>\n",
       "      <td>0</td>\n",
       "      <td>0</td>\n",
       "      <td>1</td>\n",
       "      <td>0</td>\n",
       "      <td>0</td>\n",
       "      <td>0</td>\n",
       "      <td>0</td>\n",
       "      <td>1</td>\n",
       "      <td>0</td>\n",
       "      <td>0</td>\n",
       "      <td>0</td>\n",
       "      <td>1</td>\n",
       "      <td>36.5</td>\n",
       "      <td>2.12</td>\n",
       "      <td>27.00</td>\n",
       "      <td>71.0</td>\n",
       "      <td>18.0</td>\n",
       "      <td>NaN</td>\n",
       "      <td>11.4</td>\n",
       "      <td>0.100</td>\n",
       "      <td>24.1</td>\n",
       "      <td>0</td>\n",
       "      <td>5</td>\n",
       "      <td>274.0</td>\n",
       "      <td>13.1</td>\n",
       "      <td>81</td>\n",
       "      <td>0</td>\n",
       "      <td>1</td>\n",
       "      <td>0</td>\n",
       "      <td>0</td>\n",
       "      <td>22</td>\n",
       "      <td>0</td>\n",
       "      <td>2</td>\n",
       "      <td>24</td>\n",
       "      <td>2021-01-29</td>\n",
       "      <td>1</td>\n",
       "    </tr>\n",
       "    <tr>\n",
       "      <th>GACAAnf</th>\n",
       "      <th>0</th>\n",
       "      <td>1</td>\n",
       "      <td>1</td>\n",
       "      <td>1</td>\n",
       "      <td>1</td>\n",
       "      <td>1</td>\n",
       "      <td>1</td>\n",
       "      <td>1</td>\n",
       "      <td>1</td>\n",
       "      <td>1</td>\n",
       "      <td>1</td>\n",
       "      <td>0</td>\n",
       "      <td>1</td>\n",
       "      <td>1</td>\n",
       "      <td>0</td>\n",
       "      <td>0</td>\n",
       "      <td>0</td>\n",
       "      <td>0</td>\n",
       "      <td>1</td>\n",
       "      <td>0</td>\n",
       "      <td>0</td>\n",
       "      <td>0</td>\n",
       "      <td>1</td>\n",
       "      <td>0</td>\n",
       "      <td>0</td>\n",
       "      <td>0</td>\n",
       "      <td>0</td>\n",
       "      <td>0</td>\n",
       "      <td>0</td>\n",
       "      <td>0</td>\n",
       "      <td>NaN</td>\n",
       "      <td>1.21</td>\n",
       "      <td>20.70</td>\n",
       "      <td>55.0</td>\n",
       "      <td>22.0</td>\n",
       "      <td>7.80</td>\n",
       "      <td>8.1</td>\n",
       "      <td>0.201</td>\n",
       "      <td>24.1</td>\n",
       "      <td>0</td>\n",
       "      <td>1</td>\n",
       "      <td>189.0</td>\n",
       "      <td>17.7</td>\n",
       "      <td>73</td>\n",
       "      <td>0</td>\n",
       "      <td>0</td>\n",
       "      <td>0</td>\n",
       "      <td>0</td>\n",
       "      <td>6</td>\n",
       "      <td>0</td>\n",
       "      <td>1_2</td>\n",
       "      <td>3</td>\n",
       "      <td>2020-06-06</td>\n",
       "      <td>0</td>\n",
       "    </tr>\n",
       "    <tr>\n",
       "      <th>...</th>\n",
       "      <th>...</th>\n",
       "      <td>...</td>\n",
       "      <td>...</td>\n",
       "      <td>...</td>\n",
       "      <td>...</td>\n",
       "      <td>...</td>\n",
       "      <td>...</td>\n",
       "      <td>...</td>\n",
       "      <td>...</td>\n",
       "      <td>...</td>\n",
       "      <td>...</td>\n",
       "      <td>...</td>\n",
       "      <td>...</td>\n",
       "      <td>...</td>\n",
       "      <td>...</td>\n",
       "      <td>...</td>\n",
       "      <td>...</td>\n",
       "      <td>...</td>\n",
       "      <td>...</td>\n",
       "      <td>...</td>\n",
       "      <td>...</td>\n",
       "      <td>...</td>\n",
       "      <td>...</td>\n",
       "      <td>...</td>\n",
       "      <td>...</td>\n",
       "      <td>...</td>\n",
       "      <td>...</td>\n",
       "      <td>...</td>\n",
       "      <td>...</td>\n",
       "      <td>...</td>\n",
       "      <td>...</td>\n",
       "      <td>...</td>\n",
       "      <td>...</td>\n",
       "      <td>...</td>\n",
       "      <td>...</td>\n",
       "      <td>...</td>\n",
       "      <td>...</td>\n",
       "      <td>...</td>\n",
       "      <td>...</td>\n",
       "      <td>...</td>\n",
       "      <td>...</td>\n",
       "      <td>...</td>\n",
       "      <td>...</td>\n",
       "      <td>...</td>\n",
       "      <td>...</td>\n",
       "      <td>...</td>\n",
       "      <td>...</td>\n",
       "      <td>...</td>\n",
       "      <td>...</td>\n",
       "      <td>...</td>\n",
       "      <td>...</td>\n",
       "      <td>...</td>\n",
       "      <td>...</td>\n",
       "      <td>...</td>\n",
       "    </tr>\n",
       "    <tr>\n",
       "      <th rowspan=\"2\" valign=\"top\">GACBB;O</th>\n",
       "      <th>0</th>\n",
       "      <td>0</td>\n",
       "      <td>0</td>\n",
       "      <td>0</td>\n",
       "      <td>1</td>\n",
       "      <td>1</td>\n",
       "      <td>0</td>\n",
       "      <td>0</td>\n",
       "      <td>0</td>\n",
       "      <td>0</td>\n",
       "      <td>1</td>\n",
       "      <td>0</td>\n",
       "      <td>1</td>\n",
       "      <td>0</td>\n",
       "      <td>1</td>\n",
       "      <td>0</td>\n",
       "      <td>0</td>\n",
       "      <td>0</td>\n",
       "      <td>0</td>\n",
       "      <td>0</td>\n",
       "      <td>0</td>\n",
       "      <td>0</td>\n",
       "      <td>0</td>\n",
       "      <td>0</td>\n",
       "      <td>0</td>\n",
       "      <td>0</td>\n",
       "      <td>0</td>\n",
       "      <td>0</td>\n",
       "      <td>0</td>\n",
       "      <td>0</td>\n",
       "      <td>36.9</td>\n",
       "      <td>1.22</td>\n",
       "      <td>22.34</td>\n",
       "      <td>54.0</td>\n",
       "      <td>18.0</td>\n",
       "      <td>1.43</td>\n",
       "      <td>7.0</td>\n",
       "      <td>0.134</td>\n",
       "      <td>33.0</td>\n",
       "      <td>0</td>\n",
       "      <td>1</td>\n",
       "      <td>267.9</td>\n",
       "      <td>14.8</td>\n",
       "      <td>62</td>\n",
       "      <td>0</td>\n",
       "      <td>0</td>\n",
       "      <td>0</td>\n",
       "      <td>0</td>\n",
       "      <td>6</td>\n",
       "      <td>0</td>\n",
       "      <td>2</td>\n",
       "      <td>3</td>\n",
       "      <td>2021-01-04</td>\n",
       "      <td>0</td>\n",
       "    </tr>\n",
       "    <tr>\n",
       "      <th>1</th>\n",
       "      <td>0</td>\n",
       "      <td>0</td>\n",
       "      <td>0</td>\n",
       "      <td>1</td>\n",
       "      <td>1</td>\n",
       "      <td>0</td>\n",
       "      <td>0</td>\n",
       "      <td>0</td>\n",
       "      <td>0</td>\n",
       "      <td>1</td>\n",
       "      <td>0</td>\n",
       "      <td>1</td>\n",
       "      <td>0</td>\n",
       "      <td>1</td>\n",
       "      <td>0</td>\n",
       "      <td>0</td>\n",
       "      <td>0</td>\n",
       "      <td>0</td>\n",
       "      <td>0</td>\n",
       "      <td>0</td>\n",
       "      <td>0</td>\n",
       "      <td>0</td>\n",
       "      <td>0</td>\n",
       "      <td>0</td>\n",
       "      <td>0</td>\n",
       "      <td>0</td>\n",
       "      <td>0</td>\n",
       "      <td>0</td>\n",
       "      <td>0</td>\n",
       "      <td>36.5</td>\n",
       "      <td>1.65</td>\n",
       "      <td>244.03</td>\n",
       "      <td>NaN</td>\n",
       "      <td>17.0</td>\n",
       "      <td>3.78</td>\n",
       "      <td>7.2</td>\n",
       "      <td>0.210</td>\n",
       "      <td>41.2</td>\n",
       "      <td>0</td>\n",
       "      <td>5</td>\n",
       "      <td>NaN</td>\n",
       "      <td>13.4</td>\n",
       "      <td>62</td>\n",
       "      <td>0</td>\n",
       "      <td>0</td>\n",
       "      <td>0</td>\n",
       "      <td>0</td>\n",
       "      <td>6</td>\n",
       "      <td>0</td>\n",
       "      <td>2</td>\n",
       "      <td>10</td>\n",
       "      <td>2021-01-04</td>\n",
       "      <td>1</td>\n",
       "    </tr>\n",
       "    <tr>\n",
       "      <th rowspan=\"3\" valign=\"top\">GACXAAB</th>\n",
       "      <th>0</th>\n",
       "      <td>1</td>\n",
       "      <td>0</td>\n",
       "      <td>1</td>\n",
       "      <td>1</td>\n",
       "      <td>0</td>\n",
       "      <td>1</td>\n",
       "      <td>1</td>\n",
       "      <td>1</td>\n",
       "      <td>1</td>\n",
       "      <td>1</td>\n",
       "      <td>0</td>\n",
       "      <td>0</td>\n",
       "      <td>0</td>\n",
       "      <td>1</td>\n",
       "      <td>0</td>\n",
       "      <td>0</td>\n",
       "      <td>1</td>\n",
       "      <td>0</td>\n",
       "      <td>0</td>\n",
       "      <td>0</td>\n",
       "      <td>0</td>\n",
       "      <td>0</td>\n",
       "      <td>0</td>\n",
       "      <td>0</td>\n",
       "      <td>0</td>\n",
       "      <td>1</td>\n",
       "      <td>0</td>\n",
       "      <td>0</td>\n",
       "      <td>1</td>\n",
       "      <td>36.5</td>\n",
       "      <td>1.11</td>\n",
       "      <td>21.80</td>\n",
       "      <td>NaN</td>\n",
       "      <td>NaN</td>\n",
       "      <td>4.50</td>\n",
       "      <td>10.6</td>\n",
       "      <td>0.200</td>\n",
       "      <td>18.8</td>\n",
       "      <td>0</td>\n",
       "      <td>1</td>\n",
       "      <td>219.0</td>\n",
       "      <td>11.7</td>\n",
       "      <td>71</td>\n",
       "      <td>0</td>\n",
       "      <td>0</td>\n",
       "      <td>0</td>\n",
       "      <td>0</td>\n",
       "      <td>16</td>\n",
       "      <td>0</td>\n",
       "      <td>2</td>\n",
       "      <td>3</td>\n",
       "      <td>2021-01-12</td>\n",
       "      <td>0</td>\n",
       "    </tr>\n",
       "    <tr>\n",
       "      <th>1</th>\n",
       "      <td>1</td>\n",
       "      <td>0</td>\n",
       "      <td>1</td>\n",
       "      <td>1</td>\n",
       "      <td>0</td>\n",
       "      <td>1</td>\n",
       "      <td>1</td>\n",
       "      <td>1</td>\n",
       "      <td>1</td>\n",
       "      <td>1</td>\n",
       "      <td>0</td>\n",
       "      <td>0</td>\n",
       "      <td>0</td>\n",
       "      <td>1</td>\n",
       "      <td>0</td>\n",
       "      <td>0</td>\n",
       "      <td>1</td>\n",
       "      <td>0</td>\n",
       "      <td>0</td>\n",
       "      <td>0</td>\n",
       "      <td>0</td>\n",
       "      <td>0</td>\n",
       "      <td>0</td>\n",
       "      <td>0</td>\n",
       "      <td>0</td>\n",
       "      <td>1</td>\n",
       "      <td>0</td>\n",
       "      <td>0</td>\n",
       "      <td>1</td>\n",
       "      <td>36.9</td>\n",
       "      <td>1.60</td>\n",
       "      <td>60.80</td>\n",
       "      <td>75.0</td>\n",
       "      <td>16.0</td>\n",
       "      <td>1.10</td>\n",
       "      <td>10.8</td>\n",
       "      <td>0.270</td>\n",
       "      <td>12.9</td>\n",
       "      <td>0</td>\n",
       "      <td>5</td>\n",
       "      <td>335.0</td>\n",
       "      <td>13.4</td>\n",
       "      <td>71</td>\n",
       "      <td>0</td>\n",
       "      <td>0</td>\n",
       "      <td>0</td>\n",
       "      <td>0</td>\n",
       "      <td>16</td>\n",
       "      <td>0</td>\n",
       "      <td>2</td>\n",
       "      <td>10</td>\n",
       "      <td>2021-01-12</td>\n",
       "      <td>0</td>\n",
       "    </tr>\n",
       "    <tr>\n",
       "      <th>2</th>\n",
       "      <td>1</td>\n",
       "      <td>0</td>\n",
       "      <td>1</td>\n",
       "      <td>1</td>\n",
       "      <td>0</td>\n",
       "      <td>1</td>\n",
       "      <td>1</td>\n",
       "      <td>1</td>\n",
       "      <td>1</td>\n",
       "      <td>1</td>\n",
       "      <td>0</td>\n",
       "      <td>0</td>\n",
       "      <td>0</td>\n",
       "      <td>1</td>\n",
       "      <td>0</td>\n",
       "      <td>0</td>\n",
       "      <td>1</td>\n",
       "      <td>0</td>\n",
       "      <td>0</td>\n",
       "      <td>0</td>\n",
       "      <td>0</td>\n",
       "      <td>0</td>\n",
       "      <td>0</td>\n",
       "      <td>0</td>\n",
       "      <td>0</td>\n",
       "      <td>1</td>\n",
       "      <td>0</td>\n",
       "      <td>0</td>\n",
       "      <td>1</td>\n",
       "      <td>36.6</td>\n",
       "      <td>3.45</td>\n",
       "      <td>17.20</td>\n",
       "      <td>NaN</td>\n",
       "      <td>15.0</td>\n",
       "      <td>9.30</td>\n",
       "      <td>10.0</td>\n",
       "      <td>0.280</td>\n",
       "      <td>23.0</td>\n",
       "      <td>0</td>\n",
       "      <td>5</td>\n",
       "      <td>279.0</td>\n",
       "      <td>11.6</td>\n",
       "      <td>71</td>\n",
       "      <td>0</td>\n",
       "      <td>0</td>\n",
       "      <td>0</td>\n",
       "      <td>0</td>\n",
       "      <td>16</td>\n",
       "      <td>0</td>\n",
       "      <td>2</td>\n",
       "      <td>17</td>\n",
       "      <td>2021-01-12</td>\n",
       "      <td>1</td>\n",
       "    </tr>\n",
       "  </tbody>\n",
       "</table>\n",
       "<p>6188 rows × 53 columns</p>\n",
       "</div>"
      ],
      "text/plain": [
       "                 омепразол_stat_control  надропарин кальция_stat_control  \\\n",
       "case    t_point                                                            \n",
       "GACAAcY 0                             1                                1   \n",
       "        1                             1                                1   \n",
       "        2                             1                                1   \n",
       "        3                             1                                1   \n",
       "GACAAnf 0                             1                                1   \n",
       "...                                 ...                              ...   \n",
       "GACBB;O 0                             0                                0   \n",
       "        1                             0                                0   \n",
       "GACXAAB 0                             1                                0   \n",
       "        1                             1                                0   \n",
       "        2                             1                                0   \n",
       "\n",
       "                 эзомепразол_stat_control  амлодипин_stat_control  \\\n",
       "case    t_point                                                     \n",
       "GACAAcY 0                               1                       1   \n",
       "        1                               1                       1   \n",
       "        2                               1                       1   \n",
       "        3                               1                       1   \n",
       "GACAAnf 0                               1                       1   \n",
       "...                                   ...                     ...   \n",
       "GACBB;O 0                               0                       1   \n",
       "        1                               0                       1   \n",
       "GACXAAB 0                               1                       1   \n",
       "        1                               1                       1   \n",
       "        2                               1                       1   \n",
       "\n",
       "                 амброксол_stat_control  домперидон_stat_control  \\\n",
       "case    t_point                                                    \n",
       "GACAAcY 0                             1                        1   \n",
       "        1                             1                        1   \n",
       "        2                             1                        1   \n",
       "        3                             1                        1   \n",
       "GACAAnf 0                             1                        1   \n",
       "...                                 ...                      ...   \n",
       "GACBB;O 0                             1                        0   \n",
       "        1                             1                        0   \n",
       "GACXAAB 0                             0                        1   \n",
       "        1                             0                        1   \n",
       "        2                             0                        1   \n",
       "\n",
       "                 меброфенин_stat_control  технеций_stat_control  \\\n",
       "case    t_point                                                   \n",
       "GACAAcY 0                              1                      1   \n",
       "        1                              1                      1   \n",
       "        2                              1                      1   \n",
       "        3                              1                      1   \n",
       "GACAAnf 0                              1                      1   \n",
       "...                                  ...                    ...   \n",
       "GACBB;O 0                              0                      0   \n",
       "        1                              0                      0   \n",
       "GACXAAB 0                              1                      1   \n",
       "        1                              1                      1   \n",
       "        2                              1                      1   \n",
       "\n",
       "                 мометазон_stat_control  бисопролол_stat_control  \\\n",
       "case    t_point                                                    \n",
       "GACAAcY 0                             1                        1   \n",
       "        1                             1                        1   \n",
       "        2                             1                        1   \n",
       "        3                             1                        1   \n",
       "GACAAnf 0                             1                        1   \n",
       "...                                 ...                      ...   \n",
       "GACBB;O 0                             0                        1   \n",
       "        1                             0                        1   \n",
       "GACXAAB 0                             1                        1   \n",
       "        1                             1                        1   \n",
       "        2                             1                        1   \n",
       "\n",
       "                 дексаметазон_stat_control  гидрохлоротиазид_stat_control  \\\n",
       "case    t_point                                                             \n",
       "GACAAcY 0                                1                              1   \n",
       "        1                                1                              1   \n",
       "        2                                1                              1   \n",
       "        3                                1                              1   \n",
       "GACAAnf 0                                0                              1   \n",
       "...                                    ...                            ...   \n",
       "GACBB;O 0                                0                              1   \n",
       "        1                                0                              1   \n",
       "GACXAAB 0                                0                              0   \n",
       "        1                                0                              0   \n",
       "        2                                0                              0   \n",
       "\n",
       "                 гидроксихлорохин_stat_control  рабепразол_stat_control  \\\n",
       "case    t_point                                                           \n",
       "GACAAcY 0                                    0                        0   \n",
       "        1                                    0                        0   \n",
       "        2                                    0                        0   \n",
       "        3                                    0                        0   \n",
       "GACAAnf 0                                    1                        0   \n",
       "...                                        ...                      ...   \n",
       "GACBB;O 0                                    0                        1   \n",
       "        1                                    0                        1   \n",
       "GACXAAB 0                                    0                        1   \n",
       "        1                                    0                        1   \n",
       "        2                                    0                        1   \n",
       "\n",
       "                 эноксапарин натрия_stat_control  периндоприл_stat_control  \\\n",
       "case    t_point                                                              \n",
       "GACAAcY 0                                      0                         0   \n",
       "        1                                      0                         0   \n",
       "        2                                      0                         0   \n",
       "        3                                      0                         0   \n",
       "GACAAnf 0                                      0                         0   \n",
       "...                                          ...                       ...   \n",
       "GACBB;O 0                                      0                         0   \n",
       "        1                                      0                         0   \n",
       "GACXAAB 0                                      0                         0   \n",
       "        1                                      0                         0   \n",
       "        2                                      0                         0   \n",
       "\n",
       "                 ацетилцистеин_stat_control  азитромицин_stat_control  \\\n",
       "case    t_point                                                         \n",
       "GACAAcY 0                                 0                         0   \n",
       "        1                                 0                         0   \n",
       "        2                                 0                         0   \n",
       "        3                                 0                         0   \n",
       "GACAAnf 0                                 0                         1   \n",
       "...                                     ...                       ...   \n",
       "GACBB;O 0                                 0                         0   \n",
       "        1                                 0                         0   \n",
       "GACXAAB 0                                 1                         0   \n",
       "        1                                 1                         0   \n",
       "        2                                 1                         0   \n",
       "\n",
       "                 валсартан_stat_control  метилпреднизолон_stat_control  \\\n",
       "case    t_point                                                          \n",
       "GACAAcY 0                             0                              1   \n",
       "        1                             0                              1   \n",
       "        2                             0                              1   \n",
       "        3                             0                              1   \n",
       "GACAAnf 0                             0                              0   \n",
       "...                                 ...                            ...   \n",
       "GACBB;O 0                             0                              0   \n",
       "        1                             0                              0   \n",
       "GACXAAB 0                             0                              0   \n",
       "        1                             0                              0   \n",
       "        2                             0                              0   \n",
       "\n",
       "                 лоратадин_stat_control  хлорохин_stat_control  \\\n",
       "case    t_point                                                  \n",
       "GACAAcY 0                             0                      0   \n",
       "        1                             0                      0   \n",
       "        2                             0                      0   \n",
       "        3                             0                      0   \n",
       "GACAAnf 0                             0                      1   \n",
       "...                                 ...                    ...   \n",
       "GACBB;O 0                             0                      0   \n",
       "        1                             0                      0   \n",
       "GACXAAB 0                             0                      0   \n",
       "        1                             0                      0   \n",
       "        2                             0                      0   \n",
       "\n",
       "                 натрия хлорид_stat_control  индапамид_stat_control  \\\n",
       "case    t_point                                                       \n",
       "GACAAcY 0                                 0                       0   \n",
       "        1                                 0                       0   \n",
       "        2                                 0                       0   \n",
       "        3                                 0                       0   \n",
       "GACAAnf 0                                 0                       0   \n",
       "...                                     ...                     ...   \n",
       "GACBB;O 0                                 0                       0   \n",
       "        1                                 0                       0   \n",
       "GACXAAB 0                                 0                       0   \n",
       "        1                                 0                       0   \n",
       "        2                                 0                       0   \n",
       "\n",
       "                 преднизолон_stat_control  аторвастатин_stat_control  \\\n",
       "case    t_point                                                        \n",
       "GACAAcY 0                               1                          0   \n",
       "        1                               1                          0   \n",
       "        2                               1                          0   \n",
       "        3                               1                          0   \n",
       "GACAAnf 0                               0                          0   \n",
       "...                                   ...                        ...   \n",
       "GACBB;O 0                               0                          0   \n",
       "        1                               0                          0   \n",
       "GACXAAB 0                               0                          1   \n",
       "        1                               0                          1   \n",
       "        2                               0                          1   \n",
       "\n",
       "                 декстран_stat_control  лизиноприл_stat_control  \\\n",
       "case    t_point                                                   \n",
       "GACAAcY 0                            0                        0   \n",
       "        1                            0                        0   \n",
       "        2                            0                        0   \n",
       "        3                            0                        0   \n",
       "GACAAnf 0                            0                        0   \n",
       "...                                ...                      ...   \n",
       "GACBB;O 0                            0                        0   \n",
       "        1                            0                        0   \n",
       "GACXAAB 0                            0                        0   \n",
       "        1                            0                        0   \n",
       "        2                            0                        0   \n",
       "\n",
       "                 лозартан_stat_control  Температура_dinam_fact  \\\n",
       "case    t_point                                                  \n",
       "GACAAcY 0                            1                    36.7   \n",
       "        1                            1                    36.3   \n",
       "        2                            1                    36.6   \n",
       "        3                            1                    36.5   \n",
       "GACAAnf 0                            0                     NaN   \n",
       "...                                ...                     ...   \n",
       "GACBB;O 0                            0                    36.9   \n",
       "        1                            0                    36.5   \n",
       "GACXAAB 0                            1                    36.5   \n",
       "        1                            1                    36.9   \n",
       "        2                            1                    36.6   \n",
       "\n",
       "                 Лимфоциты#_dinam_fact  АСТ_dinam_fact  ЧСС_dinam_fact  \\\n",
       "case    t_point                                                          \n",
       "GACAAcY 0                         1.93           27.90            74.0   \n",
       "        1                         2.00           25.70            71.0   \n",
       "        2                         2.13           32.00             NaN   \n",
       "        3                         2.12           27.00            71.0   \n",
       "GACAAnf 0                         1.21           20.70            55.0   \n",
       "...                                ...             ...             ...   \n",
       "GACBB;O 0                         1.22           22.34            54.0   \n",
       "        1                         1.65          244.03             NaN   \n",
       "GACXAAB 0                         1.11           21.80             NaN   \n",
       "        1                         1.60           60.80            75.0   \n",
       "        2                         3.45           17.20             NaN   \n",
       "\n",
       "                 ЧДД_dinam_fact  Билирубин общий_dinam_fact  \\\n",
       "case    t_point                                               \n",
       "GACAAcY 0                  24.0                       15.30   \n",
       "        1                  19.0                       12.10   \n",
       "        2                  18.0                         NaN   \n",
       "        3                  18.0                         NaN   \n",
       "GACAAnf 0                  22.0                        7.80   \n",
       "...                         ...                         ...   \n",
       "GACBB;O 0                  18.0                        1.43   \n",
       "        1                  17.0                        3.78   \n",
       "GACXAAB 0                   NaN                        4.50   \n",
       "        1                  16.0                        1.10   \n",
       "        2                  15.0                        9.30   \n",
       "\n",
       "                 MPV- Средн.объем тромбоцитов_dinam_fact  \\\n",
       "case    t_point                                            \n",
       "GACAAcY 0                                           11.2   \n",
       "        1                                           10.6   \n",
       "        2                                           11.0   \n",
       "        3                                           11.4   \n",
       "GACAAnf 0                                            8.1   \n",
       "...                                                  ...   \n",
       "GACBB;O 0                                            7.0   \n",
       "        1                                            7.2   \n",
       "GACXAAB 0                                           10.6   \n",
       "        1                                           10.8   \n",
       "        2                                           10.0   \n",
       "\n",
       "                 PCT- Тромбокрит_dinam_fact  Лимфоциты%_dinam_fact  \\\n",
       "case    t_point                                                      \n",
       "GACAAcY 0                             0.100                   48.3   \n",
       "        1                             0.160                   30.7   \n",
       "        2                             0.190                   23.1   \n",
       "        3                             0.100                   24.1   \n",
       "GACAAnf 0                             0.201                   24.1   \n",
       "...                                     ...                    ...   \n",
       "GACBB;O 0                             0.134                   33.0   \n",
       "        1                             0.210                   41.2   \n",
       "GACXAAB 0                             0.200                   18.8   \n",
       "        1                             0.270                   12.9   \n",
       "        2                             0.280                   23.0   \n",
       "\n",
       "                 снижение_сознания_dinam_fact  \\\n",
       "case    t_point                                 \n",
       "GACAAcY 0                                   0   \n",
       "        1                                   0   \n",
       "        2                                   0   \n",
       "        3                                   0   \n",
       "GACAAnf 0                                   0   \n",
       "...                                       ...   \n",
       "GACBB;O 0                                   0   \n",
       "        1                                   0   \n",
       "GACXAAB 0                                   0   \n",
       "        1                                   0   \n",
       "        2                                   0   \n",
       "\n",
       "                 Cтепень тяжести по КТ_dinam_fact  \\\n",
       "case    t_point                                     \n",
       "GACAAcY 0                                       2   \n",
       "        1                                       2   \n",
       "        2                                       5   \n",
       "        3                                       5   \n",
       "GACAAnf 0                                       1   \n",
       "...                                           ...   \n",
       "GACBB;O 0                                       1   \n",
       "        1                                       5   \n",
       "GACXAAB 0                                       1   \n",
       "        1                                       5   \n",
       "        2                                       5   \n",
       "\n",
       "                 Лактатдегидрогеназа_dinam_fact  \\\n",
       "case    t_point                                   \n",
       "GACAAcY 0                                 245.0   \n",
       "        1                                 315.0   \n",
       "        2                                 290.0   \n",
       "        3                                 274.0   \n",
       "GACAAnf 0                                 189.0   \n",
       "...                                         ...   \n",
       "GACBB;O 0                                 267.9   \n",
       "        1                                   NaN   \n",
       "GACXAAB 0                                 219.0   \n",
       "        1                                 335.0   \n",
       "        2                                 279.0   \n",
       "\n",
       "                 PDW- Индекс расп.по объему тр._dinam_fact  age_stat_fact  \\\n",
       "case    t_point                                                             \n",
       "GACAAcY 0                                             14.0             81   \n",
       "        1                                             12.8             81   \n",
       "        2                                             13.5             81   \n",
       "        3                                             13.1             81   \n",
       "GACAAnf 0                                             17.7             73   \n",
       "...                                                    ...            ...   \n",
       "GACBB;O 0                                             14.8             62   \n",
       "        1                                             13.4             62   \n",
       "GACXAAB 0                                             11.7             71   \n",
       "        1                                             13.4             71   \n",
       "        2                                             11.6             71   \n",
       "\n",
       "                 трансфузия_dinam_control  оксигенотерапия_dinam_control  \\\n",
       "case    t_point                                                            \n",
       "GACAAcY 0                               0                              1   \n",
       "        1                               0                              1   \n",
       "        2                               0                              1   \n",
       "        3                               0                              1   \n",
       "GACAAnf 0                               0                              0   \n",
       "...                                   ...                            ...   \n",
       "GACBB;O 0                               0                              0   \n",
       "        1                               0                              0   \n",
       "GACXAAB 0                               0                              0   \n",
       "        1                               0                              0   \n",
       "        2                               0                              0   \n",
       "\n",
       "                 НИВЛ_dinam_control  ИВЛ_dinam_control  long_observation_tar  \\\n",
       "case    t_point                                                                \n",
       "GACAAcY 0                         0                  0                    22   \n",
       "        1                         0                  0                    22   \n",
       "        2                         0                  0                    22   \n",
       "        3                         0                  0                    22   \n",
       "GACAAnf 0                         0                  0                     6   \n",
       "...                             ...                ...                   ...   \n",
       "GACBB;O 0                         0                  0                     6   \n",
       "        1                         0                  0                     6   \n",
       "GACXAAB 0                         0                  0                    16   \n",
       "        1                         0                  0                    16   \n",
       "        2                         0                  0                    16   \n",
       "\n",
       "                 outcome_tar process_stages  current_process_duration  \\\n",
       "case    t_point                                                         \n",
       "GACAAcY 0                  0              2                         3   \n",
       "        1                  0              2                        10   \n",
       "        2                  0              2                        17   \n",
       "        3                  0              2                        24   \n",
       "GACAAnf 0                  0            1_2                         3   \n",
       "...                      ...            ...                       ...   \n",
       "GACBB;O 0                  0              2                         3   \n",
       "        1                  0              2                        10   \n",
       "GACXAAB 0                  0              2                         3   \n",
       "        1                  0              2                        10   \n",
       "        2                  0              2                        17   \n",
       "\n",
       "                admission_date  end_epizode  \n",
       "case    t_point                              \n",
       "GACAAcY 0           2021-01-29            0  \n",
       "        1           2021-01-29            0  \n",
       "        2           2021-01-29            0  \n",
       "        3           2021-01-29            1  \n",
       "GACAAnf 0           2020-06-06            0  \n",
       "...                        ...          ...  \n",
       "GACBB;O 0           2021-01-04            0  \n",
       "        1           2021-01-04            1  \n",
       "GACXAAB 0           2021-01-12            0  \n",
       "        1           2021-01-12            0  \n",
       "        2           2021-01-12            1  \n",
       "\n",
       "[6188 rows x 53 columns]"
      ]
     },
     "execution_count": 6,
     "metadata": {},
     "output_type": "execute_result"
    }
   ],
   "source": [
    "df = None\n",
    "with open(\"covid_flow.pkl\", \"rb\") as f:\n",
    "    df = pickle.load(f)\n",
    "df[\"case\"] = df.index\n",
    "df[\"t_point\"] = df[\"t_point\"].apply(lambda x: x[2:])\n",
    "df[\"t_point\"] = df[\"t_point\"].apply(lambda x: int(x))\n",
    "df = df.set_index([\"case\", \"t_point\"])\n",
    "df = df.sort_values([\"case\", \"t_point\"])\n",
    "dynamic_idx = list(range(29, 42))\n",
    "dynamic_columns = list(df.columns[dynamic_idx])\n",
    "df.loc[:, dynamic_columns]\n",
    "full_df = df.copy()\n",
    "full_df"
   ]
  },
  {
   "cell_type": "markdown",
   "id": "c490bea2-b8d7-494a-b2fd-03674e52b114",
   "metadata": {
    "tags": []
   },
   "source": [
    "Exclude columns, which give information about how long the treatment was performed and about result"
   ]
  },
  {
   "cell_type": "code",
   "execution_count": 7,
   "id": "1891457a-6ca1-48bd-b272-a0d6d01294ac",
   "metadata": {
    "tags": []
   },
   "outputs": [],
   "source": [
    "df = df.drop([\"end_epizode\", \"admission_date\", \"current_process_duration\", \"process_stages\", \"outcome_tar\", \"long_observation_tar\"], axis=1)"
   ]
  },
  {
   "cell_type": "code",
   "execution_count": 8,
   "id": "6cc081f6-e1ad-4613-aa24-500b8ea6a7e8",
   "metadata": {
    "tags": []
   },
   "outputs": [
    {
     "data": {
      "text/html": [
       "<div>\n",
       "<style scoped>\n",
       "    .dataframe tbody tr th:only-of-type {\n",
       "        vertical-align: middle;\n",
       "    }\n",
       "\n",
       "    .dataframe tbody tr th {\n",
       "        vertical-align: top;\n",
       "    }\n",
       "\n",
       "    .dataframe thead th {\n",
       "        text-align: right;\n",
       "    }\n",
       "</style>\n",
       "<table border=\"1\" class=\"dataframe\">\n",
       "  <thead>\n",
       "    <tr style=\"text-align: right;\">\n",
       "      <th></th>\n",
       "      <th>омепразол_stat_control</th>\n",
       "      <th>надропарин кальция_stat_control</th>\n",
       "      <th>эзомепразол_stat_control</th>\n",
       "      <th>амлодипин_stat_control</th>\n",
       "      <th>амброксол_stat_control</th>\n",
       "      <th>домперидон_stat_control</th>\n",
       "      <th>меброфенин_stat_control</th>\n",
       "      <th>технеций_stat_control</th>\n",
       "      <th>мометазон_stat_control</th>\n",
       "      <th>бисопролол_stat_control</th>\n",
       "      <th>дексаметазон_stat_control</th>\n",
       "      <th>гидрохлоротиазид_stat_control</th>\n",
       "      <th>гидроксихлорохин_stat_control</th>\n",
       "      <th>рабепразол_stat_control</th>\n",
       "      <th>эноксапарин натрия_stat_control</th>\n",
       "      <th>периндоприл_stat_control</th>\n",
       "      <th>ацетилцистеин_stat_control</th>\n",
       "      <th>азитромицин_stat_control</th>\n",
       "      <th>валсартан_stat_control</th>\n",
       "      <th>метилпреднизолон_stat_control</th>\n",
       "      <th>лоратадин_stat_control</th>\n",
       "      <th>хлорохин_stat_control</th>\n",
       "      <th>натрия хлорид_stat_control</th>\n",
       "      <th>индапамид_stat_control</th>\n",
       "      <th>преднизолон_stat_control</th>\n",
       "      <th>аторвастатин_stat_control</th>\n",
       "      <th>декстран_stat_control</th>\n",
       "      <th>лизиноприл_stat_control</th>\n",
       "      <th>лозартан_stat_control</th>\n",
       "      <th>Температура_dinam_fact</th>\n",
       "      <th>Лимфоциты#_dinam_fact</th>\n",
       "      <th>АСТ_dinam_fact</th>\n",
       "      <th>ЧСС_dinam_fact</th>\n",
       "      <th>ЧДД_dinam_fact</th>\n",
       "      <th>Билирубин общий_dinam_fact</th>\n",
       "      <th>MPV- Средн.объем тромбоцитов_dinam_fact</th>\n",
       "      <th>PCT- Тромбокрит_dinam_fact</th>\n",
       "      <th>Лимфоциты%_dinam_fact</th>\n",
       "      <th>снижение_сознания_dinam_fact</th>\n",
       "      <th>Cтепень тяжести по КТ_dinam_fact</th>\n",
       "      <th>Лактатдегидрогеназа_dinam_fact</th>\n",
       "      <th>PDW- Индекс расп.по объему тр._dinam_fact</th>\n",
       "      <th>age_stat_fact</th>\n",
       "      <th>трансфузия_dinam_control</th>\n",
       "      <th>оксигенотерапия_dinam_control</th>\n",
       "      <th>НИВЛ_dinam_control</th>\n",
       "      <th>ИВЛ_dinam_control</th>\n",
       "    </tr>\n",
       "    <tr>\n",
       "      <th>t_point</th>\n",
       "      <th></th>\n",
       "      <th></th>\n",
       "      <th></th>\n",
       "      <th></th>\n",
       "      <th></th>\n",
       "      <th></th>\n",
       "      <th></th>\n",
       "      <th></th>\n",
       "      <th></th>\n",
       "      <th></th>\n",
       "      <th></th>\n",
       "      <th></th>\n",
       "      <th></th>\n",
       "      <th></th>\n",
       "      <th></th>\n",
       "      <th></th>\n",
       "      <th></th>\n",
       "      <th></th>\n",
       "      <th></th>\n",
       "      <th></th>\n",
       "      <th></th>\n",
       "      <th></th>\n",
       "      <th></th>\n",
       "      <th></th>\n",
       "      <th></th>\n",
       "      <th></th>\n",
       "      <th></th>\n",
       "      <th></th>\n",
       "      <th></th>\n",
       "      <th></th>\n",
       "      <th></th>\n",
       "      <th></th>\n",
       "      <th></th>\n",
       "      <th></th>\n",
       "      <th></th>\n",
       "      <th></th>\n",
       "      <th></th>\n",
       "      <th></th>\n",
       "      <th></th>\n",
       "      <th></th>\n",
       "      <th></th>\n",
       "      <th></th>\n",
       "      <th></th>\n",
       "      <th></th>\n",
       "      <th></th>\n",
       "      <th></th>\n",
       "      <th></th>\n",
       "    </tr>\n",
       "  </thead>\n",
       "  <tbody>\n",
       "    <tr>\n",
       "      <th>0</th>\n",
       "      <td>1</td>\n",
       "      <td>1</td>\n",
       "      <td>1</td>\n",
       "      <td>1</td>\n",
       "      <td>1</td>\n",
       "      <td>1</td>\n",
       "      <td>1</td>\n",
       "      <td>1</td>\n",
       "      <td>1</td>\n",
       "      <td>1</td>\n",
       "      <td>0</td>\n",
       "      <td>1</td>\n",
       "      <td>1</td>\n",
       "      <td>0</td>\n",
       "      <td>0</td>\n",
       "      <td>0</td>\n",
       "      <td>0</td>\n",
       "      <td>1</td>\n",
       "      <td>0</td>\n",
       "      <td>0</td>\n",
       "      <td>0</td>\n",
       "      <td>1</td>\n",
       "      <td>0</td>\n",
       "      <td>0</td>\n",
       "      <td>0</td>\n",
       "      <td>0</td>\n",
       "      <td>0</td>\n",
       "      <td>0</td>\n",
       "      <td>0</td>\n",
       "      <td>NaN</td>\n",
       "      <td>1.21</td>\n",
       "      <td>20.7</td>\n",
       "      <td>55.0</td>\n",
       "      <td>22.0</td>\n",
       "      <td>7.8</td>\n",
       "      <td>8.1</td>\n",
       "      <td>0.201</td>\n",
       "      <td>24.1</td>\n",
       "      <td>0</td>\n",
       "      <td>1</td>\n",
       "      <td>189.0</td>\n",
       "      <td>17.7</td>\n",
       "      <td>73</td>\n",
       "      <td>0</td>\n",
       "      <td>0</td>\n",
       "      <td>0</td>\n",
       "      <td>0</td>\n",
       "    </tr>\n",
       "    <tr>\n",
       "      <th>1</th>\n",
       "      <td>1</td>\n",
       "      <td>1</td>\n",
       "      <td>1</td>\n",
       "      <td>1</td>\n",
       "      <td>1</td>\n",
       "      <td>1</td>\n",
       "      <td>1</td>\n",
       "      <td>1</td>\n",
       "      <td>1</td>\n",
       "      <td>1</td>\n",
       "      <td>0</td>\n",
       "      <td>1</td>\n",
       "      <td>1</td>\n",
       "      <td>0</td>\n",
       "      <td>0</td>\n",
       "      <td>0</td>\n",
       "      <td>0</td>\n",
       "      <td>1</td>\n",
       "      <td>0</td>\n",
       "      <td>0</td>\n",
       "      <td>0</td>\n",
       "      <td>1</td>\n",
       "      <td>0</td>\n",
       "      <td>0</td>\n",
       "      <td>0</td>\n",
       "      <td>0</td>\n",
       "      <td>0</td>\n",
       "      <td>0</td>\n",
       "      <td>0</td>\n",
       "      <td>NaN</td>\n",
       "      <td>2.09</td>\n",
       "      <td>21.0</td>\n",
       "      <td>72.0</td>\n",
       "      <td>18.0</td>\n",
       "      <td>8.8</td>\n",
       "      <td>7.0</td>\n",
       "      <td>0.204</td>\n",
       "      <td>33.2</td>\n",
       "      <td>0</td>\n",
       "      <td>5</td>\n",
       "      <td>NaN</td>\n",
       "      <td>19.8</td>\n",
       "      <td>73</td>\n",
       "      <td>0</td>\n",
       "      <td>0</td>\n",
       "      <td>0</td>\n",
       "      <td>0</td>\n",
       "    </tr>\n",
       "  </tbody>\n",
       "</table>\n",
       "</div>"
      ],
      "text/plain": [
       "         омепразол_stat_control  надропарин кальция_stat_control  \\\n",
       "t_point                                                            \n",
       "0                             1                                1   \n",
       "1                             1                                1   \n",
       "\n",
       "         эзомепразол_stat_control  амлодипин_stat_control  \\\n",
       "t_point                                                     \n",
       "0                               1                       1   \n",
       "1                               1                       1   \n",
       "\n",
       "         амброксол_stat_control  домперидон_stat_control  \\\n",
       "t_point                                                    \n",
       "0                             1                        1   \n",
       "1                             1                        1   \n",
       "\n",
       "         меброфенин_stat_control  технеций_stat_control  \\\n",
       "t_point                                                   \n",
       "0                              1                      1   \n",
       "1                              1                      1   \n",
       "\n",
       "         мометазон_stat_control  бисопролол_stat_control  \\\n",
       "t_point                                                    \n",
       "0                             1                        1   \n",
       "1                             1                        1   \n",
       "\n",
       "         дексаметазон_stat_control  гидрохлоротиазид_stat_control  \\\n",
       "t_point                                                             \n",
       "0                                0                              1   \n",
       "1                                0                              1   \n",
       "\n",
       "         гидроксихлорохин_stat_control  рабепразол_stat_control  \\\n",
       "t_point                                                           \n",
       "0                                    1                        0   \n",
       "1                                    1                        0   \n",
       "\n",
       "         эноксапарин натрия_stat_control  периндоприл_stat_control  \\\n",
       "t_point                                                              \n",
       "0                                      0                         0   \n",
       "1                                      0                         0   \n",
       "\n",
       "         ацетилцистеин_stat_control  азитромицин_stat_control  \\\n",
       "t_point                                                         \n",
       "0                                 0                         1   \n",
       "1                                 0                         1   \n",
       "\n",
       "         валсартан_stat_control  метилпреднизолон_stat_control  \\\n",
       "t_point                                                          \n",
       "0                             0                              0   \n",
       "1                             0                              0   \n",
       "\n",
       "         лоратадин_stat_control  хлорохин_stat_control  \\\n",
       "t_point                                                  \n",
       "0                             0                      1   \n",
       "1                             0                      1   \n",
       "\n",
       "         натрия хлорид_stat_control  индапамид_stat_control  \\\n",
       "t_point                                                       \n",
       "0                                 0                       0   \n",
       "1                                 0                       0   \n",
       "\n",
       "         преднизолон_stat_control  аторвастатин_stat_control  \\\n",
       "t_point                                                        \n",
       "0                               0                          0   \n",
       "1                               0                          0   \n",
       "\n",
       "         декстран_stat_control  лизиноприл_stat_control  \\\n",
       "t_point                                                   \n",
       "0                            0                        0   \n",
       "1                            0                        0   \n",
       "\n",
       "         лозартан_stat_control  Температура_dinam_fact  Лимфоциты#_dinam_fact  \\\n",
       "t_point                                                                         \n",
       "0                            0                     NaN                   1.21   \n",
       "1                            0                     NaN                   2.09   \n",
       "\n",
       "         АСТ_dinam_fact  ЧСС_dinam_fact  ЧДД_dinam_fact  \\\n",
       "t_point                                                   \n",
       "0                  20.7            55.0            22.0   \n",
       "1                  21.0            72.0            18.0   \n",
       "\n",
       "         Билирубин общий_dinam_fact  MPV- Средн.объем тромбоцитов_dinam_fact  \\\n",
       "t_point                                                                        \n",
       "0                               7.8                                      8.1   \n",
       "1                               8.8                                      7.0   \n",
       "\n",
       "         PCT- Тромбокрит_dinam_fact  Лимфоциты%_dinam_fact  \\\n",
       "t_point                                                      \n",
       "0                             0.201                   24.1   \n",
       "1                             0.204                   33.2   \n",
       "\n",
       "         снижение_сознания_dinam_fact  Cтепень тяжести по КТ_dinam_fact  \\\n",
       "t_point                                                                   \n",
       "0                                   0                                 1   \n",
       "1                                   0                                 5   \n",
       "\n",
       "         Лактатдегидрогеназа_dinam_fact  \\\n",
       "t_point                                   \n",
       "0                                 189.0   \n",
       "1                                   NaN   \n",
       "\n",
       "         PDW- Индекс расп.по объему тр._dinam_fact  age_stat_fact  \\\n",
       "t_point                                                             \n",
       "0                                             17.7             73   \n",
       "1                                             19.8             73   \n",
       "\n",
       "         трансфузия_dinam_control  оксигенотерапия_dinam_control  \\\n",
       "t_point                                                            \n",
       "0                               0                              0   \n",
       "1                               0                              0   \n",
       "\n",
       "         НИВЛ_dinam_control  ИВЛ_dinam_control  \n",
       "t_point                                         \n",
       "0                         0                  0  \n",
       "1                         0                  0  "
      ]
     },
     "execution_count": 8,
     "metadata": {},
     "output_type": "execute_result"
    }
   ],
   "source": [
    "df.loc[df.index.levels[0][1]]"
   ]
  },
  {
   "attachments": {},
   "cell_type": "markdown",
   "id": "2d52a73d-a66a-4734-a4c5-7e5dee775d6e",
   "metadata": {
    "tags": []
   },
   "source": [
    "Проверим, менялись ли процедуры или нет за время лечения пациентов. Если вектор не менялся, мы можем использовать статичный вектор при предсказании"
   ]
  },
  {
   "cell_type": "code",
   "execution_count": 9,
   "id": "01d2e1c9-d566-417d-a185-21b2d7749845",
   "metadata": {
    "tags": []
   },
   "outputs": [
    {
     "data": {
      "text/html": [
       "<div>\n",
       "<style scoped>\n",
       "    .dataframe tbody tr th:only-of-type {\n",
       "        vertical-align: middle;\n",
       "    }\n",
       "\n",
       "    .dataframe tbody tr th {\n",
       "        vertical-align: top;\n",
       "    }\n",
       "\n",
       "    .dataframe thead th {\n",
       "        text-align: right;\n",
       "    }\n",
       "</style>\n",
       "<table border=\"1\" class=\"dataframe\">\n",
       "  <thead>\n",
       "    <tr style=\"text-align: right;\">\n",
       "      <th></th>\n",
       "      <th></th>\n",
       "      <th></th>\n",
       "      <th></th>\n",
       "      <th></th>\n",
       "      <th>0</th>\n",
       "    </tr>\n",
       "    <tr>\n",
       "      <th>age_stat_fact</th>\n",
       "      <th>трансфузия_dinam_control</th>\n",
       "      <th>оксигенотерапия_dinam_control</th>\n",
       "      <th>НИВЛ_dinam_control</th>\n",
       "      <th>ИВЛ_dinam_control</th>\n",
       "      <th></th>\n",
       "    </tr>\n",
       "  </thead>\n",
       "  <tbody>\n",
       "    <tr>\n",
       "      <th rowspan=\"15\" valign=\"top\">1</th>\n",
       "      <th rowspan=\"3\" valign=\"top\">1</th>\n",
       "      <th>1</th>\n",
       "      <th>1</th>\n",
       "      <th>1</th>\n",
       "      <td>1619</td>\n",
       "    </tr>\n",
       "    <tr>\n",
       "      <th>2</th>\n",
       "      <th>1</th>\n",
       "      <th>1</th>\n",
       "      <td>184</td>\n",
       "    </tr>\n",
       "    <tr>\n",
       "      <th>1</th>\n",
       "      <th>1</th>\n",
       "      <th>2</th>\n",
       "      <td>61</td>\n",
       "    </tr>\n",
       "    <tr>\n",
       "      <th rowspan=\"2\" valign=\"top\">2</th>\n",
       "      <th rowspan=\"2\" valign=\"top\">1</th>\n",
       "      <th rowspan=\"2\" valign=\"top\">1</th>\n",
       "      <th>2</th>\n",
       "      <td>34</td>\n",
       "    </tr>\n",
       "    <tr>\n",
       "      <th>1</th>\n",
       "      <td>30</td>\n",
       "    </tr>\n",
       "    <tr>\n",
       "      <th>1</th>\n",
       "      <th>1</th>\n",
       "      <th>2</th>\n",
       "      <th>2</th>\n",
       "      <td>12</td>\n",
       "    </tr>\n",
       "    <tr>\n",
       "      <th>2</th>\n",
       "      <th>1</th>\n",
       "      <th>2</th>\n",
       "      <th>2</th>\n",
       "      <td>10</td>\n",
       "    </tr>\n",
       "    <tr>\n",
       "      <th rowspan=\"2\" valign=\"top\">1</th>\n",
       "      <th>2</th>\n",
       "      <th>1</th>\n",
       "      <th>2</th>\n",
       "      <td>9</td>\n",
       "    </tr>\n",
       "    <tr>\n",
       "      <th>1</th>\n",
       "      <th>2</th>\n",
       "      <th>1</th>\n",
       "      <td>8</td>\n",
       "    </tr>\n",
       "    <tr>\n",
       "      <th rowspan=\"3\" valign=\"top\">2</th>\n",
       "      <th rowspan=\"2\" valign=\"top\">2</th>\n",
       "      <th rowspan=\"2\" valign=\"top\">1</th>\n",
       "      <th>1</th>\n",
       "      <td>6</td>\n",
       "    </tr>\n",
       "    <tr>\n",
       "      <th>2</th>\n",
       "      <td>6</td>\n",
       "    </tr>\n",
       "    <tr>\n",
       "      <th>1</th>\n",
       "      <th>2</th>\n",
       "      <th>1</th>\n",
       "      <td>5</td>\n",
       "    </tr>\n",
       "    <tr>\n",
       "      <th>1</th>\n",
       "      <th>2</th>\n",
       "      <th>2</th>\n",
       "      <th>1</th>\n",
       "      <td>3</td>\n",
       "    </tr>\n",
       "    <tr>\n",
       "      <th>2</th>\n",
       "      <th>2</th>\n",
       "      <th>2</th>\n",
       "      <th>2</th>\n",
       "      <td>3</td>\n",
       "    </tr>\n",
       "    <tr>\n",
       "      <th>1</th>\n",
       "      <th>2</th>\n",
       "      <th>2</th>\n",
       "      <th>2</th>\n",
       "      <td>2</td>\n",
       "    </tr>\n",
       "  </tbody>\n",
       "</table>\n",
       "</div>"
      ],
      "text/plain": [
       "                                                                                                              0\n",
       "age_stat_fact трансфузия_dinam_control оксигенотерапия_dinam_control НИВЛ_dinam_control ИВЛ_dinam_control      \n",
       "1             1                        1                             1                  1                  1619\n",
       "                                       2                             1                  1                   184\n",
       "                                       1                             1                  2                    61\n",
       "              2                        1                             1                  2                    34\n",
       "                                                                                        1                    30\n",
       "              1                        1                             2                  2                    12\n",
       "              2                        1                             2                  2                    10\n",
       "              1                        2                             1                  2                     9\n",
       "                                       1                             2                  1                     8\n",
       "              2                        2                             1                  1                     6\n",
       "                                                                                        2                     6\n",
       "                                       1                             2                  1                     5\n",
       "              1                        2                             2                  1                     3\n",
       "              2                        2                             2                  2                     3\n",
       "              1                        2                             2                  2                     2"
      ]
     },
     "execution_count": 9,
     "metadata": {},
     "output_type": "execute_result"
    }
   ],
   "source": [
    "t = df.groupby(level=0).nunique().iloc[:, 42:]\n",
    "pd.DataFrame(t.value_counts())"
   ]
  },
  {
   "attachments": {},
   "cell_type": "markdown",
   "id": "2bc10989-164a-4c3b-9b53-a48b1ab5f8da",
   "metadata": {
    "tags": []
   },
   "source": [
    "Процедуры менялись. Проверим, что лекарства не менялись во время лечения пациентов"
   ]
  },
  {
   "cell_type": "code",
   "execution_count": 10,
   "id": "174db5c0-f487-440d-953b-71b9850e6a44",
   "metadata": {
    "tags": []
   },
   "outputs": [
    {
     "data": {
      "text/html": [
       "<div>\n",
       "<style scoped>\n",
       "    .dataframe tbody tr th:only-of-type {\n",
       "        vertical-align: middle;\n",
       "    }\n",
       "\n",
       "    .dataframe tbody tr th {\n",
       "        vertical-align: top;\n",
       "    }\n",
       "\n",
       "    .dataframe thead th {\n",
       "        text-align: right;\n",
       "    }\n",
       "</style>\n",
       "<table border=\"1\" class=\"dataframe\">\n",
       "  <thead>\n",
       "    <tr style=\"text-align: right;\">\n",
       "      <th></th>\n",
       "      <th></th>\n",
       "      <th></th>\n",
       "      <th></th>\n",
       "      <th></th>\n",
       "      <th></th>\n",
       "      <th></th>\n",
       "      <th></th>\n",
       "      <th></th>\n",
       "      <th></th>\n",
       "      <th></th>\n",
       "      <th></th>\n",
       "      <th></th>\n",
       "      <th></th>\n",
       "      <th></th>\n",
       "      <th></th>\n",
       "      <th></th>\n",
       "      <th></th>\n",
       "      <th></th>\n",
       "      <th></th>\n",
       "      <th></th>\n",
       "      <th></th>\n",
       "      <th></th>\n",
       "      <th></th>\n",
       "      <th></th>\n",
       "      <th></th>\n",
       "      <th></th>\n",
       "      <th></th>\n",
       "      <th></th>\n",
       "      <th>0</th>\n",
       "    </tr>\n",
       "    <tr>\n",
       "      <th>омепразол_stat_control</th>\n",
       "      <th>надропарин кальция_stat_control</th>\n",
       "      <th>эзомепразол_stat_control</th>\n",
       "      <th>амлодипин_stat_control</th>\n",
       "      <th>амброксол_stat_control</th>\n",
       "      <th>домперидон_stat_control</th>\n",
       "      <th>меброфенин_stat_control</th>\n",
       "      <th>технеций_stat_control</th>\n",
       "      <th>мометазон_stat_control</th>\n",
       "      <th>бисопролол_stat_control</th>\n",
       "      <th>дексаметазон_stat_control</th>\n",
       "      <th>гидрохлоротиазид_stat_control</th>\n",
       "      <th>гидроксихлорохин_stat_control</th>\n",
       "      <th>рабепразол_stat_control</th>\n",
       "      <th>эноксапарин натрия_stat_control</th>\n",
       "      <th>периндоприл_stat_control</th>\n",
       "      <th>ацетилцистеин_stat_control</th>\n",
       "      <th>азитромицин_stat_control</th>\n",
       "      <th>валсартан_stat_control</th>\n",
       "      <th>метилпреднизолон_stat_control</th>\n",
       "      <th>лоратадин_stat_control</th>\n",
       "      <th>хлорохин_stat_control</th>\n",
       "      <th>натрия хлорид_stat_control</th>\n",
       "      <th>индапамид_stat_control</th>\n",
       "      <th>преднизолон_stat_control</th>\n",
       "      <th>аторвастатин_stat_control</th>\n",
       "      <th>декстран_stat_control</th>\n",
       "      <th>лизиноприл_stat_control</th>\n",
       "      <th>лозартан_stat_control</th>\n",
       "      <th></th>\n",
       "    </tr>\n",
       "  </thead>\n",
       "  <tbody>\n",
       "    <tr>\n",
       "      <th>1</th>\n",
       "      <th>1</th>\n",
       "      <th>1</th>\n",
       "      <th>1</th>\n",
       "      <th>1</th>\n",
       "      <th>1</th>\n",
       "      <th>1</th>\n",
       "      <th>1</th>\n",
       "      <th>1</th>\n",
       "      <th>1</th>\n",
       "      <th>1</th>\n",
       "      <th>1</th>\n",
       "      <th>1</th>\n",
       "      <th>1</th>\n",
       "      <th>1</th>\n",
       "      <th>1</th>\n",
       "      <th>1</th>\n",
       "      <th>1</th>\n",
       "      <th>1</th>\n",
       "      <th>1</th>\n",
       "      <th>1</th>\n",
       "      <th>1</th>\n",
       "      <th>1</th>\n",
       "      <th>1</th>\n",
       "      <th>1</th>\n",
       "      <th>1</th>\n",
       "      <th>1</th>\n",
       "      <th>1</th>\n",
       "      <th>1</th>\n",
       "      <td>1992</td>\n",
       "    </tr>\n",
       "  </tbody>\n",
       "</table>\n",
       "</div>"
      ],
      "text/plain": [
       "                                                                                                                                                                                                                                                                                                                                                                                                                                                                                                                                                                                                                                                                                                                                                             0\n",
       "омепразол_stat_control надропарин кальция_stat_control эзомепразол_stat_control амлодипин_stat_control амброксол_stat_control домперидон_stat_control меброфенин_stat_control технеций_stat_control мометазон_stat_control бисопролол_stat_control дексаметазон_stat_control гидрохлоротиазид_stat_control гидроксихлорохин_stat_control рабепразол_stat_control эноксапарин натрия_stat_control периндоприл_stat_control ацетилцистеин_stat_control азитромицин_stat_control валсартан_stat_control метилпреднизолон_stat_control лоратадин_stat_control хлорохин_stat_control натрия хлорид_stat_control индапамид_stat_control преднизолон_stat_control аторвастатин_stat_control декстран_stat_control лизиноприл_stat_control лозартан_stat_control      \n",
       "1                      1                               1                        1                      1                      1                       1                       1                     1                      1                       1                         1                             1                             1                       1                               1                        1                          1                        1                      1                             1                      1                     1                          1                      1                        1                         1                     1                       1                      1992"
      ]
     },
     "execution_count": 10,
     "metadata": {},
     "output_type": "execute_result"
    }
   ],
   "source": [
    "t = df.groupby(level=0).nunique().iloc[:, :29]\n",
    "pd.DataFrame(t.value_counts())"
   ]
  },
  {
   "attachments": {},
   "cell_type": "markdown",
   "id": "7aab6fe9-3ccd-42da-8566-8171e3e21b6c",
   "metadata": {},
   "source": [
    "По лекарствам у всех пациентов набор препаратов не менялся, а по процедурам у 380 пациентов изменялся порядок."
   ]
  },
  {
   "cell_type": "markdown",
   "id": "6bf649b1-3b42-4121-b56f-dc63d6d5a4cc",
   "metadata": {
    "tags": []
   },
   "source": [
    "Уберем всех пациентов лечившихся меньше 1 недели - они не дадут информации о развити заболевания\n"
   ]
  },
  {
   "cell_type": "code",
   "execution_count": 11,
   "id": "6e0e7a87-bdf9-40e7-af17-fb3d9ae9ec35",
   "metadata": {
    "tags": []
   },
   "outputs": [],
   "source": [
    "s = df.groupby(level=0).size()\n",
    "df = df.loc[s[s>1].index.values]"
   ]
  },
  {
   "attachments": {},
   "cell_type": "markdown",
   "id": "786ee404",
   "metadata": {},
   "source": [
    "Получили датасет для работы"
   ]
  },
  {
   "cell_type": "code",
   "execution_count": 12,
   "id": "9fe60d71",
   "metadata": {},
   "outputs": [
    {
     "data": {
      "text/html": [
       "<div>\n",
       "<style scoped>\n",
       "    .dataframe tbody tr th:only-of-type {\n",
       "        vertical-align: middle;\n",
       "    }\n",
       "\n",
       "    .dataframe tbody tr th {\n",
       "        vertical-align: top;\n",
       "    }\n",
       "\n",
       "    .dataframe thead th {\n",
       "        text-align: right;\n",
       "    }\n",
       "</style>\n",
       "<table border=\"1\" class=\"dataframe\">\n",
       "  <thead>\n",
       "    <tr style=\"text-align: right;\">\n",
       "      <th></th>\n",
       "      <th></th>\n",
       "      <th>омепразол_stat_control</th>\n",
       "      <th>надропарин кальция_stat_control</th>\n",
       "      <th>эзомепразол_stat_control</th>\n",
       "      <th>амлодипин_stat_control</th>\n",
       "      <th>амброксол_stat_control</th>\n",
       "      <th>домперидон_stat_control</th>\n",
       "      <th>меброфенин_stat_control</th>\n",
       "      <th>технеций_stat_control</th>\n",
       "      <th>мометазон_stat_control</th>\n",
       "      <th>бисопролол_stat_control</th>\n",
       "      <th>дексаметазон_stat_control</th>\n",
       "      <th>гидрохлоротиазид_stat_control</th>\n",
       "      <th>гидроксихлорохин_stat_control</th>\n",
       "      <th>рабепразол_stat_control</th>\n",
       "      <th>эноксапарин натрия_stat_control</th>\n",
       "      <th>периндоприл_stat_control</th>\n",
       "      <th>ацетилцистеин_stat_control</th>\n",
       "      <th>азитромицин_stat_control</th>\n",
       "      <th>валсартан_stat_control</th>\n",
       "      <th>метилпреднизолон_stat_control</th>\n",
       "      <th>лоратадин_stat_control</th>\n",
       "      <th>хлорохин_stat_control</th>\n",
       "      <th>натрия хлорид_stat_control</th>\n",
       "      <th>индапамид_stat_control</th>\n",
       "      <th>преднизолон_stat_control</th>\n",
       "      <th>аторвастатин_stat_control</th>\n",
       "      <th>декстран_stat_control</th>\n",
       "      <th>лизиноприл_stat_control</th>\n",
       "      <th>лозартан_stat_control</th>\n",
       "      <th>Температура_dinam_fact</th>\n",
       "      <th>Лимфоциты#_dinam_fact</th>\n",
       "      <th>АСТ_dinam_fact</th>\n",
       "      <th>ЧСС_dinam_fact</th>\n",
       "      <th>ЧДД_dinam_fact</th>\n",
       "      <th>Билирубин общий_dinam_fact</th>\n",
       "      <th>MPV- Средн.объем тромбоцитов_dinam_fact</th>\n",
       "      <th>PCT- Тромбокрит_dinam_fact</th>\n",
       "      <th>Лимфоциты%_dinam_fact</th>\n",
       "      <th>снижение_сознания_dinam_fact</th>\n",
       "      <th>Cтепень тяжести по КТ_dinam_fact</th>\n",
       "      <th>Лактатдегидрогеназа_dinam_fact</th>\n",
       "      <th>PDW- Индекс расп.по объему тр._dinam_fact</th>\n",
       "      <th>age_stat_fact</th>\n",
       "      <th>трансфузия_dinam_control</th>\n",
       "      <th>оксигенотерапия_dinam_control</th>\n",
       "      <th>НИВЛ_dinam_control</th>\n",
       "      <th>ИВЛ_dinam_control</th>\n",
       "    </tr>\n",
       "    <tr>\n",
       "      <th>case</th>\n",
       "      <th>t_point</th>\n",
       "      <th></th>\n",
       "      <th></th>\n",
       "      <th></th>\n",
       "      <th></th>\n",
       "      <th></th>\n",
       "      <th></th>\n",
       "      <th></th>\n",
       "      <th></th>\n",
       "      <th></th>\n",
       "      <th></th>\n",
       "      <th></th>\n",
       "      <th></th>\n",
       "      <th></th>\n",
       "      <th></th>\n",
       "      <th></th>\n",
       "      <th></th>\n",
       "      <th></th>\n",
       "      <th></th>\n",
       "      <th></th>\n",
       "      <th></th>\n",
       "      <th></th>\n",
       "      <th></th>\n",
       "      <th></th>\n",
       "      <th></th>\n",
       "      <th></th>\n",
       "      <th></th>\n",
       "      <th></th>\n",
       "      <th></th>\n",
       "      <th></th>\n",
       "      <th></th>\n",
       "      <th></th>\n",
       "      <th></th>\n",
       "      <th></th>\n",
       "      <th></th>\n",
       "      <th></th>\n",
       "      <th></th>\n",
       "      <th></th>\n",
       "      <th></th>\n",
       "      <th></th>\n",
       "      <th></th>\n",
       "      <th></th>\n",
       "      <th></th>\n",
       "      <th></th>\n",
       "      <th></th>\n",
       "      <th></th>\n",
       "      <th></th>\n",
       "      <th></th>\n",
       "    </tr>\n",
       "  </thead>\n",
       "  <tbody>\n",
       "    <tr>\n",
       "      <th rowspan=\"4\" valign=\"top\">GACAAcY</th>\n",
       "      <th>0</th>\n",
       "      <td>1</td>\n",
       "      <td>1</td>\n",
       "      <td>1</td>\n",
       "      <td>1</td>\n",
       "      <td>1</td>\n",
       "      <td>1</td>\n",
       "      <td>1</td>\n",
       "      <td>1</td>\n",
       "      <td>1</td>\n",
       "      <td>1</td>\n",
       "      <td>1</td>\n",
       "      <td>1</td>\n",
       "      <td>0</td>\n",
       "      <td>0</td>\n",
       "      <td>0</td>\n",
       "      <td>0</td>\n",
       "      <td>0</td>\n",
       "      <td>0</td>\n",
       "      <td>0</td>\n",
       "      <td>1</td>\n",
       "      <td>0</td>\n",
       "      <td>0</td>\n",
       "      <td>0</td>\n",
       "      <td>0</td>\n",
       "      <td>1</td>\n",
       "      <td>0</td>\n",
       "      <td>0</td>\n",
       "      <td>0</td>\n",
       "      <td>1</td>\n",
       "      <td>36.7</td>\n",
       "      <td>1.93</td>\n",
       "      <td>27.90</td>\n",
       "      <td>74.0</td>\n",
       "      <td>24.0</td>\n",
       "      <td>15.30</td>\n",
       "      <td>11.2</td>\n",
       "      <td>0.100</td>\n",
       "      <td>48.3</td>\n",
       "      <td>0</td>\n",
       "      <td>2</td>\n",
       "      <td>245.0</td>\n",
       "      <td>14.0</td>\n",
       "      <td>81</td>\n",
       "      <td>0</td>\n",
       "      <td>1</td>\n",
       "      <td>0</td>\n",
       "      <td>0</td>\n",
       "    </tr>\n",
       "    <tr>\n",
       "      <th>1</th>\n",
       "      <td>1</td>\n",
       "      <td>1</td>\n",
       "      <td>1</td>\n",
       "      <td>1</td>\n",
       "      <td>1</td>\n",
       "      <td>1</td>\n",
       "      <td>1</td>\n",
       "      <td>1</td>\n",
       "      <td>1</td>\n",
       "      <td>1</td>\n",
       "      <td>1</td>\n",
       "      <td>1</td>\n",
       "      <td>0</td>\n",
       "      <td>0</td>\n",
       "      <td>0</td>\n",
       "      <td>0</td>\n",
       "      <td>0</td>\n",
       "      <td>0</td>\n",
       "      <td>0</td>\n",
       "      <td>1</td>\n",
       "      <td>0</td>\n",
       "      <td>0</td>\n",
       "      <td>0</td>\n",
       "      <td>0</td>\n",
       "      <td>1</td>\n",
       "      <td>0</td>\n",
       "      <td>0</td>\n",
       "      <td>0</td>\n",
       "      <td>1</td>\n",
       "      <td>36.3</td>\n",
       "      <td>2.00</td>\n",
       "      <td>25.70</td>\n",
       "      <td>71.0</td>\n",
       "      <td>19.0</td>\n",
       "      <td>12.10</td>\n",
       "      <td>10.6</td>\n",
       "      <td>0.160</td>\n",
       "      <td>30.7</td>\n",
       "      <td>0</td>\n",
       "      <td>2</td>\n",
       "      <td>315.0</td>\n",
       "      <td>12.8</td>\n",
       "      <td>81</td>\n",
       "      <td>0</td>\n",
       "      <td>1</td>\n",
       "      <td>0</td>\n",
       "      <td>0</td>\n",
       "    </tr>\n",
       "    <tr>\n",
       "      <th>2</th>\n",
       "      <td>1</td>\n",
       "      <td>1</td>\n",
       "      <td>1</td>\n",
       "      <td>1</td>\n",
       "      <td>1</td>\n",
       "      <td>1</td>\n",
       "      <td>1</td>\n",
       "      <td>1</td>\n",
       "      <td>1</td>\n",
       "      <td>1</td>\n",
       "      <td>1</td>\n",
       "      <td>1</td>\n",
       "      <td>0</td>\n",
       "      <td>0</td>\n",
       "      <td>0</td>\n",
       "      <td>0</td>\n",
       "      <td>0</td>\n",
       "      <td>0</td>\n",
       "      <td>0</td>\n",
       "      <td>1</td>\n",
       "      <td>0</td>\n",
       "      <td>0</td>\n",
       "      <td>0</td>\n",
       "      <td>0</td>\n",
       "      <td>1</td>\n",
       "      <td>0</td>\n",
       "      <td>0</td>\n",
       "      <td>0</td>\n",
       "      <td>1</td>\n",
       "      <td>36.6</td>\n",
       "      <td>2.13</td>\n",
       "      <td>32.00</td>\n",
       "      <td>NaN</td>\n",
       "      <td>18.0</td>\n",
       "      <td>NaN</td>\n",
       "      <td>11.0</td>\n",
       "      <td>0.190</td>\n",
       "      <td>23.1</td>\n",
       "      <td>0</td>\n",
       "      <td>5</td>\n",
       "      <td>290.0</td>\n",
       "      <td>13.5</td>\n",
       "      <td>81</td>\n",
       "      <td>0</td>\n",
       "      <td>1</td>\n",
       "      <td>0</td>\n",
       "      <td>0</td>\n",
       "    </tr>\n",
       "    <tr>\n",
       "      <th>3</th>\n",
       "      <td>1</td>\n",
       "      <td>1</td>\n",
       "      <td>1</td>\n",
       "      <td>1</td>\n",
       "      <td>1</td>\n",
       "      <td>1</td>\n",
       "      <td>1</td>\n",
       "      <td>1</td>\n",
       "      <td>1</td>\n",
       "      <td>1</td>\n",
       "      <td>1</td>\n",
       "      <td>1</td>\n",
       "      <td>0</td>\n",
       "      <td>0</td>\n",
       "      <td>0</td>\n",
       "      <td>0</td>\n",
       "      <td>0</td>\n",
       "      <td>0</td>\n",
       "      <td>0</td>\n",
       "      <td>1</td>\n",
       "      <td>0</td>\n",
       "      <td>0</td>\n",
       "      <td>0</td>\n",
       "      <td>0</td>\n",
       "      <td>1</td>\n",
       "      <td>0</td>\n",
       "      <td>0</td>\n",
       "      <td>0</td>\n",
       "      <td>1</td>\n",
       "      <td>36.5</td>\n",
       "      <td>2.12</td>\n",
       "      <td>27.00</td>\n",
       "      <td>71.0</td>\n",
       "      <td>18.0</td>\n",
       "      <td>NaN</td>\n",
       "      <td>11.4</td>\n",
       "      <td>0.100</td>\n",
       "      <td>24.1</td>\n",
       "      <td>0</td>\n",
       "      <td>5</td>\n",
       "      <td>274.0</td>\n",
       "      <td>13.1</td>\n",
       "      <td>81</td>\n",
       "      <td>0</td>\n",
       "      <td>1</td>\n",
       "      <td>0</td>\n",
       "      <td>0</td>\n",
       "    </tr>\n",
       "    <tr>\n",
       "      <th>GACAAnf</th>\n",
       "      <th>0</th>\n",
       "      <td>1</td>\n",
       "      <td>1</td>\n",
       "      <td>1</td>\n",
       "      <td>1</td>\n",
       "      <td>1</td>\n",
       "      <td>1</td>\n",
       "      <td>1</td>\n",
       "      <td>1</td>\n",
       "      <td>1</td>\n",
       "      <td>1</td>\n",
       "      <td>0</td>\n",
       "      <td>1</td>\n",
       "      <td>1</td>\n",
       "      <td>0</td>\n",
       "      <td>0</td>\n",
       "      <td>0</td>\n",
       "      <td>0</td>\n",
       "      <td>1</td>\n",
       "      <td>0</td>\n",
       "      <td>0</td>\n",
       "      <td>0</td>\n",
       "      <td>1</td>\n",
       "      <td>0</td>\n",
       "      <td>0</td>\n",
       "      <td>0</td>\n",
       "      <td>0</td>\n",
       "      <td>0</td>\n",
       "      <td>0</td>\n",
       "      <td>0</td>\n",
       "      <td>NaN</td>\n",
       "      <td>1.21</td>\n",
       "      <td>20.70</td>\n",
       "      <td>55.0</td>\n",
       "      <td>22.0</td>\n",
       "      <td>7.80</td>\n",
       "      <td>8.1</td>\n",
       "      <td>0.201</td>\n",
       "      <td>24.1</td>\n",
       "      <td>0</td>\n",
       "      <td>1</td>\n",
       "      <td>189.0</td>\n",
       "      <td>17.7</td>\n",
       "      <td>73</td>\n",
       "      <td>0</td>\n",
       "      <td>0</td>\n",
       "      <td>0</td>\n",
       "      <td>0</td>\n",
       "    </tr>\n",
       "    <tr>\n",
       "      <th>...</th>\n",
       "      <th>...</th>\n",
       "      <td>...</td>\n",
       "      <td>...</td>\n",
       "      <td>...</td>\n",
       "      <td>...</td>\n",
       "      <td>...</td>\n",
       "      <td>...</td>\n",
       "      <td>...</td>\n",
       "      <td>...</td>\n",
       "      <td>...</td>\n",
       "      <td>...</td>\n",
       "      <td>...</td>\n",
       "      <td>...</td>\n",
       "      <td>...</td>\n",
       "      <td>...</td>\n",
       "      <td>...</td>\n",
       "      <td>...</td>\n",
       "      <td>...</td>\n",
       "      <td>...</td>\n",
       "      <td>...</td>\n",
       "      <td>...</td>\n",
       "      <td>...</td>\n",
       "      <td>...</td>\n",
       "      <td>...</td>\n",
       "      <td>...</td>\n",
       "      <td>...</td>\n",
       "      <td>...</td>\n",
       "      <td>...</td>\n",
       "      <td>...</td>\n",
       "      <td>...</td>\n",
       "      <td>...</td>\n",
       "      <td>...</td>\n",
       "      <td>...</td>\n",
       "      <td>...</td>\n",
       "      <td>...</td>\n",
       "      <td>...</td>\n",
       "      <td>...</td>\n",
       "      <td>...</td>\n",
       "      <td>...</td>\n",
       "      <td>...</td>\n",
       "      <td>...</td>\n",
       "      <td>...</td>\n",
       "      <td>...</td>\n",
       "      <td>...</td>\n",
       "      <td>...</td>\n",
       "      <td>...</td>\n",
       "      <td>...</td>\n",
       "      <td>...</td>\n",
       "    </tr>\n",
       "    <tr>\n",
       "      <th rowspan=\"2\" valign=\"top\">GACBB;O</th>\n",
       "      <th>0</th>\n",
       "      <td>0</td>\n",
       "      <td>0</td>\n",
       "      <td>0</td>\n",
       "      <td>1</td>\n",
       "      <td>1</td>\n",
       "      <td>0</td>\n",
       "      <td>0</td>\n",
       "      <td>0</td>\n",
       "      <td>0</td>\n",
       "      <td>1</td>\n",
       "      <td>0</td>\n",
       "      <td>1</td>\n",
       "      <td>0</td>\n",
       "      <td>1</td>\n",
       "      <td>0</td>\n",
       "      <td>0</td>\n",
       "      <td>0</td>\n",
       "      <td>0</td>\n",
       "      <td>0</td>\n",
       "      <td>0</td>\n",
       "      <td>0</td>\n",
       "      <td>0</td>\n",
       "      <td>0</td>\n",
       "      <td>0</td>\n",
       "      <td>0</td>\n",
       "      <td>0</td>\n",
       "      <td>0</td>\n",
       "      <td>0</td>\n",
       "      <td>0</td>\n",
       "      <td>36.9</td>\n",
       "      <td>1.22</td>\n",
       "      <td>22.34</td>\n",
       "      <td>54.0</td>\n",
       "      <td>18.0</td>\n",
       "      <td>1.43</td>\n",
       "      <td>7.0</td>\n",
       "      <td>0.134</td>\n",
       "      <td>33.0</td>\n",
       "      <td>0</td>\n",
       "      <td>1</td>\n",
       "      <td>267.9</td>\n",
       "      <td>14.8</td>\n",
       "      <td>62</td>\n",
       "      <td>0</td>\n",
       "      <td>0</td>\n",
       "      <td>0</td>\n",
       "      <td>0</td>\n",
       "    </tr>\n",
       "    <tr>\n",
       "      <th>1</th>\n",
       "      <td>0</td>\n",
       "      <td>0</td>\n",
       "      <td>0</td>\n",
       "      <td>1</td>\n",
       "      <td>1</td>\n",
       "      <td>0</td>\n",
       "      <td>0</td>\n",
       "      <td>0</td>\n",
       "      <td>0</td>\n",
       "      <td>1</td>\n",
       "      <td>0</td>\n",
       "      <td>1</td>\n",
       "      <td>0</td>\n",
       "      <td>1</td>\n",
       "      <td>0</td>\n",
       "      <td>0</td>\n",
       "      <td>0</td>\n",
       "      <td>0</td>\n",
       "      <td>0</td>\n",
       "      <td>0</td>\n",
       "      <td>0</td>\n",
       "      <td>0</td>\n",
       "      <td>0</td>\n",
       "      <td>0</td>\n",
       "      <td>0</td>\n",
       "      <td>0</td>\n",
       "      <td>0</td>\n",
       "      <td>0</td>\n",
       "      <td>0</td>\n",
       "      <td>36.5</td>\n",
       "      <td>1.65</td>\n",
       "      <td>244.03</td>\n",
       "      <td>NaN</td>\n",
       "      <td>17.0</td>\n",
       "      <td>3.78</td>\n",
       "      <td>7.2</td>\n",
       "      <td>0.210</td>\n",
       "      <td>41.2</td>\n",
       "      <td>0</td>\n",
       "      <td>5</td>\n",
       "      <td>NaN</td>\n",
       "      <td>13.4</td>\n",
       "      <td>62</td>\n",
       "      <td>0</td>\n",
       "      <td>0</td>\n",
       "      <td>0</td>\n",
       "      <td>0</td>\n",
       "    </tr>\n",
       "    <tr>\n",
       "      <th rowspan=\"3\" valign=\"top\">GACXAAB</th>\n",
       "      <th>0</th>\n",
       "      <td>1</td>\n",
       "      <td>0</td>\n",
       "      <td>1</td>\n",
       "      <td>1</td>\n",
       "      <td>0</td>\n",
       "      <td>1</td>\n",
       "      <td>1</td>\n",
       "      <td>1</td>\n",
       "      <td>1</td>\n",
       "      <td>1</td>\n",
       "      <td>0</td>\n",
       "      <td>0</td>\n",
       "      <td>0</td>\n",
       "      <td>1</td>\n",
       "      <td>0</td>\n",
       "      <td>0</td>\n",
       "      <td>1</td>\n",
       "      <td>0</td>\n",
       "      <td>0</td>\n",
       "      <td>0</td>\n",
       "      <td>0</td>\n",
       "      <td>0</td>\n",
       "      <td>0</td>\n",
       "      <td>0</td>\n",
       "      <td>0</td>\n",
       "      <td>1</td>\n",
       "      <td>0</td>\n",
       "      <td>0</td>\n",
       "      <td>1</td>\n",
       "      <td>36.5</td>\n",
       "      <td>1.11</td>\n",
       "      <td>21.80</td>\n",
       "      <td>NaN</td>\n",
       "      <td>NaN</td>\n",
       "      <td>4.50</td>\n",
       "      <td>10.6</td>\n",
       "      <td>0.200</td>\n",
       "      <td>18.8</td>\n",
       "      <td>0</td>\n",
       "      <td>1</td>\n",
       "      <td>219.0</td>\n",
       "      <td>11.7</td>\n",
       "      <td>71</td>\n",
       "      <td>0</td>\n",
       "      <td>0</td>\n",
       "      <td>0</td>\n",
       "      <td>0</td>\n",
       "    </tr>\n",
       "    <tr>\n",
       "      <th>1</th>\n",
       "      <td>1</td>\n",
       "      <td>0</td>\n",
       "      <td>1</td>\n",
       "      <td>1</td>\n",
       "      <td>0</td>\n",
       "      <td>1</td>\n",
       "      <td>1</td>\n",
       "      <td>1</td>\n",
       "      <td>1</td>\n",
       "      <td>1</td>\n",
       "      <td>0</td>\n",
       "      <td>0</td>\n",
       "      <td>0</td>\n",
       "      <td>1</td>\n",
       "      <td>0</td>\n",
       "      <td>0</td>\n",
       "      <td>1</td>\n",
       "      <td>0</td>\n",
       "      <td>0</td>\n",
       "      <td>0</td>\n",
       "      <td>0</td>\n",
       "      <td>0</td>\n",
       "      <td>0</td>\n",
       "      <td>0</td>\n",
       "      <td>0</td>\n",
       "      <td>1</td>\n",
       "      <td>0</td>\n",
       "      <td>0</td>\n",
       "      <td>1</td>\n",
       "      <td>36.9</td>\n",
       "      <td>1.60</td>\n",
       "      <td>60.80</td>\n",
       "      <td>75.0</td>\n",
       "      <td>16.0</td>\n",
       "      <td>1.10</td>\n",
       "      <td>10.8</td>\n",
       "      <td>0.270</td>\n",
       "      <td>12.9</td>\n",
       "      <td>0</td>\n",
       "      <td>5</td>\n",
       "      <td>335.0</td>\n",
       "      <td>13.4</td>\n",
       "      <td>71</td>\n",
       "      <td>0</td>\n",
       "      <td>0</td>\n",
       "      <td>0</td>\n",
       "      <td>0</td>\n",
       "    </tr>\n",
       "    <tr>\n",
       "      <th>2</th>\n",
       "      <td>1</td>\n",
       "      <td>0</td>\n",
       "      <td>1</td>\n",
       "      <td>1</td>\n",
       "      <td>0</td>\n",
       "      <td>1</td>\n",
       "      <td>1</td>\n",
       "      <td>1</td>\n",
       "      <td>1</td>\n",
       "      <td>1</td>\n",
       "      <td>0</td>\n",
       "      <td>0</td>\n",
       "      <td>0</td>\n",
       "      <td>1</td>\n",
       "      <td>0</td>\n",
       "      <td>0</td>\n",
       "      <td>1</td>\n",
       "      <td>0</td>\n",
       "      <td>0</td>\n",
       "      <td>0</td>\n",
       "      <td>0</td>\n",
       "      <td>0</td>\n",
       "      <td>0</td>\n",
       "      <td>0</td>\n",
       "      <td>0</td>\n",
       "      <td>1</td>\n",
       "      <td>0</td>\n",
       "      <td>0</td>\n",
       "      <td>1</td>\n",
       "      <td>36.6</td>\n",
       "      <td>3.45</td>\n",
       "      <td>17.20</td>\n",
       "      <td>NaN</td>\n",
       "      <td>15.0</td>\n",
       "      <td>9.30</td>\n",
       "      <td>10.0</td>\n",
       "      <td>0.280</td>\n",
       "      <td>23.0</td>\n",
       "      <td>0</td>\n",
       "      <td>5</td>\n",
       "      <td>279.0</td>\n",
       "      <td>11.6</td>\n",
       "      <td>71</td>\n",
       "      <td>0</td>\n",
       "      <td>0</td>\n",
       "      <td>0</td>\n",
       "      <td>0</td>\n",
       "    </tr>\n",
       "  </tbody>\n",
       "</table>\n",
       "<p>6135 rows × 47 columns</p>\n",
       "</div>"
      ],
      "text/plain": [
       "                 омепразол_stat_control  надропарин кальция_stat_control  \\\n",
       "case    t_point                                                            \n",
       "GACAAcY 0                             1                                1   \n",
       "        1                             1                                1   \n",
       "        2                             1                                1   \n",
       "        3                             1                                1   \n",
       "GACAAnf 0                             1                                1   \n",
       "...                                 ...                              ...   \n",
       "GACBB;O 0                             0                                0   \n",
       "        1                             0                                0   \n",
       "GACXAAB 0                             1                                0   \n",
       "        1                             1                                0   \n",
       "        2                             1                                0   \n",
       "\n",
       "                 эзомепразол_stat_control  амлодипин_stat_control  \\\n",
       "case    t_point                                                     \n",
       "GACAAcY 0                               1                       1   \n",
       "        1                               1                       1   \n",
       "        2                               1                       1   \n",
       "        3                               1                       1   \n",
       "GACAAnf 0                               1                       1   \n",
       "...                                   ...                     ...   \n",
       "GACBB;O 0                               0                       1   \n",
       "        1                               0                       1   \n",
       "GACXAAB 0                               1                       1   \n",
       "        1                               1                       1   \n",
       "        2                               1                       1   \n",
       "\n",
       "                 амброксол_stat_control  домперидон_stat_control  \\\n",
       "case    t_point                                                    \n",
       "GACAAcY 0                             1                        1   \n",
       "        1                             1                        1   \n",
       "        2                             1                        1   \n",
       "        3                             1                        1   \n",
       "GACAAnf 0                             1                        1   \n",
       "...                                 ...                      ...   \n",
       "GACBB;O 0                             1                        0   \n",
       "        1                             1                        0   \n",
       "GACXAAB 0                             0                        1   \n",
       "        1                             0                        1   \n",
       "        2                             0                        1   \n",
       "\n",
       "                 меброфенин_stat_control  технеций_stat_control  \\\n",
       "case    t_point                                                   \n",
       "GACAAcY 0                              1                      1   \n",
       "        1                              1                      1   \n",
       "        2                              1                      1   \n",
       "        3                              1                      1   \n",
       "GACAAnf 0                              1                      1   \n",
       "...                                  ...                    ...   \n",
       "GACBB;O 0                              0                      0   \n",
       "        1                              0                      0   \n",
       "GACXAAB 0                              1                      1   \n",
       "        1                              1                      1   \n",
       "        2                              1                      1   \n",
       "\n",
       "                 мометазон_stat_control  бисопролол_stat_control  \\\n",
       "case    t_point                                                    \n",
       "GACAAcY 0                             1                        1   \n",
       "        1                             1                        1   \n",
       "        2                             1                        1   \n",
       "        3                             1                        1   \n",
       "GACAAnf 0                             1                        1   \n",
       "...                                 ...                      ...   \n",
       "GACBB;O 0                             0                        1   \n",
       "        1                             0                        1   \n",
       "GACXAAB 0                             1                        1   \n",
       "        1                             1                        1   \n",
       "        2                             1                        1   \n",
       "\n",
       "                 дексаметазон_stat_control  гидрохлоротиазид_stat_control  \\\n",
       "case    t_point                                                             \n",
       "GACAAcY 0                                1                              1   \n",
       "        1                                1                              1   \n",
       "        2                                1                              1   \n",
       "        3                                1                              1   \n",
       "GACAAnf 0                                0                              1   \n",
       "...                                    ...                            ...   \n",
       "GACBB;O 0                                0                              1   \n",
       "        1                                0                              1   \n",
       "GACXAAB 0                                0                              0   \n",
       "        1                                0                              0   \n",
       "        2                                0                              0   \n",
       "\n",
       "                 гидроксихлорохин_stat_control  рабепразол_stat_control  \\\n",
       "case    t_point                                                           \n",
       "GACAAcY 0                                    0                        0   \n",
       "        1                                    0                        0   \n",
       "        2                                    0                        0   \n",
       "        3                                    0                        0   \n",
       "GACAAnf 0                                    1                        0   \n",
       "...                                        ...                      ...   \n",
       "GACBB;O 0                                    0                        1   \n",
       "        1                                    0                        1   \n",
       "GACXAAB 0                                    0                        1   \n",
       "        1                                    0                        1   \n",
       "        2                                    0                        1   \n",
       "\n",
       "                 эноксапарин натрия_stat_control  периндоприл_stat_control  \\\n",
       "case    t_point                                                              \n",
       "GACAAcY 0                                      0                         0   \n",
       "        1                                      0                         0   \n",
       "        2                                      0                         0   \n",
       "        3                                      0                         0   \n",
       "GACAAnf 0                                      0                         0   \n",
       "...                                          ...                       ...   \n",
       "GACBB;O 0                                      0                         0   \n",
       "        1                                      0                         0   \n",
       "GACXAAB 0                                      0                         0   \n",
       "        1                                      0                         0   \n",
       "        2                                      0                         0   \n",
       "\n",
       "                 ацетилцистеин_stat_control  азитромицин_stat_control  \\\n",
       "case    t_point                                                         \n",
       "GACAAcY 0                                 0                         0   \n",
       "        1                                 0                         0   \n",
       "        2                                 0                         0   \n",
       "        3                                 0                         0   \n",
       "GACAAnf 0                                 0                         1   \n",
       "...                                     ...                       ...   \n",
       "GACBB;O 0                                 0                         0   \n",
       "        1                                 0                         0   \n",
       "GACXAAB 0                                 1                         0   \n",
       "        1                                 1                         0   \n",
       "        2                                 1                         0   \n",
       "\n",
       "                 валсартан_stat_control  метилпреднизолон_stat_control  \\\n",
       "case    t_point                                                          \n",
       "GACAAcY 0                             0                              1   \n",
       "        1                             0                              1   \n",
       "        2                             0                              1   \n",
       "        3                             0                              1   \n",
       "GACAAnf 0                             0                              0   \n",
       "...                                 ...                            ...   \n",
       "GACBB;O 0                             0                              0   \n",
       "        1                             0                              0   \n",
       "GACXAAB 0                             0                              0   \n",
       "        1                             0                              0   \n",
       "        2                             0                              0   \n",
       "\n",
       "                 лоратадин_stat_control  хлорохин_stat_control  \\\n",
       "case    t_point                                                  \n",
       "GACAAcY 0                             0                      0   \n",
       "        1                             0                      0   \n",
       "        2                             0                      0   \n",
       "        3                             0                      0   \n",
       "GACAAnf 0                             0                      1   \n",
       "...                                 ...                    ...   \n",
       "GACBB;O 0                             0                      0   \n",
       "        1                             0                      0   \n",
       "GACXAAB 0                             0                      0   \n",
       "        1                             0                      0   \n",
       "        2                             0                      0   \n",
       "\n",
       "                 натрия хлорид_stat_control  индапамид_stat_control  \\\n",
       "case    t_point                                                       \n",
       "GACAAcY 0                                 0                       0   \n",
       "        1                                 0                       0   \n",
       "        2                                 0                       0   \n",
       "        3                                 0                       0   \n",
       "GACAAnf 0                                 0                       0   \n",
       "...                                     ...                     ...   \n",
       "GACBB;O 0                                 0                       0   \n",
       "        1                                 0                       0   \n",
       "GACXAAB 0                                 0                       0   \n",
       "        1                                 0                       0   \n",
       "        2                                 0                       0   \n",
       "\n",
       "                 преднизолон_stat_control  аторвастатин_stat_control  \\\n",
       "case    t_point                                                        \n",
       "GACAAcY 0                               1                          0   \n",
       "        1                               1                          0   \n",
       "        2                               1                          0   \n",
       "        3                               1                          0   \n",
       "GACAAnf 0                               0                          0   \n",
       "...                                   ...                        ...   \n",
       "GACBB;O 0                               0                          0   \n",
       "        1                               0                          0   \n",
       "GACXAAB 0                               0                          1   \n",
       "        1                               0                          1   \n",
       "        2                               0                          1   \n",
       "\n",
       "                 декстран_stat_control  лизиноприл_stat_control  \\\n",
       "case    t_point                                                   \n",
       "GACAAcY 0                            0                        0   \n",
       "        1                            0                        0   \n",
       "        2                            0                        0   \n",
       "        3                            0                        0   \n",
       "GACAAnf 0                            0                        0   \n",
       "...                                ...                      ...   \n",
       "GACBB;O 0                            0                        0   \n",
       "        1                            0                        0   \n",
       "GACXAAB 0                            0                        0   \n",
       "        1                            0                        0   \n",
       "        2                            0                        0   \n",
       "\n",
       "                 лозартан_stat_control  Температура_dinam_fact  \\\n",
       "case    t_point                                                  \n",
       "GACAAcY 0                            1                    36.7   \n",
       "        1                            1                    36.3   \n",
       "        2                            1                    36.6   \n",
       "        3                            1                    36.5   \n",
       "GACAAnf 0                            0                     NaN   \n",
       "...                                ...                     ...   \n",
       "GACBB;O 0                            0                    36.9   \n",
       "        1                            0                    36.5   \n",
       "GACXAAB 0                            1                    36.5   \n",
       "        1                            1                    36.9   \n",
       "        2                            1                    36.6   \n",
       "\n",
       "                 Лимфоциты#_dinam_fact  АСТ_dinam_fact  ЧСС_dinam_fact  \\\n",
       "case    t_point                                                          \n",
       "GACAAcY 0                         1.93           27.90            74.0   \n",
       "        1                         2.00           25.70            71.0   \n",
       "        2                         2.13           32.00             NaN   \n",
       "        3                         2.12           27.00            71.0   \n",
       "GACAAnf 0                         1.21           20.70            55.0   \n",
       "...                                ...             ...             ...   \n",
       "GACBB;O 0                         1.22           22.34            54.0   \n",
       "        1                         1.65          244.03             NaN   \n",
       "GACXAAB 0                         1.11           21.80             NaN   \n",
       "        1                         1.60           60.80            75.0   \n",
       "        2                         3.45           17.20             NaN   \n",
       "\n",
       "                 ЧДД_dinam_fact  Билирубин общий_dinam_fact  \\\n",
       "case    t_point                                               \n",
       "GACAAcY 0                  24.0                       15.30   \n",
       "        1                  19.0                       12.10   \n",
       "        2                  18.0                         NaN   \n",
       "        3                  18.0                         NaN   \n",
       "GACAAnf 0                  22.0                        7.80   \n",
       "...                         ...                         ...   \n",
       "GACBB;O 0                  18.0                        1.43   \n",
       "        1                  17.0                        3.78   \n",
       "GACXAAB 0                   NaN                        4.50   \n",
       "        1                  16.0                        1.10   \n",
       "        2                  15.0                        9.30   \n",
       "\n",
       "                 MPV- Средн.объем тромбоцитов_dinam_fact  \\\n",
       "case    t_point                                            \n",
       "GACAAcY 0                                           11.2   \n",
       "        1                                           10.6   \n",
       "        2                                           11.0   \n",
       "        3                                           11.4   \n",
       "GACAAnf 0                                            8.1   \n",
       "...                                                  ...   \n",
       "GACBB;O 0                                            7.0   \n",
       "        1                                            7.2   \n",
       "GACXAAB 0                                           10.6   \n",
       "        1                                           10.8   \n",
       "        2                                           10.0   \n",
       "\n",
       "                 PCT- Тромбокрит_dinam_fact  Лимфоциты%_dinam_fact  \\\n",
       "case    t_point                                                      \n",
       "GACAAcY 0                             0.100                   48.3   \n",
       "        1                             0.160                   30.7   \n",
       "        2                             0.190                   23.1   \n",
       "        3                             0.100                   24.1   \n",
       "GACAAnf 0                             0.201                   24.1   \n",
       "...                                     ...                    ...   \n",
       "GACBB;O 0                             0.134                   33.0   \n",
       "        1                             0.210                   41.2   \n",
       "GACXAAB 0                             0.200                   18.8   \n",
       "        1                             0.270                   12.9   \n",
       "        2                             0.280                   23.0   \n",
       "\n",
       "                 снижение_сознания_dinam_fact  \\\n",
       "case    t_point                                 \n",
       "GACAAcY 0                                   0   \n",
       "        1                                   0   \n",
       "        2                                   0   \n",
       "        3                                   0   \n",
       "GACAAnf 0                                   0   \n",
       "...                                       ...   \n",
       "GACBB;O 0                                   0   \n",
       "        1                                   0   \n",
       "GACXAAB 0                                   0   \n",
       "        1                                   0   \n",
       "        2                                   0   \n",
       "\n",
       "                 Cтепень тяжести по КТ_dinam_fact  \\\n",
       "case    t_point                                     \n",
       "GACAAcY 0                                       2   \n",
       "        1                                       2   \n",
       "        2                                       5   \n",
       "        3                                       5   \n",
       "GACAAnf 0                                       1   \n",
       "...                                           ...   \n",
       "GACBB;O 0                                       1   \n",
       "        1                                       5   \n",
       "GACXAAB 0                                       1   \n",
       "        1                                       5   \n",
       "        2                                       5   \n",
       "\n",
       "                 Лактатдегидрогеназа_dinam_fact  \\\n",
       "case    t_point                                   \n",
       "GACAAcY 0                                 245.0   \n",
       "        1                                 315.0   \n",
       "        2                                 290.0   \n",
       "        3                                 274.0   \n",
       "GACAAnf 0                                 189.0   \n",
       "...                                         ...   \n",
       "GACBB;O 0                                 267.9   \n",
       "        1                                   NaN   \n",
       "GACXAAB 0                                 219.0   \n",
       "        1                                 335.0   \n",
       "        2                                 279.0   \n",
       "\n",
       "                 PDW- Индекс расп.по объему тр._dinam_fact  age_stat_fact  \\\n",
       "case    t_point                                                             \n",
       "GACAAcY 0                                             14.0             81   \n",
       "        1                                             12.8             81   \n",
       "        2                                             13.5             81   \n",
       "        3                                             13.1             81   \n",
       "GACAAnf 0                                             17.7             73   \n",
       "...                                                    ...            ...   \n",
       "GACBB;O 0                                             14.8             62   \n",
       "        1                                             13.4             62   \n",
       "GACXAAB 0                                             11.7             71   \n",
       "        1                                             13.4             71   \n",
       "        2                                             11.6             71   \n",
       "\n",
       "                 трансфузия_dinam_control  оксигенотерапия_dinam_control  \\\n",
       "case    t_point                                                            \n",
       "GACAAcY 0                               0                              1   \n",
       "        1                               0                              1   \n",
       "        2                               0                              1   \n",
       "        3                               0                              1   \n",
       "GACAAnf 0                               0                              0   \n",
       "...                                   ...                            ...   \n",
       "GACBB;O 0                               0                              0   \n",
       "        1                               0                              0   \n",
       "GACXAAB 0                               0                              0   \n",
       "        1                               0                              0   \n",
       "        2                               0                              0   \n",
       "\n",
       "                 НИВЛ_dinam_control  ИВЛ_dinam_control  \n",
       "case    t_point                                         \n",
       "GACAAcY 0                         0                  0  \n",
       "        1                         0                  0  \n",
       "        2                         0                  0  \n",
       "        3                         0                  0  \n",
       "GACAAnf 0                         0                  0  \n",
       "...                             ...                ...  \n",
       "GACBB;O 0                         0                  0  \n",
       "        1                         0                  0  \n",
       "GACXAAB 0                         0                  0  \n",
       "        1                         0                  0  \n",
       "        2                         0                  0  \n",
       "\n",
       "[6135 rows x 47 columns]"
      ]
     },
     "execution_count": 12,
     "metadata": {},
     "output_type": "execute_result"
    }
   ],
   "source": [
    "df"
   ]
  },
  {
   "attachments": {},
   "cell_type": "markdown",
   "id": "b306961d",
   "metadata": {},
   "source": [
    "Разберем отдельно параметры"
   ]
  },
  {
   "attachments": {},
   "cell_type": "markdown",
   "id": "20b469a3-985b-4c15-8b1b-b1f2810bef60",
   "metadata": {
    "tags": []
   },
   "source": [
    "### Лимфоциты\n",
    "Исследуем зависимость параметров Лимфоциты# и Лимфоциты%. Проанализируем их"
   ]
  },
  {
   "cell_type": "code",
   "execution_count": 13,
   "id": "64f94b8f-aaa1-4d08-a2dc-61dfa4e8c117",
   "metadata": {},
   "outputs": [
    {
     "data": {
      "text/plain": [
       "Text(0.5, 1.0, 'Зависимость распределения \\n Лимфоциты% от Лимфоциты#')"
      ]
     },
     "execution_count": 13,
     "metadata": {},
     "output_type": "execute_result"
    },
    {
     "data": {
      "image/png": "[encoded data removed]",
      "text/plain": [
       "<Figure size 432x288 with 1 Axes>"
      ]
     },
     "metadata": {
      "needs_background": "light"
     },
     "output_type": "display_data"
    }
   ],
   "source": [
    "data = df[[\"Лимфоциты#_dinam_fact\", \"Лимфоциты%_dinam_fact\"]].to_numpy()\n",
    "plt.scatter(data[:,0], data[:, 1])\n",
    "plt.title(\"Зависимость распределения \\n Лимфоциты% от Лимфоциты#\")"
   ]
  },
  {
   "cell_type": "code",
   "execution_count": 14,
   "id": "a2ad3048-0024-4fa1-9788-2dadb00e0b3a",
   "metadata": {
    "tags": []
   },
   "outputs": [
    {
     "data": {
      "text/plain": [
       "Text(0.5, 1.0, 'Распределение величины Лимфоциты#_dinam_fact')"
      ]
     },
     "execution_count": 14,
     "metadata": {},
     "output_type": "execute_result"
    },
    {
     "data": {
      "image/png": "[encoded data removed]",
      "text/plain": [
       "<Figure size 432x288 with 1 Axes>"
      ]
     },
     "metadata": {
      "needs_background": "light"
     },
     "output_type": "display_data"
    }
   ],
   "source": [
    "data = df[[\"Лимфоциты#_dinam_fact\", \"Лимфоциты%_dinam_fact\"]].to_numpy()\n",
    "data = [df[(df[\"Лимфоциты%_dinam_fact\"]>i) & (df[\"Лимфоциты%_dinam_fact\"]<i+5)][\"Лимфоциты#_dinam_fact\"] for i in range(0, 100, 5)]\n",
    "plt.boxplot(data)\n",
    "plt.title(\"Распределение величины Лимфоциты#_dinam_fact\")"
   ]
  },
  {
   "cell_type": "code",
   "execution_count": 15,
   "id": "e867f0a0-56db-4fcf-a2d9-c7487a3b55fe",
   "metadata": {
    "tags": []
   },
   "outputs": [
    {
     "data": {
      "text/plain": [
       "Text(0.5, 1.0, 'Распределение величины Лимфоциты%_dinam_fact')"
      ]
     },
     "execution_count": 15,
     "metadata": {},
     "output_type": "execute_result"
    },
    {
     "data": {
      "image/png": "[encoded data removed]",
      "text/plain": [
       "<Figure size 432x288 with 1 Axes>"
      ]
     },
     "metadata": {
      "needs_background": "light"
     },
     "output_type": "display_data"
    }
   ],
   "source": [
    "data = df[[\"Лимфоциты#_dinam_fact\", \"Лимфоциты%_dinam_fact\"]].to_numpy()\n",
    "data = [df[(df[\"Лимфоциты#_dinam_fact\"]>i) & (df[\"Лимфоциты#_dinam_fact\"]<i+1)][\"Лимфоциты%_dinam_fact\"] for i in range(0, 40, 1)]\n",
    "plt.boxplot(data)\n",
    "plt.title(\"Распределение величины Лимфоциты%_dinam_fact\")"
   ]
  },
  {
   "cell_type": "markdown",
   "id": "e88c0836-6d3c-4600-88a5-70a641e08feb",
   "metadata": {
    "tags": []
   },
   "source": [
    "Получается, что чистой корреляции у них нет. Однако чем выше количество лимфоцитов, тем больше их часть среди других лейкоцитов. Корреляцию Пирсона получаем 0.35 (P < 1e-159)"
   ]
  },
  {
   "cell_type": "code",
   "execution_count": 16,
   "id": "6ef053c0-91dc-4780-9819-819a28708584",
   "metadata": {
    "tags": []
   },
   "outputs": [
    {
     "data": {
      "text/plain": [
       "PearsonRResult(statistic=0.35366027434981473, pvalue=5.609278436072053e-159)"
      ]
     },
     "execution_count": 16,
     "metadata": {},
     "output_type": "execute_result"
    }
   ],
   "source": [
    "from scipy.stats import pearsonr\n",
    "data = df[[\"Лимфоциты#_dinam_fact\", \"Лимфоциты%_dinam_fact\"]].to_numpy()\n",
    "data = data[~np.isnan(data[:, 0]) & ~np.isnan(data[:, 1]) , :]\n",
    "pearsonr(data[:, 0], data[:, 1])"
   ]
  },
  {
   "cell_type": "markdown",
   "id": "42c85fde-4d37-4c52-acbe-9377524dae0f",
   "metadata": {
    "tags": []
   },
   "source": [
    "Получили, что зависимость есть, но она не линейная, так что нужно оставить оба параметра"
   ]
  },
  {
   "attachments": {},
   "cell_type": "markdown",
   "id": "1de49768",
   "metadata": {},
   "source": [
    "### Степень тяжести по КТ \n"
   ]
  },
  {
   "cell_type": "code",
   "execution_count": 17,
   "id": "d9bab4af",
   "metadata": {},
   "outputs": [
    {
     "data": {
      "text/plain": [
       "5    3242\n",
       "2    1248\n",
       "1     730\n",
       "3     693\n",
       "4     194\n",
       "0      28\n",
       "Name: Cтепень тяжести по КТ_dinam_fact, dtype: int64"
      ]
     },
     "execution_count": 17,
     "metadata": {},
     "output_type": "execute_result"
    }
   ],
   "source": [
    "df[\"Cтепень тяжести по КТ_dinam_fact\"].reset_index()[\"Cтепень тяжести по КТ_dinam_fact\"].value_counts()"
   ]
  },
  {
   "attachments": {},
   "cell_type": "markdown",
   "id": "4e6b4056",
   "metadata": {},
   "source": [
    "Не особо понятно что такое 0 степень тяжести, такая степень 28 раз встречается. 5 - самая распространенная"
   ]
  },
  {
   "attachments": {},
   "cell_type": "markdown",
   "id": "9d7e7294",
   "metadata": {},
   "source": [
    "Параметр является мультиклассовым, можно использовать как классификацию, так и регрессию, так как в какой то степени есть порядковый смысл между переменными"
   ]
  },
  {
   "attachments": {},
   "cell_type": "markdown",
   "id": "1168af6b",
   "metadata": {},
   "source": [
    "### Снижение сознания"
   ]
  },
  {
   "cell_type": "code",
   "execution_count": 18,
   "id": "7afb3a14",
   "metadata": {},
   "outputs": [
    {
     "data": {
      "text/plain": [
       "0    5780\n",
       "2     354\n",
       "1       1\n",
       "Name: снижение_сознания_dinam_fact, dtype: int64"
      ]
     },
     "execution_count": 18,
     "metadata": {},
     "output_type": "execute_result"
    }
   ],
   "source": [
    "df[\"снижение_сознания_dinam_fact\"].reset_index()[\"снижение_сознания_dinam_fact\"].value_counts()"
   ]
  },
  {
   "attachments": {},
   "cell_type": "markdown",
   "id": "e2763779",
   "metadata": {},
   "source": [
    "Спокойно можно удалить 1, так как существует одна запись, и заменить 2 на 1. Также возможно использовать вероятности снижения сознания"
   ]
  },
  {
   "attachments": {},
   "cell_type": "markdown",
   "id": "7b6746c0-944a-423a-805d-29a3a79def38",
   "metadata": {
    "tags": []
   },
   "source": [
    "## Распределения параметров"
   ]
  },
  {
   "cell_type": "code",
   "execution_count": 19,
   "id": "0aefeeb5-d4a5-49cd-b02b-8beeda721466",
   "metadata": {
    "tags": []
   },
   "outputs": [
    {
     "data": {
      "image/png": "[encoded data removed]",
      "text/plain": [
       "<Figure size 1080x1080 with 15 Axes>"
      ]
     },
     "metadata": {
      "needs_background": "light"
     },
     "output_type": "display_data"
    }
   ],
   "source": [
    "import seaborn as sns\n",
    "figure, ax = plt.subplots(3, 5, figsize=(15, 15))\n",
    "for i in range(13):\n",
    "    sns.histplot(df.iloc[:, 29+i], color=\"skyblue\", kde=True, ax=ax[i//5, i%5])"
   ]
  },
  {
   "cell_type": "markdown",
   "id": "02e7f0a9-478d-4495-93ab-4273f16627db",
   "metadata": {},
   "source": [
    "## Обучение"
   ]
  },
  {
   "cell_type": "markdown",
   "id": "2df9ebd8-365a-4a4d-a25d-06d03b5859e7",
   "metadata": {},
   "source": [
    "Теперь разделим датасет на окна - одна запись как фича, следующая за ней как таргет. И среди всех записей пациента проведем такую операцию"
   ]
  },
  {
   "cell_type": "markdown",
   "id": "17f26757-d667-43b5-8d94-e24c0c78858a",
   "metadata": {
    "tags": []
   },
   "source": [
    "Выберем значения таргета без nan, и каждому из 13-ти параметров соотнесем пары - вектор параметров X и значение Y параметра на следующей неделе. "
   ]
  },
  {
   "cell_type": "code",
   "execution_count": 20,
   "id": "639433cd-50f3-4178-87fe-17f45dcf164b",
   "metadata": {
    "tags": []
   },
   "outputs": [],
   "source": [
    "def get_windows(df, window_size=2):\n",
    "    X , y = [], []\n",
    "    for i in df.index.levels[0]:\n",
    "        try:\n",
    "            for j in range(df.loc[i].index.size - window_size + 1):\n",
    "                try:\n",
    "                    X.append(df.loc[(i, j):(i, j+window_size-1)])\n",
    "                    y.append(df.loc[(i, j+window_size)].iloc[29:42])\n",
    "                except:\n",
    "                    pass\n",
    "        except:\n",
    "            pass\n",
    "    X, y = np.array(X), np.array(y)\n",
    "    data = {param: [] for param in dynamic_columns}\n",
    "\n",
    "    for i in range(len(data)):\n",
    "        X_temp, y_temp = [], []\n",
    "        for j in range(y.shape[0]):\n",
    "            if not np.isnan(y[j][i]):\n",
    "                X_temp.append(X[j])\n",
    "                y_temp.append(y[j][i])\n",
    "        data[dynamic_columns[i]] = {\"X\": np.array(X_temp), \"y\": np.array(y_temp)}\n",
    "\n",
    "    return data\n",
    "data = get_windows(df, 2)"
   ]
  },
  {
   "cell_type": "code",
   "execution_count": 21,
   "id": "3b9fcf99-cea3-4121-b188-6ea80f267ba5",
   "metadata": {
    "tags": []
   },
   "outputs": [
    {
     "data": {
      "text/plain": [
       "array([[1.00e+00, 1.00e+00, 1.00e+00, 0.00e+00, 1.00e+00, 1.00e+00,\n",
       "        1.00e+00, 1.00e+00, 1.00e+00, 0.00e+00, 0.00e+00, 0.00e+00,\n",
       "        0.00e+00, 0.00e+00, 0.00e+00, 0.00e+00, 0.00e+00, 0.00e+00,\n",
       "        0.00e+00, 0.00e+00, 1.00e+00, 0.00e+00, 1.00e+00, 0.00e+00,\n",
       "        0.00e+00, 0.00e+00, 1.00e+00, 0.00e+00, 0.00e+00, 3.79e+01,\n",
       "        7.30e-01, 2.76e+01, 6.10e+01, 2.50e+01, 5.00e+00, 1.07e+01,\n",
       "        1.90e-01, 9.70e+00, 0.00e+00, 1.00e+00, 2.55e+02, 1.18e+01,\n",
       "        5.90e+01, 0.00e+00, 0.00e+00, 0.00e+00, 0.00e+00],\n",
       "       [1.00e+00, 1.00e+00, 1.00e+00, 0.00e+00, 1.00e+00, 1.00e+00,\n",
       "        1.00e+00, 1.00e+00, 1.00e+00, 0.00e+00, 0.00e+00, 0.00e+00,\n",
       "        0.00e+00, 0.00e+00, 0.00e+00, 0.00e+00, 0.00e+00, 0.00e+00,\n",
       "        0.00e+00, 0.00e+00, 1.00e+00, 0.00e+00, 1.00e+00, 0.00e+00,\n",
       "        0.00e+00, 0.00e+00, 1.00e+00, 0.00e+00, 0.00e+00, 3.62e+01,\n",
       "        2.04e+00,      nan, 8.40e+01, 2.00e+01,      nan, 1.03e+01,\n",
       "        3.60e-01, 1.76e+01, 0.00e+00, 5.00e+00,      nan, 1.24e+01,\n",
       "        5.90e+01, 0.00e+00, 0.00e+00, 0.00e+00, 0.00e+00]])"
      ]
     },
     "execution_count": 21,
     "metadata": {},
     "output_type": "execute_result"
    }
   ],
   "source": [
    "data['Лимфоциты#_dinam_fact'][\"X\"][3]"
   ]
  },
  {
   "cell_type": "code",
   "execution_count": 22,
   "id": "5ac705ea-202b-4512-9e3c-c381233b0808",
   "metadata": {
    "tags": []
   },
   "outputs": [
    {
     "data": {
      "text/plain": [
       "2.13"
      ]
     },
     "execution_count": 22,
     "metadata": {},
     "output_type": "execute_result"
    }
   ],
   "source": [
    "data['Лимфоциты#_dinam_fact'][\"y\"][0]"
   ]
  },
  {
   "cell_type": "markdown",
   "id": "6bc9e3a1-2b76-45a0-8a3a-f50b01546fba",
   "metadata": {
    "tags": []
   },
   "source": [
    "Теперь посмотрим, сколько пар для обучения у нас присутствует"
   ]
  },
  {
   "cell_type": "code",
   "execution_count": 23,
   "id": "305849d8-872b-4507-aa54-9d924e2747c4",
   "metadata": {
    "tags": []
   },
   "outputs": [
    {
     "data": {
      "image/png": "[encoded data removed]",
      "text/plain": [
       "<Figure size 864x432 with 1 Axes>"
      ]
     },
     "metadata": {
      "needs_background": "light"
     },
     "output_type": "display_data"
    }
   ],
   "source": [
    "def get_samples_for_parameters(data):\n",
    "  stat_nan = {k:len(data[k][\"X\"]) for k in data}\n",
    "  l = stat_nan.keys()\n",
    "  h = stat_nan.values()\n",
    "  plt.figure(figsize=(12, 6))\n",
    "  plt.bar(x=l, height=h)\n",
    "  plt.xticks(rotation=90)\n",
    "  plt.title(\"Number of trainig elements for each of parameters\")\n",
    "  for key_idx, key in enumerate(stat_nan):\n",
    "    plt.text(key_idx-0.3,stat_nan[key]+50,stat_nan[key])\n",
    "\n",
    "get_samples_for_parameters(data)"
   ]
  },
  {
   "attachments": {},
   "cell_type": "markdown",
   "id": "8f652eee-0ac8-44df-b95f-d474d72ee496",
   "metadata": {},
   "source": [
    "Нам важно измерить качество регрессии. Будем вычислять R2, MSE, mAPE и 95% интервалы этих метрик. Для доверительных интервалов будем использовать значения метрик модели на 5 фолдах (иными словами кросс валидацию) https://www.codecamp.ru/blog/confidence-intervals-python/"
   ]
  },
  {
   "cell_type": "code",
   "execution_count": 24,
   "id": "36d9e7b2-c2ef-4590-b50f-95b154c9e1dc",
   "metadata": {
    "tags": []
   },
   "outputs": [],
   "source": [
    "import scipy.stats as st\n",
    "\n",
    "# Calculate R2, MSE, MAPE\n",
    "def get_scores(y_real, y_pred):\n",
    "    scores = {}\n",
    "    scores[\"r2\"] = r2_score(y_real, y_pred)\n",
    "    scores[\"mse\"] = mean_squared_error(y_real, y_pred)\n",
    "    scores[\"mape\"] = mean_absolute_percentage_error(y_real, y_pred)\n",
    "    return scores\n",
    "\n",
    "# Here we use composed pipeline to cross-validate it. I use 5-fold cross validation\n",
    "def evaluate_with_intervals(model, X=None, y=None, folds=5, fedot=False, rnn_args={}):\n",
    "    scoring_results = {\"r2\":[], \"mape\":[], \"mse\":[]}\n",
    "    kf = KFold(folds)\n",
    "    k = 0\n",
    "    if (fedot):\n",
    "        for train, test in tqdm(kf.split(X, y), colour=\"red\"): \n",
    "            indata_train = InputData(idx=np.arange(0, X[train].shape[0]), \n",
    "              features=X[train],\n",
    "              target=y[train],\n",
    "              data_type=DataTypesEnum.table,\n",
    "              task=Task(TaskTypesEnum.regression))\n",
    "            model.unfit()\n",
    "            model.fit(indata_train)\n",
    "            indata_test = InputData(idx=np.arange(0, X[test].shape[0]), \n",
    "              features=pd.DataFrame(X[test]),\n",
    "              data_type=DataTypesEnum.table,\n",
    "              task=Task(TaskTypesEnum.regression))\n",
    "            y_pred = model.predict(indata_test).predict\n",
    "            validation_data = get_scores(y[test], y_pred)\n",
    "            for sc in scoring_results:\n",
    "                scoring_results[sc].append(validation_data[sc])\n",
    "            k+=1\n",
    "    else:\n",
    "        for train, test in tqdm(kf.split(X, y), colour=\"red\"):\n",
    "            model.fit(X[train], y[train], **rnn_args)\n",
    "            y_pred = model.predict(X[test])\n",
    "            validation_data = get_scores( y[test], y_pred)\n",
    "            for sc in scoring_results:\n",
    "                scoring_results[sc].append(validation_data[sc])\n",
    "            k+=1\n",
    "    metrics_dataframe = {}\n",
    "    for metric in scoring_results:\n",
    "        scoring_result = scoring_results[metric]\n",
    "        interval = st.t.interval(confidence=0.95 , df=len(scoring_result), loc=np.mean(scoring_result), scale=st.sem(scoring_result)) #95% interval\n",
    "        metrics_dataframe[\"right_\"+metric] = min(1, interval[1][0])\n",
    "        metrics_dataframe[\"left_\"+metric] = interval[0][0]\n",
    "        metrics_dataframe[\"mean_\"+metric] = ((interval[1]+interval[0])/2)[0]\n",
    "    return metrics_dataframe\n",
    "\n"
   ]
  },
  {
   "cell_type": "markdown",
   "id": "54008ad7-b5cd-4fb8-8a90-f295d2c03bac",
   "metadata": {},
   "source": [
    "Чтобы обьективно понимать, что будущие модели будут улавливать закономерности а не рандомно делать свои ответы, попробуем возвращать только среднее значение параметра по всем возможным наблюдениям и после сравним эффективность такого подхода с моделью машинного обучения"
   ]
  },
  {
   "attachments": {},
   "cell_type": "markdown",
   "id": "6df23f21",
   "metadata": {},
   "source": [
    "### Удаление NaN"
   ]
  },
  {
   "attachments": {},
   "cell_type": "markdown",
   "id": "97f2bbe3",
   "metadata": {},
   "source": [
    "Для моделей необходимо убрать пропущенные значения. Воспользуемся простой вставкой среднего значения и IterativeImputer"
   ]
  },
  {
   "cell_type": "code",
   "execution_count": 25,
   "id": "dbd0c91e",
   "metadata": {},
   "outputs": [
    {
     "data": {
      "text/plain": [
       "{'Температура_dinam_fact': LinearRegression(),\n",
       " 'Лимфоциты#_dinam_fact': LinearRegression(),\n",
       " 'АСТ_dinam_fact': LinearRegression(),\n",
       " 'ЧСС_dinam_fact': LinearRegression(),\n",
       " 'ЧДД_dinam_fact': LinearRegression(),\n",
       " 'Билирубин общий_dinam_fact': LinearRegression(),\n",
       " 'MPV- Средн.объем тромбоцитов_dinam_fact': LinearRegression(),\n",
       " 'PCT- Тромбокрит_dinam_fact': LinearRegression(),\n",
       " 'Лимфоциты%_dinam_fact': LinearRegression(),\n",
       " 'снижение_сознания_dinam_fact': LinearRegression(),\n",
       " 'Cтепень тяжести по КТ_dinam_fact': LinearRegression(),\n",
       " 'Лактатдегидрогеназа_dinam_fact': LinearRegression(),\n",
       " 'PDW- Индекс расп.по объему тр._dinam_fact': LinearRegression()}"
      ]
     },
     "execution_count": 25,
     "metadata": {},
     "output_type": "execute_result"
    }
   ],
   "source": [
    "from sklearn.linear_model import LinearRegression\n",
    "\n",
    "class LinearRegressionClass():\n",
    "    def __init__(self):\n",
    "        self.scaler = StandardScaler()\n",
    "        self.imputer=IterativeImputer(max_iter=50)\n",
    "        self.model = LinearRegression()\n",
    "\n",
    "    def preprocess(self, df, window=2):\n",
    "        df_preprocessed = df.copy()\n",
    "        self.scaler.fit(df_preprocessed.iloc[:, 29:43])\n",
    "        df_preprocessed.iloc[:, 29:43] = self.scaler.transform(df_preprocessed.iloc[:, 29:43])\n",
    "        self.imputer.fit(df_preprocessed.iloc[:, 29:43])\n",
    "        df_preprocessed.iloc[:, 29:43] = self.imputer.transform(df_preprocessed.iloc[:, 29:43])\n",
    "        data = get_windows(df_preprocessed, window)\n",
    "        for i, column in enumerate(data.keys()):\n",
    "            data[column][\"X\"] = data[column][\"X\"].reshape(-1, 47*window)\n",
    "        return data\n",
    "    \n",
    "    def train(self, df, window=2):\n",
    "        data = self.preprocess(df, window)\n",
    "        models = {}\n",
    "        for i, column in enumerate(data.keys()):\n",
    "            X_vec = data[column][\"X\"]\n",
    "            y_vec = data[column][\"y\"]\n",
    "            models[column] = self.model.fit(X_vec, y_vec)\n",
    "        return models\n",
    "    \n",
    "lrclass = LinearRegressionClass()\n",
    "models = lrclass.train(df, 2)\n",
    "models"
   ]
  },
  {
   "attachments": {},
   "cell_type": "markdown",
   "id": "77675ce6",
   "metadata": {},
   "source": [
    "# Train models"
   ]
  },
  {
   "attachments": {},
   "cell_type": "markdown",
   "id": "8c4ad41f",
   "metadata": {},
   "source": [
    "### LinearRegression"
   ]
  },
  {
   "attachments": {},
   "cell_type": "markdown",
   "id": "7e4dd779",
   "metadata": {},
   "source": [
    "опишем классы предобработок. Будем исплоьзовать два вида предобработки - с выстраиванием признаков недель в один вектор и взятии среднего вектора по неделям"
   ]
  },
  {
   "cell_type": "code",
   "execution_count": 26,
   "id": "7970447e",
   "metadata": {},
   "outputs": [],
   "source": [
    "from sklearn.linear_model import LinearRegression\n",
    "\n",
    "class LinearRegressionClass():\n",
    "    def __init__(self):\n",
    "        self.scaler = StandardScaler()\n",
    "        self.imputer=IterativeImputer(max_iter=50)\n",
    "        self.model = LinearRegression()\n",
    "\n",
    "    def preprocess(self, df, window=2):\n",
    "        df_preprocessed = df.copy()\n",
    "        self.scaler.fit(df_preprocessed.iloc[:, 29:43])\n",
    "        df_preprocessed.iloc[:, 29:43] = self.scaler.transform(df_preprocessed.iloc[:, 29:43])\n",
    "        self.imputer.fit(df_preprocessed.iloc[:, 29:43])\n",
    "        df_preprocessed.iloc[:, 29:43] = self.imputer.transform(df_preprocessed.iloc[:, 29:43])\n",
    "        data = get_windows(df_preprocessed, window)\n",
    "        for i, column in enumerate(data.keys()):\n",
    "            data[column][\"X\"] = data[column][\"X\"].reshape(-1, 47*window)\n",
    "        return data\n",
    "    \n",
    "class LinearRegressionClassMean():\n",
    "    def __init__(self):\n",
    "        self.scaler = StandardScaler()\n",
    "        self.imputer=IterativeImputer(max_iter=50)\n",
    "        self.model = LinearRegression()\n",
    "\n",
    "    def preprocess(self, df, window=2):\n",
    "        df_preprocessed = df.copy()\n",
    "        self.scaler.fit(df_preprocessed.iloc[:, 29:43])\n",
    "        df_preprocessed.iloc[:, 29:43] = self.scaler.transform(df_preprocessed.iloc[:, 29:43])\n",
    "        self.imputer.fit(df_preprocessed.iloc[:, 29:43])\n",
    "        df_preprocessed.iloc[:, 29:43] = self.imputer.transform(df_preprocessed.iloc[:, 29:43])\n",
    "        data = get_windows(df_preprocessed, window)\n",
    "        for i, column in enumerate(data.keys()):\n",
    "            data[column][\"X\"] = data[column][\"X\"].mean(axis=1)\n",
    "        return data\n"
   ]
  },
  {
   "attachments": {},
   "cell_type": "markdown",
   "id": "c924d621",
   "metadata": {},
   "source": [
    "И обучим модель линейной регрессии "
   ]
  },
  {
   "cell_type": "code",
   "execution_count": 27,
   "id": "74e5c77a",
   "metadata": {},
   "outputs": [
    {
     "name": "stderr",
     "output_type": "stream",
     "text": [
      "100%|██████████| 13/13 [00:00<00:00, 19.01it/s]\n",
      "100%|██████████| 13/13 [00:00<00:00, 27.93it/s]\n",
      "100%|██████████| 13/13 [00:00<00:00, 35.35it/s]\n",
      "100%|██████████| 13/13 [00:00<00:00, 39.29it/s]\n",
      "100%|██████████| 13/13 [00:00<00:00, 107.80it/s]\n"
     ]
    }
   ],
   "source": [
    "from sklearn.linear_model import LinearRegression\n",
    "\n",
    "parameters_validation = []\n",
    "lrclass = LinearRegressionClassMean()\n",
    "for window in [1, 2, 3, 4, 5]: \n",
    "    data = lrclass.preprocess(df, window)\n",
    "    for column in tqdm(list(data.keys())):\n",
    "        X_param, y_param = data[column][\"X\"], data[column][\"y\"]\n",
    "        model = LinearRegression()\n",
    "        metrs = evaluate_with_intervals(model, X_param, y_param) \n",
    "        metrs[\"parameter\"] = column\n",
    "        metrs[\"model\"] = \"LinearRegression with Mean\"\n",
    "        metrs[\"window\"] = window\n",
    "        parameters_validation.append(metrs)\n",
    "pd.DataFrame(parameters_validation).to_csv(\"LinearRegression_on_mean_vector.csv\")\n"
   ]
  },
  {
   "cell_type": "code",
   "execution_count": 28,
   "id": "bcad9835",
   "metadata": {},
   "outputs": [
    {
     "name": "stderr",
     "output_type": "stream",
     "text": [
      "100%|██████████| 13/13 [00:00<00:00, 17.72it/s]\n",
      "100%|██████████| 13/13 [00:01<00:00, 11.07it/s]\n",
      "100%|██████████| 13/13 [00:01<00:00,  8.62it/s]\n",
      "100%|██████████| 13/13 [00:01<00:00,  8.52it/s]\n",
      "100%|██████████| 13/13 [00:00<00:00, 13.17it/s]\n"
     ]
    }
   ],
   "source": [
    "parameters_validation = []\n",
    "lrclass = LinearRegressionClass()\n",
    "for window in [1, 2, 3, 4, 5]: \n",
    "    data = lrclass.preprocess(df, window)\n",
    "    for column in tqdm(list(data.keys())):\n",
    "        X_param, y_param = data[column][\"X\"], data[column][\"y\"]\n",
    "        model = LinearRegression()\n",
    "        metrs = evaluate_with_intervals(model, X_param, y_param) \n",
    "        metrs[\"parameter\"] = column\n",
    "        metrs[\"model\"] = \"LinearRegression on flatten vector\"\n",
    "        metrs[\"window\"] = window\n",
    "        parameters_validation.append(metrs)\n",
    "pd.DataFrame(parameters_validation).to_csv(\"LinearRegression_on_flatten_vector.csv\")\n"
   ]
  },
  {
   "attachments": {},
   "cell_type": "markdown",
   "id": "fbda8508",
   "metadata": {},
   "source": [
    "### RNN"
   ]
  },
  {
   "cell_type": "code",
   "execution_count": 164,
   "id": "a0aaed66",
   "metadata": {},
   "outputs": [],
   "source": [
    "from keras.models import Sequential\n",
    "from keras.layers import Dense, LSTM, SimpleRNN, GRU, Input, Flatten, concatenate\n",
    "from keras import Model\n",
    "from keras.metrics import RootMeanSquaredError\n"
   ]
  },
  {
   "cell_type": "code",
   "execution_count": 29,
   "id": "54f31712",
   "metadata": {},
   "outputs": [],
   "source": [
    "class RNNPreprocessClass():\n",
    "    def __init__(self):\n",
    "        self.scaler = StandardScaler()\n",
    "        self.imputer=IterativeImputer(max_iter=50)\n",
    "        self.model = LinearRegression()\n",
    "\n",
    "    def preprocess(self, df, window=2):\n",
    "        df_preprocessed = df.copy()\n",
    "        self.scaler.fit(df_preprocessed.iloc[:, 29:43])\n",
    "        df_preprocessed.iloc[:, 29:43] = self.scaler.transform(df_preprocessed.iloc[:, 29:43])\n",
    "        self.imputer.fit(df_preprocessed.iloc[:, 29:43])\n",
    "        df_preprocessed.iloc[:, 29:43] = self.imputer.transform(df_preprocessed.iloc[:, 29:43])\n",
    "        data = get_windows(df_preprocessed, window)\n",
    "        return data\n",
    "    "
   ]
  },
  {
   "cell_type": "code",
   "execution_count": 169,
   "id": "23cb515d",
   "metadata": {},
   "outputs": [],
   "source": [
    "def simple_rnn(window, params_length):\n",
    "    model = Sequential(name=\"SimpleRNN\")\n",
    "    model.add(Input((window, params_length)))\n",
    "    model.add(SimpleRNN(params_length, return_sequences=False))\n",
    "    model.add(Dense(1, activation=\"linear\"))\n",
    "    model.compile(optimizer=\"adam\", loss=\"mse\")\n",
    "    return model"
   ]
  },
  {
   "cell_type": "code",
   "execution_count": 55,
   "id": "f39a88ad",
   "metadata": {},
   "outputs": [],
   "source": [
    "def build_lstm(window, params_length):\n",
    "    model = Sequential(name=\"LSTM\")\n",
    "    model.add(Input((window, params_length)))\n",
    "    model.add(LSTM(32, return_sequences=False))\n",
    "    model.add(Dense(1, activation=\"linear\"))\n",
    "    model.compile(optimizer=\"adam\", loss=\"mse\")\n",
    "    return model"
   ]
  },
  {
   "cell_type": "code",
   "execution_count": null,
   "id": "936f7306",
   "metadata": {},
   "outputs": [],
   "source": [
    "parameters_validation = []\n",
    "preprocessor = RNNPreprocessClass()\n",
    "for window in [1, 2, 3, 4, 5]: \n",
    "    data = preprocessor.preprocess(df, window)\n",
    "    for column in tqdm(list(data.keys())):\n",
    "        X_param, y_param = data[column][\"X\"], data[column][\"y\"]\n",
    "        model = build_lstm(window, X_param.shape[2])\n",
    "        metrs = evaluate_with_intervals(model, X_param, y_param, rnn_args={\"epochs\":30, \"verbose\":0}) \n",
    "        metrs[\"parameter\"] = column\n",
    "        metrs[\"model\"] = \"RNN Simple on windows\"\n",
    "        metrs[\"window\"] = window\n",
    "        parameters_validation.append(metrs)\n",
    "pd.DataFrame(parameters_validation).to_csv(\"RNN.csv\")  "
   ]
  },
  {
   "cell_type": "code",
   "execution_count": 56,
   "id": "f50d2f73",
   "metadata": {},
   "outputs": [
    {
     "name": "stderr",
     "output_type": "stream",
     "text": [
      "  0%|          | 0/13 [00:00<?, ?it/s]"
     ]
    },
    {
     "name": "stdout",
     "output_type": "stream",
     "text": [
      "27/27 [==============================] - 0s 896us/step\n",
      "27/27 [==============================] - 0s 699us/step\n",
      "27/27 [==============================] - 0s 690us/step\n",
      "27/27 [==============================] - 0s 738us/step\n",
      "27/27 [==============================] - 0s 692us/step\n"
     ]
    },
    {
     "name": "stderr",
     "output_type": "stream",
     "text": [
      "  8%|▊         | 1/13 [00:18<03:44, 18.67s/it]"
     ]
    },
    {
     "name": "stdout",
     "output_type": "stream",
     "text": [
      "27/27 [==============================] - 0s 997us/step\n",
      "27/27 [==============================] - 0s 758us/step\n",
      "27/27 [==============================] - 0s 766us/step\n",
      "27/27 [==============================] - 0s 683us/step\n",
      "27/27 [==============================] - 0s 689us/step\n"
     ]
    },
    {
     "name": "stderr",
     "output_type": "stream",
     "text": [
      " 15%|█▌        | 2/13 [00:38<03:29, 19.07s/it]"
     ]
    },
    {
     "name": "stdout",
     "output_type": "stream",
     "text": [
      "27/27 [==============================] - 0s 840us/step\n",
      "27/27 [==============================] - 0s 830us/step\n",
      "27/27 [==============================] - 0s 756us/step\n",
      "27/27 [==============================] - 0s 739us/step\n",
      "27/27 [==============================] - 0s 690us/step\n"
     ]
    },
    {
     "name": "stderr",
     "output_type": "stream",
     "text": [
      " 23%|██▎       | 3/13 [00:55<03:05, 18.53s/it]"
     ]
    },
    {
     "name": "stdout",
     "output_type": "stream",
     "text": [
      "27/27 [==============================] - 0s 797us/step\n",
      "27/27 [==============================] - 0s 652us/step\n",
      "27/27 [==============================] - 0s 662us/step\n",
      "27/27 [==============================] - 0s 691us/step\n",
      "27/27 [==============================] - 0s 766us/step\n"
     ]
    },
    {
     "name": "stderr",
     "output_type": "stream",
     "text": [
      " 31%|███       | 4/13 [01:13<02:44, 18.23s/it]"
     ]
    },
    {
     "name": "stdout",
     "output_type": "stream",
     "text": [
      "27/27 [==============================] - 0s 842us/step\n",
      "27/27 [==============================] - 0s 690us/step\n",
      "27/27 [==============================] - 0s 690us/step\n",
      "27/27 [==============================] - 0s 690us/step\n",
      "27/27 [==============================] - 0s 690us/step\n"
     ]
    },
    {
     "name": "stderr",
     "output_type": "stream",
     "text": [
      " 38%|███▊      | 5/13 [01:31<02:24, 18.07s/it]"
     ]
    },
    {
     "name": "stdout",
     "output_type": "stream",
     "text": [
      "27/27 [==============================] - 0s 711us/step\n",
      "27/27 [==============================] - 0s 673us/step\n",
      "27/27 [==============================] - 0s 778us/step\n",
      "27/27 [==============================] - 0s 660us/step\n",
      "27/27 [==============================] - 0s 721us/step\n"
     ]
    },
    {
     "name": "stderr",
     "output_type": "stream",
     "text": [
      " 46%|████▌     | 6/13 [01:48<02:03, 17.58s/it]"
     ]
    },
    {
     "name": "stdout",
     "output_type": "stream",
     "text": [
      "27/27 [==============================] - 0s 728us/step\n",
      "27/27 [==============================] - 0s 728us/step\n",
      "27/27 [==============================] - 0s 728us/step\n",
      "27/27 [==============================] - 0s 803us/step\n",
      "27/27 [==============================] - 0s 728us/step\n"
     ]
    },
    {
     "name": "stderr",
     "output_type": "stream",
     "text": [
      " 54%|█████▍    | 7/13 [02:05<01:45, 17.53s/it]"
     ]
    },
    {
     "name": "stdout",
     "output_type": "stream",
     "text": [
      "27/27 [==============================] - 0s 668us/step\n",
      "27/27 [==============================] - 0s 785us/step\n",
      "27/27 [==============================] - 0s 690us/step\n",
      "27/27 [==============================] - 0s 652us/step\n",
      "27/27 [==============================] - 0s 767us/step\n"
     ]
    },
    {
     "name": "stderr",
     "output_type": "stream",
     "text": [
      " 62%|██████▏   | 8/13 [02:23<01:27, 17.55s/it]"
     ]
    },
    {
     "name": "stdout",
     "output_type": "stream",
     "text": [
      "27/27 [==============================] - 0s 855us/step\n",
      "27/27 [==============================] - 0s 820us/step\n",
      "27/27 [==============================] - 0s 728us/step\n",
      "27/27 [==============================] - 0s 882us/step\n",
      "27/27 [==============================] - 0s 804us/step\n"
     ]
    },
    {
     "name": "stderr",
     "output_type": "stream",
     "text": [
      " 69%|██████▉   | 9/13 [02:44<01:15, 18.86s/it]"
     ]
    },
    {
     "name": "stdout",
     "output_type": "stream",
     "text": [
      "27/27 [==============================] - 0s 842us/step\n",
      "27/27 [==============================] - 0s 726us/step\n",
      "27/27 [==============================] - 0s 824us/step\n",
      "27/27 [==============================] - 0s 727us/step\n",
      "27/27 [==============================] - 0s 958us/step\n"
     ]
    },
    {
     "name": "stderr",
     "output_type": "stream",
     "text": [
      " 77%|███████▋  | 10/13 [03:04<00:57, 19.01s/it]"
     ]
    },
    {
     "name": "stdout",
     "output_type": "stream",
     "text": [
      "27/27 [==============================] - 0s 914us/step\n",
      "27/27 [==============================] - 0s 703us/step\n",
      "27/27 [==============================] - 0s 805us/step\n",
      "27/27 [==============================] - 0s 997us/step\n",
      "27/27 [==============================] - 0s 718us/step\n"
     ]
    },
    {
     "name": "stderr",
     "output_type": "stream",
     "text": [
      " 85%|████████▍ | 11/13 [03:25<00:39, 19.72s/it]"
     ]
    },
    {
     "name": "stdout",
     "output_type": "stream",
     "text": [
      "27/27 [==============================] - 0s 832us/step\n",
      "27/27 [==============================] - 0s 2ms/step\n",
      "27/27 [==============================] - 0s 690us/step\n",
      "27/27 [==============================] - 0s 887us/step\n",
      "27/27 [==============================] - 0s 767us/step\n"
     ]
    },
    {
     "name": "stderr",
     "output_type": "stream",
     "text": [
      " 92%|█████████▏| 12/13 [03:46<00:20, 20.24s/it]"
     ]
    },
    {
     "name": "stdout",
     "output_type": "stream",
     "text": [
      "27/27 [==============================] - 0s 997us/step\n",
      "27/27 [==============================] - 0s 805us/step\n",
      "27/27 [==============================] - 0s 767us/step\n",
      "27/27 [==============================] - 0s 1ms/step\n",
      "27/27 [==============================] - 0s 690us/step\n"
     ]
    },
    {
     "name": "stderr",
     "output_type": "stream",
     "text": [
      "100%|██████████| 13/13 [04:06<00:00, 18.99s/it]\n",
      "  0%|          | 0/13 [00:00<?, ?it/s]"
     ]
    },
    {
     "name": "stdout",
     "output_type": "stream",
     "text": [
      "15/15 [==============================] - 0s 919us/step\n",
      "15/15 [==============================] - 0s 854us/step\n",
      "15/15 [==============================] - 0s 925us/step\n",
      "15/15 [==============================] - 0s 1ms/step\n",
      "15/15 [==============================] - 0s 854us/step\n"
     ]
    },
    {
     "name": "stderr",
     "output_type": "stream",
     "text": [
      "  8%|▊         | 1/13 [00:15<03:01, 15.10s/it]"
     ]
    },
    {
     "name": "stdout",
     "output_type": "stream",
     "text": [
      "15/15 [==============================] - 0s 2ms/step\n",
      "15/15 [==============================] - 0s 1ms/step\n",
      "15/15 [==============================] - 0s 1ms/step\n",
      "15/15 [==============================] - 0s 1ms/step\n",
      "15/15 [==============================] - 0s 925us/step\n"
     ]
    },
    {
     "name": "stderr",
     "output_type": "stream",
     "text": [
      " 15%|█▌        | 2/13 [00:30<02:49, 15.44s/it]"
     ]
    },
    {
     "name": "stdout",
     "output_type": "stream",
     "text": [
      "15/15 [==============================] - 0s 1ms/step\n",
      "15/15 [==============================] - 0s 857us/step\n",
      "15/15 [==============================] - 0s 1ms/step\n",
      "15/15 [==============================] - 0s 1ms/step\n",
      "15/15 [==============================] - 0s 854us/step\n"
     ]
    },
    {
     "name": "stderr",
     "output_type": "stream",
     "text": [
      " 23%|██▎       | 3/13 [00:45<02:32, 15.28s/it]"
     ]
    },
    {
     "name": "stdout",
     "output_type": "stream",
     "text": [
      "15/15 [==============================] - 0s 997us/step\n",
      "15/15 [==============================] - 0s 1ms/step\n",
      "15/15 [==============================] - 0s 997us/step\n",
      "15/15 [==============================] - 0s 925us/step\n",
      "15/15 [==============================] - 0s 881us/step\n"
     ]
    },
    {
     "name": "stderr",
     "output_type": "stream",
     "text": [
      " 31%|███       | 4/13 [01:00<02:15, 15.06s/it]"
     ]
    },
    {
     "name": "stdout",
     "output_type": "stream",
     "text": [
      "15/15 [==============================] - 0s 997us/step\n",
      "15/15 [==============================] - 0s 803us/step\n",
      "15/15 [==============================] - 0s 1ms/step\n",
      "15/15 [==============================] - 0s 997us/step\n",
      "15/15 [==============================] - 0s 997us/step\n"
     ]
    },
    {
     "name": "stderr",
     "output_type": "stream",
     "text": [
      " 38%|███▊      | 5/13 [01:14<01:56, 14.59s/it]"
     ]
    },
    {
     "name": "stdout",
     "output_type": "stream",
     "text": [
      "15/15 [==============================] - 0s 851us/step\n",
      "15/15 [==============================] - 0s 997us/step\n",
      "15/15 [==============================] - 0s 1ms/step\n",
      "15/15 [==============================] - 0s 926us/step\n",
      "15/15 [==============================] - 0s 854us/step\n"
     ]
    },
    {
     "name": "stderr",
     "output_type": "stream",
     "text": [
      " 46%|████▌     | 6/13 [01:28<01:41, 14.48s/it]"
     ]
    },
    {
     "name": "stdout",
     "output_type": "stream",
     "text": [
      "15/15 [==============================] - 0s 1ms/step\n",
      "15/15 [==============================] - 0s 925us/step\n",
      "15/15 [==============================] - 0s 1ms/step\n",
      "15/15 [==============================] - 0s 1ms/step\n",
      "15/15 [==============================] - 0s 909us/step\n"
     ]
    },
    {
     "name": "stderr",
     "output_type": "stream",
     "text": [
      " 54%|█████▍    | 7/13 [01:43<01:27, 14.59s/it]"
     ]
    },
    {
     "name": "stdout",
     "output_type": "stream",
     "text": [
      "15/15 [==============================] - 0s 926us/step\n",
      "15/15 [==============================] - 0s 956us/step\n",
      "15/15 [==============================] - 0s 854us/step\n",
      "15/15 [==============================] - 0s 854us/step\n",
      "15/15 [==============================] - 0s 828us/step\n"
     ]
    },
    {
     "name": "stderr",
     "output_type": "stream",
     "text": [
      " 62%|██████▏   | 8/13 [01:56<01:10, 14.15s/it]"
     ]
    },
    {
     "name": "stdout",
     "output_type": "stream",
     "text": [
      "15/15 [==============================] - 0s 1ms/step\n",
      "15/15 [==============================] - 0s 997us/step\n",
      "15/15 [==============================] - 0s 1ms/step\n",
      "15/15 [==============================] - 0s 935us/step\n",
      "15/15 [==============================] - 0s 1ms/step\n"
     ]
    },
    {
     "name": "stderr",
     "output_type": "stream",
     "text": [
      " 69%|██████▉   | 9/13 [02:14<01:01, 15.42s/it]"
     ]
    },
    {
     "name": "stdout",
     "output_type": "stream",
     "text": [
      "15/15 [==============================] - 0s 1ms/step\n",
      "15/15 [==============================] - 0s 926us/step\n",
      "15/15 [==============================] - 0s 1ms/step\n",
      "15/15 [==============================] - 0s 1ms/step\n",
      "15/15 [==============================] - 0s 1ms/step\n"
     ]
    },
    {
     "name": "stderr",
     "output_type": "stream",
     "text": [
      " 77%|███████▋  | 10/13 [02:30<00:46, 15.55s/it]"
     ]
    },
    {
     "name": "stdout",
     "output_type": "stream",
     "text": [
      "15/15 [==============================] - 0s 1ms/step\n",
      "15/15 [==============================] - 0s 939us/step\n",
      "15/15 [==============================] - 0s 969us/step\n",
      "15/15 [==============================] - 0s 975us/step\n",
      "15/15 [==============================] - 0s 1ms/step\n"
     ]
    },
    {
     "name": "stderr",
     "output_type": "stream",
     "text": [
      " 85%|████████▍ | 11/13 [02:45<00:30, 15.38s/it]"
     ]
    },
    {
     "name": "stdout",
     "output_type": "stream",
     "text": [
      "15/15 [==============================] - 0s 1ms/step\n",
      "15/15 [==============================] - 0s 854us/step\n",
      "15/15 [==============================] - 0s 2ms/step\n",
      "15/15 [==============================] - 0s 2ms/step\n",
      "15/15 [==============================] - 0s 926us/step\n"
     ]
    },
    {
     "name": "stderr",
     "output_type": "stream",
     "text": [
      " 92%|█████████▏| 12/13 [03:02<00:15, 15.90s/it]"
     ]
    },
    {
     "name": "stdout",
     "output_type": "stream",
     "text": [
      "15/15 [==============================] - 0s 854us/step\n",
      "15/15 [==============================] - 0s 854us/step\n",
      "15/15 [==============================] - 0s 992us/step\n",
      "15/15 [==============================] - 0s 951us/step\n",
      "15/15 [==============================] - 0s 997us/step\n"
     ]
    },
    {
     "name": "stderr",
     "output_type": "stream",
     "text": [
      "100%|██████████| 13/13 [03:17<00:00, 15.17s/it]\n",
      "  0%|          | 0/13 [00:00<?, ?it/s]"
     ]
    },
    {
     "name": "stdout",
     "output_type": "stream",
     "text": [
      "6/6 [==============================] - 0s 2ms/step\n",
      "6/6 [==============================] - 0s 1ms/step\n",
      "6/6 [==============================] - 0s 2ms/step\n",
      "6/6 [==============================] - 0s 1ms/step\n",
      "6/6 [==============================] - 0s 2ms/step\n"
     ]
    },
    {
     "name": "stderr",
     "output_type": "stream",
     "text": [
      "  8%|▊         | 1/13 [00:07<01:34,  7.88s/it]"
     ]
    },
    {
     "name": "stdout",
     "output_type": "stream",
     "text": [
      "6/6 [==============================] - 1s 1ms/step\n",
      "6/6 [==============================] - 0s 1ms/step\n",
      "6/6 [==============================] - 0s 2ms/step\n",
      "6/6 [==============================] - 0s 1ms/step\n",
      "6/6 [==============================] - 0s 2ms/step\n"
     ]
    },
    {
     "name": "stderr",
     "output_type": "stream",
     "text": [
      " 15%|█▌        | 2/13 [00:18<01:41,  9.27s/it]"
     ]
    },
    {
     "name": "stdout",
     "output_type": "stream",
     "text": [
      "6/6 [==============================] - 0s 2ms/step\n",
      "6/6 [==============================] - 0s 2ms/step\n",
      "6/6 [==============================] - 0s 2ms/step\n",
      "6/6 [==============================] - 0s 1ms/step\n",
      "6/6 [==============================] - 0s 1ms/step\n"
     ]
    },
    {
     "name": "stderr",
     "output_type": "stream",
     "text": [
      " 23%|██▎       | 3/13 [00:27<01:33,  9.39s/it]"
     ]
    },
    {
     "name": "stdout",
     "output_type": "stream",
     "text": [
      "6/6 [==============================] - 0s 2ms/step\n",
      "6/6 [==============================] - 0s 1ms/step\n",
      "6/6 [==============================] - 0s 1ms/step\n",
      "6/6 [==============================] - 0s 1ms/step\n",
      "6/6 [==============================] - 0s 1ms/step\n"
     ]
    },
    {
     "name": "stderr",
     "output_type": "stream",
     "text": [
      " 31%|███       | 4/13 [00:36<01:22,  9.18s/it]"
     ]
    },
    {
     "name": "stdout",
     "output_type": "stream",
     "text": [
      "6/6 [==============================] - 0s 2ms/step\n",
      "6/6 [==============================] - 0s 1ms/step\n",
      "6/6 [==============================] - 0s 1ms/step\n",
      "6/6 [==============================] - 0s 1ms/step\n",
      "6/6 [==============================] - 0s 1ms/step\n"
     ]
    },
    {
     "name": "stderr",
     "output_type": "stream",
     "text": [
      " 38%|███▊      | 5/13 [00:45<01:11,  8.99s/it]"
     ]
    },
    {
     "name": "stdout",
     "output_type": "stream",
     "text": [
      "6/6 [==============================] - 0s 2ms/step\n",
      "6/6 [==============================] - 0s 1ms/step\n",
      "6/6 [==============================] - 0s 1ms/step\n",
      "6/6 [==============================] - 0s 1ms/step\n",
      "6/6 [==============================] - 0s 1ms/step\n"
     ]
    },
    {
     "name": "stderr",
     "output_type": "stream",
     "text": [
      " 46%|████▌     | 6/13 [00:52<01:00,  8.59s/it]"
     ]
    },
    {
     "name": "stdout",
     "output_type": "stream",
     "text": [
      "6/6 [==============================] - 0s 1ms/step\n",
      "6/6 [==============================] - 0s 1ms/step\n",
      "6/6 [==============================] - 0s 1ms/step\n",
      "6/6 [==============================] - 0s 1ms/step\n",
      "6/6 [==============================] - 0s 1ms/step\n"
     ]
    },
    {
     "name": "stderr",
     "output_type": "stream",
     "text": [
      " 54%|█████▍    | 7/13 [01:00<00:50,  8.39s/it]"
     ]
    },
    {
     "name": "stdout",
     "output_type": "stream",
     "text": [
      "6/6 [==============================] - 0s 1ms/step\n",
      "6/6 [==============================] - 0s 997us/step\n",
      "6/6 [==============================] - 0s 1ms/step\n",
      "6/6 [==============================] - 0s 1ms/step\n",
      "6/6 [==============================] - 0s 1ms/step\n"
     ]
    },
    {
     "name": "stderr",
     "output_type": "stream",
     "text": [
      " 62%|██████▏   | 8/13 [01:08<00:40,  8.19s/it]"
     ]
    },
    {
     "name": "stdout",
     "output_type": "stream",
     "text": [
      "6/6 [==============================] - 0s 2ms/step\n",
      "6/6 [==============================] - 0s 1ms/step\n",
      "6/6 [==============================] - 0s 2ms/step\n",
      "6/6 [==============================] - 0s 1ms/step\n",
      "6/6 [==============================] - 0s 2ms/step\n"
     ]
    },
    {
     "name": "stderr",
     "output_type": "stream",
     "text": [
      " 69%|██████▉   | 9/13 [01:18<00:34,  8.61s/it]"
     ]
    },
    {
     "name": "stdout",
     "output_type": "stream",
     "text": [
      "6/6 [==============================] - 1s 1ms/step\n",
      "6/6 [==============================] - 0s 2ms/step\n",
      "6/6 [==============================] - 0s 1ms/step\n",
      "6/6 [==============================] - 0s 1ms/step\n",
      "6/6 [==============================] - 0s 2ms/step\n"
     ]
    },
    {
     "name": "stderr",
     "output_type": "stream",
     "text": [
      " 77%|███████▋  | 10/13 [01:27<00:26,  8.86s/it]"
     ]
    },
    {
     "name": "stdout",
     "output_type": "stream",
     "text": [
      "6/6 [==============================] - 0s 2ms/step\n",
      "6/6 [==============================] - 0s 1ms/step\n",
      "6/6 [==============================] - 0s 2ms/step\n",
      "6/6 [==============================] - 0s 3ms/step\n",
      "6/6 [==============================] - 0s 1ms/step\n"
     ]
    },
    {
     "name": "stderr",
     "output_type": "stream",
     "text": [
      " 85%|████████▍ | 11/13 [01:37<00:18,  9.01s/it]"
     ]
    },
    {
     "name": "stdout",
     "output_type": "stream",
     "text": [
      "6/6 [==============================] - 0s 1ms/step\n",
      "6/6 [==============================] - 0s 1ms/step\n",
      "6/6 [==============================] - 0s 1ms/step\n",
      "6/6 [==============================] - 0s 1ms/step\n",
      "6/6 [==============================] - 0s 1ms/step\n"
     ]
    },
    {
     "name": "stderr",
     "output_type": "stream",
     "text": [
      " 92%|█████████▏| 12/13 [01:45<00:08,  8.82s/it]"
     ]
    },
    {
     "name": "stdout",
     "output_type": "stream",
     "text": [
      "6/6 [==============================] - 0s 2ms/step\n",
      "6/6 [==============================] - 0s 999us/step\n",
      "6/6 [==============================] - 0s 2ms/step\n",
      "6/6 [==============================] - 0s 2ms/step\n",
      "6/6 [==============================] - 0s 2ms/step\n"
     ]
    },
    {
     "name": "stderr",
     "output_type": "stream",
     "text": [
      "100%|██████████| 13/13 [01:55<00:00,  8.86s/it]\n",
      "  0%|          | 0/13 [00:00<?, ?it/s]"
     ]
    },
    {
     "name": "stdout",
     "output_type": "stream",
     "text": [
      "3/3 [==============================] - 0s 2ms/step\n",
      "3/3 [==============================] - 0s 2ms/step\n",
      "3/3 [==============================] - 0s 1ms/step\n",
      "3/3 [==============================] - 0s 2ms/step\n",
      "3/3 [==============================] - 0s 1ms/step\n"
     ]
    },
    {
     "name": "stderr",
     "output_type": "stream",
     "text": [
      "  8%|▊         | 1/13 [00:04<00:56,  4.68s/it]"
     ]
    },
    {
     "name": "stdout",
     "output_type": "stream",
     "text": [
      "3/3 [==============================] - 0s 2ms/step\n",
      "3/3 [==============================] - 0s 1ms/step\n",
      "3/3 [==============================] - 0s 2ms/step\n",
      "3/3 [==============================] - 0s 2ms/step\n",
      "3/3 [==============================] - 0s 2ms/step\n"
     ]
    },
    {
     "name": "stderr",
     "output_type": "stream",
     "text": [
      " 15%|█▌        | 2/13 [00:08<00:46,  4.25s/it]"
     ]
    },
    {
     "name": "stdout",
     "output_type": "stream",
     "text": [
      "3/3 [==============================] - 0s 2ms/step\n",
      "3/3 [==============================] - 0s 996us/step\n",
      "3/3 [==============================] - 0s 2ms/step\n",
      "3/3 [==============================] - 0s 2ms/step\n",
      "3/3 [==============================] - 0s 1ms/step\n"
     ]
    },
    {
     "name": "stderr",
     "output_type": "stream",
     "text": [
      " 23%|██▎       | 3/13 [00:12<00:41,  4.13s/it]"
     ]
    },
    {
     "name": "stdout",
     "output_type": "stream",
     "text": [
      "3/3 [==============================] - 0s 3ms/step\n",
      "3/3 [==============================] - 0s 2ms/step\n",
      "3/3 [==============================] - 0s 1ms/step\n",
      "3/3 [==============================] - 0s 1ms/step\n",
      "3/3 [==============================] - 0s 2ms/step\n"
     ]
    },
    {
     "name": "stderr",
     "output_type": "stream",
     "text": [
      " 31%|███       | 4/13 [00:16<00:36,  4.11s/it]"
     ]
    },
    {
     "name": "stdout",
     "output_type": "stream",
     "text": [
      "3/3 [==============================] - 0s 2ms/step\n",
      "3/3 [==============================] - 0s 2ms/step\n",
      "3/3 [==============================] - 0s 2ms/step\n",
      "3/3 [==============================] - 0s 2ms/step\n",
      "3/3 [==============================] - 0s 2ms/step\n"
     ]
    },
    {
     "name": "stderr",
     "output_type": "stream",
     "text": [
      " 38%|███▊      | 5/13 [00:21<00:34,  4.31s/it]"
     ]
    },
    {
     "name": "stdout",
     "output_type": "stream",
     "text": [
      "3/3 [==============================] - 0s 2ms/step\n",
      "3/3 [==============================] - 0s 2ms/step\n",
      "3/3 [==============================] - 0s 2ms/step\n",
      "3/3 [==============================] - 0s 1ms/step\n",
      "3/3 [==============================] - 0s 3ms/step\n"
     ]
    },
    {
     "name": "stderr",
     "output_type": "stream",
     "text": [
      " 46%|████▌     | 6/13 [00:25<00:30,  4.37s/it]"
     ]
    },
    {
     "name": "stdout",
     "output_type": "stream",
     "text": [
      "3/3 [==============================] - 0s 2ms/step\n",
      "3/3 [==============================] - 0s 2ms/step\n",
      "3/3 [==============================] - 0s 1ms/step\n",
      "3/3 [==============================] - 0s 2ms/step\n",
      "3/3 [==============================] - 0s 2ms/step\n"
     ]
    },
    {
     "name": "stderr",
     "output_type": "stream",
     "text": [
      " 54%|█████▍    | 7/13 [00:30<00:26,  4.35s/it]"
     ]
    },
    {
     "name": "stdout",
     "output_type": "stream",
     "text": [
      "3/3 [==============================] - 0s 2ms/step\n",
      "3/3 [==============================] - 0s 1ms/step\n",
      "3/3 [==============================] - 0s 2ms/step\n",
      "3/3 [==============================] - 0s 1ms/step\n",
      "3/3 [==============================] - 0s 1ms/step\n"
     ]
    },
    {
     "name": "stderr",
     "output_type": "stream",
     "text": [
      " 62%|██████▏   | 8/13 [00:34<00:21,  4.40s/it]"
     ]
    },
    {
     "name": "stdout",
     "output_type": "stream",
     "text": [
      "3/3 [==============================] - 0s 2ms/step\n",
      "3/3 [==============================] - 0s 2ms/step\n",
      "3/3 [==============================] - 0s 1ms/step\n",
      "3/3 [==============================] - 0s 2ms/step\n",
      "3/3 [==============================] - 0s 1ms/step\n"
     ]
    },
    {
     "name": "stderr",
     "output_type": "stream",
     "text": [
      " 69%|██████▉   | 9/13 [00:38<00:17,  4.37s/it]"
     ]
    },
    {
     "name": "stdout",
     "output_type": "stream",
     "text": [
      "3/3 [==============================] - 0s 2ms/step\n",
      "3/3 [==============================] - 0s 1ms/step\n",
      "3/3 [==============================] - 0s 1ms/step\n",
      "3/3 [==============================] - 0s 1ms/step\n",
      "3/3 [==============================] - 0s 2ms/step\n"
     ]
    },
    {
     "name": "stderr",
     "output_type": "stream",
     "text": [
      " 77%|███████▋  | 10/13 [00:42<00:12,  4.26s/it]"
     ]
    },
    {
     "name": "stdout",
     "output_type": "stream",
     "text": [
      "3/3 [==============================] - 0s 2ms/step\n",
      "3/3 [==============================] - 0s 2ms/step\n",
      "3/3 [==============================] - 0s 2ms/step\n",
      "3/3 [==============================] - 0s 2ms/step\n",
      "3/3 [==============================] - 0s 1ms/step\n"
     ]
    },
    {
     "name": "stderr",
     "output_type": "stream",
     "text": [
      " 85%|████████▍ | 11/13 [00:47<00:08,  4.28s/it]"
     ]
    },
    {
     "name": "stdout",
     "output_type": "stream",
     "text": [
      "3/3 [==============================] - 0s 1ms/step\n",
      "3/3 [==============================] - 0s 2ms/step\n",
      "3/3 [==============================] - 0s 1ms/step\n",
      "3/3 [==============================] - 0s 1ms/step\n",
      "3/3 [==============================] - 0s 1ms/step\n"
     ]
    },
    {
     "name": "stderr",
     "output_type": "stream",
     "text": [
      " 92%|█████████▏| 12/13 [00:51<00:04,  4.24s/it]"
     ]
    },
    {
     "name": "stdout",
     "output_type": "stream",
     "text": [
      "3/3 [==============================] - 0s 3ms/step\n",
      "3/3 [==============================] - 0s 1ms/step\n",
      "3/3 [==============================] - 0s 1ms/step\n",
      "3/3 [==============================] - 0s 1ms/step\n",
      "3/3 [==============================] - 0s 2ms/step\n"
     ]
    },
    {
     "name": "stderr",
     "output_type": "stream",
     "text": [
      "100%|██████████| 13/13 [00:55<00:00,  4.26s/it]\n",
      "  0%|          | 0/13 [00:00<?, ?it/s]"
     ]
    },
    {
     "name": "stdout",
     "output_type": "stream",
     "text": [
      "2/2 [==============================] - 0s 1ms/step\n",
      "2/2 [==============================] - 0s 2ms/step\n",
      "2/2 [==============================] - 0s 2ms/step\n",
      "2/2 [==============================] - 0s 2ms/step\n",
      "2/2 [==============================] - 0s 3ms/step\n"
     ]
    },
    {
     "name": "stderr",
     "output_type": "stream",
     "text": [
      "  8%|▊         | 1/13 [00:04<00:49,  4.15s/it]"
     ]
    },
    {
     "name": "stdout",
     "output_type": "stream",
     "text": [
      "2/2 [==============================] - 0s 2ms/step\n",
      "2/2 [==============================] - 0s 2ms/step\n",
      "2/2 [==============================] - 0s 3ms/step\n",
      "2/2 [==============================] - 0s 2ms/step\n",
      "2/2 [==============================] - 0s 4ms/step\n"
     ]
    },
    {
     "name": "stderr",
     "output_type": "stream",
     "text": [
      " 15%|█▌        | 2/13 [00:07<00:43,  3.92s/it]"
     ]
    },
    {
     "name": "stdout",
     "output_type": "stream",
     "text": [
      "2/2 [==============================] - 0s 3ms/step\n",
      "2/2 [==============================] - 0s 2ms/step\n",
      "2/2 [==============================] - 0s 2ms/step\n",
      "2/2 [==============================] - 0s 3ms/step\n",
      "2/2 [==============================] - 0s 2ms/step\n"
     ]
    },
    {
     "name": "stderr",
     "output_type": "stream",
     "text": [
      " 23%|██▎       | 3/13 [00:11<00:37,  3.79s/it]"
     ]
    },
    {
     "name": "stdout",
     "output_type": "stream",
     "text": [
      "2/2 [==============================] - 0s 3ms/step\n",
      "2/2 [==============================] - 0s 2ms/step\n",
      "2/2 [==============================] - 0s 2ms/step\n",
      "2/2 [==============================] - 0s 2ms/step\n",
      "2/2 [==============================] - 0s 3ms/step\n"
     ]
    },
    {
     "name": "stderr",
     "output_type": "stream",
     "text": [
      " 31%|███       | 4/13 [00:15<00:34,  3.79s/it]"
     ]
    },
    {
     "name": "stdout",
     "output_type": "stream",
     "text": [
      "2/2 [==============================] - 0s 2ms/step\n",
      "2/2 [==============================] - 0s 2ms/step\n",
      "2/2 [==============================] - 0s 3ms/step\n",
      "2/2 [==============================] - 0s 3ms/step\n",
      "2/2 [==============================] - 0s 5ms/step\n"
     ]
    },
    {
     "name": "stderr",
     "output_type": "stream",
     "text": [
      " 38%|███▊      | 5/13 [00:19<00:30,  3.81s/it]"
     ]
    },
    {
     "name": "stdout",
     "output_type": "stream",
     "text": [
      "2/2 [==============================] - 0s 3ms/step\n",
      "2/2 [==============================] - 0s 2ms/step\n",
      "2/2 [==============================] - 0s 2ms/step\n",
      "2/2 [==============================] - 0s 2ms/step\n",
      "2/2 [==============================] - 0s 2ms/step\n"
     ]
    },
    {
     "name": "stderr",
     "output_type": "stream",
     "text": [
      " 46%|████▌     | 6/13 [00:22<00:26,  3.76s/it]"
     ]
    },
    {
     "name": "stdout",
     "output_type": "stream",
     "text": [
      "2/2 [==============================] - 0s 3ms/step\n",
      "2/2 [==============================] - 0s 2ms/step\n",
      "2/2 [==============================] - 0s 2ms/step\n",
      "2/2 [==============================] - 0s 3ms/step\n",
      "2/2 [==============================] - 0s 2ms/step\n"
     ]
    },
    {
     "name": "stderr",
     "output_type": "stream",
     "text": [
      " 54%|█████▍    | 7/13 [00:26<00:22,  3.75s/it]"
     ]
    },
    {
     "name": "stdout",
     "output_type": "stream",
     "text": [
      "2/2 [==============================] - 0s 2ms/step\n",
      "2/2 [==============================] - 0s 2ms/step\n",
      "2/2 [==============================] - 0s 2ms/step\n",
      "2/2 [==============================] - 0s 2ms/step\n",
      "2/2 [==============================] - 0s 2ms/step\n"
     ]
    },
    {
     "name": "stderr",
     "output_type": "stream",
     "text": [
      " 62%|██████▏   | 8/13 [00:29<00:18,  3.64s/it]"
     ]
    },
    {
     "name": "stdout",
     "output_type": "stream",
     "text": [
      "2/2 [==============================] - 0s 3ms/step\n",
      "2/2 [==============================] - 0s 4ms/step\n",
      "2/2 [==============================] - 0s 2ms/step\n",
      "2/2 [==============================] - 0s 3ms/step\n",
      "2/2 [==============================] - 0s 2ms/step\n"
     ]
    },
    {
     "name": "stderr",
     "output_type": "stream",
     "text": [
      " 69%|██████▉   | 9/13 [00:34<00:15,  3.99s/it]"
     ]
    },
    {
     "name": "stdout",
     "output_type": "stream",
     "text": [
      "2/2 [==============================] - 0s 3ms/step\n",
      "2/2 [==============================] - 0s 3ms/step\n",
      "2/2 [==============================] - 0s 2ms/step\n",
      "2/2 [==============================] - 0s 3ms/step\n",
      "2/2 [==============================] - 0s 2ms/step\n"
     ]
    },
    {
     "name": "stderr",
     "output_type": "stream",
     "text": [
      " 77%|███████▋  | 10/13 [00:38<00:11,  3.89s/it]"
     ]
    },
    {
     "name": "stdout",
     "output_type": "stream",
     "text": [
      "2/2 [==============================] - 0s 2ms/step\n",
      "2/2 [==============================] - 0s 2ms/step\n",
      "2/2 [==============================] - 0s 3ms/step\n",
      "2/2 [==============================] - 0s 3ms/step\n",
      "2/2 [==============================] - 0s 2ms/step\n"
     ]
    },
    {
     "name": "stderr",
     "output_type": "stream",
     "text": [
      " 85%|████████▍ | 11/13 [00:42<00:07,  3.83s/it]"
     ]
    },
    {
     "name": "stdout",
     "output_type": "stream",
     "text": [
      "2/2 [==============================] - 0s 2ms/step\n",
      "2/2 [==============================] - 0s 3ms/step\n",
      "2/2 [==============================] - 0s 2ms/step\n",
      "2/2 [==============================] - 0s 3ms/step\n",
      "2/2 [==============================] - 0s 2ms/step\n"
     ]
    },
    {
     "name": "stderr",
     "output_type": "stream",
     "text": [
      " 92%|█████████▏| 12/13 [00:45<00:03,  3.85s/it]"
     ]
    },
    {
     "name": "stdout",
     "output_type": "stream",
     "text": [
      "2/2 [==============================] - 0s 4ms/step\n",
      "2/2 [==============================] - 0s 2ms/step\n",
      "2/2 [==============================] - 0s 2ms/step\n",
      "2/2 [==============================] - 0s 2ms/step\n",
      "2/2 [==============================] - 0s 3ms/step\n"
     ]
    },
    {
     "name": "stderr",
     "output_type": "stream",
     "text": [
      "100%|██████████| 13/13 [00:50<00:00,  3.85s/it]\n"
     ]
    }
   ],
   "source": [
    "parameters_validation = []\n",
    "preprocessor = RNNPreprocessClass()\n",
    "for window in [1, 2, 3, 4, 5]: \n",
    "    data = preprocessor.preprocess(df, window)\n",
    "    for column in tqdm(list(data.keys())):\n",
    "        X_param, y_param = data[column][\"X\"], data[column][\"y\"]\n",
    "        model = build_lstm(window, X_param.shape[2])\n",
    "        metrs = evaluate_with_intervals(model, X_param, y_param, rnn_args={\"epochs\":30, \"verbose\":0}) \n",
    "        metrs[\"parameter\"] = column\n",
    "        metrs[\"model\"] = \"LSTM on windows\"\n",
    "        metrs[\"window\"] = window\n",
    "        parameters_validation.append(metrs)\n",
    "pd.DataFrame(parameters_validation).to_csv(\"LSTM.csv\")  "
   ]
  },
  {
   "cell_type": "markdown",
   "id": "6c8059bf-3943-469f-be34-778e5fda3d01",
   "metadata": {},
   "source": [
    "### HistGradientBoostingRegressor"
   ]
  },
  {
   "cell_type": "markdown",
   "id": "da44f69b-6fcc-49eb-9873-30387376c097",
   "metadata": {},
   "source": [
    "Сделаем модели на каждый параметр с простенькой моделью HistGradientBoostingRegressor (она единственная из sklearn ргегрессоров поддерживает NaN)"
   ]
  },
  {
   "cell_type": "code",
   "execution_count": null,
   "id": "91349793",
   "metadata": {},
   "outputs": [],
   "source": [
    "class HistGradientBoostingRegressorPreprocessor():\n",
    "    def preprocess(self, df, window=2):\n",
    "        data = get_windows(df.copy(), window)\n",
    "        for i, column in enumerate(data.keys()):\n",
    "            data[column][\"X\"] = data[column][\"X\"].reshape(-1, 47*window)\n",
    "        return data"
   ]
  },
  {
   "cell_type": "code",
   "execution_count": 31,
   "id": "3eb246dc-3ccc-43eb-a7ce-ee8694c1cdf1",
   "metadata": {
    "tags": []
   },
   "outputs": [
    {
     "name": "stderr",
     "output_type": "stream",
     "text": [
      "100%|██████████| 13/13 [00:51<00:00,  3.98s/it]\n",
      "100%|██████████| 13/13 [01:12<00:00,  5.59s/it]\n",
      "100%|██████████| 13/13 [01:17<00:00,  5.94s/it]\n",
      "100%|██████████| 13/13 [00:39<00:00,  3.03s/it]\n",
      "100%|██████████| 13/13 [00:31<00:00,  2.40s/it]\n"
     ]
    }
   ],
   "source": [
    "from sklearn.ensemble import HistGradientBoostingRegressor\n",
    "parameters_validation = []\n",
    "preprocessor = HistGradientBoostingRegressorPreprocessor()\n",
    "for window in [1, 2, 3, 4, 5]: \n",
    "    data = preprocessor.preprocess(df, window)\n",
    "    for column in tqdm(list(data.keys())):\n",
    "        X_param, y_param = data[column][\"X\"], data[column][\"y\"]\n",
    "        model = HistGradientBoostingRegressor()\n",
    "        metrs = evaluate_with_intervals(model, X_param, y_param) \n",
    "        metrs[\"parameter\"] = column\n",
    "        metrs[\"model\"] = \"HistGradientBoostingRegressor on flat vector\"\n",
    "        metrs[\"window\"] = window   \n",
    "        parameters_validation.append(metrs)\n",
    "pd.DataFrame(parameters_validation).to_csv(\"HistGradientBoostingRegressor_on_flat_vector.csv\")\n"
   ]
  },
  {
   "cell_type": "markdown",
   "id": "5ddaa744",
   "metadata": {},
   "source": [
    "### Fedot"
   ]
  },
  {
   "cell_type": "markdown",
   "id": "3cd02c41-db57-4bd4-85a6-b966f7b8a0a1",
   "metadata": {},
   "source": [
    "Построим пайплайны с помощью Fedot на каждый из параметров. \n",
    "\n",
    "Будем использовать таймаут 10 минут, так как при дальнейшем продолжении композиции качество не увеличивается на все параметрах"
   ]
  },
  {
   "cell_type": "code",
   "execution_count": 63,
   "id": "08057ee6",
   "metadata": {},
   "outputs": [],
   "source": [
    "def build_fedot():\n",
    "    model = Fedot(problem=\"regression\", timeout=10, cache_folder=\"D:\\\\Cache\") # I changed cache folder path as it tkaes up to 20Gb\n",
    "    return model"
   ]
  },
  {
   "cell_type": "code",
   "execution_count": 66,
   "id": "2e66ea56",
   "metadata": {},
   "outputs": [],
   "source": [
    "class FedotPreprocessor():\n",
    "    def preprocess(self, df, window=2):\n",
    "        data = get_windows(df.copy(), window)\n",
    "        for i, column in enumerate(data.keys()):\n",
    "            data[column][\"X\"] = data[column][\"X\"].reshape(-1, 47*window)\n",
    "        return data"
   ]
  },
  {
   "cell_type": "markdown",
   "id": "b09fd044",
   "metadata": {},
   "source": [
    "И построенные пайплайны с тюнеными параметрами оцениваем кросс-валидацией на тех же данных, что и строили\n"
   ]
  },
  {
   "cell_type": "code",
   "execution_count": 67,
   "id": "ccd89fcf",
   "metadata": {},
   "outputs": [
    {
     "name": "stdout",
     "output_type": "stream",
     "text": [
      "Start composing Fedot pipeline Температура_dinam_fact, window size 1\n",
      "2023-06-20 00:20:59,955 - AssumptionsHandler - Memory consumption for fitting of the initial pipeline in main session: current 124.7 MiB, max: 140.0 MiB\n",
      "2023-06-20 00:20:59,958 - ApiComposer - Initial pipeline was fitted in 2.5 sec.\n",
      "2023-06-20 00:20:59,960 - AssumptionsHandler - Preset was changed to best_quality due to fit time estimation for initial model.\n",
      "2023-06-20 00:20:59,969 - ApiComposer - AutoML configured. Parameters tuning: True. Time limit: 10 min. Set of candidate models: ['isolation_forest_reg', 'gbr', 'svr', 'knnreg', 'dtreg', 'pca', 'ransac_lin_reg', 'poly_features', 'fast_ica', 'adareg', 'sgdr', 'ridge', 'rfr', 'treg', 'scaling', 'ransac_non_lin_reg', 'lgbmreg', 'lasso', 'normalization', 'linear', 'isolation_forest_reg', 'gbr', 'svr', 'knnreg', 'dtreg', 'pca', 'ransac_lin_reg', 'poly_features', 'fast_ica', 'adareg', 'sgdr', 'ridge', 'rfr', 'treg', 'scaling', 'ransac_non_lin_reg', 'lgbmreg', 'lasso', 'normalization', 'linear'].\n",
      "2023-06-20 00:20:59,974 - ApiComposer - Pipeline composition started.\n"
     ]
    },
    {
     "name": "stderr",
     "output_type": "stream",
     "text": [
      "Generations:   0%|          | 1/10000 [00:00<?, ?gen/s]"
     ]
    },
    {
     "name": "stdout",
     "output_type": "stream",
     "text": [
      "2023-06-20 00:21:10,255 - MultiprocessingDispatcher - 1 individuals out of 1 in previous population were evaluated successfully.\n",
      "2023-06-20 00:22:32,269 - MultiprocessingDispatcher - 21 individuals out of 21 in previous population were evaluated successfully.\n",
      "2023-06-20 00:23:02,471 - MultiprocessingDispatcher - 20 individuals out of 20 in previous population were evaluated successfully.\n",
      "2023-06-20 00:23:46,207 - MultiprocessingDispatcher - 20 individuals out of 20 in previous population were evaluated successfully.\n",
      "2023-06-20 00:25:04,367 - MultiprocessingDispatcher - 32 individuals out of 32 in previous population were evaluated successfully.\n",
      "2023-06-20 00:26:24,136 - MultiprocessingDispatcher - 54 individuals out of 54 in previous population were evaluated successfully.\n",
      "2023-06-20 00:26:24,166 - GroupedCondition - Optimisation stopped: Time limit is reached\n"
     ]
    },
    {
     "name": "stderr",
     "output_type": "stream",
     "text": [
      "Generations:   0%|          | 1/10000 [05:24<?, ?gen/s]"
     ]
    },
    {
     "name": "stdout",
     "output_type": "stream",
     "text": [
      "2023-06-20 00:26:24,185 - ApiComposer - Hyperparameters tuning started with 5 min. timeout\n"
     ]
    },
    {
     "name": "stderr",
     "output_type": "stream",
     "text": [
      "\n"
     ]
    },
    {
     "name": "stdout",
     "output_type": "stream",
     "text": [
      "2023-06-20 00:26:35,341 - SimultaneousTuner - Initial graph: {'depth': 2, 'length': 2, 'nodes': [rfr, normalization]}\n",
      "rfr - {'n_jobs': 1, 'max_features': 0.056908430229687695, 'min_samples_split': 7, 'min_samples_leaf': 16, 'bootstrap': True}\n",
      "normalization - {} \n",
      "Initial metric: 0.256\n",
      "100%|██████████| 1/1 [00:13<00:00, 13.63s/trial, best loss: 0.2561144544764492]\n",
      "  0%|          | 20/100000 [04:03<355:20:11, 12.79s/trial, best loss: 0.2561144544764492]\n",
      "2023-06-20 00:30:58,016 - SimultaneousTuner - Final graph: {'depth': 2, 'length': 2, 'nodes': [rfr, normalization]}\n",
      "rfr - {'n_jobs': 1, 'max_features': 0.056908430229687695, 'min_samples_split': 7, 'min_samples_leaf': 16, 'bootstrap': True}\n",
      "normalization - {}\n",
      "2023-06-20 00:30:58,018 - SimultaneousTuner - Final metric: 0.256\n",
      "2023-06-20 00:30:58,022 - ApiComposer - Hyperparameters tuning finished\n",
      "2023-06-20 00:30:58,557 - ApiComposer - Model generation finished\n",
      "2023-06-20 00:30:59,770 - FEDOT logger - Final pipeline was fitted\n",
      "2023-06-20 00:30:59,772 - FEDOT logger - Final pipeline: {'depth': 2, 'length': 2, 'nodes': [rfr, normalization]}\n",
      "rfr - {'n_jobs': -1, 'max_features': 0.056908430229687695, 'min_samples_split': 7, 'min_samples_leaf': 16, 'bootstrap': True}\n",
      "normalization - {}\n",
      "Memory consumption for finish in main session: current 127.1 MiB, max: 140.0 MiB\n",
      "Successfully composed Температура_dinam_fact \n",
      "\n",
      "Start composing Fedot pipeline Лимфоциты#_dinam_fact, window size 1\n",
      "2023-06-20 00:31:05,580 - AssumptionsHandler - Memory consumption for fitting of the initial pipeline in main session: current 7.2 MiB, max: 38.6 MiB\n",
      "2023-06-20 00:31:05,583 - ApiComposer - Initial pipeline was fitted in 3.6 sec.\n",
      "2023-06-20 00:31:05,584 - AssumptionsHandler - Preset was changed to best_quality due to fit time estimation for initial model.\n",
      "2023-06-20 00:31:05,591 - ApiComposer - AutoML configured. Parameters tuning: True. Time limit: 10 min. Set of candidate models: ['isolation_forest_reg', 'gbr', 'svr', 'knnreg', 'dtreg', 'pca', 'ransac_lin_reg', 'poly_features', 'fast_ica', 'adareg', 'sgdr', 'ridge', 'rfr', 'treg', 'scaling', 'ransac_non_lin_reg', 'lgbmreg', 'lasso', 'normalization', 'linear', 'isolation_forest_reg', 'gbr', 'svr', 'knnreg', 'dtreg', 'pca', 'ransac_lin_reg', 'poly_features', 'fast_ica', 'adareg', 'sgdr', 'ridge', 'rfr', 'treg', 'scaling', 'ransac_non_lin_reg', 'lgbmreg', 'lasso', 'normalization', 'linear'].\n",
      "2023-06-20 00:31:05,595 - ApiComposer - Pipeline composition started.\n"
     ]
    },
    {
     "name": "stderr",
     "output_type": "stream",
     "text": [
      "Generations:   0%|          | 1/10000 [00:00<?, ?gen/s]"
     ]
    },
    {
     "name": "stdout",
     "output_type": "stream",
     "text": [
      "2023-06-20 00:31:10,775 - MultiprocessingDispatcher - 1 individuals out of 1 in previous population were evaluated successfully.\n",
      "2023-06-20 00:32:51,617 - MultiprocessingDispatcher - 21 individuals out of 21 in previous population were evaluated successfully.\n",
      "2023-06-20 00:33:25,751 - MultiprocessingDispatcher - 20 individuals out of 20 in previous population were evaluated successfully.\n",
      "2023-06-20 00:33:33,850 - MultiprocessingDispatcher - 12 individuals out of 12 in previous population were evaluated successfully.\n",
      "2023-06-20 00:33:42,633 - MultiprocessingDispatcher - 12 individuals out of 12 in previous population were evaluated successfully.\n",
      "2023-06-20 00:34:04,685 - MultiprocessingDispatcher - 20 individuals out of 20 in previous population were evaluated successfully.\n",
      "2023-06-20 00:34:23,976 - MultiprocessingDispatcher - 32 individuals out of 32 in previous population were evaluated successfully.\n",
      "2023-06-20 00:35:07,800 - MultiprocessingDispatcher - 54 individuals out of 54 in previous population were evaluated successfully.\n",
      "2023-06-20 00:35:52,934 - MultiprocessingDispatcher - 54 individuals out of 54 in previous population were evaluated successfully.\n",
      "2023-06-20 00:37:03,623 - MultiprocessingDispatcher - 54 individuals out of 54 in previous population were evaluated successfully.\n",
      "2023-06-20 00:37:03,652 - GroupedCondition - Optimisation stopped: Time limit is reached\n"
     ]
    },
    {
     "name": "stderr",
     "output_type": "stream",
     "text": [
      "Generations:   0%|          | 1/10000 [05:58<?, ?gen/s]"
     ]
    },
    {
     "name": "stdout",
     "output_type": "stream",
     "text": [
      "2023-06-20 00:37:03,661 - ApiComposer - Hyperparameters tuning started with 4 min. timeout\n"
     ]
    },
    {
     "name": "stderr",
     "output_type": "stream",
     "text": [
      "\n"
     ]
    },
    {
     "name": "stdout",
     "output_type": "stream",
     "text": [
      "2023-06-20 00:37:15,541 - SimultaneousTuner - Initial graph: {'depth': 3, 'length': 3, 'nodes': [gbr, treg, scaling]}\n",
      "gbr - {}\n",
      "treg - {'max_features': 0.9092317395971324, 'min_samples_split': 5, 'min_samples_leaf': 1, 'bootstrap': False}\n",
      "scaling - {} \n",
      "Initial metric: 2.796\n",
      " 50%|█████     | 5/10 [01:32<01:30, 18.13s/trial, best loss: 4.114967174339948]"
     ]
    },
    {
     "name": "stderr",
     "output_type": "stream",
     "text": [
      "C:\\Users\\sirau\\AppData\\Roaming\\Python\\Python310\\site-packages\\sklearn\\ensemble\\_gb.py:301: FutureWarning: The loss 'lad' was deprecated in v1.0 and will be removed in version 1.2. Use 'absolute_error' which is equivalent.\n",
      "  warnings.warn(\n",
      "\n",
      "C:\\Users\\sirau\\AppData\\Roaming\\Python\\Python310\\site-packages\\sklearn\\ensemble\\_gb.py:301: FutureWarning: The loss 'lad' was deprecated in v1.0 and will be removed in version 1.2. Use 'absolute_error' which is equivalent.\n",
      "  warnings.warn(\n",
      "\n",
      "C:\\Users\\sirau\\AppData\\Roaming\\Python\\Python310\\site-packages\\sklearn\\ensemble\\_gb.py:301: FutureWarning: The loss 'lad' was deprecated in v1.0 and will be removed in version 1.2. Use 'absolute_error' which is equivalent.\n",
      "  warnings.warn(\n",
      "\n",
      "C:\\Users\\sirau\\AppData\\Roaming\\Python\\Python310\\site-packages\\sklearn\\ensemble\\_gb.py:301: FutureWarning: The loss 'lad' was deprecated in v1.0 and will be removed in version 1.2. Use 'absolute_error' which is equivalent.\n",
      "  warnings.warn(\n",
      "\n",
      "C:\\Users\\sirau\\AppData\\Roaming\\Python\\Python310\\site-packages\\sklearn\\ensemble\\_gb.py:301: FutureWarning: The loss 'lad' was deprecated in v1.0 and will be removed in version 1.2. Use 'absolute_error' which is equivalent.\n",
      "  warnings.warn(\n",
      "\n"
     ]
    },
    {
     "name": "stdout",
     "output_type": "stream",
     "text": [
      " 60%|██████    | 6/10 [01:53<01:15, 18.90s/trial, best loss: 4.114967174339948]"
     ]
    },
    {
     "name": "stderr",
     "output_type": "stream",
     "text": [
      "C:\\Users\\sirau\\AppData\\Roaming\\Python\\Python310\\site-packages\\sklearn\\ensemble\\_gb.py:294: FutureWarning: The loss 'ls' was deprecated in v1.0 and will be removed in version 1.2. Use 'squared_error' which is equivalent.\n",
      "  warnings.warn(\n",
      "\n",
      "C:\\Users\\sirau\\AppData\\Roaming\\Python\\Python310\\site-packages\\sklearn\\ensemble\\_gb.py:294: FutureWarning: The loss 'ls' was deprecated in v1.0 and will be removed in version 1.2. Use 'squared_error' which is equivalent.\n",
      "  warnings.warn(\n",
      "\n",
      "C:\\Users\\sirau\\AppData\\Roaming\\Python\\Python310\\site-packages\\sklearn\\ensemble\\_gb.py:294: FutureWarning: The loss 'ls' was deprecated in v1.0 and will be removed in version 1.2. Use 'squared_error' which is equivalent.\n",
      "  warnings.warn(\n",
      "\n",
      "C:\\Users\\sirau\\AppData\\Roaming\\Python\\Python310\\site-packages\\sklearn\\ensemble\\_gb.py:294: FutureWarning: The loss 'ls' was deprecated in v1.0 and will be removed in version 1.2. Use 'squared_error' which is equivalent.\n",
      "  warnings.warn(\n",
      "\n",
      "C:\\Users\\sirau\\AppData\\Roaming\\Python\\Python310\\site-packages\\sklearn\\ensemble\\_gb.py:294: FutureWarning: The loss 'ls' was deprecated in v1.0 and will be removed in version 1.2. Use 'squared_error' which is equivalent.\n",
      "  warnings.warn(\n",
      "\n"
     ]
    },
    {
     "name": "stdout",
     "output_type": "stream",
     "text": [
      " 90%|█████████ | 9/10 [02:31<00:14, 14.91s/trial, best loss: 4.114967174339948]"
     ]
    },
    {
     "name": "stderr",
     "output_type": "stream",
     "text": [
      "C:\\Users\\sirau\\AppData\\Roaming\\Python\\Python310\\site-packages\\sklearn\\ensemble\\_gb.py:294: FutureWarning: The loss 'ls' was deprecated in v1.0 and will be removed in version 1.2. Use 'squared_error' which is equivalent.\n",
      "  warnings.warn(\n",
      "\n",
      "C:\\Users\\sirau\\AppData\\Roaming\\Python\\Python310\\site-packages\\sklearn\\ensemble\\_gb.py:294: FutureWarning: The loss 'ls' was deprecated in v1.0 and will be removed in version 1.2. Use 'squared_error' which is equivalent.\n",
      "  warnings.warn(\n",
      "\n",
      "C:\\Users\\sirau\\AppData\\Roaming\\Python\\Python310\\site-packages\\sklearn\\ensemble\\_gb.py:294: FutureWarning: The loss 'ls' was deprecated in v1.0 and will be removed in version 1.2. Use 'squared_error' which is equivalent.\n",
      "  warnings.warn(\n",
      "\n",
      "C:\\Users\\sirau\\AppData\\Roaming\\Python\\Python310\\site-packages\\sklearn\\ensemble\\_gb.py:294: FutureWarning: The loss 'ls' was deprecated in v1.0 and will be removed in version 1.2. Use 'squared_error' which is equivalent.\n",
      "  warnings.warn(\n",
      "\n",
      "C:\\Users\\sirau\\AppData\\Roaming\\Python\\Python310\\site-packages\\sklearn\\ensemble\\_gb.py:294: FutureWarning: The loss 'ls' was deprecated in v1.0 and will be removed in version 1.2. Use 'squared_error' which is equivalent.\n",
      "  warnings.warn(\n",
      "\n"
     ]
    },
    {
     "name": "stdout",
     "output_type": "stream",
     "text": [
      "100%|██████████| 10/10 [02:43<00:00, 16.31s/trial, best loss: 4.114967174339948]\n",
      "  0%|          | 11/100000 [00:30<847:06:44, 30.50s/trial, best loss: 4.114967174339948]"
     ]
    },
    {
     "name": "stderr",
     "output_type": "stream",
     "text": [
      "C:\\Users\\sirau\\AppData\\Roaming\\Python\\Python310\\site-packages\\sklearn\\ensemble\\_gb.py:301: FutureWarning: The loss 'lad' was deprecated in v1.0 and will be removed in version 1.2. Use 'absolute_error' which is equivalent.\n",
      "  warnings.warn(\n",
      "\n",
      "C:\\Users\\sirau\\AppData\\Roaming\\Python\\Python310\\site-packages\\sklearn\\ensemble\\_gb.py:301: FutureWarning: The loss 'lad' was deprecated in v1.0 and will be removed in version 1.2. Use 'absolute_error' which is equivalent.\n",
      "  warnings.warn(\n",
      "\n",
      "C:\\Users\\sirau\\AppData\\Roaming\\Python\\Python310\\site-packages\\sklearn\\ensemble\\_gb.py:301: FutureWarning: The loss 'lad' was deprecated in v1.0 and will be removed in version 1.2. Use 'absolute_error' which is equivalent.\n",
      "  warnings.warn(\n",
      "\n",
      "C:\\Users\\sirau\\AppData\\Roaming\\Python\\Python310\\site-packages\\sklearn\\ensemble\\_gb.py:301: FutureWarning: The loss 'lad' was deprecated in v1.0 and will be removed in version 1.2. Use 'absolute_error' which is equivalent.\n",
      "  warnings.warn(\n",
      "\n",
      "C:\\Users\\sirau\\AppData\\Roaming\\Python\\Python310\\site-packages\\sklearn\\ensemble\\_gb.py:301: FutureWarning: The loss 'lad' was deprecated in v1.0 and will be removed in version 1.2. Use 'absolute_error' which is equivalent.\n",
      "  warnings.warn(\n",
      "\n"
     ]
    },
    {
     "name": "stdout",
     "output_type": "stream",
     "text": [
      "  0%|          | 12/100000 [00:43<560:15:37, 20.17s/trial, best loss: 4.114967174339948]"
     ]
    },
    {
     "name": "stderr",
     "output_type": "stream",
     "text": [
      "C:\\Users\\sirau\\AppData\\Roaming\\Python\\Python310\\site-packages\\sklearn\\ensemble\\_gb.py:301: FutureWarning: The loss 'lad' was deprecated in v1.0 and will be removed in version 1.2. Use 'absolute_error' which is equivalent.\n",
      "  warnings.warn(\n",
      "\n",
      "C:\\Users\\sirau\\AppData\\Roaming\\Python\\Python310\\site-packages\\sklearn\\ensemble\\_gb.py:301: FutureWarning: The loss 'lad' was deprecated in v1.0 and will be removed in version 1.2. Use 'absolute_error' which is equivalent.\n",
      "  warnings.warn(\n",
      "\n",
      "C:\\Users\\sirau\\AppData\\Roaming\\Python\\Python310\\site-packages\\sklearn\\ensemble\\_gb.py:301: FutureWarning: The loss 'lad' was deprecated in v1.0 and will be removed in version 1.2. Use 'absolute_error' which is equivalent.\n",
      "  warnings.warn(\n",
      "\n",
      "C:\\Users\\sirau\\AppData\\Roaming\\Python\\Python310\\site-packages\\sklearn\\ensemble\\_gb.py:301: FutureWarning: The loss 'lad' was deprecated in v1.0 and will be removed in version 1.2. Use 'absolute_error' which is equivalent.\n",
      "  warnings.warn(\n",
      "\n",
      "C:\\Users\\sirau\\AppData\\Roaming\\Python\\Python310\\site-packages\\sklearn\\ensemble\\_gb.py:301: FutureWarning: The loss 'lad' was deprecated in v1.0 and will be removed in version 1.2. Use 'absolute_error' which is equivalent.\n",
      "  warnings.warn(\n",
      "\n"
     ]
    },
    {
     "name": "stdout",
     "output_type": "stream",
     "text": [
      "  0%|          | 13/100000 [01:06<617:20:19, 22.23s/trial, best loss: 4.114967174339948]\n",
      "2023-06-20 00:41:20,173 - SimultaneousTuner - Final graph: {'depth': 3, 'length': 3, 'nodes': [gbr, treg, scaling]}\n",
      "gbr - {}\n",
      "treg - {'max_features': 0.9092317395971324, 'min_samples_split': 5, 'min_samples_leaf': 1, 'bootstrap': False}\n",
      "scaling - {}\n",
      "2023-06-20 00:41:20,176 - SimultaneousTuner - Final metric: 2.796\n",
      "2023-06-20 00:41:20,180 - ApiComposer - Hyperparameters tuning finished\n",
      "2023-06-20 00:41:20,465 - ApiComposer - Model generation finished\n",
      "2023-06-20 00:41:23,132 - FEDOT logger - Final pipeline was fitted\n",
      "2023-06-20 00:41:23,133 - FEDOT logger - Final pipeline: {'depth': 3, 'length': 3, 'nodes': [gbr, treg, scaling]}\n",
      "gbr - {}\n",
      "treg - {'max_features': 0.9092317395971324, 'min_samples_split': 5, 'min_samples_leaf': 1, 'bootstrap': False}\n",
      "scaling - {}\n",
      "Memory consumption for finish in main session: current 9.7 MiB, max: 38.6 MiB\n",
      "Successfully composed Лимфоциты#_dinam_fact \n",
      "\n",
      "Start composing Fedot pipeline АСТ_dinam_fact, window size 1\n",
      "2023-06-20 00:41:50,997 - AssumptionsHandler - Memory consumption for fitting of the initial pipeline in main session: current 6.4 MiB, max: 34.3 MiB\n",
      "2023-06-20 00:41:51,000 - ApiComposer - Initial pipeline was fitted in 3.1 sec.\n",
      "2023-06-20 00:41:51,002 - AssumptionsHandler - Preset was changed to best_quality due to fit time estimation for initial model.\n",
      "2023-06-20 00:41:51,008 - ApiComposer - AutoML configured. Parameters tuning: True. Time limit: 10 min. Set of candidate models: ['isolation_forest_reg', 'gbr', 'svr', 'knnreg', 'dtreg', 'pca', 'ransac_lin_reg', 'poly_features', 'fast_ica', 'adareg', 'sgdr', 'ridge', 'rfr', 'treg', 'scaling', 'ransac_non_lin_reg', 'lgbmreg', 'lasso', 'normalization', 'linear', 'isolation_forest_reg', 'gbr', 'svr', 'knnreg', 'dtreg', 'pca', 'ransac_lin_reg', 'poly_features', 'fast_ica', 'adareg', 'sgdr', 'ridge', 'rfr', 'treg', 'scaling', 'ransac_non_lin_reg', 'lgbmreg', 'lasso', 'normalization', 'linear'].\n",
      "2023-06-20 00:41:51,011 - ApiComposer - Pipeline composition started.\n"
     ]
    },
    {
     "name": "stderr",
     "output_type": "stream",
     "text": [
      "Generations:   0%|          | 1/10000 [00:00<?, ?gen/s]"
     ]
    },
    {
     "name": "stdout",
     "output_type": "stream",
     "text": [
      "2023-06-20 00:41:54,691 - MultiprocessingDispatcher - 1 individuals out of 1 in previous population were evaluated successfully.\n",
      "2023-06-20 00:43:03,674 - MultiprocessingDispatcher - 21 individuals out of 21 in previous population were evaluated successfully.\n",
      "2023-06-20 00:43:42,159 - MultiprocessingDispatcher - 20 individuals out of 20 in previous population were evaluated successfully.\n",
      "2023-06-20 00:43:54,997 - MultiprocessingDispatcher - 20 individuals out of 20 in previous population were evaluated successfully.\n",
      "2023-06-20 00:44:16,267 - MultiprocessingDispatcher - 32 individuals out of 32 in previous population were evaluated successfully.\n",
      "2023-06-20 00:45:53,919 - MultiprocessingDispatcher - 54 individuals out of 54 in previous population were evaluated successfully.\n",
      "2023-06-20 00:47:12,212 - MultiprocessingDispatcher - 54 individuals out of 54 in previous population were evaluated successfully.\n",
      "2023-06-20 00:47:12,228 - GroupedCondition - Optimisation stopped: Time limit is reached\n"
     ]
    },
    {
     "name": "stderr",
     "output_type": "stream",
     "text": [
      "Generations:   0%|          | 1/10000 [05:21<?, ?gen/s]"
     ]
    },
    {
     "name": "stdout",
     "output_type": "stream",
     "text": [
      "2023-06-20 00:47:12,236 - ApiComposer - Hyperparameters tuning started with 5 min. timeout\n"
     ]
    },
    {
     "name": "stderr",
     "output_type": "stream",
     "text": [
      "\n"
     ]
    },
    {
     "name": "stdout",
     "output_type": "stream",
     "text": [
      "2023-06-20 00:47:15,417 - SimultaneousTuner - Initial graph: {'depth': 2, 'length': 2, 'nodes': [lasso, scaling]}\n",
      "lasso - {'alpha': 6.855016002684591}\n",
      "scaling - {} \n",
      "Initial metric: 78.622\n",
      "100%|██████████| 1/1 [00:03<00:00,  3.65s/trial, best loss: 78.62199405588366]\n",
      "  0%|          | 73/100000 [04:26<102:49:21,  3.70s/trial, best loss: 78.62199405588366]\n",
      "2023-06-20 00:51:49,634 - SimultaneousTuner - Final graph: {'depth': 2, 'length': 2, 'nodes': [lasso, scaling]}\n",
      "lasso - {'alpha': 6.855016002684591}\n",
      "scaling - {}\n",
      "2023-06-20 00:51:49,639 - SimultaneousTuner - Final metric: 78.622\n",
      "2023-06-20 00:51:49,643 - ApiComposer - Hyperparameters tuning finished\n",
      "2023-06-20 00:51:49,958 - ApiComposer - Model generation finished\n",
      "2023-06-20 00:51:50,787 - FEDOT logger - Final pipeline was fitted\n",
      "2023-06-20 00:51:50,788 - FEDOT logger - Final pipeline: {'depth': 2, 'length': 2, 'nodes': [lasso, scaling]}\n",
      "lasso - {'alpha': 6.855016002684591}\n",
      "scaling - {}\n",
      "Memory consumption for finish in main session: current 8.3 MiB, max: 34.3 MiB\n",
      "Successfully composed АСТ_dinam_fact \n",
      "\n",
      "Start composing Fedot pipeline ЧСС_dinam_fact, window size 1\n",
      "2023-06-20 00:52:14,858 - AssumptionsHandler - Memory consumption for fitting of the initial pipeline in main session: current 6.9 MiB, max: 33.7 MiB\n",
      "2023-06-20 00:52:14,863 - ApiComposer - Initial pipeline was fitted in 4.1 sec.\n",
      "2023-06-20 00:52:14,865 - AssumptionsHandler - Preset was changed to best_quality due to fit time estimation for initial model.\n",
      "2023-06-20 00:52:14,872 - ApiComposer - AutoML configured. Parameters tuning: True. Time limit: 10 min. Set of candidate models: ['isolation_forest_reg', 'gbr', 'svr', 'knnreg', 'dtreg', 'pca', 'ransac_lin_reg', 'poly_features', 'fast_ica', 'adareg', 'sgdr', 'ridge', 'rfr', 'treg', 'scaling', 'ransac_non_lin_reg', 'lgbmreg', 'lasso', 'normalization', 'linear', 'isolation_forest_reg', 'gbr', 'svr', 'knnreg', 'dtreg', 'pca', 'ransac_lin_reg', 'poly_features', 'fast_ica', 'adareg', 'sgdr', 'ridge', 'rfr', 'treg', 'scaling', 'ransac_non_lin_reg', 'lgbmreg', 'lasso', 'normalization', 'linear'].\n",
      "2023-06-20 00:52:14,875 - ApiComposer - Pipeline composition started.\n"
     ]
    },
    {
     "name": "stderr",
     "output_type": "stream",
     "text": [
      "Generations:   0%|          | 1/10000 [00:00<?, ?gen/s]"
     ]
    },
    {
     "name": "stdout",
     "output_type": "stream",
     "text": [
      "2023-06-20 00:52:27,174 - MultiprocessingDispatcher - 1 individuals out of 1 in previous population were evaluated successfully.\n",
      "2023-06-20 00:53:47,935 - MultiprocessingDispatcher - 21 individuals out of 21 in previous population were evaluated successfully.\n",
      "2023-06-20 00:54:14,249 - MultiprocessingDispatcher - 20 individuals out of 20 in previous population were evaluated successfully.\n",
      "2023-06-20 00:54:39,957 - MultiprocessingDispatcher - 20 individuals out of 20 in previous population were evaluated successfully.\n",
      "2023-06-20 00:55:12,119 - MultiprocessingDispatcher - 32 individuals out of 32 in previous population were evaluated successfully.\n",
      "2023-06-20 00:56:05,837 - MultiprocessingDispatcher - 32 individuals out of 32 in previous population were evaluated successfully.\n",
      "2023-06-20 00:56:57,613 - MultiprocessingDispatcher - 54 individuals out of 54 in previous population were evaluated successfully.\n",
      "2023-06-20 00:58:26,859 - MultiprocessingDispatcher - 54 individuals out of 54 in previous population were evaluated successfully.\n",
      "2023-06-20 00:58:26,876 - GroupedCondition - Optimisation stopped: Time limit is reached\n"
     ]
    },
    {
     "name": "stderr",
     "output_type": "stream",
     "text": [
      "Generations:   0%|          | 1/10000 [06:11<?, ?gen/s]"
     ]
    },
    {
     "name": "stdout",
     "output_type": "stream",
     "text": [
      "2023-06-20 00:58:26,885 - ApiComposer - Hyperparameters tuning started with 4 min. timeout\n"
     ]
    },
    {
     "name": "stderr",
     "output_type": "stream",
     "text": [
      "\n"
     ]
    },
    {
     "name": "stdout",
     "output_type": "stream",
     "text": [
      "2023-06-20 00:58:34,225 - SimultaneousTuner - Initial graph: {'depth': 3, 'length': 3, 'nodes': [rfr, lasso, scaling]}\n",
      "rfr - {'n_jobs': 1}\n",
      "lasso - {}\n",
      "scaling - {} \n",
      "Initial metric: 16.082\n",
      "  0%|          | 31/100000 [03:35<192:44:59,  6.94s/trial, best loss: 16.082221304227737]\n",
      "2023-06-20 01:02:16,766 - SimultaneousTuner - Final graph: {'depth': 3, 'length': 3, 'nodes': [rfr, lasso, scaling]}\n",
      "rfr - {'n_jobs': 1}\n",
      "lasso - {}\n",
      "scaling - {}\n",
      "2023-06-20 01:02:16,768 - SimultaneousTuner - Final metric: 16.082\n",
      "2023-06-20 01:02:16,773 - ApiComposer - Hyperparameters tuning finished\n",
      "2023-06-20 01:02:17,143 - ApiComposer - Model generation finished\n",
      "2023-06-20 01:02:18,762 - FEDOT logger - Final pipeline was fitted\n",
      "2023-06-20 01:02:18,765 - FEDOT logger - Final pipeline: {'depth': 3, 'length': 3, 'nodes': [rfr, lasso, scaling]}\n",
      "rfr - {'n_jobs': -1}\n",
      "lasso - {}\n",
      "scaling - {}\n",
      "Memory consumption for finish in main session: current 8.9 MiB, max: 33.7 MiB\n",
      "Successfully composed ЧСС_dinam_fact \n",
      "\n",
      "Start composing Fedot pipeline ЧДД_dinam_fact, window size 1\n",
      "2023-06-20 01:02:35,050 - AssumptionsHandler - Memory consumption for fitting of the initial pipeline in main session: current 7.9 MiB, max: 27.7 MiB\n",
      "2023-06-20 01:02:35,053 - ApiComposer - Initial pipeline was fitted in 4.0 sec.\n",
      "2023-06-20 01:02:35,055 - AssumptionsHandler - Preset was changed to best_quality due to fit time estimation for initial model.\n",
      "2023-06-20 01:02:35,062 - ApiComposer - AutoML configured. Parameters tuning: True. Time limit: 10 min. Set of candidate models: ['isolation_forest_reg', 'gbr', 'svr', 'knnreg', 'dtreg', 'pca', 'ransac_lin_reg', 'poly_features', 'fast_ica', 'adareg', 'sgdr', 'ridge', 'rfr', 'treg', 'scaling', 'ransac_non_lin_reg', 'lgbmreg', 'lasso', 'normalization', 'linear', 'isolation_forest_reg', 'gbr', 'svr', 'knnreg', 'dtreg', 'pca', 'ransac_lin_reg', 'poly_features', 'fast_ica', 'adareg', 'sgdr', 'ridge', 'rfr', 'treg', 'scaling', 'ransac_non_lin_reg', 'lgbmreg', 'lasso', 'normalization', 'linear'].\n",
      "2023-06-20 01:02:35,066 - ApiComposer - Pipeline composition started.\n"
     ]
    },
    {
     "name": "stderr",
     "output_type": "stream",
     "text": [
      "Generations:   0%|          | 1/10000 [00:00<?, ?gen/s]"
     ]
    },
    {
     "name": "stdout",
     "output_type": "stream",
     "text": [
      "2023-06-20 01:02:39,849 - MultiprocessingDispatcher - 1 individuals out of 1 in previous population were evaluated successfully.\n",
      "2023-06-20 01:04:33,685 - MultiprocessingDispatcher - 21 individuals out of 21 in previous population were evaluated successfully.\n",
      "2023-06-20 01:06:15,387 - MultiprocessingDispatcher - 20 individuals out of 20 in previous population were evaluated successfully.\n",
      "2023-06-20 01:06:29,745 - MultiprocessingDispatcher - 20 individuals out of 20 in previous population were evaluated successfully.\n",
      "2023-06-20 01:07:08,844 - MultiprocessingDispatcher - 32 individuals out of 32 in previous population were evaluated successfully.\n",
      "2023-06-20 01:08:39,182 - MultiprocessingDispatcher - 54 individuals out of 54 in previous population were evaluated successfully.\n",
      "2023-06-20 01:08:39,198 - GroupedCondition - Optimisation stopped: Time limit is reached\n"
     ]
    },
    {
     "name": "stderr",
     "output_type": "stream",
     "text": [
      "Generations:   0%|          | 1/10000 [06:04<?, ?gen/s]"
     ]
    },
    {
     "name": "stdout",
     "output_type": "stream",
     "text": [
      "2023-06-20 01:08:39,207 - ApiComposer - Hyperparameters tuning started with 4 min. timeout\n"
     ]
    },
    {
     "name": "stderr",
     "output_type": "stream",
     "text": [
      "\n"
     ]
    },
    {
     "name": "stdout",
     "output_type": "stream",
     "text": [
      "2023-06-20 01:08:47,002 - SimultaneousTuner - Initial graph: {'depth': 2, 'length': 2, 'nodes': [rfr, scaling]}\n",
      "rfr - {'n_jobs': 1, 'max_features': 0.05885844474664863, 'min_samples_split': 4, 'min_samples_leaf': 6, 'bootstrap': False}\n",
      "scaling - {} \n",
      "Initial metric: 2.314\n",
      "100%|██████████| 1/1 [00:08<00:00,  8.48s/trial, best loss: 2.314262480579501]\n",
      "  0%|          | 18/100000 [03:29<342:32:05, 12.33s/trial, best loss: 2.314262480579501]\n",
      "2023-06-20 01:12:32,436 - SimultaneousTuner - Final graph: {'depth': 2, 'length': 2, 'nodes': [rfr, scaling]}\n",
      "rfr - {'n_jobs': 1, 'max_features': 0.05885844474664863, 'min_samples_split': 4, 'min_samples_leaf': 6, 'bootstrap': False}\n",
      "scaling - {}\n",
      "2023-06-20 01:12:32,441 - SimultaneousTuner - Final metric: 2.314\n",
      "2023-06-20 01:12:32,445 - ApiComposer - Hyperparameters tuning finished\n",
      "2023-06-20 01:12:32,770 - ApiComposer - Model generation finished\n",
      "2023-06-20 01:12:34,355 - FEDOT logger - Final pipeline was fitted\n",
      "2023-06-20 01:12:34,357 - FEDOT logger - Final pipeline: {'depth': 2, 'length': 2, 'nodes': [rfr, scaling]}\n",
      "rfr - {'n_jobs': -1, 'max_features': 0.05885844474664863, 'min_samples_split': 4, 'min_samples_leaf': 6, 'bootstrap': False}\n",
      "scaling - {}\n",
      "Memory consumption for finish in main session: current 9.8 MiB, max: 27.7 MiB\n",
      "Successfully composed ЧДД_dinam_fact \n",
      "\n",
      "Start composing Fedot pipeline Билирубин общий_dinam_fact, window size 1\n",
      "2023-06-20 01:12:39,568 - AssumptionsHandler - Memory consumption for fitting of the initial pipeline in main session: current 4.8 MiB, max: 25.9 MiB\n",
      "2023-06-20 01:12:39,570 - ApiComposer - Initial pipeline was fitted in 2.7 sec.\n",
      "2023-06-20 01:12:39,573 - AssumptionsHandler - Preset was changed to best_quality due to fit time estimation for initial model.\n",
      "2023-06-20 01:12:39,580 - ApiComposer - AutoML configured. Parameters tuning: True. Time limit: 10 min. Set of candidate models: ['isolation_forest_reg', 'gbr', 'svr', 'knnreg', 'dtreg', 'pca', 'ransac_lin_reg', 'poly_features', 'fast_ica', 'adareg', 'sgdr', 'ridge', 'rfr', 'treg', 'scaling', 'ransac_non_lin_reg', 'lgbmreg', 'lasso', 'normalization', 'linear', 'isolation_forest_reg', 'gbr', 'svr', 'knnreg', 'dtreg', 'pca', 'ransac_lin_reg', 'poly_features', 'fast_ica', 'adareg', 'sgdr', 'ridge', 'rfr', 'treg', 'scaling', 'ransac_non_lin_reg', 'lgbmreg', 'lasso', 'normalization', 'linear'].\n",
      "2023-06-20 01:12:39,583 - ApiComposer - Pipeline composition started.\n"
     ]
    },
    {
     "name": "stderr",
     "output_type": "stream",
     "text": [
      "Generations:   0%|          | 1/10000 [00:00<?, ?gen/s]"
     ]
    },
    {
     "name": "stdout",
     "output_type": "stream",
     "text": [
      "2023-06-20 01:12:43,012 - MultiprocessingDispatcher - 1 individuals out of 1 in previous population were evaluated successfully.\n",
      "2023-06-20 01:13:57,562 - MultiprocessingDispatcher - 21 individuals out of 21 in previous population were evaluated successfully.\n",
      "2023-06-20 01:14:49,796 - MultiprocessingDispatcher - 20 individuals out of 20 in previous population were evaluated successfully.\n",
      "2023-06-20 01:15:00,434 - MultiprocessingDispatcher - 20 individuals out of 20 in previous population were evaluated successfully.\n",
      "2023-06-20 01:15:39,712 - MultiprocessingDispatcher - 32 individuals out of 32 in previous population were evaluated successfully.\n",
      "2023-06-20 01:16:13,953 - MultiprocessingDispatcher - 54 individuals out of 54 in previous population were evaluated successfully.\n",
      "2023-06-20 01:16:59,750 - MultiprocessingDispatcher - 54 individuals out of 54 in previous population were evaluated successfully.\n",
      "2023-06-20 01:17:52,483 - MultiprocessingDispatcher - 54 individuals out of 54 in previous population were evaluated successfully.\n",
      "2023-06-20 01:19:06,915 - MultiprocessingDispatcher - 54 individuals out of 54 in previous population were evaluated successfully.\n",
      "2023-06-20 01:19:06,942 - GroupedCondition - Optimisation stopped: Time limit is reached\n"
     ]
    },
    {
     "name": "stderr",
     "output_type": "stream",
     "text": [
      "Generations:   0%|          | 1/10000 [06:27<?, ?gen/s]"
     ]
    },
    {
     "name": "stdout",
     "output_type": "stream",
     "text": [
      "2023-06-20 01:19:06,957 - ApiComposer - Hyperparameters tuning started with 3 min. timeout\n"
     ]
    },
    {
     "name": "stderr",
     "output_type": "stream",
     "text": [
      "\n"
     ]
    },
    {
     "name": "stdout",
     "output_type": "stream",
     "text": [
      "2023-06-20 01:19:55,352 - SimultaneousTuner - Initial graph: {'depth': 3, 'length': 3, 'nodes': [rfr, scaling, fast_ica]}\n",
      "rfr - {'n_jobs': 1, 'max_features': 0.957011372367486, 'min_samples_split': 4, 'min_samples_leaf': 10, 'bootstrap': True}\n",
      "scaling - {}\n",
      "fast_ica - {'whiten': 'unit-variance'} \n",
      "Initial metric: 7.393\n",
      "100%|██████████| 10/10 [02:13<00:00, 13.39s/trial, best loss: 7.414267581255865]\n",
      "2023-06-20 01:22:09,300 - SimultaneousTuner - Tunner stopped after initial search due to the lack of time\n",
      "2023-06-20 01:22:09,308 - ApiComposer - Hyperparameters tuning finished\n",
      "2023-06-20 01:22:09,744 - ApiComposer - Model generation finished\n",
      "2023-06-20 01:22:12,852 - FEDOT logger - Final pipeline was fitted\n",
      "2023-06-20 01:22:12,854 - FEDOT logger - Final pipeline: {'depth': 3, 'length': 3, 'nodes': [rfr, scaling, fast_ica]}\n",
      "rfr - {'n_jobs': -1, 'max_features': 0.957011372367486, 'min_samples_split': 4, 'min_samples_leaf': 10, 'bootstrap': True}\n",
      "scaling - {}\n",
      "fast_ica - {'whiten': 'unit-variance', 'fun': 'logcosh', 'n_components': 10}\n",
      "Memory consumption for finish in main session: current 6.5 MiB, max: 25.9 MiB\n",
      "Successfully composed Билирубин общий_dinam_fact \n",
      "\n",
      "Start composing Fedot pipeline MPV- Средн.объем тромбоцитов_dinam_fact, window size 1\n",
      "2023-06-20 01:22:18,878 - AssumptionsHandler - Memory consumption for fitting of the initial pipeline in main session: current 7.2 MiB, max: 37.1 MiB\n",
      "2023-06-20 01:22:18,880 - ApiComposer - Initial pipeline was fitted in 3.4 sec.\n",
      "2023-06-20 01:22:18,882 - AssumptionsHandler - Preset was changed to best_quality due to fit time estimation for initial model.\n",
      "2023-06-20 01:22:18,889 - ApiComposer - AutoML configured. Parameters tuning: True. Time limit: 10 min. Set of candidate models: ['isolation_forest_reg', 'gbr', 'svr', 'knnreg', 'dtreg', 'pca', 'ransac_lin_reg', 'poly_features', 'fast_ica', 'adareg', 'sgdr', 'ridge', 'rfr', 'treg', 'scaling', 'ransac_non_lin_reg', 'lgbmreg', 'lasso', 'normalization', 'linear', 'isolation_forest_reg', 'gbr', 'svr', 'knnreg', 'dtreg', 'pca', 'ransac_lin_reg', 'poly_features', 'fast_ica', 'adareg', 'sgdr', 'ridge', 'rfr', 'treg', 'scaling', 'ransac_non_lin_reg', 'lgbmreg', 'lasso', 'normalization', 'linear'].\n",
      "2023-06-20 01:22:18,892 - ApiComposer - Pipeline composition started.\n"
     ]
    },
    {
     "name": "stderr",
     "output_type": "stream",
     "text": [
      "Generations:   0%|          | 1/10000 [00:00<?, ?gen/s]"
     ]
    },
    {
     "name": "stdout",
     "output_type": "stream",
     "text": [
      "2023-06-20 01:22:23,595 - MultiprocessingDispatcher - 1 individuals out of 1 in previous population were evaluated successfully.\n",
      "2023-06-20 01:23:43,720 - MultiprocessingDispatcher - 21 individuals out of 21 in previous population were evaluated successfully.\n",
      "2023-06-20 01:25:05,133 - MultiprocessingDispatcher - 20 individuals out of 20 in previous population were evaluated successfully.\n",
      "2023-06-20 01:26:33,583 - MultiprocessingDispatcher - 20 individuals out of 20 in previous population were evaluated successfully.\n",
      "2023-06-20 01:27:01,830 - MultiprocessingDispatcher - 20 individuals out of 20 in previous population were evaluated successfully.\n",
      "2023-06-20 01:29:09,442 - MultiprocessingDispatcher - 32 individuals out of 32 in previous population were evaluated successfully.\n",
      "2023-06-20 01:29:09,458 - GroupedCondition - Optimisation stopped: Time limit is reached\n"
     ]
    },
    {
     "name": "stderr",
     "output_type": "stream",
     "text": [
      "Generations:   0%|          | 1/10000 [06:50<?, ?gen/s]"
     ]
    },
    {
     "name": "stdout",
     "output_type": "stream",
     "text": [
      "2023-06-20 01:29:09,469 - ApiComposer - Hyperparameters tuning started with 3 min. timeout\n"
     ]
    },
    {
     "name": "stderr",
     "output_type": "stream",
     "text": [
      "\n"
     ]
    },
    {
     "name": "stdout",
     "output_type": "stream",
     "text": [
      "2023-06-20 01:30:22,227 - SimultaneousTuner - Initial graph: {'depth': 3, 'length': 3, 'nodes': [rfr, fast_ica, scaling]}\n",
      "rfr - {'n_jobs': 1}\n",
      "fast_ica - {'whiten': 'unit-variance'}\n",
      "scaling - {} \n",
      "Initial metric: 1.604\n",
      "  0%|          | 4/100000 [00:51<356:37:15, 12.84s/trial, best loss: 1.649852313299337]\n",
      "2023-06-20 01:31:23,924 - SimultaneousTuner - Final graph: {'depth': 3, 'length': 3, 'nodes': [rfr, fast_ica, scaling]}\n",
      "rfr - {'n_jobs': 1}\n",
      "fast_ica - {'whiten': 'unit-variance'}\n",
      "scaling - {}\n",
      "2023-06-20 01:31:23,926 - SimultaneousTuner - Final metric: 1.604\n",
      "2023-06-20 01:31:23,930 - ApiComposer - Hyperparameters tuning finished\n",
      "2023-06-20 01:31:24,256 - ApiComposer - Model generation finished\n",
      "2023-06-20 01:31:42,255 - FEDOT logger - Final pipeline was fitted\n",
      "2023-06-20 01:31:42,257 - FEDOT logger - Final pipeline: {'depth': 3, 'length': 3, 'nodes': [rfr, fast_ica, scaling]}\n",
      "rfr - {'n_jobs': -1}\n",
      "fast_ica - {'whiten': 'unit-variance'}\n",
      "scaling - {}\n",
      "Memory consumption for finish in main session: current 9.0 MiB, max: 37.1 MiB\n",
      "Successfully composed MPV- Средн.объем тромбоцитов_dinam_fact \n",
      "\n",
      "Start composing Fedot pipeline PCT- Тромбокрит_dinam_fact, window size 1\n",
      "2023-06-20 01:31:48,804 - AssumptionsHandler - Memory consumption for fitting of the initial pipeline in main session: current 7.2 MiB, max: 37.9 MiB\n",
      "2023-06-20 01:31:48,807 - ApiComposer - Initial pipeline was fitted in 3.6 sec.\n",
      "2023-06-20 01:31:48,809 - AssumptionsHandler - Preset was changed to best_quality due to fit time estimation for initial model.\n",
      "2023-06-20 01:31:48,816 - ApiComposer - AutoML configured. Parameters tuning: True. Time limit: 10 min. Set of candidate models: ['isolation_forest_reg', 'gbr', 'svr', 'knnreg', 'dtreg', 'pca', 'ransac_lin_reg', 'poly_features', 'fast_ica', 'adareg', 'sgdr', 'ridge', 'rfr', 'treg', 'scaling', 'ransac_non_lin_reg', 'lgbmreg', 'lasso', 'normalization', 'linear', 'isolation_forest_reg', 'gbr', 'svr', 'knnreg', 'dtreg', 'pca', 'ransac_lin_reg', 'poly_features', 'fast_ica', 'adareg', 'sgdr', 'ridge', 'rfr', 'treg', 'scaling', 'ransac_non_lin_reg', 'lgbmreg', 'lasso', 'normalization', 'linear'].\n",
      "2023-06-20 01:31:48,820 - ApiComposer - Pipeline composition started.\n"
     ]
    },
    {
     "name": "stderr",
     "output_type": "stream",
     "text": [
      "Generations:   0%|          | 1/10000 [00:00<?, ?gen/s]"
     ]
    },
    {
     "name": "stdout",
     "output_type": "stream",
     "text": [
      "2023-06-20 01:31:53,670 - MultiprocessingDispatcher - 1 individuals out of 1 in previous population were evaluated successfully.\n",
      "2023-06-20 01:33:19,364 - MultiprocessingDispatcher - 21 individuals out of 21 in previous population were evaluated successfully.\n",
      "2023-06-20 01:35:04,010 - MultiprocessingDispatcher - 20 individuals out of 20 in previous population were evaluated successfully.\n",
      "2023-06-20 01:35:18,900 - MultiprocessingDispatcher - 20 individuals out of 20 in previous population were evaluated successfully.\n",
      "2023-06-20 01:36:18,863 - MultiprocessingDispatcher - 32 individuals out of 32 in previous population were evaluated successfully.\n",
      "2023-06-20 01:37:15,976 - MultiprocessingDispatcher - 54 individuals out of 54 in previous population were evaluated successfully.\n",
      "2023-06-20 01:37:15,992 - GroupedCondition - Optimisation stopped: Time limit is reached\n"
     ]
    },
    {
     "name": "stderr",
     "output_type": "stream",
     "text": [
      "Generations:   0%|          | 1/10000 [05:27<?, ?gen/s]"
     ]
    },
    {
     "name": "stdout",
     "output_type": "stream",
     "text": [
      "2023-06-20 01:37:16,001 - ApiComposer - Hyperparameters tuning started with 4 min. timeout\n"
     ]
    },
    {
     "name": "stderr",
     "output_type": "stream",
     "text": [
      "\n"
     ]
    },
    {
     "name": "stdout",
     "output_type": "stream",
     "text": [
      "2023-06-20 01:37:23,105 - SimultaneousTuner - Initial graph: {'depth': 2, 'length': 2, 'nodes': [rfr, normalization]}\n",
      "rfr - {'n_jobs': 1, 'max_features': 0.07877333391524474, 'min_samples_split': 7, 'min_samples_leaf': 16, 'bootstrap': True}\n",
      "normalization - {} \n",
      "Initial metric: 0.105\n",
      "100%|██████████| 1/1 [00:07<00:00,  7.93s/trial, best loss: 0.10488147051306415]\n",
      "  0%|          | 25/100000 [04:11<291:25:15, 10.49s/trial, best loss: 0.10474436759712155]\n",
      "2023-06-20 01:41:49,651 - SimultaneousTuner - Final graph: {'depth': 2, 'length': 2, 'nodes': [rfr, normalization]}\n",
      "rfr - {'n_jobs': 1, 'max_features': 0.08405206523037131, 'min_samples_split': 20, 'min_samples_leaf': 7, 'bootstrap': False}\n",
      "normalization - {}\n",
      "2023-06-20 01:41:49,657 - SimultaneousTuner - Final metric: 0.105\n",
      "2023-06-20 01:41:49,660 - ApiComposer - Hyperparameters tuning finished\n",
      "2023-06-20 01:41:50,006 - ApiComposer - Model generation finished\n",
      "2023-06-20 01:41:51,595 - FEDOT logger - Final pipeline was fitted\n",
      "2023-06-20 01:41:51,597 - FEDOT logger - Final pipeline: {'depth': 2, 'length': 2, 'nodes': [rfr, normalization]}\n",
      "rfr - {'n_jobs': -1, 'max_features': 0.08405206523037131, 'min_samples_split': 20, 'min_samples_leaf': 7, 'bootstrap': False}\n",
      "normalization - {}\n",
      "Memory consumption for finish in main session: current 9.0 MiB, max: 37.9 MiB\n",
      "Successfully composed PCT- Тромбокрит_dinam_fact \n",
      "\n",
      "Start composing Fedot pipeline Лимфоциты%_dinam_fact, window size 1\n",
      "2023-06-20 01:41:58,410 - AssumptionsHandler - Memory consumption for fitting of the initial pipeline in main session: current 7.2 MiB, max: 38.8 MiB\n",
      "2023-06-20 01:41:58,413 - ApiComposer - Initial pipeline was fitted in 3.7 sec.\n",
      "2023-06-20 01:41:58,415 - AssumptionsHandler - Preset was changed to best_quality due to fit time estimation for initial model.\n",
      "2023-06-20 01:41:58,423 - ApiComposer - AutoML configured. Parameters tuning: True. Time limit: 10 min. Set of candidate models: ['isolation_forest_reg', 'gbr', 'svr', 'knnreg', 'dtreg', 'pca', 'ransac_lin_reg', 'poly_features', 'fast_ica', 'adareg', 'sgdr', 'ridge', 'rfr', 'treg', 'scaling', 'ransac_non_lin_reg', 'lgbmreg', 'lasso', 'normalization', 'linear', 'isolation_forest_reg', 'gbr', 'svr', 'knnreg', 'dtreg', 'pca', 'ransac_lin_reg', 'poly_features', 'fast_ica', 'adareg', 'sgdr', 'ridge', 'rfr', 'treg', 'scaling', 'ransac_non_lin_reg', 'lgbmreg', 'lasso', 'normalization', 'linear'].\n",
      "2023-06-20 01:41:58,428 - ApiComposer - Pipeline composition started.\n"
     ]
    },
    {
     "name": "stderr",
     "output_type": "stream",
     "text": [
      "Generations:   0%|          | 1/10000 [00:00<?, ?gen/s]"
     ]
    },
    {
     "name": "stdout",
     "output_type": "stream",
     "text": [
      "2023-06-20 01:42:03,454 - MultiprocessingDispatcher - 1 individuals out of 1 in previous population were evaluated successfully.\n"
     ]
    }
   ],
   "source": [
    "parameters_validation = []\n",
    "preprocessor = FedotPreprocessor()\n",
    "for window in [1, 2, 3, 4, 5]: \n",
    "    data = preprocessor.preprocess(df, window)\n",
    "    pipelines_saved = {}\n",
    "    for col in list(data.keys()):\n",
    "        print(f\"Start composing Fedot pipeline {col}, window size {window}\")\n",
    "        model = build_fedot()\n",
    "        X_param, y_param = data[col][\"X\"], data[col][\"y\"]\n",
    "        pipeline = model.fit(X_param, y_param)\n",
    "        pipelines_saved[col] = pipeline\n",
    "        pipeline.save(f\"fedot_pipelines\\\\window_{window}\\\\{col}\", create_subdir=False, is_datetime_in_path=False)\n",
    "        print(f\"Successfully composed {col} \\n\")\n",
    "    print(\"Start cross validation\")\n",
    "    for column in tqdm(list(data.keys())):\n",
    "        X_param, y_param = data[column][\"X\"], data[column][\"y\"]\n",
    "        model = pipelines_saved[col]\n",
    "        metrs = evaluate_with_intervals(model, X_param, y_param, fedot=True) \n",
    "        metrs[\"parameter\"] = column\n",
    "        metrs[\"model\"] = \"Fedot\"\n",
    "        metrs[\"window\"] = window   \n",
    "        parameters_validation.append(metrs)\n",
    "pd.DataFrame(parameters_validation).to_csv(\"Fedot_on_flat_vector.csv\")\n"
   ]
  },
  {
   "cell_type": "code",
   "execution_count": null,
   "id": "2c98ee4c",
   "metadata": {},
   "outputs": [],
   "source": []
  },
  {
   "attachments": {},
   "cell_type": "markdown",
   "id": "bc116bdf",
   "metadata": {},
   "source": [
    "# Analytics"
   ]
  },
  {
   "cell_type": "code",
   "execution_count": 62,
   "id": "ce8c0c5e",
   "metadata": {},
   "outputs": [
    {
     "data": {
      "image/png": "[encoded data removed]",
      "text/plain": [
       "<Figure size 432x288 with 1 Axes>"
      ]
     },
     "metadata": {
      "needs_background": "light"
     },
     "output_type": "display_data"
    }
   ],
   "source": [
    "import numpy as np\n",
    "def draw_stat_with_intervals(statistics_df, window=1):\n",
    "    pldata = statistics_df[statistics_df[\"window\"]==window][[\"right_r2\", \"left_r2\", \"mean_r2\", \"parameter\", \"model\"]]\n",
    "    psnames = [i[:len(i)-11] for i in pldata[\"parameter\"]]\n",
    "    for i in range(pldata.shape[0]):\n",
    "        plt.plot(pldata.iloc[i, 0:2], [i, i], c=\"blue\")\n",
    "        plt.scatter(pldata.iloc[i, 2], [i], c=\"blue\", marker=\"*\")\n",
    "    plt.title(f\"R2 on {pldata['model'].iloc[0]} model with window {window} week (with intervals)\")\n",
    "    plt.xlabel(\"R2\")\n",
    "    plt.yticks(range(len(psnames)), psnames , size='small')\n",
    "    plt.xlim((-0.6, 1))\n",
    "    plt.show()\n",
    "    plt.savefig(f\"R2 on {pldata['model'].iloc[0]} model with window {window} week (with intervals).png\")\n",
    "\n",
    "linear_regression_stat_df = pd.read_csv(\"D:\\\\covid\\\\covid\\\\test.csv\")\n",
    "draw_stat_with_intervals(linear_regression_stat_df, 1)\n"
   ]
  },
  {
   "cell_type": "code",
   "execution_count": 134,
   "id": "00b6055c",
   "metadata": {},
   "outputs": [
    {
     "data": {
      "text/html": [
       "<div>\n",
       "<style scoped>\n",
       "    .dataframe tbody tr th:only-of-type {\n",
       "        vertical-align: middle;\n",
       "    }\n",
       "\n",
       "    .dataframe tbody tr th {\n",
       "        vertical-align: top;\n",
       "    }\n",
       "\n",
       "    .dataframe thead th {\n",
       "        text-align: right;\n",
       "    }\n",
       "</style>\n",
       "<table border=\"1\" class=\"dataframe\">\n",
       "  <thead>\n",
       "    <tr style=\"text-align: right;\">\n",
       "      <th></th>\n",
       "      <th>min_r2</th>\n",
       "      <th>max_r2</th>\n",
       "      <th>avg_r2</th>\n",
       "    </tr>\n",
       "    <tr>\n",
       "      <th>parameter</th>\n",
       "      <th></th>\n",
       "      <th></th>\n",
       "      <th></th>\n",
       "    </tr>\n",
       "  </thead>\n",
       "  <tbody>\n",
       "    <tr>\n",
       "      <th>Температура_dinam_fact</th>\n",
       "      <td>-0.164567</td>\n",
       "      <td>-0.102006</td>\n",
       "      <td>-0.133286</td>\n",
       "    </tr>\n",
       "    <tr>\n",
       "      <th>Лимфоциты#_dinam_fact</th>\n",
       "      <td>-1.931608</td>\n",
       "      <td>0.726916</td>\n",
       "      <td>-0.602346</td>\n",
       "    </tr>\n",
       "    <tr>\n",
       "      <th>АСТ_dinam_fact</th>\n",
       "      <td>-8.340363</td>\n",
       "      <td>1.000000</td>\n",
       "      <td>-2.895814</td>\n",
       "    </tr>\n",
       "    <tr>\n",
       "      <th>ЧСС_dinam_fact</th>\n",
       "      <td>-0.115900</td>\n",
       "      <td>-0.042868</td>\n",
       "      <td>-0.079384</td>\n",
       "    </tr>\n",
       "    <tr>\n",
       "      <th>ЧДД_dinam_fact</th>\n",
       "      <td>-0.036888</td>\n",
       "      <td>0.123931</td>\n",
       "      <td>0.043521</td>\n",
       "    </tr>\n",
       "    <tr>\n",
       "      <th>Билирубин общий_dinam_fact</th>\n",
       "      <td>0.149049</td>\n",
       "      <td>0.505674</td>\n",
       "      <td>0.327361</td>\n",
       "    </tr>\n",
       "    <tr>\n",
       "      <th>MPV- Средн.объем тромбоцитов_dinam_fact</th>\n",
       "      <td>0.493816</td>\n",
       "      <td>0.881919</td>\n",
       "      <td>0.687867</td>\n",
       "    </tr>\n",
       "    <tr>\n",
       "      <th>PCT- Тромбокрит_dinam_fact</th>\n",
       "      <td>0.280609</td>\n",
       "      <td>0.433798</td>\n",
       "      <td>0.357204</td>\n",
       "    </tr>\n",
       "    <tr>\n",
       "      <th>Лимфоциты%_dinam_fact</th>\n",
       "      <td>0.336276</td>\n",
       "      <td>0.496436</td>\n",
       "      <td>0.416356</td>\n",
       "    </tr>\n",
       "    <tr>\n",
       "      <th>снижение_сознания_dinam_fact</th>\n",
       "      <td>0.746636</td>\n",
       "      <td>0.948713</td>\n",
       "      <td>0.847674</td>\n",
       "    </tr>\n",
       "    <tr>\n",
       "      <th>Cтепень тяжести по КТ_dinam_fact</th>\n",
       "      <td>-0.254233</td>\n",
       "      <td>-0.082872</td>\n",
       "      <td>-0.168553</td>\n",
       "    </tr>\n",
       "    <tr>\n",
       "      <th>Лактатдегидрогеназа_dinam_fact</th>\n",
       "      <td>0.161200</td>\n",
       "      <td>0.321365</td>\n",
       "      <td>0.241282</td>\n",
       "    </tr>\n",
       "    <tr>\n",
       "      <th>PDW- Индекс расп.по объему тр._dinam_fact</th>\n",
       "      <td>0.481813</td>\n",
       "      <td>0.754478</td>\n",
       "      <td>0.618145</td>\n",
       "    </tr>\n",
       "  </tbody>\n",
       "</table>\n",
       "</div>"
      ],
      "text/plain": [
       "                                             min_r2    max_r2    avg_r2\n",
       "parameter                                                              \n",
       "Температура_dinam_fact                    -0.164567 -0.102006 -0.133286\n",
       "Лимфоциты#_dinam_fact                     -1.931608  0.726916 -0.602346\n",
       "АСТ_dinam_fact                            -8.340363  1.000000 -2.895814\n",
       "ЧСС_dinam_fact                            -0.115900 -0.042868 -0.079384\n",
       "ЧДД_dinam_fact                            -0.036888  0.123931  0.043521\n",
       "Билирубин общий_dinam_fact                 0.149049  0.505674  0.327361\n",
       "MPV- Средн.объем тромбоцитов_dinam_fact    0.493816  0.881919  0.687867\n",
       "PCT- Тромбокрит_dinam_fact                 0.280609  0.433798  0.357204\n",
       "Лимфоциты%_dinam_fact                      0.336276  0.496436  0.416356\n",
       "снижение_сознания_dinam_fact               0.746636  0.948713  0.847674\n",
       "Cтепень тяжести по КТ_dinam_fact          -0.254233 -0.082872 -0.168553\n",
       "Лактатдегидрогеназа_dinam_fact             0.161200  0.321365  0.241282\n",
       "PDW- Индекс расп.по объему тр._dinam_fact  0.481813  0.754478  0.618145"
      ]
     },
     "execution_count": 134,
     "metadata": {},
     "output_type": "execute_result"
    }
   ],
   "source": [
    "tdf = hm2\n",
    "tdf[[\"parameter\", \"min_r2\", \"max_r2\", \"avg_r2\"]].set_index(\"parameter\")\n",
    "tdf.loc[tdf[tdf[\"max_r2\"]>1].index, \"max_r2\"] = 1\n",
    "tdf[[\"parameter\", \"min_r2\", \"max_r2\", \"avg_r2\"]].set_index(\"parameter\")"
   ]
  },
  {
   "cell_type": "code",
   "execution_count": null,
   "id": "1cdaf489",
   "metadata": {},
   "outputs": [],
   "source": [
    "tdf[tdf[\"max_r2\"]>1]"
   ]
  },
  {
   "cell_type": "code",
   "execution_count": 190,
   "id": "335e698c",
   "metadata": {},
   "outputs": [
    {
     "data": {
      "image/png": "[encoded data removed]",
      "text/plain": [
       "<Figure size 432x288 with 1 Axes>"
      ]
     },
     "metadata": {
      "needs_background": "light"
     },
     "output_type": "display_data"
    }
   ],
   "source": [
    "tdf = hm2\n",
    "pldata = tdf[(tdf[\"max_r2\"]>0.1) & (tdf[\"min_r2\"]>0.1)][[\"max_r2\", \"min_r2\", \"avg_r2\", \"parameter\", \"model\"]]\n",
    "psnames = [i[:len(i)-11] for i in pldata[\"parameter\"]]\n",
    "for i in range(pldata.shape[0]):\n",
    "    plt.plot(pldata.iloc[i, 0:2], [i, i], c=\"blue\")\n",
    "    plt.scatter(pldata.iloc[i, 2], [i], c=\"blue\", marker=\"*\")\n",
    "\n",
    "\n",
    "tdf = fm2\n",
    "pldata = tdf[(tdf[\"max_r2\"]>0.1) & (tdf[\"min_r2\"]>0.1)][[\"max_r2\", \"min_r2\", \"avg_r2\", \"parameter\", \"model\"]]\n",
    "psnames = [i[:len(i)-11] for i in pldata[\"parameter\"]]\n",
    "for i in range(pldata.shape[0]):\n",
    "    plt.plot(pldata.iloc[i, 0:2], [i+0.2, i+0.2], c=\"red\")\n",
    "    plt.scatter(pldata.iloc[i, 2], [i+0.2], c=\"red\", marker=\"o\")\n",
    "plt.title(\"R2 on Fedot and HistGradientBoosting models with window 2 weeks (with intervals)\")\n",
    "plt.xlabel(\"R2\")\n",
    "plt.yticks(range(len(psnames)), psnames , size='small')\n",
    "plt.xlim()\n",
    "plt.show()"
   ]
  },
  {
   "cell_type": "code",
   "execution_count": 182,
   "id": "5318ac28",
   "metadata": {},
   "outputs": [
    {
     "data": {
      "image/png": "[encoded data removed]",
      "text/plain": [
       "<Figure size 432x288 with 1 Axes>"
      ]
     },
     "metadata": {
      "needs_background": "light"
     },
     "output_type": "display_data"
    }
   ],
   "source": [
    "tdf = hm\n",
    "pldata = tdf[(tdf[\"max_r2\"]>0.1) & (tdf[\"min_r2\"]>0.1)][[\"max_r2\", \"min_r2\", \"avg_r2\", \"parameter\", \"model\"]]\n",
    "psnames = [i[:len(i)-11] for i in pldata[\"parameter\"]]\n",
    "for i in range(pldata.shape[0]):\n",
    "    plt.plot(pldata.iloc[i, 0:2], [i, i], c=\"blue\")\n",
    "    plt.scatter(pldata.iloc[i, 2], [i], c=\"blue\", marker=\"*\")\n",
    "\n",
    "\n",
    "tdf = fm\n",
    "pldata = tdf[(tdf[\"max_r2\"]>0.1) & (tdf[\"min_r2\"]>0.1)][[\"max_r2\", \"min_r2\", \"avg_r2\", \"parameter\", \"model\"]]\n",
    "psnames = [i[:len(i)-11] for i in pldata[\"parameter\"]]\n",
    "for i in range(pldata.shape[0]):\n",
    "    plt.plot(pldata.iloc[i, 0:2], [i+0.2, i+0.2], c=\"red\")\n",
    "    plt.scatter(pldata.iloc[i, 2], [i+0.2], c=\"red\", marker=\"o\")\n",
    "plt.title(\"R2 on Fedot and HistGradientBoosting models with window 1 week (with intervals)\")\n",
    "plt.xlabel(\"R2\")\n",
    "plt.yticks(range(len(psnames)), psnames , size='small')\n",
    "plt.xlim()\n",
    "plt.show()"
   ]
  },
  {
   "cell_type": "code",
   "execution_count": 200,
   "id": "0b723050",
   "metadata": {},
   "outputs": [
    {
     "data": {
      "image/png": "[encoded data removed]",
      "text/plain": [
       "<Figure size 432x288 with 1 Axes>"
      ]
     },
     "metadata": {
      "needs_background": "light"
     },
     "output_type": "display_data"
    }
   ],
   "source": [
    "tdf = fm\n",
    "pldata = tdf[(tdf[\"max_r2\"]>0) & (tdf[\"min_r2\"]>0)][[\"max_r2\", \"min_r2\", \"avg_r2\", \"parameter\", \"model\"]]\n",
    "psnames = [i[:len(i)-11] for i in pldata[\"parameter\"]]\n",
    "for i in range(pldata.shape[0]):\n",
    "    plt.plot(pldata.iloc[i, 0:2], [i, i], c=\"blue\")\n",
    "    plt.scatter(pldata.iloc[i, 2], [i], c=\"blue\", marker=\"*\")\n",
    "\n",
    "\n",
    "tdf = fm2\n",
    "pldata = tdf[(tdf[\"max_r2\"]>0) & (tdf[\"min_r2\"]>0)][[\"max_r2\", \"min_r2\", \"avg_r2\", \"parameter\", \"model\"]]\n",
    "psnames = [i[:len(i)-11] for i in pldata[\"parameter\"]]\n",
    "for i in range(pldata.shape[0]):\n",
    "    plt.plot(pldata.iloc[i, 0:2], [i+0.2, i+0.2], c=\"red\")\n",
    "    plt.scatter(pldata.iloc[i, 2], [i+0.2], c=\"red\", marker=\"o\")\n",
    "plt.title(\"R2 on Fedot models with window 1  and 2 weeks (with intervals)\")\n",
    "plt.xlabel(\"R2\")\n",
    "plt.yticks(range(len(psnames)), psnames , size='small')\n",
    "plt.xlim()\n",
    "plt.show()"
   ]
  }
 ],
 "metadata": {
  "kernelspec": {
   "display_name": "Python 3 (ipykernel)",
   "language": "python",
   "name": "python3"
  },
  "language_info": {
   "codemirror_mode": {
    "name": "ipython",
    "version": 3
   },
   "file_extension": ".py",
   "mimetype": "text/x-python",
   "name": "python",
   "nbconvert_exporter": "python",
   "pygments_lexer": "ipython3",
   "version": "3.10.5"
  }
 },
 "nbformat": 4,
 "nbformat_minor": 5
}
