{
 "cells": [
  {
   "cell_type": "code",
   "execution_count": 104,
   "metadata": {},
   "outputs": [],
   "source": [
    "import os\n",
    "\n",
    "import numpy as np\n",
    "import pandas as pd\n",
    "import pickle \n",
    "\n",
    "from sklearn.linear_model import LinearRegression\n",
    "from sklearn.metrics import mean_absolute_error\n",
    "from sklearn.metrics import mean_squared_error\n",
    "from sklearn.metrics import mean_absolute_error\n",
    "from sklearn.preprocessing import StandardScaler\n",
    "from sklearn.model_selection import train_test_split\n",
    "from sklearn.metrics import r2_score\n",
    "\n",
    "# Plots\n",
    "import matplotlib.pyplot as plt\n",
    "\n",
    "# Prerocessing for FEDOT\n",
    "from fedot.core.data.data import InputData\n",
    "from fedot.core.repository.dataset_types import DataTypesEnum\n",
    "from fedot.api.main import Fedot\n",
    "from fedot.core.repository.tasks import Task, TaskTypesEnum, TsForecastingParams\n",
    "\n",
    "# FEDOT \n",
    "from fedot.core.pipelines.pipeline import Pipeline\n",
    "from fedot.core.pipelines.node import PrimaryNode, SecondaryNode\n",
    "\n",
    "import logging\n",
    "logging.raiseExceptions = False"
   ]
  },
  {
   "cell_type": "markdown",
   "source": [
    "Again load data and prepare as for manual stage (see data_analysis.ipynb)"
   ],
   "metadata": {
    "collapsed": false
   }
  },
  {
   "cell_type": "code",
   "execution_count": 128,
   "metadata": {},
   "outputs": [],
   "source": [
    "df = None\n",
    "with open(\"covid_flow.pkl\", \"rb\") as f:\n",
    "    df = pickle.load(f)\n",
    "df[\"case\"] = df.index\n",
    "df[\"t_point\"] = df[\"t_point\"].apply(lambda x: x[2:])\n",
    "df[\"t_point\"] = df[\"t_point\"].apply(lambda x: int(x))\n",
    "df = df.set_index([\"case\", \"t_point\"])\n",
    "df = df.sort_values([\"case\", \"t_point\"])"
   ]
  },
  {
   "cell_type": "markdown",
   "metadata": {},
   "source": [
    "Lets take window size=3 and now we will use SHIFT to make more train data"
   ]
  },
  {
   "cell_type": "code",
   "execution_count": 106,
   "outputs": [
    {
     "data": {
      "text/plain": "                 Температура_dinam_fact  Лимфоциты#_dinam_fact  \\\ncase    t_point                                                  \nGACAAcY 0                     36.700000                   1.93   \n        1                     36.300000                   2.00   \n        2                     36.600000                   2.13   \n        3                     36.500000                   2.12   \nGACAAnf 0                     36.701477                   1.21   \n...                                 ...                    ...   \nGACBB;O 0                     36.900000                   1.22   \n        1                     36.500000                   1.65   \nGACXAAB 0                     36.500000                   1.11   \n        1                     36.900000                   1.60   \n        2                     36.600000                   3.45   \n\n                 АСТ_dinam_fact  ЧСС_dinam_fact  ЧДД_dinam_fact  \\\ncase    t_point                                                   \nGACAAcY 0                 27.90       74.000000       24.000000   \n        1                 25.70       71.000000       19.000000   \n        2                 32.00       71.699426       18.000000   \n        3                 27.00       71.000000       18.000000   \nGACAAnf 0                 20.70       55.000000       22.000000   \n...                         ...             ...             ...   \nGACBB;O 0                 22.34       54.000000       18.000000   \n        1                244.03       69.291345       17.000000   \nGACXAAB 0                 21.80       69.482981       19.773952   \n        1                 60.80       75.000000       16.000000   \n        2                 17.20       73.013739       15.000000   \n\n                 Билирубин общий_dinam_fact  \\\ncase    t_point                               \nGACAAcY 0                         15.300000   \n        1                         12.100000   \n        2                         10.480305   \n        3                         11.298666   \nGACAAnf 0                          7.800000   \n...                                     ...   \nGACBB;O 0                          1.430000   \n        1                          3.780000   \nGACXAAB 0                          4.500000   \n        1                          1.100000   \n        2                          9.300000   \n\n                 MPV- Средн.объем тромбоцитов_dinam_fact  \\\ncase    t_point                                            \nGACAAcY 0                                           11.2   \n        1                                           10.6   \n        2                                           11.0   \n        3                                           11.4   \nGACAAnf 0                                            8.1   \n...                                                  ...   \nGACBB;O 0                                            7.0   \n        1                                            7.2   \nGACXAAB 0                                           10.6   \n        1                                           10.8   \n        2                                           10.0   \n\n                 PCT- Тромбокрит_dinam_fact  Лимфоциты%_dinam_fact  \\\ncase    t_point                                                      \nGACAAcY 0                             0.100                   48.3   \n        1                             0.160                   30.7   \n        2                             0.190                   23.1   \n        3                             0.100                   24.1   \nGACAAnf 0                             0.201                   24.1   \n...                                     ...                    ...   \nGACBB;O 0                             0.134                   33.0   \n        1                             0.210                   41.2   \nGACXAAB 0                             0.200                   18.8   \n        1                             0.270                   12.9   \n        2                             0.280                   23.0   \n\n                 снижение_сознания_dinam_fact  \\\ncase    t_point                                 \nGACAAcY 0                                 0.0   \n        1                                 0.0   \n        2                                 0.0   \n        3                                 0.0   \nGACAAnf 0                                 0.0   \n...                                       ...   \nGACBB;O 0                                 0.0   \n        1                                 0.0   \nGACXAAB 0                                 0.0   \n        1                                 0.0   \n        2                                 0.0   \n\n                 Cтепень тяжести по КТ_dinam_fact  \\\ncase    t_point                                     \nGACAAcY 0                                     2.0   \n        1                                     2.0   \n        2                                     5.0   \n        3                                     5.0   \nGACAAnf 0                                     1.0   \n...                                           ...   \nGACBB;O 0                                     1.0   \n        1                                     5.0   \nGACXAAB 0                                     1.0   \n        1                                     5.0   \n        2                                     5.0   \n\n                 Лактатдегидрогеназа_dinam_fact  \\\ncase    t_point                                   \nGACAAcY 0                            245.000000   \n        1                            315.000000   \n        2                            290.000000   \n        3                            274.000000   \nGACAAnf 0                            189.000000   \n...                                         ...   \nGACBB;O 0                            267.900000   \n        1                            563.031759   \nGACXAAB 0                            219.000000   \n        1                            335.000000   \n        2                            279.000000   \n\n                 PDW- Индекс расп.по объему тр._dinam_fact  \ncase    t_point                                             \nGACAAcY 0                                             14.0  \n        1                                             12.8  \n        2                                             13.5  \n        3                                             13.1  \nGACAAnf 0                                             17.7  \n...                                                    ...  \nGACBB;O 0                                             14.8  \n        1                                             13.4  \nGACXAAB 0                                             11.7  \n        1                                             13.4  \n        2                                             11.6  \n\n[6188 rows x 13 columns]",
      "text/html": "<div>\n<style scoped>\n    .dataframe tbody tr th:only-of-type {\n        vertical-align: middle;\n    }\n\n    .dataframe tbody tr th {\n        vertical-align: top;\n    }\n\n    .dataframe thead th {\n        text-align: right;\n    }\n</style>\n<table border=\"1\" class=\"dataframe\">\n  <thead>\n    <tr style=\"text-align: right;\">\n      <th></th>\n      <th></th>\n      <th>Температура_dinam_fact</th>\n      <th>Лимфоциты#_dinam_fact</th>\n      <th>АСТ_dinam_fact</th>\n      <th>ЧСС_dinam_fact</th>\n      <th>ЧДД_dinam_fact</th>\n      <th>Билирубин общий_dinam_fact</th>\n      <th>MPV- Средн.объем тромбоцитов_dinam_fact</th>\n      <th>PCT- Тромбокрит_dinam_fact</th>\n      <th>Лимфоциты%_dinam_fact</th>\n      <th>снижение_сознания_dinam_fact</th>\n      <th>Cтепень тяжести по КТ_dinam_fact</th>\n      <th>Лактатдегидрогеназа_dinam_fact</th>\n      <th>PDW- Индекс расп.по объему тр._dinam_fact</th>\n    </tr>\n    <tr>\n      <th>case</th>\n      <th>t_point</th>\n      <th></th>\n      <th></th>\n      <th></th>\n      <th></th>\n      <th></th>\n      <th></th>\n      <th></th>\n      <th></th>\n      <th></th>\n      <th></th>\n      <th></th>\n      <th></th>\n      <th></th>\n    </tr>\n  </thead>\n  <tbody>\n    <tr>\n      <th rowspan=\"4\" valign=\"top\">GACAAcY</th>\n      <th>0</th>\n      <td>36.700000</td>\n      <td>1.93</td>\n      <td>27.90</td>\n      <td>74.000000</td>\n      <td>24.000000</td>\n      <td>15.300000</td>\n      <td>11.2</td>\n      <td>0.100</td>\n      <td>48.3</td>\n      <td>0.0</td>\n      <td>2.0</td>\n      <td>245.000000</td>\n      <td>14.0</td>\n    </tr>\n    <tr>\n      <th>1</th>\n      <td>36.300000</td>\n      <td>2.00</td>\n      <td>25.70</td>\n      <td>71.000000</td>\n      <td>19.000000</td>\n      <td>12.100000</td>\n      <td>10.6</td>\n      <td>0.160</td>\n      <td>30.7</td>\n      <td>0.0</td>\n      <td>2.0</td>\n      <td>315.000000</td>\n      <td>12.8</td>\n    </tr>\n    <tr>\n      <th>2</th>\n      <td>36.600000</td>\n      <td>2.13</td>\n      <td>32.00</td>\n      <td>71.699426</td>\n      <td>18.000000</td>\n      <td>10.480305</td>\n      <td>11.0</td>\n      <td>0.190</td>\n      <td>23.1</td>\n      <td>0.0</td>\n      <td>5.0</td>\n      <td>290.000000</td>\n      <td>13.5</td>\n    </tr>\n    <tr>\n      <th>3</th>\n      <td>36.500000</td>\n      <td>2.12</td>\n      <td>27.00</td>\n      <td>71.000000</td>\n      <td>18.000000</td>\n      <td>11.298666</td>\n      <td>11.4</td>\n      <td>0.100</td>\n      <td>24.1</td>\n      <td>0.0</td>\n      <td>5.0</td>\n      <td>274.000000</td>\n      <td>13.1</td>\n    </tr>\n    <tr>\n      <th>GACAAnf</th>\n      <th>0</th>\n      <td>36.701477</td>\n      <td>1.21</td>\n      <td>20.70</td>\n      <td>55.000000</td>\n      <td>22.000000</td>\n      <td>7.800000</td>\n      <td>8.1</td>\n      <td>0.201</td>\n      <td>24.1</td>\n      <td>0.0</td>\n      <td>1.0</td>\n      <td>189.000000</td>\n      <td>17.7</td>\n    </tr>\n    <tr>\n      <th>...</th>\n      <th>...</th>\n      <td>...</td>\n      <td>...</td>\n      <td>...</td>\n      <td>...</td>\n      <td>...</td>\n      <td>...</td>\n      <td>...</td>\n      <td>...</td>\n      <td>...</td>\n      <td>...</td>\n      <td>...</td>\n      <td>...</td>\n      <td>...</td>\n    </tr>\n    <tr>\n      <th rowspan=\"2\" valign=\"top\">GACBB;O</th>\n      <th>0</th>\n      <td>36.900000</td>\n      <td>1.22</td>\n      <td>22.34</td>\n      <td>54.000000</td>\n      <td>18.000000</td>\n      <td>1.430000</td>\n      <td>7.0</td>\n      <td>0.134</td>\n      <td>33.0</td>\n      <td>0.0</td>\n      <td>1.0</td>\n      <td>267.900000</td>\n      <td>14.8</td>\n    </tr>\n    <tr>\n      <th>1</th>\n      <td>36.500000</td>\n      <td>1.65</td>\n      <td>244.03</td>\n      <td>69.291345</td>\n      <td>17.000000</td>\n      <td>3.780000</td>\n      <td>7.2</td>\n      <td>0.210</td>\n      <td>41.2</td>\n      <td>0.0</td>\n      <td>5.0</td>\n      <td>563.031759</td>\n      <td>13.4</td>\n    </tr>\n    <tr>\n      <th rowspan=\"3\" valign=\"top\">GACXAAB</th>\n      <th>0</th>\n      <td>36.500000</td>\n      <td>1.11</td>\n      <td>21.80</td>\n      <td>69.482981</td>\n      <td>19.773952</td>\n      <td>4.500000</td>\n      <td>10.6</td>\n      <td>0.200</td>\n      <td>18.8</td>\n      <td>0.0</td>\n      <td>1.0</td>\n      <td>219.000000</td>\n      <td>11.7</td>\n    </tr>\n    <tr>\n      <th>1</th>\n      <td>36.900000</td>\n      <td>1.60</td>\n      <td>60.80</td>\n      <td>75.000000</td>\n      <td>16.000000</td>\n      <td>1.100000</td>\n      <td>10.8</td>\n      <td>0.270</td>\n      <td>12.9</td>\n      <td>0.0</td>\n      <td>5.0</td>\n      <td>335.000000</td>\n      <td>13.4</td>\n    </tr>\n    <tr>\n      <th>2</th>\n      <td>36.600000</td>\n      <td>3.45</td>\n      <td>17.20</td>\n      <td>73.013739</td>\n      <td>15.000000</td>\n      <td>9.300000</td>\n      <td>10.0</td>\n      <td>0.280</td>\n      <td>23.0</td>\n      <td>0.0</td>\n      <td>5.0</td>\n      <td>279.000000</td>\n      <td>11.6</td>\n    </tr>\n  </tbody>\n</table>\n<p>6188 rows × 13 columns</p>\n</div>"
     },
     "execution_count": 106,
     "metadata": {},
     "output_type": "execute_result"
    }
   ],
   "source": [
    "from sklearn.experimental import enable_iterative_imputer\n",
    "from sklearn.impute import IterativeImputer\n",
    "from sklearn.linear_model import LinearRegression\n",
    "dinam_fact_df = df.iloc[:,29:42]\n",
    "dinam_fact_df = dinam_fact_df.sort_values([\"case\", \"t_point\"])\n",
    "imp = IterativeImputer(estimator=LinearRegression(),\n",
    "                       missing_values=np.nan, max_iter=50, imputation_order='roman')\n",
    "df_imputed = imp.fit_transform(dinam_fact_df)\n",
    "dinam_fact_df = pd.DataFrame(data=df_imputed, columns = dinam_fact_df.columns, index=dinam_fact_df.index)\n",
    "dinam_fact_df"
   ],
   "metadata": {
    "collapsed": false
   }
  },
  {
   "cell_type": "code",
   "execution_count": 107,
   "metadata": {},
   "outputs": [],
   "source": [
    "def split_features_targets(df, window=3):\n",
    "    X, y = [], []\n",
    "    for i in df.index.levels[0]:\n",
    "        len_ts = dinam_fact_df.groupby([\"case\"]).size()[i]\n",
    "        if len_ts < window+1:\n",
    "            continue\n",
    "        X.append(df.loc[(i, 0): (i, window-1)].to_numpy().reshape(window*13))\n",
    "        y.append(df.loc[(i, window)].to_numpy())\n",
    "    return np.array(X), np.array(y)\n",
    "\n",
    "X, y = split_features_targets(dinam_fact_df)\n",
    "X, X_test, y, y_test = train_test_split(X, y, test_size=0.1)"
   ]
  },
  {
   "cell_type": "code",
   "execution_count": 113,
   "outputs": [
    {
     "data": {
      "text/plain": "array([3.66252537e+01, 2.98781184e-01, 1.62979056e+02, 7.90000000e+01,\n       2.51464482e+01, 1.23244179e+01, 8.45569417e+00, 1.04035436e-01,\n       3.51766169e+01, 2.00000000e+00, 4.00000000e+00, 5.21595269e+02,\n       1.84053482e+01])"
     },
     "execution_count": 113,
     "metadata": {},
     "output_type": "execute_result"
    }
   ],
   "source": [
    "y[0]"
   ],
   "metadata": {
    "collapsed": false
   }
  },
  {
   "cell_type": "code",
   "execution_count": 108,
   "metadata": {
    "collapsed": false
   },
   "outputs": [
    {
     "name": "stdout",
     "output_type": "stream",
     "text": [
      "2022-11-06 23:11:50,175 - ApiComposer - Initial pipeline was fitted in 1.7 sec.\n",
      "2022-11-06 23:11:50,182 - ApiComposer - AutoML configured. Parameters tuning: True Time limit: 30 min Set of candidate models: ['adareg', 'dtreg', 'gbr', 'knnreg', 'lasso', 'lgbmreg', 'linear', 'rfr', 'ridge', 'sgdr', 'svr', 'treg', 'scaling', 'normalization', 'pca', 'fast_ica', 'poly_features', 'ransac_lin_reg', 'ransac_non_lin_reg', 'isolation_forest_reg']\n",
      "2022-11-06 23:11:50,216 - ApiComposer - Pipeline composition started.\n"
     ]
    },
    {
     "name": "stderr",
     "output_type": "stream",
     "text": [
      "Generations:   0%|          | 1/10000 [00:00<?, ?gen/s]"
     ]
    },
    {
     "name": "stdout",
     "output_type": "stream",
     "text": [
      "2022-11-07 10:19:01,176 - GroupedCondition - Optimisation stopped: Time limit is reached\n"
     ]
    },
    {
     "name": "stderr",
     "output_type": "stream",
     "text": [
      "Generations:   0%|          | 1/10000 [11:07:10<?, ?gen/s]"
     ]
    },
    {
     "name": "stdout",
     "output_type": "stream",
     "text": [
      "2022-11-07 10:19:01,188 - ApiComposer - Time for pipeline composing was 11:07:10.972407.\n",
      "The remaining 637.2106656 seconds are not enough to tune the hyperparameters.\n",
      "2022-11-07 10:19:01,190 - ApiComposer - Composed pipeline returned without tuning.\n"
     ]
    },
    {
     "name": "stderr",
     "output_type": "stream",
     "text": [
      "\n"
     ]
    },
    {
     "name": "stdout",
     "output_type": "stream",
     "text": [
      "2022-11-07 10:19:01,729 - ApiComposer - Model generation finished\n"
     ]
    },
    {
     "name": "stderr",
     "output_type": "stream",
     "text": [
      "C:\\Users\\sirau\\OneDrive\\Desktop\\datascience\\covid\\venv\\lib\\site-packages\\sklearn\\decomposition\\_fastica.py:494: FutureWarning: Starting in v1.3, whiten='unit-variance' will be used by default.\n",
      "  warnings.warn(\n",
      "C:\\Users\\sirau\\OneDrive\\Desktop\\datascience\\covid\\venv\\lib\\site-packages\\sklearn\\decomposition\\_fastica.py:494: FutureWarning: Starting in v1.3, whiten='unit-variance' will be used by default.\n",
      "  warnings.warn(\n"
     ]
    },
    {
     "ename": "ValueError",
     "evalue": "Found array with 1 sample(s) (shape=(1, 212)) while a minimum of 2 is required by FastICA.",
     "output_type": "error",
     "traceback": [
      "\u001B[1;31m---------------------------------------------------------------------------\u001B[0m",
      "\u001B[1;31mValueError\u001B[0m                                Traceback (most recent call last)",
      "Cell \u001B[1;32mIn [108], line 2\u001B[0m\n\u001B[0;32m      1\u001B[0m model \u001B[38;5;241m=\u001B[39m Fedot(problem\u001B[38;5;241m=\u001B[39m\u001B[38;5;124m'\u001B[39m\u001B[38;5;124mregression\u001B[39m\u001B[38;5;124m'\u001B[39m, timeout\u001B[38;5;241m=\u001B[39m\u001B[38;5;241m30\u001B[39m, n_jobs\u001B[38;5;241m=\u001B[39m\u001B[38;5;241m-\u001B[39m\u001B[38;5;241m1\u001B[39m)\n\u001B[1;32m----> 2\u001B[0m obtained_pipeline \u001B[38;5;241m=\u001B[39m \u001B[43mmodel\u001B[49m\u001B[38;5;241;43m.\u001B[39;49m\u001B[43mfit\u001B[49m\u001B[43m(\u001B[49m\u001B[43mfeatures\u001B[49m\u001B[38;5;241;43m=\u001B[39;49m\u001B[43mX\u001B[49m\u001B[43m,\u001B[49m\u001B[43m \u001B[49m\u001B[43mtarget\u001B[49m\u001B[38;5;241;43m=\u001B[39;49m\u001B[43my\u001B[49m\u001B[43m)\u001B[49m\n\u001B[0;32m      3\u001B[0m obtained_pipeline\u001B[38;5;241m.\u001B[39mshow()\n",
      "File \u001B[1;32m~\\OneDrive\\Desktop\\datascience\\covid\\venv\\lib\\site-packages\\fedot\\api\\main.py:183\u001B[0m, in \u001B[0;36mFedot.fit\u001B[1;34m(self, features, target, predefined_model)\u001B[0m\n\u001B[0;32m    181\u001B[0m \u001B[38;5;66;03m# Final fit for obtained pipeline on full dataset\u001B[39;00m\n\u001B[0;32m    182\u001B[0m \u001B[38;5;28;01mif\u001B[39;00m \u001B[38;5;28mself\u001B[39m\u001B[38;5;241m.\u001B[39mhistory \u001B[38;5;129;01mand\u001B[39;00m \u001B[38;5;129;01mnot\u001B[39;00m \u001B[38;5;28mself\u001B[39m\u001B[38;5;241m.\u001B[39mhistory\u001B[38;5;241m.\u001B[39mis_empty() \u001B[38;5;129;01mor\u001B[39;00m \u001B[38;5;129;01mnot\u001B[39;00m \u001B[38;5;28mself\u001B[39m\u001B[38;5;241m.\u001B[39mcurrent_pipeline\u001B[38;5;241m.\u001B[39mis_fitted:\n\u001B[1;32m--> 183\u001B[0m     \u001B[38;5;28;43mself\u001B[39;49m\u001B[38;5;241;43m.\u001B[39;49m\u001B[43m_train_pipeline_on_full_dataset\u001B[49m\u001B[43m(\u001B[49m\u001B[43mrecommendations\u001B[49m\u001B[43m,\u001B[49m\u001B[43m \u001B[49m\u001B[43mfull_train_not_preprocessed\u001B[49m\u001B[43m)\u001B[49m\n\u001B[0;32m    184\u001B[0m     \u001B[38;5;28mself\u001B[39m\u001B[38;5;241m.\u001B[39mparams\u001B[38;5;241m.\u001B[39mapi_params[\u001B[38;5;124m'\u001B[39m\u001B[38;5;124mlogger\u001B[39m\u001B[38;5;124m'\u001B[39m]\u001B[38;5;241m.\u001B[39mmessage(\u001B[38;5;124m'\u001B[39m\u001B[38;5;124mFinal pipeline was fitted\u001B[39m\u001B[38;5;124m'\u001B[39m)\n\u001B[0;32m    185\u001B[0m \u001B[38;5;28;01melse\u001B[39;00m:\n",
      "File \u001B[1;32m~\\OneDrive\\Desktop\\datascience\\covid\\venv\\lib\\site-packages\\fedot\\api\\main.py:458\u001B[0m, in \u001B[0;36mFedot._train_pipeline_on_full_dataset\u001B[1;34m(self, recommendations, full_train_not_preprocessed)\u001B[0m\n\u001B[0;32m    453\u001B[0m \u001B[38;5;28;01mif\u001B[39;00m recommendations:\n\u001B[0;32m    454\u001B[0m     \u001B[38;5;66;03m# if data was cut we need to refit pipeline on full data\u001B[39;00m\n\u001B[0;32m    455\u001B[0m     \u001B[38;5;28mself\u001B[39m\u001B[38;5;241m.\u001B[39mdata_processor\u001B[38;5;241m.\u001B[39maccept_and_apply_recommendations(full_train_not_preprocessed,\n\u001B[0;32m    456\u001B[0m                                                          {k: v \u001B[38;5;28;01mfor\u001B[39;00m k, v \u001B[38;5;129;01min\u001B[39;00m recommendations\u001B[38;5;241m.\u001B[39mitems()\n\u001B[0;32m    457\u001B[0m                                                           \u001B[38;5;28;01mif\u001B[39;00m k \u001B[38;5;241m!=\u001B[39m \u001B[38;5;124m'\u001B[39m\u001B[38;5;124mcut\u001B[39m\u001B[38;5;124m'\u001B[39m})\n\u001B[1;32m--> 458\u001B[0m \u001B[38;5;28;43mself\u001B[39;49m\u001B[38;5;241;43m.\u001B[39;49m\u001B[43mcurrent_pipeline\u001B[49m\u001B[38;5;241;43m.\u001B[39;49m\u001B[43mfit\u001B[49m\u001B[43m(\u001B[49m\n\u001B[0;32m    459\u001B[0m \u001B[43m    \u001B[49m\u001B[43mfull_train_not_preprocessed\u001B[49m\u001B[43m,\u001B[49m\n\u001B[0;32m    460\u001B[0m \u001B[43m    \u001B[49m\u001B[43mn_jobs\u001B[49m\u001B[38;5;241;43m=\u001B[39;49m\u001B[38;5;28;43mself\u001B[39;49m\u001B[38;5;241;43m.\u001B[39;49m\u001B[43mparams\u001B[49m\u001B[38;5;241;43m.\u001B[39;49m\u001B[43mapi_params\u001B[49m\u001B[43m[\u001B[49m\u001B[38;5;124;43m'\u001B[39;49m\u001B[38;5;124;43mn_jobs\u001B[39;49m\u001B[38;5;124;43m'\u001B[39;49m\u001B[43m]\u001B[49m\u001B[43m,\u001B[49m\n\u001B[0;32m    461\u001B[0m \u001B[43m\u001B[49m\u001B[43m)\u001B[49m\n",
      "File \u001B[1;32m~\\OneDrive\\Desktop\\datascience\\covid\\venv\\lib\\site-packages\\fedot\\core\\pipelines\\pipeline.py:141\u001B[0m, in \u001B[0;36mPipeline.fit\u001B[1;34m(self, input_data, time_constraint, n_jobs)\u001B[0m\n\u001B[0;32m    138\u001B[0m copied_input_data \u001B[38;5;241m=\u001B[39m \u001B[38;5;28mself\u001B[39m\u001B[38;5;241m.\u001B[39m_assign_data_to_nodes(copied_input_data)\n\u001B[0;32m    140\u001B[0m \u001B[38;5;28;01mif\u001B[39;00m time_constraint \u001B[38;5;129;01mis\u001B[39;00m \u001B[38;5;28;01mNone\u001B[39;00m:\n\u001B[1;32m--> 141\u001B[0m     train_predicted \u001B[38;5;241m=\u001B[39m \u001B[38;5;28;43mself\u001B[39;49m\u001B[38;5;241;43m.\u001B[39;49m\u001B[43m_fit\u001B[49m\u001B[43m(\u001B[49m\u001B[43minput_data\u001B[49m\u001B[38;5;241;43m=\u001B[39;49m\u001B[43mcopied_input_data\u001B[49m\u001B[43m)\u001B[49m\n\u001B[0;32m    142\u001B[0m \u001B[38;5;28;01melse\u001B[39;00m:\n\u001B[0;32m    143\u001B[0m     train_predicted \u001B[38;5;241m=\u001B[39m \u001B[38;5;28mself\u001B[39m\u001B[38;5;241m.\u001B[39m_fit_with_time_limit(input_data\u001B[38;5;241m=\u001B[39mcopied_input_data, time\u001B[38;5;241m=\u001B[39mtime_constraint)\n",
      "File \u001B[1;32m~\\OneDrive\\Desktop\\datascience\\covid\\venv\\lib\\site-packages\\fedot\\core\\pipelines\\pipeline.py:104\u001B[0m, in \u001B[0;36mPipeline._fit\u001B[1;34m(self, input_data, process_state_dict, fitted_operations)\u001B[0m\n\u001B[0;32m    102\u001B[0m \u001B[38;5;28;01mwith\u001B[39;00m Timer() \u001B[38;5;28;01mas\u001B[39;00m t:\n\u001B[0;32m    103\u001B[0m     computation_time_update \u001B[38;5;241m=\u001B[39m \u001B[38;5;129;01mnot\u001B[39;00m \u001B[38;5;28mself\u001B[39m\u001B[38;5;241m.\u001B[39mroot_node\u001B[38;5;241m.\u001B[39mfitted_operation \u001B[38;5;129;01mor\u001B[39;00m \u001B[38;5;28mself\u001B[39m\u001B[38;5;241m.\u001B[39mcomputation_time \u001B[38;5;129;01mis\u001B[39;00m \u001B[38;5;28;01mNone\u001B[39;00m\n\u001B[1;32m--> 104\u001B[0m     train_predicted \u001B[38;5;241m=\u001B[39m \u001B[38;5;28;43mself\u001B[39;49m\u001B[38;5;241;43m.\u001B[39;49m\u001B[43mroot_node\u001B[49m\u001B[38;5;241;43m.\u001B[39;49m\u001B[43mfit\u001B[49m\u001B[43m(\u001B[49m\u001B[43minput_data\u001B[49m\u001B[38;5;241;43m=\u001B[39;49m\u001B[43minput_data\u001B[49m\u001B[43m)\u001B[49m\n\u001B[0;32m    105\u001B[0m     \u001B[38;5;28;01mif\u001B[39;00m computation_time_update:\n\u001B[0;32m    106\u001B[0m         \u001B[38;5;28mself\u001B[39m\u001B[38;5;241m.\u001B[39mcomputation_time \u001B[38;5;241m=\u001B[39m \u001B[38;5;28mround\u001B[39m(t\u001B[38;5;241m.\u001B[39mminutes_from_start, \u001B[38;5;241m3\u001B[39m)\n",
      "File \u001B[1;32m~\\OneDrive\\Desktop\\datascience\\covid\\venv\\lib\\site-packages\\fedot\\core\\pipelines\\node.py:391\u001B[0m, in \u001B[0;36mSecondaryNode.fit\u001B[1;34m(self, input_data, **kwargs)\u001B[0m\n\u001B[0;32m    380\u001B[0m \u001B[38;5;124;03m\"\"\"Fits the operation located in the secondary node\u001B[39;00m\n\u001B[0;32m    381\u001B[0m \n\u001B[0;32m    382\u001B[0m \u001B[38;5;124;03mArgs:\u001B[39;00m\n\u001B[1;32m   (...)\u001B[0m\n\u001B[0;32m    386\u001B[0m \u001B[38;5;124;03m    OutputData: values predicted on the provided ``input_data``\u001B[39;00m\n\u001B[0;32m    387\u001B[0m \u001B[38;5;124;03m\"\"\"\u001B[39;00m\n\u001B[0;32m    389\u001B[0m \u001B[38;5;28mself\u001B[39m\u001B[38;5;241m.\u001B[39mlog\u001B[38;5;241m.\u001B[39mdebug(\u001B[38;5;124mf\u001B[39m\u001B[38;5;124m'\u001B[39m\u001B[38;5;124mTrying to fit secondary node with operation: \u001B[39m\u001B[38;5;132;01m{\u001B[39;00m\u001B[38;5;28mself\u001B[39m\u001B[38;5;241m.\u001B[39moperation\u001B[38;5;132;01m}\u001B[39;00m\u001B[38;5;124m'\u001B[39m)\n\u001B[1;32m--> 391\u001B[0m secondary_input \u001B[38;5;241m=\u001B[39m \u001B[38;5;28;43mself\u001B[39;49m\u001B[38;5;241;43m.\u001B[39;49m\u001B[43m_input_from_parents\u001B[49m\u001B[43m(\u001B[49m\u001B[43minput_data\u001B[49m\u001B[38;5;241;43m=\u001B[39;49m\u001B[43minput_data\u001B[49m\u001B[43m,\u001B[49m\u001B[43m \u001B[49m\u001B[43mparent_operation\u001B[49m\u001B[38;5;241;43m=\u001B[39;49m\u001B[38;5;124;43m'\u001B[39;49m\u001B[38;5;124;43mfit\u001B[39;49m\u001B[38;5;124;43m'\u001B[39;49m\u001B[43m)\u001B[49m\n\u001B[0;32m    393\u001B[0m \u001B[38;5;28;01mreturn\u001B[39;00m \u001B[38;5;28msuper\u001B[39m()\u001B[38;5;241m.\u001B[39mfit(input_data\u001B[38;5;241m=\u001B[39msecondary_input)\n",
      "File \u001B[1;32m~\\OneDrive\\Desktop\\datascience\\covid\\venv\\lib\\site-packages\\fedot\\core\\pipelines\\node.py:431\u001B[0m, in \u001B[0;36mSecondaryNode._input_from_parents\u001B[1;34m(self, input_data, parent_operation)\u001B[0m\n\u001B[0;32m    427\u001B[0m \u001B[38;5;28mself\u001B[39m\u001B[38;5;241m.\u001B[39mlog\u001B[38;5;241m.\u001B[39mdebug(\u001B[38;5;124mf\u001B[39m\u001B[38;5;124m'\u001B[39m\u001B[38;5;124mFit all parent nodes in secondary node with operation: \u001B[39m\u001B[38;5;132;01m{\u001B[39;00m\u001B[38;5;28mself\u001B[39m\u001B[38;5;241m.\u001B[39moperation\u001B[38;5;132;01m}\u001B[39;00m\u001B[38;5;124m'\u001B[39m)\n\u001B[0;32m    429\u001B[0m parent_nodes \u001B[38;5;241m=\u001B[39m \u001B[38;5;28mself\u001B[39m\u001B[38;5;241m.\u001B[39m_nodes_from_with_fixed_order()\n\u001B[1;32m--> 431\u001B[0m parent_results, _ \u001B[38;5;241m=\u001B[39m \u001B[43m_combine_parents\u001B[49m\u001B[43m(\u001B[49m\u001B[43mparent_nodes\u001B[49m\u001B[43m,\u001B[49m\u001B[43m \u001B[49m\u001B[43minput_data\u001B[49m\u001B[43m,\u001B[49m\n\u001B[0;32m    432\u001B[0m \u001B[43m                                     \u001B[49m\u001B[43mparent_operation\u001B[49m\u001B[43m)\u001B[49m\n\u001B[0;32m    434\u001B[0m secondary_input \u001B[38;5;241m=\u001B[39m DataMerger\u001B[38;5;241m.\u001B[39mget(parent_results)\u001B[38;5;241m.\u001B[39mmerge()\n\u001B[0;32m    436\u001B[0m \u001B[38;5;66;03m# Update info about visited nodes\u001B[39;00m\n",
      "File \u001B[1;32m~\\OneDrive\\Desktop\\datascience\\covid\\venv\\lib\\site-packages\\fedot\\core\\pipelines\\node.py:473\u001B[0m, in \u001B[0;36m_combine_parents\u001B[1;34m(parent_nodes, input_data, parent_operation)\u001B[0m\n\u001B[0;32m    471\u001B[0m     parent_results\u001B[38;5;241m.\u001B[39mappend(prediction)\n\u001B[0;32m    472\u001B[0m \u001B[38;5;28;01melif\u001B[39;00m parent_operation \u001B[38;5;241m==\u001B[39m \u001B[38;5;124m'\u001B[39m\u001B[38;5;124mfit\u001B[39m\u001B[38;5;124m'\u001B[39m:\n\u001B[1;32m--> 473\u001B[0m     prediction \u001B[38;5;241m=\u001B[39m \u001B[43mparent\u001B[49m\u001B[38;5;241;43m.\u001B[39;49m\u001B[43mfit\u001B[49m\u001B[43m(\u001B[49m\u001B[43minput_data\u001B[49m\u001B[38;5;241;43m=\u001B[39;49m\u001B[43minput_data\u001B[49m\u001B[43m)\u001B[49m\n\u001B[0;32m    474\u001B[0m     parent_results\u001B[38;5;241m.\u001B[39mappend(prediction)\n\u001B[0;32m    475\u001B[0m \u001B[38;5;28;01melse\u001B[39;00m:\n",
      "File \u001B[1;32m~\\OneDrive\\Desktop\\datascience\\covid\\venv\\lib\\site-packages\\fedot\\core\\pipelines\\node.py:391\u001B[0m, in \u001B[0;36mSecondaryNode.fit\u001B[1;34m(self, input_data, **kwargs)\u001B[0m\n\u001B[0;32m    380\u001B[0m \u001B[38;5;124;03m\"\"\"Fits the operation located in the secondary node\u001B[39;00m\n\u001B[0;32m    381\u001B[0m \n\u001B[0;32m    382\u001B[0m \u001B[38;5;124;03mArgs:\u001B[39;00m\n\u001B[1;32m   (...)\u001B[0m\n\u001B[0;32m    386\u001B[0m \u001B[38;5;124;03m    OutputData: values predicted on the provided ``input_data``\u001B[39;00m\n\u001B[0;32m    387\u001B[0m \u001B[38;5;124;03m\"\"\"\u001B[39;00m\n\u001B[0;32m    389\u001B[0m \u001B[38;5;28mself\u001B[39m\u001B[38;5;241m.\u001B[39mlog\u001B[38;5;241m.\u001B[39mdebug(\u001B[38;5;124mf\u001B[39m\u001B[38;5;124m'\u001B[39m\u001B[38;5;124mTrying to fit secondary node with operation: \u001B[39m\u001B[38;5;132;01m{\u001B[39;00m\u001B[38;5;28mself\u001B[39m\u001B[38;5;241m.\u001B[39moperation\u001B[38;5;132;01m}\u001B[39;00m\u001B[38;5;124m'\u001B[39m)\n\u001B[1;32m--> 391\u001B[0m secondary_input \u001B[38;5;241m=\u001B[39m \u001B[38;5;28;43mself\u001B[39;49m\u001B[38;5;241;43m.\u001B[39;49m\u001B[43m_input_from_parents\u001B[49m\u001B[43m(\u001B[49m\u001B[43minput_data\u001B[49m\u001B[38;5;241;43m=\u001B[39;49m\u001B[43minput_data\u001B[49m\u001B[43m,\u001B[49m\u001B[43m \u001B[49m\u001B[43mparent_operation\u001B[49m\u001B[38;5;241;43m=\u001B[39;49m\u001B[38;5;124;43m'\u001B[39;49m\u001B[38;5;124;43mfit\u001B[39;49m\u001B[38;5;124;43m'\u001B[39;49m\u001B[43m)\u001B[49m\n\u001B[0;32m    393\u001B[0m \u001B[38;5;28;01mreturn\u001B[39;00m \u001B[38;5;28msuper\u001B[39m()\u001B[38;5;241m.\u001B[39mfit(input_data\u001B[38;5;241m=\u001B[39msecondary_input)\n",
      "File \u001B[1;32m~\\OneDrive\\Desktop\\datascience\\covid\\venv\\lib\\site-packages\\fedot\\core\\pipelines\\node.py:431\u001B[0m, in \u001B[0;36mSecondaryNode._input_from_parents\u001B[1;34m(self, input_data, parent_operation)\u001B[0m\n\u001B[0;32m    427\u001B[0m \u001B[38;5;28mself\u001B[39m\u001B[38;5;241m.\u001B[39mlog\u001B[38;5;241m.\u001B[39mdebug(\u001B[38;5;124mf\u001B[39m\u001B[38;5;124m'\u001B[39m\u001B[38;5;124mFit all parent nodes in secondary node with operation: \u001B[39m\u001B[38;5;132;01m{\u001B[39;00m\u001B[38;5;28mself\u001B[39m\u001B[38;5;241m.\u001B[39moperation\u001B[38;5;132;01m}\u001B[39;00m\u001B[38;5;124m'\u001B[39m)\n\u001B[0;32m    429\u001B[0m parent_nodes \u001B[38;5;241m=\u001B[39m \u001B[38;5;28mself\u001B[39m\u001B[38;5;241m.\u001B[39m_nodes_from_with_fixed_order()\n\u001B[1;32m--> 431\u001B[0m parent_results, _ \u001B[38;5;241m=\u001B[39m \u001B[43m_combine_parents\u001B[49m\u001B[43m(\u001B[49m\u001B[43mparent_nodes\u001B[49m\u001B[43m,\u001B[49m\u001B[43m \u001B[49m\u001B[43minput_data\u001B[49m\u001B[43m,\u001B[49m\n\u001B[0;32m    432\u001B[0m \u001B[43m                                     \u001B[49m\u001B[43mparent_operation\u001B[49m\u001B[43m)\u001B[49m\n\u001B[0;32m    434\u001B[0m secondary_input \u001B[38;5;241m=\u001B[39m DataMerger\u001B[38;5;241m.\u001B[39mget(parent_results)\u001B[38;5;241m.\u001B[39mmerge()\n\u001B[0;32m    436\u001B[0m \u001B[38;5;66;03m# Update info about visited nodes\u001B[39;00m\n",
      "File \u001B[1;32m~\\OneDrive\\Desktop\\datascience\\covid\\venv\\lib\\site-packages\\fedot\\core\\pipelines\\node.py:473\u001B[0m, in \u001B[0;36m_combine_parents\u001B[1;34m(parent_nodes, input_data, parent_operation)\u001B[0m\n\u001B[0;32m    471\u001B[0m     parent_results\u001B[38;5;241m.\u001B[39mappend(prediction)\n\u001B[0;32m    472\u001B[0m \u001B[38;5;28;01melif\u001B[39;00m parent_operation \u001B[38;5;241m==\u001B[39m \u001B[38;5;124m'\u001B[39m\u001B[38;5;124mfit\u001B[39m\u001B[38;5;124m'\u001B[39m:\n\u001B[1;32m--> 473\u001B[0m     prediction \u001B[38;5;241m=\u001B[39m \u001B[43mparent\u001B[49m\u001B[38;5;241;43m.\u001B[39;49m\u001B[43mfit\u001B[49m\u001B[43m(\u001B[49m\u001B[43minput_data\u001B[49m\u001B[38;5;241;43m=\u001B[39;49m\u001B[43minput_data\u001B[49m\u001B[43m)\u001B[49m\n\u001B[0;32m    474\u001B[0m     parent_results\u001B[38;5;241m.\u001B[39mappend(prediction)\n\u001B[0;32m    475\u001B[0m \u001B[38;5;28;01melse\u001B[39;00m:\n",
      "File \u001B[1;32m~\\OneDrive\\Desktop\\datascience\\covid\\venv\\lib\\site-packages\\fedot\\core\\pipelines\\node.py:391\u001B[0m, in \u001B[0;36mSecondaryNode.fit\u001B[1;34m(self, input_data, **kwargs)\u001B[0m\n\u001B[0;32m    380\u001B[0m \u001B[38;5;124;03m\"\"\"Fits the operation located in the secondary node\u001B[39;00m\n\u001B[0;32m    381\u001B[0m \n\u001B[0;32m    382\u001B[0m \u001B[38;5;124;03mArgs:\u001B[39;00m\n\u001B[1;32m   (...)\u001B[0m\n\u001B[0;32m    386\u001B[0m \u001B[38;5;124;03m    OutputData: values predicted on the provided ``input_data``\u001B[39;00m\n\u001B[0;32m    387\u001B[0m \u001B[38;5;124;03m\"\"\"\u001B[39;00m\n\u001B[0;32m    389\u001B[0m \u001B[38;5;28mself\u001B[39m\u001B[38;5;241m.\u001B[39mlog\u001B[38;5;241m.\u001B[39mdebug(\u001B[38;5;124mf\u001B[39m\u001B[38;5;124m'\u001B[39m\u001B[38;5;124mTrying to fit secondary node with operation: \u001B[39m\u001B[38;5;132;01m{\u001B[39;00m\u001B[38;5;28mself\u001B[39m\u001B[38;5;241m.\u001B[39moperation\u001B[38;5;132;01m}\u001B[39;00m\u001B[38;5;124m'\u001B[39m)\n\u001B[1;32m--> 391\u001B[0m secondary_input \u001B[38;5;241m=\u001B[39m \u001B[38;5;28;43mself\u001B[39;49m\u001B[38;5;241;43m.\u001B[39;49m\u001B[43m_input_from_parents\u001B[49m\u001B[43m(\u001B[49m\u001B[43minput_data\u001B[49m\u001B[38;5;241;43m=\u001B[39;49m\u001B[43minput_data\u001B[49m\u001B[43m,\u001B[49m\u001B[43m \u001B[49m\u001B[43mparent_operation\u001B[49m\u001B[38;5;241;43m=\u001B[39;49m\u001B[38;5;124;43m'\u001B[39;49m\u001B[38;5;124;43mfit\u001B[39;49m\u001B[38;5;124;43m'\u001B[39;49m\u001B[43m)\u001B[49m\n\u001B[0;32m    393\u001B[0m \u001B[38;5;28;01mreturn\u001B[39;00m \u001B[38;5;28msuper\u001B[39m()\u001B[38;5;241m.\u001B[39mfit(input_data\u001B[38;5;241m=\u001B[39msecondary_input)\n",
      "File \u001B[1;32m~\\OneDrive\\Desktop\\datascience\\covid\\venv\\lib\\site-packages\\fedot\\core\\pipelines\\node.py:431\u001B[0m, in \u001B[0;36mSecondaryNode._input_from_parents\u001B[1;34m(self, input_data, parent_operation)\u001B[0m\n\u001B[0;32m    427\u001B[0m \u001B[38;5;28mself\u001B[39m\u001B[38;5;241m.\u001B[39mlog\u001B[38;5;241m.\u001B[39mdebug(\u001B[38;5;124mf\u001B[39m\u001B[38;5;124m'\u001B[39m\u001B[38;5;124mFit all parent nodes in secondary node with operation: \u001B[39m\u001B[38;5;132;01m{\u001B[39;00m\u001B[38;5;28mself\u001B[39m\u001B[38;5;241m.\u001B[39moperation\u001B[38;5;132;01m}\u001B[39;00m\u001B[38;5;124m'\u001B[39m)\n\u001B[0;32m    429\u001B[0m parent_nodes \u001B[38;5;241m=\u001B[39m \u001B[38;5;28mself\u001B[39m\u001B[38;5;241m.\u001B[39m_nodes_from_with_fixed_order()\n\u001B[1;32m--> 431\u001B[0m parent_results, _ \u001B[38;5;241m=\u001B[39m \u001B[43m_combine_parents\u001B[49m\u001B[43m(\u001B[49m\u001B[43mparent_nodes\u001B[49m\u001B[43m,\u001B[49m\u001B[43m \u001B[49m\u001B[43minput_data\u001B[49m\u001B[43m,\u001B[49m\n\u001B[0;32m    432\u001B[0m \u001B[43m                                     \u001B[49m\u001B[43mparent_operation\u001B[49m\u001B[43m)\u001B[49m\n\u001B[0;32m    434\u001B[0m secondary_input \u001B[38;5;241m=\u001B[39m DataMerger\u001B[38;5;241m.\u001B[39mget(parent_results)\u001B[38;5;241m.\u001B[39mmerge()\n\u001B[0;32m    436\u001B[0m \u001B[38;5;66;03m# Update info about visited nodes\u001B[39;00m\n",
      "File \u001B[1;32m~\\OneDrive\\Desktop\\datascience\\covid\\venv\\lib\\site-packages\\fedot\\core\\pipelines\\node.py:473\u001B[0m, in \u001B[0;36m_combine_parents\u001B[1;34m(parent_nodes, input_data, parent_operation)\u001B[0m\n\u001B[0;32m    471\u001B[0m     parent_results\u001B[38;5;241m.\u001B[39mappend(prediction)\n\u001B[0;32m    472\u001B[0m \u001B[38;5;28;01melif\u001B[39;00m parent_operation \u001B[38;5;241m==\u001B[39m \u001B[38;5;124m'\u001B[39m\u001B[38;5;124mfit\u001B[39m\u001B[38;5;124m'\u001B[39m:\n\u001B[1;32m--> 473\u001B[0m     prediction \u001B[38;5;241m=\u001B[39m \u001B[43mparent\u001B[49m\u001B[38;5;241;43m.\u001B[39;49m\u001B[43mfit\u001B[49m\u001B[43m(\u001B[49m\u001B[43minput_data\u001B[49m\u001B[38;5;241;43m=\u001B[39;49m\u001B[43minput_data\u001B[49m\u001B[43m)\u001B[49m\n\u001B[0;32m    474\u001B[0m     parent_results\u001B[38;5;241m.\u001B[39mappend(prediction)\n\u001B[0;32m    475\u001B[0m \u001B[38;5;28;01melse\u001B[39;00m:\n",
      "File \u001B[1;32m~\\OneDrive\\Desktop\\datascience\\covid\\venv\\lib\\site-packages\\fedot\\core\\pipelines\\node.py:393\u001B[0m, in \u001B[0;36mSecondaryNode.fit\u001B[1;34m(self, input_data, **kwargs)\u001B[0m\n\u001B[0;32m    389\u001B[0m \u001B[38;5;28mself\u001B[39m\u001B[38;5;241m.\u001B[39mlog\u001B[38;5;241m.\u001B[39mdebug(\u001B[38;5;124mf\u001B[39m\u001B[38;5;124m'\u001B[39m\u001B[38;5;124mTrying to fit secondary node with operation: \u001B[39m\u001B[38;5;132;01m{\u001B[39;00m\u001B[38;5;28mself\u001B[39m\u001B[38;5;241m.\u001B[39moperation\u001B[38;5;132;01m}\u001B[39;00m\u001B[38;5;124m'\u001B[39m)\n\u001B[0;32m    391\u001B[0m secondary_input \u001B[38;5;241m=\u001B[39m \u001B[38;5;28mself\u001B[39m\u001B[38;5;241m.\u001B[39m_input_from_parents(input_data\u001B[38;5;241m=\u001B[39minput_data, parent_operation\u001B[38;5;241m=\u001B[39m\u001B[38;5;124m'\u001B[39m\u001B[38;5;124mfit\u001B[39m\u001B[38;5;124m'\u001B[39m)\n\u001B[1;32m--> 393\u001B[0m \u001B[38;5;28;01mreturn\u001B[39;00m \u001B[38;5;28;43msuper\u001B[39;49m\u001B[43m(\u001B[49m\u001B[43m)\u001B[49m\u001B[38;5;241;43m.\u001B[39;49m\u001B[43mfit\u001B[49m\u001B[43m(\u001B[49m\u001B[43minput_data\u001B[49m\u001B[38;5;241;43m=\u001B[39;49m\u001B[43msecondary_input\u001B[49m\u001B[43m)\u001B[49m\n",
      "File \u001B[1;32m~\\OneDrive\\Desktop\\datascience\\covid\\venv\\lib\\site-packages\\fedot\\core\\pipelines\\node.py:177\u001B[0m, in \u001B[0;36mNode.fit\u001B[1;34m(self, input_data)\u001B[0m\n\u001B[0;32m    175\u001B[0m \u001B[38;5;28;01mif\u001B[39;00m \u001B[38;5;28mself\u001B[39m\u001B[38;5;241m.\u001B[39mfitted_operation \u001B[38;5;129;01mis\u001B[39;00m \u001B[38;5;28;01mNone\u001B[39;00m:\n\u001B[0;32m    176\u001B[0m     \u001B[38;5;28;01mwith\u001B[39;00m Timer() \u001B[38;5;28;01mas\u001B[39;00m t:\n\u001B[1;32m--> 177\u001B[0m         \u001B[38;5;28mself\u001B[39m\u001B[38;5;241m.\u001B[39mfitted_operation, operation_predict \u001B[38;5;241m=\u001B[39m \u001B[38;5;28;43mself\u001B[39;49m\u001B[38;5;241;43m.\u001B[39;49m\u001B[43moperation\u001B[49m\u001B[38;5;241;43m.\u001B[39;49m\u001B[43mfit\u001B[49m\u001B[43m(\u001B[49m\u001B[43mparams\u001B[49m\u001B[38;5;241;43m=\u001B[39;49m\u001B[38;5;28;43mself\u001B[39;49m\u001B[38;5;241;43m.\u001B[39;49m\u001B[43m_parameters\u001B[49m\u001B[43m,\u001B[49m\n\u001B[0;32m    178\u001B[0m \u001B[43m                                                                      \u001B[49m\u001B[43mdata\u001B[49m\u001B[38;5;241;43m=\u001B[39;49m\u001B[43minput_data\u001B[49m\u001B[43m)\u001B[49m\n\u001B[0;32m    179\u001B[0m         \u001B[38;5;28mself\u001B[39m\u001B[38;5;241m.\u001B[39mfit_time_in_seconds \u001B[38;5;241m=\u001B[39m \u001B[38;5;28mround\u001B[39m(t\u001B[38;5;241m.\u001B[39mseconds_from_start, \u001B[38;5;241m3\u001B[39m)\n\u001B[0;32m    180\u001B[0m \u001B[38;5;28;01melse\u001B[39;00m:\n",
      "File \u001B[1;32m~\\OneDrive\\Desktop\\datascience\\covid\\venv\\lib\\site-packages\\fedot\\core\\operations\\operation.py:82\u001B[0m, in \u001B[0;36mOperation.fit\u001B[1;34m(self, params, data)\u001B[0m\n\u001B[0;32m     70\u001B[0m \u001B[38;5;124;03m\"\"\"This method is used for defining and running of the evaluation strategy\u001B[39;00m\n\u001B[0;32m     71\u001B[0m \u001B[38;5;124;03mto train the operation with the data provided\u001B[39;00m\n\u001B[0;32m     72\u001B[0m \n\u001B[1;32m   (...)\u001B[0m\n\u001B[0;32m     78\u001B[0m \u001B[38;5;124;03m    tuple: trained operation and prediction on train data\u001B[39;00m\n\u001B[0;32m     79\u001B[0m \u001B[38;5;124;03m\"\"\"\u001B[39;00m\n\u001B[0;32m     80\u001B[0m \u001B[38;5;28mself\u001B[39m\u001B[38;5;241m.\u001B[39m_init(data\u001B[38;5;241m.\u001B[39mtask, params\u001B[38;5;241m=\u001B[39mparams, n_samples_data\u001B[38;5;241m=\u001B[39mdata\u001B[38;5;241m.\u001B[39mfeatures\u001B[38;5;241m.\u001B[39mshape[\u001B[38;5;241m0\u001B[39m])\n\u001B[1;32m---> 82\u001B[0m \u001B[38;5;28mself\u001B[39m\u001B[38;5;241m.\u001B[39mfitted_operation \u001B[38;5;241m=\u001B[39m \u001B[38;5;28;43mself\u001B[39;49m\u001B[38;5;241;43m.\u001B[39;49m\u001B[43m_eval_strategy\u001B[49m\u001B[38;5;241;43m.\u001B[39;49m\u001B[43mfit\u001B[49m\u001B[43m(\u001B[49m\u001B[43mtrain_data\u001B[49m\u001B[38;5;241;43m=\u001B[39;49m\u001B[43mdata\u001B[49m\u001B[43m)\u001B[49m\n\u001B[0;32m     84\u001B[0m predict_train \u001B[38;5;241m=\u001B[39m \u001B[38;5;28mself\u001B[39m\u001B[38;5;241m.\u001B[39mpredict_for_fit(\u001B[38;5;28mself\u001B[39m\u001B[38;5;241m.\u001B[39mfitted_operation, data, params)\n\u001B[0;32m     86\u001B[0m \u001B[38;5;28;01mreturn\u001B[39;00m \u001B[38;5;28mself\u001B[39m\u001B[38;5;241m.\u001B[39mfitted_operation, predict_train\n",
      "File \u001B[1;32m~\\OneDrive\\Desktop\\datascience\\covid\\venv\\lib\\site-packages\\fedot\\core\\operations\\evaluation\\common_preprocessing.py:67\u001B[0m, in \u001B[0;36mFedotPreprocessingStrategy.fit\u001B[1;34m(self, train_data)\u001B[0m\n\u001B[0;32m     65\u001B[0m operation_implementation \u001B[38;5;241m=\u001B[39m \u001B[38;5;28mself\u001B[39m\u001B[38;5;241m.\u001B[39moperation_impl(\u001B[38;5;28mself\u001B[39m\u001B[38;5;241m.\u001B[39mparams_for_fit)\n\u001B[0;32m     66\u001B[0m \u001B[38;5;28;01mwith\u001B[39;00m RandomStateHandler():\n\u001B[1;32m---> 67\u001B[0m     \u001B[43moperation_implementation\u001B[49m\u001B[38;5;241;43m.\u001B[39;49m\u001B[43mfit\u001B[49m\u001B[43m(\u001B[49m\u001B[43mtrain_data\u001B[49m\u001B[43m)\u001B[49m\n\u001B[0;32m     68\u001B[0m \u001B[38;5;28;01mreturn\u001B[39;00m operation_implementation\n",
      "File \u001B[1;32m~\\OneDrive\\Desktop\\datascience\\covid\\venv\\lib\\site-packages\\fedot\\core\\operations\\evaluation\\operation_implementations\\data_operations\\sklearn_transformations.py:45\u001B[0m, in \u001B[0;36mComponentAnalysisImplementation.fit\u001B[1;34m(self, input_data)\u001B[0m\n\u001B[0;32m     43\u001B[0m \u001B[38;5;28;01mif\u001B[39;00m \u001B[38;5;28mself\u001B[39m\u001B[38;5;241m.\u001B[39mnumber_of_features \u001B[38;5;241m>\u001B[39m \u001B[38;5;241m1\u001B[39m:\n\u001B[0;32m     44\u001B[0m     \u001B[38;5;28mself\u001B[39m\u001B[38;5;241m.\u001B[39mcheck_and_correct_params()\n\u001B[1;32m---> 45\u001B[0m     \u001B[38;5;28;43mself\u001B[39;49m\u001B[38;5;241;43m.\u001B[39;49m\u001B[43mpca\u001B[49m\u001B[38;5;241;43m.\u001B[39;49m\u001B[43mfit\u001B[49m\u001B[43m(\u001B[49m\u001B[43minput_data\u001B[49m\u001B[38;5;241;43m.\u001B[39;49m\u001B[43mfeatures\u001B[49m\u001B[43m)\u001B[49m\n\u001B[0;32m     47\u001B[0m \u001B[38;5;28;01mreturn\u001B[39;00m \u001B[38;5;28mself\u001B[39m\u001B[38;5;241m.\u001B[39mpca\n",
      "File \u001B[1;32m~\\OneDrive\\Desktop\\datascience\\covid\\venv\\lib\\site-packages\\sklearn\\decomposition\\_fastica.py:679\u001B[0m, in \u001B[0;36mFastICA.fit\u001B[1;34m(self, X, y)\u001B[0m\n\u001B[0;32m    662\u001B[0m \u001B[38;5;28;01mdef\u001B[39;00m \u001B[38;5;21mfit\u001B[39m(\u001B[38;5;28mself\u001B[39m, X, y\u001B[38;5;241m=\u001B[39m\u001B[38;5;28;01mNone\u001B[39;00m):\n\u001B[0;32m    663\u001B[0m     \u001B[38;5;124;03m\"\"\"Fit the model to X.\u001B[39;00m\n\u001B[0;32m    664\u001B[0m \n\u001B[0;32m    665\u001B[0m \u001B[38;5;124;03m    Parameters\u001B[39;00m\n\u001B[1;32m   (...)\u001B[0m\n\u001B[0;32m    677\u001B[0m \u001B[38;5;124;03m        Returns the instance itself.\u001B[39;00m\n\u001B[0;32m    678\u001B[0m \u001B[38;5;124;03m    \"\"\"\u001B[39;00m\n\u001B[1;32m--> 679\u001B[0m     \u001B[38;5;28;43mself\u001B[39;49m\u001B[38;5;241;43m.\u001B[39;49m\u001B[43m_fit\u001B[49m\u001B[43m(\u001B[49m\u001B[43mX\u001B[49m\u001B[43m,\u001B[49m\u001B[43m \u001B[49m\u001B[43mcompute_sources\u001B[49m\u001B[38;5;241;43m=\u001B[39;49m\u001B[38;5;28;43;01mFalse\u001B[39;49;00m\u001B[43m)\u001B[49m\n\u001B[0;32m    680\u001B[0m     \u001B[38;5;28;01mreturn\u001B[39;00m \u001B[38;5;28mself\u001B[39m\n",
      "File \u001B[1;32m~\\OneDrive\\Desktop\\datascience\\covid\\venv\\lib\\site-packages\\sklearn\\decomposition\\_fastica.py:510\u001B[0m, in \u001B[0;36mFastICA._fit\u001B[1;34m(self, X, compute_sources)\u001B[0m\n\u001B[0;32m    501\u001B[0m     warnings\u001B[38;5;241m.\u001B[39mwarn(\n\u001B[0;32m    502\u001B[0m         \u001B[38;5;124m\"\u001B[39m\u001B[38;5;124mStarting in v1.3, whiten=True should be specified as \u001B[39m\u001B[38;5;124m\"\u001B[39m\n\u001B[0;32m    503\u001B[0m         \u001B[38;5;124m\"\u001B[39m\u001B[38;5;124mwhiten=\u001B[39m\u001B[38;5;124m'\u001B[39m\u001B[38;5;124marbitrary-variance\u001B[39m\u001B[38;5;124m'\u001B[39m\u001B[38;5;124m (its current behaviour). This \u001B[39m\u001B[38;5;124m\"\u001B[39m\n\u001B[1;32m   (...)\u001B[0m\n\u001B[0;32m    506\u001B[0m         stacklevel\u001B[38;5;241m=\u001B[39m\u001B[38;5;241m2\u001B[39m,\n\u001B[0;32m    507\u001B[0m     )\n\u001B[0;32m    508\u001B[0m     \u001B[38;5;28mself\u001B[39m\u001B[38;5;241m.\u001B[39m_whiten \u001B[38;5;241m=\u001B[39m \u001B[38;5;124m\"\u001B[39m\u001B[38;5;124marbitrary-variance\u001B[39m\u001B[38;5;124m\"\u001B[39m\n\u001B[1;32m--> 510\u001B[0m XT \u001B[38;5;241m=\u001B[39m \u001B[38;5;28;43mself\u001B[39;49m\u001B[38;5;241;43m.\u001B[39;49m\u001B[43m_validate_data\u001B[49m\u001B[43m(\u001B[49m\n\u001B[0;32m    511\u001B[0m \u001B[43m    \u001B[49m\u001B[43mX\u001B[49m\u001B[43m,\u001B[49m\u001B[43m \u001B[49m\u001B[43mcopy\u001B[49m\u001B[38;5;241;43m=\u001B[39;49m\u001B[38;5;28;43mself\u001B[39;49m\u001B[38;5;241;43m.\u001B[39;49m\u001B[43m_whiten\u001B[49m\u001B[43m,\u001B[49m\u001B[43m \u001B[49m\u001B[43mdtype\u001B[49m\u001B[38;5;241;43m=\u001B[39;49m\u001B[43m[\u001B[49m\u001B[43mnp\u001B[49m\u001B[38;5;241;43m.\u001B[39;49m\u001B[43mfloat64\u001B[49m\u001B[43m,\u001B[49m\u001B[43m \u001B[49m\u001B[43mnp\u001B[49m\u001B[38;5;241;43m.\u001B[39;49m\u001B[43mfloat32\u001B[49m\u001B[43m]\u001B[49m\u001B[43m,\u001B[49m\u001B[43m \u001B[49m\u001B[43mensure_min_samples\u001B[49m\u001B[38;5;241;43m=\u001B[39;49m\u001B[38;5;241;43m2\u001B[39;49m\n\u001B[0;32m    512\u001B[0m \u001B[43m\u001B[49m\u001B[43m)\u001B[49m\u001B[38;5;241m.\u001B[39mT\n\u001B[0;32m    513\u001B[0m fun_args \u001B[38;5;241m=\u001B[39m {} \u001B[38;5;28;01mif\u001B[39;00m \u001B[38;5;28mself\u001B[39m\u001B[38;5;241m.\u001B[39mfun_args \u001B[38;5;129;01mis\u001B[39;00m \u001B[38;5;28;01mNone\u001B[39;00m \u001B[38;5;28;01melse\u001B[39;00m \u001B[38;5;28mself\u001B[39m\u001B[38;5;241m.\u001B[39mfun_args\n\u001B[0;32m    514\u001B[0m random_state \u001B[38;5;241m=\u001B[39m check_random_state(\u001B[38;5;28mself\u001B[39m\u001B[38;5;241m.\u001B[39mrandom_state)\n",
      "File \u001B[1;32m~\\OneDrive\\Desktop\\datascience\\covid\\venv\\lib\\site-packages\\sklearn\\base.py:577\u001B[0m, in \u001B[0;36mBaseEstimator._validate_data\u001B[1;34m(self, X, y, reset, validate_separately, **check_params)\u001B[0m\n\u001B[0;32m    575\u001B[0m     \u001B[38;5;28;01mraise\u001B[39;00m \u001B[38;5;167;01mValueError\u001B[39;00m(\u001B[38;5;124m\"\u001B[39m\u001B[38;5;124mValidation should be done on X, y or both.\u001B[39m\u001B[38;5;124m\"\u001B[39m)\n\u001B[0;32m    576\u001B[0m \u001B[38;5;28;01melif\u001B[39;00m \u001B[38;5;129;01mnot\u001B[39;00m no_val_X \u001B[38;5;129;01mand\u001B[39;00m no_val_y:\n\u001B[1;32m--> 577\u001B[0m     X \u001B[38;5;241m=\u001B[39m check_array(X, input_name\u001B[38;5;241m=\u001B[39m\u001B[38;5;124m\"\u001B[39m\u001B[38;5;124mX\u001B[39m\u001B[38;5;124m\"\u001B[39m, \u001B[38;5;241m*\u001B[39m\u001B[38;5;241m*\u001B[39mcheck_params)\n\u001B[0;32m    578\u001B[0m     out \u001B[38;5;241m=\u001B[39m X\n\u001B[0;32m    579\u001B[0m \u001B[38;5;28;01melif\u001B[39;00m no_val_X \u001B[38;5;129;01mand\u001B[39;00m \u001B[38;5;129;01mnot\u001B[39;00m no_val_y:\n",
      "File \u001B[1;32m~\\OneDrive\\Desktop\\datascience\\covid\\venv\\lib\\site-packages\\sklearn\\utils\\validation.py:909\u001B[0m, in \u001B[0;36mcheck_array\u001B[1;34m(array, accept_sparse, accept_large_sparse, dtype, order, copy, force_all_finite, ensure_2d, allow_nd, ensure_min_samples, ensure_min_features, estimator, input_name)\u001B[0m\n\u001B[0;32m    907\u001B[0m     n_samples \u001B[38;5;241m=\u001B[39m _num_samples(array)\n\u001B[0;32m    908\u001B[0m     \u001B[38;5;28;01mif\u001B[39;00m n_samples \u001B[38;5;241m<\u001B[39m ensure_min_samples:\n\u001B[1;32m--> 909\u001B[0m         \u001B[38;5;28;01mraise\u001B[39;00m \u001B[38;5;167;01mValueError\u001B[39;00m(\n\u001B[0;32m    910\u001B[0m             \u001B[38;5;124m\"\u001B[39m\u001B[38;5;124mFound array with \u001B[39m\u001B[38;5;132;01m%d\u001B[39;00m\u001B[38;5;124m sample(s) (shape=\u001B[39m\u001B[38;5;132;01m%s\u001B[39;00m\u001B[38;5;124m) while a\u001B[39m\u001B[38;5;124m\"\u001B[39m\n\u001B[0;32m    911\u001B[0m             \u001B[38;5;124m\"\u001B[39m\u001B[38;5;124m minimum of \u001B[39m\u001B[38;5;132;01m%d\u001B[39;00m\u001B[38;5;124m is required\u001B[39m\u001B[38;5;132;01m%s\u001B[39;00m\u001B[38;5;124m.\u001B[39m\u001B[38;5;124m\"\u001B[39m\n\u001B[0;32m    912\u001B[0m             \u001B[38;5;241m%\u001B[39m (n_samples, array\u001B[38;5;241m.\u001B[39mshape, ensure_min_samples, context)\n\u001B[0;32m    913\u001B[0m         )\n\u001B[0;32m    915\u001B[0m \u001B[38;5;28;01mif\u001B[39;00m ensure_min_features \u001B[38;5;241m>\u001B[39m \u001B[38;5;241m0\u001B[39m \u001B[38;5;129;01mand\u001B[39;00m array\u001B[38;5;241m.\u001B[39mndim \u001B[38;5;241m==\u001B[39m \u001B[38;5;241m2\u001B[39m:\n\u001B[0;32m    916\u001B[0m     n_features \u001B[38;5;241m=\u001B[39m array\u001B[38;5;241m.\u001B[39mshape[\u001B[38;5;241m1\u001B[39m]\n",
      "\u001B[1;31mValueError\u001B[0m: Found array with 1 sample(s) (shape=(1, 212)) while a minimum of 2 is required by FastICA."
     ]
    }
   ],
   "source": [
    "model = Fedot(problem='regression', timeout=30, n_jobs=-1)\n",
    "obtained_pipeline = model.fit(features=X, target=y)\n",
    "obtained_pipeline.show()\n"
   ]
  },
  {
   "cell_type": "code",
   "execution_count": null,
   "outputs": [],
   "source": [
    "print(\"Scaling + RandomForestRegression results:\")\n",
    "y_pred = model.predict(X_test)\n",
    "r2_res = r2_score(y_test, y_pred, multioutput=\"raw_values\")\n",
    "mse = mean_squared_error(y_test, y_pred)\n",
    "display(pd.DataFrame(data=r2_res.reshape(1, 13), columns=dinam_fact_df.columns, index=[\"R2\"]))\n",
    "print(\"RMSE \", mse**(1/2))"
   ],
   "metadata": {
    "collapsed": false
   }
  },
  {
   "cell_type": "markdown",
   "source": [
    "Now we will try to add some statical facts. Age, Medicines, Treatments"
   ],
   "metadata": {
    "collapsed": false
   }
  },
  {
   "cell_type": "code",
   "execution_count": 140,
   "outputs": [
    {
     "data": {
      "text/plain": "array([0, 0, 0, 0], dtype=object)"
     },
     "execution_count": 140,
     "metadata": {},
     "output_type": "execute_result"
    }
   ],
   "source": [
    "df.loc[(\"GACAk+Q\", 0)].iloc[43:47].to_numpy().reshape(4)"
   ],
   "metadata": {
    "collapsed": false
   }
  },
  {
   "cell_type": "code",
   "execution_count": 141,
   "outputs": [],
   "source": [
    "def split_features_targets(df, dinam_fact_df, window=3):\n",
    "    X, y = [], []\n",
    "    for i in df.index.levels[0]:\n",
    "        len_ts = dinam_fact_df.groupby([\"case\"]).size()[i]\n",
    "        if len_ts < window+1:\n",
    "            continue\n",
    "        sample_data = dinam_fact_df.loc[(i, 0): (i, window-1)].to_numpy().reshape(window*13) # facts\n",
    "        sample_data = np.append(sample_data, df.loc[(i, 0): (i, window-1)].iloc[:, 43:47].to_numpy().reshape(window*4)) #controls\n",
    "        sample_data = np.append(sample_data, df.loc[(i, 0)].iloc[:29].to_numpy()) #medicines\n",
    "        sample_data = np.append(sample_data, df.loc[(i, 0)].iloc[42]) #age\n",
    "        X.append(sample_data)\n",
    "        y.append(dinam_fact_df.loc[(i, window)].to_numpy())\n",
    "    return np.array(X), np.array(y)\n",
    "\n",
    "X, y = split_features_targets(df, dinam_fact_df)\n",
    "X, X_test, y, y_test = train_test_split(X, y, test_size=0.1)"
   ],
   "metadata": {
    "collapsed": false
   }
  },
  {
   "cell_type": "code",
   "execution_count": 152,
   "outputs": [
    {
     "data": {
      "text/plain": "(477, 13)"
     },
     "execution_count": 152,
     "metadata": {},
     "output_type": "execute_result"
    }
   ],
   "source": [
    "y.shape"
   ],
   "metadata": {
    "collapsed": false
   }
  },
  {
   "cell_type": "code",
   "execution_count": null,
   "outputs": [
    {
     "name": "stdout",
     "output_type": "stream",
     "text": [
      "2022-11-07 11:26:45,027 - ApiComposer - Initial pipeline was fitted in 1.5 sec.\n",
      "2022-11-07 11:26:45,032 - ApiComposer - AutoML configured. Parameters tuning: True Time limit: 30 min Set of candidate models: ['adareg', 'dtreg', 'gbr', 'knnreg', 'lasso', 'lgbmreg', 'linear', 'rfr', 'ridge', 'sgdr', 'svr', 'treg', 'scaling', 'normalization', 'pca', 'fast_ica', 'poly_features', 'ransac_lin_reg', 'ransac_non_lin_reg', 'isolation_forest_reg']\n",
      "2022-11-07 11:26:45,054 - ApiComposer - Pipeline composition started.\n"
     ]
    },
    {
     "name": "stderr",
     "output_type": "stream",
     "text": [
      "Generations:   0%|          | 1/10000 [00:00<?, ?gen/s]"
     ]
    }
   ],
   "source": [
    "model_2 = Fedot(problem='regression', timeout=5, n_jobs=-1)\n",
    "obtained_pipeline = model.fit(features=X, target=y)\n",
    "obtained_pipeline.show()"
   ],
   "metadata": {
    "collapsed": false,
    "pycharm": {
     "is_executing": true
    }
   }
  },
  {
   "cell_type": "code",
   "execution_count": null,
   "outputs": [],
   "source": [
    "print(\"Add static variables:\")\n",
    "y_pred = model_2.predict(X_test)\n",
    "r2_res = r2_score(y_test, y_pred, multioutput=\"raw_values\")\n",
    "mse = mean_squared_error(y_test, y_pred)\n",
    "display(pd.DataFrame(data=r2_res.reshape(1, 13), columns=dinam_fact_df.columns, index=[\"R2\"]))\n",
    "print(\"RMSE \", mse**(1/2))"
   ],
   "metadata": {
    "collapsed": false
   }
  }
 ],
 "metadata": {
  "kernelspec": {
   "display_name": "Python 3.10.5 64-bit",
   "language": "python",
   "name": "python3"
  },
  "language_info": {
   "codemirror_mode": {
    "name": "ipython",
    "version": 3
   },
   "file_extension": ".py",
   "mimetype": "text/x-python",
   "name": "python",
   "nbconvert_exporter": "python",
   "pygments_lexer": "ipython3",
   "version": "3.10.5"
  },
  "orig_nbformat": 4,
  "vscode": {
   "interpreter": {
    "hash": "369f2c481f4da34e4445cda3fffd2e751bd1c4d706f27375911949ba6bb62e1c"
   }
  }
 },
 "nbformat": 4,
 "nbformat_minor": 2
}
