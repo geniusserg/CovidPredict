{
 "cells": [
  {
   "cell_type": "code",
   "execution_count": 152,
   "id": "4208bacb-ddf2-4a46-a01d-8382d7f06507",
   "metadata": {
    "pycharm": {
     "is_executing": true
    },
    "tags": []
   },
   "outputs": [],
   "source": [
    "import os\n",
    "\n",
    "import numpy as np\n",
    "import pandas as pd\n",
    "import pickle \n",
    "from tqdm import tqdm\n",
    "\n",
    "from sklearn.experimental import enable_iterative_imputer\n",
    "from sklearn.linear_model import LinearRegression\n",
    "from sklearn.metrics import mean_squared_error, mean_absolute_error, r2_score, mean_absolute_percentage_error\n",
    "from sklearn.preprocessing import StandardScaler, MinMaxScaler\n",
    "from sklearn.impute import IterativeImputer\n",
    "from sklearn.model_selection import train_test_split, KFold\n",
    "from sklearn.metrics import r2_score\n",
    "\n",
    "#keras\n",
    "from keras.models import Sequential\n",
    "from keras.layers import Dense, LSTM, SimpleRNN, GRU, Input, Flatten, concatenate\n",
    "from keras import Model\n",
    "from keras.metrics import RootMeanSquaredError\n",
    "\n",
    "\n",
    "# Plots\n",
    "import matplotlib.pyplot as plt\n",
    "\n",
    "# Prerocessing for FEDOT\n",
    "from fedot.core.data.data import InputData\n",
    "from fedot.core.repository.dataset_types import DataTypesEnum\n",
    "from fedot.api.main import Fedot\n",
    "from fedot.core.repository.tasks import Task, TaskTypesEnum\n",
    "# FEDOT \n",
    "from fedot.core.pipelines.pipeline import Pipeline\n",
    "\n",
    "import logging\n",
    "logging.raiseExceptions = False\n",
    "import datetime\n",
    "\n",
    "pd.set_option('display.max_rows', 50)\n",
    "pd.set_option('display.max_columns', None)"
   ]
  },
  {
   "cell_type": "markdown",
   "id": "4f75f35e-774d-4c1a-95f8-8b440d002e82",
   "metadata": {
    "tags": []
   },
   "source": [
    "## Dataset general preparation"
   ]
  },
  {
   "cell_type": "code",
   "execution_count": 153,
   "id": "6f88469d-67a2-417a-9e17-150eb5b75958",
   "metadata": {
    "tags": []
   },
   "outputs": [
    {
     "data": {
      "text/html": [
       "<div>\n",
       "<style scoped>\n",
       "    .dataframe tbody tr th:only-of-type {\n",
       "        vertical-align: middle;\n",
       "    }\n",
       "\n",
       "    .dataframe tbody tr th {\n",
       "        vertical-align: top;\n",
       "    }\n",
       "\n",
       "    .dataframe thead th {\n",
       "        text-align: right;\n",
       "    }\n",
       "</style>\n",
       "<table border=\"1\" class=\"dataframe\">\n",
       "  <thead>\n",
       "    <tr style=\"text-align: right;\">\n",
       "      <th></th>\n",
       "      <th></th>\n",
       "      <th>омепразол_stat_control</th>\n",
       "      <th>надропарин кальция_stat_control</th>\n",
       "      <th>эзомепразол_stat_control</th>\n",
       "      <th>амлодипин_stat_control</th>\n",
       "      <th>амброксол_stat_control</th>\n",
       "      <th>домперидон_stat_control</th>\n",
       "      <th>меброфенин_stat_control</th>\n",
       "      <th>технеций_stat_control</th>\n",
       "      <th>мометазон_stat_control</th>\n",
       "      <th>бисопролол_stat_control</th>\n",
       "      <th>дексаметазон_stat_control</th>\n",
       "      <th>гидрохлоротиазид_stat_control</th>\n",
       "      <th>гидроксихлорохин_stat_control</th>\n",
       "      <th>рабепразол_stat_control</th>\n",
       "      <th>эноксапарин натрия_stat_control</th>\n",
       "      <th>периндоприл_stat_control</th>\n",
       "      <th>ацетилцистеин_stat_control</th>\n",
       "      <th>азитромицин_stat_control</th>\n",
       "      <th>валсартан_stat_control</th>\n",
       "      <th>метилпреднизолон_stat_control</th>\n",
       "      <th>лоратадин_stat_control</th>\n",
       "      <th>хлорохин_stat_control</th>\n",
       "      <th>натрия хлорид_stat_control</th>\n",
       "      <th>индапамид_stat_control</th>\n",
       "      <th>преднизолон_stat_control</th>\n",
       "      <th>аторвастатин_stat_control</th>\n",
       "      <th>декстран_stat_control</th>\n",
       "      <th>лизиноприл_stat_control</th>\n",
       "      <th>лозартан_stat_control</th>\n",
       "      <th>Температура_dinam_fact</th>\n",
       "      <th>Лимфоциты#_dinam_fact</th>\n",
       "      <th>АСТ_dinam_fact</th>\n",
       "      <th>ЧСС_dinam_fact</th>\n",
       "      <th>ЧДД_dinam_fact</th>\n",
       "      <th>Билирубин общий_dinam_fact</th>\n",
       "      <th>MPV- Средн.объем тромбоцитов_dinam_fact</th>\n",
       "      <th>PCT- Тромбокрит_dinam_fact</th>\n",
       "      <th>Лимфоциты%_dinam_fact</th>\n",
       "      <th>снижение_сознания_dinam_fact</th>\n",
       "      <th>Cтепень тяжести по КТ_dinam_fact</th>\n",
       "      <th>Лактатдегидрогеназа_dinam_fact</th>\n",
       "      <th>PDW- Индекс расп.по объему тр._dinam_fact</th>\n",
       "      <th>age_stat_fact</th>\n",
       "      <th>трансфузия_dinam_control</th>\n",
       "      <th>оксигенотерапия_dinam_control</th>\n",
       "      <th>НИВЛ_dinam_control</th>\n",
       "      <th>ИВЛ_dinam_control</th>\n",
       "      <th>long_observation_tar</th>\n",
       "      <th>outcome_tar</th>\n",
       "      <th>process_stages</th>\n",
       "      <th>current_process_duration</th>\n",
       "      <th>admission_date</th>\n",
       "      <th>end_epizode</th>\n",
       "    </tr>\n",
       "    <tr>\n",
       "      <th>case</th>\n",
       "      <th>t_point</th>\n",
       "      <th></th>\n",
       "      <th></th>\n",
       "      <th></th>\n",
       "      <th></th>\n",
       "      <th></th>\n",
       "      <th></th>\n",
       "      <th></th>\n",
       "      <th></th>\n",
       "      <th></th>\n",
       "      <th></th>\n",
       "      <th></th>\n",
       "      <th></th>\n",
       "      <th></th>\n",
       "      <th></th>\n",
       "      <th></th>\n",
       "      <th></th>\n",
       "      <th></th>\n",
       "      <th></th>\n",
       "      <th></th>\n",
       "      <th></th>\n",
       "      <th></th>\n",
       "      <th></th>\n",
       "      <th></th>\n",
       "      <th></th>\n",
       "      <th></th>\n",
       "      <th></th>\n",
       "      <th></th>\n",
       "      <th></th>\n",
       "      <th></th>\n",
       "      <th></th>\n",
       "      <th></th>\n",
       "      <th></th>\n",
       "      <th></th>\n",
       "      <th></th>\n",
       "      <th></th>\n",
       "      <th></th>\n",
       "      <th></th>\n",
       "      <th></th>\n",
       "      <th></th>\n",
       "      <th></th>\n",
       "      <th></th>\n",
       "      <th></th>\n",
       "      <th></th>\n",
       "      <th></th>\n",
       "      <th></th>\n",
       "      <th></th>\n",
       "      <th></th>\n",
       "      <th></th>\n",
       "      <th></th>\n",
       "      <th></th>\n",
       "      <th></th>\n",
       "      <th></th>\n",
       "      <th></th>\n",
       "    </tr>\n",
       "  </thead>\n",
       "  <tbody>\n",
       "    <tr>\n",
       "      <th rowspan=\"4\" valign=\"top\">GACAAcY</th>\n",
       "      <th>0</th>\n",
       "      <td>1</td>\n",
       "      <td>1</td>\n",
       "      <td>1</td>\n",
       "      <td>1</td>\n",
       "      <td>1</td>\n",
       "      <td>1</td>\n",
       "      <td>1</td>\n",
       "      <td>1</td>\n",
       "      <td>1</td>\n",
       "      <td>1</td>\n",
       "      <td>1</td>\n",
       "      <td>1</td>\n",
       "      <td>0</td>\n",
       "      <td>0</td>\n",
       "      <td>0</td>\n",
       "      <td>0</td>\n",
       "      <td>0</td>\n",
       "      <td>0</td>\n",
       "      <td>0</td>\n",
       "      <td>1</td>\n",
       "      <td>0</td>\n",
       "      <td>0</td>\n",
       "      <td>0</td>\n",
       "      <td>0</td>\n",
       "      <td>1</td>\n",
       "      <td>0</td>\n",
       "      <td>0</td>\n",
       "      <td>0</td>\n",
       "      <td>1</td>\n",
       "      <td>36.7</td>\n",
       "      <td>1.93</td>\n",
       "      <td>27.90</td>\n",
       "      <td>74.0</td>\n",
       "      <td>24.0</td>\n",
       "      <td>15.30</td>\n",
       "      <td>11.2</td>\n",
       "      <td>0.100</td>\n",
       "      <td>48.3</td>\n",
       "      <td>0</td>\n",
       "      <td>2</td>\n",
       "      <td>245.0</td>\n",
       "      <td>14.0</td>\n",
       "      <td>81</td>\n",
       "      <td>0</td>\n",
       "      <td>1</td>\n",
       "      <td>0</td>\n",
       "      <td>0</td>\n",
       "      <td>22</td>\n",
       "      <td>0</td>\n",
       "      <td>2</td>\n",
       "      <td>3</td>\n",
       "      <td>2021-01-29</td>\n",
       "      <td>0</td>\n",
       "    </tr>\n",
       "    <tr>\n",
       "      <th>1</th>\n",
       "      <td>1</td>\n",
       "      <td>1</td>\n",
       "      <td>1</td>\n",
       "      <td>1</td>\n",
       "      <td>1</td>\n",
       "      <td>1</td>\n",
       "      <td>1</td>\n",
       "      <td>1</td>\n",
       "      <td>1</td>\n",
       "      <td>1</td>\n",
       "      <td>1</td>\n",
       "      <td>1</td>\n",
       "      <td>0</td>\n",
       "      <td>0</td>\n",
       "      <td>0</td>\n",
       "      <td>0</td>\n",
       "      <td>0</td>\n",
       "      <td>0</td>\n",
       "      <td>0</td>\n",
       "      <td>1</td>\n",
       "      <td>0</td>\n",
       "      <td>0</td>\n",
       "      <td>0</td>\n",
       "      <td>0</td>\n",
       "      <td>1</td>\n",
       "      <td>0</td>\n",
       "      <td>0</td>\n",
       "      <td>0</td>\n",
       "      <td>1</td>\n",
       "      <td>36.3</td>\n",
       "      <td>2.00</td>\n",
       "      <td>25.70</td>\n",
       "      <td>71.0</td>\n",
       "      <td>19.0</td>\n",
       "      <td>12.10</td>\n",
       "      <td>10.6</td>\n",
       "      <td>0.160</td>\n",
       "      <td>30.7</td>\n",
       "      <td>0</td>\n",
       "      <td>2</td>\n",
       "      <td>315.0</td>\n",
       "      <td>12.8</td>\n",
       "      <td>81</td>\n",
       "      <td>0</td>\n",
       "      <td>1</td>\n",
       "      <td>0</td>\n",
       "      <td>0</td>\n",
       "      <td>22</td>\n",
       "      <td>0</td>\n",
       "      <td>2</td>\n",
       "      <td>10</td>\n",
       "      <td>2021-01-29</td>\n",
       "      <td>0</td>\n",
       "    </tr>\n",
       "    <tr>\n",
       "      <th>2</th>\n",
       "      <td>1</td>\n",
       "      <td>1</td>\n",
       "      <td>1</td>\n",
       "      <td>1</td>\n",
       "      <td>1</td>\n",
       "      <td>1</td>\n",
       "      <td>1</td>\n",
       "      <td>1</td>\n",
       "      <td>1</td>\n",
       "      <td>1</td>\n",
       "      <td>1</td>\n",
       "      <td>1</td>\n",
       "      <td>0</td>\n",
       "      <td>0</td>\n",
       "      <td>0</td>\n",
       "      <td>0</td>\n",
       "      <td>0</td>\n",
       "      <td>0</td>\n",
       "      <td>0</td>\n",
       "      <td>1</td>\n",
       "      <td>0</td>\n",
       "      <td>0</td>\n",
       "      <td>0</td>\n",
       "      <td>0</td>\n",
       "      <td>1</td>\n",
       "      <td>0</td>\n",
       "      <td>0</td>\n",
       "      <td>0</td>\n",
       "      <td>1</td>\n",
       "      <td>36.6</td>\n",
       "      <td>2.13</td>\n",
       "      <td>32.00</td>\n",
       "      <td>NaN</td>\n",
       "      <td>18.0</td>\n",
       "      <td>NaN</td>\n",
       "      <td>11.0</td>\n",
       "      <td>0.190</td>\n",
       "      <td>23.1</td>\n",
       "      <td>0</td>\n",
       "      <td>5</td>\n",
       "      <td>290.0</td>\n",
       "      <td>13.5</td>\n",
       "      <td>81</td>\n",
       "      <td>0</td>\n",
       "      <td>1</td>\n",
       "      <td>0</td>\n",
       "      <td>0</td>\n",
       "      <td>22</td>\n",
       "      <td>0</td>\n",
       "      <td>2</td>\n",
       "      <td>17</td>\n",
       "      <td>2021-01-29</td>\n",
       "      <td>0</td>\n",
       "    </tr>\n",
       "    <tr>\n",
       "      <th>3</th>\n",
       "      <td>1</td>\n",
       "      <td>1</td>\n",
       "      <td>1</td>\n",
       "      <td>1</td>\n",
       "      <td>1</td>\n",
       "      <td>1</td>\n",
       "      <td>1</td>\n",
       "      <td>1</td>\n",
       "      <td>1</td>\n",
       "      <td>1</td>\n",
       "      <td>1</td>\n",
       "      <td>1</td>\n",
       "      <td>0</td>\n",
       "      <td>0</td>\n",
       "      <td>0</td>\n",
       "      <td>0</td>\n",
       "      <td>0</td>\n",
       "      <td>0</td>\n",
       "      <td>0</td>\n",
       "      <td>1</td>\n",
       "      <td>0</td>\n",
       "      <td>0</td>\n",
       "      <td>0</td>\n",
       "      <td>0</td>\n",
       "      <td>1</td>\n",
       "      <td>0</td>\n",
       "      <td>0</td>\n",
       "      <td>0</td>\n",
       "      <td>1</td>\n",
       "      <td>36.5</td>\n",
       "      <td>2.12</td>\n",
       "      <td>27.00</td>\n",
       "      <td>71.0</td>\n",
       "      <td>18.0</td>\n",
       "      <td>NaN</td>\n",
       "      <td>11.4</td>\n",
       "      <td>0.100</td>\n",
       "      <td>24.1</td>\n",
       "      <td>0</td>\n",
       "      <td>5</td>\n",
       "      <td>274.0</td>\n",
       "      <td>13.1</td>\n",
       "      <td>81</td>\n",
       "      <td>0</td>\n",
       "      <td>1</td>\n",
       "      <td>0</td>\n",
       "      <td>0</td>\n",
       "      <td>22</td>\n",
       "      <td>0</td>\n",
       "      <td>2</td>\n",
       "      <td>24</td>\n",
       "      <td>2021-01-29</td>\n",
       "      <td>1</td>\n",
       "    </tr>\n",
       "    <tr>\n",
       "      <th>GACAAnf</th>\n",
       "      <th>0</th>\n",
       "      <td>1</td>\n",
       "      <td>1</td>\n",
       "      <td>1</td>\n",
       "      <td>1</td>\n",
       "      <td>1</td>\n",
       "      <td>1</td>\n",
       "      <td>1</td>\n",
       "      <td>1</td>\n",
       "      <td>1</td>\n",
       "      <td>1</td>\n",
       "      <td>0</td>\n",
       "      <td>1</td>\n",
       "      <td>1</td>\n",
       "      <td>0</td>\n",
       "      <td>0</td>\n",
       "      <td>0</td>\n",
       "      <td>0</td>\n",
       "      <td>1</td>\n",
       "      <td>0</td>\n",
       "      <td>0</td>\n",
       "      <td>0</td>\n",
       "      <td>1</td>\n",
       "      <td>0</td>\n",
       "      <td>0</td>\n",
       "      <td>0</td>\n",
       "      <td>0</td>\n",
       "      <td>0</td>\n",
       "      <td>0</td>\n",
       "      <td>0</td>\n",
       "      <td>NaN</td>\n",
       "      <td>1.21</td>\n",
       "      <td>20.70</td>\n",
       "      <td>55.0</td>\n",
       "      <td>22.0</td>\n",
       "      <td>7.80</td>\n",
       "      <td>8.1</td>\n",
       "      <td>0.201</td>\n",
       "      <td>24.1</td>\n",
       "      <td>0</td>\n",
       "      <td>1</td>\n",
       "      <td>189.0</td>\n",
       "      <td>17.7</td>\n",
       "      <td>73</td>\n",
       "      <td>0</td>\n",
       "      <td>0</td>\n",
       "      <td>0</td>\n",
       "      <td>0</td>\n",
       "      <td>6</td>\n",
       "      <td>0</td>\n",
       "      <td>1_2</td>\n",
       "      <td>3</td>\n",
       "      <td>2020-06-06</td>\n",
       "      <td>0</td>\n",
       "    </tr>\n",
       "    <tr>\n",
       "      <th>...</th>\n",
       "      <th>...</th>\n",
       "      <td>...</td>\n",
       "      <td>...</td>\n",
       "      <td>...</td>\n",
       "      <td>...</td>\n",
       "      <td>...</td>\n",
       "      <td>...</td>\n",
       "      <td>...</td>\n",
       "      <td>...</td>\n",
       "      <td>...</td>\n",
       "      <td>...</td>\n",
       "      <td>...</td>\n",
       "      <td>...</td>\n",
       "      <td>...</td>\n",
       "      <td>...</td>\n",
       "      <td>...</td>\n",
       "      <td>...</td>\n",
       "      <td>...</td>\n",
       "      <td>...</td>\n",
       "      <td>...</td>\n",
       "      <td>...</td>\n",
       "      <td>...</td>\n",
       "      <td>...</td>\n",
       "      <td>...</td>\n",
       "      <td>...</td>\n",
       "      <td>...</td>\n",
       "      <td>...</td>\n",
       "      <td>...</td>\n",
       "      <td>...</td>\n",
       "      <td>...</td>\n",
       "      <td>...</td>\n",
       "      <td>...</td>\n",
       "      <td>...</td>\n",
       "      <td>...</td>\n",
       "      <td>...</td>\n",
       "      <td>...</td>\n",
       "      <td>...</td>\n",
       "      <td>...</td>\n",
       "      <td>...</td>\n",
       "      <td>...</td>\n",
       "      <td>...</td>\n",
       "      <td>...</td>\n",
       "      <td>...</td>\n",
       "      <td>...</td>\n",
       "      <td>...</td>\n",
       "      <td>...</td>\n",
       "      <td>...</td>\n",
       "      <td>...</td>\n",
       "      <td>...</td>\n",
       "      <td>...</td>\n",
       "      <td>...</td>\n",
       "      <td>...</td>\n",
       "      <td>...</td>\n",
       "      <td>...</td>\n",
       "    </tr>\n",
       "    <tr>\n",
       "      <th rowspan=\"2\" valign=\"top\">GACBB;O</th>\n",
       "      <th>0</th>\n",
       "      <td>0</td>\n",
       "      <td>0</td>\n",
       "      <td>0</td>\n",
       "      <td>1</td>\n",
       "      <td>1</td>\n",
       "      <td>0</td>\n",
       "      <td>0</td>\n",
       "      <td>0</td>\n",
       "      <td>0</td>\n",
       "      <td>1</td>\n",
       "      <td>0</td>\n",
       "      <td>1</td>\n",
       "      <td>0</td>\n",
       "      <td>1</td>\n",
       "      <td>0</td>\n",
       "      <td>0</td>\n",
       "      <td>0</td>\n",
       "      <td>0</td>\n",
       "      <td>0</td>\n",
       "      <td>0</td>\n",
       "      <td>0</td>\n",
       "      <td>0</td>\n",
       "      <td>0</td>\n",
       "      <td>0</td>\n",
       "      <td>0</td>\n",
       "      <td>0</td>\n",
       "      <td>0</td>\n",
       "      <td>0</td>\n",
       "      <td>0</td>\n",
       "      <td>36.9</td>\n",
       "      <td>1.22</td>\n",
       "      <td>22.34</td>\n",
       "      <td>54.0</td>\n",
       "      <td>18.0</td>\n",
       "      <td>1.43</td>\n",
       "      <td>7.0</td>\n",
       "      <td>0.134</td>\n",
       "      <td>33.0</td>\n",
       "      <td>0</td>\n",
       "      <td>1</td>\n",
       "      <td>267.9</td>\n",
       "      <td>14.8</td>\n",
       "      <td>62</td>\n",
       "      <td>0</td>\n",
       "      <td>0</td>\n",
       "      <td>0</td>\n",
       "      <td>0</td>\n",
       "      <td>6</td>\n",
       "      <td>0</td>\n",
       "      <td>2</td>\n",
       "      <td>3</td>\n",
       "      <td>2021-01-04</td>\n",
       "      <td>0</td>\n",
       "    </tr>\n",
       "    <tr>\n",
       "      <th>1</th>\n",
       "      <td>0</td>\n",
       "      <td>0</td>\n",
       "      <td>0</td>\n",
       "      <td>1</td>\n",
       "      <td>1</td>\n",
       "      <td>0</td>\n",
       "      <td>0</td>\n",
       "      <td>0</td>\n",
       "      <td>0</td>\n",
       "      <td>1</td>\n",
       "      <td>0</td>\n",
       "      <td>1</td>\n",
       "      <td>0</td>\n",
       "      <td>1</td>\n",
       "      <td>0</td>\n",
       "      <td>0</td>\n",
       "      <td>0</td>\n",
       "      <td>0</td>\n",
       "      <td>0</td>\n",
       "      <td>0</td>\n",
       "      <td>0</td>\n",
       "      <td>0</td>\n",
       "      <td>0</td>\n",
       "      <td>0</td>\n",
       "      <td>0</td>\n",
       "      <td>0</td>\n",
       "      <td>0</td>\n",
       "      <td>0</td>\n",
       "      <td>0</td>\n",
       "      <td>36.5</td>\n",
       "      <td>1.65</td>\n",
       "      <td>244.03</td>\n",
       "      <td>NaN</td>\n",
       "      <td>17.0</td>\n",
       "      <td>3.78</td>\n",
       "      <td>7.2</td>\n",
       "      <td>0.210</td>\n",
       "      <td>41.2</td>\n",
       "      <td>0</td>\n",
       "      <td>5</td>\n",
       "      <td>NaN</td>\n",
       "      <td>13.4</td>\n",
       "      <td>62</td>\n",
       "      <td>0</td>\n",
       "      <td>0</td>\n",
       "      <td>0</td>\n",
       "      <td>0</td>\n",
       "      <td>6</td>\n",
       "      <td>0</td>\n",
       "      <td>2</td>\n",
       "      <td>10</td>\n",
       "      <td>2021-01-04</td>\n",
       "      <td>1</td>\n",
       "    </tr>\n",
       "    <tr>\n",
       "      <th rowspan=\"3\" valign=\"top\">GACXAAB</th>\n",
       "      <th>0</th>\n",
       "      <td>1</td>\n",
       "      <td>0</td>\n",
       "      <td>1</td>\n",
       "      <td>1</td>\n",
       "      <td>0</td>\n",
       "      <td>1</td>\n",
       "      <td>1</td>\n",
       "      <td>1</td>\n",
       "      <td>1</td>\n",
       "      <td>1</td>\n",
       "      <td>0</td>\n",
       "      <td>0</td>\n",
       "      <td>0</td>\n",
       "      <td>1</td>\n",
       "      <td>0</td>\n",
       "      <td>0</td>\n",
       "      <td>1</td>\n",
       "      <td>0</td>\n",
       "      <td>0</td>\n",
       "      <td>0</td>\n",
       "      <td>0</td>\n",
       "      <td>0</td>\n",
       "      <td>0</td>\n",
       "      <td>0</td>\n",
       "      <td>0</td>\n",
       "      <td>1</td>\n",
       "      <td>0</td>\n",
       "      <td>0</td>\n",
       "      <td>1</td>\n",
       "      <td>36.5</td>\n",
       "      <td>1.11</td>\n",
       "      <td>21.80</td>\n",
       "      <td>NaN</td>\n",
       "      <td>NaN</td>\n",
       "      <td>4.50</td>\n",
       "      <td>10.6</td>\n",
       "      <td>0.200</td>\n",
       "      <td>18.8</td>\n",
       "      <td>0</td>\n",
       "      <td>1</td>\n",
       "      <td>219.0</td>\n",
       "      <td>11.7</td>\n",
       "      <td>71</td>\n",
       "      <td>0</td>\n",
       "      <td>0</td>\n",
       "      <td>0</td>\n",
       "      <td>0</td>\n",
       "      <td>16</td>\n",
       "      <td>0</td>\n",
       "      <td>2</td>\n",
       "      <td>3</td>\n",
       "      <td>2021-01-12</td>\n",
       "      <td>0</td>\n",
       "    </tr>\n",
       "    <tr>\n",
       "      <th>1</th>\n",
       "      <td>1</td>\n",
       "      <td>0</td>\n",
       "      <td>1</td>\n",
       "      <td>1</td>\n",
       "      <td>0</td>\n",
       "      <td>1</td>\n",
       "      <td>1</td>\n",
       "      <td>1</td>\n",
       "      <td>1</td>\n",
       "      <td>1</td>\n",
       "      <td>0</td>\n",
       "      <td>0</td>\n",
       "      <td>0</td>\n",
       "      <td>1</td>\n",
       "      <td>0</td>\n",
       "      <td>0</td>\n",
       "      <td>1</td>\n",
       "      <td>0</td>\n",
       "      <td>0</td>\n",
       "      <td>0</td>\n",
       "      <td>0</td>\n",
       "      <td>0</td>\n",
       "      <td>0</td>\n",
       "      <td>0</td>\n",
       "      <td>0</td>\n",
       "      <td>1</td>\n",
       "      <td>0</td>\n",
       "      <td>0</td>\n",
       "      <td>1</td>\n",
       "      <td>36.9</td>\n",
       "      <td>1.60</td>\n",
       "      <td>60.80</td>\n",
       "      <td>75.0</td>\n",
       "      <td>16.0</td>\n",
       "      <td>1.10</td>\n",
       "      <td>10.8</td>\n",
       "      <td>0.270</td>\n",
       "      <td>12.9</td>\n",
       "      <td>0</td>\n",
       "      <td>5</td>\n",
       "      <td>335.0</td>\n",
       "      <td>13.4</td>\n",
       "      <td>71</td>\n",
       "      <td>0</td>\n",
       "      <td>0</td>\n",
       "      <td>0</td>\n",
       "      <td>0</td>\n",
       "      <td>16</td>\n",
       "      <td>0</td>\n",
       "      <td>2</td>\n",
       "      <td>10</td>\n",
       "      <td>2021-01-12</td>\n",
       "      <td>0</td>\n",
       "    </tr>\n",
       "    <tr>\n",
       "      <th>2</th>\n",
       "      <td>1</td>\n",
       "      <td>0</td>\n",
       "      <td>1</td>\n",
       "      <td>1</td>\n",
       "      <td>0</td>\n",
       "      <td>1</td>\n",
       "      <td>1</td>\n",
       "      <td>1</td>\n",
       "      <td>1</td>\n",
       "      <td>1</td>\n",
       "      <td>0</td>\n",
       "      <td>0</td>\n",
       "      <td>0</td>\n",
       "      <td>1</td>\n",
       "      <td>0</td>\n",
       "      <td>0</td>\n",
       "      <td>1</td>\n",
       "      <td>0</td>\n",
       "      <td>0</td>\n",
       "      <td>0</td>\n",
       "      <td>0</td>\n",
       "      <td>0</td>\n",
       "      <td>0</td>\n",
       "      <td>0</td>\n",
       "      <td>0</td>\n",
       "      <td>1</td>\n",
       "      <td>0</td>\n",
       "      <td>0</td>\n",
       "      <td>1</td>\n",
       "      <td>36.6</td>\n",
       "      <td>3.45</td>\n",
       "      <td>17.20</td>\n",
       "      <td>NaN</td>\n",
       "      <td>15.0</td>\n",
       "      <td>9.30</td>\n",
       "      <td>10.0</td>\n",
       "      <td>0.280</td>\n",
       "      <td>23.0</td>\n",
       "      <td>0</td>\n",
       "      <td>5</td>\n",
       "      <td>279.0</td>\n",
       "      <td>11.6</td>\n",
       "      <td>71</td>\n",
       "      <td>0</td>\n",
       "      <td>0</td>\n",
       "      <td>0</td>\n",
       "      <td>0</td>\n",
       "      <td>16</td>\n",
       "      <td>0</td>\n",
       "      <td>2</td>\n",
       "      <td>17</td>\n",
       "      <td>2021-01-12</td>\n",
       "      <td>1</td>\n",
       "    </tr>\n",
       "  </tbody>\n",
       "</table>\n",
       "<p>6188 rows × 53 columns</p>\n",
       "</div>"
      ],
      "text/plain": [
       "                 омепразол_stat_control  надропарин кальция_stat_control  \\\n",
       "case    t_point                                                            \n",
       "GACAAcY 0                             1                                1   \n",
       "        1                             1                                1   \n",
       "        2                             1                                1   \n",
       "        3                             1                                1   \n",
       "GACAAnf 0                             1                                1   \n",
       "...                                 ...                              ...   \n",
       "GACBB;O 0                             0                                0   \n",
       "        1                             0                                0   \n",
       "GACXAAB 0                             1                                0   \n",
       "        1                             1                                0   \n",
       "        2                             1                                0   \n",
       "\n",
       "                 эзомепразол_stat_control  амлодипин_stat_control  \\\n",
       "case    t_point                                                     \n",
       "GACAAcY 0                               1                       1   \n",
       "        1                               1                       1   \n",
       "        2                               1                       1   \n",
       "        3                               1                       1   \n",
       "GACAAnf 0                               1                       1   \n",
       "...                                   ...                     ...   \n",
       "GACBB;O 0                               0                       1   \n",
       "        1                               0                       1   \n",
       "GACXAAB 0                               1                       1   \n",
       "        1                               1                       1   \n",
       "        2                               1                       1   \n",
       "\n",
       "                 амброксол_stat_control  домперидон_stat_control  \\\n",
       "case    t_point                                                    \n",
       "GACAAcY 0                             1                        1   \n",
       "        1                             1                        1   \n",
       "        2                             1                        1   \n",
       "        3                             1                        1   \n",
       "GACAAnf 0                             1                        1   \n",
       "...                                 ...                      ...   \n",
       "GACBB;O 0                             1                        0   \n",
       "        1                             1                        0   \n",
       "GACXAAB 0                             0                        1   \n",
       "        1                             0                        1   \n",
       "        2                             0                        1   \n",
       "\n",
       "                 меброфенин_stat_control  технеций_stat_control  \\\n",
       "case    t_point                                                   \n",
       "GACAAcY 0                              1                      1   \n",
       "        1                              1                      1   \n",
       "        2                              1                      1   \n",
       "        3                              1                      1   \n",
       "GACAAnf 0                              1                      1   \n",
       "...                                  ...                    ...   \n",
       "GACBB;O 0                              0                      0   \n",
       "        1                              0                      0   \n",
       "GACXAAB 0                              1                      1   \n",
       "        1                              1                      1   \n",
       "        2                              1                      1   \n",
       "\n",
       "                 мометазон_stat_control  бисопролол_stat_control  \\\n",
       "case    t_point                                                    \n",
       "GACAAcY 0                             1                        1   \n",
       "        1                             1                        1   \n",
       "        2                             1                        1   \n",
       "        3                             1                        1   \n",
       "GACAAnf 0                             1                        1   \n",
       "...                                 ...                      ...   \n",
       "GACBB;O 0                             0                        1   \n",
       "        1                             0                        1   \n",
       "GACXAAB 0                             1                        1   \n",
       "        1                             1                        1   \n",
       "        2                             1                        1   \n",
       "\n",
       "                 дексаметазон_stat_control  гидрохлоротиазид_stat_control  \\\n",
       "case    t_point                                                             \n",
       "GACAAcY 0                                1                              1   \n",
       "        1                                1                              1   \n",
       "        2                                1                              1   \n",
       "        3                                1                              1   \n",
       "GACAAnf 0                                0                              1   \n",
       "...                                    ...                            ...   \n",
       "GACBB;O 0                                0                              1   \n",
       "        1                                0                              1   \n",
       "GACXAAB 0                                0                              0   \n",
       "        1                                0                              0   \n",
       "        2                                0                              0   \n",
       "\n",
       "                 гидроксихлорохин_stat_control  рабепразол_stat_control  \\\n",
       "case    t_point                                                           \n",
       "GACAAcY 0                                    0                        0   \n",
       "        1                                    0                        0   \n",
       "        2                                    0                        0   \n",
       "        3                                    0                        0   \n",
       "GACAAnf 0                                    1                        0   \n",
       "...                                        ...                      ...   \n",
       "GACBB;O 0                                    0                        1   \n",
       "        1                                    0                        1   \n",
       "GACXAAB 0                                    0                        1   \n",
       "        1                                    0                        1   \n",
       "        2                                    0                        1   \n",
       "\n",
       "                 эноксапарин натрия_stat_control  периндоприл_stat_control  \\\n",
       "case    t_point                                                              \n",
       "GACAAcY 0                                      0                         0   \n",
       "        1                                      0                         0   \n",
       "        2                                      0                         0   \n",
       "        3                                      0                         0   \n",
       "GACAAnf 0                                      0                         0   \n",
       "...                                          ...                       ...   \n",
       "GACBB;O 0                                      0                         0   \n",
       "        1                                      0                         0   \n",
       "GACXAAB 0                                      0                         0   \n",
       "        1                                      0                         0   \n",
       "        2                                      0                         0   \n",
       "\n",
       "                 ацетилцистеин_stat_control  азитромицин_stat_control  \\\n",
       "case    t_point                                                         \n",
       "GACAAcY 0                                 0                         0   \n",
       "        1                                 0                         0   \n",
       "        2                                 0                         0   \n",
       "        3                                 0                         0   \n",
       "GACAAnf 0                                 0                         1   \n",
       "...                                     ...                       ...   \n",
       "GACBB;O 0                                 0                         0   \n",
       "        1                                 0                         0   \n",
       "GACXAAB 0                                 1                         0   \n",
       "        1                                 1                         0   \n",
       "        2                                 1                         0   \n",
       "\n",
       "                 валсартан_stat_control  метилпреднизолон_stat_control  \\\n",
       "case    t_point                                                          \n",
       "GACAAcY 0                             0                              1   \n",
       "        1                             0                              1   \n",
       "        2                             0                              1   \n",
       "        3                             0                              1   \n",
       "GACAAnf 0                             0                              0   \n",
       "...                                 ...                            ...   \n",
       "GACBB;O 0                             0                              0   \n",
       "        1                             0                              0   \n",
       "GACXAAB 0                             0                              0   \n",
       "        1                             0                              0   \n",
       "        2                             0                              0   \n",
       "\n",
       "                 лоратадин_stat_control  хлорохин_stat_control  \\\n",
       "case    t_point                                                  \n",
       "GACAAcY 0                             0                      0   \n",
       "        1                             0                      0   \n",
       "        2                             0                      0   \n",
       "        3                             0                      0   \n",
       "GACAAnf 0                             0                      1   \n",
       "...                                 ...                    ...   \n",
       "GACBB;O 0                             0                      0   \n",
       "        1                             0                      0   \n",
       "GACXAAB 0                             0                      0   \n",
       "        1                             0                      0   \n",
       "        2                             0                      0   \n",
       "\n",
       "                 натрия хлорид_stat_control  индапамид_stat_control  \\\n",
       "case    t_point                                                       \n",
       "GACAAcY 0                                 0                       0   \n",
       "        1                                 0                       0   \n",
       "        2                                 0                       0   \n",
       "        3                                 0                       0   \n",
       "GACAAnf 0                                 0                       0   \n",
       "...                                     ...                     ...   \n",
       "GACBB;O 0                                 0                       0   \n",
       "        1                                 0                       0   \n",
       "GACXAAB 0                                 0                       0   \n",
       "        1                                 0                       0   \n",
       "        2                                 0                       0   \n",
       "\n",
       "                 преднизолон_stat_control  аторвастатин_stat_control  \\\n",
       "case    t_point                                                        \n",
       "GACAAcY 0                               1                          0   \n",
       "        1                               1                          0   \n",
       "        2                               1                          0   \n",
       "        3                               1                          0   \n",
       "GACAAnf 0                               0                          0   \n",
       "...                                   ...                        ...   \n",
       "GACBB;O 0                               0                          0   \n",
       "        1                               0                          0   \n",
       "GACXAAB 0                               0                          1   \n",
       "        1                               0                          1   \n",
       "        2                               0                          1   \n",
       "\n",
       "                 декстран_stat_control  лизиноприл_stat_control  \\\n",
       "case    t_point                                                   \n",
       "GACAAcY 0                            0                        0   \n",
       "        1                            0                        0   \n",
       "        2                            0                        0   \n",
       "        3                            0                        0   \n",
       "GACAAnf 0                            0                        0   \n",
       "...                                ...                      ...   \n",
       "GACBB;O 0                            0                        0   \n",
       "        1                            0                        0   \n",
       "GACXAAB 0                            0                        0   \n",
       "        1                            0                        0   \n",
       "        2                            0                        0   \n",
       "\n",
       "                 лозартан_stat_control  Температура_dinam_fact  \\\n",
       "case    t_point                                                  \n",
       "GACAAcY 0                            1                    36.7   \n",
       "        1                            1                    36.3   \n",
       "        2                            1                    36.6   \n",
       "        3                            1                    36.5   \n",
       "GACAAnf 0                            0                     NaN   \n",
       "...                                ...                     ...   \n",
       "GACBB;O 0                            0                    36.9   \n",
       "        1                            0                    36.5   \n",
       "GACXAAB 0                            1                    36.5   \n",
       "        1                            1                    36.9   \n",
       "        2                            1                    36.6   \n",
       "\n",
       "                 Лимфоциты#_dinam_fact  АСТ_dinam_fact  ЧСС_dinam_fact  \\\n",
       "case    t_point                                                          \n",
       "GACAAcY 0                         1.93           27.90            74.0   \n",
       "        1                         2.00           25.70            71.0   \n",
       "        2                         2.13           32.00             NaN   \n",
       "        3                         2.12           27.00            71.0   \n",
       "GACAAnf 0                         1.21           20.70            55.0   \n",
       "...                                ...             ...             ...   \n",
       "GACBB;O 0                         1.22           22.34            54.0   \n",
       "        1                         1.65          244.03             NaN   \n",
       "GACXAAB 0                         1.11           21.80             NaN   \n",
       "        1                         1.60           60.80            75.0   \n",
       "        2                         3.45           17.20             NaN   \n",
       "\n",
       "                 ЧДД_dinam_fact  Билирубин общий_dinam_fact  \\\n",
       "case    t_point                                               \n",
       "GACAAcY 0                  24.0                       15.30   \n",
       "        1                  19.0                       12.10   \n",
       "        2                  18.0                         NaN   \n",
       "        3                  18.0                         NaN   \n",
       "GACAAnf 0                  22.0                        7.80   \n",
       "...                         ...                         ...   \n",
       "GACBB;O 0                  18.0                        1.43   \n",
       "        1                  17.0                        3.78   \n",
       "GACXAAB 0                   NaN                        4.50   \n",
       "        1                  16.0                        1.10   \n",
       "        2                  15.0                        9.30   \n",
       "\n",
       "                 MPV- Средн.объем тромбоцитов_dinam_fact  \\\n",
       "case    t_point                                            \n",
       "GACAAcY 0                                           11.2   \n",
       "        1                                           10.6   \n",
       "        2                                           11.0   \n",
       "        3                                           11.4   \n",
       "GACAAnf 0                                            8.1   \n",
       "...                                                  ...   \n",
       "GACBB;O 0                                            7.0   \n",
       "        1                                            7.2   \n",
       "GACXAAB 0                                           10.6   \n",
       "        1                                           10.8   \n",
       "        2                                           10.0   \n",
       "\n",
       "                 PCT- Тромбокрит_dinam_fact  Лимфоциты%_dinam_fact  \\\n",
       "case    t_point                                                      \n",
       "GACAAcY 0                             0.100                   48.3   \n",
       "        1                             0.160                   30.7   \n",
       "        2                             0.190                   23.1   \n",
       "        3                             0.100                   24.1   \n",
       "GACAAnf 0                             0.201                   24.1   \n",
       "...                                     ...                    ...   \n",
       "GACBB;O 0                             0.134                   33.0   \n",
       "        1                             0.210                   41.2   \n",
       "GACXAAB 0                             0.200                   18.8   \n",
       "        1                             0.270                   12.9   \n",
       "        2                             0.280                   23.0   \n",
       "\n",
       "                 снижение_сознания_dinam_fact  \\\n",
       "case    t_point                                 \n",
       "GACAAcY 0                                   0   \n",
       "        1                                   0   \n",
       "        2                                   0   \n",
       "        3                                   0   \n",
       "GACAAnf 0                                   0   \n",
       "...                                       ...   \n",
       "GACBB;O 0                                   0   \n",
       "        1                                   0   \n",
       "GACXAAB 0                                   0   \n",
       "        1                                   0   \n",
       "        2                                   0   \n",
       "\n",
       "                 Cтепень тяжести по КТ_dinam_fact  \\\n",
       "case    t_point                                     \n",
       "GACAAcY 0                                       2   \n",
       "        1                                       2   \n",
       "        2                                       5   \n",
       "        3                                       5   \n",
       "GACAAnf 0                                       1   \n",
       "...                                           ...   \n",
       "GACBB;O 0                                       1   \n",
       "        1                                       5   \n",
       "GACXAAB 0                                       1   \n",
       "        1                                       5   \n",
       "        2                                       5   \n",
       "\n",
       "                 Лактатдегидрогеназа_dinam_fact  \\\n",
       "case    t_point                                   \n",
       "GACAAcY 0                                 245.0   \n",
       "        1                                 315.0   \n",
       "        2                                 290.0   \n",
       "        3                                 274.0   \n",
       "GACAAnf 0                                 189.0   \n",
       "...                                         ...   \n",
       "GACBB;O 0                                 267.9   \n",
       "        1                                   NaN   \n",
       "GACXAAB 0                                 219.0   \n",
       "        1                                 335.0   \n",
       "        2                                 279.0   \n",
       "\n",
       "                 PDW- Индекс расп.по объему тр._dinam_fact  age_stat_fact  \\\n",
       "case    t_point                                                             \n",
       "GACAAcY 0                                             14.0             81   \n",
       "        1                                             12.8             81   \n",
       "        2                                             13.5             81   \n",
       "        3                                             13.1             81   \n",
       "GACAAnf 0                                             17.7             73   \n",
       "...                                                    ...            ...   \n",
       "GACBB;O 0                                             14.8             62   \n",
       "        1                                             13.4             62   \n",
       "GACXAAB 0                                             11.7             71   \n",
       "        1                                             13.4             71   \n",
       "        2                                             11.6             71   \n",
       "\n",
       "                 трансфузия_dinam_control  оксигенотерапия_dinam_control  \\\n",
       "case    t_point                                                            \n",
       "GACAAcY 0                               0                              1   \n",
       "        1                               0                              1   \n",
       "        2                               0                              1   \n",
       "        3                               0                              1   \n",
       "GACAAnf 0                               0                              0   \n",
       "...                                   ...                            ...   \n",
       "GACBB;O 0                               0                              0   \n",
       "        1                               0                              0   \n",
       "GACXAAB 0                               0                              0   \n",
       "        1                               0                              0   \n",
       "        2                               0                              0   \n",
       "\n",
       "                 НИВЛ_dinam_control  ИВЛ_dinam_control  long_observation_tar  \\\n",
       "case    t_point                                                                \n",
       "GACAAcY 0                         0                  0                    22   \n",
       "        1                         0                  0                    22   \n",
       "        2                         0                  0                    22   \n",
       "        3                         0                  0                    22   \n",
       "GACAAnf 0                         0                  0                     6   \n",
       "...                             ...                ...                   ...   \n",
       "GACBB;O 0                         0                  0                     6   \n",
       "        1                         0                  0                     6   \n",
       "GACXAAB 0                         0                  0                    16   \n",
       "        1                         0                  0                    16   \n",
       "        2                         0                  0                    16   \n",
       "\n",
       "                 outcome_tar process_stages  current_process_duration  \\\n",
       "case    t_point                                                         \n",
       "GACAAcY 0                  0              2                         3   \n",
       "        1                  0              2                        10   \n",
       "        2                  0              2                        17   \n",
       "        3                  0              2                        24   \n",
       "GACAAnf 0                  0            1_2                         3   \n",
       "...                      ...            ...                       ...   \n",
       "GACBB;O 0                  0              2                         3   \n",
       "        1                  0              2                        10   \n",
       "GACXAAB 0                  0              2                         3   \n",
       "        1                  0              2                        10   \n",
       "        2                  0              2                        17   \n",
       "\n",
       "                admission_date  end_epizode  \n",
       "case    t_point                              \n",
       "GACAAcY 0           2021-01-29            0  \n",
       "        1           2021-01-29            0  \n",
       "        2           2021-01-29            0  \n",
       "        3           2021-01-29            1  \n",
       "GACAAnf 0           2020-06-06            0  \n",
       "...                        ...          ...  \n",
       "GACBB;O 0           2021-01-04            0  \n",
       "        1           2021-01-04            1  \n",
       "GACXAAB 0           2021-01-12            0  \n",
       "        1           2021-01-12            0  \n",
       "        2           2021-01-12            1  \n",
       "\n",
       "[6188 rows x 53 columns]"
      ]
     },
     "execution_count": 153,
     "metadata": {},
     "output_type": "execute_result"
    }
   ],
   "source": [
    "df = None\n",
    "with open(\"covid_flow.pkl\", \"rb\") as f:\n",
    "    df = pickle.load(f)\n",
    "df[\"case\"] = df.index\n",
    "df[\"t_point\"] = df[\"t_point\"].apply(lambda x: x[2:])\n",
    "df[\"t_point\"] = df[\"t_point\"].apply(lambda x: int(x))\n",
    "df = df.set_index([\"case\", \"t_point\"])\n",
    "df = df.sort_values([\"case\", \"t_point\"])\n",
    "dynamic_idx = list(range(29, 42))\n",
    "dynamic_columns = list(df.columns[dynamic_idx])\n",
    "df.loc[:, dynamic_columns]\n",
    "full_df = df.copy()\n",
    "full_df"
   ]
  },
  {
   "cell_type": "markdown",
   "id": "c490bea2-b8d7-494a-b2fd-03674e52b114",
   "metadata": {
    "tags": []
   },
   "source": [
    "Exclude columns, which give information about how long the treatment was performed and about result"
   ]
  },
  {
   "cell_type": "code",
   "execution_count": 154,
   "id": "1891457a-6ca1-48bd-b272-a0d6d01294ac",
   "metadata": {
    "tags": []
   },
   "outputs": [],
   "source": [
    "df = df.drop([\"end_epizode\", \"admission_date\", \"current_process_duration\", \"process_stages\", \"outcome_tar\", \"long_observation_tar\"], axis=1)"
   ]
  },
  {
   "cell_type": "code",
   "execution_count": 155,
   "id": "6cc081f6-e1ad-4613-aa24-500b8ea6a7e8",
   "metadata": {
    "tags": []
   },
   "outputs": [
    {
     "data": {
      "text/html": [
       "<div>\n",
       "<style scoped>\n",
       "    .dataframe tbody tr th:only-of-type {\n",
       "        vertical-align: middle;\n",
       "    }\n",
       "\n",
       "    .dataframe tbody tr th {\n",
       "        vertical-align: top;\n",
       "    }\n",
       "\n",
       "    .dataframe thead th {\n",
       "        text-align: right;\n",
       "    }\n",
       "</style>\n",
       "<table border=\"1\" class=\"dataframe\">\n",
       "  <thead>\n",
       "    <tr style=\"text-align: right;\">\n",
       "      <th></th>\n",
       "      <th>омепразол_stat_control</th>\n",
       "      <th>надропарин кальция_stat_control</th>\n",
       "      <th>эзомепразол_stat_control</th>\n",
       "      <th>амлодипин_stat_control</th>\n",
       "      <th>амброксол_stat_control</th>\n",
       "      <th>домперидон_stat_control</th>\n",
       "      <th>меброфенин_stat_control</th>\n",
       "      <th>технеций_stat_control</th>\n",
       "      <th>мометазон_stat_control</th>\n",
       "      <th>бисопролол_stat_control</th>\n",
       "      <th>дексаметазон_stat_control</th>\n",
       "      <th>гидрохлоротиазид_stat_control</th>\n",
       "      <th>гидроксихлорохин_stat_control</th>\n",
       "      <th>рабепразол_stat_control</th>\n",
       "      <th>эноксапарин натрия_stat_control</th>\n",
       "      <th>периндоприл_stat_control</th>\n",
       "      <th>ацетилцистеин_stat_control</th>\n",
       "      <th>азитромицин_stat_control</th>\n",
       "      <th>валсартан_stat_control</th>\n",
       "      <th>метилпреднизолон_stat_control</th>\n",
       "      <th>лоратадин_stat_control</th>\n",
       "      <th>хлорохин_stat_control</th>\n",
       "      <th>натрия хлорид_stat_control</th>\n",
       "      <th>индапамид_stat_control</th>\n",
       "      <th>преднизолон_stat_control</th>\n",
       "      <th>аторвастатин_stat_control</th>\n",
       "      <th>декстран_stat_control</th>\n",
       "      <th>лизиноприл_stat_control</th>\n",
       "      <th>лозартан_stat_control</th>\n",
       "      <th>Температура_dinam_fact</th>\n",
       "      <th>Лимфоциты#_dinam_fact</th>\n",
       "      <th>АСТ_dinam_fact</th>\n",
       "      <th>ЧСС_dinam_fact</th>\n",
       "      <th>ЧДД_dinam_fact</th>\n",
       "      <th>Билирубин общий_dinam_fact</th>\n",
       "      <th>MPV- Средн.объем тромбоцитов_dinam_fact</th>\n",
       "      <th>PCT- Тромбокрит_dinam_fact</th>\n",
       "      <th>Лимфоциты%_dinam_fact</th>\n",
       "      <th>снижение_сознания_dinam_fact</th>\n",
       "      <th>Cтепень тяжести по КТ_dinam_fact</th>\n",
       "      <th>Лактатдегидрогеназа_dinam_fact</th>\n",
       "      <th>PDW- Индекс расп.по объему тр._dinam_fact</th>\n",
       "      <th>age_stat_fact</th>\n",
       "      <th>трансфузия_dinam_control</th>\n",
       "      <th>оксигенотерапия_dinam_control</th>\n",
       "      <th>НИВЛ_dinam_control</th>\n",
       "      <th>ИВЛ_dinam_control</th>\n",
       "    </tr>\n",
       "    <tr>\n",
       "      <th>t_point</th>\n",
       "      <th></th>\n",
       "      <th></th>\n",
       "      <th></th>\n",
       "      <th></th>\n",
       "      <th></th>\n",
       "      <th></th>\n",
       "      <th></th>\n",
       "      <th></th>\n",
       "      <th></th>\n",
       "      <th></th>\n",
       "      <th></th>\n",
       "      <th></th>\n",
       "      <th></th>\n",
       "      <th></th>\n",
       "      <th></th>\n",
       "      <th></th>\n",
       "      <th></th>\n",
       "      <th></th>\n",
       "      <th></th>\n",
       "      <th></th>\n",
       "      <th></th>\n",
       "      <th></th>\n",
       "      <th></th>\n",
       "      <th></th>\n",
       "      <th></th>\n",
       "      <th></th>\n",
       "      <th></th>\n",
       "      <th></th>\n",
       "      <th></th>\n",
       "      <th></th>\n",
       "      <th></th>\n",
       "      <th></th>\n",
       "      <th></th>\n",
       "      <th></th>\n",
       "      <th></th>\n",
       "      <th></th>\n",
       "      <th></th>\n",
       "      <th></th>\n",
       "      <th></th>\n",
       "      <th></th>\n",
       "      <th></th>\n",
       "      <th></th>\n",
       "      <th></th>\n",
       "      <th></th>\n",
       "      <th></th>\n",
       "      <th></th>\n",
       "      <th></th>\n",
       "    </tr>\n",
       "  </thead>\n",
       "  <tbody>\n",
       "    <tr>\n",
       "      <th>0</th>\n",
       "      <td>1</td>\n",
       "      <td>1</td>\n",
       "      <td>1</td>\n",
       "      <td>1</td>\n",
       "      <td>1</td>\n",
       "      <td>1</td>\n",
       "      <td>1</td>\n",
       "      <td>1</td>\n",
       "      <td>1</td>\n",
       "      <td>1</td>\n",
       "      <td>0</td>\n",
       "      <td>1</td>\n",
       "      <td>1</td>\n",
       "      <td>0</td>\n",
       "      <td>0</td>\n",
       "      <td>0</td>\n",
       "      <td>0</td>\n",
       "      <td>1</td>\n",
       "      <td>0</td>\n",
       "      <td>0</td>\n",
       "      <td>0</td>\n",
       "      <td>1</td>\n",
       "      <td>0</td>\n",
       "      <td>0</td>\n",
       "      <td>0</td>\n",
       "      <td>0</td>\n",
       "      <td>0</td>\n",
       "      <td>0</td>\n",
       "      <td>0</td>\n",
       "      <td>NaN</td>\n",
       "      <td>1.21</td>\n",
       "      <td>20.7</td>\n",
       "      <td>55.0</td>\n",
       "      <td>22.0</td>\n",
       "      <td>7.8</td>\n",
       "      <td>8.1</td>\n",
       "      <td>0.201</td>\n",
       "      <td>24.1</td>\n",
       "      <td>0</td>\n",
       "      <td>1</td>\n",
       "      <td>189.0</td>\n",
       "      <td>17.7</td>\n",
       "      <td>73</td>\n",
       "      <td>0</td>\n",
       "      <td>0</td>\n",
       "      <td>0</td>\n",
       "      <td>0</td>\n",
       "    </tr>\n",
       "    <tr>\n",
       "      <th>1</th>\n",
       "      <td>1</td>\n",
       "      <td>1</td>\n",
       "      <td>1</td>\n",
       "      <td>1</td>\n",
       "      <td>1</td>\n",
       "      <td>1</td>\n",
       "      <td>1</td>\n",
       "      <td>1</td>\n",
       "      <td>1</td>\n",
       "      <td>1</td>\n",
       "      <td>0</td>\n",
       "      <td>1</td>\n",
       "      <td>1</td>\n",
       "      <td>0</td>\n",
       "      <td>0</td>\n",
       "      <td>0</td>\n",
       "      <td>0</td>\n",
       "      <td>1</td>\n",
       "      <td>0</td>\n",
       "      <td>0</td>\n",
       "      <td>0</td>\n",
       "      <td>1</td>\n",
       "      <td>0</td>\n",
       "      <td>0</td>\n",
       "      <td>0</td>\n",
       "      <td>0</td>\n",
       "      <td>0</td>\n",
       "      <td>0</td>\n",
       "      <td>0</td>\n",
       "      <td>NaN</td>\n",
       "      <td>2.09</td>\n",
       "      <td>21.0</td>\n",
       "      <td>72.0</td>\n",
       "      <td>18.0</td>\n",
       "      <td>8.8</td>\n",
       "      <td>7.0</td>\n",
       "      <td>0.204</td>\n",
       "      <td>33.2</td>\n",
       "      <td>0</td>\n",
       "      <td>5</td>\n",
       "      <td>NaN</td>\n",
       "      <td>19.8</td>\n",
       "      <td>73</td>\n",
       "      <td>0</td>\n",
       "      <td>0</td>\n",
       "      <td>0</td>\n",
       "      <td>0</td>\n",
       "    </tr>\n",
       "  </tbody>\n",
       "</table>\n",
       "</div>"
      ],
      "text/plain": [
       "         омепразол_stat_control  надропарин кальция_stat_control  \\\n",
       "t_point                                                            \n",
       "0                             1                                1   \n",
       "1                             1                                1   \n",
       "\n",
       "         эзомепразол_stat_control  амлодипин_stat_control  \\\n",
       "t_point                                                     \n",
       "0                               1                       1   \n",
       "1                               1                       1   \n",
       "\n",
       "         амброксол_stat_control  домперидон_stat_control  \\\n",
       "t_point                                                    \n",
       "0                             1                        1   \n",
       "1                             1                        1   \n",
       "\n",
       "         меброфенин_stat_control  технеций_stat_control  \\\n",
       "t_point                                                   \n",
       "0                              1                      1   \n",
       "1                              1                      1   \n",
       "\n",
       "         мометазон_stat_control  бисопролол_stat_control  \\\n",
       "t_point                                                    \n",
       "0                             1                        1   \n",
       "1                             1                        1   \n",
       "\n",
       "         дексаметазон_stat_control  гидрохлоротиазид_stat_control  \\\n",
       "t_point                                                             \n",
       "0                                0                              1   \n",
       "1                                0                              1   \n",
       "\n",
       "         гидроксихлорохин_stat_control  рабепразол_stat_control  \\\n",
       "t_point                                                           \n",
       "0                                    1                        0   \n",
       "1                                    1                        0   \n",
       "\n",
       "         эноксапарин натрия_stat_control  периндоприл_stat_control  \\\n",
       "t_point                                                              \n",
       "0                                      0                         0   \n",
       "1                                      0                         0   \n",
       "\n",
       "         ацетилцистеин_stat_control  азитромицин_stat_control  \\\n",
       "t_point                                                         \n",
       "0                                 0                         1   \n",
       "1                                 0                         1   \n",
       "\n",
       "         валсартан_stat_control  метилпреднизолон_stat_control  \\\n",
       "t_point                                                          \n",
       "0                             0                              0   \n",
       "1                             0                              0   \n",
       "\n",
       "         лоратадин_stat_control  хлорохин_stat_control  \\\n",
       "t_point                                                  \n",
       "0                             0                      1   \n",
       "1                             0                      1   \n",
       "\n",
       "         натрия хлорид_stat_control  индапамид_stat_control  \\\n",
       "t_point                                                       \n",
       "0                                 0                       0   \n",
       "1                                 0                       0   \n",
       "\n",
       "         преднизолон_stat_control  аторвастатин_stat_control  \\\n",
       "t_point                                                        \n",
       "0                               0                          0   \n",
       "1                               0                          0   \n",
       "\n",
       "         декстран_stat_control  лизиноприл_stat_control  \\\n",
       "t_point                                                   \n",
       "0                            0                        0   \n",
       "1                            0                        0   \n",
       "\n",
       "         лозартан_stat_control  Температура_dinam_fact  Лимфоциты#_dinam_fact  \\\n",
       "t_point                                                                         \n",
       "0                            0                     NaN                   1.21   \n",
       "1                            0                     NaN                   2.09   \n",
       "\n",
       "         АСТ_dinam_fact  ЧСС_dinam_fact  ЧДД_dinam_fact  \\\n",
       "t_point                                                   \n",
       "0                  20.7            55.0            22.0   \n",
       "1                  21.0            72.0            18.0   \n",
       "\n",
       "         Билирубин общий_dinam_fact  MPV- Средн.объем тромбоцитов_dinam_fact  \\\n",
       "t_point                                                                        \n",
       "0                               7.8                                      8.1   \n",
       "1                               8.8                                      7.0   \n",
       "\n",
       "         PCT- Тромбокрит_dinam_fact  Лимфоциты%_dinam_fact  \\\n",
       "t_point                                                      \n",
       "0                             0.201                   24.1   \n",
       "1                             0.204                   33.2   \n",
       "\n",
       "         снижение_сознания_dinam_fact  Cтепень тяжести по КТ_dinam_fact  \\\n",
       "t_point                                                                   \n",
       "0                                   0                                 1   \n",
       "1                                   0                                 5   \n",
       "\n",
       "         Лактатдегидрогеназа_dinam_fact  \\\n",
       "t_point                                   \n",
       "0                                 189.0   \n",
       "1                                   NaN   \n",
       "\n",
       "         PDW- Индекс расп.по объему тр._dinam_fact  age_stat_fact  \\\n",
       "t_point                                                             \n",
       "0                                             17.7             73   \n",
       "1                                             19.8             73   \n",
       "\n",
       "         трансфузия_dinam_control  оксигенотерапия_dinam_control  \\\n",
       "t_point                                                            \n",
       "0                               0                              0   \n",
       "1                               0                              0   \n",
       "\n",
       "         НИВЛ_dinam_control  ИВЛ_dinam_control  \n",
       "t_point                                         \n",
       "0                         0                  0  \n",
       "1                         0                  0  "
      ]
     },
     "execution_count": 155,
     "metadata": {},
     "output_type": "execute_result"
    }
   ],
   "source": [
    "df.loc[df.index.levels[0][1]]"
   ]
  },
  {
   "attachments": {},
   "cell_type": "markdown",
   "id": "2d52a73d-a66a-4734-a4c5-7e5dee775d6e",
   "metadata": {
    "tags": []
   },
   "source": [
    "Проверим, менялись ли процедуры или нет за время лечения пациентов. Если вектор не менялся, мы можем использовать статичный вектор при предсказании"
   ]
  },
  {
   "cell_type": "code",
   "execution_count": 156,
   "id": "01d2e1c9-d566-417d-a185-21b2d7749845",
   "metadata": {
    "tags": []
   },
   "outputs": [
    {
     "data": {
      "text/html": [
       "<div>\n",
       "<style scoped>\n",
       "    .dataframe tbody tr th:only-of-type {\n",
       "        vertical-align: middle;\n",
       "    }\n",
       "\n",
       "    .dataframe tbody tr th {\n",
       "        vertical-align: top;\n",
       "    }\n",
       "\n",
       "    .dataframe thead th {\n",
       "        text-align: right;\n",
       "    }\n",
       "</style>\n",
       "<table border=\"1\" class=\"dataframe\">\n",
       "  <thead>\n",
       "    <tr style=\"text-align: right;\">\n",
       "      <th></th>\n",
       "      <th></th>\n",
       "      <th></th>\n",
       "      <th></th>\n",
       "      <th></th>\n",
       "      <th>0</th>\n",
       "    </tr>\n",
       "    <tr>\n",
       "      <th>age_stat_fact</th>\n",
       "      <th>трансфузия_dinam_control</th>\n",
       "      <th>оксигенотерапия_dinam_control</th>\n",
       "      <th>НИВЛ_dinam_control</th>\n",
       "      <th>ИВЛ_dinam_control</th>\n",
       "      <th></th>\n",
       "    </tr>\n",
       "  </thead>\n",
       "  <tbody>\n",
       "    <tr>\n",
       "      <th rowspan=\"15\" valign=\"top\">1</th>\n",
       "      <th rowspan=\"3\" valign=\"top\">1</th>\n",
       "      <th>1</th>\n",
       "      <th>1</th>\n",
       "      <th>1</th>\n",
       "      <td>1619</td>\n",
       "    </tr>\n",
       "    <tr>\n",
       "      <th>2</th>\n",
       "      <th>1</th>\n",
       "      <th>1</th>\n",
       "      <td>184</td>\n",
       "    </tr>\n",
       "    <tr>\n",
       "      <th>1</th>\n",
       "      <th>1</th>\n",
       "      <th>2</th>\n",
       "      <td>61</td>\n",
       "    </tr>\n",
       "    <tr>\n",
       "      <th rowspan=\"2\" valign=\"top\">2</th>\n",
       "      <th rowspan=\"2\" valign=\"top\">1</th>\n",
       "      <th rowspan=\"2\" valign=\"top\">1</th>\n",
       "      <th>2</th>\n",
       "      <td>34</td>\n",
       "    </tr>\n",
       "    <tr>\n",
       "      <th>1</th>\n",
       "      <td>30</td>\n",
       "    </tr>\n",
       "    <tr>\n",
       "      <th>1</th>\n",
       "      <th>1</th>\n",
       "      <th>2</th>\n",
       "      <th>2</th>\n",
       "      <td>12</td>\n",
       "    </tr>\n",
       "    <tr>\n",
       "      <th>2</th>\n",
       "      <th>1</th>\n",
       "      <th>2</th>\n",
       "      <th>2</th>\n",
       "      <td>10</td>\n",
       "    </tr>\n",
       "    <tr>\n",
       "      <th rowspan=\"2\" valign=\"top\">1</th>\n",
       "      <th>2</th>\n",
       "      <th>1</th>\n",
       "      <th>2</th>\n",
       "      <td>9</td>\n",
       "    </tr>\n",
       "    <tr>\n",
       "      <th>1</th>\n",
       "      <th>2</th>\n",
       "      <th>1</th>\n",
       "      <td>8</td>\n",
       "    </tr>\n",
       "    <tr>\n",
       "      <th rowspan=\"3\" valign=\"top\">2</th>\n",
       "      <th rowspan=\"2\" valign=\"top\">2</th>\n",
       "      <th rowspan=\"2\" valign=\"top\">1</th>\n",
       "      <th>1</th>\n",
       "      <td>6</td>\n",
       "    </tr>\n",
       "    <tr>\n",
       "      <th>2</th>\n",
       "      <td>6</td>\n",
       "    </tr>\n",
       "    <tr>\n",
       "      <th>1</th>\n",
       "      <th>2</th>\n",
       "      <th>1</th>\n",
       "      <td>5</td>\n",
       "    </tr>\n",
       "    <tr>\n",
       "      <th>1</th>\n",
       "      <th>2</th>\n",
       "      <th>2</th>\n",
       "      <th>1</th>\n",
       "      <td>3</td>\n",
       "    </tr>\n",
       "    <tr>\n",
       "      <th>2</th>\n",
       "      <th>2</th>\n",
       "      <th>2</th>\n",
       "      <th>2</th>\n",
       "      <td>3</td>\n",
       "    </tr>\n",
       "    <tr>\n",
       "      <th>1</th>\n",
       "      <th>2</th>\n",
       "      <th>2</th>\n",
       "      <th>2</th>\n",
       "      <td>2</td>\n",
       "    </tr>\n",
       "  </tbody>\n",
       "</table>\n",
       "</div>"
      ],
      "text/plain": [
       "                                                                                                              0\n",
       "age_stat_fact трансфузия_dinam_control оксигенотерапия_dinam_control НИВЛ_dinam_control ИВЛ_dinam_control      \n",
       "1             1                        1                             1                  1                  1619\n",
       "                                       2                             1                  1                   184\n",
       "                                       1                             1                  2                    61\n",
       "              2                        1                             1                  2                    34\n",
       "                                                                                        1                    30\n",
       "              1                        1                             2                  2                    12\n",
       "              2                        1                             2                  2                    10\n",
       "              1                        2                             1                  2                     9\n",
       "                                       1                             2                  1                     8\n",
       "              2                        2                             1                  1                     6\n",
       "                                                                                        2                     6\n",
       "                                       1                             2                  1                     5\n",
       "              1                        2                             2                  1                     3\n",
       "              2                        2                             2                  2                     3\n",
       "              1                        2                             2                  2                     2"
      ]
     },
     "execution_count": 156,
     "metadata": {},
     "output_type": "execute_result"
    }
   ],
   "source": [
    "t = df.groupby(level=0).nunique().iloc[:, 42:]\n",
    "pd.DataFrame(t.value_counts())"
   ]
  },
  {
   "attachments": {},
   "cell_type": "markdown",
   "id": "2bc10989-164a-4c3b-9b53-a48b1ab5f8da",
   "metadata": {
    "tags": []
   },
   "source": [
    "Процедуры менялись. Проверим, что лекарства не менялись во время лечения пациентов"
   ]
  },
  {
   "cell_type": "code",
   "execution_count": 157,
   "id": "174db5c0-f487-440d-953b-71b9850e6a44",
   "metadata": {
    "tags": []
   },
   "outputs": [
    {
     "data": {
      "text/html": [
       "<div>\n",
       "<style scoped>\n",
       "    .dataframe tbody tr th:only-of-type {\n",
       "        vertical-align: middle;\n",
       "    }\n",
       "\n",
       "    .dataframe tbody tr th {\n",
       "        vertical-align: top;\n",
       "    }\n",
       "\n",
       "    .dataframe thead th {\n",
       "        text-align: right;\n",
       "    }\n",
       "</style>\n",
       "<table border=\"1\" class=\"dataframe\">\n",
       "  <thead>\n",
       "    <tr style=\"text-align: right;\">\n",
       "      <th></th>\n",
       "      <th></th>\n",
       "      <th></th>\n",
       "      <th></th>\n",
       "      <th></th>\n",
       "      <th></th>\n",
       "      <th></th>\n",
       "      <th></th>\n",
       "      <th></th>\n",
       "      <th></th>\n",
       "      <th></th>\n",
       "      <th></th>\n",
       "      <th></th>\n",
       "      <th></th>\n",
       "      <th></th>\n",
       "      <th></th>\n",
       "      <th></th>\n",
       "      <th></th>\n",
       "      <th></th>\n",
       "      <th></th>\n",
       "      <th></th>\n",
       "      <th></th>\n",
       "      <th></th>\n",
       "      <th></th>\n",
       "      <th></th>\n",
       "      <th></th>\n",
       "      <th></th>\n",
       "      <th></th>\n",
       "      <th></th>\n",
       "      <th>0</th>\n",
       "    </tr>\n",
       "    <tr>\n",
       "      <th>омепразол_stat_control</th>\n",
       "      <th>надропарин кальция_stat_control</th>\n",
       "      <th>эзомепразол_stat_control</th>\n",
       "      <th>амлодипин_stat_control</th>\n",
       "      <th>амброксол_stat_control</th>\n",
       "      <th>домперидон_stat_control</th>\n",
       "      <th>меброфенин_stat_control</th>\n",
       "      <th>технеций_stat_control</th>\n",
       "      <th>мометазон_stat_control</th>\n",
       "      <th>бисопролол_stat_control</th>\n",
       "      <th>дексаметазон_stat_control</th>\n",
       "      <th>гидрохлоротиазид_stat_control</th>\n",
       "      <th>гидроксихлорохин_stat_control</th>\n",
       "      <th>рабепразол_stat_control</th>\n",
       "      <th>эноксапарин натрия_stat_control</th>\n",
       "      <th>периндоприл_stat_control</th>\n",
       "      <th>ацетилцистеин_stat_control</th>\n",
       "      <th>азитромицин_stat_control</th>\n",
       "      <th>валсартан_stat_control</th>\n",
       "      <th>метилпреднизолон_stat_control</th>\n",
       "      <th>лоратадин_stat_control</th>\n",
       "      <th>хлорохин_stat_control</th>\n",
       "      <th>натрия хлорид_stat_control</th>\n",
       "      <th>индапамид_stat_control</th>\n",
       "      <th>преднизолон_stat_control</th>\n",
       "      <th>аторвастатин_stat_control</th>\n",
       "      <th>декстран_stat_control</th>\n",
       "      <th>лизиноприл_stat_control</th>\n",
       "      <th>лозартан_stat_control</th>\n",
       "      <th></th>\n",
       "    </tr>\n",
       "  </thead>\n",
       "  <tbody>\n",
       "    <tr>\n",
       "      <th>1</th>\n",
       "      <th>1</th>\n",
       "      <th>1</th>\n",
       "      <th>1</th>\n",
       "      <th>1</th>\n",
       "      <th>1</th>\n",
       "      <th>1</th>\n",
       "      <th>1</th>\n",
       "      <th>1</th>\n",
       "      <th>1</th>\n",
       "      <th>1</th>\n",
       "      <th>1</th>\n",
       "      <th>1</th>\n",
       "      <th>1</th>\n",
       "      <th>1</th>\n",
       "      <th>1</th>\n",
       "      <th>1</th>\n",
       "      <th>1</th>\n",
       "      <th>1</th>\n",
       "      <th>1</th>\n",
       "      <th>1</th>\n",
       "      <th>1</th>\n",
       "      <th>1</th>\n",
       "      <th>1</th>\n",
       "      <th>1</th>\n",
       "      <th>1</th>\n",
       "      <th>1</th>\n",
       "      <th>1</th>\n",
       "      <th>1</th>\n",
       "      <td>1992</td>\n",
       "    </tr>\n",
       "  </tbody>\n",
       "</table>\n",
       "</div>"
      ],
      "text/plain": [
       "                                                                                                                                                                                                                                                                                                                                                                                                                                                                                                                                                                                                                                                                                                                                                             0\n",
       "омепразол_stat_control надропарин кальция_stat_control эзомепразол_stat_control амлодипин_stat_control амброксол_stat_control домперидон_stat_control меброфенин_stat_control технеций_stat_control мометазон_stat_control бисопролол_stat_control дексаметазон_stat_control гидрохлоротиазид_stat_control гидроксихлорохин_stat_control рабепразол_stat_control эноксапарин натрия_stat_control периндоприл_stat_control ацетилцистеин_stat_control азитромицин_stat_control валсартан_stat_control метилпреднизолон_stat_control лоратадин_stat_control хлорохин_stat_control натрия хлорид_stat_control индапамид_stat_control преднизолон_stat_control аторвастатин_stat_control декстран_stat_control лизиноприл_stat_control лозартан_stat_control      \n",
       "1                      1                               1                        1                      1                      1                       1                       1                     1                      1                       1                         1                             1                             1                       1                               1                        1                          1                        1                      1                             1                      1                     1                          1                      1                        1                         1                     1                       1                      1992"
      ]
     },
     "execution_count": 157,
     "metadata": {},
     "output_type": "execute_result"
    }
   ],
   "source": [
    "t = df.groupby(level=0).nunique().iloc[:, :29]\n",
    "pd.DataFrame(t.value_counts())"
   ]
  },
  {
   "attachments": {},
   "cell_type": "markdown",
   "id": "7aab6fe9-3ccd-42da-8566-8171e3e21b6c",
   "metadata": {},
   "source": [
    "По лекарствам у всех пациентов набор препаратов не менялся, а по процедурам у 380 пациентов изменялся порядок."
   ]
  },
  {
   "cell_type": "markdown",
   "id": "6bf649b1-3b42-4121-b56f-dc63d6d5a4cc",
   "metadata": {
    "tags": []
   },
   "source": [
    "Уберем всех пациентов лечившихся меньше 1 недели - они не дадут информации о развити заболевания\n"
   ]
  },
  {
   "cell_type": "code",
   "execution_count": 158,
   "id": "6e0e7a87-bdf9-40e7-af17-fb3d9ae9ec35",
   "metadata": {
    "tags": []
   },
   "outputs": [],
   "source": [
    "s = df.groupby(level=0).size()\n",
    "df = df.loc[s[s>1].index.values]"
   ]
  },
  {
   "attachments": {},
   "cell_type": "markdown",
   "id": "786ee404",
   "metadata": {},
   "source": [
    "Получили датасет для работы"
   ]
  },
  {
   "cell_type": "code",
   "execution_count": 159,
   "id": "9fe60d71",
   "metadata": {},
   "outputs": [
    {
     "data": {
      "text/html": [
       "<div>\n",
       "<style scoped>\n",
       "    .dataframe tbody tr th:only-of-type {\n",
       "        vertical-align: middle;\n",
       "    }\n",
       "\n",
       "    .dataframe tbody tr th {\n",
       "        vertical-align: top;\n",
       "    }\n",
       "\n",
       "    .dataframe thead th {\n",
       "        text-align: right;\n",
       "    }\n",
       "</style>\n",
       "<table border=\"1\" class=\"dataframe\">\n",
       "  <thead>\n",
       "    <tr style=\"text-align: right;\">\n",
       "      <th></th>\n",
       "      <th></th>\n",
       "      <th>омепразол_stat_control</th>\n",
       "      <th>надропарин кальция_stat_control</th>\n",
       "      <th>эзомепразол_stat_control</th>\n",
       "      <th>амлодипин_stat_control</th>\n",
       "      <th>амброксол_stat_control</th>\n",
       "      <th>домперидон_stat_control</th>\n",
       "      <th>меброфенин_stat_control</th>\n",
       "      <th>технеций_stat_control</th>\n",
       "      <th>мометазон_stat_control</th>\n",
       "      <th>бисопролол_stat_control</th>\n",
       "      <th>дексаметазон_stat_control</th>\n",
       "      <th>гидрохлоротиазид_stat_control</th>\n",
       "      <th>гидроксихлорохин_stat_control</th>\n",
       "      <th>рабепразол_stat_control</th>\n",
       "      <th>эноксапарин натрия_stat_control</th>\n",
       "      <th>периндоприл_stat_control</th>\n",
       "      <th>ацетилцистеин_stat_control</th>\n",
       "      <th>азитромицин_stat_control</th>\n",
       "      <th>валсартан_stat_control</th>\n",
       "      <th>метилпреднизолон_stat_control</th>\n",
       "      <th>лоратадин_stat_control</th>\n",
       "      <th>хлорохин_stat_control</th>\n",
       "      <th>натрия хлорид_stat_control</th>\n",
       "      <th>индапамид_stat_control</th>\n",
       "      <th>преднизолон_stat_control</th>\n",
       "      <th>аторвастатин_stat_control</th>\n",
       "      <th>декстран_stat_control</th>\n",
       "      <th>лизиноприл_stat_control</th>\n",
       "      <th>лозартан_stat_control</th>\n",
       "      <th>Температура_dinam_fact</th>\n",
       "      <th>Лимфоциты#_dinam_fact</th>\n",
       "      <th>АСТ_dinam_fact</th>\n",
       "      <th>ЧСС_dinam_fact</th>\n",
       "      <th>ЧДД_dinam_fact</th>\n",
       "      <th>Билирубин общий_dinam_fact</th>\n",
       "      <th>MPV- Средн.объем тромбоцитов_dinam_fact</th>\n",
       "      <th>PCT- Тромбокрит_dinam_fact</th>\n",
       "      <th>Лимфоциты%_dinam_fact</th>\n",
       "      <th>снижение_сознания_dinam_fact</th>\n",
       "      <th>Cтепень тяжести по КТ_dinam_fact</th>\n",
       "      <th>Лактатдегидрогеназа_dinam_fact</th>\n",
       "      <th>PDW- Индекс расп.по объему тр._dinam_fact</th>\n",
       "      <th>age_stat_fact</th>\n",
       "      <th>трансфузия_dinam_control</th>\n",
       "      <th>оксигенотерапия_dinam_control</th>\n",
       "      <th>НИВЛ_dinam_control</th>\n",
       "      <th>ИВЛ_dinam_control</th>\n",
       "    </tr>\n",
       "    <tr>\n",
       "      <th>case</th>\n",
       "      <th>t_point</th>\n",
       "      <th></th>\n",
       "      <th></th>\n",
       "      <th></th>\n",
       "      <th></th>\n",
       "      <th></th>\n",
       "      <th></th>\n",
       "      <th></th>\n",
       "      <th></th>\n",
       "      <th></th>\n",
       "      <th></th>\n",
       "      <th></th>\n",
       "      <th></th>\n",
       "      <th></th>\n",
       "      <th></th>\n",
       "      <th></th>\n",
       "      <th></th>\n",
       "      <th></th>\n",
       "      <th></th>\n",
       "      <th></th>\n",
       "      <th></th>\n",
       "      <th></th>\n",
       "      <th></th>\n",
       "      <th></th>\n",
       "      <th></th>\n",
       "      <th></th>\n",
       "      <th></th>\n",
       "      <th></th>\n",
       "      <th></th>\n",
       "      <th></th>\n",
       "      <th></th>\n",
       "      <th></th>\n",
       "      <th></th>\n",
       "      <th></th>\n",
       "      <th></th>\n",
       "      <th></th>\n",
       "      <th></th>\n",
       "      <th></th>\n",
       "      <th></th>\n",
       "      <th></th>\n",
       "      <th></th>\n",
       "      <th></th>\n",
       "      <th></th>\n",
       "      <th></th>\n",
       "      <th></th>\n",
       "      <th></th>\n",
       "      <th></th>\n",
       "      <th></th>\n",
       "    </tr>\n",
       "  </thead>\n",
       "  <tbody>\n",
       "    <tr>\n",
       "      <th rowspan=\"4\" valign=\"top\">GACAAcY</th>\n",
       "      <th>0</th>\n",
       "      <td>1</td>\n",
       "      <td>1</td>\n",
       "      <td>1</td>\n",
       "      <td>1</td>\n",
       "      <td>1</td>\n",
       "      <td>1</td>\n",
       "      <td>1</td>\n",
       "      <td>1</td>\n",
       "      <td>1</td>\n",
       "      <td>1</td>\n",
       "      <td>1</td>\n",
       "      <td>1</td>\n",
       "      <td>0</td>\n",
       "      <td>0</td>\n",
       "      <td>0</td>\n",
       "      <td>0</td>\n",
       "      <td>0</td>\n",
       "      <td>0</td>\n",
       "      <td>0</td>\n",
       "      <td>1</td>\n",
       "      <td>0</td>\n",
       "      <td>0</td>\n",
       "      <td>0</td>\n",
       "      <td>0</td>\n",
       "      <td>1</td>\n",
       "      <td>0</td>\n",
       "      <td>0</td>\n",
       "      <td>0</td>\n",
       "      <td>1</td>\n",
       "      <td>36.7</td>\n",
       "      <td>1.93</td>\n",
       "      <td>27.90</td>\n",
       "      <td>74.0</td>\n",
       "      <td>24.0</td>\n",
       "      <td>15.30</td>\n",
       "      <td>11.2</td>\n",
       "      <td>0.100</td>\n",
       "      <td>48.3</td>\n",
       "      <td>0</td>\n",
       "      <td>2</td>\n",
       "      <td>245.0</td>\n",
       "      <td>14.0</td>\n",
       "      <td>81</td>\n",
       "      <td>0</td>\n",
       "      <td>1</td>\n",
       "      <td>0</td>\n",
       "      <td>0</td>\n",
       "    </tr>\n",
       "    <tr>\n",
       "      <th>1</th>\n",
       "      <td>1</td>\n",
       "      <td>1</td>\n",
       "      <td>1</td>\n",
       "      <td>1</td>\n",
       "      <td>1</td>\n",
       "      <td>1</td>\n",
       "      <td>1</td>\n",
       "      <td>1</td>\n",
       "      <td>1</td>\n",
       "      <td>1</td>\n",
       "      <td>1</td>\n",
       "      <td>1</td>\n",
       "      <td>0</td>\n",
       "      <td>0</td>\n",
       "      <td>0</td>\n",
       "      <td>0</td>\n",
       "      <td>0</td>\n",
       "      <td>0</td>\n",
       "      <td>0</td>\n",
       "      <td>1</td>\n",
       "      <td>0</td>\n",
       "      <td>0</td>\n",
       "      <td>0</td>\n",
       "      <td>0</td>\n",
       "      <td>1</td>\n",
       "      <td>0</td>\n",
       "      <td>0</td>\n",
       "      <td>0</td>\n",
       "      <td>1</td>\n",
       "      <td>36.3</td>\n",
       "      <td>2.00</td>\n",
       "      <td>25.70</td>\n",
       "      <td>71.0</td>\n",
       "      <td>19.0</td>\n",
       "      <td>12.10</td>\n",
       "      <td>10.6</td>\n",
       "      <td>0.160</td>\n",
       "      <td>30.7</td>\n",
       "      <td>0</td>\n",
       "      <td>2</td>\n",
       "      <td>315.0</td>\n",
       "      <td>12.8</td>\n",
       "      <td>81</td>\n",
       "      <td>0</td>\n",
       "      <td>1</td>\n",
       "      <td>0</td>\n",
       "      <td>0</td>\n",
       "    </tr>\n",
       "    <tr>\n",
       "      <th>2</th>\n",
       "      <td>1</td>\n",
       "      <td>1</td>\n",
       "      <td>1</td>\n",
       "      <td>1</td>\n",
       "      <td>1</td>\n",
       "      <td>1</td>\n",
       "      <td>1</td>\n",
       "      <td>1</td>\n",
       "      <td>1</td>\n",
       "      <td>1</td>\n",
       "      <td>1</td>\n",
       "      <td>1</td>\n",
       "      <td>0</td>\n",
       "      <td>0</td>\n",
       "      <td>0</td>\n",
       "      <td>0</td>\n",
       "      <td>0</td>\n",
       "      <td>0</td>\n",
       "      <td>0</td>\n",
       "      <td>1</td>\n",
       "      <td>0</td>\n",
       "      <td>0</td>\n",
       "      <td>0</td>\n",
       "      <td>0</td>\n",
       "      <td>1</td>\n",
       "      <td>0</td>\n",
       "      <td>0</td>\n",
       "      <td>0</td>\n",
       "      <td>1</td>\n",
       "      <td>36.6</td>\n",
       "      <td>2.13</td>\n",
       "      <td>32.00</td>\n",
       "      <td>NaN</td>\n",
       "      <td>18.0</td>\n",
       "      <td>NaN</td>\n",
       "      <td>11.0</td>\n",
       "      <td>0.190</td>\n",
       "      <td>23.1</td>\n",
       "      <td>0</td>\n",
       "      <td>5</td>\n",
       "      <td>290.0</td>\n",
       "      <td>13.5</td>\n",
       "      <td>81</td>\n",
       "      <td>0</td>\n",
       "      <td>1</td>\n",
       "      <td>0</td>\n",
       "      <td>0</td>\n",
       "    </tr>\n",
       "    <tr>\n",
       "      <th>3</th>\n",
       "      <td>1</td>\n",
       "      <td>1</td>\n",
       "      <td>1</td>\n",
       "      <td>1</td>\n",
       "      <td>1</td>\n",
       "      <td>1</td>\n",
       "      <td>1</td>\n",
       "      <td>1</td>\n",
       "      <td>1</td>\n",
       "      <td>1</td>\n",
       "      <td>1</td>\n",
       "      <td>1</td>\n",
       "      <td>0</td>\n",
       "      <td>0</td>\n",
       "      <td>0</td>\n",
       "      <td>0</td>\n",
       "      <td>0</td>\n",
       "      <td>0</td>\n",
       "      <td>0</td>\n",
       "      <td>1</td>\n",
       "      <td>0</td>\n",
       "      <td>0</td>\n",
       "      <td>0</td>\n",
       "      <td>0</td>\n",
       "      <td>1</td>\n",
       "      <td>0</td>\n",
       "      <td>0</td>\n",
       "      <td>0</td>\n",
       "      <td>1</td>\n",
       "      <td>36.5</td>\n",
       "      <td>2.12</td>\n",
       "      <td>27.00</td>\n",
       "      <td>71.0</td>\n",
       "      <td>18.0</td>\n",
       "      <td>NaN</td>\n",
       "      <td>11.4</td>\n",
       "      <td>0.100</td>\n",
       "      <td>24.1</td>\n",
       "      <td>0</td>\n",
       "      <td>5</td>\n",
       "      <td>274.0</td>\n",
       "      <td>13.1</td>\n",
       "      <td>81</td>\n",
       "      <td>0</td>\n",
       "      <td>1</td>\n",
       "      <td>0</td>\n",
       "      <td>0</td>\n",
       "    </tr>\n",
       "    <tr>\n",
       "      <th>GACAAnf</th>\n",
       "      <th>0</th>\n",
       "      <td>1</td>\n",
       "      <td>1</td>\n",
       "      <td>1</td>\n",
       "      <td>1</td>\n",
       "      <td>1</td>\n",
       "      <td>1</td>\n",
       "      <td>1</td>\n",
       "      <td>1</td>\n",
       "      <td>1</td>\n",
       "      <td>1</td>\n",
       "      <td>0</td>\n",
       "      <td>1</td>\n",
       "      <td>1</td>\n",
       "      <td>0</td>\n",
       "      <td>0</td>\n",
       "      <td>0</td>\n",
       "      <td>0</td>\n",
       "      <td>1</td>\n",
       "      <td>0</td>\n",
       "      <td>0</td>\n",
       "      <td>0</td>\n",
       "      <td>1</td>\n",
       "      <td>0</td>\n",
       "      <td>0</td>\n",
       "      <td>0</td>\n",
       "      <td>0</td>\n",
       "      <td>0</td>\n",
       "      <td>0</td>\n",
       "      <td>0</td>\n",
       "      <td>NaN</td>\n",
       "      <td>1.21</td>\n",
       "      <td>20.70</td>\n",
       "      <td>55.0</td>\n",
       "      <td>22.0</td>\n",
       "      <td>7.80</td>\n",
       "      <td>8.1</td>\n",
       "      <td>0.201</td>\n",
       "      <td>24.1</td>\n",
       "      <td>0</td>\n",
       "      <td>1</td>\n",
       "      <td>189.0</td>\n",
       "      <td>17.7</td>\n",
       "      <td>73</td>\n",
       "      <td>0</td>\n",
       "      <td>0</td>\n",
       "      <td>0</td>\n",
       "      <td>0</td>\n",
       "    </tr>\n",
       "    <tr>\n",
       "      <th>...</th>\n",
       "      <th>...</th>\n",
       "      <td>...</td>\n",
       "      <td>...</td>\n",
       "      <td>...</td>\n",
       "      <td>...</td>\n",
       "      <td>...</td>\n",
       "      <td>...</td>\n",
       "      <td>...</td>\n",
       "      <td>...</td>\n",
       "      <td>...</td>\n",
       "      <td>...</td>\n",
       "      <td>...</td>\n",
       "      <td>...</td>\n",
       "      <td>...</td>\n",
       "      <td>...</td>\n",
       "      <td>...</td>\n",
       "      <td>...</td>\n",
       "      <td>...</td>\n",
       "      <td>...</td>\n",
       "      <td>...</td>\n",
       "      <td>...</td>\n",
       "      <td>...</td>\n",
       "      <td>...</td>\n",
       "      <td>...</td>\n",
       "      <td>...</td>\n",
       "      <td>...</td>\n",
       "      <td>...</td>\n",
       "      <td>...</td>\n",
       "      <td>...</td>\n",
       "      <td>...</td>\n",
       "      <td>...</td>\n",
       "      <td>...</td>\n",
       "      <td>...</td>\n",
       "      <td>...</td>\n",
       "      <td>...</td>\n",
       "      <td>...</td>\n",
       "      <td>...</td>\n",
       "      <td>...</td>\n",
       "      <td>...</td>\n",
       "      <td>...</td>\n",
       "      <td>...</td>\n",
       "      <td>...</td>\n",
       "      <td>...</td>\n",
       "      <td>...</td>\n",
       "      <td>...</td>\n",
       "      <td>...</td>\n",
       "      <td>...</td>\n",
       "      <td>...</td>\n",
       "    </tr>\n",
       "    <tr>\n",
       "      <th rowspan=\"2\" valign=\"top\">GACBB;O</th>\n",
       "      <th>0</th>\n",
       "      <td>0</td>\n",
       "      <td>0</td>\n",
       "      <td>0</td>\n",
       "      <td>1</td>\n",
       "      <td>1</td>\n",
       "      <td>0</td>\n",
       "      <td>0</td>\n",
       "      <td>0</td>\n",
       "      <td>0</td>\n",
       "      <td>1</td>\n",
       "      <td>0</td>\n",
       "      <td>1</td>\n",
       "      <td>0</td>\n",
       "      <td>1</td>\n",
       "      <td>0</td>\n",
       "      <td>0</td>\n",
       "      <td>0</td>\n",
       "      <td>0</td>\n",
       "      <td>0</td>\n",
       "      <td>0</td>\n",
       "      <td>0</td>\n",
       "      <td>0</td>\n",
       "      <td>0</td>\n",
       "      <td>0</td>\n",
       "      <td>0</td>\n",
       "      <td>0</td>\n",
       "      <td>0</td>\n",
       "      <td>0</td>\n",
       "      <td>0</td>\n",
       "      <td>36.9</td>\n",
       "      <td>1.22</td>\n",
       "      <td>22.34</td>\n",
       "      <td>54.0</td>\n",
       "      <td>18.0</td>\n",
       "      <td>1.43</td>\n",
       "      <td>7.0</td>\n",
       "      <td>0.134</td>\n",
       "      <td>33.0</td>\n",
       "      <td>0</td>\n",
       "      <td>1</td>\n",
       "      <td>267.9</td>\n",
       "      <td>14.8</td>\n",
       "      <td>62</td>\n",
       "      <td>0</td>\n",
       "      <td>0</td>\n",
       "      <td>0</td>\n",
       "      <td>0</td>\n",
       "    </tr>\n",
       "    <tr>\n",
       "      <th>1</th>\n",
       "      <td>0</td>\n",
       "      <td>0</td>\n",
       "      <td>0</td>\n",
       "      <td>1</td>\n",
       "      <td>1</td>\n",
       "      <td>0</td>\n",
       "      <td>0</td>\n",
       "      <td>0</td>\n",
       "      <td>0</td>\n",
       "      <td>1</td>\n",
       "      <td>0</td>\n",
       "      <td>1</td>\n",
       "      <td>0</td>\n",
       "      <td>1</td>\n",
       "      <td>0</td>\n",
       "      <td>0</td>\n",
       "      <td>0</td>\n",
       "      <td>0</td>\n",
       "      <td>0</td>\n",
       "      <td>0</td>\n",
       "      <td>0</td>\n",
       "      <td>0</td>\n",
       "      <td>0</td>\n",
       "      <td>0</td>\n",
       "      <td>0</td>\n",
       "      <td>0</td>\n",
       "      <td>0</td>\n",
       "      <td>0</td>\n",
       "      <td>0</td>\n",
       "      <td>36.5</td>\n",
       "      <td>1.65</td>\n",
       "      <td>244.03</td>\n",
       "      <td>NaN</td>\n",
       "      <td>17.0</td>\n",
       "      <td>3.78</td>\n",
       "      <td>7.2</td>\n",
       "      <td>0.210</td>\n",
       "      <td>41.2</td>\n",
       "      <td>0</td>\n",
       "      <td>5</td>\n",
       "      <td>NaN</td>\n",
       "      <td>13.4</td>\n",
       "      <td>62</td>\n",
       "      <td>0</td>\n",
       "      <td>0</td>\n",
       "      <td>0</td>\n",
       "      <td>0</td>\n",
       "    </tr>\n",
       "    <tr>\n",
       "      <th rowspan=\"3\" valign=\"top\">GACXAAB</th>\n",
       "      <th>0</th>\n",
       "      <td>1</td>\n",
       "      <td>0</td>\n",
       "      <td>1</td>\n",
       "      <td>1</td>\n",
       "      <td>0</td>\n",
       "      <td>1</td>\n",
       "      <td>1</td>\n",
       "      <td>1</td>\n",
       "      <td>1</td>\n",
       "      <td>1</td>\n",
       "      <td>0</td>\n",
       "      <td>0</td>\n",
       "      <td>0</td>\n",
       "      <td>1</td>\n",
       "      <td>0</td>\n",
       "      <td>0</td>\n",
       "      <td>1</td>\n",
       "      <td>0</td>\n",
       "      <td>0</td>\n",
       "      <td>0</td>\n",
       "      <td>0</td>\n",
       "      <td>0</td>\n",
       "      <td>0</td>\n",
       "      <td>0</td>\n",
       "      <td>0</td>\n",
       "      <td>1</td>\n",
       "      <td>0</td>\n",
       "      <td>0</td>\n",
       "      <td>1</td>\n",
       "      <td>36.5</td>\n",
       "      <td>1.11</td>\n",
       "      <td>21.80</td>\n",
       "      <td>NaN</td>\n",
       "      <td>NaN</td>\n",
       "      <td>4.50</td>\n",
       "      <td>10.6</td>\n",
       "      <td>0.200</td>\n",
       "      <td>18.8</td>\n",
       "      <td>0</td>\n",
       "      <td>1</td>\n",
       "      <td>219.0</td>\n",
       "      <td>11.7</td>\n",
       "      <td>71</td>\n",
       "      <td>0</td>\n",
       "      <td>0</td>\n",
       "      <td>0</td>\n",
       "      <td>0</td>\n",
       "    </tr>\n",
       "    <tr>\n",
       "      <th>1</th>\n",
       "      <td>1</td>\n",
       "      <td>0</td>\n",
       "      <td>1</td>\n",
       "      <td>1</td>\n",
       "      <td>0</td>\n",
       "      <td>1</td>\n",
       "      <td>1</td>\n",
       "      <td>1</td>\n",
       "      <td>1</td>\n",
       "      <td>1</td>\n",
       "      <td>0</td>\n",
       "      <td>0</td>\n",
       "      <td>0</td>\n",
       "      <td>1</td>\n",
       "      <td>0</td>\n",
       "      <td>0</td>\n",
       "      <td>1</td>\n",
       "      <td>0</td>\n",
       "      <td>0</td>\n",
       "      <td>0</td>\n",
       "      <td>0</td>\n",
       "      <td>0</td>\n",
       "      <td>0</td>\n",
       "      <td>0</td>\n",
       "      <td>0</td>\n",
       "      <td>1</td>\n",
       "      <td>0</td>\n",
       "      <td>0</td>\n",
       "      <td>1</td>\n",
       "      <td>36.9</td>\n",
       "      <td>1.60</td>\n",
       "      <td>60.80</td>\n",
       "      <td>75.0</td>\n",
       "      <td>16.0</td>\n",
       "      <td>1.10</td>\n",
       "      <td>10.8</td>\n",
       "      <td>0.270</td>\n",
       "      <td>12.9</td>\n",
       "      <td>0</td>\n",
       "      <td>5</td>\n",
       "      <td>335.0</td>\n",
       "      <td>13.4</td>\n",
       "      <td>71</td>\n",
       "      <td>0</td>\n",
       "      <td>0</td>\n",
       "      <td>0</td>\n",
       "      <td>0</td>\n",
       "    </tr>\n",
       "    <tr>\n",
       "      <th>2</th>\n",
       "      <td>1</td>\n",
       "      <td>0</td>\n",
       "      <td>1</td>\n",
       "      <td>1</td>\n",
       "      <td>0</td>\n",
       "      <td>1</td>\n",
       "      <td>1</td>\n",
       "      <td>1</td>\n",
       "      <td>1</td>\n",
       "      <td>1</td>\n",
       "      <td>0</td>\n",
       "      <td>0</td>\n",
       "      <td>0</td>\n",
       "      <td>1</td>\n",
       "      <td>0</td>\n",
       "      <td>0</td>\n",
       "      <td>1</td>\n",
       "      <td>0</td>\n",
       "      <td>0</td>\n",
       "      <td>0</td>\n",
       "      <td>0</td>\n",
       "      <td>0</td>\n",
       "      <td>0</td>\n",
       "      <td>0</td>\n",
       "      <td>0</td>\n",
       "      <td>1</td>\n",
       "      <td>0</td>\n",
       "      <td>0</td>\n",
       "      <td>1</td>\n",
       "      <td>36.6</td>\n",
       "      <td>3.45</td>\n",
       "      <td>17.20</td>\n",
       "      <td>NaN</td>\n",
       "      <td>15.0</td>\n",
       "      <td>9.30</td>\n",
       "      <td>10.0</td>\n",
       "      <td>0.280</td>\n",
       "      <td>23.0</td>\n",
       "      <td>0</td>\n",
       "      <td>5</td>\n",
       "      <td>279.0</td>\n",
       "      <td>11.6</td>\n",
       "      <td>71</td>\n",
       "      <td>0</td>\n",
       "      <td>0</td>\n",
       "      <td>0</td>\n",
       "      <td>0</td>\n",
       "    </tr>\n",
       "  </tbody>\n",
       "</table>\n",
       "<p>6135 rows × 47 columns</p>\n",
       "</div>"
      ],
      "text/plain": [
       "                 омепразол_stat_control  надропарин кальция_stat_control  \\\n",
       "case    t_point                                                            \n",
       "GACAAcY 0                             1                                1   \n",
       "        1                             1                                1   \n",
       "        2                             1                                1   \n",
       "        3                             1                                1   \n",
       "GACAAnf 0                             1                                1   \n",
       "...                                 ...                              ...   \n",
       "GACBB;O 0                             0                                0   \n",
       "        1                             0                                0   \n",
       "GACXAAB 0                             1                                0   \n",
       "        1                             1                                0   \n",
       "        2                             1                                0   \n",
       "\n",
       "                 эзомепразол_stat_control  амлодипин_stat_control  \\\n",
       "case    t_point                                                     \n",
       "GACAAcY 0                               1                       1   \n",
       "        1                               1                       1   \n",
       "        2                               1                       1   \n",
       "        3                               1                       1   \n",
       "GACAAnf 0                               1                       1   \n",
       "...                                   ...                     ...   \n",
       "GACBB;O 0                               0                       1   \n",
       "        1                               0                       1   \n",
       "GACXAAB 0                               1                       1   \n",
       "        1                               1                       1   \n",
       "        2                               1                       1   \n",
       "\n",
       "                 амброксол_stat_control  домперидон_stat_control  \\\n",
       "case    t_point                                                    \n",
       "GACAAcY 0                             1                        1   \n",
       "        1                             1                        1   \n",
       "        2                             1                        1   \n",
       "        3                             1                        1   \n",
       "GACAAnf 0                             1                        1   \n",
       "...                                 ...                      ...   \n",
       "GACBB;O 0                             1                        0   \n",
       "        1                             1                        0   \n",
       "GACXAAB 0                             0                        1   \n",
       "        1                             0                        1   \n",
       "        2                             0                        1   \n",
       "\n",
       "                 меброфенин_stat_control  технеций_stat_control  \\\n",
       "case    t_point                                                   \n",
       "GACAAcY 0                              1                      1   \n",
       "        1                              1                      1   \n",
       "        2                              1                      1   \n",
       "        3                              1                      1   \n",
       "GACAAnf 0                              1                      1   \n",
       "...                                  ...                    ...   \n",
       "GACBB;O 0                              0                      0   \n",
       "        1                              0                      0   \n",
       "GACXAAB 0                              1                      1   \n",
       "        1                              1                      1   \n",
       "        2                              1                      1   \n",
       "\n",
       "                 мометазон_stat_control  бисопролол_stat_control  \\\n",
       "case    t_point                                                    \n",
       "GACAAcY 0                             1                        1   \n",
       "        1                             1                        1   \n",
       "        2                             1                        1   \n",
       "        3                             1                        1   \n",
       "GACAAnf 0                             1                        1   \n",
       "...                                 ...                      ...   \n",
       "GACBB;O 0                             0                        1   \n",
       "        1                             0                        1   \n",
       "GACXAAB 0                             1                        1   \n",
       "        1                             1                        1   \n",
       "        2                             1                        1   \n",
       "\n",
       "                 дексаметазон_stat_control  гидрохлоротиазид_stat_control  \\\n",
       "case    t_point                                                             \n",
       "GACAAcY 0                                1                              1   \n",
       "        1                                1                              1   \n",
       "        2                                1                              1   \n",
       "        3                                1                              1   \n",
       "GACAAnf 0                                0                              1   \n",
       "...                                    ...                            ...   \n",
       "GACBB;O 0                                0                              1   \n",
       "        1                                0                              1   \n",
       "GACXAAB 0                                0                              0   \n",
       "        1                                0                              0   \n",
       "        2                                0                              0   \n",
       "\n",
       "                 гидроксихлорохин_stat_control  рабепразол_stat_control  \\\n",
       "case    t_point                                                           \n",
       "GACAAcY 0                                    0                        0   \n",
       "        1                                    0                        0   \n",
       "        2                                    0                        0   \n",
       "        3                                    0                        0   \n",
       "GACAAnf 0                                    1                        0   \n",
       "...                                        ...                      ...   \n",
       "GACBB;O 0                                    0                        1   \n",
       "        1                                    0                        1   \n",
       "GACXAAB 0                                    0                        1   \n",
       "        1                                    0                        1   \n",
       "        2                                    0                        1   \n",
       "\n",
       "                 эноксапарин натрия_stat_control  периндоприл_stat_control  \\\n",
       "case    t_point                                                              \n",
       "GACAAcY 0                                      0                         0   \n",
       "        1                                      0                         0   \n",
       "        2                                      0                         0   \n",
       "        3                                      0                         0   \n",
       "GACAAnf 0                                      0                         0   \n",
       "...                                          ...                       ...   \n",
       "GACBB;O 0                                      0                         0   \n",
       "        1                                      0                         0   \n",
       "GACXAAB 0                                      0                         0   \n",
       "        1                                      0                         0   \n",
       "        2                                      0                         0   \n",
       "\n",
       "                 ацетилцистеин_stat_control  азитромицин_stat_control  \\\n",
       "case    t_point                                                         \n",
       "GACAAcY 0                                 0                         0   \n",
       "        1                                 0                         0   \n",
       "        2                                 0                         0   \n",
       "        3                                 0                         0   \n",
       "GACAAnf 0                                 0                         1   \n",
       "...                                     ...                       ...   \n",
       "GACBB;O 0                                 0                         0   \n",
       "        1                                 0                         0   \n",
       "GACXAAB 0                                 1                         0   \n",
       "        1                                 1                         0   \n",
       "        2                                 1                         0   \n",
       "\n",
       "                 валсартан_stat_control  метилпреднизолон_stat_control  \\\n",
       "case    t_point                                                          \n",
       "GACAAcY 0                             0                              1   \n",
       "        1                             0                              1   \n",
       "        2                             0                              1   \n",
       "        3                             0                              1   \n",
       "GACAAnf 0                             0                              0   \n",
       "...                                 ...                            ...   \n",
       "GACBB;O 0                             0                              0   \n",
       "        1                             0                              0   \n",
       "GACXAAB 0                             0                              0   \n",
       "        1                             0                              0   \n",
       "        2                             0                              0   \n",
       "\n",
       "                 лоратадин_stat_control  хлорохин_stat_control  \\\n",
       "case    t_point                                                  \n",
       "GACAAcY 0                             0                      0   \n",
       "        1                             0                      0   \n",
       "        2                             0                      0   \n",
       "        3                             0                      0   \n",
       "GACAAnf 0                             0                      1   \n",
       "...                                 ...                    ...   \n",
       "GACBB;O 0                             0                      0   \n",
       "        1                             0                      0   \n",
       "GACXAAB 0                             0                      0   \n",
       "        1                             0                      0   \n",
       "        2                             0                      0   \n",
       "\n",
       "                 натрия хлорид_stat_control  индапамид_stat_control  \\\n",
       "case    t_point                                                       \n",
       "GACAAcY 0                                 0                       0   \n",
       "        1                                 0                       0   \n",
       "        2                                 0                       0   \n",
       "        3                                 0                       0   \n",
       "GACAAnf 0                                 0                       0   \n",
       "...                                     ...                     ...   \n",
       "GACBB;O 0                                 0                       0   \n",
       "        1                                 0                       0   \n",
       "GACXAAB 0                                 0                       0   \n",
       "        1                                 0                       0   \n",
       "        2                                 0                       0   \n",
       "\n",
       "                 преднизолон_stat_control  аторвастатин_stat_control  \\\n",
       "case    t_point                                                        \n",
       "GACAAcY 0                               1                          0   \n",
       "        1                               1                          0   \n",
       "        2                               1                          0   \n",
       "        3                               1                          0   \n",
       "GACAAnf 0                               0                          0   \n",
       "...                                   ...                        ...   \n",
       "GACBB;O 0                               0                          0   \n",
       "        1                               0                          0   \n",
       "GACXAAB 0                               0                          1   \n",
       "        1                               0                          1   \n",
       "        2                               0                          1   \n",
       "\n",
       "                 декстран_stat_control  лизиноприл_stat_control  \\\n",
       "case    t_point                                                   \n",
       "GACAAcY 0                            0                        0   \n",
       "        1                            0                        0   \n",
       "        2                            0                        0   \n",
       "        3                            0                        0   \n",
       "GACAAnf 0                            0                        0   \n",
       "...                                ...                      ...   \n",
       "GACBB;O 0                            0                        0   \n",
       "        1                            0                        0   \n",
       "GACXAAB 0                            0                        0   \n",
       "        1                            0                        0   \n",
       "        2                            0                        0   \n",
       "\n",
       "                 лозартан_stat_control  Температура_dinam_fact  \\\n",
       "case    t_point                                                  \n",
       "GACAAcY 0                            1                    36.7   \n",
       "        1                            1                    36.3   \n",
       "        2                            1                    36.6   \n",
       "        3                            1                    36.5   \n",
       "GACAAnf 0                            0                     NaN   \n",
       "...                                ...                     ...   \n",
       "GACBB;O 0                            0                    36.9   \n",
       "        1                            0                    36.5   \n",
       "GACXAAB 0                            1                    36.5   \n",
       "        1                            1                    36.9   \n",
       "        2                            1                    36.6   \n",
       "\n",
       "                 Лимфоциты#_dinam_fact  АСТ_dinam_fact  ЧСС_dinam_fact  \\\n",
       "case    t_point                                                          \n",
       "GACAAcY 0                         1.93           27.90            74.0   \n",
       "        1                         2.00           25.70            71.0   \n",
       "        2                         2.13           32.00             NaN   \n",
       "        3                         2.12           27.00            71.0   \n",
       "GACAAnf 0                         1.21           20.70            55.0   \n",
       "...                                ...             ...             ...   \n",
       "GACBB;O 0                         1.22           22.34            54.0   \n",
       "        1                         1.65          244.03             NaN   \n",
       "GACXAAB 0                         1.11           21.80             NaN   \n",
       "        1                         1.60           60.80            75.0   \n",
       "        2                         3.45           17.20             NaN   \n",
       "\n",
       "                 ЧДД_dinam_fact  Билирубин общий_dinam_fact  \\\n",
       "case    t_point                                               \n",
       "GACAAcY 0                  24.0                       15.30   \n",
       "        1                  19.0                       12.10   \n",
       "        2                  18.0                         NaN   \n",
       "        3                  18.0                         NaN   \n",
       "GACAAnf 0                  22.0                        7.80   \n",
       "...                         ...                         ...   \n",
       "GACBB;O 0                  18.0                        1.43   \n",
       "        1                  17.0                        3.78   \n",
       "GACXAAB 0                   NaN                        4.50   \n",
       "        1                  16.0                        1.10   \n",
       "        2                  15.0                        9.30   \n",
       "\n",
       "                 MPV- Средн.объем тромбоцитов_dinam_fact  \\\n",
       "case    t_point                                            \n",
       "GACAAcY 0                                           11.2   \n",
       "        1                                           10.6   \n",
       "        2                                           11.0   \n",
       "        3                                           11.4   \n",
       "GACAAnf 0                                            8.1   \n",
       "...                                                  ...   \n",
       "GACBB;O 0                                            7.0   \n",
       "        1                                            7.2   \n",
       "GACXAAB 0                                           10.6   \n",
       "        1                                           10.8   \n",
       "        2                                           10.0   \n",
       "\n",
       "                 PCT- Тромбокрит_dinam_fact  Лимфоциты%_dinam_fact  \\\n",
       "case    t_point                                                      \n",
       "GACAAcY 0                             0.100                   48.3   \n",
       "        1                             0.160                   30.7   \n",
       "        2                             0.190                   23.1   \n",
       "        3                             0.100                   24.1   \n",
       "GACAAnf 0                             0.201                   24.1   \n",
       "...                                     ...                    ...   \n",
       "GACBB;O 0                             0.134                   33.0   \n",
       "        1                             0.210                   41.2   \n",
       "GACXAAB 0                             0.200                   18.8   \n",
       "        1                             0.270                   12.9   \n",
       "        2                             0.280                   23.0   \n",
       "\n",
       "                 снижение_сознания_dinam_fact  \\\n",
       "case    t_point                                 \n",
       "GACAAcY 0                                   0   \n",
       "        1                                   0   \n",
       "        2                                   0   \n",
       "        3                                   0   \n",
       "GACAAnf 0                                   0   \n",
       "...                                       ...   \n",
       "GACBB;O 0                                   0   \n",
       "        1                                   0   \n",
       "GACXAAB 0                                   0   \n",
       "        1                                   0   \n",
       "        2                                   0   \n",
       "\n",
       "                 Cтепень тяжести по КТ_dinam_fact  \\\n",
       "case    t_point                                     \n",
       "GACAAcY 0                                       2   \n",
       "        1                                       2   \n",
       "        2                                       5   \n",
       "        3                                       5   \n",
       "GACAAnf 0                                       1   \n",
       "...                                           ...   \n",
       "GACBB;O 0                                       1   \n",
       "        1                                       5   \n",
       "GACXAAB 0                                       1   \n",
       "        1                                       5   \n",
       "        2                                       5   \n",
       "\n",
       "                 Лактатдегидрогеназа_dinam_fact  \\\n",
       "case    t_point                                   \n",
       "GACAAcY 0                                 245.0   \n",
       "        1                                 315.0   \n",
       "        2                                 290.0   \n",
       "        3                                 274.0   \n",
       "GACAAnf 0                                 189.0   \n",
       "...                                         ...   \n",
       "GACBB;O 0                                 267.9   \n",
       "        1                                   NaN   \n",
       "GACXAAB 0                                 219.0   \n",
       "        1                                 335.0   \n",
       "        2                                 279.0   \n",
       "\n",
       "                 PDW- Индекс расп.по объему тр._dinam_fact  age_stat_fact  \\\n",
       "case    t_point                                                             \n",
       "GACAAcY 0                                             14.0             81   \n",
       "        1                                             12.8             81   \n",
       "        2                                             13.5             81   \n",
       "        3                                             13.1             81   \n",
       "GACAAnf 0                                             17.7             73   \n",
       "...                                                    ...            ...   \n",
       "GACBB;O 0                                             14.8             62   \n",
       "        1                                             13.4             62   \n",
       "GACXAAB 0                                             11.7             71   \n",
       "        1                                             13.4             71   \n",
       "        2                                             11.6             71   \n",
       "\n",
       "                 трансфузия_dinam_control  оксигенотерапия_dinam_control  \\\n",
       "case    t_point                                                            \n",
       "GACAAcY 0                               0                              1   \n",
       "        1                               0                              1   \n",
       "        2                               0                              1   \n",
       "        3                               0                              1   \n",
       "GACAAnf 0                               0                              0   \n",
       "...                                   ...                            ...   \n",
       "GACBB;O 0                               0                              0   \n",
       "        1                               0                              0   \n",
       "GACXAAB 0                               0                              0   \n",
       "        1                               0                              0   \n",
       "        2                               0                              0   \n",
       "\n",
       "                 НИВЛ_dinam_control  ИВЛ_dinam_control  \n",
       "case    t_point                                         \n",
       "GACAAcY 0                         0                  0  \n",
       "        1                         0                  0  \n",
       "        2                         0                  0  \n",
       "        3                         0                  0  \n",
       "GACAAnf 0                         0                  0  \n",
       "...                             ...                ...  \n",
       "GACBB;O 0                         0                  0  \n",
       "        1                         0                  0  \n",
       "GACXAAB 0                         0                  0  \n",
       "        1                         0                  0  \n",
       "        2                         0                  0  \n",
       "\n",
       "[6135 rows x 47 columns]"
      ]
     },
     "execution_count": 159,
     "metadata": {},
     "output_type": "execute_result"
    }
   ],
   "source": [
    "df"
   ]
  },
  {
   "attachments": {},
   "cell_type": "markdown",
   "id": "b306961d",
   "metadata": {},
   "source": [
    "Разберем отдельно параметры"
   ]
  },
  {
   "attachments": {},
   "cell_type": "markdown",
   "id": "20b469a3-985b-4c15-8b1b-b1f2810bef60",
   "metadata": {
    "tags": []
   },
   "source": [
    "### Лимфоциты\n",
    "Исследуем зависимость параметров Лимфоциты# и Лимфоциты%. Проанализируем их"
   ]
  },
  {
   "cell_type": "code",
   "execution_count": 160,
   "id": "64f94b8f-aaa1-4d08-a2dc-61dfa4e8c117",
   "metadata": {},
   "outputs": [
    {
     "data": {
      "text/plain": [
       "Text(0.5, 1.0, 'Зависимость распределения \\n Лимфоциты% от Лимфоциты#')"
      ]
     },
     "execution_count": 160,
     "metadata": {},
     "output_type": "execute_result"
    },
    {
     "data": {
      "image/png": "[encoded data removed]",
      "text/plain": [
       "<Figure size 432x288 with 1 Axes>"
      ]
     },
     "metadata": {
      "needs_background": "light"
     },
     "output_type": "display_data"
    }
   ],
   "source": [
    "data = df[[\"Лимфоциты#_dinam_fact\", \"Лимфоциты%_dinam_fact\"]].to_numpy()\n",
    "plt.scatter(data[:,0], data[:, 1])\n",
    "plt.title(\"Зависимость распределения \\n Лимфоциты% от Лимфоциты#\")"
   ]
  },
  {
   "cell_type": "code",
   "execution_count": 161,
   "id": "a2ad3048-0024-4fa1-9788-2dadb00e0b3a",
   "metadata": {
    "tags": []
   },
   "outputs": [
    {
     "data": {
      "text/plain": [
       "Text(0.5, 1.0, 'Распределение величины Лимфоциты#_dinam_fact')"
      ]
     },
     "execution_count": 161,
     "metadata": {},
     "output_type": "execute_result"
    },
    {
     "data": {
      "image/png": "[encoded data removed]",
      "text/plain": [
       "<Figure size 432x288 with 1 Axes>"
      ]
     },
     "metadata": {
      "needs_background": "light"
     },
     "output_type": "display_data"
    }
   ],
   "source": [
    "data = df[[\"Лимфоциты#_dinam_fact\", \"Лимфоциты%_dinam_fact\"]].to_numpy()\n",
    "data = [df[(df[\"Лимфоциты%_dinam_fact\"]>i) & (df[\"Лимфоциты%_dinam_fact\"]<i+5)][\"Лимфоциты#_dinam_fact\"] for i in range(0, 100, 5)]\n",
    "plt.boxplot(data)\n",
    "plt.title(\"Распределение величины Лимфоциты#_dinam_fact\")"
   ]
  },
  {
   "cell_type": "code",
   "execution_count": 162,
   "id": "e867f0a0-56db-4fcf-a2d9-c7487a3b55fe",
   "metadata": {
    "tags": []
   },
   "outputs": [
    {
     "data": {
      "text/plain": [
       "Text(0.5, 1.0, 'Распределение величины Лимфоциты%_dinam_fact')"
      ]
     },
     "execution_count": 162,
     "metadata": {},
     "output_type": "execute_result"
    },
    {
     "data": {
      "image/png": "[encoded data removed]",
      "text/plain": [
       "<Figure size 432x288 with 1 Axes>"
      ]
     },
     "metadata": {
      "needs_background": "light"
     },
     "output_type": "display_data"
    }
   ],
   "source": [
    "data = df[[\"Лимфоциты#_dinam_fact\", \"Лимфоциты%_dinam_fact\"]].to_numpy()\n",
    "data = [df[(df[\"Лимфоциты#_dinam_fact\"]>i) & (df[\"Лимфоциты#_dinam_fact\"]<i+1)][\"Лимфоциты%_dinam_fact\"] for i in range(0, 40, 1)]\n",
    "plt.boxplot(data)\n",
    "plt.title(\"Распределение величины Лимфоциты%_dinam_fact\")"
   ]
  },
  {
   "cell_type": "markdown",
   "id": "e88c0836-6d3c-4600-88a5-70a641e08feb",
   "metadata": {
    "tags": []
   },
   "source": [
    "Получается, что чистой корреляции у них нет. Однако чем выше количество лимфоцитов, тем больше их часть среди других лейкоцитов. Корреляцию Пирсона получаем 0.35 (P < 1e-159)"
   ]
  },
  {
   "cell_type": "code",
   "execution_count": 163,
   "id": "6ef053c0-91dc-4780-9819-819a28708584",
   "metadata": {
    "tags": []
   },
   "outputs": [
    {
     "data": {
      "text/plain": [
       "PearsonRResult(statistic=0.35366027434981473, pvalue=5.609278436072053e-159)"
      ]
     },
     "execution_count": 163,
     "metadata": {},
     "output_type": "execute_result"
    }
   ],
   "source": [
    "from scipy.stats import pearsonr\n",
    "data = df[[\"Лимфоциты#_dinam_fact\", \"Лимфоциты%_dinam_fact\"]].to_numpy()\n",
    "data = data[~np.isnan(data[:, 0]) & ~np.isnan(data[:, 1]) , :]\n",
    "pearsonr(data[:, 0], data[:, 1])"
   ]
  },
  {
   "cell_type": "markdown",
   "id": "42c85fde-4d37-4c52-acbe-9377524dae0f",
   "metadata": {
    "tags": []
   },
   "source": [
    "Получили, что зависимость есть, но она не линейная, так что нужно оставить оба параметра"
   ]
  },
  {
   "attachments": {},
   "cell_type": "markdown",
   "id": "1de49768",
   "metadata": {},
   "source": [
    "### Степень тяжести по КТ \n"
   ]
  },
  {
   "cell_type": "code",
   "execution_count": 164,
   "id": "d9bab4af",
   "metadata": {},
   "outputs": [
    {
     "data": {
      "text/plain": [
       "5    3242\n",
       "2    1248\n",
       "1     730\n",
       "3     693\n",
       "4     194\n",
       "0      28\n",
       "Name: Cтепень тяжести по КТ_dinam_fact, dtype: int64"
      ]
     },
     "execution_count": 164,
     "metadata": {},
     "output_type": "execute_result"
    }
   ],
   "source": [
    "df[\"Cтепень тяжести по КТ_dinam_fact\"].reset_index()[\"Cтепень тяжести по КТ_dinam_fact\"].value_counts()"
   ]
  },
  {
   "attachments": {},
   "cell_type": "markdown",
   "id": "4e6b4056",
   "metadata": {},
   "source": [
    "Не особо понятно что такое 0 степень тяжести, такая степень 28 раз встречается. 5 - самая распространенная"
   ]
  },
  {
   "attachments": {},
   "cell_type": "markdown",
   "id": "9d7e7294",
   "metadata": {},
   "source": [
    "Параметр является мультиклассовым, можно использовать как классификацию, так и регрессию, так как в какой то степени есть порядковый смысл между переменными"
   ]
  },
  {
   "attachments": {},
   "cell_type": "markdown",
   "id": "1168af6b",
   "metadata": {},
   "source": [
    "### Снижение сознания"
   ]
  },
  {
   "cell_type": "code",
   "execution_count": 165,
   "id": "7afb3a14",
   "metadata": {},
   "outputs": [
    {
     "data": {
      "text/plain": [
       "0    5780\n",
       "2     354\n",
       "1       1\n",
       "Name: снижение_сознания_dinam_fact, dtype: int64"
      ]
     },
     "execution_count": 165,
     "metadata": {},
     "output_type": "execute_result"
    }
   ],
   "source": [
    "df[\"снижение_сознания_dinam_fact\"].reset_index()[\"снижение_сознания_dinam_fact\"].value_counts()"
   ]
  },
  {
   "attachments": {},
   "cell_type": "markdown",
   "id": "e2763779",
   "metadata": {},
   "source": [
    "Спокойно можно удалить 1, так как существует одна запись, и заменить 2 на 1. Также возможно использовать вероятности снижения сознания"
   ]
  },
  {
   "attachments": {},
   "cell_type": "markdown",
   "id": "7b6746c0-944a-423a-805d-29a3a79def38",
   "metadata": {
    "tags": []
   },
   "source": [
    "## Распределения параметров"
   ]
  },
  {
   "cell_type": "code",
   "execution_count": 166,
   "id": "0aefeeb5-d4a5-49cd-b02b-8beeda721466",
   "metadata": {
    "tags": []
   },
   "outputs": [
    {
     "data": {
      "image/png": "[encoded data removed]",
      "text/plain": [
       "<Figure size 1080x1080 with 15 Axes>"
      ]
     },
     "metadata": {
      "needs_background": "light"
     },
     "output_type": "display_data"
    }
   ],
   "source": [
    "import seaborn as sns\n",
    "figure, ax = plt.subplots(3, 5, figsize=(15, 15))\n",
    "for i in range(13):\n",
    "    sns.histplot(df.iloc[:, 29+i], color=\"skyblue\", kde=True, ax=ax[i//5, i%5])"
   ]
  },
  {
   "cell_type": "markdown",
   "id": "02e7f0a9-478d-4495-93ab-4273f16627db",
   "metadata": {},
   "source": [
    "## Обучение"
   ]
  },
  {
   "cell_type": "markdown",
   "id": "2df9ebd8-365a-4a4d-a25d-06d03b5859e7",
   "metadata": {},
   "source": [
    "Теперь разделим датасет на окна - одна запись как фича, следующая за ней как таргет. И среди всех записей пациента проведем такую операцию"
   ]
  },
  {
   "cell_type": "markdown",
   "id": "17f26757-d667-43b5-8d94-e24c0c78858a",
   "metadata": {
    "tags": []
   },
   "source": [
    "Выберем значения таргета без nan, и каждому из 13-ти параметров соотнесем пары - вектор параметров X и значение Y параметра на следующей неделе. "
   ]
  },
  {
   "cell_type": "code",
   "execution_count": 167,
   "id": "639433cd-50f3-4178-87fe-17f45dcf164b",
   "metadata": {
    "tags": []
   },
   "outputs": [],
   "source": [
    "def get_windows(df, window_size=2):\n",
    "    X , y = [], []\n",
    "    for i in df.index.levels[0]:\n",
    "        try:\n",
    "            for j in range(df.loc[i].index.size - window_size):\n",
    "                try:\n",
    "                    X.append(df.loc[(i, j):(i, j+window_size-1)])\n",
    "                    y.append(df.loc[(i, j+window_size)].iloc[29:42])\n",
    "                except:\n",
    "                    pass\n",
    "        except:\n",
    "            pass\n",
    "    X, y = np.array(X), np.array(y)\n",
    "    data = {param: [] for param in dynamic_columns}\n",
    "\n",
    "    for i in range(len(data)):\n",
    "        X_temp, y_temp = [], []\n",
    "        for j in range(y.shape[0]):\n",
    "            if not np.isnan(y[j][i]):\n",
    "                X_temp.append(X[j])\n",
    "                y_temp.append(y[j][i])\n",
    "        data[dynamic_columns[i]] = {\"X\": np.array(X_temp), \"y\": np.array(y_temp)}\n",
    "\n",
    "    return data\n",
    "data = get_windows(df, 2)"
   ]
  },
  {
   "cell_type": "code",
   "execution_count": 168,
   "id": "3b9fcf99-cea3-4121-b188-6ea80f267ba5",
   "metadata": {
    "tags": []
   },
   "outputs": [
    {
     "data": {
      "text/plain": [
       "array([[1.000e+00, 1.000e+00, 0.000e+00, 0.000e+00, 0.000e+00, 0.000e+00,\n",
       "        0.000e+00, 0.000e+00, 0.000e+00, 0.000e+00, 1.000e+00, 0.000e+00,\n",
       "        0.000e+00, 1.000e+00, 0.000e+00, 0.000e+00, 0.000e+00, 0.000e+00,\n",
       "        0.000e+00, 0.000e+00, 1.000e+00, 0.000e+00, 1.000e+00, 0.000e+00,\n",
       "        0.000e+00, 0.000e+00, 1.000e+00, 0.000e+00, 0.000e+00, 3.660e+01,\n",
       "        1.090e+00, 2.254e+02, 7.300e+01, 2.400e+01, 6.800e+00, 9.900e+00,\n",
       "        5.400e-01, 5.600e+00, 0.000e+00, 3.000e+00, 6.750e+02, 1.090e+01,\n",
       "        3.700e+01, 0.000e+00, 0.000e+00, 0.000e+00, 0.000e+00],\n",
       "       [1.000e+00, 1.000e+00, 0.000e+00, 0.000e+00, 0.000e+00, 0.000e+00,\n",
       "        0.000e+00, 0.000e+00, 0.000e+00, 0.000e+00, 1.000e+00, 0.000e+00,\n",
       "        0.000e+00, 1.000e+00, 0.000e+00, 0.000e+00, 0.000e+00, 0.000e+00,\n",
       "        0.000e+00, 0.000e+00, 1.000e+00, 0.000e+00, 1.000e+00, 0.000e+00,\n",
       "        0.000e+00, 0.000e+00, 1.000e+00, 0.000e+00, 0.000e+00, 3.640e+01,\n",
       "        2.450e+00, 2.400e+01,       nan, 1.800e+01,       nan, 1.000e+01,\n",
       "        8.100e-01, 1.140e+01, 0.000e+00, 5.000e+00, 2.860e+02, 1.160e+01,\n",
       "        3.700e+01, 0.000e+00, 0.000e+00, 0.000e+00, 0.000e+00]])"
      ]
     },
     "execution_count": 168,
     "metadata": {},
     "output_type": "execute_result"
    }
   ],
   "source": [
    "data['Лимфоциты#_dinam_fact'][\"X\"][3]"
   ]
  },
  {
   "cell_type": "code",
   "execution_count": 20,
   "id": "5ac705ea-202b-4512-9e3c-c381233b0808",
   "metadata": {
    "tags": []
   },
   "outputs": [
    {
     "data": {
      "text/plain": [
       "2.13"
      ]
     },
     "execution_count": 20,
     "metadata": {},
     "output_type": "execute_result"
    }
   ],
   "source": [
    "data['Лимфоциты#_dinam_fact'][\"y\"][0]"
   ]
  },
  {
   "cell_type": "markdown",
   "id": "6bc9e3a1-2b76-45a0-8a3a-f50b01546fba",
   "metadata": {
    "tags": []
   },
   "source": [
    "Теперь посмотрим, сколько пар для обучения у нас присутствует"
   ]
  },
  {
   "cell_type": "code",
   "execution_count": 169,
   "id": "305849d8-872b-4507-aa54-9d924e2747c4",
   "metadata": {
    "tags": []
   },
   "outputs": [
    {
     "data": {
      "image/png": "[encoded data removed]",
      "text/plain": [
       "<Figure size 864x432 with 1 Axes>"
      ]
     },
     "metadata": {
      "needs_background": "light"
     },
     "output_type": "display_data"
    }
   ],
   "source": [
    "def get_samples_for_parameters(data):\n",
    "  stat_nan = {k[:-11]:len(data[k][\"X\"]) for k in data}\n",
    "  l = stat_nan.keys()\n",
    "  h = stat_nan.values()\n",
    "  plt.figure(figsize=(12, 6))\n",
    "  plt.bar(x=l, height=h)\n",
    "  plt.xticks(rotation=90)\n",
    "  plt.title(\"Number of trainig elements for each of parameters\")\n",
    "  for key_idx, key in enumerate(stat_nan):\n",
    "    plt.text(key_idx-0.3,stat_nan[key]+1,stat_nan[key])\n",
    "\n",
    "get_samples_for_parameters(data)"
   ]
  },
  {
   "attachments": {},
   "cell_type": "markdown",
   "id": "8f652eee-0ac8-44df-b95f-d474d72ee496",
   "metadata": {},
   "source": [
    "Нам важно измерить качество регрессии. Будем вычислять R2, MSE, mAPE и 95% интервалы этих метрик. Для доверительных интервалов будем использовать значения метрик модели на 5 фолдах (иными словами кросс валидацию) https://www.codecamp.ru/blog/confidence-intervals-python/"
   ]
  },
  {
   "cell_type": "code",
   "execution_count": 23,
   "id": "36d9e7b2-c2ef-4590-b50f-95b154c9e1dc",
   "metadata": {
    "tags": []
   },
   "outputs": [],
   "source": [
    "import scipy.stats as st\n",
    "\n",
    "# Calculate R2, MSE, MAPE\n",
    "def get_scores(y_real, y_pred):\n",
    "    scores = {}\n",
    "    scores[\"r2\"] = r2_score(y_real, y_pred, multioutput=\"raw_values\")\n",
    "    scores[\"mse\"] = mean_squared_error(y_real, y_pred, multioutput=\"raw_values\")\n",
    "    scores[\"mape\"] = mean_absolute_percentage_error(y_real, y_pred, multioutput=\"raw_values\")\n",
    "    return scores\n",
    "\n",
    "# Here we use composed pipeline to cross-validate it. I use 5-fold cross validation\n",
    "def evaluate_with_intervals(model, X=None, y=None, folds=5, fedot=False, rnn_args={}):\n",
    "    scoring_results = {\"r2\":[], \"mape\":[], \"mse\":[]}\n",
    "    kf = KFold(folds)\n",
    "    k = 0\n",
    "    if (fedot):\n",
    "        for train, test in kf.split(X, y): \n",
    "            indata_train = InputData(idx=np.arange(0, X[train].shape[0]), \n",
    "              features=X[train],\n",
    "              target=y[train],\n",
    "              data_type=DataTypesEnum.table,\n",
    "              task=Task(TaskTypesEnum.regression))\n",
    "            model.unfit()\n",
    "            model.fit(indata_train)\n",
    "            indata_test = InputData(idx=np.arange(0, X[test].shape[0]), \n",
    "              features=pd.DataFrame(X[test]),\n",
    "              data_type=DataTypesEnum.table,\n",
    "              task=Task(TaskTypesEnum.regression))\n",
    "            y_pred = model.predict(indata_test).predict\n",
    "            validation_data = get_scores(y[test], y_pred)\n",
    "            for sc in scoring_results:\n",
    "                scoring_results[sc].append(validation_data[sc])\n",
    "            k+=1\n",
    "    else:\n",
    "        for train, test in kf.split(X, y):\n",
    "            model.fit(X[train], y[train], **rnn_args)\n",
    "            y_pred = model.predict(X[test])\n",
    "            validation_data = get_scores( y[test], y_pred)\n",
    "            for sc in scoring_results:\n",
    "                scoring_results[sc].append(validation_data[sc])\n",
    "            k+=1\n",
    "    metrics_dataframe = {}\n",
    "    for metric in scoring_results:\n",
    "        scoring_result = scoring_results[metric]\n",
    "        interval = st.t.interval(confidence=0.95 , df=len(scoring_result), loc=np.mean(scoring_result), scale=st.sem(scoring_result)) #95% interval\n",
    "        metrics_dataframe[\"right_\"+metric] = min(1, interval[1][0])\n",
    "        metrics_dataframe[\"left_\"+metric] = interval[0][0]\n",
    "        metrics_dataframe[\"mean_\"+metric] = ((interval[1]+interval[0])/2)[0]\n",
    "        metrics_dataframe[\"fold1_\"+metric] = scoring_results[metric][0]\n",
    "        metrics_dataframe[\"fold2_\"+metric] = scoring_results[metric][1]\n",
    "        metrics_dataframe[\"fold3_\"+metric] = scoring_results[metric][2]\n",
    "        metrics_dataframe[\"fold4_\"+metric] = scoring_results[metric][3]\n",
    "        metrics_dataframe[\"fold5_\"+metric] = scoring_results[metric][4]\n",
    "    return metrics_dataframe\n",
    "\n"
   ]
  },
  {
   "cell_type": "markdown",
   "id": "54008ad7-b5cd-4fb8-8a90-f295d2c03bac",
   "metadata": {},
   "source": [
    "Чтобы обьективно понимать, что будущие модели будут улавливать закономерности а не рандомно делать свои ответы, попробуем возвращать только среднее значение параметра по всем возможным наблюдениям и после сравним эффективность такого подхода с моделью машинного обучения"
   ]
  },
  {
   "attachments": {},
   "cell_type": "markdown",
   "id": "6df23f21",
   "metadata": {},
   "source": [
    "### Удаление NaN"
   ]
  },
  {
   "attachments": {},
   "cell_type": "markdown",
   "id": "97f2bbe3",
   "metadata": {},
   "source": [
    "Для моделей необходимо убрать пропущенные значения. Воспользуемся простой вставкой среднего значения и IterativeImputer"
   ]
  },
  {
   "attachments": {},
   "cell_type": "markdown",
   "id": "77675ce6",
   "metadata": {},
   "source": [
    "# Train models"
   ]
  },
  {
   "attachments": {},
   "cell_type": "markdown",
   "id": "8c4ad41f",
   "metadata": {},
   "source": [
    "### LinearRegression"
   ]
  },
  {
   "attachments": {},
   "cell_type": "markdown",
   "id": "7e4dd779",
   "metadata": {},
   "source": [
    "опишем классы предобработок. Будем исплоьзовать два вида предобработки - с выстраиванием признаков недель в один вектор и взятии среднего вектора по неделям"
   ]
  },
  {
   "cell_type": "code",
   "execution_count": 24,
   "id": "7970447e",
   "metadata": {},
   "outputs": [],
   "source": [
    "from sklearn.linear_model import LinearRegression\n",
    "\n",
    "class LinearRegressionClass():\n",
    "    def __init__(self):\n",
    "        self.scaler = StandardScaler()\n",
    "        self.imputer=IterativeImputer(max_iter=50)\n",
    "        self.model = LinearRegression()\n",
    "\n",
    "    def preprocess(self, df, window=2):\n",
    "        df_preprocessed = df.copy()\n",
    "        self.scaler.fit(df_preprocessed.iloc[:, 29:43])\n",
    "        df_preprocessed.iloc[:, 29:43] = self.scaler.transform(df_preprocessed.iloc[:, 29:43])\n",
    "        self.imputer.fit(df_preprocessed.iloc[:, 29:43])\n",
    "        df_preprocessed.iloc[:, 29:43] = self.imputer.transform(df_preprocessed.iloc[:, 29:43])\n",
    "        data = get_windows(df_preprocessed, window)\n",
    "        for i, column in enumerate(data.keys()):\n",
    "            data[column][\"X\"] = data[column][\"X\"].reshape(-1, 47*window)\n",
    "        return data\n",
    "    \n",
    "class LinearRegressionClassMean():\n",
    "    def __init__(self):\n",
    "        self.scaler = StandardScaler()\n",
    "        self.imputer=IterativeImputer(max_iter=50)\n",
    "        self.model = LinearRegression()\n",
    "\n",
    "    def preprocess(self, df, window=2):\n",
    "        df_preprocessed = df.copy()\n",
    "        self.scaler.fit(df_preprocessed.iloc[:, 29:43])\n",
    "        df_preprocessed.iloc[:, 29:43] = self.scaler.transform(df_preprocessed.iloc[:, 29:43])\n",
    "        self.imputer.fit(df_preprocessed.iloc[:, 29:43])\n",
    "        df_preprocessed.iloc[:, 29:43] = self.imputer.transform(df_preprocessed.iloc[:, 29:43])\n",
    "        data = get_windows(df_preprocessed, window)\n",
    "        for i, column in enumerate(data.keys()):\n",
    "            data[column][\"X\"] = data[column][\"X\"].mean(axis=1)\n",
    "        return data\n"
   ]
  },
  {
   "attachments": {},
   "cell_type": "markdown",
   "id": "c924d621",
   "metadata": {},
   "source": [
    "И обучим модель линейной регрессии "
   ]
  },
  {
   "cell_type": "code",
   "execution_count": 25,
   "id": "74e5c77a",
   "metadata": {},
   "outputs": [
    {
     "name": "stderr",
     "output_type": "stream",
     "text": [
      "100%|██████████| 13/13 [00:00<00:00, 14.91it/s]\n",
      "100%|██████████| 13/13 [00:00<00:00, 23.63it/s]\n",
      "100%|██████████| 13/13 [00:00<00:00, 32.52it/s]\n",
      "100%|██████████| 13/13 [00:00<00:00, 44.75it/s]\n",
      "100%|██████████| 13/13 [00:00<00:00, 104.08it/s]\n"
     ]
    }
   ],
   "source": [
    "from sklearn.linear_model import LinearRegression\n",
    "\n",
    "parameters_validation = []\n",
    "lrclass = LinearRegressionClassMean()\n",
    "for window in [1, 2, 3, 4, 5]: \n",
    "    data = lrclass.preprocess(df, window)\n",
    "    for column in tqdm(list(data.keys())):\n",
    "        X_param, y_param = data[column][\"X\"], data[column][\"y\"]\n",
    "        model = LinearRegression()\n",
    "        metrs = evaluate_with_intervals(model, X_param, y_param) \n",
    "        metrs[\"parameter\"] = column\n",
    "        metrs[\"model\"] = \"LinearRegression with Mean\"\n",
    "        metrs[\"window\"] = window\n",
    "        parameters_validation.append(metrs)\n",
    "pd.DataFrame(parameters_validation).to_csv(\"LinearRegression_on_mean_vector.csv\")\n"
   ]
  },
  {
   "cell_type": "code",
   "execution_count": 26,
   "id": "bcad9835",
   "metadata": {},
   "outputs": [
    {
     "name": "stderr",
     "output_type": "stream",
     "text": [
      "100%|██████████| 13/13 [00:00<00:00, 15.66it/s]\n",
      "100%|██████████| 13/13 [00:01<00:00,  9.56it/s]\n",
      "100%|██████████| 13/13 [00:01<00:00,  7.52it/s]\n",
      "100%|██████████| 13/13 [00:01<00:00,  7.25it/s]\n",
      "100%|██████████| 13/13 [00:01<00:00, 10.60it/s]\n"
     ]
    }
   ],
   "source": [
    "parameters_validation = []\n",
    "lrclass = LinearRegressionClass()\n",
    "for window in [1, 2, 3, 4, 5]: \n",
    "    data = lrclass.preprocess(df, window)\n",
    "    for column in tqdm(list(data.keys())):\n",
    "        X_param, y_param = data[column][\"X\"], data[column][\"y\"]\n",
    "        model = LinearRegression()\n",
    "        metrs = evaluate_with_intervals(model, X_param, y_param) \n",
    "        metrs[\"parameter\"] = column\n",
    "        metrs[\"model\"] = \"LinearRegression on flatten vector\"\n",
    "        metrs[\"window\"] = window\n",
    "        parameters_validation.append(metrs)\n",
    "pd.DataFrame(parameters_validation).to_csv(\"LinearRegression_on_flatten_vector.csv\")\n"
   ]
  },
  {
   "attachments": {},
   "cell_type": "markdown",
   "id": "fbda8508",
   "metadata": {},
   "source": [
    "### RNN"
   ]
  },
  {
   "cell_type": "code",
   "execution_count": 27,
   "id": "a0aaed66",
   "metadata": {},
   "outputs": [],
   "source": [
    "from keras.models import Sequential\n",
    "from keras.layers import Dense, LSTM, SimpleRNN, GRU, Input, Flatten, concatenate\n",
    "from keras import Model\n",
    "from keras.metrics import RootMeanSquaredError\n"
   ]
  },
  {
   "cell_type": "code",
   "execution_count": 28,
   "id": "54f31712",
   "metadata": {},
   "outputs": [],
   "source": [
    "class RNNPreprocessClass():\n",
    "    def __init__(self):\n",
    "        self.scaler = StandardScaler()\n",
    "        self.imputer=IterativeImputer(max_iter=50)\n",
    "        self.model = LinearRegression()\n",
    "\n",
    "    def preprocess(self, df, window=2):\n",
    "        df_preprocessed = df.copy()\n",
    "        self.scaler.fit(df_preprocessed.iloc[:, 29:43])\n",
    "        df_preprocessed.iloc[:, 29:43] = self.scaler.transform(df_preprocessed.iloc[:, 29:43])\n",
    "        self.imputer.fit(df_preprocessed.iloc[:, 29:43])\n",
    "        df_preprocessed.iloc[:, 29:43] = self.imputer.transform(df_preprocessed.iloc[:, 29:43])\n",
    "        data = get_windows(df_preprocessed, window)\n",
    "        return data\n",
    "    "
   ]
  },
  {
   "cell_type": "code",
   "execution_count": 29,
   "id": "23cb515d",
   "metadata": {},
   "outputs": [],
   "source": [
    "def simple_rnn(window, params_length):\n",
    "    model = Sequential(name=\"SimpleRNN\")\n",
    "    model.add(Input((window, params_length)))\n",
    "    model.add(SimpleRNN(params_length, return_sequences=False))\n",
    "    model.add(Dense(1, activation=\"linear\"))\n",
    "    model.compile(optimizer=\"adam\", loss=\"mse\")\n",
    "    return model"
   ]
  },
  {
   "cell_type": "code",
   "execution_count": 30,
   "id": "f39a88ad",
   "metadata": {},
   "outputs": [],
   "source": [
    "def build_lstm(window, params_length):\n",
    "    model = Sequential(name=\"LSTM\")\n",
    "    model.add(Input((window, params_length)))\n",
    "    model.add(LSTM(32, return_sequences=False))\n",
    "    model.add(Dense(1, activation=\"linear\"))\n",
    "    model.compile(optimizer=\"adam\", loss=\"mse\")\n",
    "    return model"
   ]
  },
  {
   "cell_type": "code",
   "execution_count": 31,
   "id": "936f7306",
   "metadata": {},
   "outputs": [
    {
     "name": "stderr",
     "output_type": "stream",
     "text": [
      "  0%|          | 0/13 [00:00<?, ?it/s]"
     ]
    },
    {
     "name": "stdout",
     "output_type": "stream",
     "text": [
      "27/27 [==============================] - 1s 2ms/step\n",
      "27/27 [==============================] - 0s 3ms/step\n",
      "27/27 [==============================] - 0s 3ms/step\n",
      "27/27 [==============================] - 0s 1ms/step\n",
      "27/27 [==============================] - 0s 3ms/step\n"
     ]
    },
    {
     "name": "stderr",
     "output_type": "stream",
     "text": [
      "  8%|▊         | 1/13 [00:33<06:45, 33.78s/it]"
     ]
    },
    {
     "name": "stdout",
     "output_type": "stream",
     "text": [
      "27/27 [==============================] - 0s 2ms/step\n",
      "27/27 [==============================] - 0s 4ms/step\n",
      "27/27 [==============================] - 0s 4ms/step\n",
      "27/27 [==============================] - 0s 4ms/step\n",
      "27/27 [==============================] - 0s 4ms/step\n"
     ]
    },
    {
     "name": "stderr",
     "output_type": "stream",
     "text": [
      " 15%|█▌        | 2/13 [01:42<09:58, 54.40s/it]"
     ]
    },
    {
     "name": "stdout",
     "output_type": "stream",
     "text": [
      "27/27 [==============================] - 0s 3ms/step\n",
      "27/27 [==============================] - 0s 4ms/step\n",
      "27/27 [==============================] - 0s 4ms/step\n",
      "27/27 [==============================] - 0s 4ms/step\n",
      "27/27 [==============================] - 0s 4ms/step\n"
     ]
    },
    {
     "name": "stderr",
     "output_type": "stream",
     "text": [
      " 23%|██▎       | 3/13 [02:48<09:58, 59.87s/it]"
     ]
    },
    {
     "name": "stdout",
     "output_type": "stream",
     "text": [
      "27/27 [==============================] - 1s 4ms/step\n",
      "27/27 [==============================] - 0s 4ms/step\n",
      "27/27 [==============================] - 0s 4ms/step\n",
      "27/27 [==============================] - 0s 4ms/step\n",
      "27/27 [==============================] - 0s 4ms/step\n"
     ]
    },
    {
     "name": "stderr",
     "output_type": "stream",
     "text": [
      " 31%|███       | 4/13 [04:14<10:28, 69.88s/it]"
     ]
    },
    {
     "name": "stdout",
     "output_type": "stream",
     "text": [
      "27/27 [==============================] - 1s 4ms/step\n",
      "27/27 [==============================] - 0s 4ms/step\n",
      "27/27 [==============================] - 0s 4ms/step\n",
      "27/27 [==============================] - 0s 4ms/step\n",
      "27/27 [==============================] - 0s 4ms/step\n"
     ]
    },
    {
     "name": "stderr",
     "output_type": "stream",
     "text": [
      " 38%|███▊      | 5/13 [05:44<10:17, 77.15s/it]"
     ]
    },
    {
     "name": "stdout",
     "output_type": "stream",
     "text": [
      "27/27 [==============================] - 1s 4ms/step\n",
      "27/27 [==============================] - 0s 4ms/step\n",
      "27/27 [==============================] - 0s 4ms/step\n",
      "27/27 [==============================] - 0s 4ms/step\n",
      "27/27 [==============================] - 0s 4ms/step\n"
     ]
    },
    {
     "name": "stderr",
     "output_type": "stream",
     "text": [
      " 46%|████▌     | 6/13 [07:12<09:25, 80.82s/it]"
     ]
    },
    {
     "name": "stdout",
     "output_type": "stream",
     "text": [
      "27/27 [==============================] - 1s 4ms/step\n",
      "27/27 [==============================] - 0s 4ms/step\n",
      "27/27 [==============================] - 0s 4ms/step\n",
      "27/27 [==============================] - 0s 4ms/step\n",
      "27/27 [==============================] - 0s 4ms/step\n"
     ]
    },
    {
     "name": "stderr",
     "output_type": "stream",
     "text": [
      " 54%|█████▍    | 7/13 [08:40<08:19, 83.33s/it]"
     ]
    },
    {
     "name": "stdout",
     "output_type": "stream",
     "text": [
      "27/27 [==============================] - 1s 4ms/step\n",
      "27/27 [==============================] - 0s 4ms/step\n",
      "27/27 [==============================] - 0s 4ms/step\n",
      "27/27 [==============================] - 0s 4ms/step\n",
      "27/27 [==============================] - 0s 4ms/step\n"
     ]
    },
    {
     "name": "stderr",
     "output_type": "stream",
     "text": [
      " 62%|██████▏   | 8/13 [10:09<07:05, 85.01s/it]"
     ]
    },
    {
     "name": "stdout",
     "output_type": "stream",
     "text": [
      "27/27 [==============================] - 1s 4ms/step\n",
      "27/27 [==============================] - 0s 4ms/step\n",
      "27/27 [==============================] - 0s 4ms/step\n",
      "27/27 [==============================] - 0s 4ms/step\n",
      "27/27 [==============================] - 0s 4ms/step\n"
     ]
    },
    {
     "name": "stderr",
     "output_type": "stream",
     "text": [
      " 69%|██████▉   | 9/13 [11:37<05:44, 86.14s/it]"
     ]
    },
    {
     "name": "stdout",
     "output_type": "stream",
     "text": [
      "27/27 [==============================] - 1s 4ms/step\n",
      "27/27 [==============================] - 0s 3ms/step\n",
      "27/27 [==============================] - 0s 2ms/step\n",
      "27/27 [==============================] - 0s 2ms/step\n",
      "27/27 [==============================] - 0s 2ms/step\n"
     ]
    },
    {
     "name": "stderr",
     "output_type": "stream",
     "text": [
      " 77%|███████▋  | 10/13 [12:32<03:48, 76.26s/it]"
     ]
    },
    {
     "name": "stdout",
     "output_type": "stream",
     "text": [
      "27/27 [==============================] - 1s 2ms/step\n",
      "27/27 [==============================] - 0s 3ms/step\n",
      "27/27 [==============================] - 0s 3ms/step\n",
      "27/27 [==============================] - 0s 1ms/step\n",
      "27/27 [==============================] - 0s 1ms/step\n"
     ]
    },
    {
     "name": "stderr",
     "output_type": "stream",
     "text": [
      " 85%|████████▍ | 11/13 [13:08<02:07, 63.97s/it]"
     ]
    },
    {
     "name": "stdout",
     "output_type": "stream",
     "text": [
      "27/27 [==============================] - 0s 1ms/step\n",
      "27/27 [==============================] - 0s 3ms/step\n",
      "27/27 [==============================] - 0s 2ms/step\n",
      "27/27 [==============================] - 0s 1ms/step\n",
      "27/27 [==============================] - 0s 1ms/step\n"
     ]
    },
    {
     "name": "stderr",
     "output_type": "stream",
     "text": [
      " 92%|█████████▏| 12/13 [13:35<00:52, 52.74s/it]"
     ]
    },
    {
     "name": "stdout",
     "output_type": "stream",
     "text": [
      "27/27 [==============================] - 0s 2ms/step\n",
      "27/27 [==============================] - 0s 3ms/step\n",
      "27/27 [==============================] - 0s 3ms/step\n",
      "27/27 [==============================] - 0s 2ms/step\n",
      "27/27 [==============================] - 0s 1ms/step\n"
     ]
    },
    {
     "name": "stderr",
     "output_type": "stream",
     "text": [
      "100%|██████████| 13/13 [14:10<00:00, 65.44s/it]\n",
      "  0%|          | 0/13 [00:00<?, ?it/s]"
     ]
    },
    {
     "name": "stdout",
     "output_type": "stream",
     "text": [
      "15/15 [==============================] - 0s 2ms/step\n",
      "15/15 [==============================] - 0s 2ms/step\n",
      "15/15 [==============================] - 0s 2ms/step\n",
      "15/15 [==============================] - 0s 1ms/step\n",
      "15/15 [==============================] - 0s 4ms/step\n"
     ]
    },
    {
     "name": "stderr",
     "output_type": "stream",
     "text": [
      "  8%|▊         | 1/13 [00:19<03:57, 19.78s/it]"
     ]
    },
    {
     "name": "stdout",
     "output_type": "stream",
     "text": [
      "15/15 [==============================] - 1s 4ms/step\n",
      "15/15 [==============================] - 0s 1ms/step\n",
      "15/15 [==============================] - 0s 5ms/step\n",
      "15/15 [==============================] - 0s 5ms/step\n",
      "15/15 [==============================] - 0s 5ms/step\n"
     ]
    },
    {
     "name": "stderr",
     "output_type": "stream",
     "text": [
      " 15%|█▌        | 2/13 [00:59<05:45, 31.42s/it]"
     ]
    },
    {
     "name": "stdout",
     "output_type": "stream",
     "text": [
      "15/15 [==============================] - 1s 4ms/step\n",
      "15/15 [==============================] - 0s 5ms/step\n",
      "15/15 [==============================] - 0s 5ms/step\n",
      "15/15 [==============================] - 0s 5ms/step\n",
      "15/15 [==============================] - 0s 5ms/step\n"
     ]
    },
    {
     "name": "stderr",
     "output_type": "stream",
     "text": [
      " 23%|██▎       | 3/13 [01:59<07:23, 44.35s/it]"
     ]
    },
    {
     "name": "stdout",
     "output_type": "stream",
     "text": [
      "15/15 [==============================] - 1s 5ms/step\n",
      "15/15 [==============================] - 0s 4ms/step\n",
      "15/15 [==============================] - 0s 5ms/step\n",
      "15/15 [==============================] - 0s 5ms/step\n",
      "15/15 [==============================] - 0s 5ms/step\n"
     ]
    },
    {
     "name": "stderr",
     "output_type": "stream",
     "text": [
      " 31%|███       | 4/13 [02:58<07:33, 50.41s/it]"
     ]
    },
    {
     "name": "stdout",
     "output_type": "stream",
     "text": [
      "15/15 [==============================] - 1s 5ms/step\n",
      "15/15 [==============================] - 0s 4ms/step\n",
      "15/15 [==============================] - 0s 4ms/step\n",
      "15/15 [==============================] - 0s 4ms/step\n",
      "15/15 [==============================] - 0s 1ms/step\n"
     ]
    },
    {
     "name": "stderr",
     "output_type": "stream",
     "text": [
      " 38%|███▊      | 5/13 [03:54<06:58, 52.35s/it]"
     ]
    },
    {
     "name": "stdout",
     "output_type": "stream",
     "text": [
      "15/15 [==============================] - 1s 1ms/step\n",
      "15/15 [==============================] - 0s 4ms/step\n",
      "15/15 [==============================] - 0s 4ms/step\n",
      "15/15 [==============================] - 0s 2ms/step\n",
      "15/15 [==============================] - 0s 1ms/step\n"
     ]
    },
    {
     "name": "stderr",
     "output_type": "stream",
     "text": [
      " 46%|████▌     | 6/13 [04:25<05:16, 45.15s/it]"
     ]
    },
    {
     "name": "stdout",
     "output_type": "stream",
     "text": [
      "15/15 [==============================] - 0s 2ms/step\n",
      "15/15 [==============================] - 0s 2ms/step\n",
      "15/15 [==============================] - 0s 1ms/step\n",
      "15/15 [==============================] - 0s 2ms/step\n",
      "15/15 [==============================] - 0s 2ms/step\n"
     ]
    },
    {
     "name": "stderr",
     "output_type": "stream",
     "text": [
      " 54%|█████▍    | 7/13 [04:46<03:42, 37.15s/it]"
     ]
    },
    {
     "name": "stdout",
     "output_type": "stream",
     "text": [
      "15/15 [==============================] - 0s 3ms/step\n",
      "15/15 [==============================] - 0s 1ms/step\n"
     ]
    },
    {
     "name": "stderr",
     "output_type": "stream",
     "text": [
      " 54%|█████▍    | 7/13 [05:04<04:21, 43.54s/it]\n"
     ]
    },
    {
     "ename": "KeyboardInterrupt",
     "evalue": "",
     "output_type": "error",
     "traceback": [
      "\u001b[1;31m---------------------------------------------------------------------------\u001b[0m",
      "\u001b[1;31mKeyboardInterrupt\u001b[0m                         Traceback (most recent call last)",
      "\u001b[1;32md:\\covid\\covid\\fedot.ipynb Cell 58\u001b[0m in \u001b[0;36m<cell line: 3>\u001b[1;34m()\u001b[0m\n\u001b[0;32m      <a href='vscode-notebook-cell:/d%3A/covid/covid/fedot.ipynb#Y111sZmlsZQ%3D%3D?line=5'>6</a>\u001b[0m X_param, y_param \u001b[39m=\u001b[39m data[column][\u001b[39m\"\u001b[39m\u001b[39mX\u001b[39m\u001b[39m\"\u001b[39m], data[column][\u001b[39m\"\u001b[39m\u001b[39my\u001b[39m\u001b[39m\"\u001b[39m]\n\u001b[0;32m      <a href='vscode-notebook-cell:/d%3A/covid/covid/fedot.ipynb#Y111sZmlsZQ%3D%3D?line=6'>7</a>\u001b[0m model \u001b[39m=\u001b[39m build_lstm(window, X_param\u001b[39m.\u001b[39mshape[\u001b[39m2\u001b[39m])\n\u001b[1;32m----> <a href='vscode-notebook-cell:/d%3A/covid/covid/fedot.ipynb#Y111sZmlsZQ%3D%3D?line=7'>8</a>\u001b[0m metrs \u001b[39m=\u001b[39m evaluate_with_intervals(model, X_param, y_param, rnn_args\u001b[39m=\u001b[39;49m{\u001b[39m\"\u001b[39;49m\u001b[39mepochs\u001b[39;49m\u001b[39m\"\u001b[39;49m:\u001b[39m30\u001b[39;49m, \u001b[39m\"\u001b[39;49m\u001b[39mverbose\u001b[39;49m\u001b[39m\"\u001b[39;49m:\u001b[39m0\u001b[39;49m}) \n\u001b[0;32m      <a href='vscode-notebook-cell:/d%3A/covid/covid/fedot.ipynb#Y111sZmlsZQ%3D%3D?line=8'>9</a>\u001b[0m metrs[\u001b[39m\"\u001b[39m\u001b[39mparameter\u001b[39m\u001b[39m\"\u001b[39m] \u001b[39m=\u001b[39m column\n\u001b[0;32m     <a href='vscode-notebook-cell:/d%3A/covid/covid/fedot.ipynb#Y111sZmlsZQ%3D%3D?line=9'>10</a>\u001b[0m metrs[\u001b[39m\"\u001b[39m\u001b[39mmodel\u001b[39m\u001b[39m\"\u001b[39m] \u001b[39m=\u001b[39m \u001b[39m\"\u001b[39m\u001b[39mRNN Simple on windows\u001b[39m\u001b[39m\"\u001b[39m\n",
      "\u001b[1;32md:\\covid\\covid\\fedot.ipynb Cell 58\u001b[0m in \u001b[0;36mevaluate_with_intervals\u001b[1;34m(model, X, y, folds, fedot, rnn_args)\u001b[0m\n\u001b[0;32m     <a href='vscode-notebook-cell:/d%3A/covid/covid/fedot.ipynb#Y111sZmlsZQ%3D%3D?line=34'>35</a>\u001b[0m \u001b[39mfor\u001b[39;00m train, test \u001b[39min\u001b[39;00m kf\u001b[39m.\u001b[39msplit(X, y):\n\u001b[0;32m     <a href='vscode-notebook-cell:/d%3A/covid/covid/fedot.ipynb#Y111sZmlsZQ%3D%3D?line=35'>36</a>\u001b[0m     model\u001b[39m.\u001b[39mfit(X[train], y[train], \u001b[39m*\u001b[39m\u001b[39m*\u001b[39mrnn_args)\n\u001b[1;32m---> <a href='vscode-notebook-cell:/d%3A/covid/covid/fedot.ipynb#Y111sZmlsZQ%3D%3D?line=36'>37</a>\u001b[0m     y_pred \u001b[39m=\u001b[39m model\u001b[39m.\u001b[39;49mpredict(X[test])\n\u001b[0;32m     <a href='vscode-notebook-cell:/d%3A/covid/covid/fedot.ipynb#Y111sZmlsZQ%3D%3D?line=37'>38</a>\u001b[0m     validation_data \u001b[39m=\u001b[39m get_scores( y[test], y_pred)\n\u001b[0;32m     <a href='vscode-notebook-cell:/d%3A/covid/covid/fedot.ipynb#Y111sZmlsZQ%3D%3D?line=38'>39</a>\u001b[0m     \u001b[39mfor\u001b[39;00m sc \u001b[39min\u001b[39;00m scoring_results:\n",
      "File \u001b[1;32m~\\AppData\\Roaming\\Python\\Python310\\site-packages\\keras\\utils\\traceback_utils.py:65\u001b[0m, in \u001b[0;36mfilter_traceback.<locals>.error_handler\u001b[1;34m(*args, **kwargs)\u001b[0m\n\u001b[0;32m     63\u001b[0m filtered_tb \u001b[39m=\u001b[39m \u001b[39mNone\u001b[39;00m\n\u001b[0;32m     64\u001b[0m \u001b[39mtry\u001b[39;00m:\n\u001b[1;32m---> 65\u001b[0m     \u001b[39mreturn\u001b[39;00m fn(\u001b[39m*\u001b[39margs, \u001b[39m*\u001b[39m\u001b[39m*\u001b[39mkwargs)\n\u001b[0;32m     66\u001b[0m \u001b[39mexcept\u001b[39;00m \u001b[39mException\u001b[39;00m \u001b[39mas\u001b[39;00m e:\n\u001b[0;32m     67\u001b[0m     filtered_tb \u001b[39m=\u001b[39m _process_traceback_frames(e\u001b[39m.\u001b[39m__traceback__)\n",
      "File \u001b[1;32m~\\AppData\\Roaming\\Python\\Python310\\site-packages\\keras\\engine\\training.py:2249\u001b[0m, in \u001b[0;36mModel.predict\u001b[1;34m(self, x, batch_size, verbose, steps, callbacks, max_queue_size, workers, use_multiprocessing)\u001b[0m\n\u001b[0;32m   2247\u001b[0m callbacks\u001b[39m.\u001b[39mon_predict_begin()\n\u001b[0;32m   2248\u001b[0m batch_outputs \u001b[39m=\u001b[39m \u001b[39mNone\u001b[39;00m\n\u001b[1;32m-> 2249\u001b[0m \u001b[39mfor\u001b[39;00m _, iterator \u001b[39min\u001b[39;00m data_handler\u001b[39m.\u001b[39menumerate_epochs():  \u001b[39m# Single epoch.\u001b[39;00m\n\u001b[0;32m   2250\u001b[0m     \u001b[39mwith\u001b[39;00m data_handler\u001b[39m.\u001b[39mcatch_stop_iteration():\n\u001b[0;32m   2251\u001b[0m         \u001b[39mfor\u001b[39;00m step \u001b[39min\u001b[39;00m data_handler\u001b[39m.\u001b[39msteps():\n",
      "File \u001b[1;32m~\\AppData\\Roaming\\Python\\Python310\\site-packages\\keras\\engine\\data_adapter.py:1307\u001b[0m, in \u001b[0;36mDataHandler.enumerate_epochs\u001b[1;34m(self)\u001b[0m\n\u001b[0;32m   1305\u001b[0m \u001b[39m\"\"\"Yields `(epoch, tf.data.Iterator)`.\"\"\"\u001b[39;00m\n\u001b[0;32m   1306\u001b[0m \u001b[39mwith\u001b[39;00m \u001b[39mself\u001b[39m\u001b[39m.\u001b[39m_truncate_execution_to_epoch():\n\u001b[1;32m-> 1307\u001b[0m     data_iterator \u001b[39m=\u001b[39m \u001b[39miter\u001b[39;49m(\u001b[39mself\u001b[39;49m\u001b[39m.\u001b[39;49m_dataset)\n\u001b[0;32m   1308\u001b[0m     \u001b[39mfor\u001b[39;00m epoch \u001b[39min\u001b[39;00m \u001b[39mrange\u001b[39m(\u001b[39mself\u001b[39m\u001b[39m.\u001b[39m_initial_epoch, \u001b[39mself\u001b[39m\u001b[39m.\u001b[39m_epochs):\n\u001b[0;32m   1309\u001b[0m         \u001b[39mif\u001b[39;00m \u001b[39mself\u001b[39m\u001b[39m.\u001b[39m_insufficient_data:  \u001b[39m# Set by `catch_stop_iteration`.\u001b[39;00m\n",
      "File \u001b[1;32m~\\AppData\\Roaming\\Python\\Python310\\site-packages\\tensorflow\\python\\data\\ops\\dataset_ops.py:499\u001b[0m, in \u001b[0;36mDatasetV2.__iter__\u001b[1;34m(self)\u001b[0m\n\u001b[0;32m    497\u001b[0m \u001b[39mif\u001b[39;00m context\u001b[39m.\u001b[39mexecuting_eagerly() \u001b[39mor\u001b[39;00m ops\u001b[39m.\u001b[39minside_function():\n\u001b[0;32m    498\u001b[0m   \u001b[39mwith\u001b[39;00m ops\u001b[39m.\u001b[39mcolocate_with(\u001b[39mself\u001b[39m\u001b[39m.\u001b[39m_variant_tensor):\n\u001b[1;32m--> 499\u001b[0m     \u001b[39mreturn\u001b[39;00m iterator_ops\u001b[39m.\u001b[39;49mOwnedIterator(\u001b[39mself\u001b[39;49m)\n\u001b[0;32m    500\u001b[0m \u001b[39melse\u001b[39;00m:\n\u001b[0;32m    501\u001b[0m   \u001b[39mraise\u001b[39;00m \u001b[39mRuntimeError\u001b[39;00m(\u001b[39m\"\u001b[39m\u001b[39m`tf.data.Dataset` only supports Python-style \u001b[39m\u001b[39m\"\u001b[39m\n\u001b[0;32m    502\u001b[0m                      \u001b[39m\"\u001b[39m\u001b[39miteration in eager mode or within tf.function.\u001b[39m\u001b[39m\"\u001b[39m)\n",
      "File \u001b[1;32m~\\AppData\\Roaming\\Python\\Python310\\site-packages\\tensorflow\\python\\data\\ops\\iterator_ops.py:696\u001b[0m, in \u001b[0;36mOwnedIterator.__init__\u001b[1;34m(self, dataset, components, element_spec)\u001b[0m\n\u001b[0;32m    692\u001b[0m   \u001b[39mif\u001b[39;00m (components \u001b[39mis\u001b[39;00m \u001b[39mnot\u001b[39;00m \u001b[39mNone\u001b[39;00m \u001b[39mor\u001b[39;00m element_spec \u001b[39mis\u001b[39;00m \u001b[39mnot\u001b[39;00m \u001b[39mNone\u001b[39;00m):\n\u001b[0;32m    693\u001b[0m     \u001b[39mraise\u001b[39;00m \u001b[39mValueError\u001b[39;00m(\n\u001b[0;32m    694\u001b[0m         \u001b[39m\"\u001b[39m\u001b[39mWhen `dataset` is provided, `element_spec` and `components` must \u001b[39m\u001b[39m\"\u001b[39m\n\u001b[0;32m    695\u001b[0m         \u001b[39m\"\u001b[39m\u001b[39mnot be specified.\u001b[39m\u001b[39m\"\u001b[39m)\n\u001b[1;32m--> 696\u001b[0m   \u001b[39mself\u001b[39;49m\u001b[39m.\u001b[39;49m_create_iterator(dataset)\n\u001b[0;32m    698\u001b[0m \u001b[39mself\u001b[39m\u001b[39m.\u001b[39m_get_next_call_count \u001b[39m=\u001b[39m \u001b[39m0\u001b[39m\n",
      "File \u001b[1;32m~\\AppData\\Roaming\\Python\\Python310\\site-packages\\tensorflow\\python\\data\\ops\\iterator_ops.py:721\u001b[0m, in \u001b[0;36mOwnedIterator._create_iterator\u001b[1;34m(self, dataset)\u001b[0m\n\u001b[0;32m    716\u001b[0m \u001b[39mwith\u001b[39;00m ops\u001b[39m.\u001b[39mcolocate_with(ds_variant):\n\u001b[0;32m    717\u001b[0m   \u001b[39mself\u001b[39m\u001b[39m.\u001b[39m_iterator_resource \u001b[39m=\u001b[39m (\n\u001b[0;32m    718\u001b[0m       gen_dataset_ops\u001b[39m.\u001b[39manonymous_iterator_v3(\n\u001b[0;32m    719\u001b[0m           output_types\u001b[39m=\u001b[39m\u001b[39mself\u001b[39m\u001b[39m.\u001b[39m_flat_output_types,\n\u001b[0;32m    720\u001b[0m           output_shapes\u001b[39m=\u001b[39m\u001b[39mself\u001b[39m\u001b[39m.\u001b[39m_flat_output_shapes))\n\u001b[1;32m--> 721\u001b[0m   gen_dataset_ops\u001b[39m.\u001b[39;49mmake_iterator(ds_variant, \u001b[39mself\u001b[39;49m\u001b[39m.\u001b[39;49m_iterator_resource)\n",
      "File \u001b[1;32m~\\AppData\\Roaming\\Python\\Python310\\site-packages\\tensorflow\\python\\ops\\gen_dataset_ops.py:3408\u001b[0m, in \u001b[0;36mmake_iterator\u001b[1;34m(dataset, iterator, name)\u001b[0m\n\u001b[0;32m   3406\u001b[0m \u001b[39mif\u001b[39;00m tld\u001b[39m.\u001b[39mis_eager:\n\u001b[0;32m   3407\u001b[0m   \u001b[39mtry\u001b[39;00m:\n\u001b[1;32m-> 3408\u001b[0m     _result \u001b[39m=\u001b[39m pywrap_tfe\u001b[39m.\u001b[39;49mTFE_Py_FastPathExecute(\n\u001b[0;32m   3409\u001b[0m       _ctx, \u001b[39m\"\u001b[39;49m\u001b[39mMakeIterator\u001b[39;49m\u001b[39m\"\u001b[39;49m, name, dataset, iterator)\n\u001b[0;32m   3410\u001b[0m     \u001b[39mreturn\u001b[39;00m _result\n\u001b[0;32m   3411\u001b[0m   \u001b[39mexcept\u001b[39;00m _core\u001b[39m.\u001b[39m_NotOkStatusException \u001b[39mas\u001b[39;00m e:\n",
      "\u001b[1;31mKeyboardInterrupt\u001b[0m: "
     ]
    }
   ],
   "source": [
    "parameters_validation = []\n",
    "preprocessor = RNNPreprocessClass()\n",
    "for window in [1, 2, 3, 4, 5]: \n",
    "    data = preprocessor.preprocess(df, window)\n",
    "    for column in tqdm(list(data.keys())):\n",
    "        X_param, y_param = data[column][\"X\"], data[column][\"y\"]\n",
    "        model = build_lstm(window, X_param.shape[2])\n",
    "        metrs = evaluate_with_intervals(model, X_param, y_param, rnn_args={\"epochs\":30, \"verbose\":0}) \n",
    "        metrs[\"parameter\"] = column\n",
    "        metrs[\"model\"] = \"RNN Simple on windows\"\n",
    "        metrs[\"window\"] = window\n",
    "        parameters_validation.append(metrs)\n",
    "pd.DataFrame(parameters_validation).to_csv(\"RNN.csv\")  "
   ]
  },
  {
   "cell_type": "code",
   "execution_count": null,
   "id": "f50d2f73",
   "metadata": {},
   "outputs": [
    {
     "name": "stderr",
     "output_type": "stream",
     "text": [
      "  0%|          | 0/13 [00:00<?, ?it/s]"
     ]
    },
    {
     "name": "stdout",
     "output_type": "stream",
     "text": [
      "27/27 [==============================] - 0s 1ms/step\n",
      "27/27 [==============================] - 0s 808us/step\n",
      "27/27 [==============================] - 0s 767us/step\n",
      "27/27 [==============================] - 0s 920us/step\n",
      "27/27 [==============================] - 0s 767us/step\n"
     ]
    },
    {
     "name": "stderr",
     "output_type": "stream",
     "text": [
      "  8%|▊         | 1/13 [00:21<04:13, 21.10s/it]"
     ]
    },
    {
     "name": "stdout",
     "output_type": "stream",
     "text": [
      "27/27 [==============================] - 0s 827us/step\n",
      "27/27 [==============================] - 0s 728us/step\n",
      "27/27 [==============================] - 0s 766us/step\n",
      "27/27 [==============================] - 0s 805us/step\n",
      "27/27 [==============================] - 0s 739us/step\n"
     ]
    },
    {
     "name": "stderr",
     "output_type": "stream",
     "text": [
      " 15%|█▌        | 2/13 [00:41<03:47, 20.65s/it]"
     ]
    },
    {
     "name": "stdout",
     "output_type": "stream",
     "text": [
      "27/27 [==============================] - 0s 846us/step\n",
      "27/27 [==============================] - 0s 805us/step\n",
      "27/27 [==============================] - 0s 1ms/step\n",
      "27/27 [==============================] - 0s 843us/step\n",
      "27/27 [==============================] - 0s 880us/step\n"
     ]
    },
    {
     "name": "stderr",
     "output_type": "stream",
     "text": [
      " 23%|██▎       | 3/13 [01:03<03:32, 21.23s/it]"
     ]
    },
    {
     "name": "stdout",
     "output_type": "stream",
     "text": [
      "27/27 [==============================] - 0s 835us/step\n",
      "27/27 [==============================] - 0s 767us/step\n",
      "27/27 [==============================] - 0s 805us/step\n",
      "27/27 [==============================] - 0s 728us/step\n",
      "27/27 [==============================] - 0s 767us/step\n"
     ]
    },
    {
     "name": "stderr",
     "output_type": "stream",
     "text": [
      " 31%|███       | 4/13 [01:23<03:06, 20.73s/it]"
     ]
    },
    {
     "name": "stdout",
     "output_type": "stream",
     "text": [
      "27/27 [==============================] - 0s 806us/step\n",
      "27/27 [==============================] - 0s 826us/step\n",
      "27/27 [==============================] - 0s 690us/step\n",
      "27/27 [==============================] - 0s 1ms/step\n",
      "27/27 [==============================] - 0s 728us/step\n"
     ]
    },
    {
     "name": "stderr",
     "output_type": "stream",
     "text": [
      " 38%|███▊      | 5/13 [01:44<02:46, 20.81s/it]"
     ]
    },
    {
     "name": "stdout",
     "output_type": "stream",
     "text": [
      "27/27 [==============================] - 0s 957us/step\n",
      "27/27 [==============================] - 0s 1ms/step\n",
      "27/27 [==============================] - 0s 980us/step\n",
      "27/27 [==============================] - 0s 882us/step\n",
      "27/27 [==============================] - 0s 843us/step\n"
     ]
    },
    {
     "name": "stderr",
     "output_type": "stream",
     "text": [
      " 46%|████▌     | 6/13 [02:06<02:29, 21.34s/it]"
     ]
    },
    {
     "name": "stdout",
     "output_type": "stream",
     "text": [
      "27/27 [==============================] - 0s 1ms/step\n",
      "27/27 [==============================] - 0s 962us/step\n",
      "27/27 [==============================] - 0s 805us/step\n",
      "27/27 [==============================] - 0s 843us/step\n",
      "27/27 [==============================] - 0s 767us/step\n"
     ]
    },
    {
     "name": "stderr",
     "output_type": "stream",
     "text": [
      " 54%|█████▍    | 7/13 [02:28<02:09, 21.57s/it]"
     ]
    },
    {
     "name": "stdout",
     "output_type": "stream",
     "text": [
      "27/27 [==============================] - 0s 919us/step\n",
      "27/27 [==============================] - 0s 903us/step\n",
      "27/27 [==============================] - 0s 890us/step\n",
      "27/27 [==============================] - 0s 882us/step\n",
      "27/27 [==============================] - 0s 886us/step\n"
     ]
    },
    {
     "name": "stderr",
     "output_type": "stream",
     "text": [
      " 62%|██████▏   | 8/13 [02:50<01:48, 21.71s/it]"
     ]
    },
    {
     "name": "stdout",
     "output_type": "stream",
     "text": [
      "27/27 [==============================] - 0s 832us/step\n",
      "27/27 [==============================] - 0s 882us/step\n",
      "27/27 [==============================] - 0s 739us/step\n",
      "27/27 [==============================] - 0s 766us/step\n",
      "27/27 [==============================] - 0s 793us/step\n"
     ]
    },
    {
     "name": "stderr",
     "output_type": "stream",
     "text": [
      " 69%|██████▉   | 9/13 [03:11<01:26, 21.58s/it]"
     ]
    },
    {
     "name": "stdout",
     "output_type": "stream",
     "text": [
      "27/27 [==============================] - 0s 864us/step\n",
      "27/27 [==============================] - 0s 861us/step\n",
      "27/27 [==============================] - 0s 909us/step\n",
      "27/27 [==============================] - 0s 767us/step\n",
      "27/27 [==============================] - 0s 892us/step\n"
     ]
    },
    {
     "name": "stderr",
     "output_type": "stream",
     "text": [
      " 77%|███████▋  | 10/13 [03:31<01:03, 21.08s/it]"
     ]
    },
    {
     "name": "stdout",
     "output_type": "stream",
     "text": [
      "27/27 [==============================] - 0s 883us/step\n",
      "27/27 [==============================] - 0s 780us/step\n",
      "27/27 [==============================] - 0s 875us/step\n",
      "27/27 [==============================] - 0s 782us/step\n",
      "27/27 [==============================] - 0s 780us/step\n"
     ]
    },
    {
     "name": "stderr",
     "output_type": "stream",
     "text": [
      " 85%|████████▍ | 11/13 [03:52<00:42, 21.05s/it]"
     ]
    },
    {
     "name": "stdout",
     "output_type": "stream",
     "text": [
      "27/27 [==============================] - 0s 943us/step\n",
      "27/27 [==============================] - 0s 767us/step\n",
      "27/27 [==============================] - 0s 882us/step\n",
      "27/27 [==============================] - 0s 821us/step\n",
      "27/27 [==============================] - 0s 851us/step\n"
     ]
    },
    {
     "name": "stderr",
     "output_type": "stream",
     "text": [
      " 92%|█████████▏| 12/13 [04:13<00:20, 20.81s/it]"
     ]
    },
    {
     "name": "stdout",
     "output_type": "stream",
     "text": [
      "27/27 [==============================] - 0s 799us/step\n",
      "27/27 [==============================] - 0s 796us/step\n",
      "27/27 [==============================] - 0s 728us/step\n",
      "27/27 [==============================] - 0s 959us/step\n",
      "27/27 [==============================] - 0s 882us/step\n"
     ]
    },
    {
     "name": "stderr",
     "output_type": "stream",
     "text": [
      "100%|██████████| 13/13 [04:34<00:00, 21.12s/it]\n",
      "  0%|          | 0/13 [00:00<?, ?it/s]"
     ]
    },
    {
     "name": "stdout",
     "output_type": "stream",
     "text": [
      "15/15 [==============================] - 0s 925us/step\n",
      "15/15 [==============================] - 0s 951us/step\n",
      "15/15 [==============================] - 0s 956us/step\n",
      "15/15 [==============================] - 0s 929us/step\n",
      "15/15 [==============================] - 0s 1ms/step\n"
     ]
    },
    {
     "name": "stderr",
     "output_type": "stream",
     "text": [
      "  8%|▊         | 1/13 [00:13<02:47, 13.98s/it]"
     ]
    },
    {
     "name": "stdout",
     "output_type": "stream",
     "text": [
      "15/15 [==============================] - 0s 1ms/step\n",
      "15/15 [==============================] - 0s 942us/step\n",
      "15/15 [==============================] - 0s 996us/step\n",
      "15/15 [==============================] - 0s 1ms/step\n",
      "15/15 [==============================] - 0s 975us/step\n"
     ]
    },
    {
     "name": "stderr",
     "output_type": "stream",
     "text": [
      " 15%|█▌        | 2/13 [00:28<02:39, 14.48s/it]"
     ]
    },
    {
     "name": "stdout",
     "output_type": "stream",
     "text": [
      "15/15 [==============================] - 0s 1ms/step\n",
      "15/15 [==============================] - 0s 861us/step\n",
      "15/15 [==============================] - 0s 983us/step\n",
      "15/15 [==============================] - 0s 1ms/step\n",
      "15/15 [==============================] - 0s 1ms/step\n"
     ]
    },
    {
     "name": "stderr",
     "output_type": "stream",
     "text": [
      " 23%|██▎       | 3/13 [00:43<02:27, 14.75s/it]"
     ]
    },
    {
     "name": "stdout",
     "output_type": "stream",
     "text": [
      "15/15 [==============================] - 0s 1ms/step\n",
      "15/15 [==============================] - 0s 1ms/step\n",
      "15/15 [==============================] - 0s 925us/step\n",
      "15/15 [==============================] - 0s 855us/step\n",
      "15/15 [==============================] - 0s 997us/step\n"
     ]
    },
    {
     "name": "stderr",
     "output_type": "stream",
     "text": [
      " 31%|███       | 4/13 [01:00<02:17, 15.31s/it]"
     ]
    },
    {
     "name": "stdout",
     "output_type": "stream",
     "text": [
      "15/15 [==============================] - 0s 1ms/step\n",
      "15/15 [==============================] - 0s 997us/step\n",
      "15/15 [==============================] - 0s 997us/step\n",
      "15/15 [==============================] - 0s 973us/step\n",
      "15/15 [==============================] - 0s 1ms/step\n"
     ]
    },
    {
     "name": "stderr",
     "output_type": "stream",
     "text": [
      " 38%|███▊      | 5/13 [01:15<02:01, 15.24s/it]"
     ]
    },
    {
     "name": "stdout",
     "output_type": "stream",
     "text": [
      "15/15 [==============================] - 0s 1ms/step\n",
      "15/15 [==============================] - 0s 808us/step\n",
      "15/15 [==============================] - 0s 978us/step\n",
      "15/15 [==============================] - 0s 959us/step\n",
      "15/15 [==============================] - 0s 947us/step\n"
     ]
    },
    {
     "name": "stderr",
     "output_type": "stream",
     "text": [
      " 46%|████▌     | 6/13 [01:29<01:43, 14.83s/it]"
     ]
    },
    {
     "name": "stdout",
     "output_type": "stream",
     "text": [
      "15/15 [==============================] - 0s 1ms/step\n",
      "15/15 [==============================] - 0s 925us/step\n",
      "15/15 [==============================] - 0s 854us/step\n",
      "15/15 [==============================] - 0s 1ms/step\n",
      "15/15 [==============================] - 0s 942us/step\n"
     ]
    },
    {
     "name": "stderr",
     "output_type": "stream",
     "text": [
      " 54%|█████▍    | 7/13 [01:42<01:26, 14.48s/it]"
     ]
    },
    {
     "name": "stdout",
     "output_type": "stream",
     "text": [
      "15/15 [==============================] - 0s 1ms/step\n",
      "15/15 [==============================] - 0s 1ms/step\n",
      "15/15 [==============================] - 0s 997us/step\n",
      "15/15 [==============================] - 0s 997us/step\n",
      "15/15 [==============================] - 0s 926us/step\n"
     ]
    },
    {
     "name": "stderr",
     "output_type": "stream",
     "text": [
      " 62%|██████▏   | 8/13 [01:56<01:11, 14.25s/it]"
     ]
    },
    {
     "name": "stdout",
     "output_type": "stream",
     "text": [
      "15/15 [==============================] - 0s 1ms/step\n",
      "15/15 [==============================] - 0s 997us/step\n",
      "15/15 [==============================] - 0s 1ms/step\n",
      "15/15 [==============================] - 0s 997us/step\n",
      "15/15 [==============================] - 0s 968us/step\n"
     ]
    },
    {
     "name": "stderr",
     "output_type": "stream",
     "text": [
      " 69%|██████▉   | 9/13 [02:11<00:57, 14.36s/it]"
     ]
    },
    {
     "name": "stdout",
     "output_type": "stream",
     "text": [
      "15/15 [==============================] - 0s 920us/step\n",
      "15/15 [==============================] - 0s 1ms/step\n",
      "15/15 [==============================] - 0s 997us/step\n",
      "15/15 [==============================] - 0s 1ms/step\n",
      "15/15 [==============================] - 0s 1ms/step\n"
     ]
    },
    {
     "name": "stderr",
     "output_type": "stream",
     "text": [
      " 77%|███████▋  | 10/13 [02:26<00:43, 14.49s/it]"
     ]
    },
    {
     "name": "stdout",
     "output_type": "stream",
     "text": [
      "15/15 [==============================] - 1s 1ms/step\n",
      "15/15 [==============================] - 0s 997us/step\n",
      "15/15 [==============================] - 0s 951us/step\n",
      "15/15 [==============================] - 0s 1ms/step\n",
      "15/15 [==============================] - 0s 1ms/step\n"
     ]
    },
    {
     "name": "stderr",
     "output_type": "stream",
     "text": [
      " 85%|████████▍ | 11/13 [02:42<00:30, 15.08s/it]"
     ]
    },
    {
     "name": "stdout",
     "output_type": "stream",
     "text": [
      "15/15 [==============================] - 0s 1ms/step\n",
      "15/15 [==============================] - 0s 1ms/step\n",
      "15/15 [==============================] - 0s 1ms/step\n",
      "15/15 [==============================] - 0s 926us/step\n",
      "15/15 [==============================] - 0s 1ms/step\n"
     ]
    },
    {
     "name": "stderr",
     "output_type": "stream",
     "text": [
      " 92%|█████████▏| 12/13 [02:58<00:15, 15.42s/it]"
     ]
    },
    {
     "name": "stdout",
     "output_type": "stream",
     "text": [
      "15/15 [==============================] - 0s 2ms/step\n",
      "15/15 [==============================] - 0s 946us/step\n",
      "15/15 [==============================] - 0s 2ms/step\n",
      "15/15 [==============================] - 0s 1ms/step\n",
      "15/15 [==============================] - 0s 1ms/step\n"
     ]
    },
    {
     "name": "stderr",
     "output_type": "stream",
     "text": [
      "100%|██████████| 13/13 [03:13<00:00, 14.90s/it]\n",
      "  0%|          | 0/13 [00:00<?, ?it/s]"
     ]
    },
    {
     "name": "stdout",
     "output_type": "stream",
     "text": [
      "6/6 [==============================] - 0s 2ms/step\n",
      "6/6 [==============================] - 0s 1ms/step\n",
      "6/6 [==============================] - 0s 1ms/step\n",
      "6/6 [==============================] - 0s 2ms/step\n",
      "6/6 [==============================] - 0s 2ms/step\n"
     ]
    },
    {
     "name": "stderr",
     "output_type": "stream",
     "text": [
      "  8%|▊         | 1/13 [00:08<01:42,  8.52s/it]"
     ]
    },
    {
     "name": "stdout",
     "output_type": "stream",
     "text": [
      "6/6 [==============================] - 0s 1ms/step\n",
      "6/6 [==============================] - 0s 2ms/step\n",
      "6/6 [==============================] - 0s 2ms/step\n",
      "6/6 [==============================] - 0s 2ms/step\n",
      "6/6 [==============================] - 0s 1ms/step\n"
     ]
    },
    {
     "name": "stderr",
     "output_type": "stream",
     "text": [
      " 15%|█▌        | 2/13 [00:17<01:33,  8.53s/it]"
     ]
    },
    {
     "name": "stdout",
     "output_type": "stream",
     "text": [
      "6/6 [==============================] - 0s 2ms/step\n",
      "6/6 [==============================] - 0s 1ms/step\n",
      "6/6 [==============================] - 0s 2ms/step\n",
      "6/6 [==============================] - 0s 1ms/step\n",
      "6/6 [==============================] - 0s 2ms/step\n"
     ]
    },
    {
     "name": "stderr",
     "output_type": "stream",
     "text": [
      " 23%|██▎       | 3/13 [00:25<01:24,  8.45s/it]"
     ]
    },
    {
     "name": "stdout",
     "output_type": "stream",
     "text": [
      "6/6 [==============================] - 0s 2ms/step\n",
      "6/6 [==============================] - 0s 1ms/step\n",
      "6/6 [==============================] - 0s 1ms/step\n",
      "6/6 [==============================] - 0s 1ms/step\n",
      "6/6 [==============================] - 0s 2ms/step\n"
     ]
    },
    {
     "name": "stderr",
     "output_type": "stream",
     "text": [
      " 31%|███       | 4/13 [00:33<01:15,  8.39s/it]"
     ]
    },
    {
     "name": "stdout",
     "output_type": "stream",
     "text": [
      "6/6 [==============================] - 0s 2ms/step\n",
      "6/6 [==============================] - 0s 1ms/step\n",
      "6/6 [==============================] - 0s 2ms/step\n",
      "6/6 [==============================] - 0s 1ms/step\n",
      "6/6 [==============================] - 0s 1ms/step\n"
     ]
    },
    {
     "name": "stderr",
     "output_type": "stream",
     "text": [
      " 38%|███▊      | 5/13 [00:42<01:09,  8.66s/it]"
     ]
    },
    {
     "name": "stdout",
     "output_type": "stream",
     "text": [
      "6/6 [==============================] - 0s 2ms/step\n",
      "6/6 [==============================] - 0s 2ms/step\n",
      "6/6 [==============================] - 0s 2ms/step\n",
      "6/6 [==============================] - 0s 2ms/step\n",
      "6/6 [==============================] - 0s 2ms/step\n"
     ]
    },
    {
     "name": "stderr",
     "output_type": "stream",
     "text": [
      " 46%|████▌     | 6/13 [00:52<01:02,  8.88s/it]"
     ]
    },
    {
     "name": "stdout",
     "output_type": "stream",
     "text": [
      "6/6 [==============================] - 0s 2ms/step\n",
      "6/6 [==============================] - 0s 2ms/step\n",
      "6/6 [==============================] - 0s 1ms/step\n",
      "6/6 [==============================] - 0s 1ms/step\n",
      "6/6 [==============================] - 0s 2ms/step\n"
     ]
    },
    {
     "name": "stderr",
     "output_type": "stream",
     "text": [
      " 54%|█████▍    | 7/13 [01:01<00:53,  8.96s/it]"
     ]
    },
    {
     "name": "stdout",
     "output_type": "stream",
     "text": [
      "6/6 [==============================] - 0s 2ms/step\n",
      "6/6 [==============================] - 0s 2ms/step\n",
      "6/6 [==============================] - 0s 1ms/step\n",
      "6/6 [==============================] - 0s 1ms/step\n",
      "6/6 [==============================] - 0s 1ms/step\n"
     ]
    },
    {
     "name": "stderr",
     "output_type": "stream",
     "text": [
      " 62%|██████▏   | 8/13 [01:09<00:44,  8.86s/it]"
     ]
    },
    {
     "name": "stdout",
     "output_type": "stream",
     "text": [
      "6/6 [==============================] - 0s 1ms/step\n",
      "6/6 [==============================] - 0s 1ms/step\n",
      "6/6 [==============================] - 0s 1ms/step\n",
      "6/6 [==============================] - 0s 1ms/step\n",
      "6/6 [==============================] - 0s 2ms/step\n"
     ]
    },
    {
     "name": "stderr",
     "output_type": "stream",
     "text": [
      " 69%|██████▉   | 9/13 [01:19<00:35,  8.93s/it]"
     ]
    },
    {
     "name": "stdout",
     "output_type": "stream",
     "text": [
      "6/6 [==============================] - 0s 2ms/step\n",
      "6/6 [==============================] - 0s 2ms/step\n",
      "6/6 [==============================] - 0s 1ms/step\n",
      "6/6 [==============================] - 0s 2ms/step\n",
      "6/6 [==============================] - 0s 2ms/step\n"
     ]
    },
    {
     "name": "stderr",
     "output_type": "stream",
     "text": [
      " 77%|███████▋  | 10/13 [01:29<00:28,  9.35s/it]"
     ]
    },
    {
     "name": "stdout",
     "output_type": "stream",
     "text": [
      "6/6 [==============================] - 0s 2ms/step\n",
      "6/6 [==============================] - 0s 2ms/step\n",
      "6/6 [==============================] - 0s 2ms/step\n",
      "6/6 [==============================] - 0s 2ms/step\n",
      "6/6 [==============================] - 0s 2ms/step\n"
     ]
    },
    {
     "name": "stderr",
     "output_type": "stream",
     "text": [
      " 85%|████████▍ | 11/13 [01:39<00:19,  9.72s/it]"
     ]
    },
    {
     "name": "stdout",
     "output_type": "stream",
     "text": [
      "6/6 [==============================] - 0s 2ms/step\n",
      "6/6 [==============================] - 0s 3ms/step\n",
      "6/6 [==============================] - 0s 2ms/step\n",
      "6/6 [==============================] - 0s 1ms/step\n",
      "6/6 [==============================] - 0s 2ms/step\n"
     ]
    },
    {
     "name": "stderr",
     "output_type": "stream",
     "text": [
      " 92%|█████████▏| 12/13 [01:51<00:10, 10.33s/it]"
     ]
    },
    {
     "name": "stdout",
     "output_type": "stream",
     "text": [
      "6/6 [==============================] - 1s 2ms/step\n",
      "6/6 [==============================] - 0s 2ms/step\n",
      "6/6 [==============================] - 0s 2ms/step\n",
      "6/6 [==============================] - 0s 2ms/step\n",
      "6/6 [==============================] - 0s 2ms/step\n"
     ]
    },
    {
     "name": "stderr",
     "output_type": "stream",
     "text": [
      "100%|██████████| 13/13 [02:03<00:00,  9.52s/it]\n",
      "  0%|          | 0/13 [00:00<?, ?it/s]"
     ]
    },
    {
     "name": "stdout",
     "output_type": "stream",
     "text": [
      "3/3 [==============================] - 0s 3ms/step\n",
      "3/3 [==============================] - 0s 2ms/step\n",
      "3/3 [==============================] - 0s 3ms/step\n",
      "3/3 [==============================] - 0s 4ms/step\n",
      "3/3 [==============================] - 0s 2ms/step\n"
     ]
    },
    {
     "name": "stderr",
     "output_type": "stream",
     "text": [
      "  8%|▊         | 1/13 [00:06<01:14,  6.20s/it]"
     ]
    },
    {
     "name": "stdout",
     "output_type": "stream",
     "text": [
      "3/3 [==============================] - 0s 2ms/step\n",
      "3/3 [==============================] - 0s 2ms/step\n",
      "3/3 [==============================] - 0s 2ms/step\n",
      "3/3 [==============================] - 0s 2ms/step\n",
      "3/3 [==============================] - 0s 2ms/step\n"
     ]
    },
    {
     "name": "stderr",
     "output_type": "stream",
     "text": [
      " 15%|█▌        | 2/13 [00:12<01:08,  6.27s/it]"
     ]
    },
    {
     "name": "stdout",
     "output_type": "stream",
     "text": [
      "3/3 [==============================] - 0s 3ms/step\n",
      "3/3 [==============================] - 0s 4ms/step\n",
      "3/3 [==============================] - 0s 2ms/step\n",
      "3/3 [==============================] - 0s 4ms/step\n",
      "3/3 [==============================] - 0s 2ms/step\n"
     ]
    },
    {
     "name": "stderr",
     "output_type": "stream",
     "text": [
      " 23%|██▎       | 3/13 [00:20<01:08,  6.85s/it]"
     ]
    },
    {
     "name": "stdout",
     "output_type": "stream",
     "text": [
      "3/3 [==============================] - 0s 2ms/step\n",
      "3/3 [==============================] - 0s 2ms/step\n",
      "3/3 [==============================] - 0s 2ms/step\n",
      "3/3 [==============================] - 0s 2ms/step\n",
      "3/3 [==============================] - 0s 2ms/step\n"
     ]
    },
    {
     "name": "stderr",
     "output_type": "stream",
     "text": [
      " 31%|███       | 4/13 [00:26<01:00,  6.69s/it]"
     ]
    },
    {
     "name": "stdout",
     "output_type": "stream",
     "text": [
      "3/3 [==============================] - 0s 2ms/step\n",
      "3/3 [==============================] - 0s 2ms/step\n",
      "3/3 [==============================] - 0s 2ms/step\n",
      "3/3 [==============================] - 0s 2ms/step\n",
      "3/3 [==============================] - 0s 3ms/step\n"
     ]
    },
    {
     "name": "stderr",
     "output_type": "stream",
     "text": [
      " 38%|███▊      | 5/13 [00:31<00:48,  6.09s/it]"
     ]
    },
    {
     "name": "stdout",
     "output_type": "stream",
     "text": [
      "3/3 [==============================] - 0s 2ms/step\n",
      "3/3 [==============================] - 0s 1ms/step\n",
      "3/3 [==============================] - 0s 1ms/step\n",
      "3/3 [==============================] - 0s 2ms/step\n",
      "3/3 [==============================] - 0s 2ms/step\n"
     ]
    },
    {
     "name": "stderr",
     "output_type": "stream",
     "text": [
      " 46%|████▌     | 6/13 [00:36<00:40,  5.76s/it]"
     ]
    },
    {
     "name": "stdout",
     "output_type": "stream",
     "text": [
      "3/3 [==============================] - 0s 2ms/step\n",
      "3/3 [==============================] - 0s 2ms/step\n",
      "3/3 [==============================] - 0s 1ms/step\n",
      "3/3 [==============================] - 0s 1ms/step\n",
      "3/3 [==============================] - 0s 1ms/step\n"
     ]
    },
    {
     "name": "stderr",
     "output_type": "stream",
     "text": [
      " 54%|█████▍    | 7/13 [00:41<00:32,  5.49s/it]"
     ]
    },
    {
     "name": "stdout",
     "output_type": "stream",
     "text": [
      "3/3 [==============================] - 0s 2ms/step\n",
      "3/3 [==============================] - 0s 2ms/step\n",
      "3/3 [==============================] - 0s 2ms/step\n",
      "3/3 [==============================] - 0s 2ms/step\n",
      "3/3 [==============================] - 0s 3ms/step\n"
     ]
    },
    {
     "name": "stderr",
     "output_type": "stream",
     "text": [
      " 62%|██████▏   | 8/13 [00:46<00:26,  5.30s/it]"
     ]
    },
    {
     "name": "stdout",
     "output_type": "stream",
     "text": [
      "3/3 [==============================] - 0s 2ms/step\n",
      "3/3 [==============================] - 0s 3ms/step\n",
      "3/3 [==============================] - 0s 2ms/step\n",
      "3/3 [==============================] - 0s 2ms/step\n",
      "3/3 [==============================] - 0s 2ms/step\n"
     ]
    },
    {
     "name": "stderr",
     "output_type": "stream",
     "text": [
      " 69%|██████▉   | 9/13 [00:52<00:21,  5.40s/it]"
     ]
    },
    {
     "name": "stdout",
     "output_type": "stream",
     "text": [
      "3/3 [==============================] - 0s 1ms/step\n",
      "3/3 [==============================] - 0s 2ms/step\n",
      "3/3 [==============================] - 0s 2ms/step\n",
      "3/3 [==============================] - 0s 2ms/step\n",
      "3/3 [==============================] - 0s 4ms/step\n"
     ]
    },
    {
     "name": "stderr",
     "output_type": "stream",
     "text": [
      " 77%|███████▋  | 10/13 [00:57<00:16,  5.53s/it]"
     ]
    },
    {
     "name": "stdout",
     "output_type": "stream",
     "text": [
      "3/3 [==============================] - 0s 3ms/step\n",
      "3/3 [==============================] - 0s 2ms/step\n",
      "3/3 [==============================] - 0s 2ms/step\n",
      "3/3 [==============================] - 0s 2ms/step\n",
      "3/3 [==============================] - 0s 2ms/step\n"
     ]
    },
    {
     "name": "stderr",
     "output_type": "stream",
     "text": [
      " 85%|████████▍ | 11/13 [01:03<00:10,  5.43s/it]"
     ]
    },
    {
     "name": "stdout",
     "output_type": "stream",
     "text": [
      "3/3 [==============================] - 0s 2ms/step\n",
      "3/3 [==============================] - 0s 2ms/step\n",
      "3/3 [==============================] - 0s 2ms/step\n",
      "3/3 [==============================] - 0s 2ms/step\n",
      "3/3 [==============================] - 0s 1ms/step\n"
     ]
    },
    {
     "name": "stderr",
     "output_type": "stream",
     "text": [
      " 92%|█████████▏| 12/13 [01:08<00:05,  5.56s/it]"
     ]
    },
    {
     "name": "stdout",
     "output_type": "stream",
     "text": [
      "3/3 [==============================] - 0s 3ms/step\n",
      "3/3 [==============================] - 0s 2ms/step\n",
      "3/3 [==============================] - 0s 2ms/step\n",
      "3/3 [==============================] - 0s 1ms/step\n",
      "3/3 [==============================] - 0s 3ms/step\n"
     ]
    },
    {
     "name": "stderr",
     "output_type": "stream",
     "text": [
      "100%|██████████| 13/13 [01:13<00:00,  5.69s/it]\n",
      "  0%|          | 0/13 [00:00<?, ?it/s]"
     ]
    },
    {
     "name": "stdout",
     "output_type": "stream",
     "text": [
      "2/2 [==============================] - 0s 2ms/step\n",
      "2/2 [==============================] - 0s 3ms/step\n",
      "2/2 [==============================] - 0s 3ms/step\n",
      "2/2 [==============================] - 0s 4ms/step\n",
      "2/2 [==============================] - 0s 4ms/step\n"
     ]
    },
    {
     "name": "stderr",
     "output_type": "stream",
     "text": [
      "  8%|▊         | 1/13 [00:04<00:50,  4.20s/it]"
     ]
    },
    {
     "name": "stdout",
     "output_type": "stream",
     "text": [
      "2/2 [==============================] - 0s 3ms/step\n",
      "2/2 [==============================] - 0s 3ms/step\n",
      "2/2 [==============================] - 0s 2ms/step\n",
      "2/2 [==============================] - 0s 3ms/step\n",
      "2/2 [==============================] - 0s 2ms/step\n"
     ]
    },
    {
     "name": "stderr",
     "output_type": "stream",
     "text": [
      " 15%|█▌        | 2/13 [00:08<00:46,  4.23s/it]"
     ]
    },
    {
     "name": "stdout",
     "output_type": "stream",
     "text": [
      "2/2 [==============================] - 0s 3ms/step\n",
      "2/2 [==============================] - 0s 2ms/step\n",
      "2/2 [==============================] - 0s 3ms/step\n",
      "2/2 [==============================] - 0s 4ms/step\n",
      "2/2 [==============================] - 0s 997us/step\n"
     ]
    },
    {
     "name": "stderr",
     "output_type": "stream",
     "text": [
      " 23%|██▎       | 3/13 [00:12<00:42,  4.21s/it]"
     ]
    },
    {
     "name": "stdout",
     "output_type": "stream",
     "text": [
      "2/2 [==============================] - 0s 3ms/step\n",
      "2/2 [==============================] - 0s 3ms/step\n",
      "2/2 [==============================] - 0s 2ms/step\n",
      "2/2 [==============================] - 0s 3ms/step\n",
      "2/2 [==============================] - 0s 3ms/step\n"
     ]
    },
    {
     "name": "stderr",
     "output_type": "stream",
     "text": [
      " 31%|███       | 4/13 [00:16<00:37,  4.15s/it]"
     ]
    },
    {
     "name": "stdout",
     "output_type": "stream",
     "text": [
      "2/2 [==============================] - 0s 3ms/step\n",
      "2/2 [==============================] - 0s 3ms/step\n",
      "2/2 [==============================] - 0s 3ms/step\n",
      "2/2 [==============================] - 0s 3ms/step\n",
      "2/2 [==============================] - 0s 3ms/step\n"
     ]
    },
    {
     "name": "stderr",
     "output_type": "stream",
     "text": [
      " 38%|███▊      | 5/13 [00:21<00:35,  4.41s/it]"
     ]
    },
    {
     "name": "stdout",
     "output_type": "stream",
     "text": [
      "2/2 [==============================] - 0s 3ms/step\n",
      "2/2 [==============================] - 0s 2ms/step\n",
      "2/2 [==============================] - 0s 3ms/step\n",
      "2/2 [==============================] - 0s 2ms/step\n",
      "2/2 [==============================] - 0s 3ms/step\n"
     ]
    },
    {
     "name": "stderr",
     "output_type": "stream",
     "text": [
      " 46%|████▌     | 6/13 [00:25<00:30,  4.36s/it]"
     ]
    },
    {
     "name": "stdout",
     "output_type": "stream",
     "text": [
      "2/2 [==============================] - 0s 3ms/step\n",
      "2/2 [==============================] - 0s 3ms/step\n",
      "2/2 [==============================] - 0s 4ms/step\n",
      "2/2 [==============================] - 0s 4ms/step\n",
      "2/2 [==============================] - 0s 3ms/step\n"
     ]
    },
    {
     "name": "stderr",
     "output_type": "stream",
     "text": [
      " 54%|█████▍    | 7/13 [00:30<00:26,  4.38s/it]"
     ]
    },
    {
     "name": "stdout",
     "output_type": "stream",
     "text": [
      "2/2 [==============================] - 0s 3ms/step\n",
      "2/2 [==============================] - 0s 2ms/step\n",
      "2/2 [==============================] - 0s 4ms/step\n",
      "2/2 [==============================] - 0s 3ms/step\n",
      "2/2 [==============================] - 0s 4ms/step\n"
     ]
    },
    {
     "name": "stderr",
     "output_type": "stream",
     "text": [
      " 62%|██████▏   | 8/13 [00:34<00:21,  4.35s/it]"
     ]
    },
    {
     "name": "stdout",
     "output_type": "stream",
     "text": [
      "2/2 [==============================] - 0s 4ms/step\n",
      "2/2 [==============================] - 0s 2ms/step\n",
      "2/2 [==============================] - 0s 3ms/step\n",
      "2/2 [==============================] - 0s 2ms/step\n",
      "2/2 [==============================] - 0s 3ms/step\n"
     ]
    },
    {
     "name": "stderr",
     "output_type": "stream",
     "text": [
      " 69%|██████▉   | 9/13 [00:38<00:17,  4.30s/it]"
     ]
    },
    {
     "name": "stdout",
     "output_type": "stream",
     "text": [
      "2/2 [==============================] - 0s 3ms/step\n",
      "2/2 [==============================] - 0s 3ms/step\n",
      "2/2 [==============================] - 0s 2ms/step\n",
      "2/2 [==============================] - 0s 2ms/step\n",
      "2/2 [==============================] - 0s 2ms/step\n"
     ]
    },
    {
     "name": "stderr",
     "output_type": "stream",
     "text": [
      " 77%|███████▋  | 10/13 [00:43<00:12,  4.29s/it]"
     ]
    },
    {
     "name": "stdout",
     "output_type": "stream",
     "text": [
      "2/2 [==============================] - 0s 3ms/step\n",
      "2/2 [==============================] - 0s 3ms/step\n",
      "2/2 [==============================] - 0s 2ms/step\n",
      "2/2 [==============================] - 0s 3ms/step\n",
      "2/2 [==============================] - 0s 2ms/step\n"
     ]
    },
    {
     "name": "stderr",
     "output_type": "stream",
     "text": [
      " 85%|████████▍ | 11/13 [00:47<00:08,  4.21s/it]"
     ]
    },
    {
     "name": "stdout",
     "output_type": "stream",
     "text": [
      "2/2 [==============================] - 0s 3ms/step\n",
      "2/2 [==============================] - 0s 2ms/step\n",
      "2/2 [==============================] - 0s 3ms/step\n",
      "2/2 [==============================] - 0s 2ms/step\n",
      "2/2 [==============================] - 0s 2ms/step\n"
     ]
    },
    {
     "name": "stderr",
     "output_type": "stream",
     "text": [
      " 92%|█████████▏| 12/13 [00:51<00:04,  4.34s/it]"
     ]
    },
    {
     "name": "stdout",
     "output_type": "stream",
     "text": [
      "2/2 [==============================] - 0s 3ms/step\n",
      "2/2 [==============================] - 0s 3ms/step\n",
      "2/2 [==============================] - 0s 2ms/step\n",
      "2/2 [==============================] - 0s 3ms/step\n",
      "2/2 [==============================] - 0s 3ms/step\n"
     ]
    },
    {
     "name": "stderr",
     "output_type": "stream",
     "text": [
      "100%|██████████| 13/13 [00:55<00:00,  4.31s/it]\n"
     ]
    }
   ],
   "source": [
    "parameters_validation = []\n",
    "preprocessor = RNNPreprocessClass()\n",
    "for window in [1, 2, 3, 4, 5]: \n",
    "    data = preprocessor.preprocess(df, window)\n",
    "    for column in tqdm(list(data.keys())):\n",
    "        X_param, y_param = data[column][\"X\"], data[column][\"y\"]\n",
    "        model = build_lstm(window, X_param.shape[2])\n",
    "        metrs = evaluate_with_intervals(model, X_param, y_param, rnn_args={\"epochs\":30, \"verbose\":0}) \n",
    "        metrs[\"parameter\"] = column\n",
    "        metrs[\"model\"] = \"LSTM on windows\"\n",
    "        metrs[\"window\"] = window\n",
    "        parameters_validation.append(metrs)\n",
    "pd.DataFrame(parameters_validation).to_csv(\"LSTM.csv\")  "
   ]
  },
  {
   "cell_type": "markdown",
   "id": "6c8059bf-3943-469f-be34-778e5fda3d01",
   "metadata": {},
   "source": [
    "### HistGradientBoostingRegressor"
   ]
  },
  {
   "cell_type": "markdown",
   "id": "da44f69b-6fcc-49eb-9873-30387376c097",
   "metadata": {},
   "source": [
    "Сделаем модели на каждый параметр с простенькой моделью HistGradientBoostingRegressor (она единственная из sklearn ргегрессоров поддерживает NaN)"
   ]
  },
  {
   "cell_type": "code",
   "execution_count": 32,
   "id": "91349793",
   "metadata": {},
   "outputs": [],
   "source": [
    "class HistGradientBoostingRegressorPreprocessor():\n",
    "    def preprocess(self, df, window=2):\n",
    "        data = get_windows(df.copy(), window)\n",
    "        for i, column in enumerate(data.keys()):\n",
    "            data[column][\"X\"] = data[column][\"X\"].reshape(-1, 47*window)\n",
    "        return data"
   ]
  },
  {
   "cell_type": "code",
   "execution_count": 33,
   "id": "3eb246dc-3ccc-43eb-a7ce-ee8694c1cdf1",
   "metadata": {
    "tags": []
   },
   "outputs": [
    {
     "name": "stderr",
     "output_type": "stream",
     "text": [
      "100%|██████████| 13/13 [01:55<00:00,  8.92s/it]\n",
      "100%|██████████| 13/13 [02:55<00:00, 13.46s/it]\n",
      "100%|██████████| 13/13 [04:14<00:00, 19.58s/it]\n",
      "100%|██████████| 13/13 [02:17<00:00, 10.59s/it]\n",
      "100%|██████████| 13/13 [01:24<00:00,  6.49s/it]\n"
     ]
    }
   ],
   "source": [
    "from sklearn.ensemble import HistGradientBoostingRegressor\n",
    "parameters_validation = []\n",
    "preprocessor = HistGradientBoostingRegressorPreprocessor()\n",
    "for window in [1, 2, 3, 4, 5]: \n",
    "    data = preprocessor.preprocess(df, window)\n",
    "    for column in tqdm(list(data.keys())):\n",
    "        X_param, y_param = data[column][\"X\"], data[column][\"y\"]\n",
    "        model = HistGradientBoostingRegressor()\n",
    "        metrs = evaluate_with_intervals(model, X_param, y_param) \n",
    "        metrs[\"parameter\"] = column\n",
    "        metrs[\"model\"] = \"HistGradientBoostingRegressor on flat vector\"\n",
    "        metrs[\"window\"] = window   \n",
    "        parameters_validation.append(metrs)\n",
    "pd.DataFrame(parameters_validation).to_csv(\"HistGradientBoostingRegressor_on_flat_vector.csv\")\n"
   ]
  },
  {
   "cell_type": "markdown",
   "id": "5ddaa744",
   "metadata": {},
   "source": [
    "### Fedot"
   ]
  },
  {
   "cell_type": "markdown",
   "id": "3cd02c41-db57-4bd4-85a6-b966f7b8a0a1",
   "metadata": {},
   "source": [
    "Построим пайплайны с помощью Fedot на каждый из параметров. \n",
    "\n",
    "Будем использовать таймаут 10 минут, так как при дальнейшем продолжении композиции качество не увеличивается на все параметрах"
   ]
  },
  {
   "cell_type": "code",
   "execution_count": 66,
   "id": "08057ee6",
   "metadata": {},
   "outputs": [],
   "source": [
    "def build_fedot():\n",
    "    model = Fedot(problem=\"regression\", timeout=10, cache_folder=\"D:\\\\Cache\") # I changed cache folder path as it tkaes up to 20Gb\n",
    "    return model"
   ]
  },
  {
   "cell_type": "code",
   "execution_count": 65,
   "id": "2e66ea56",
   "metadata": {},
   "outputs": [],
   "source": [
    "class FedotPreprocessor():\n",
    "    def preprocess(self, df, window=2):\n",
    "        data = get_windows(df.copy(), window)\n",
    "        for i, column in enumerate(data.keys()):\n",
    "            data[column][\"X\"] = data[column][\"X\"].reshape(-1, 47*window)\n",
    "        return data"
   ]
  },
  {
   "cell_type": "markdown",
   "id": "b09fd044",
   "metadata": {},
   "source": [
    "И построенные пайплайны с тюнеными параметрами оцениваем кросс-валидацией на тех же данных, что и строили\n"
   ]
  },
  {
   "cell_type": "code",
   "execution_count": 67,
   "id": "ccd89fcf",
   "metadata": {},
   "outputs": [
    {
     "name": "stdout",
     "output_type": "stream",
     "text": [
      "Load pipeline Температура_dinam_fact-1\n",
      "Load pipeline Лимфоциты#_dinam_fact-1\n",
      "Load pipeline АСТ_dinam_fact-1\n",
      "Load pipeline ЧСС_dinam_fact-1\n",
      "Load pipeline ЧДД_dinam_fact-1\n",
      "Load pipeline Билирубин общий_dinam_fact-1\n",
      "Load pipeline MPV- Средн.объем тромбоцитов_dinam_fact-1\n",
      "Load pipeline PCT- Тромбокрит_dinam_fact-1\n",
      "Load pipeline Лимфоциты%_dinam_fact-1\n",
      "Load pipeline снижение_сознания_dinam_fact-1\n",
      "Load pipeline Cтепень тяжести по КТ_dinam_fact-1\n",
      "Load pipeline Лактатдегидрогеназа_dinam_fact-1\n",
      "Load pipeline PDW- Индекс расп.по объему тр._dinam_fact-1\n",
      "Start cross validation\n"
     ]
    },
    {
     "name": "stderr",
     "output_type": "stream",
     "text": [
      "100%|██████████| 13/13 [01:51<00:00,  8.61s/it]\n"
     ]
    },
    {
     "name": "stdout",
     "output_type": "stream",
     "text": [
      "Load pipeline Температура_dinam_fact-2\n",
      "Load pipeline Лимфоциты#_dinam_fact-2\n",
      "Load pipeline АСТ_dinam_fact-2\n",
      "Load pipeline ЧСС_dinam_fact-2\n",
      "Load pipeline ЧДД_dinam_fact-2\n",
      "Load pipeline Билирубин общий_dinam_fact-2\n",
      "Load pipeline MPV- Средн.объем тромбоцитов_dinam_fact-2\n",
      "Load pipeline PCT- Тромбокрит_dinam_fact-2\n",
      "Load pipeline Лимфоциты%_dinam_fact-2\n",
      "Load pipeline снижение_сознания_dinam_fact-2\n",
      "Load pipeline Cтепень тяжести по КТ_dinam_fact-2\n",
      "Load pipeline Лактатдегидрогеназа_dinam_fact-2\n",
      "Load pipeline PDW- Индекс расп.по объему тр._dinam_fact-2\n",
      "Start cross validation\n"
     ]
    },
    {
     "name": "stderr",
     "output_type": "stream",
     "text": [
      "100%|██████████| 13/13 [03:52<00:00, 17.92s/it]\n"
     ]
    },
    {
     "name": "stdout",
     "output_type": "stream",
     "text": [
      "Load pipeline Температура_dinam_fact-3\n",
      "Load pipeline Лимфоциты#_dinam_fact-3\n",
      "Load pipeline АСТ_dinam_fact-3\n",
      "Load pipeline ЧСС_dinam_fact-3\n",
      "Load pipeline ЧДД_dinam_fact-3\n",
      "Load pipeline Билирубин общий_dinam_fact-3\n",
      "Load pipeline MPV- Средн.объем тромбоцитов_dinam_fact-3\n",
      "Load pipeline PCT- Тромбокрит_dinam_fact-3\n",
      "Load pipeline Лимфоциты%_dinam_fact-3\n",
      "Load pipeline снижение_сознания_dinam_fact-3\n",
      "Load pipeline Cтепень тяжести по КТ_dinam_fact-3\n",
      "Load pipeline Лактатдегидрогеназа_dinam_fact-3\n",
      "Load pipeline PDW- Индекс расп.по объему тр._dinam_fact-3\n",
      "Start cross validation\n"
     ]
    },
    {
     "name": "stderr",
     "output_type": "stream",
     "text": [
      "100%|██████████| 13/13 [00:54<00:00,  4.19s/it]\n"
     ]
    },
    {
     "name": "stdout",
     "output_type": "stream",
     "text": [
      "Load pipeline Температура_dinam_fact-4\n",
      "Load pipeline Лимфоциты#_dinam_fact-4\n",
      "Load pipeline АСТ_dinam_fact-4\n",
      "Load pipeline ЧСС_dinam_fact-4\n",
      "Load pipeline ЧДД_dinam_fact-4\n",
      "Load pipeline Билирубин общий_dinam_fact-4\n",
      "Load pipeline MPV- Средн.объем тромбоцитов_dinam_fact-4\n",
      "Load pipeline PCT- Тромбокрит_dinam_fact-4\n",
      "Load pipeline Лимфоциты%_dinam_fact-4\n",
      "Load pipeline снижение_сознания_dinam_fact-4\n",
      "Load pipeline Cтепень тяжести по КТ_dinam_fact-4\n",
      "Load pipeline Лактатдегидрогеназа_dinam_fact-4\n",
      "Load pipeline PDW- Индекс расп.по объему тр._dinam_fact-4\n",
      "Start cross validation\n"
     ]
    },
    {
     "name": "stderr",
     "output_type": "stream",
     "text": [
      "100%|██████████| 13/13 [00:37<00:00,  2.90s/it]\n"
     ]
    },
    {
     "name": "stdout",
     "output_type": "stream",
     "text": [
      "Load pipeline Температура_dinam_fact-5\n",
      "Load pipeline Лимфоциты#_dinam_fact-5\n",
      "Load pipeline АСТ_dinam_fact-5\n",
      "Load pipeline ЧСС_dinam_fact-5\n",
      "Load pipeline ЧДД_dinam_fact-5\n",
      "Load pipeline Билирубин общий_dinam_fact-5\n",
      "Load pipeline MPV- Средн.объем тромбоцитов_dinam_fact-5\n",
      "Load pipeline PCT- Тромбокрит_dinam_fact-5\n",
      "Load pipeline Лимфоциты%_dinam_fact-5\n",
      "Load pipeline снижение_сознания_dinam_fact-5\n",
      "Load pipeline Cтепень тяжести по КТ_dinam_fact-5\n",
      "Load pipeline Лактатдегидрогеназа_dinam_fact-5\n",
      "Load pipeline PDW- Индекс расп.по объему тр._dinam_fact-5\n",
      "Start cross validation\n"
     ]
    },
    {
     "name": "stderr",
     "output_type": "stream",
     "text": [
      "100%|██████████| 13/13 [00:45<00:00,  3.47s/it]\n"
     ]
    }
   ],
   "source": [
    "import os\n",
    "parameters_validation = []\n",
    "preprocessor = FedotPreprocessor()\n",
    "for window in [1, 2, 3, 4, 5]: \n",
    "    data = preprocessor.preprocess(df, window)\n",
    "    pipelines_saved = {}\n",
    "    for col in list(data.keys()):\n",
    "        if (os.path.exists(f\"fedot_pipelines\\\\window_{window}\\\\{col}\")):\n",
    "            print(f\"Load pipeline {col}-{window}\")\n",
    "            pipeline = Pipeline()\n",
    "            pipeline.load(f\"fedot_pipelines\\\\window_{window}\\\\{col}\\\\{col}.json\")\n",
    "            pipelines_saved[col] = pipeline\n",
    "            continue\n",
    "        print(f\"Start composing Fedot pipeline {col}, window size {window}\")\n",
    "        model = build_fedot()\n",
    "        X_param, y_param = data[col][\"X\"], data[col][\"y\"]\n",
    "        try:\n",
    "            pipeline = model.fit(X_param, y_param)\n",
    "        except:\n",
    "            print(f\"Model {col}-{window} is not fitted\")\n",
    "            break\n",
    "        pipelines_saved[col] = pipeline\n",
    "        pipeline.save(f\"fedot_pipelines\\\\window_{window}\\\\{col}\", create_subdir=False, is_datetime_in_path=False)\n",
    "        print(f\"Successfully composed {col} \\n\")\n",
    "    print(\"Start cross validation\")\n",
    "    for column in tqdm(list(pipelines_saved.keys())):\n",
    "        X_param, y_param = data[column][\"X\"], data[column][\"y\"]\n",
    "        model = pipelines_saved[col]\n",
    "        metrs = evaluate_with_intervals(model, X_param, y_param, fedot=True) \n",
    "        metrs[\"parameter\"] = column\n",
    "        metrs[\"model\"] = \"Fedot\"\n",
    "        metrs[\"window\"] = window   \n",
    "        parameters_validation.append(metrs)\n",
    "pd.DataFrame(parameters_validation).to_csv(f\"Fedot_on_flat_vector.csv\")\n"
   ]
  },
  {
   "cell_type": "code",
   "execution_count": 79,
   "id": "e2f41dac",
   "metadata": {},
   "outputs": [],
   "source": [
    "dffedot = pd.DataFrame()\n",
    "for i in range(1, 6):\n",
    "    df_temp = pd.read_csv(f\"D:\\covid\\covid\\Fedot_on_flat_vector_{i}_beta.csv\")\n",
    "    dffedot = pd.concat([dffedot, df_temp])\n",
    "dffedot.drop_duplicates().to_csv(\"Fedot_on_flat_vector.csv\")"
   ]
  },
  {
   "attachments": {},
   "cell_type": "markdown",
   "id": "bea7f37f",
   "metadata": {},
   "source": [
    "# Analytics of results:"
   ]
  },
  {
   "attachments": {},
   "cell_type": "markdown",
   "id": "bc116bdf",
   "metadata": {},
   "source": [
    "# Analytics"
   ]
  },
  {
   "cell_type": "code",
   "execution_count": 138,
   "id": "ce8c0c5e",
   "metadata": {},
   "outputs": [
    {
     "data": {
      "image/png": "[encoded data removed]",
      "text/plain": [
       "<Figure size 432x288 with 1 Axes>"
      ]
     },
     "metadata": {
      "needs_background": "light"
     },
     "output_type": "display_data"
    }
   ],
   "source": [
    "import numpy as np\n",
    "def draw_stat_with_intervals(statistics_df, window=1, parameter=\"Fedot\"):\n",
    "    pldata = statistics_df[statistics_df[\"window\"]==window][[\"right_r2\", \"left_r2\", \"mean_r2\", \"parameter\", \"model\"]]\n",
    "    psnames = [i[:len(i)-11] for i in pldata[\"parameter\"]]\n",
    "    for i in range(pldata.shape[0]):\n",
    "        plt.plot(pldata.iloc[i, 0:2], [i, i], c=\"blue\")\n",
    "        plt.scatter(pldata.iloc[i, 2], [i], c=\"blue\", marker=\"*\")\n",
    "    plt.title(f\"R2 on {parameter} model with window 2 week (with intervals)\")\n",
    "    plt.xlabel(\"R2\")\n",
    "    plt.yticks(range(len(psnames)), psnames , size='small')\n",
    "    plt.xlim((-0.6, 1))\n",
    "    plt.show()\n",
    "\n",
    "linear_regression_stat_df = pd.read_csv(\"HistGradientBoostingRegressor_on_flat_vector.csv\")\n",
    "draw_stat_with_intervals(linear_regression_stat_df, 4, \"HistGradientBoostingRegressor\")\n"
   ]
  },
  {
   "cell_type": "code",
   "execution_count": 140,
   "id": "d86fc9a5",
   "metadata": {},
   "outputs": [
    {
     "data": {
      "image/png": "[encoded data removed]",
      "text/plain": [
       "<Figure size 432x288 with 1 Axes>"
      ]
     },
     "metadata": {
      "needs_background": "light"
     },
     "output_type": "display_data"
    }
   ],
   "source": [
    "\n",
    "def draw_stat_with_intervals_compare(statistics_df_A, statistics_df_B, window=2, title=\"R2 on LinearRegression and Fedot with window 2\"):\n",
    "    pldata = statistics_df_A[[\"right_r2\", \"left_r2\", \"mean_r2\", \"parameter\", \"model\"]]\n",
    "    psnames = pldata[\"parameter\"]\n",
    "    for i in range(pldata.shape[0]):\n",
    "        plt.plot(pldata.iloc[i, 0:2], [i, i], c=\"blue\")\n",
    "        plt.scatter(pldata.iloc[i, 2], [i], c=\"blue\", marker=\"*\")\n",
    "    pldata = statistics_df_B[[\"right_r2\", \"left_r2\", \"mean_r2\", \"parameter\", \"model\"]]\n",
    "    for i in range(pldata.shape[0]):\n",
    "        plt.plot(pldata.iloc[i, 0:2], [i+0.2, i+0.2], c=\"red\")\n",
    "        plt.scatter(pldata.iloc[i, 2], [i+0.2], c=\"red\", marker=\"o\")\n",
    "    plt.title(title)\n",
    "    plt.xlabel(\"R2\")\n",
    "    plt.yticks(range(len(psnames)), psnames , size='small')\n",
    "    plt.xlim((-0.6, 1))\n",
    "\n",
    "\n",
    "linear_regression_stat_df = pd.read_csv(\"D:\\covid\\covid\\LSTM.csv\")\n",
    "grad_regression_stat_df = pd.read_csv(\"D:\\covid\\covid\\LinearRegression_on_flatten_vector.csv\")\n",
    "draw_stat_with_intervals_compare(grad_regression_stat_df[grad_regression_stat_df[\"window\"]==3], linear_regression_stat_df[linear_regression_stat_df[\"window\"]==1], \"R2 on LinearRegression and Fedot with window 2\")"
   ]
  },
  {
   "cell_type": "code",
   "execution_count": 141,
   "id": "644ba569",
   "metadata": {},
   "outputs": [
    {
     "data": {
      "image/png": "[encoded data removed]",
      "text/plain": [
       "<Figure size 432x288 with 1 Axes>"
      ]
     },
     "metadata": {
      "needs_background": "light"
     },
     "output_type": "display_data"
    }
   ],
   "source": [
    "linear_regression_stat_df = pd.read_csv(\"D:\\covid\\covid\\LSTM.csv\")\n",
    "grad_regression_stat_df = pd.read_csv(\"D:\\covid\\covid\\HistGradientBoostingRegressor_on_flat_vector.csv\")\n",
    "draw_stat_with_intervals_compare(grad_regression_stat_df[grad_regression_stat_df[\"window\"]==4], linear_regression_stat_df[linear_regression_stat_df[\"window\"]==1], \"R2 on HistGradientBoosting and Fedot with window 2\")"
   ]
  },
  {
   "cell_type": "code",
   "execution_count": 142,
   "id": "8a4d51e9",
   "metadata": {},
   "outputs": [
    {
     "data": {
      "image/png": "[encoded data removed]",
      "text/plain": [
       "<Figure size 432x288 with 1 Axes>"
      ]
     },
     "metadata": {
      "needs_background": "light"
     },
     "output_type": "display_data"
    }
   ],
   "source": [
    "linear_regression_stat_df = pd.read_csv(\"D:\\covid\\covid\\LSTM.csv\")\n",
    "grad_regression_stat_df = pd.read_csv(\"D:\\covid\\covid\\Fedot_on_flat_vector.csv\")\n",
    "draw_stat_with_intervals_compare(grad_regression_stat_df[grad_regression_stat_df[\"window\"]==3], linear_regression_stat_df[linear_regression_stat_df[\"window\"]==2])"
   ]
  },
  {
   "cell_type": "code",
   "execution_count": 139,
   "id": "2dee1f73",
   "metadata": {},
   "outputs": [
    {
     "data": {
      "image/png": "[encoded data removed]",
      "text/plain": [
       "<Figure size 432x288 with 1 Axes>"
      ]
     },
     "metadata": {
      "needs_background": "light"
     },
     "output_type": "display_data"
    }
   ],
   "source": [
    "linear_regression_stat_df = pd.read_csv(\"D:\\covid\\covid\\LSTM.csv\")\n",
    "grad_regression_stat_df = pd.read_csv(\"D:\\covid\\covid\\Fedot_on_flat_vector.csv\")\n",
    "draw_stat_with_intervals(linear_regression_stat_df, 1)"
   ]
  },
  {
   "cell_type": "code",
   "execution_count": null,
   "id": "a5678bb3",
   "metadata": {},
   "outputs": [],
   "source": []
  }
 ],
 "metadata": {
  "kernelspec": {
   "display_name": "Python 3 (ipykernel)",
   "language": "python",
   "name": "python3"
  },
  "language_info": {
   "codemirror_mode": {
    "name": "ipython",
    "version": 3
   },
   "file_extension": ".py",
   "mimetype": "text/x-python",
   "name": "python",
   "nbconvert_exporter": "python",
   "pygments_lexer": "ipython3",
   "version": "3.10.5"
  }
 },
 "nbformat": 4,
 "nbformat_minor": 5
}
